{
 "cells": [
  {
   "cell_type": "code",
   "execution_count": 3,
   "id": "84b454c7",
   "metadata": {},
   "outputs": [],
   "source": [
    "# file handling in python\n",
    "# write a file (w)\n",
    "\n",
    "with open(\"cwpc.txt\", \"w\") as file:\n",
    "    file.write(\"This is a test file.\\n\")\n",
    "    file.write(\"It contains some sample text.\\n\")"
   ]
  },
  {
   "cell_type": "code",
   "execution_count": 4,
   "id": "a29db905",
   "metadata": {},
   "outputs": [
    {
     "name": "stdout",
     "output_type": "stream",
     "text": [
      "This is a test file.\n",
      "It contains some sample text.\n",
      "\n"
     ]
    }
   ],
   "source": [
    "# read a file (r)\n",
    "with open(\"cwpc.txt\", \"r\") as file:\n",
    "    content = file.read()\n",
    "    print(content)"
   ]
  },
  {
   "cell_type": "code",
   "execution_count": 5,
   "id": "51d3ab9f",
   "metadata": {},
   "outputs": [
    {
     "name": "stdout",
     "output_type": "stream",
     "text": [
      "This is a test file.\n",
      "It contains some sample text.\n",
      "This line is appended to the file.\n",
      "\n"
     ]
    }
   ],
   "source": [
    "# append to a file (a)\n",
    "with open(\"cwpc.txt\", \"a\") as file:\n",
    "    file.write(\"This line is appended to the file.\\n\")\n",
    "with open(\"cwpc.txt\", \"r\") as file:\n",
    "    content = file.read()\n",
    "    print(content)"
   ]
  },
  {
   "cell_type": "code",
   "execution_count": 3,
   "id": "661150c2",
   "metadata": {},
   "outputs": [
    {
     "name": "stdout",
     "output_type": "stream",
     "text": [
      "Collecting openpyxl\n",
      "  Downloading openpyxl-3.1.5-py2.py3-none-any.whl.metadata (2.5 kB)\n",
      "Collecting et-xmlfile (from openpyxl)\n",
      "  Downloading et_xmlfile-2.0.0-py3-none-any.whl.metadata (2.7 kB)\n",
      "Downloading openpyxl-3.1.5-py2.py3-none-any.whl (250 kB)\n",
      "Downloading et_xmlfile-2.0.0-py3-none-any.whl (18 kB)\n",
      "Installing collected packages: et-xmlfile, openpyxl\n",
      "\n",
      "   -------------------- ------------------- 1/2 [openpyxl]\n",
      "   -------------------- ------------------- 1/2 [openpyxl]\n",
      "   -------------------- ------------------- 1/2 [openpyxl]\n",
      "   -------------------- ------------------- 1/2 [openpyxl]\n",
      "   -------------------- ------------------- 1/2 [openpyxl]\n",
      "   -------------------- ------------------- 1/2 [openpyxl]\n",
      "   -------------------- ------------------- 1/2 [openpyxl]\n",
      "   -------------------- ------------------- 1/2 [openpyxl]\n",
      "   -------------------- ------------------- 1/2 [openpyxl]\n",
      "   -------------------- ------------------- 1/2 [openpyxl]\n",
      "   -------------------- ------------------- 1/2 [openpyxl]\n",
      "   -------------------- ------------------- 1/2 [openpyxl]\n",
      "   -------------------- ------------------- 1/2 [openpyxl]\n",
      "   -------------------- ------------------- 1/2 [openpyxl]\n",
      "   -------------------- ------------------- 1/2 [openpyxl]\n",
      "   -------------------- ------------------- 1/2 [openpyxl]\n",
      "   ---------------------------------------- 2/2 [openpyxl]\n",
      "\n",
      "Successfully installed et-xmlfile-2.0.0 openpyxl-3.1.5\n",
      "Note: you may need to restart the kernel to use updated packages.\n"
     ]
    }
   ],
   "source": [
    "# read excle file\n",
    "# install modules \n",
    "%pip install openpyxl "
   ]
  },
  {
   "cell_type": "code",
   "execution_count": 4,
   "id": "9f11236c",
   "metadata": {},
   "outputs": [
    {
     "name": "stdout",
     "output_type": "stream",
     "text": [
      "('EmployeeID', 'JobTitle', 'CityLocationID', 'Salary')\n",
      "(1, 'Software Engineer', 101, 85000)\n",
      "(2, 'Data Analyst', 102, 72000)\n",
      "(3, 'Project Manager', 103, 95000)\n",
      "(4, 'HR Manager', 104, 78000)\n",
      "(5, 'Marketing Director', 105, 105000)\n",
      "(6, 'Sales Executive', 106, 60000)\n",
      "(7, 'IT Support Specialist', 101, 55000)\n",
      "(8, 'Financial Analyst', 107, 92000)\n",
      "(9, 'Graphic Designer', 108, 62000)\n",
      "(10, 'Business Consultant', 109, 105000)\n",
      "(11, 'Software Developer', 101, 95000)\n",
      "(12, 'Operations Manager', 110, 80000)\n",
      "(13, 'Content Writer', 102, 55000)\n",
      "(14, 'Executive Assistant', 111, 45000)\n",
      "(15, 'Database Administrator', 103, 90000)\n",
      "(16, 'Marketing Manager', 104, 80000)\n",
      "(17, 'Customer Support Specialist', 105, 48000)\n",
      "(18, 'Product Manager', 106, 102000)\n",
      "(19, 'Network Engineer', 107, 87000)\n",
      "(20, 'Business Analyst', 108, 75000)\n"
     ]
    }
   ],
   "source": [
    "# using openpyxl\n",
    "from openpyxl import load_workbook\n",
    "\n",
    "wb = load_workbook(filename = 'employee.xlsx')\n",
    "\n",
    "# select the first sheet\n",
    "sheet = wb['Sheet1']\n",
    "\n",
    "# read data from excel file\n",
    "\n",
    "for row in sheet.iter_rows(values_only=True):\n",
    "    print(row)"
   ]
  },
  {
   "cell_type": "code",
   "execution_count": 5,
   "id": "ffdce118",
   "metadata": {},
   "outputs": [
    {
     "name": "stdout",
     "output_type": "stream",
     "text": [
      "['Name', 'Age', 'Country']\n",
      "['Alice', '28', 'USA']\n",
      "['Bob', '35', 'Canada']\n",
      "['Charlie', '22', 'UK']\n"
     ]
    }
   ],
   "source": [
    "# read csv file\n",
    "import csv\n",
    "with open('data.csv', mode='r') as file:\n",
    "    csv_reader = csv.reader(file)\n",
    "    for row in csv_reader:\n",
    "        print(row)"
   ]
  }
 ],
 "metadata": {
  "kernelspec": {
   "display_name": "Python 3",
   "language": "python",
   "name": "python3"
  },
  "language_info": {
   "codemirror_mode": {
    "name": "ipython",
    "version": 3
   },
   "file_extension": ".py",
   "mimetype": "text/x-python",
   "name": "python",
   "nbconvert_exporter": "python",
   "pygments_lexer": "ipython3",
   "version": "3.13.5"
  }
 },
 "nbformat": 4,
 "nbformat_minor": 5
}
