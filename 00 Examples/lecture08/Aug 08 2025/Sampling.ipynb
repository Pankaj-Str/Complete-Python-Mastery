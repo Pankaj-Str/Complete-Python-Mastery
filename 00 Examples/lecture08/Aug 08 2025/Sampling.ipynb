{
 "cells": [
  {
   "cell_type": "code",
   "execution_count": 2,
   "id": "8dc7751e",
   "metadata": {},
   "outputs": [
    {
     "name": "stdout",
     "output_type": "stream",
     "text": [
      "Collecting scikit-learn\n",
      "  Downloading scikit_learn-1.7.1-cp311-cp311-win_amd64.whl (8.9 MB)\n",
      "                                              0.0/8.9 MB ? eta -:--:--\n",
      "                                              0.2/8.9 MB 3.3 MB/s eta 0:00:03\n",
      "     -                                        0.4/8.9 MB 5.4 MB/s eta 0:00:02\n",
      "     -                                        0.4/8.9 MB 5.4 MB/s eta 0:00:02\n",
      "     -------                                  1.6/8.9 MB 8.3 MB/s eta 0:00:01\n",
      "     ---------                                2.0/8.9 MB 8.5 MB/s eta 0:00:01\n",
      "     ----------                               2.4/8.9 MB 8.5 MB/s eta 0:00:01\n",
      "     ------------                             2.8/8.9 MB 8.5 MB/s eta 0:00:01\n",
      "     --------------                           3.3/8.9 MB 8.7 MB/s eta 0:00:01\n",
      "     ----------------                         3.7/8.9 MB 8.7 MB/s eta 0:00:01\n",
      "     ------------------                       4.1/8.9 MB 8.7 MB/s eta 0:00:01\n",
      "     -------------------                      4.5/8.9 MB 8.6 MB/s eta 0:00:01\n",
      "     ----------------------                   4.9/8.9 MB 8.7 MB/s eta 0:00:01\n",
      "     ------------------------                 5.4/8.9 MB 8.6 MB/s eta 0:00:01\n",
      "     -------------------------                5.8/8.9 MB 8.6 MB/s eta 0:00:01\n",
      "     ---------------------------              6.2/8.9 MB 8.6 MB/s eta 0:00:01\n",
      "     -----------------------------            6.6/8.9 MB 8.7 MB/s eta 0:00:01\n",
      "     -------------------------------          7.1/8.9 MB 8.7 MB/s eta 0:00:01\n",
      "     ---------------------------------        7.4/8.9 MB 8.8 MB/s eta 0:00:01\n",
      "     ---------------------------------        7.4/8.9 MB 8.8 MB/s eta 0:00:01\n",
      "     -------------------------------------    8.3/8.9 MB 8.7 MB/s eta 0:00:01\n",
      "     ---------------------------------------  8.8/8.9 MB 8.8 MB/s eta 0:00:01\n",
      "     ---------------------------------------  8.9/8.9 MB 8.8 MB/s eta 0:00:01\n",
      "     ---------------------------------------- 8.9/8.9 MB 8.3 MB/s eta 0:00:00\n",
      "Requirement already satisfied: numpy>=1.22.0 in c:\\users\\admin\\appdata\\local\\programs\\python\\python311\\lib\\site-packages (from scikit-learn) (2.3.1)\n",
      "Collecting scipy>=1.8.0 (from scikit-learn)\n",
      "  Downloading scipy-1.16.1-cp311-cp311-win_amd64.whl (38.6 MB)\n",
      "                                              0.0/38.6 MB ? eta -:--:--\n",
      "                                              0.6/38.6 MB 12.2 MB/s eta 0:00:04\n",
      "     -                                        1.0/38.6 MB 10.5 MB/s eta 0:00:04\n",
      "     -                                        1.5/38.6 MB 10.4 MB/s eta 0:00:04\n",
      "     -                                        1.8/38.6 MB 10.7 MB/s eta 0:00:04\n",
      "     --                                       2.3/38.6 MB 10.5 MB/s eta 0:00:04\n",
      "     --                                       2.9/38.6 MB 10.1 MB/s eta 0:00:04\n",
      "     ---                                      3.3/38.6 MB 10.1 MB/s eta 0:00:04\n",
      "     ---                                      3.8/38.6 MB 10.0 MB/s eta 0:00:04\n",
      "     ----                                     4.1/38.6 MB 10.1 MB/s eta 0:00:04\n",
      "     ----                                     4.7/38.6 MB 10.1 MB/s eta 0:00:04\n",
      "     -----                                    5.1/38.6 MB 9.9 MB/s eta 0:00:04\n",
      "     -----                                    5.6/38.6 MB 9.9 MB/s eta 0:00:04\n",
      "     ------                                   6.1/38.6 MB 10.0 MB/s eta 0:00:04\n",
      "     ------                                   6.6/38.6 MB 10.1 MB/s eta 0:00:04\n",
      "     -------                                  7.1/38.6 MB 9.9 MB/s eta 0:00:04\n",
      "     -------                                  7.6/38.6 MB 9.9 MB/s eta 0:00:04\n",
      "     --------                                 8.1/38.6 MB 9.9 MB/s eta 0:00:04\n",
      "     --------                                 8.6/38.6 MB 10.0 MB/s eta 0:00:04\n",
      "     ---------                                9.0/38.6 MB 9.9 MB/s eta 0:00:03\n",
      "     ---------                                9.5/38.6 MB 10.0 MB/s eta 0:00:03\n",
      "     ----------                              10.0/38.6 MB 10.0 MB/s eta 0:00:03\n",
      "     ----------                               10.5/38.6 MB 9.9 MB/s eta 0:00:03\n",
      "     -----------                              10.9/38.6 MB 9.9 MB/s eta 0:00:03\n",
      "     -----------                              11.5/38.6 MB 9.9 MB/s eta 0:00:03\n",
      "     ------------                             11.9/38.6 MB 9.9 MB/s eta 0:00:03\n",
      "     ------------                            12.5/38.6 MB 10.1 MB/s eta 0:00:03\n",
      "     -------------                           13.0/38.6 MB 10.2 MB/s eta 0:00:03\n",
      "     -------------                           13.5/38.6 MB 10.2 MB/s eta 0:00:03\n",
      "     --------------                          14.0/38.6 MB 10.2 MB/s eta 0:00:03\n",
      "     --------------                          14.6/38.6 MB 10.4 MB/s eta 0:00:03\n",
      "     ---------------                         15.1/38.6 MB 10.4 MB/s eta 0:00:03\n",
      "     ---------------                         15.6/38.6 MB 10.4 MB/s eta 0:00:03\n",
      "     ----------------                        15.9/38.6 MB 10.6 MB/s eta 0:00:03\n",
      "     ----------------                        16.6/38.6 MB 10.6 MB/s eta 0:00:03\n",
      "     -----------------                       17.2/38.6 MB 10.6 MB/s eta 0:00:03\n",
      "     -----------------                       17.7/38.6 MB 10.6 MB/s eta 0:00:02\n",
      "     ------------------                      18.2/38.6 MB 10.6 MB/s eta 0:00:02\n",
      "     ------------------                      18.5/38.6 MB 10.6 MB/s eta 0:00:02\n",
      "     -------------------                     19.2/38.6 MB 10.6 MB/s eta 0:00:02\n",
      "     -------------------                     19.8/38.6 MB 10.7 MB/s eta 0:00:02\n",
      "     --------------------                    20.3/38.6 MB 10.7 MB/s eta 0:00:02\n",
      "     ---------------------                   20.8/38.6 MB 10.9 MB/s eta 0:00:02\n",
      "     ---------------------                   21.4/38.6 MB 10.9 MB/s eta 0:00:02\n",
      "     ----------------------                  21.9/38.6 MB 10.9 MB/s eta 0:00:02\n",
      "     ----------------------                  22.4/38.6 MB 11.3 MB/s eta 0:00:02\n",
      "     -----------------------                 23.0/38.6 MB 11.1 MB/s eta 0:00:02\n",
      "     -----------------------                 23.6/38.6 MB 11.1 MB/s eta 0:00:02\n",
      "     ------------------------                24.1/38.6 MB 11.3 MB/s eta 0:00:02\n",
      "     ------------------------                24.6/38.6 MB 11.1 MB/s eta 0:00:02\n",
      "     -------------------------               25.3/38.6 MB 11.1 MB/s eta 0:00:02\n",
      "     --------------------------              25.8/38.6 MB 11.3 MB/s eta 0:00:02\n",
      "     --------------------------              26.4/38.6 MB 11.7 MB/s eta 0:00:02\n",
      "     ---------------------------             26.9/38.6 MB 11.3 MB/s eta 0:00:02\n",
      "     ---------------------------             27.5/38.6 MB 11.3 MB/s eta 0:00:01\n",
      "     ----------------------------            28.0/38.6 MB 11.3 MB/s eta 0:00:01\n",
      "     ----------------------------            28.6/38.6 MB 11.5 MB/s eta 0:00:01\n",
      "     -----------------------------           29.2/38.6 MB 11.7 MB/s eta 0:00:01\n",
      "     -----------------------------           29.7/38.6 MB 11.7 MB/s eta 0:00:01\n",
      "     ------------------------------          30.3/38.6 MB 11.5 MB/s eta 0:00:01\n",
      "     -------------------------------         30.8/38.6 MB 11.7 MB/s eta 0:00:01\n",
      "     -------------------------------         31.4/38.6 MB 11.7 MB/s eta 0:00:01\n",
      "     --------------------------------        31.9/38.6 MB 11.7 MB/s eta 0:00:01\n",
      "     --------------------------------        32.5/38.6 MB 11.7 MB/s eta 0:00:01\n",
      "     ---------------------------------       32.9/38.6 MB 11.5 MB/s eta 0:00:01\n",
      "     ---------------------------------       33.3/38.6 MB 11.5 MB/s eta 0:00:01\n",
      "     ----------------------------------      33.8/38.6 MB 11.1 MB/s eta 0:00:01\n",
      "     ----------------------------------      34.2/38.6 MB 11.1 MB/s eta 0:00:01\n",
      "     ----------------------------------      34.6/38.6 MB 11.1 MB/s eta 0:00:01\n",
      "     -----------------------------------     34.9/38.6 MB 10.9 MB/s eta 0:00:01\n",
      "     -----------------------------------     35.4/38.6 MB 10.6 MB/s eta 0:00:01\n",
      "     ------------------------------------    35.9/38.6 MB 10.6 MB/s eta 0:00:01\n",
      "     ------------------------------------    36.4/38.6 MB 10.4 MB/s eta 0:00:01\n",
      "     -------------------------------------   36.8/38.6 MB 10.4 MB/s eta 0:00:01\n",
      "     -------------------------------------   37.2/38.6 MB 10.4 MB/s eta 0:00:01\n",
      "     --------------------------------------  37.7/38.6 MB 10.2 MB/s eta 0:00:01\n",
      "     --------------------------------------  38.2/38.6 MB 10.1 MB/s eta 0:00:01\n",
      "     --------------------------------------  38.6/38.6 MB 10.1 MB/s eta 0:00:01\n",
      "     --------------------------------------  38.6/38.6 MB 10.1 MB/s eta 0:00:01\n",
      "     --------------------------------------  38.6/38.6 MB 10.1 MB/s eta 0:00:01\n",
      "     --------------------------------------  38.6/38.6 MB 10.1 MB/s eta 0:00:01\n",
      "     --------------------------------------  38.6/38.6 MB 10.1 MB/s eta 0:00:01\n",
      "     ---------------------------------------- 38.6/38.6 MB 7.8 MB/s eta 0:00:00\n",
      "Collecting joblib>=1.2.0 (from scikit-learn)\n",
      "  Downloading joblib-1.5.1-py3-none-any.whl (307 kB)\n",
      "                                              0.0/307.7 kB ? eta -:--:--\n",
      "     -------------------------------------- 307.7/307.7 kB 9.6 MB/s eta 0:00:00\n",
      "Collecting threadpoolctl>=3.1.0 (from scikit-learn)\n",
      "  Downloading threadpoolctl-3.6.0-py3-none-any.whl (18 kB)\n",
      "Installing collected packages: threadpoolctl, scipy, joblib, scikit-learn\n",
      "Successfully installed joblib-1.5.1 scikit-learn-1.7.1 scipy-1.16.1 threadpoolctl-3.6.0\n",
      "Note: you may need to restart the kernel to use updated packages.\n"
     ]
    },
    {
     "name": "stderr",
     "output_type": "stream",
     "text": [
      "\n",
      "[notice] A new release of pip is available: 23.1.2 -> 25.2\n",
      "[notice] To update, run: python.exe -m pip install --upgrade pip\n"
     ]
    }
   ],
   "source": [
    "%pip install scikit-learn"
   ]
  },
  {
   "cell_type": "code",
   "execution_count": 15,
   "id": "8f8622c1",
   "metadata": {},
   "outputs": [],
   "source": [
    "# %pip install scikit-learn\n",
    "import pandas as pd\n",
    "import numpy as np\n",
    "from sklearn.datasets import make_classification\n",
    "from sklearn.model_selection import train_test_split"
   ]
  },
  {
   "cell_type": "code",
   "execution_count": 9,
   "id": "045fa029",
   "metadata": {},
   "outputs": [],
   "source": [
    "# generate a dataset\n",
    "X , y = make_classification(n_samples=1000,n_features=4 , n_classes=2 , random_state=56)\n",
    "data = pd.DataFrame(X , columns=['Feature1','Feature2','Feature3','Feature4'])\n",
    "data['Target'] = y"
   ]
  },
  {
   "cell_type": "code",
   "execution_count": 10,
   "id": "8fef4a98",
   "metadata": {},
   "outputs": [],
   "source": [
    "# random sampling \n",
    "sample_size = 200 # select 200 samples \n",
    "random_sample = data.sample(n=sample_size, random_state=56)"
   ]
  },
  {
   "cell_type": "code",
   "execution_count": 11,
   "id": "9258b426",
   "metadata": {},
   "outputs": [
    {
     "name": "stdout",
     "output_type": "stream",
     "text": [
      "   Feature1  Feature2  Feature3  Feature4  Target\n",
      "0 -2.037352  0.031490  1.381224 -0.785081       0\n",
      "1  0.002328  1.140645  1.435900  1.457763       1\n",
      "2 -1.561715 -0.891341 -0.094915 -1.771037       0\n",
      "3  2.194541  0.122895 -1.290172  1.045935       0\n",
      "4  1.066156  0.306203 -0.316159  0.822963       0\n"
     ]
    }
   ],
   "source": [
    "# display data \n",
    "print(data.head())"
   ]
  },
  {
   "cell_type": "code",
   "execution_count": 13,
   "id": "2ca67a87",
   "metadata": {},
   "outputs": [
    {
     "name": "stdout",
     "output_type": "stream",
     "text": [
      "     Feature1  Feature2  Feature3  Feature4  Target\n",
      "213  0.241098  0.287665  0.203757  0.465067       0\n",
      "552 -0.036712  0.304839  0.408330  0.374465       1\n",
      "412 -0.517835  0.140034  0.517450 -0.030917       0\n",
      "112 -2.052454 -0.139107  1.176183 -1.009083       1\n",
      "831 -0.541032  0.380242  0.835432  0.266477       0\n"
     ]
    }
   ],
   "source": [
    "print(random_sample.head())"
   ]
  },
  {
   "cell_type": "code",
   "execution_count": 14,
   "id": "117f1031",
   "metadata": {},
   "outputs": [
    {
     "name": "stdout",
     "output_type": "stream",
     "text": [
      "1000\n",
      "200\n"
     ]
    }
   ],
   "source": [
    "print(len(data))\n",
    "print(len(random_sample))"
   ]
  },
  {
   "cell_type": "code",
   "execution_count": 16,
   "id": "3d4f3abf",
   "metadata": {},
   "outputs": [],
   "source": [
    "sample_size  = 0.2 # 20%\n",
    "startifed_sample, _ =  train_test_split(data,test_size=(1-sample_size),stratify=data['Target'],random_state=56)"
   ]
  },
  {
   "cell_type": "code",
   "execution_count": 19,
   "id": "a1a6002c",
   "metadata": {},
   "outputs": [
    {
     "name": "stdout",
     "output_type": "stream",
     "text": [
      "Target\n",
      "0    0.501\n",
      "1    0.499\n",
      "Name: proportion, dtype: float64\n",
      "Target\n",
      "1    0.5\n",
      "0    0.5\n",
      "Name: proportion, dtype: float64\n"
     ]
    }
   ],
   "source": [
    "print(data['Target'].value_counts(normalize=True))\n",
    "print(startifed_sample['Target'].value_counts(normalize=True))"
   ]
  }
 ],
 "metadata": {
  "kernelspec": {
   "display_name": "Python 3",
   "language": "python",
   "name": "python3"
  },
  "language_info": {
   "codemirror_mode": {
    "name": "ipython",
    "version": 3
   },
   "file_extension": ".py",
   "mimetype": "text/x-python",
   "name": "python",
   "nbconvert_exporter": "python",
   "pygments_lexer": "ipython3",
   "version": "3.11.4"
  }
 },
 "nbformat": 4,
 "nbformat_minor": 5
}
