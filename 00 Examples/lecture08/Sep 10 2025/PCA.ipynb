{
 "cells": [
  {
   "cell_type": "code",
   "execution_count": null,
   "id": "60131adb",
   "metadata": {},
   "outputs": [],
   "source": [
    "# https://raw.githubusercontent.com/Pankaj-Str/Complete-Python-Mastery/refs/heads/main/53%20DataSet/credit_card_transactions.csv"
   ]
  },
  {
   "cell_type": "code",
   "execution_count": null,
   "id": "8742ce61",
   "metadata": {},
   "outputs": [],
   "source": [
    "import pandas as pd\n",
    "import numpy as np\n",
    "from sklearn.decomposition import PCA"
   ]
  }
 ],
 "metadata": {
  "language_info": {
   "name": "python"
  }
 },
 "nbformat": 4,
 "nbformat_minor": 5
}
