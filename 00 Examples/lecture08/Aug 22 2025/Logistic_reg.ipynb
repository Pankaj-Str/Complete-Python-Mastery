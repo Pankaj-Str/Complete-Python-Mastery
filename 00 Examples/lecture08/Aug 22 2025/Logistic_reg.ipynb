{
 "cells": [
  {
   "cell_type": "code",
   "execution_count": 44,
   "id": "1174b7e8",
   "metadata": {},
   "outputs": [],
   "source": [
    "import numpy as np\n",
    "import pandas as pd\n",
    "\n",
    "\n",
    "# set random seed \n",
    "np.random.seed(42)\n",
    "\n",
    "n_samples = 2000\n",
    "\n",
    "study_hours = np.random.normal(5,2,n_samples).clip(0,10) # mean 5 , std 2 ,clipped = 0-10\n",
    "sleep_hours = np.random.normal(7,2,n_samples).clip(4,10)\n",
    "prior_test_score = np.random.normal(40,15,n_samples).clip(0,100)\n",
    "\n",
    "# simulate pass/Fail (1/0)\n",
    "logit = -5 + 0.5 * study_hours + 0.3 * sleep_hours + 0.05 * prior_test_score\n",
    "probs = 1 / (1 + np.exp(-logit)) # sigmoid\n",
    "pass_exam = (probs > 0.5 + np.random.normal(0,0.1,n_samples)).astype(int)\n",
    "\n",
    "# create a dataframe\n",
    "data = pd.DataFrame({\n",
    "    'study_hours':study_hours,\n",
    "    'sleep_hours':sleep_hours,\n",
    "    'prior_test_score':prior_test_score,\n",
    "    'pass_exam':pass_exam\n",
    "})\n",
    "\n",
    "# save csv\n",
    "data .to_csv('student_data.csv',index=False)"
   ]
  },
  {
   "cell_type": "code",
   "execution_count": 45,
   "id": "e5f9b16c",
   "metadata": {},
   "outputs": [
    {
     "name": "stdout",
     "output_type": "stream",
     "text": [
      "   study_hours  sleep_hours  prior_test_score  pass_exam\n",
      "0     5.993428     5.649643         27.047596          1\n",
      "1     4.723471     6.710963         39.531948          1\n",
      "2     6.295377     5.415160         40.270253          1\n",
      "3     8.046060     6.384077         47.089455          1\n",
      "4     4.531693     4.000000         19.497125          0\n"
     ]
    }
   ],
   "source": [
    "print(data.head())"
   ]
  },
  {
   "cell_type": "code",
   "execution_count": 46,
   "id": "ebff7ebe",
   "metadata": {},
   "outputs": [],
   "source": [
    "from sklearn.model_selection import train_test_split\n",
    "from sklearn.linear_model import LogisticRegression\n",
    "from sklearn.metrics import accuracy_score , confusion_matrix\n",
    "import matplotlib.pyplot as plt\n",
    "import seaborn as sns"
   ]
  },
  {
   "cell_type": "code",
   "execution_count": 47,
   "id": "88179274",
   "metadata": {},
   "outputs": [],
   "source": [
    "# load dataset \n",
    "data = pd.read_csv('student_data.csv')"
   ]
  },
  {
   "cell_type": "code",
   "execution_count": 48,
   "id": "6ea6ce61",
   "metadata": {},
   "outputs": [],
   "source": [
    "X = data[['study_hours','sleep_hours','prior_test_score']]\n",
    "y = data['pass_exam']"
   ]
  },
  {
   "cell_type": "code",
   "execution_count": 49,
   "id": "8ffd5687",
   "metadata": {},
   "outputs": [],
   "source": [
    "# split data into traning and testing set \n",
    "X_train , X_test , y_train , y_test = train_test_split(X,y ,test_size = 0.2, random_state=42)"
   ]
  },
  {
   "cell_type": "code",
   "execution_count": 50,
   "id": "89066ea9",
   "metadata": {},
   "outputs": [
    {
     "name": "stdout",
     "output_type": "stream",
     "text": [
      "0.94\n",
      "[[ 27  18]\n",
      " [  6 349]]\n",
      "[1 0 1 1 0 1 1 1 1 1 1 1 1 1 1 1 1 1 1 1 1 1 1 1 1 1 1 1 1 1 1 1 1 1 1 1 1\n",
      " 1 1 0 1 1 1 1 1 1 1 1 1 1 1 1 1 1 1 1 1 0 1 1 1 1 0 1 1 0 1 1 1 1 1 1 1 1\n",
      " 1 1 1 1 1 0 1 1 1 1 1 1 1 1 1 1 1 1 1 1 1 1 1 1 1 1 1 1 0 1 1 1 1 1 0 1 0\n",
      " 1 0 1 1 0 1 1 1 1 1 1 1 1 1 1 1 1 1 1 0 1 1 0 1 1 1 1 1 1 1 1 1 1 1 1 1 1\n",
      " 1 1 1 1 1 1 1 1 1 1 1 1 1 0 1 1 1 0 1 1 1 1 1 1 1 1 1 1 0 1 1 1 1 1 1 1 1\n",
      " 1 1 1 1 1 1 1 1 1 1 1 1 1 1 1 1 0 1 1 1 1 1 1 0 0 1 1 1 1 1 0 1 1 1 1 1 1\n",
      " 1 1 1 1 1 0 1 1 1 1 1 1 1 0 1 1 1 1 1 1 1 0 1 1 1 1 1 1 1 1 1 1 1 1 1 1 1\n",
      " 1 1 1 1 1 1 0 1 1 1 1 1 1 1 1 1 1 1 1 1 1 1 1 0 1 1 1 1 1 1 1 1 1 1 1 1 1\n",
      " 1 0 1 1 1 1 1 1 1 1 1 1 1 1 1 1 1 1 1 1 1 1 1 1 1 1 1 1 1 1 1 0 1 1 0 1 1\n",
      " 1 1 1 1 1 1 1 1 1 1 1 1 1 1 1 1 1 1 1 1 1 1 1 1 1 1 1 0 0 0 1 1 1 1 1 1 1\n",
      " 1 1 1 1 1 1 1 1 1 1 1 1 1 1 1 1 1 1 1 1 0 1 1 1 1 1 1 1 1 1]\n"
     ]
    }
   ],
   "source": [
    "# model\n",
    "model = LogisticRegression(max_iter=200)\n",
    "model.fit(X_train,y_train)\n",
    "\n",
    "# predict on test data\n",
    "y_pred = model.predict(X_test)\n",
    "accuracy = accuracy_score(y_test,y_pred)\n",
    "print(accuracy)\n",
    "conf_matrix = confusion_matrix(y_test,y_pred)\n",
    "print(conf_matrix)\n",
    "\n",
    "print(y_pred)"
   ]
  },
  {
   "cell_type": "code",
   "execution_count": 51,
   "id": "b519a091",
   "metadata": {},
   "outputs": [
    {
     "name": "stdout",
     "output_type": "stream",
     "text": [
      "94.00%\n",
      "[[ 27  18]\n",
      " [  6 349]]\n",
      "intercept a0 = -22.0163\n",
      "coefficients  a1 for each feature = [2.21413946 1.30120203 0.22239312]\n"
     ]
    }
   ],
   "source": [
    "print(f'{accuracy*100:.2f}%')\n",
    "print(conf_matrix)\n",
    "print(f'intercept a0 = {model.intercept_[0]:.4f}')\n",
    "print(f'coefficients  a1 for each feature = {model.coef_[0]}')\n"
   ]
  },
  {
   "cell_type": "code",
   "execution_count": 56,
   "id": "47692688",
   "metadata": {},
   "outputs": [
    {
     "name": "stdout",
     "output_type": "stream",
     "text": [
      "predicted probability 0.0004\n",
      "Predicted class 0 = [0 fail / 1 pass]\n"
     ]
    },
    {
     "name": "stderr",
     "output_type": "stream",
     "text": [
      "c:\\Users\\Admin\\AppData\\Local\\Programs\\Python\\Python311\\Lib\\site-packages\\sklearn\\utils\\validation.py:2749: UserWarning: X does not have valid feature names, but LogisticRegression was fitted with feature names\n",
      "  warnings.warn(\n",
      "c:\\Users\\Admin\\AppData\\Local\\Programs\\Python\\Python311\\Lib\\site-packages\\sklearn\\utils\\validation.py:2749: UserWarning: X does not have valid feature names, but LogisticRegression was fitted with feature names\n",
      "  warnings.warn(\n"
     ]
    }
   ],
   "source": [
    "# prediction for new students \n",
    "new_student = np.array([[1,4,30]])\n",
    "# 5 study_hours  7 sleep_hours 80 prior_test_score\n",
    "pred_prob = model.predict_proba(new_student)[0][1] # probability of passing \n",
    "pred_class = model.predict(new_student)[0]\n",
    "# print(f'new student  5 study hrs , 7 sleep and 80 score')\n",
    "print(f'predicted probability {pred_prob:.4f}')\n",
    "print(f'Predicted class {pred_class} = [0 fail / 1 pass]')"
   ]
  },
  {
   "cell_type": "code",
   "execution_count": 54,
   "id": "0e45adf0",
   "metadata": {},
   "outputs": [
    {
     "data": {
      "image/png": "[encoded data removed]",
      "text/plain": [
       "<Figure size 600x400 with 2 Axes>"
      ]
     },
     "metadata": {},
     "output_type": "display_data"
    }
   ],
   "source": [
    "plt.figure(figsize=(6,4))\n",
    "sns.heatmap(conf_matrix,annot=True,fmt='d',cmap='Blues',\n",
    "            xticklabels=['fail','Pass'],yticklabels=['Fail','Pass'])\n",
    "plt.title('confusion matrix')\n",
    "plt.xlabel('Predicted')\n",
    "plt.ylabel('Actual')\n",
    "plt.show()"
   ]
  }
 ],
 "metadata": {
  "kernelspec": {
   "display_name": "Python 3",
   "language": "python",
   "name": "python3"
  },
  "language_info": {
   "codemirror_mode": {
    "name": "ipython",
    "version": 3
   },
   "file_extension": ".py",
   "mimetype": "text/x-python",
   "name": "python",
   "nbconvert_exporter": "python",
   "pygments_lexer": "ipython3",
   "version": "3.11.4"
  }
 },
 "nbformat": 4,
 "nbformat_minor": 5
}
