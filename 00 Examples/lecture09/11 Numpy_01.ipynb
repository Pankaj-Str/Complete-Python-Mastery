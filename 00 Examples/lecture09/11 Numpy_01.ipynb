{
 "cells": [
  {
   "cell_type": "code",
   "execution_count": 2,
   "id": "23644a54",
   "metadata": {},
   "outputs": [],
   "source": [
    "# %pip install numpy\n",
    "import numpy as np"
   ]
  },
  {
   "cell_type": "code",
   "execution_count": 9,
   "id": "00d4bfe6-2992-44f7-9732-019f6fab3366",
   "metadata": {},
   "outputs": [
    {
     "name": "stdout",
     "output_type": "stream",
     "text": [
      "[1 2 3 4]\n",
      "<class 'numpy.ndarray'>\n",
      "4\n",
      "(4,)\n",
      "int64\n"
     ]
    }
   ],
   "source": [
    "# create a array \n",
    "a = np.array([1,2,3,4])\n",
    "print(a)\n",
    "# check type \n",
    "print(type(a))\n",
    "# access data\n",
    "print(a[3])\n",
    "# check shap\n",
    "print(a.shape)\n",
    "# check data type\n",
    "print(a.dtype)"
   ]
  },
  {
   "cell_type": "code",
   "execution_count": 13,
   "id": "e415235e-2c95-47d4-97d4-7e96c2f02638",
   "metadata": {},
   "outputs": [
    {
     "name": "stdout",
     "output_type": "stream",
     "text": [
      "[[21 22 23]\n",
      " [24 25 26]\n",
      " [27 28 29]]\n",
      "<class 'numpy.ndarray'>\n",
      "25\n",
      "(3, 3)\n",
      "int64\n",
      "2\n"
     ]
    }
   ],
   "source": [
    "# create a array 2d\n",
    "a = np.array([[21,22,23],[24,25,26],[27,28,29]])\n",
    "print(a)\n",
    "# check type \n",
    "print(type(a))\n",
    "# access data\n",
    "print(a[1][1])\n",
    "# check shap\n",
    "print(a.shape)\n",
    "# check data type\n",
    "print(a.dtype)\n",
    "# check dim\n",
    "print(a.ndim)"
   ]
  },
  {
   "cell_type": "code",
   "execution_count": 16,
   "id": "2fdbb306-92ed-4d5b-8de5-7133a65b2a76",
   "metadata": {},
   "outputs": [
    {
     "name": "stdout",
     "output_type": "stream",
     "text": [
      "[[[21 22 23]\n",
      "  [24 25 26]\n",
      "  [27 28 29]]\n",
      "\n",
      " [[21 22 23]\n",
      "  [24 25 26]\n",
      "  [27 28 29]]]\n",
      "<class 'numpy.ndarray'>\n",
      "[24 25 26]\n",
      "(2, 3, 3)\n",
      "int64\n",
      "3\n"
     ]
    }
   ],
   "source": [
    "# create a array 3d\n",
    "a = np.array([[[21,22,23],[24,25,26],[27,28,29]],[[21,22,23],[24,25,26],[27,28,29]]])\n",
    "print(a)\n",
    "# check type \n",
    "print(type(a))\n",
    "# access data\n",
    "print(a[1][1])\n",
    "# check shap\n",
    "print(a.shape)\n",
    "# check data type\n",
    "print(a.dtype)\n",
    "# check dim\n",
    "print(a.ndim)"
   ]
  }
 ],
 "metadata": {
  "kernelspec": {
   "display_name": "Python 3 (ipykernel)",
   "language": "python",
   "name": "python3"
  },
  "language_info": {
   "codemirror_mode": {
    "name": "ipython",
    "version": 3
   },
   "file_extension": ".py",
   "mimetype": "text/x-python",
   "name": "python",
   "nbconvert_exporter": "python",
   "pygments_lexer": "ipython3",
   "version": "3.13.5"
  }
 },
 "nbformat": 4,
 "nbformat_minor": 5
}
