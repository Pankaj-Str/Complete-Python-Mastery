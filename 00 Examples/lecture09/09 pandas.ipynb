{
 "cells": [
  {
   "cell_type": "code",
   "execution_count": 19,
   "id": "760f45bf",
   "metadata": {},
   "outputs": [
    {
     "name": "stdout",
     "output_type": "stream",
     "text": [
      "Requirement already satisfied: pandas in c:\\users\\programming\\appdata\\local\\programs\\python\\python313\\lib\\site-packages (2.2.3)\n",
      "Requirement already satisfied: numpy>=1.26.0 in c:\\users\\programming\\appdata\\local\\programs\\python\\python313\\lib\\site-packages (from pandas) (2.2.4)\n",
      "Requirement already satisfied: python-dateutil>=2.8.2 in c:\\users\\programming\\appdata\\roaming\\python\\python313\\site-packages (from pandas) (2.9.0.post0)\n",
      "Requirement already satisfied: pytz>=2020.1 in c:\\users\\programming\\appdata\\local\\programs\\python\\python313\\lib\\site-packages (from pandas) (2025.2)\n",
      "Requirement already satisfied: tzdata>=2022.7 in c:\\users\\programming\\appdata\\local\\programs\\python\\python313\\lib\\site-packages (from pandas) (2025.2)\n",
      "Requirement already satisfied: six>=1.5 in c:\\users\\programming\\appdata\\roaming\\python\\python313\\site-packages (from python-dateutil>=2.8.2->pandas) (1.17.0)\n",
      "Note: you may need to restart the kernel to use updated packages.\n"
     ]
    },
    {
     "name": "stderr",
     "output_type": "stream",
     "text": [
      "\n",
      "[notice] A new release of pip is available: 25.1.1 -> 25.2\n",
      "[notice] To update, run: python.exe -m pip install --upgrade pip\n"
     ]
    }
   ],
   "source": [
    "# install pandas\n",
    "%pip install pandas"
   ]
  },
  {
   "cell_type": "code",
   "execution_count": 20,
   "id": "c2ac971e",
   "metadata": {},
   "outputs": [
    {
     "name": "stdout",
     "output_type": "stream",
     "text": [
      "0         Apple\n",
      "1        Banana\n",
      "2        Cherry\n",
      "3          Date\n",
      "4    Elderberry\n",
      "dtype: object\n"
     ]
    }
   ],
   "source": [
    "import pandas as pd\n",
    "data = [\"Apple\", \"Banana\", \"Cherry\", \"Date\", \"Elderberry\"]\n",
    "\n",
    "# for fruit in data:\n",
    "#     print(fruit)\n",
    "\n",
    "# using pandas to create a series\n",
    "\n",
    "fruits_series = pd.Series(data)\n",
    "print(fruits_series)"
   ]
  },
  {
   "cell_type": "code",
   "execution_count": 21,
   "id": "714abaef",
   "metadata": {},
   "outputs": [
    {
     "name": "stdout",
     "output_type": "stream",
     "text": [
      "A         Apple\n",
      "B        Banana\n",
      "C        Cherry\n",
      "D          Date\n",
      "E    Elderberry\n",
      "dtype: object\n"
     ]
    }
   ],
   "source": [
    "# modified index\n",
    "indexx = [\"A\", \"B\", \"C\", \"D\", \"E\"]\n",
    "fruits_series = pd.Series(data, index=indexx)\n",
    "print(fruits_series)"
   ]
  },
  {
   "cell_type": "code",
   "execution_count": 22,
   "id": "dbe3270f",
   "metadata": {},
   "outputs": [
    {
     "name": "stdout",
     "output_type": "stream",
     "text": [
      "A    1.0\n",
      "B    2.0\n",
      "C    3.0\n",
      "D    4.0\n",
      "E    5.0\n",
      "dtype: float64\n"
     ]
    }
   ],
   "source": [
    "# change datatype\n",
    "data = [1, 2, 3, 4, 5]\n",
    "s = pd.Series(data, index=indexx, dtype='float')\n",
    "print(s)"
   ]
  },
  {
   "cell_type": "code",
   "execution_count": 26,
   "id": "bd85763d",
   "metadata": {},
   "outputs": [
    {
     "name": "stdout",
     "output_type": "stream",
     "text": [
      "Date\n",
      "Cherry\n"
     ]
    },
    {
     "name": "stderr",
     "output_type": "stream",
     "text": [
      "C:\\Users\\Programming\\AppData\\Local\\Temp\\ipykernel_10800\\2990391315.py:3: FutureWarning: Series.__getitem__ treating keys as positions is deprecated. In a future version, integer keys will always be treated as labels (consistent with DataFrame behavior). To access a value by position, use `ser.iloc[pos]`\n",
      "  print(fruits_series[3])  # first element\n"
     ]
    }
   ],
   "source": [
    "# acessing elements\n",
    "\n",
    "print(fruits_series[3])  # first element\n",
    "print(fruits_series[\"C\"])  # element with index \"C\""
   ]
  },
  {
   "cell_type": "code",
   "execution_count": 27,
   "id": "da7cedcf",
   "metadata": {},
   "outputs": [
    {
     "name": "stdout",
     "output_type": "stream",
     "text": [
      "      Name  Age         City\n",
      "0    Alice   25     New York\n",
      "1      Bob   30  Los Angeles\n",
      "2  Charlie   35      Chicago\n"
     ]
    }
   ],
   "source": [
    "# dataframe\n",
    "data = {\n",
    "    \"Name\": [\"Alice\", \"Bob\", \"Charlie\"],\n",
    "    \"Age\": [25, 30, 35],\n",
    "    \"City\": [\"New York\", \"Los Angeles\", \"Chicago\"]\n",
    "}\n",
    "\n",
    "df = pd.DataFrame(data)\n",
    "print(df)\n"
   ]
  },
  {
   "cell_type": "code",
   "execution_count": 29,
   "id": "c8147410",
   "metadata": {},
   "outputs": [
    {
     "name": "stdout",
     "output_type": "stream",
     "text": [
      "      Name  Age         City\n",
      "A    Alice   25     New York\n",
      "B      Bob   30  Los Angeles\n",
      "C  Charlie   35      Chicago\n"
     ]
    }
   ],
   "source": [
    "# change index\n",
    "indexx = [\"A\", \"B\", \"C\"]\n",
    "df = pd.DataFrame(data, index=indexx)\n",
    "print(df)"
   ]
  },
  {
   "cell_type": "code",
   "execution_count": 34,
   "id": "66c6d1b0",
   "metadata": {},
   "outputs": [
    {
     "name": "stdout",
     "output_type": "stream",
     "text": [
      "A      Alice\n",
      "B        Bob\n",
      "C    Charlie\n",
      "Name: Name, dtype: object\n",
      "Name       Alice\n",
      "Age           25\n",
      "City    New York\n",
      "Name: A, dtype: object\n",
      "Name            Bob\n",
      "Age              30\n",
      "City    Los Angeles\n",
      "Name: B, dtype: object\n"
     ]
    }
   ],
   "source": [
    "# access data \n",
    "print(df[\"Name\"])  # access column \"Name\"\n",
    "\n",
    "# access row by index\n",
    "print(df.loc[\"A\"])  # access row with index \"A\"\n",
    "print(df.iloc[1])"
   ]
  },
  {
   "cell_type": "code",
   "execution_count": 35,
   "id": "ec084a64",
   "metadata": {},
   "outputs": [
    {
     "name": "stdout",
     "output_type": "stream",
     "text": [
      "Alice\n"
     ]
    }
   ],
   "source": [
    "# access single value\n",
    "print(df.at[\"A\", \"Name\"])  # access value at row \"A\" and column \"Name\""
   ]
  },
  {
   "cell_type": "code",
   "execution_count": 36,
   "id": "138a26f4",
   "metadata": {},
   "outputs": [
    {
     "name": "stdout",
     "output_type": "stream",
     "text": [
      "      Name  Age         City  Salary\n",
      "A    Alice   25     New York   50000\n",
      "B      Bob   30  Los Angeles   60000\n",
      "C  Charlie   35      Chicago   70000\n"
     ]
    }
   ],
   "source": [
    "# new column\n",
    "df[\"Salary\"] = [50000, 60000, 70000]\n",
    "print(df)"
   ]
  },
  {
   "cell_type": "code",
   "execution_count": 42,
   "id": "226b22d6",
   "metadata": {},
   "outputs": [
    {
     "name": "stdout",
     "output_type": "stream",
     "text": [
      "      Name  Age           City  Salary\n",
      "A    Alice   25       New York   50000\n",
      "B      Bob   30    Los Angeles   60000\n",
      "C  Charlie   35        Chicago   70000\n",
      "D    David   28  San Francisco   80000\n"
     ]
    }
   ],
   "source": [
    "# add new row in dataframe using concat\n",
    "new_row = pd.DataFrame({\"Name\": [\"David\"], \"Age\": [28], \"City\": [\"San Francisco\"], \"Salary\": [80000]}, index=[\"D\"])\n",
    "df = pd.concat([df, new_row])\n",
    "print(df)"
   ]
  },
  {
   "cell_type": "code",
   "execution_count": 44,
   "id": "db1a61c8",
   "metadata": {},
   "outputs": [],
   "source": [
    "# write dataframe to csv\n",
    "df.to_csv(\"output.csv\", index=False)\n",
    "# read dataframe from csv\n",
    "# df_from_csv = pd.read_csv(\"output.csv\")"
   ]
  },
  {
   "cell_type": "code",
   "execution_count": null,
   "id": "7d055d0a",
   "metadata": {},
   "outputs": [],
   "source": [
    "# https://cwpc.in/mastering-pandas-dataframes-a-comprehensive-guide-codes-with-pankaj-63b22098a6d4"
   ]
  },
  {
   "cell_type": "code",
   "execution_count": null,
   "id": "cba20da2",
   "metadata": {},
   "outputs": [
    {
     "name": "stdout",
     "output_type": "stream",
     "text": [
      "   #  Employee Name  Salary         City Department Name State  Mobile Number  \\\n",
      "0  1  Alice Johnson   60000     New York              HR    NY     9175551234   \n",
      "1  2      Bob Smith   75000  Los Angeles              IT    CA     2135554567   \n",
      "2  3   Carol Taylor   82000      Chicago         Finance    IL     3125557890   \n",
      "3  4    David Brown   71000      Houston       Marketing    TX     8325552345   \n",
      "4  5    Emily Davis   92000      Phoenix              IT    AZ     6025553456   \n",
      "\n",
      "  Job ID  \n",
      "0  HR101  \n",
      "1  IT202  \n",
      "2  FN303  \n",
      "3  MK404  \n",
      "4  IT205  \n"
     ]
    }
   ],
   "source": [
    "# read csv\n",
    "df = pd.read_csv(\"dataset.csv\")\n",
    "print(df.head())  # display first few 5 rows of the dataframe"
   ]
  }
 ],
 "metadata": {
  "kernelspec": {
   "display_name": "Python 3",
   "language": "python",
   "name": "python3"
  },
  "language_info": {
   "codemirror_mode": {
    "name": "ipython",
    "version": 3
   },
   "file_extension": ".py",
   "mimetype": "text/x-python",
   "name": "python",
   "nbconvert_exporter": "python",
   "pygments_lexer": "ipython3",
   "version": "3.13.5"
  }
 },
 "nbformat": 4,
 "nbformat_minor": 5
}
