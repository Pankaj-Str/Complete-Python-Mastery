{
 "cells": [
  {
   "cell_type": "code",
   "execution_count": 1,
   "id": "bf65cebe-8a36-4d5c-bc30-ae30b07458fe",
   "metadata": {},
   "outputs": [
    {
     "name": "stdout",
     "output_type": "stream",
     "text": [
      "codeswithpankaj\n"
     ]
    }
   ],
   "source": [
    "#string \n",
    "data = \"codeswithpankaj\"\n",
    "print(data)"
   ]
  },
  {
   "cell_type": "code",
   "execution_count": 2,
   "id": "d942fe6f-2610-45cd-8d12-e2fb3f06a207",
   "metadata": {},
   "outputs": [
    {
     "name": "stdout",
     "output_type": "stream",
     "text": [
      "w\n"
     ]
    }
   ],
   "source": [
    "print(data[5])"
   ]
  },
  {
   "cell_type": "code",
   "execution_count": 3,
   "id": "e4b327e2-b473-4da2-845a-0da1c94122b6",
   "metadata": {},
   "outputs": [
    {
     "name": "stdout",
     "output_type": "stream",
     "text": [
      "c\n",
      "o\n",
      "d\n",
      "e\n",
      "s\n",
      "w\n",
      "i\n",
      "t\n",
      "h\n",
      "p\n",
      "a\n",
      "n\n",
      "k\n",
      "a\n",
      "j\n"
     ]
    }
   ],
   "source": [
    "for i in data:\n",
    "    print(i)"
   ]
  },
  {
   "cell_type": "code",
   "execution_count": 6,
   "id": "aed4949c-04ce-4a5b-b514-fcb0bebdc4e8",
   "metadata": {},
   "outputs": [
    {
     "name": "stdout",
     "output_type": "stream",
     "text": [
      "my name is  Nishant age is  23 and height is  4.5\n",
      "my name is Nishant and my age , height 23 , 4.5 \n",
      "my name is Nishant and my age , height 23 , 4.5 \n"
     ]
    }
   ],
   "source": [
    "#format()\n",
    "\n",
    "name = \"Nishant\"\n",
    "age = 23\n",
    "height = 4.5\n",
    "\n",
    "print('my name is ',name,'age is ',age,'and height is ',height)\n",
    "\n",
    "print(f'my name is {name} and my age , height {age} , {height} ')\n",
    "\n",
    "print('my name is {0} and my age , height {1} , {2} '.format(name,age,height))"
   ]
  },
  {
   "cell_type": "code",
   "execution_count": 36,
   "id": "6ceb6718-d2fd-4a8d-9701-0d78021beeb1",
   "metadata": {},
   "outputs": [
    {
     "name": "stdout",
     "output_type": "stream",
     "text": [
      "CODES WITH PANKAJ\n",
      "codes with pankaj\n",
      "('Codes ', 'w', 'ith Pankaj')\n",
      "Codes python Pankaj\n",
      "4\n",
      "python    this is best\n",
      "python this is best\n",
      "['codes', 'with', 'pankaj']\n",
      "True\n",
      "False\n",
      "True\n",
      "6\n"
     ]
    }
   ],
   "source": [
    "data = \"Codes with Pankaj\"\n",
    "# 1. upper() converts the string to uppercase\n",
    "print(data.upper())\n",
    "# 2. lower() converts the string to lowercase\n",
    "print(data.lower())\n",
    "# 3. partition() returns a tuple\n",
    "print(data.partition(\"w\"))\n",
    "# 4. replace() replaces substring inside\n",
    "print(data.replace(\"with\",\"python\"))\n",
    "# 5. find() returns the index of first occurrence of substring\n",
    "print(data.find(\"s\"))\n",
    "# 6. rstrip() removes trailing characters\n",
    "data = \"python   \"\n",
    "print(data,\"this is best\")\n",
    "print(data.rstrip(),\"this is best\")\n",
    "# 7. split() splits string from left\n",
    "data = \"codes with pankaj\"\n",
    "print(data.split(\" \"))\n",
    "# 8. startswith() checks if string starts with the specified string\n",
    "print(data.startswith(\"codes\"))\n",
    "print(data.startswith(\"Codes\"))\n",
    "# 9. isnumeric() checks numeric characters\n",
    "data = \"90\"\n",
    "print(data.isnumeric())\n",
    "# 10. index() returns index of substring\n",
    "data = \"Codes with Pankaj\"\n",
    "print(data.index(\"w\"))"
   ]
  },
  {
   "cell_type": "code",
   "execution_count": null,
   "id": "72566da6-2982-4813-8ae2-c8baa6a0b64f",
   "metadata": {},
   "outputs": [],
   "source": [
    "# -- User input section\n",
    "# Enter Product List Size : 4\n",
    "# Enter Product 1 -\n",
    "# Samosa\n",
    "# Enter Product 2 -\n",
    "# Kachori\n",
    "# Enter Product 3 -\n",
    "# Fafda\n",
    "# Enter Product 4 -\n",
    "# Jalebi\n",
    "\n",
    "# Enter Samosa Price :\n",
    "# 300/-\n",
    "# Enter Kachori Price :\n",
    "# 100/-\n",
    "# Enter Fafda Price :\n",
    "# 100/-\n",
    "# Enter Jalebi Price :\n",
    "# 200/-\n",
    "\n",
    "# Do You Want to add GST [Y/N]\n",
    "# [note : if user select `N` Print bill without GST]\n",
    "# [Note User select yes `Y`]\n",
    "# Enter GST % = 18\n",
    "# -------Out put -------\n",
    "\n",
    "# 1. Samosa = 300/-\n",
    "# 2. Kachori = 100/-\n",
    "# 3. Fafda = 100/-\n",
    "# 4. Jalebi = 200/-\n",
    "# -------------------\n",
    "# Total = 700\n",
    "# GST = 18%\n",
    "# -------------------\n",
    "# Final Total = 826/-\n",
    "# -------------------"
   ]
  }
 ],
 "metadata": {
  "kernelspec": {
   "display_name": "Python 3 (ipykernel)",
   "language": "python",
   "name": "python3"
  },
  "language_info": {
   "codemirror_mode": {
    "name": "ipython",
    "version": 3
   },
   "file_extension": ".py",
   "mimetype": "text/x-python",
   "name": "python",
   "nbconvert_exporter": "python",
   "pygments_lexer": "ipython3",
   "version": "3.13.5"
  }
 },
 "nbformat": 4,
 "nbformat_minor": 5
}
