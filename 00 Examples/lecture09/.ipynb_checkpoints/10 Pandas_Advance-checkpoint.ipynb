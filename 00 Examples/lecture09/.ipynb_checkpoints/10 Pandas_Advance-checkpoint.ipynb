{
 "cells": [
  {
   "cell_type": "code",
   "execution_count": 1,
   "id": "b4daedc1-e12c-4723-958b-aceaa4bf18fd",
   "metadata": {},
   "outputs": [],
   "source": [
    "import pandas as pd"
   ]
  },
  {
   "cell_type": "code",
   "execution_count": 31,
   "id": "e9ea4210-83fd-4169-9ac5-1dd9b18fd324",
   "metadata": {},
   "outputs": [],
   "source": [
    "# step no. 1 Read csv\n",
    "data = pd.read_csv('data.csv')"
   ]
  },
  {
   "cell_type": "code",
   "execution_count": 32,
   "id": "b9ca763d-9f33-4786-85eb-4b5fba3ce3cc",
   "metadata": {},
   "outputs": [
    {
     "name": "stdout",
     "output_type": "stream",
     "text": [
      "   #  Employee Name   Salary         City Department Name State  \\\n",
      "0  1  Alice Johnson  60000.0     New York              HR    NY   \n",
      "1  2      Bob Smith  75000.0  Los Angeles              IT    CA   \n",
      "2  3   Carol Taylor  82000.0      Chicago         Finance    IL   \n",
      "3  4    David Brown  71000.0      Houston       Marketing    TX   \n",
      "4  5    Emily Davis  92000.0      Phoenix              IT    AZ   \n",
      "\n",
      "   Mobile Number Job ID  \n",
      "0   9.175551e+09  HR101  \n",
      "1   2.135555e+09  IT202  \n",
      "2   3.125558e+09  FN303  \n",
      "3   8.325552e+09  MK404  \n",
      "4   6.025553e+09  IT205  \n"
     ]
    }
   ],
   "source": [
    "# Display top 5 row \n",
    "print(data.head())"
   ]
  },
  {
   "cell_type": "code",
   "execution_count": 33,
   "id": "6f3fa312-e9e4-4c4d-8bd6-9c10d137cb6a",
   "metadata": {},
   "outputs": [
    {
     "name": "stdout",
     "output_type": "stream",
     "text": [
      "<class 'pandas.core.frame.DataFrame'>\n",
      "RangeIndex: 40 entries, 0 to 39\n",
      "Data columns (total 8 columns):\n",
      " #   Column           Non-Null Count  Dtype  \n",
      "---  ------           --------------  -----  \n",
      " 0   #                40 non-null     int64  \n",
      " 1   Employee Name    37 non-null     object \n",
      " 2   Salary           37 non-null     float64\n",
      " 3   City             39 non-null     object \n",
      " 4   Department Name  37 non-null     object \n",
      " 5   State            38 non-null     object \n",
      " 6   Mobile Number    39 non-null     float64\n",
      " 7   Job ID           39 non-null     object \n",
      "dtypes: float64(2), int64(1), object(5)\n",
      "memory usage: 2.6+ KB\n",
      "None\n"
     ]
    }
   ],
   "source": [
    "# get basic infomation \n",
    "print(data.info())"
   ]
  },
  {
   "cell_type": "code",
   "execution_count": 34,
   "id": "9009e39f-e588-4938-b29d-2ff2501df9ae",
   "metadata": {},
   "outputs": [
    {
     "name": "stdout",
     "output_type": "stream",
     "text": [
      "               #        Salary  Mobile Number\n",
      "count  40.000000     37.000000   3.900000e+01\n",
      "mean   20.500000  78513.513514   5.676837e+09\n",
      "std    11.690452  10550.465028   2.508958e+09\n",
      "min     1.000000  60000.000000   2.025559e+09\n",
      "25%    10.750000  70000.000000   3.600557e+09\n",
      "50%    20.500000  76000.000000   5.205551e+09\n",
      "75%    30.250000  87000.000000   8.170554e+09\n",
      "max    40.000000  97000.000000   9.725559e+09\n"
     ]
    }
   ],
   "source": [
    "# get summary statistics \n",
    "print(data.describe())"
   ]
  },
  {
   "cell_type": "code",
   "execution_count": 35,
   "id": "8c2fac26-fcfc-4859-8be4-b150b2672fa7",
   "metadata": {},
   "outputs": [
    {
     "name": "stdout",
     "output_type": "stream",
     "text": [
      "Index(['#', 'Employee Name', 'Salary', 'City', 'Department Name', 'State',\n",
      "       'Mobile Number', 'Job ID'],\n",
      "      dtype='object')\n"
     ]
    }
   ],
   "source": [
    "# selecting and filtering data\n",
    "# print all column \n",
    "print(data.columns)\n"
   ]
  },
  {
   "cell_type": "code",
   "execution_count": 36,
   "id": "72f1009d-eaf3-4c0d-9d07-f917217508c3",
   "metadata": {},
   "outputs": [
    {
     "name": "stdout",
     "output_type": "stream",
     "text": [
      "0     Alice Johnson\n",
      "1         Bob Smith\n",
      "2      Carol Taylor\n",
      "3       David Brown\n",
      "4       Emily Davis\n",
      "5      Frank Wilson\n",
      "6    Grace Martinez\n",
      "7         Henry Lee\n",
      "8      Irene Walker\n",
      "9         Jack Hall\n",
      "Name: Employee Name, dtype: object\n"
     ]
    }
   ],
   "source": [
    "# print single column \n",
    "print(data['Employee Name'].head(10))"
   ]
  },
  {
   "cell_type": "code",
   "execution_count": 37,
   "id": "c384c853-4213-4430-b22e-bd2c03862098",
   "metadata": {},
   "outputs": [
    {
     "name": "stdout",
     "output_type": "stream",
     "text": [
      "   Employee Name   Salary\n",
      "0  Alice Johnson  60000.0\n",
      "1      Bob Smith  75000.0\n",
      "2   Carol Taylor  82000.0\n",
      "3    David Brown  71000.0\n",
      "4    Emily Davis  92000.0\n"
     ]
    }
   ],
   "source": [
    "# print salary and name\n",
    "print(data[['Employee Name','Salary']].head())"
   ]
  },
  {
   "cell_type": "code",
   "execution_count": 38,
   "id": "3e23d35a-269b-47cf-8912-893018e2eac6",
   "metadata": {},
   "outputs": [
    {
     "name": "stdout",
     "output_type": "stream",
     "text": [
      "     #  Employee Name   Salary          City Department Name State  \\\n",
      "0    1  Alice Johnson  60000.0      New York              HR    NY   \n",
      "5    6   Frank Wilson  67000.0  Philadelphia              HR    PA   \n",
      "8    9   Irene Walker  68000.0        Dallas       Marketing    TX   \n",
      "10  11    Karen Allen  64000.0        Austin              HR    TX   \n",
      "15  16     Paul Green  66000.0  Indianapolis              HR    IN   \n",
      "\n",
      "    Mobile Number Job ID  \n",
      "0    9.175551e+09  HR101  \n",
      "5    2.155557e+09  HR102  \n",
      "8    9.725559e+09  MK405  \n",
      "10   7.375551e+09  HR103  \n",
      "15   3.175557e+09  HR104  \n"
     ]
    }
   ],
   "source": [
    "# print salary < 50,000\n",
    "print(data[data['Salary'] < 70000].head())"
   ]
  },
  {
   "cell_type": "code",
   "execution_count": 39,
   "id": "7842da5d-33d4-4be9-8b73-170adeed91a4",
   "metadata": {},
   "outputs": [
    {
     "name": "stdout",
     "output_type": "stream",
     "text": [
      "     #  Employee Name   Salary         City Department Name State  \\\n",
      "3    4    David Brown  71000.0      Houston       Marketing    TX   \n",
      "8    9   Irene Walker  68000.0       Dallas       Marketing    TX   \n",
      "13  14  Nathan Wright  87000.0     Columbus       Marketing    OH   \n",
      "18  19   Sarah Carter  72000.0   Washington       Marketing    DC   \n",
      "23  24  Xavier Morris  81000.0      Memphis       Marketing    TN   \n",
      "28  29     Clara Ward  71000.0    Milwaukee       Marketing    WI   \n",
      "33  34   Hugo Ramirez  79000.0  Kansas City       Marketing    MO   \n",
      "38  39   Monica Black  70000.0        Miami       Marketing    FL   \n",
      "\n",
      "    Mobile Number Job ID  \n",
      "3    8.325552e+09  MK404  \n",
      "8    9.725559e+09  MK405  \n",
      "13   6.145555e+09  MK406  \n",
      "18   2.025559e+09  MK407  \n",
      "23   9.015555e+09  MK408  \n",
      "28   4.145559e+09  MK409  \n",
      "33   8.165555e+09  MK410  \n",
      "38   3.055559e+09  MK411  \n"
     ]
    }
   ],
   "source": [
    "print(data[data['Department Name'] == \"Marketing\"])"
   ]
  },
  {
   "cell_type": "code",
   "execution_count": 26,
   "id": "0a8bf833-01a9-40c7-a3fb-da7f1fd73532",
   "metadata": {},
   "outputs": [],
   "source": [
    "# update values \n",
    "data['Update_Salary'] = data['Salary'] - 10000"
   ]
  },
  {
   "cell_type": "code",
   "execution_count": 29,
   "id": "562a61c0-d97a-4c9a-ad43-9e5b07e7c306",
   "metadata": {},
   "outputs": [
    {
     "name": "stdout",
     "output_type": "stream",
     "text": [
      "   #  Employee Name  Salary         City Department Name State Job ID  \\\n",
      "0  1  Alice Johnson   60000     New York              HR    NY  HR101   \n",
      "1  2      Bob Smith   75000  Los Angeles              IT    CA  IT202   \n",
      "2  3   Carol Taylor   82000      Chicago         Finance    IL  FN303   \n",
      "3  4    David Brown   71000      Houston       Marketing    TX  MK404   \n",
      "4  5    Emily Davis   92000      Phoenix              IT    AZ  IT205   \n",
      "\n",
      "   Update_Salary  \n",
      "0          50000  \n",
      "1          65000  \n",
      "2          72000  \n",
      "3          61000  \n",
      "4          82000  \n"
     ]
    }
   ],
   "source": [
    "print(data.head())"
   ]
  },
  {
   "cell_type": "code",
   "execution_count": 28,
   "id": "44577435-a592-426b-99c8-4263bd86f92a",
   "metadata": {},
   "outputs": [
    {
     "name": "stdout",
     "output_type": "stream",
     "text": [
      "   #  Employee Name  Salary         City Department Name State Job ID  \\\n",
      "0  1  Alice Johnson   60000     New York              HR    NY  HR101   \n",
      "1  2      Bob Smith   75000  Los Angeles              IT    CA  IT202   \n",
      "2  3   Carol Taylor   82000      Chicago         Finance    IL  FN303   \n",
      "3  4    David Brown   71000      Houston       Marketing    TX  MK404   \n",
      "4  5    Emily Davis   92000      Phoenix              IT    AZ  IT205   \n",
      "\n",
      "   Update_Salary  \n",
      "0          50000  \n",
      "1          65000  \n",
      "2          72000  \n",
      "3          61000  \n",
      "4          82000  \n"
     ]
    }
   ],
   "source": [
    "# drop column \n",
    "# data = data.drop('Mobile Number',axis=1)\n",
    "# print(data.head())"
   ]
  },
  {
   "cell_type": "code",
   "execution_count": 41,
   "id": "35c9d807-919a-4834-a931-45f2d2744c0e",
   "metadata": {},
   "outputs": [
    {
     "name": "stdout",
     "output_type": "stream",
     "text": [
      "#                  0\n",
      "Employee Name      3\n",
      "Salary             3\n",
      "City               1\n",
      "Department Name    3\n",
      "State              2\n",
      "Mobile Number      1\n",
      "Job ID             1\n",
      "dtype: int64\n"
     ]
    }
   ],
   "source": [
    "# find the missing values \n",
    "print(data.isnull().sum())"
   ]
  },
  {
   "cell_type": "code",
   "execution_count": 43,
   "id": "23f04527-c45b-447e-896d-d1c49e383aa5",
   "metadata": {},
   "outputs": [
    {
     "name": "stdout",
     "output_type": "stream",
     "text": [
      "#                  0\n",
      "Employee Name      0\n",
      "Salary             3\n",
      "City               1\n",
      "Department Name    3\n",
      "State              2\n",
      "Mobile Number      1\n",
      "Job ID             1\n",
      "dtype: int64\n"
     ]
    }
   ],
   "source": [
    "# fill missing values \n",
    "data['Employee Name'] = data['Employee Name'].fillna(\"Unknown\")\n",
    "print(data.isnull().sum())"
   ]
  },
  {
   "cell_type": "code",
   "execution_count": 44,
   "id": "ad2d47c3-8b87-4ac2-978d-8e52639e2efe",
   "metadata": {},
   "outputs": [
    {
     "name": "stdout",
     "output_type": "stream",
     "text": [
      "#                  0\n",
      "Employee Name      0\n",
      "Salary             0\n",
      "City               1\n",
      "Department Name    3\n",
      "State              2\n",
      "Mobile Number      1\n",
      "Job ID             1\n",
      "dtype: int64\n"
     ]
    }
   ],
   "source": [
    "data['Salary'] = data['Salary'].fillna(data['Salary'].mean())\n",
    "print(data.isnull().sum())"
   ]
  },
  {
   "cell_type": "code",
   "execution_count": 46,
   "id": "8f0ed2fb-65d2-4566-bb78-2ca9f9bd4db4",
   "metadata": {},
   "outputs": [
    {
     "name": "stdout",
     "output_type": "stream",
     "text": [
      "Department Name\n",
      "Finance      82289.575290\n",
      "HR           65571.428571\n",
      "IT           85066.666667\n",
      "Marketing    74875.000000\n",
      "Name: Salary, dtype: float64\n"
     ]
    }
   ],
   "source": [
    "# make group \n",
    "print(data.groupby('Department Name')['Salary'].mean())"
   ]
  },
  {
   "cell_type": "code",
   "execution_count": null,
   "id": "77892157-4bde-4cb6-a9c8-844f393edc3b",
   "metadata": {},
   "outputs": [],
   "source": [
    "# save your result :\n"
   ]
  }
 ],
 "metadata": {
  "kernelspec": {
   "display_name": "Python 3 (ipykernel)",
   "language": "python",
   "name": "python3"
  },
  "language_info": {
   "codemirror_mode": {
    "name": "ipython",
    "version": 3
   },
   "file_extension": ".py",
   "mimetype": "text/x-python",
   "name": "python",
   "nbconvert_exporter": "python",
   "pygments_lexer": "ipython3",
   "version": "3.13.5"
  }
 },
 "nbformat": 4,
 "nbformat_minor": 5
}
