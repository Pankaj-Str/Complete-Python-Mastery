{
 "cells": [
  {
   "cell_type": "code",
   "execution_count": 5,
   "id": "d7c88777-2937-41b8-87ad-0212f8d69f31",
   "metadata": {},
   "outputs": [
    {
     "name": "stdout",
     "output_type": "stream",
     "text": [
      "welcome\n",
      "1\n",
      "89\n"
     ]
    }
   ],
   "source": [
    "# print()\n",
    "print(\"welcome\")\n",
    "# min()\n",
    "print(min([23,45,67,89,1]))\n",
    "# max()\n",
    "print(max([23,45,67,89,1]))"
   ]
  },
  {
   "cell_type": "code",
   "execution_count": 6,
   "id": "2a4dad1f-ffad-4b65-9467-c084e469a1b3",
   "metadata": {},
   "outputs": [],
   "source": [
    "# user define function \n",
    "\n",
    "# create a function\n",
    "#def FunctionName():\n",
    "    #output\n",
    "\n"
   ]
  }
 ],
 "metadata": {
  "kernelspec": {
   "display_name": "Python 3 (ipykernel)",
   "language": "python",
   "name": "python3"
  },
  "language_info": {
   "codemirror_mode": {
    "name": "ipython",
    "version": 3
   },
   "file_extension": ".py",
   "mimetype": "text/x-python",
   "name": "python",
   "nbconvert_exporter": "python",
   "pygments_lexer": "ipython3",
   "version": "3.13.5"
  }
 },
 "nbformat": 4,
 "nbformat_minor": 5
}
