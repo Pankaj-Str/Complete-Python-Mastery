{
 "cells": [
  {
   "cell_type": "code",
   "execution_count": 2,
   "id": "20b0af29-ab61-44de-97c5-5648b2240f94",
   "metadata": {},
   "outputs": [
    {
     "name": "stdout",
     "output_type": "stream",
     "text": [
      "[]\n",
      "<class 'list'>\n"
     ]
    }
   ],
   "source": [
    "# empty list \n",
    "data = []\n",
    "print(data)\n",
    "# check type()\n",
    "print(type(data))"
   ]
  },
  {
   "cell_type": "code",
   "execution_count": 4,
   "id": "8418b7d5-420a-4c33-be4e-b44e64c450c9",
   "metadata": {},
   "outputs": [
    {
     "name": "stdout",
     "output_type": "stream",
     "text": [
      "[21, 22, 23, 24, 25, 26]\n",
      "['apple', 'orange', 200, 4.5, True]\n"
     ]
    }
   ],
   "source": [
    "# create a list same datatype\n",
    "data = [21,22,23,24,25,26]\n",
    "print(data)\n",
    "# mixed datatype\n",
    "data_m = [\"apple\",\"orange\",200,4.5,True]\n",
    "print(data_m)"
   ]
  },
  {
   "cell_type": "code",
   "execution_count": 7,
   "id": "81318839-55ec-4fa6-a150-fe3d70b67fac",
   "metadata": {},
   "outputs": [
    {
     "name": "stdout",
     "output_type": "stream",
     "text": [
      "26\n",
      "25\n"
     ]
    }
   ],
   "source": [
    "data = [21,22,23,24,25,26]\n",
    "\n",
    "print(data[5])\n",
    "print(data[-2])"
   ]
  },
  {
   "cell_type": "code",
   "execution_count": 8,
   "id": "0645c77f-a0af-4c2a-ba85-a270b36f948f",
   "metadata": {},
   "outputs": [
    {
     "name": "stdout",
     "output_type": "stream",
     "text": [
      "[24, 25]\n"
     ]
    }
   ],
   "source": [
    "#slicing \n",
    "print(data[3:5])"
   ]
  },
  {
   "cell_type": "code",
   "execution_count": 9,
   "id": "cf6c9480-2070-48c2-a9f6-eef7e135f304",
   "metadata": {},
   "outputs": [
    {
     "name": "stdout",
     "output_type": "stream",
     "text": [
      "[21, 22, 23, 24, 25, 26, 99]\n"
     ]
    }
   ],
   "source": [
    "# add item into list \n",
    "# append()\n",
    "data.append(99)\n",
    "print(data)"
   ]
  },
  {
   "cell_type": "code",
   "execution_count": 10,
   "id": "b4489649-90bb-46cc-844d-cc1ab2ae6321",
   "metadata": {},
   "outputs": [
    {
     "name": "stdout",
     "output_type": "stream",
     "text": [
      "[21, 22, 88, 23, 24, 25, 26, 99]\n"
     ]
    }
   ],
   "source": [
    "# insert(index,value)\n",
    "data.insert(2,88)\n",
    "print(data)"
   ]
  },
  {
   "cell_type": "code",
   "execution_count": 11,
   "id": "354c3c73-d19b-42b3-b9ae-b2c24a4485b0",
   "metadata": {},
   "outputs": [
    {
     "name": "stdout",
     "output_type": "stream",
     "text": [
      "[21, 22, 88, 23, 24, 25, 26, 99, 111, 222, 333]\n"
     ]
    }
   ],
   "source": [
    "# add large data \n",
    "my_list= [111,222,333]\n",
    "# extend()\n",
    "data.extend(my_list)\n",
    "print(data)"
   ]
  },
  {
   "cell_type": "code",
   "execution_count": 12,
   "id": "bc48d26a-3c1a-49a7-8c18-a9fc70928ff9",
   "metadata": {},
   "outputs": [
    {
     "name": "stdout",
     "output_type": "stream",
     "text": [
      "[21, 100, 88, 23, 24, 25, 26, 99, 111, 222, 333]\n"
     ]
    }
   ],
   "source": [
    "# update data \n",
    "data[1] = 100\n",
    "print(data)"
   ]
  },
  {
   "cell_type": "code",
   "execution_count": 14,
   "id": "d99e504f-d06f-46ec-a5ae-6ff83a8d8fa7",
   "metadata": {},
   "outputs": [
    {
     "name": "stdout",
     "output_type": "stream",
     "text": [
      "[21, 100, 88, 24, 25, 26, 99, 111, 222, 333]\n"
     ]
    }
   ],
   "source": [
    "#remove data \n",
    "data.remove(23)\n",
    "print(data)"
   ]
  },
  {
   "cell_type": "code",
   "execution_count": 16,
   "id": "c4199584-5192-448a-931b-4279c3f91269",
   "metadata": {},
   "outputs": [
    {
     "name": "stdout",
     "output_type": "stream",
     "text": [
      "[21, 100, 88, 24, 25, 26, 99, 111]\n"
     ]
    }
   ],
   "source": [
    "# pop()\n",
    "data.pop()\n",
    "print(data)"
   ]
  },
  {
   "cell_type": "code",
   "execution_count": 18,
   "id": "9811cd25-fd50-49ba-a8d5-a67dfa102d40",
   "metadata": {},
   "outputs": [
    {
     "name": "stdout",
     "output_type": "stream",
     "text": [
      "494\n",
      "21\n",
      "111\n"
     ]
    }
   ],
   "source": [
    "# sum()\n",
    "print(sum(data))\n",
    "#min max\n",
    "print(min(data))\n",
    "print(max(data))"
   ]
  },
  {
   "cell_type": "code",
   "execution_count": 20,
   "id": "ac68fa1e-1964-4d55-b103-bb8a18f3ddd6",
   "metadata": {},
   "outputs": [
    {
     "name": "stdout",
     "output_type": "stream",
     "text": [
      "21\n",
      "100\n",
      "88\n",
      "24\n",
      "25\n",
      "26\n",
      "99\n",
      "111\n"
     ]
    }
   ],
   "source": [
    "# print using loop \n",
    "for i in data:\n",
    "    print(i)"
   ]
  },
  {
   "cell_type": "code",
   "execution_count": null,
   "id": "7f116048-ba59-491f-aff4-a57d5f4e3ffc",
   "metadata": {},
   "outputs": [],
   "source": [
    "# how to take user input into list\n",
    "\n"
   ]
  }
 ],
 "metadata": {
  "kernelspec": {
   "display_name": "Python 3 (ipykernel)",
   "language": "python",
   "name": "python3"
  },
  "language_info": {
   "codemirror_mode": {
    "name": "ipython",
    "version": 3
   },
   "file_extension": ".py",
   "mimetype": "text/x-python",
   "name": "python",
   "nbconvert_exporter": "python",
   "pygments_lexer": "ipython3",
   "version": "3.12.7"
  }
 },
 "nbformat": 4,
 "nbformat_minor": 5
}
