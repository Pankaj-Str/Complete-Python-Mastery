{
 "cells": [
  {
   "cell_type": "code",
   "execution_count": 5,
   "id": "d7c88777-2937-41b8-87ad-0212f8d69f31",
   "metadata": {},
   "outputs": [
    {
     "name": "stdout",
     "output_type": "stream",
     "text": [
      "welcome\n",
      "1\n",
      "89\n"
     ]
    }
   ],
   "source": [
    "# print()\n",
    "print(\"welcome\")\n",
    "# min()\n",
    "print(min([23,45,67,89,1]))\n",
    "# max()\n",
    "print(max([23,45,67,89,1]))"
   ]
  },
  {
   "cell_type": "code",
   "execution_count": 6,
   "id": "2a4dad1f-ffad-4b65-9467-c084e469a1b3",
   "metadata": {},
   "outputs": [],
   "source": [
    "# user define function \n",
    "\n",
    "# create a function\n",
    "#def FunctionName():\n",
    "    #output\n",
    "\n",
    "# call function \n",
    "# FunctionName()\n"
   ]
  },
  {
   "cell_type": "code",
   "execution_count": 9,
   "id": "6f292121-4957-4bd2-9ec7-fa1816b61cb8",
   "metadata": {},
   "outputs": [
    {
     "name": "stdout",
     "output_type": "stream",
     "text": [
      "welcome to codeswithpankaj\n",
      "welcome to python learning\n",
      "welcome to codeswithpankaj\n",
      "welcome to python learning\n"
     ]
    }
   ],
   "source": [
    "#basic function \n",
    "def info():\n",
    "    print(\"welcome to codeswithpankaj\")\n",
    "    print(\"welcome to python learning\")\n",
    "\n",
    "info()\n",
    "info() "
   ]
  },
  {
   "cell_type": "code",
   "execution_count": 13,
   "id": "5a343801-3e47-467a-956b-8b107b459ca7",
   "metadata": {},
   "outputs": [
    {
     "name": "stdout",
     "output_type": "stream",
     "text": [
      "this is result =  68\n",
      "this is result =  681\n"
     ]
    }
   ],
   "source": [
    "# function with arg.\n",
    "def add(number1,number2):\n",
    "    result = number1 + number2\n",
    "    print('this is result = ',result)\n",
    "\n",
    "add(23,45)\n",
    "add(231,450) "
   ]
  },
  {
   "cell_type": "code",
   "execution_count": 21,
   "id": "02c7e909-c6ec-4129-be68-8ab8486ed73d",
   "metadata": {},
   "outputs": [],
   "source": [
    "def bill(price,tax):\n",
    "    gst_amount = price*tax/100\n",
    "    total_amount = price + gst_amount\n",
    "    print('Price = ',price)\n",
    "    print('tax = ',tax)\n",
    "    print('gst_amount =',gst_amount)\n",
    "    print('MRP = ',total_amount)\n",
    "    print('------------------------')"
   ]
  },
  {
   "cell_type": "code",
   "execution_count": 22,
   "id": "0efd0f77-13dc-458b-87b1-5e18ed8a1136",
   "metadata": {},
   "outputs": [
    {
     "name": "stdout",
     "output_type": "stream",
     "text": [
      "Price =  1200\n",
      "tax =  18\n",
      "gst_amount = 216.0\n",
      "MRP =  1416.0\n",
      "------------------------\n",
      "Price =  4500\n",
      "tax =  2\n",
      "gst_amount = 90.0\n",
      "MRP =  4590.0\n",
      "------------------------\n",
      "Price =  6500\n",
      "tax =  9\n",
      "gst_amount = 585.0\n",
      "MRP =  7085.0\n",
      "------------------------\n"
     ]
    }
   ],
   "source": [
    "bill(1200,18)\n",
    "bill(4500,2)\n",
    "bill(6500,9)"
   ]
  },
  {
   "cell_type": "code",
   "execution_count": null,
   "id": "1276c52f-1604-4ac6-bec8-3394cdfc2963",
   "metadata": {},
   "outputs": [],
   "source": []
  }
 ],
 "metadata": {
  "kernelspec": {
   "display_name": "Python 3 (ipykernel)",
   "language": "python",
   "name": "python3"
  },
  "language_info": {
   "codemirror_mode": {
    "name": "ipython",
    "version": 3
   },
   "file_extension": ".py",
   "mimetype": "text/x-python",
   "name": "python",
   "nbconvert_exporter": "python",
   "pygments_lexer": "ipython3",
   "version": "3.13.5"
  }
 },
 "nbformat": 4,
 "nbformat_minor": 5
}
