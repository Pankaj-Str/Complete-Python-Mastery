{
 "cells": [
  {
   "cell_type": "code",
   "execution_count": 2,
   "id": "20b0af29-ab61-44de-97c5-5648b2240f94",
   "metadata": {},
   "outputs": [
    {
     "name": "stdout",
     "output_type": "stream",
     "text": [
      "[]\n",
      "<class 'list'>\n"
     ]
    }
   ],
   "source": [
    "# empty list \n",
    "data = []\n",
    "print(data)\n",
    "# check type()\n",
    "print(type(data))"
   ]
  },
  {
   "cell_type": "code",
   "execution_count": 4,
   "id": "8418b7d5-420a-4c33-be4e-b44e64c450c9",
   "metadata": {},
   "outputs": [
    {
     "name": "stdout",
     "output_type": "stream",
     "text": [
      "[21, 22, 23, 24, 25, 26]\n",
      "['apple', 'orange', 200, 4.5, True]\n"
     ]
    }
   ],
   "source": [
    "# create a list same datatype\n",
    "data = [21,22,23,24,25,26]\n",
    "print(data)\n",
    "# mixed datatype\n",
    "data_m = [\"apple\",\"orange\",200,4.5,True]\n",
    "print(data_m)"
   ]
  },
  {
   "cell_type": "code",
   "execution_count": 7,
   "id": "81318839-55ec-4fa6-a150-fe3d70b67fac",
   "metadata": {},
   "outputs": [
    {
     "name": "stdout",
     "output_type": "stream",
     "text": [
      "26\n",
      "25\n"
     ]
    }
   ],
   "source": [
    "data = [21,22,23,24,25,26]\n",
    "\n",
    "print(data[5])\n",
    "print(data[-2])"
   ]
  },
  {
   "cell_type": "code",
   "execution_count": 8,
   "id": "0645c77f-a0af-4c2a-ba85-a270b36f948f",
   "metadata": {},
   "outputs": [
    {
     "name": "stdout",
     "output_type": "stream",
     "text": [
      "[24, 25]\n"
     ]
    }
   ],
   "source": [
    "#slicing \n",
    "print(data[3:5])"
   ]
  },
  {
   "cell_type": "code",
   "execution_count": 9,
   "id": "cf6c9480-2070-48c2-a9f6-eef7e135f304",
   "metadata": {},
   "outputs": [
    {
     "name": "stdout",
     "output_type": "stream",
     "text": [
      "[21, 22, 23, 24, 25, 26, 99]\n"
     ]
    }
   ],
   "source": [
    "# add item into list \n",
    "# append()\n",
    "data.append(99)\n",
    "print(data)"
   ]
  },
  {
   "cell_type": "code",
   "execution_count": 10,
   "id": "b4489649-90bb-46cc-844d-cc1ab2ae6321",
   "metadata": {},
   "outputs": [
    {
     "name": "stdout",
     "output_type": "stream",
     "text": [
      "[21, 22, 88, 23, 24, 25, 26, 99]\n"
     ]
    }
   ],
   "source": [
    "# insert(index,value)\n",
    "data.insert(2,88)\n",
    "print(data)"
   ]
  },
  {
   "cell_type": "code",
   "execution_count": 11,
   "id": "354c3c73-d19b-42b3-b9ae-b2c24a4485b0",
   "metadata": {},
   "outputs": [
    {
     "name": "stdout",
     "output_type": "stream",
     "text": [
      "[21, 22, 88, 23, 24, 25, 26, 99, 111, 222, 333]\n"
     ]
    }
   ],
   "source": [
    "# add large data \n",
    "my_list= [111,222,333]\n",
    "# extend()\n",
    "data.extend(my_list)\n",
    "print(data)"
   ]
  },
  {
   "cell_type": "code",
   "execution_count": 12,
   "id": "bc48d26a-3c1a-49a7-8c18-a9fc70928ff9",
   "metadata": {},
   "outputs": [
    {
     "name": "stdout",
     "output_type": "stream",
     "text": [
      "[21, 100, 88, 23, 24, 25, 26, 99, 111, 222, 333]\n"
     ]
    }
   ],
   "source": [
    "# update data \n",
    "data[1] = 100\n",
    "print(data)"
   ]
  },
  {
   "cell_type": "code",
   "execution_count": 14,
   "id": "d99e504f-d06f-46ec-a5ae-6ff83a8d8fa7",
   "metadata": {},
   "outputs": [
    {
     "name": "stdout",
     "output_type": "stream",
     "text": [
      "[21, 100, 88, 24, 25, 26, 99, 111, 222, 333]\n"
     ]
    }
   ],
   "source": [
    "#remove data \n",
    "data.remove(23)\n",
    "print(data)"
   ]
  },
  {
   "cell_type": "code",
   "execution_count": 16,
   "id": "c4199584-5192-448a-931b-4279c3f91269",
   "metadata": {},
   "outputs": [
    {
     "name": "stdout",
     "output_type": "stream",
     "text": [
      "[21, 100, 88, 24, 25, 26, 99, 111]\n"
     ]
    }
   ],
   "source": [
    "# pop()\n",
    "data.pop()\n",
    "print(data)"
   ]
  },
  {
   "cell_type": "code",
   "execution_count": 22,
   "id": "15c53994-c771-45ad-814d-892b9efd376b",
   "metadata": {},
   "outputs": [
    {
     "name": "stdout",
     "output_type": "stream",
     "text": [
      "[21, 100, 88, 24, 26, 99, 111]\n"
     ]
    }
   ],
   "source": [
    "# pop()\n",
    "data.pop(4)\n",
    "print(data)"
   ]
  },
  {
   "cell_type": "code",
   "execution_count": 18,
   "id": "9811cd25-fd50-49ba-a8d5-a67dfa102d40",
   "metadata": {},
   "outputs": [
    {
     "name": "stdout",
     "output_type": "stream",
     "text": [
      "494\n",
      "21\n",
      "111\n"
     ]
    }
   ],
   "source": [
    "# sum()\n",
    "print(sum(data))\n",
    "#min max\n",
    "print(min(data))\n",
    "print(max(data))"
   ]
  },
  {
   "cell_type": "code",
   "execution_count": 20,
   "id": "ac68fa1e-1964-4d55-b103-bb8a18f3ddd6",
   "metadata": {},
   "outputs": [
    {
     "name": "stdout",
     "output_type": "stream",
     "text": [
      "21\n",
      "100\n",
      "88\n",
      "24\n",
      "25\n",
      "26\n",
      "99\n",
      "111\n"
     ]
    }
   ],
   "source": [
    "# print using loop \n",
    "for i in data:\n",
    "    print(i)"
   ]
  },
  {
   "cell_type": "code",
   "execution_count": 21,
   "id": "7f116048-ba59-491f-aff4-a57d5f4e3ffc",
   "metadata": {},
   "outputs": [
    {
     "name": "stdin",
     "output_type": "stream",
     "text": [
      "Enter List Size -  3\n",
      "enter product name  apple\n",
      "enter product name  banana\n",
      "enter product name  orange\n"
     ]
    },
    {
     "name": "stdout",
     "output_type": "stream",
     "text": [
      "['apple', 'banana', 'orange']\n"
     ]
    }
   ],
   "source": [
    "# how to take user input into list\n",
    "product = []\n",
    "size = int(input('Enter List Size - '))\n",
    "\n",
    "for i in range(size):\n",
    "    i = input('enter product name ')\n",
    "    product.append(i)\n",
    "\n",
    "print(product)"
   ]
  },
  {
   "cell_type": "code",
   "execution_count": null,
   "id": "bf80fb95-f01b-4c05-83a5-5844f00d6953",
   "metadata": {},
   "outputs": [],
   "source": [
    "# https://github.com/Pankaj-Str/Complete-Python-Mastery/tree/main/12%20Day%20List"
   ]
  },
  {
   "cell_type": "code",
   "execution_count": null,
   "id": "7818832f-99e4-4b6c-b774-969f43b1db6c",
   "metadata": {},
   "outputs": [],
   "source": [
    "\n",
    "# -- User input section\n",
    "# Enter Product List Size : 4\n",
    "# Enter Product 1 -\n",
    "# Samosa\n",
    "# Enter Product 2 -\n",
    "# Kachori\n",
    "# Enter Product 3 -\n",
    "# Fafda\n",
    "# Enter Product 4 -\n",
    "# Jalebi\n",
    "\n",
    "# Enter Samosa Price :\n",
    "# 300/-\n",
    "# Enter Kachori Price :\n",
    "# 100/-\n",
    "# Enter Fafda Price :\n",
    "# 100/-\n",
    "# Enter Jalebi Price :\n",
    "# 200/-\n",
    "\n",
    "# --- output\n",
    "\n",
    "# samosa = 300\n",
    "# kachori = 100\n",
    "# fafda = 100\n",
    "# jalebi = 200\n"
   ]
  }
 ],
 "metadata": {
  "kernelspec": {
   "display_name": "Python 3 (ipykernel)",
   "language": "python",
   "name": "python3"
  },
  "language_info": {
   "codemirror_mode": {
    "name": "ipython",
    "version": 3
   },
   "file_extension": ".py",
   "mimetype": "text/x-python",
   "name": "python",
   "nbconvert_exporter": "python",
   "pygments_lexer": "ipython3",
   "version": "3.12.7"
  }
 },
 "nbformat": 4,
 "nbformat_minor": 5
}
