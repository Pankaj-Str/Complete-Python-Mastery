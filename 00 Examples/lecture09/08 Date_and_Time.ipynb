{
 "cells": [
  {
   "cell_type": "code",
   "execution_count": 1,
   "id": "f65254cd",
   "metadata": {},
   "outputs": [],
   "source": [
    "from datetime import date"
   ]
  },
  {
   "cell_type": "code",
   "execution_count": 2,
   "id": "c7299760",
   "metadata": {},
   "outputs": [
    {
     "name": "stdout",
     "output_type": "stream",
     "text": [
      "Today's date: 2025-08-05\n"
     ]
    }
   ],
   "source": [
    "# show today's date\n",
    "today = date.today()\n",
    "print(\"Today's date:\", today)"
   ]
  },
  {
   "cell_type": "code",
   "execution_count": 4,
   "id": "bde105b2",
   "metadata": {},
   "outputs": [
    {
     "name": "stdout",
     "output_type": "stream",
     "text": [
      "Year: 2025\n"
     ]
    }
   ],
   "source": [
    "# show only the year\n",
    "print(\"Year:\", today.year)"
   ]
  },
  {
   "cell_type": "code",
   "execution_count": 5,
   "id": "8148be17",
   "metadata": {},
   "outputs": [
    {
     "name": "stdout",
     "output_type": "stream",
     "text": [
      "Month: 8\n",
      "Day: 5\n"
     ]
    }
   ],
   "source": [
    "# show month and day\n",
    "print(\"Month:\", today.month)\n",
    "print(\"Day:\", today.day)"
   ]
  },
  {
   "cell_type": "code",
   "execution_count": 7,
   "id": "c7d319ee",
   "metadata": {},
   "outputs": [
    {
     "name": "stdout",
     "output_type": "stream",
     "text": [
      "Month name: August\n",
      "Day of the week: Tuesday\n"
     ]
    }
   ],
   "source": [
    "# show month name and day of the week\n",
    "print(\"Month name:\", today.strftime(\"%B\"))\n",
    "print(\"Day of the week:\", today.strftime(\"%A\"))"
   ]
  },
  {
   "cell_type": "code",
   "execution_count": 8,
   "id": "1f3a1e99",
   "metadata": {},
   "outputs": [
    {
     "name": "stdout",
     "output_type": "stream",
     "text": [
      "Specific date: 2023-10-01\n"
     ]
    }
   ],
   "source": [
    "# change the date to a specific one\n",
    "specific_date = date(2023, 10, 1)\n",
    "print(\"Specific date:\", specific_date)"
   ]
  },
  {
   "cell_type": "code",
   "execution_count": 21,
   "id": "6cf2828a",
   "metadata": {},
   "outputs": [
    {
     "name": "stdout",
     "output_type": "stream",
     "text": [
      "Current time: 08:51:40\n"
     ]
    }
   ],
   "source": [
    "# time module\n",
    "import time\n",
    "# show current time\n",
    "current_time = time.localtime()\n",
    "print(\"Current time:\", time.strftime(\"%H:%M:%S\", current_time))\n",
    "\n",
    "# show milliseconds since epoch\n",
    "milliseconds_since_epoch = int(time.time() * 1000)\n"
   ]
  },
  {
   "cell_type": "code",
   "execution_count": 24,
   "id": "1bb9ec3e",
   "metadata": {},
   "outputs": [
    {
     "name": "stdout",
     "output_type": "stream",
     "text": [
      "51\n"
     ]
    }
   ],
   "source": [
    "# show minute\n",
    "print(time.strftime(\"%M\", current_time))"
   ]
  },
  {
   "cell_type": "code",
   "execution_count": 26,
   "id": "e80a4796",
   "metadata": {},
   "outputs": [
    {
     "name": "stdout",
     "output_type": "stream",
     "text": [
      "    October 2023\n",
      "Mo Tu We Th Fr Sa Su\n",
      "                   1\n",
      " 2  3  4  5  6  7  8\n",
      " 9 10 11 12 13 14 15\n",
      "16 17 18 19 20 21 22\n",
      "23 24 25 26 27 28 29\n",
      "30 31\n",
      "\n"
     ]
    }
   ],
   "source": [
    "# show calendar\n",
    "import calendar\n",
    "# print the calendar for October 2023\n",
    "print(calendar.month(2023, 10))"
   ]
  },
  {
   "cell_type": "code",
   "execution_count": 29,
   "id": "6979f6bf",
   "metadata": {},
   "outputs": [
    {
     "name": "stdout",
     "output_type": "stream",
     "text": [
      "Specific date: 2023-10-01\n",
      "Year: 2023\n",
      "Month: 10\n"
     ]
    }
   ],
   "source": [
    "# show year, month, and day of a specific date\n",
    "specific_date = date(2023, 10, 1)\n",
    "print(\"Specific date:\", specific_date)\n",
    "print(\"Year:\", specific_date.year)\n",
    "print(\"Month:\", specific_date.month)"
   ]
  },
  {
   "cell_type": "code",
   "execution_count": 31,
   "id": "2501ee9d",
   "metadata": {},
   "outputs": [
    {
     "name": "stdout",
     "output_type": "stream",
     "text": [
      "    January 2023\n",
      "Mo Tu We Th Fr Sa Su\n",
      "                   1\n",
      " 2  3  4  5  6  7  8\n",
      " 9 10 11 12 13 14 15\n",
      "16 17 18 19 20 21 22\n",
      "23 24 25 26 27 28 29\n",
      "30 31\n",
      "\n",
      "   February 2023\n",
      "Mo Tu We Th Fr Sa Su\n",
      "       1  2  3  4  5\n",
      " 6  7  8  9 10 11 12\n",
      "13 14 15 16 17 18 19\n",
      "20 21 22 23 24 25 26\n",
      "27 28\n",
      "\n",
      "     March 2023\n",
      "Mo Tu We Th Fr Sa Su\n",
      "       1  2  3  4  5\n",
      " 6  7  8  9 10 11 12\n",
      "13 14 15 16 17 18 19\n",
      "20 21 22 23 24 25 26\n",
      "27 28 29 30 31\n",
      "\n",
      "     April 2023\n",
      "Mo Tu We Th Fr Sa Su\n",
      "                1  2\n",
      " 3  4  5  6  7  8  9\n",
      "10 11 12 13 14 15 16\n",
      "17 18 19 20 21 22 23\n",
      "24 25 26 27 28 29 30\n",
      "\n",
      "      May 2023\n",
      "Mo Tu We Th Fr Sa Su\n",
      " 1  2  3  4  5  6  7\n",
      " 8  9 10 11 12 13 14\n",
      "15 16 17 18 19 20 21\n",
      "22 23 24 25 26 27 28\n",
      "29 30 31\n",
      "\n",
      "     June 2023\n",
      "Mo Tu We Th Fr Sa Su\n",
      "          1  2  3  4\n",
      " 5  6  7  8  9 10 11\n",
      "12 13 14 15 16 17 18\n",
      "19 20 21 22 23 24 25\n",
      "26 27 28 29 30\n",
      "\n",
      "     July 2023\n",
      "Mo Tu We Th Fr Sa Su\n",
      "                1  2\n",
      " 3  4  5  6  7  8  9\n",
      "10 11 12 13 14 15 16\n",
      "17 18 19 20 21 22 23\n",
      "24 25 26 27 28 29 30\n",
      "31\n",
      "\n",
      "    August 2023\n",
      "Mo Tu We Th Fr Sa Su\n",
      "    1  2  3  4  5  6\n",
      " 7  8  9 10 11 12 13\n",
      "14 15 16 17 18 19 20\n",
      "21 22 23 24 25 26 27\n",
      "28 29 30 31\n",
      "\n",
      "   September 2023\n",
      "Mo Tu We Th Fr Sa Su\n",
      "             1  2  3\n",
      " 4  5  6  7  8  9 10\n",
      "11 12 13 14 15 16 17\n",
      "18 19 20 21 22 23 24\n",
      "25 26 27 28 29 30\n",
      "\n",
      "    October 2023\n",
      "Mo Tu We Th Fr Sa Su\n",
      "                   1\n",
      " 2  3  4  5  6  7  8\n",
      " 9 10 11 12 13 14 15\n",
      "16 17 18 19 20 21 22\n",
      "23 24 25 26 27 28 29\n",
      "30 31\n",
      "\n",
      "   November 2023\n",
      "Mo Tu We Th Fr Sa Su\n",
      "       1  2  3  4  5\n",
      " 6  7  8  9 10 11 12\n",
      "13 14 15 16 17 18 19\n",
      "20 21 22 23 24 25 26\n",
      "27 28 29 30\n",
      "\n",
      "   December 2023\n",
      "Mo Tu We Th Fr Sa Su\n",
      "             1  2  3\n",
      " 4  5  6  7  8  9 10\n",
      "11 12 13 14 15 16 17\n",
      "18 19 20 21 22 23 24\n",
      "25 26 27 28 29 30 31\n",
      "\n"
     ]
    }
   ],
   "source": [
    "# show all months in a year\n",
    "for month in range(1, 13):\n",
    "    print(calendar.month(2023, month))"
   ]
  },
  {
   "cell_type": "code",
   "execution_count": 32,
   "id": "e92a17c9",
   "metadata": {},
   "outputs": [
    {
     "name": "stdout",
     "output_type": "stream",
     "text": [
      "Difference in days: 14\n"
     ]
    }
   ],
   "source": [
    "# calculate the difference between two dates\n",
    "from datetime import timedelta\n",
    "date1 = date(2023, 10, 1)\n",
    "date2 = date(2023, 10, 15)  \n",
    "date_difference = date2 - date1\n",
    "print(\"Difference in days:\", date_difference.days)"
   ]
  },
  {
   "cell_type": "code",
   "execution_count": 33,
   "id": "caacbc0c",
   "metadata": {},
   "outputs": [
    {
     "name": "stdout",
     "output_type": "stream",
     "text": [
      "Time difference in minutes: 150.0\n"
     ]
    }
   ],
   "source": [
    "# calculate the difference between two times\n",
    "from datetime import datetime\n",
    "time1 = datetime(2023, 10, 1, 12, 0, 0)\n",
    "time2 = datetime(2023, 10, 1, 14, 30, 0)\n",
    "time_difference = time2 - time1\n",
    "print(\"Time difference in minutes:\", time_difference.total_seconds() / 60)"
   ]
  }
 ],
 "metadata": {
  "kernelspec": {
   "display_name": "Python 3",
   "language": "python",
   "name": "python3"
  },
  "language_info": {
   "codemirror_mode": {
    "name": "ipython",
    "version": 3
   },
   "file_extension": ".py",
   "mimetype": "text/x-python",
   "name": "python",
   "nbconvert_exporter": "python",
   "pygments_lexer": "ipython3",
   "version": "3.13.5"
  }
 },
 "nbformat": 4,
 "nbformat_minor": 5
}
