{
 "cells": [
  {
   "cell_type": "code",
   "execution_count": 1,
   "id": "c4b77c5b",
   "metadata": {},
   "outputs": [
    {
     "name": "stdout",
     "output_type": "stream",
     "text": [
      "<class 'list'>\n",
      "[]\n"
     ]
    }
   ],
   "source": [
    "# create a empty list \n",
    "my_list = []\n",
    "# type \n",
    "print(type(my_list))\n",
    "print(my_list)"
   ]
  },
  {
   "cell_type": "code",
   "execution_count": 2,
   "id": "518b9a7f",
   "metadata": {},
   "outputs": [
    {
     "name": "stdout",
     "output_type": "stream",
     "text": [
      "[21, 22, 23, 24, 25]\n"
     ]
    }
   ],
   "source": [
    "# create a int list\n",
    "data = [21,22,23,24,25]\n",
    "print(data)"
   ]
  },
  {
   "cell_type": "code",
   "execution_count": 5,
   "id": "9877a3dd",
   "metadata": {},
   "outputs": [
    {
     "name": "stdout",
     "output_type": "stream",
     "text": [
      "24\n",
      "[22, 23, 24]\n",
      "[21, 22, 23]\n",
      "[23, 24, 25]\n",
      "[21, 22, 23, 24, 25]\n"
     ]
    }
   ],
   "source": [
    "# accessing elements\n",
    "print(data[3])\n",
    "\n",
    "# slicing\n",
    "print(data[1:4])\n",
    "print(data[:3])\n",
    "print(data[2:])\n",
    "print(data[:])"
   ]
  },
  {
   "cell_type": "code",
   "execution_count": 6,
   "id": "80fe35b7",
   "metadata": {},
   "outputs": [
    {
     "name": "stdout",
     "output_type": "stream",
     "text": [
      "[21, 22, 23, 24, 25, 26]\n"
     ]
    }
   ],
   "source": [
    "# add new element\n",
    "data.append(26)\n",
    "print(data)"
   ]
  },
  {
   "cell_type": "code",
   "execution_count": 7,
   "id": "ae0f136f",
   "metadata": {},
   "outputs": [
    {
     "name": "stdout",
     "output_type": "stream",
     "text": [
      "[21, 22, 99, 23, 24, 25, 26]\n"
     ]
    }
   ],
   "source": [
    "# insert element at specific position\n",
    "data.insert(2, 99)\n",
    "print(data)"
   ]
  },
  {
   "cell_type": "code",
   "execution_count": 8,
   "id": "946f2b47",
   "metadata": {},
   "outputs": [
    {
     "name": "stdout",
     "output_type": "stream",
     "text": [
      "[21, 22, 99, 23, 24, 25, 26, 100, 101, 102]\n"
     ]
    }
   ],
   "source": [
    "# extend list by another list\n",
    "data.extend([100,101,102])\n",
    "print(data)"
   ]
  },
  {
   "cell_type": "code",
   "execution_count": 9,
   "id": "27bede85",
   "metadata": {},
   "outputs": [
    {
     "name": "stdout",
     "output_type": "stream",
     "text": [
      "[21, 22, 99, 55, 24, 25, 26, 100, 101, 102]\n"
     ]
    }
   ],
   "source": [
    "# update element\n",
    "data[3] = 55\n",
    "print(data)"
   ]
  },
  {
   "cell_type": "code",
   "execution_count": 10,
   "id": "49a6c0e7",
   "metadata": {},
   "outputs": [
    {
     "name": "stdout",
     "output_type": "stream",
     "text": [
      "[21, 22, 55, 24, 25, 26, 100, 101, 102]\n"
     ]
    }
   ],
   "source": [
    "# delete element\n",
    "del data[2]\n",
    "print(data)"
   ]
  },
  {
   "cell_type": "code",
   "execution_count": 11,
   "id": "5de1321d",
   "metadata": {},
   "outputs": [
    {
     "name": "stdout",
     "output_type": "stream",
     "text": [
      "[21, 22, 55, 24, 25, 26, 101, 102]\n"
     ]
    }
   ],
   "source": [
    "# remove element by value\n",
    "data.remove(100)\n",
    "print(data)"
   ]
  },
  {
   "cell_type": "code",
   "execution_count": 15,
   "id": "3913a489",
   "metadata": {},
   "outputs": [
    {
     "name": "stdout",
     "output_type": "stream",
     "text": [
      "26\n",
      "[21, 22, 55, 24, 25]\n"
     ]
    }
   ],
   "source": [
    "# pop element from list\n",
    "popped_value = data.pop()\n",
    "print(popped_value)\n",
    "print(data)"
   ]
  },
  {
   "cell_type": "code",
   "execution_count": 21,
   "id": "c1a62e1d",
   "metadata": {},
   "outputs": [
    {
     "name": "stdout",
     "output_type": "stream",
     "text": [
      "5\n",
      "147\n",
      "21\n",
      "55\n",
      "[21, 22, 24, 25, 55]\n",
      "[55, 25, 24, 22, 21]\n"
     ]
    }
   ],
   "source": [
    "# methods\n",
    "print(len(data))\n",
    "\n",
    "# sum()\n",
    "print(sum(data))\n",
    "\n",
    "# min()\n",
    "print(min(data))\n",
    "\n",
    "# max()\n",
    "print(max(data))\n",
    "\n",
    "# sort()\n",
    "data.sort()\n",
    "print(data)\n",
    "\n",
    "# reverse()\n",
    "data.reverse()\n",
    "print(data)"
   ]
  },
  {
   "cell_type": "code",
   "execution_count": 22,
   "id": "33aaec15",
   "metadata": {},
   "outputs": [
    {
     "name": "stdout",
     "output_type": "stream",
     "text": [
      "55\n",
      "25\n",
      "24\n",
      "22\n",
      "21\n"
     ]
    }
   ],
   "source": [
    "for i in data:\n",
    "    print(i)\n"
   ]
  },
  {
   "cell_type": "code",
   "execution_count": 23,
   "id": "73fbc329",
   "metadata": {},
   "outputs": [
    {
     "name": "stdout",
     "output_type": "stream",
     "text": [
      "[]\n"
     ]
    }
   ],
   "source": [
    "# clear()\n",
    "data.clear()\n",
    "print(data)"
   ]
  }
 ],
 "metadata": {
  "kernelspec": {
   "display_name": "Python 3",
   "language": "python",
   "name": "python3"
  },
  "language_info": {
   "codemirror_mode": {
    "name": "ipython",
    "version": 3
   },
   "file_extension": ".py",
   "mimetype": "text/x-python",
   "name": "python",
   "nbconvert_exporter": "python",
   "pygments_lexer": "ipython3",
   "version": "3.13.5"
  }
 },
 "nbformat": 4,
 "nbformat_minor": 5
}
