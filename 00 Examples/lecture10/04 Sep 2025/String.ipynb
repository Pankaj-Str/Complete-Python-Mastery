{
 "cells": [
  {
   "cell_type": "code",
   "execution_count": 1,
   "id": "c9e09af9",
   "metadata": {},
   "outputs": [
    {
     "name": "stdout",
     "output_type": "stream",
     "text": [
      "Codes With Pankaj\n"
     ]
    }
   ],
   "source": [
    "data = \"Codes With Pankaj\"\n",
    "print(data)"
   ]
  },
  {
   "cell_type": "code",
   "execution_count": 7,
   "id": "ad8424fb",
   "metadata": {},
   "outputs": [
    {
     "name": "stdout",
     "output_type": "stream",
     "text": [
      "s\n",
      "es With\n",
      "Codes With\n",
      "Pankaj\n"
     ]
    }
   ],
   "source": [
    "# accessing characters\n",
    "print(data[4])\n",
    "print(data[3:10])\n",
    "print(data[:10])\n",
    "print(data[11:])"
   ]
  },
  {
   "cell_type": "code",
   "execution_count": 8,
   "id": "57b41f5a",
   "metadata": {},
   "outputs": [
    {
     "name": "stdout",
     "output_type": "stream",
     "text": [
      "C\n",
      "o\n",
      "d\n",
      "e\n",
      "s\n",
      " \n",
      "W\n",
      "i\n",
      "t\n",
      "h\n",
      " \n",
      "P\n",
      "a\n",
      "n\n",
      "k\n",
      "a\n",
      "j\n"
     ]
    }
   ],
   "source": [
    "for i in data:\n",
    "    print(i)"
   ]
  },
  {
   "cell_type": "code",
   "execution_count": 13,
   "id": "f2e4eda1",
   "metadata": {},
   "outputs": [
    {
     "name": "stdout",
     "output_type": "stream",
     "text": [
      "my name is  joy , my age is  22  and my height is  5.7\n",
      "my name is joy , my age is 22 and my height is 5.7\n",
      "my name is joy , my age is 22 and my height is 5.7\n"
     ]
    }
   ],
   "source": [
    "# formatting\n",
    "\n",
    "name = \"joy\"\n",
    "age = 22\n",
    "height = 5.7\n",
    "\n",
    "print(\"my name is \" ,name , \", my age is \" , age , \" and my height is \" ,height)\n",
    "\n",
    "print(\"my name is {0} , my age is {1} and my height is {2}\".format(name,age,height))\n",
    "\n",
    "print(f\"my name is {name} , my age is {age} and my height is {height}\")"
   ]
  },
  {
   "cell_type": "code",
   "execution_count": 15,
   "id": "a1c2dd32",
   "metadata": {},
   "outputs": [
    {
     "name": "stdout",
     "output_type": "stream",
     "text": [
      "   CODES WITH PANKAJ   \n",
      "   codes with pankaj   \n"
     ]
    }
   ],
   "source": [
    "data = \"   Codes With Pankaj   \"\n",
    "# 1. upper() converts the string to uppercase\n",
    "print(data.upper())\n",
    "# 2. lower() converts the string to lowercase\n",
    "print(data.lower())\n",
    "\t\t"
   ]
  },
  {
   "cell_type": "code",
   "execution_count": 36,
   "id": "5528edbd",
   "metadata": {},
   "outputs": [
    {
     "name": "stdout",
     "output_type": "stream",
     "text": [
      "('12345', '', '')\n",
      "12345\n",
      "-1\n",
      "welcome 12345 website\n",
      "['12345']\n",
      "False\n",
      "True\n",
      "4\n"
     ]
    }
   ],
   "source": [
    "# 3. partition() returns a tuple\n",
    "print(data.partition(\"With\"))\n",
    "# 4. replace() replaces substring inside\n",
    "print(data.replace(\"Pankaj\",\"python\"))\n",
    "# 5. find() returns the index of first occurrence of substring\n",
    "print(data.find(\"Pankaj\"))\n",
    "# 6. rstrip() removes last trailing characters\n",
    "print(\"welcome\",data.rstrip(),\"website\")\n",
    "# 7. split() splits string from left\n",
    "print(data.split(\" \"))\n",
    "# 8. startswith() checks if string starts with the specified string\n",
    "print(data.startswith(\"   p\"))\n",
    "# 9. isnumeric() checks numeric characters\n",
    "data = \"12345\"\n",
    "print(data.isnumeric())\n",
    "\n",
    "# 10. index() returns index of substring\n",
    "data = \"python\"\n",
    "print(data.index(\"o\"))"
   ]
  }
 ],
 "metadata": {
  "kernelspec": {
   "display_name": "Python 3",
   "language": "python",
   "name": "python3"
  },
  "language_info": {
   "codemirror_mode": {
    "name": "ipython",
    "version": 3
   },
   "file_extension": ".py",
   "mimetype": "text/x-python",
   "name": "python",
   "nbconvert_exporter": "python",
   "pygments_lexer": "ipython3",
   "version": "3.13.5"
  }
 },
 "nbformat": 4,
 "nbformat_minor": 5
}
