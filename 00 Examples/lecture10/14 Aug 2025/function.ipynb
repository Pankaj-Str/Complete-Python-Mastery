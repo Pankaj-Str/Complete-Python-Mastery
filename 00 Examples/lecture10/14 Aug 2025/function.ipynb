{
 "cells": [
  {
   "cell_type": "code",
   "execution_count": null,
   "id": "04d1e5af",
   "metadata": {},
   "outputs": [],
   "source": [
    "# basic function \n",
    "\n",
    "# def FunctionName():\n",
    "       #output\n",
    "       #statement"
   ]
  },
  {
   "cell_type": "code",
   "execution_count": null,
   "id": "8cc10e45",
   "metadata": {},
   "outputs": [],
   "source": [
    "# example \n",
    "def greet():\n",
    "    print(\"Hello, World!\")\n",
    "    print(\"Welcome to Python programming.\")"
   ]
  },
  {
   "cell_type": "code",
   "execution_count": 7,
   "id": "789dd6f3",
   "metadata": {},
   "outputs": [
    {
     "name": "stdout",
     "output_type": "stream",
     "text": [
      "Hello, World!\n",
      "Welcome to Python programming.\n",
      "Hello, World!\n",
      "Welcome to Python programming.\n"
     ]
    }
   ],
   "source": [
    "# calling the function\n",
    "greet()\n",
    "greet()"
   ]
  },
  {
   "cell_type": "code",
   "execution_count": null,
   "id": "91b90578",
   "metadata": {},
   "outputs": [],
   "source": [
    "# basic function with parameters (variable inputs) (arguments)\n",
    "\n",
    "# def FunctionName(variable1, variable2):\n",
    "#     #output\n",
    "#     #statement"
   ]
  },
  {
   "cell_type": "code",
   "execution_count": 8,
   "id": "84fd81a6",
   "metadata": {},
   "outputs": [],
   "source": [
    "# example \n",
    "def add_numbers(number1, number2):\n",
    "    result = number1 + number2\n",
    "    print('this is the result of the addition:', result)"
   ]
  },
  {
   "cell_type": "code",
   "execution_count": 9,
   "id": "f90e371f",
   "metadata": {},
   "outputs": [
    {
     "name": "stdout",
     "output_type": "stream",
     "text": [
      "this is the result of the addition: 15\n",
      "this is the result of the addition: 50\n",
      "this is the result of the addition: 300\n"
     ]
    }
   ],
   "source": [
    "add_numbers(5, 10)\n",
    "add_numbers(20, 30)\n",
    "add_numbers(100, 200)"
   ]
  },
  {
   "cell_type": "code",
   "execution_count": 12,
   "id": "7852415e",
   "metadata": {},
   "outputs": [],
   "source": [
    "# example 2\n",
    "\n",
    "# print bill\n",
    "\n",
    "def bill(amount,tax):\n",
    "    tax_amount = amount*tax/100\n",
    "    final_amount = amount + tax_amount\n",
    "    print('Price : ', amount,'₹')\n",
    "    print('tax amount : ', tax_amount,'₹')\n",
    "    print('Tax : ', tax,'%')\n",
    "    print('Final amount : ', final_amount,'₹')\n",
    "    print('-------------------------------------')"
   ]
  },
  {
   "cell_type": "code",
   "execution_count": 11,
   "id": "77bede9d",
   "metadata": {},
   "outputs": [
    {
     "name": "stdout",
     "output_type": "stream",
     "text": [
      "Price :  1200 ₹\n",
      "tax amount :  216.0 ₹\n",
      "Tax :  18 %\n",
      "Final amount :  1416.0 ₹\n",
      "-------------------------------------\n",
      "Price :  1500 ₹\n",
      "tax amount :  180.0 ₹\n",
      "Tax :  12 %\n",
      "Final amount :  1680.0 ₹\n",
      "-------------------------------------\n",
      "Price :  2000 ₹\n",
      "tax amount :  40.0 ₹\n",
      "Tax :  2 %\n",
      "Final amount :  2040.0 ₹\n",
      "-------------------------------------\n",
      "Price :  1000 ₹\n",
      "tax amount :  90.0 ₹\n",
      "Tax :  9 %\n",
      "Final amount :  1090.0 ₹\n",
      "-------------------------------------\n"
     ]
    }
   ],
   "source": [
    "bill(1200,18)\n",
    "bill(1500,12)\n",
    "bill(2000,2)\n",
    "bill(1000,9)"
   ]
  }
 ],
 "metadata": {
  "kernelspec": {
   "display_name": "Python 3",
   "language": "python",
   "name": "python3"
  },
  "language_info": {
   "codemirror_mode": {
    "name": "ipython",
    "version": 3
   },
   "file_extension": ".py",
   "mimetype": "text/x-python",
   "name": "python",
   "nbconvert_exporter": "python",
   "pygments_lexer": "ipython3",
   "version": "3.13.5"
  }
 },
 "nbformat": 4,
 "nbformat_minor": 5
}
