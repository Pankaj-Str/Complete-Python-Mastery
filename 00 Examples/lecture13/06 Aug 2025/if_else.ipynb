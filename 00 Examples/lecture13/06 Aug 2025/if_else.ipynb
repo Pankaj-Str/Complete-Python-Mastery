{
 "cells": [
  {
   "cell_type": "code",
   "execution_count": 6,
   "id": "3a9ff8fb",
   "metadata": {},
   "outputs": [
    {
     "name": "stdout",
     "output_type": "stream",
     "text": [
      "a is smallest...\n"
     ]
    }
   ],
   "source": [
    "a = 5\n",
    "b = 50\n",
    "c = 52\n",
    "\n",
    "if a < b and a < c:\n",
    "    print(\"a is smallest...\")\n",
    "elif b < a and b < c:\n",
    "    print(\"B is smallest...\")\n",
    "else:\n",
    "    print(\"C is smallest...\")"
   ]
  }
 ],
 "metadata": {
  "kernelspec": {
   "display_name": "Python 3",
   "language": "python",
   "name": "python3"
  },
  "language_info": {
   "codemirror_mode": {
    "name": "ipython",
    "version": 3
   },
   "file_extension": ".py",
   "mimetype": "text/x-python",
   "name": "python",
   "nbconvert_exporter": "python",
   "pygments_lexer": "ipython3",
   "version": "3.13.5"
  }
 },
 "nbformat": 4,
 "nbformat_minor": 5
}
