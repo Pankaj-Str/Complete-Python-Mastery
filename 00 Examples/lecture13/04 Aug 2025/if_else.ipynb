{
 "cells": [
  {
   "cell_type": "code",
   "execution_count": 1,
   "id": "28d79c97",
   "metadata": {},
   "outputs": [
    {
     "name": "stdout",
     "output_type": "stream",
     "text": [
      "x is smallest ....\n"
     ]
    }
   ],
   "source": [
    "x = 45\n",
    "y = 67\n",
    "\n",
    "if x < y:\n",
    "    print(\"x is smallest ....\")\n",
    "else:\n",
    "    print(\"x is not smallest...\")"
   ]
  }
 ],
 "metadata": {
  "kernelspec": {
   "display_name": "Python 3",
   "language": "python",
   "name": "python3"
  },
  "language_info": {
   "codemirror_mode": {
    "name": "ipython",
    "version": 3
   },
   "file_extension": ".py",
   "mimetype": "text/x-python",
   "name": "python",
   "nbconvert_exporter": "python",
   "pygments_lexer": "ipython3",
   "version": "3.13.5"
  }
 },
 "nbformat": 4,
 "nbformat_minor": 5
}
