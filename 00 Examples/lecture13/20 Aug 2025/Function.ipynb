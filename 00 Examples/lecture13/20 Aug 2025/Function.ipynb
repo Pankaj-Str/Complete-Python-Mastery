{
 "cells": [
  {
   "cell_type": "code",
   "execution_count": 3,
   "id": "b0334ef7",
   "metadata": {},
   "outputs": [],
   "source": [
    "# Basic Function \n",
    "def info():\n",
    "    print(\"welcome to codes with pankaj\")\n",
    "    print(\"python programming tutorial\")"
   ]
  },
  {
   "cell_type": "code",
   "execution_count": 5,
   "id": "67997de4",
   "metadata": {},
   "outputs": [
    {
     "name": "stdout",
     "output_type": "stream",
     "text": [
      "welcome to codes with pankaj\n",
      "python programming tutorial\n",
      "welcome to codes with pankaj\n",
      "python programming tutorial\n"
     ]
    }
   ],
   "source": [
    "info()\n",
    "info()"
   ]
  },
  {
   "cell_type": "code",
   "execution_count": 6,
   "id": "be109c53",
   "metadata": {},
   "outputs": [],
   "source": [
    "# function with arg.\n",
    "\n",
    "def add(number1 , number2):\n",
    "    result = number2 +number1\n",
    "    print(\"This is your Result : \",result)"
   ]
  },
  {
   "cell_type": "code",
   "execution_count": 8,
   "id": "49a9b855",
   "metadata": {},
   "outputs": [
    {
     "name": "stdout",
     "output_type": "stream",
     "text": [
      "This is your Result :  101\n",
      "This is your Result :  301\n"
     ]
    }
   ],
   "source": [
    "add(45,56)\n",
    "add(145,156)"
   ]
  },
  {
   "cell_type": "code",
   "execution_count": 9,
   "id": "fb0b2013",
   "metadata": {},
   "outputs": [],
   "source": [
    "def bill(price,gst):\n",
    "    gst_amount = price*gst/100\n",
    "    final_total = price+gst_amount\n",
    "    print('Price = ',price,'₹')\n",
    "    print('GST = ',gst,'%')\n",
    "    print('GST Amount = ',gst_amount,'₹')\n",
    "    print('MRP = ',final_total,'₹')\n",
    "    print('----------------------------')"
   ]
  },
  {
   "cell_type": "code",
   "execution_count": 10,
   "id": "d862d367",
   "metadata": {},
   "outputs": [
    {
     "name": "stdout",
     "output_type": "stream",
     "text": [
      "Price =  1200 ₹\n",
      "GST =  18 %\n",
      "GST Amount =  216.0 ₹\n",
      "MRP =  1416.0 ₹\n",
      "----------------------------\n",
      "Price =  4500 ₹\n",
      "GST =  9 %\n",
      "GST Amount =  405.0 ₹\n",
      "MRP =  4905.0 ₹\n",
      "----------------------------\n",
      "Price =  7000 ₹\n",
      "GST =  2 %\n",
      "GST Amount =  140.0 ₹\n",
      "MRP =  7140.0 ₹\n",
      "----------------------------\n"
     ]
    }
   ],
   "source": [
    "bill(1200,18)\n",
    "bill(4500,9)\n",
    "bill(7000,2)"
   ]
  }
 ],
 "metadata": {
  "kernelspec": {
   "display_name": "Python 3",
   "language": "python",
   "name": "python3"
  },
  "language_info": {
   "codemirror_mode": {
    "name": "ipython",
    "version": 3
   },
   "file_extension": ".py",
   "mimetype": "text/x-python",
   "name": "python",
   "nbconvert_exporter": "python",
   "pygments_lexer": "ipython3",
   "version": "3.13.5"
  }
 },
 "nbformat": 4,
 "nbformat_minor": 5
}
