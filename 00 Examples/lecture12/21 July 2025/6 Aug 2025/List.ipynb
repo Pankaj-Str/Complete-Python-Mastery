{
 "cells": [
  {
   "cell_type": "code",
   "execution_count": 2,
   "id": "85470521",
   "metadata": {},
   "outputs": [
    {
     "name": "stdout",
     "output_type": "stream",
     "text": [
      "[]\n",
      "<class 'list'>\n"
     ]
    }
   ],
   "source": [
    "# empty list\n",
    "data = []\n",
    "print(data)\n",
    "# check type\n",
    "print(type(data))"
   ]
  },
  {
   "cell_type": "code",
   "execution_count": 3,
   "id": "74cf2428",
   "metadata": {},
   "outputs": [
    {
     "name": "stdout",
     "output_type": "stream",
     "text": [
      "['apple', 'orange', 900, 7.8]\n"
     ]
    }
   ],
   "source": [
    "data = [\"apple\",\"orange\",900,7.8]\n",
    "print(data)"
   ]
  },
  {
   "cell_type": "code",
   "execution_count": 10,
   "id": "c8d802fd",
   "metadata": {},
   "outputs": [
    {
     "name": "stdout",
     "output_type": "stream",
     "text": [
      "[12, 13, 14, 15, 16]\n",
      "15\n",
      "[15, 16]\n",
      "[13, 14, 15]\n",
      "[12, 13, 14]\n",
      "[12, 13, 14, 15, 16]\n"
     ]
    }
   ],
   "source": [
    "data = [12,13,14,15,16]\n",
    "print(data)\n",
    "print(data[3])\n",
    "print(data[3:])\n",
    "print(data[1:4])\n",
    "print(data[:3])\n",
    "print(data[:])"
   ]
  },
  {
   "cell_type": "code",
   "execution_count": null,
   "id": "6c7917bd",
   "metadata": {},
   "outputs": [
    {
     "name": "stdout",
     "output_type": "stream",
     "text": [
      "[12, 13, 14, 15, 16, 99]\n"
     ]
    }
   ],
   "source": [
    "# add new single item into list\n",
    "data.append(99)\n",
    "print(data)"
   ]
  },
  {
   "cell_type": "code",
   "execution_count": 12,
   "id": "93e54414",
   "metadata": {},
   "outputs": [
    {
     "name": "stdout",
     "output_type": "stream",
     "text": [
      "[12, 13, 14, 15, 16, 99, 11, 22, 33]\n"
     ]
    }
   ],
   "source": [
    "# add new multipal item\n",
    "data.extend([11,22,33])\n",
    "print(data)"
   ]
  },
  {
   "cell_type": "code",
   "execution_count": 13,
   "id": "4fd89b19",
   "metadata": {},
   "outputs": [
    {
     "name": "stdout",
     "output_type": "stream",
     "text": [
      "[12, 13, 14, 100, 15, 16, 99, 11, 22, 33]\n"
     ]
    }
   ],
   "source": [
    "# insert data\n",
    "data.insert(3,100)\n",
    "print(data)"
   ]
  },
  {
   "cell_type": "code",
   "execution_count": null,
   "id": "538e213c",
   "metadata": {},
   "outputs": [],
   "source": []
  }
 ],
 "metadata": {
  "kernelspec": {
   "display_name": "Python 3",
   "language": "python",
   "name": "python3"
  },
  "language_info": {
   "codemirror_mode": {
    "name": "ipython",
    "version": 3
   },
   "file_extension": ".py",
   "mimetype": "text/x-python",
   "name": "python",
   "nbconvert_exporter": "python",
   "pygments_lexer": "ipython3",
   "version": "3.13.5"
  }
 },
 "nbformat": 4,
 "nbformat_minor": 5
}
