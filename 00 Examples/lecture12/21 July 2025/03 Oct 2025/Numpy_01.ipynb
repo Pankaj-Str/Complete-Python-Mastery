{
 "cells": [
  {
   "cell_type": "code",
   "execution_count": 1,
   "id": "1aff6001",
   "metadata": {},
   "outputs": [
    {
     "name": "stdout",
     "output_type": "stream",
     "text": [
      "2.3.2\n"
     ]
    }
   ],
   "source": [
    "import numpy as np\n",
    "\n",
    "print(np.__version__)"
   ]
  },
  {
   "cell_type": "code",
   "execution_count": 3,
   "id": "db31f3f0",
   "metadata": {},
   "outputs": [
    {
     "name": "stdout",
     "output_type": "stream",
     "text": [
      "[11 22 33 44 55]\n",
      "<class 'numpy.ndarray'>\n"
     ]
    }
   ],
   "source": [
    "# create a array\n",
    "arr1 = np.array([11,22,33,44,55])\n",
    "print(arr1)\n",
    "# check type \n",
    "print(type(arr1))"
   ]
  },
  {
   "cell_type": "code",
   "execution_count": 5,
   "id": "4eb8aec9",
   "metadata": {},
   "outputs": [
    {
     "name": "stdout",
     "output_type": "stream",
     "text": [
      "[[11 22 33]\n",
      " [44 55 66]\n",
      " [77 88 99]]\n"
     ]
    }
   ],
   "source": [
    "# create a 2d array \n",
    "arr2 = np.array([[11,22,33],[44,55,66],[77,88,99]])\n",
    "print(arr2)"
   ]
  },
  {
   "cell_type": "code",
   "execution_count": 6,
   "id": "246aea12",
   "metadata": {},
   "outputs": [
    {
     "name": "stdout",
     "output_type": "stream",
     "text": [
      "[[0. 0. 0.]\n",
      " [0. 0. 0.]\n",
      " [0. 0. 0.]]\n"
     ]
    }
   ],
   "source": [
    "# create a zero array \n",
    "arr3 = np.zeros([3,3])\n",
    "print(arr3)"
   ]
  },
  {
   "cell_type": "code",
   "execution_count": 8,
   "id": "e5f5dbd1",
   "metadata": {},
   "outputs": [
    {
     "name": "stdout",
     "output_type": "stream",
     "text": [
      "[[1. 1. 1.]\n",
      " [1. 1. 1.]\n",
      " [1. 1. 1.]\n",
      " [1. 1. 1.]\n",
      " [1. 1. 1.]]\n"
     ]
    }
   ],
   "source": [
    "# ones array \n",
    "data = np.ones((5,3))\n",
    "print(data)"
   ]
  },
  {
   "cell_type": "code",
   "execution_count": 9,
   "id": "4150af4a",
   "metadata": {},
   "outputs": [
    {
     "name": "stdout",
     "output_type": "stream",
     "text": [
      "[0 2 4 6 8]\n"
     ]
    }
   ],
   "source": [
    "# range \n",
    "arr_range = np.arange(0,10,2)\n",
    "print(arr_range)"
   ]
  },
  {
   "cell_type": "code",
   "execution_count": 14,
   "id": "df4d9ab8",
   "metadata": {},
   "outputs": [
    {
     "name": "stdout",
     "output_type": "stream",
     "text": [
      "[[11 22 33]\n",
      " [44 55 66]\n",
      " [77 88 99]]\n",
      "(3, 3)\n",
      "9\n",
      "int64\n",
      "2\n"
     ]
    }
   ],
   "source": [
    "arr2 = np.array([[11,22,33],[44,55,66],[77,88,99]])\n",
    "print(arr2)\n",
    "# shape\n",
    "print(arr2.shape)\n",
    "# size \n",
    "print(arr2.size)\n",
    "# check datatype\n",
    "print(arr2.dtype)\n",
    "# dimensions\n",
    "print(arr2.ndim)"
   ]
  },
  {
   "cell_type": "code",
   "execution_count": 24,
   "id": "9537d8f5",
   "metadata": {},
   "outputs": [
    {
     "name": "stdout",
     "output_type": "stream",
     "text": [
      "[12 13 14 15 16 17]\n",
      "[22 23 24 25 26 27]\n",
      "[48 52 56 60 64 68]\n",
      "[1728 2197 2744 3375 4096 4913]\n",
      "87\n",
      "14.5\n",
      "17\n",
      "12\n",
      "[3.46410162 3.60555128 3.74165739 3.87298335 4.         4.12310563]\n"
     ]
    }
   ],
   "source": [
    "# operations \n",
    "data = np.array([12,13,14,15,16,17])\n",
    "print(data)\n",
    "print(data+10)\n",
    "print(data*4)\n",
    "print(data**3)\n",
    "\n",
    "# mathematical operations \n",
    "# sum()\n",
    "print(np.sum(data))\n",
    "# mean()\n",
    "print(np.mean(data))\n",
    "# max\n",
    "print(np.max(data))\n",
    "# min\n",
    "print(np.min(data))\n",
    "# square\n",
    "print(np.sqrt(data))"
   ]
  },
  {
   "cell_type": "code",
   "execution_count": 49,
   "id": "a0491bd1",
   "metadata": {},
   "outputs": [
    {
     "name": "stdout",
     "output_type": "stream",
     "text": [
      "[[0.71217922 0.23724909 0.3253997 ]\n",
      " [0.74649141 0.6496329  0.84922341]]\n",
      "[[1 1 3]\n",
      " [6 7 6]\n",
      " [6 6 3]]\n"
     ]
    }
   ],
   "source": [
    "# random numbers \n",
    "data = np.random.rand(2,3)\n",
    "print(data)\n",
    "\n",
    "# int random number \n",
    "data = np.random.randint(1,10,size=(3,3))\n",
    "print(data)"
   ]
  },
  {
   "cell_type": "code",
   "execution_count": 33,
   "id": "4615c928",
   "metadata": {},
   "outputs": [
    {
     "name": "stdout",
     "output_type": "stream",
     "text": [
      "[0.37454012 0.95071431 0.73199394]\n"
     ]
    }
   ],
   "source": [
    "np.random.seed(42)\n",
    "random_data = np.random.rand(3)\n",
    "print(random_data)"
   ]
  },
  {
   "cell_type": "code",
   "execution_count": 58,
   "id": "ed62aa08",
   "metadata": {},
   "outputs": [
    {
     "name": "stdout",
     "output_type": "stream",
     "text": [
      "[36 11 35 26 49]\n"
     ]
    }
   ],
   "source": [
    "rand_ints = np.random.randint(low=10,high=50,size=5)\n",
    "print(rand_ints)"
   ]
  },
  {
   "cell_type": "code",
   "execution_count": 123,
   "id": "6b9c22cc",
   "metadata": {},
   "outputs": [
    {
     "name": "stdout",
     "output_type": "stream",
     "text": [
      "[10 20 30 40 50 60 70 80]\n",
      "[60 70 20 30]\n",
      "[30 60 80 20]\n"
     ]
    }
   ],
   "source": [
    "# random choice\n",
    "\n",
    "data = np.array([10,20,30,40,50,60,70,80])\n",
    "print(data)\n",
    "choices = np.random.choice(data,size=4,replace=True)\n",
    "print(choices)\n",
    "\n",
    "choices2 = np.random.choice(data,size=4,replace=False)\n",
    "print(choices2)"
   ]
  }
 ],
 "metadata": {
  "kernelspec": {
   "display_name": "Python 3",
   "language": "python",
   "name": "python3"
  },
  "language_info": {
   "codemirror_mode": {
    "name": "ipython",
    "version": 3
   },
   "file_extension": ".py",
   "mimetype": "text/x-python",
   "name": "python",
   "nbconvert_exporter": "python",
   "pygments_lexer": "ipython3",
   "version": "3.13.5"
  }
 },
 "nbformat": 4,
 "nbformat_minor": 5
}
