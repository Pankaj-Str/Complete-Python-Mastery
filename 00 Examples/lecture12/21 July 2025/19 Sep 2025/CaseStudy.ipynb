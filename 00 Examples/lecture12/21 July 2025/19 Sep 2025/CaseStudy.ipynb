{
 "cells": [
  {
   "cell_type": "code",
   "execution_count": 18,
   "id": "d8452cae",
   "metadata": {},
   "outputs": [
    {
     "name": "stdout",
     "output_type": "stream",
     "text": [
      "   Transaction_ID  Customer_ID Transaction_Date Transaction_Type Merchant  \\\n",
      "0          100000         4452       2023-01-01           Online  Walmart   \n",
      "1          100001         2775       2023-01-01              ATM  BestBuy   \n",
      "2          100002         2259       2023-01-01   Mobile Payment     Uber   \n",
      "3          100003         4545       2023-01-01           Online  BestBuy   \n",
      "4          100004         2137       2023-01-01              ATM   Amazon   \n",
      "\n",
      "   Category   Amount Payment_Mode Transaction_Status       Location  \n",
      "0    Travel  4520.70   Debit Card           Approved      Jonesport  \n",
      "1    Travel  1437.85   Debit Card           Approved  Port Jennifer  \n",
      "2  Clothing  3320.52       PayPal           Approved     Port James  \n",
      "3    Travel  2659.96   Debit Card           Approved     Hawkinston  \n",
      "4    Travel  2517.07   Debit Card           Approved    Matthewland  \n"
     ]
    }
   ],
   "source": [
    "import pandas as pd\n",
    "# load dataset \n",
    "df = pd.read_csv('credit_card_transactions.csv')\n",
    "print(df.head()) # print top 5 row"
   ]
  },
  {
   "cell_type": "code",
   "execution_count": 19,
   "id": "78b4cecf",
   "metadata": {},
   "outputs": [
    {
     "name": "stdout",
     "output_type": "stream",
     "text": [
      "(5500, 10)\n"
     ]
    }
   ],
   "source": [
    "# Shape \n",
    "print(df.shape)"
   ]
  },
  {
   "cell_type": "code",
   "execution_count": 20,
   "id": "8515a3fe",
   "metadata": {},
   "outputs": [
    {
     "data": {
      "text/plain": [
       "['Transaction_ID',\n",
       " 'Customer_ID',\n",
       " 'Transaction_Date',\n",
       " 'Transaction_Type',\n",
       " 'Merchant',\n",
       " 'Category',\n",
       " 'Amount',\n",
       " 'Payment_Mode',\n",
       " 'Transaction_Status',\n",
       " 'Location']"
      ]
     },
     "execution_count": 20,
     "metadata": {},
     "output_type": "execute_result"
    }
   ],
   "source": [
    "# Column Name \n",
    "df.columns.to_list()"
   ]
  },
  {
   "cell_type": "code",
   "execution_count": 21,
   "id": "988c1f3c",
   "metadata": {},
   "outputs": [
    {
     "data": {
      "text/html": [
       "<div>\n",
       "<style scoped>\n",
       "    .dataframe tbody tr th:only-of-type {\n",
       "        vertical-align: middle;\n",
       "    }\n",
       "\n",
       "    .dataframe tbody tr th {\n",
       "        vertical-align: top;\n",
       "    }\n",
       "\n",
       "    .dataframe thead th {\n",
       "        text-align: right;\n",
       "    }\n",
       "</style>\n",
       "<table border=\"1\" class=\"dataframe\">\n",
       "  <thead>\n",
       "    <tr style=\"text-align: right;\">\n",
       "      <th></th>\n",
       "      <th>Transaction_ID</th>\n",
       "      <th>Customer_ID</th>\n",
       "      <th>Amount</th>\n",
       "    </tr>\n",
       "  </thead>\n",
       "  <tbody>\n",
       "    <tr>\n",
       "      <th>count</th>\n",
       "      <td>5500.000000</td>\n",
       "      <td>5500.000000</td>\n",
       "      <td>5500.000000</td>\n",
       "    </tr>\n",
       "    <tr>\n",
       "      <th>mean</th>\n",
       "      <td>102749.500000</td>\n",
       "      <td>2989.954182</td>\n",
       "      <td>2492.109224</td>\n",
       "    </tr>\n",
       "    <tr>\n",
       "      <th>std</th>\n",
       "      <td>1587.857571</td>\n",
       "      <td>1153.928878</td>\n",
       "      <td>1444.493842</td>\n",
       "    </tr>\n",
       "    <tr>\n",
       "      <th>min</th>\n",
       "      <td>100000.000000</td>\n",
       "      <td>1000.000000</td>\n",
       "      <td>6.550000</td>\n",
       "    </tr>\n",
       "    <tr>\n",
       "      <th>25%</th>\n",
       "      <td>101374.750000</td>\n",
       "      <td>1988.000000</td>\n",
       "      <td>1236.935000</td>\n",
       "    </tr>\n",
       "    <tr>\n",
       "      <th>50%</th>\n",
       "      <td>102749.500000</td>\n",
       "      <td>3000.000000</td>\n",
       "      <td>2502.405000</td>\n",
       "    </tr>\n",
       "    <tr>\n",
       "      <th>75%</th>\n",
       "      <td>104124.250000</td>\n",
       "      <td>3990.000000</td>\n",
       "      <td>3767.957500</td>\n",
       "    </tr>\n",
       "    <tr>\n",
       "      <th>max</th>\n",
       "      <td>105499.000000</td>\n",
       "      <td>4998.000000</td>\n",
       "      <td>4997.490000</td>\n",
       "    </tr>\n",
       "  </tbody>\n",
       "</table>\n",
       "</div>"
      ],
      "text/plain": [
       "       Transaction_ID  Customer_ID       Amount\n",
       "count     5500.000000  5500.000000  5500.000000\n",
       "mean    102749.500000  2989.954182  2492.109224\n",
       "std       1587.857571  1153.928878  1444.493842\n",
       "min     100000.000000  1000.000000     6.550000\n",
       "25%     101374.750000  1988.000000  1236.935000\n",
       "50%     102749.500000  3000.000000  2502.405000\n",
       "75%     104124.250000  3990.000000  3767.957500\n",
       "max     105499.000000  4998.000000  4997.490000"
      ]
     },
     "execution_count": 21,
     "metadata": {},
     "output_type": "execute_result"
    }
   ],
   "source": [
    "# summary\n",
    "df.describe()"
   ]
  },
  {
   "cell_type": "code",
   "execution_count": 22,
   "id": "8a15b8f0",
   "metadata": {},
   "outputs": [
    {
     "data": {
      "text/plain": [
       "Transaction_ID        0\n",
       "Customer_ID           0\n",
       "Transaction_Date      0\n",
       "Transaction_Type      0\n",
       "Merchant              0\n",
       "Category              0\n",
       "Amount                0\n",
       "Payment_Mode          0\n",
       "Transaction_Status    0\n",
       "Location              0\n",
       "dtype: int64"
      ]
     },
     "execution_count": 22,
     "metadata": {},
     "output_type": "execute_result"
    }
   ],
   "source": [
    "# check missing values \n",
    "df.isnull().sum()"
   ]
  },
  {
   "cell_type": "code",
   "execution_count": 23,
   "id": "9a4ae9ab",
   "metadata": {},
   "outputs": [
    {
     "data": {
      "text/plain": [
       "Transaction_ID        0\n",
       "Customer_ID           0\n",
       "Transaction_Date      0\n",
       "Transaction_Type      0\n",
       "Merchant              0\n",
       "Category              0\n",
       "Amount                0\n",
       "Payment_Mode          0\n",
       "Transaction_Status    0\n",
       "Location              0\n",
       "dtype: int64"
      ]
     },
     "execution_count": 23,
     "metadata": {},
     "output_type": "execute_result"
    }
   ],
   "source": [
    "# handle missing values = 'Unknown'\n",
    "df['Merchant'] = df['Merchant'].fillna('Unknown')\n",
    "# check again missing values \n",
    "df.isnull().sum()"
   ]
  },
  {
   "cell_type": "code",
   "execution_count": 24,
   "id": "eb3cf4c1",
   "metadata": {},
   "outputs": [
    {
     "data": {
      "text/plain": [
       "Transaction_ID          int64\n",
       "Customer_ID             int64\n",
       "Transaction_Date       object\n",
       "Transaction_Type       object\n",
       "Merchant               object\n",
       "Category               object\n",
       "Amount                float64\n",
       "Payment_Mode           object\n",
       "Transaction_Status     object\n",
       "Location               object\n",
       "dtype: object"
      ]
     },
     "execution_count": 24,
     "metadata": {},
     "output_type": "execute_result"
    }
   ],
   "source": [
    "# check dtype\n",
    "df.dtypes"
   ]
  },
  {
   "cell_type": "code",
   "execution_count": 25,
   "id": "48f93994",
   "metadata": {},
   "outputs": [
    {
     "data": {
      "text/plain": [
       "Transaction_ID                 int64\n",
       "Customer_ID                    int64\n",
       "Transaction_Date      datetime64[ns]\n",
       "Transaction_Type              object\n",
       "Merchant                      object\n",
       "Category                      object\n",
       "Amount                       float64\n",
       "Payment_Mode                  object\n",
       "Transaction_Status            object\n",
       "Location                      object\n",
       "dtype: object"
      ]
     },
     "execution_count": 25,
     "metadata": {},
     "output_type": "execute_result"
    }
   ],
   "source": [
    "# convert to datetime\n",
    "df['Transaction_Date'] = pd.to_datetime(df['Transaction_Date'])\n",
    "df.dtypes"
   ]
  },
  {
   "cell_type": "code",
   "execution_count": 26,
   "id": "13719fce",
   "metadata": {},
   "outputs": [
    {
     "data": {
      "text/plain": [
       "['Transaction_ID',\n",
       " 'Customer_ID',\n",
       " 'Transaction_Date',\n",
       " 'Transaction_Type',\n",
       " 'Merchant',\n",
       " 'Category',\n",
       " 'Amount',\n",
       " 'Payment_Mode',\n",
       " 'Transaction_Status',\n",
       " 'Location']"
      ]
     },
     "execution_count": 26,
     "metadata": {},
     "output_type": "execute_result"
    }
   ],
   "source": [
    "df.columns.to_list()"
   ]
  },
  {
   "cell_type": "code",
   "execution_count": 27,
   "id": "6b6aade3",
   "metadata": {},
   "outputs": [],
   "source": [
    "# year , month , day\n",
    "df['year'] = df['Transaction_Date'].dt.year\n",
    "df['month'] = df['Transaction_Date'].dt.month\n",
    "df['day'] = df['Transaction_Date'].dt.day"
   ]
  },
  {
   "cell_type": "code",
   "execution_count": 28,
   "id": "fbeb61c0",
   "metadata": {},
   "outputs": [
    {
     "data": {
      "text/plain": [
       "['Transaction_ID',\n",
       " 'Customer_ID',\n",
       " 'Transaction_Date',\n",
       " 'Transaction_Type',\n",
       " 'Merchant',\n",
       " 'Category',\n",
       " 'Amount',\n",
       " 'Payment_Mode',\n",
       " 'Transaction_Status',\n",
       " 'Location',\n",
       " 'year',\n",
       " 'month',\n",
       " 'day']"
      ]
     },
     "execution_count": 28,
     "metadata": {},
     "output_type": "execute_result"
    }
   ],
   "source": [
    "# check columns\n",
    "df.columns.to_list()"
   ]
  },
  {
   "cell_type": "code",
   "execution_count": 29,
   "id": "186fd46b",
   "metadata": {},
   "outputs": [
    {
     "data": {
      "text/html": [
       "<div>\n",
       "<style scoped>\n",
       "    .dataframe tbody tr th:only-of-type {\n",
       "        vertical-align: middle;\n",
       "    }\n",
       "\n",
       "    .dataframe tbody tr th {\n",
       "        vertical-align: top;\n",
       "    }\n",
       "\n",
       "    .dataframe thead th {\n",
       "        text-align: right;\n",
       "    }\n",
       "</style>\n",
       "<table border=\"1\" class=\"dataframe\">\n",
       "  <thead>\n",
       "    <tr style=\"text-align: right;\">\n",
       "      <th></th>\n",
       "      <th>Transaction_ID</th>\n",
       "      <th>Customer_ID</th>\n",
       "      <th>Transaction_Date</th>\n",
       "      <th>Transaction_Type</th>\n",
       "      <th>Merchant</th>\n",
       "      <th>Category</th>\n",
       "      <th>Amount</th>\n",
       "      <th>Payment_Mode</th>\n",
       "      <th>Transaction_Status</th>\n",
       "      <th>Location</th>\n",
       "      <th>year</th>\n",
       "      <th>month</th>\n",
       "      <th>day</th>\n",
       "    </tr>\n",
       "  </thead>\n",
       "  <tbody>\n",
       "    <tr>\n",
       "      <th>0</th>\n",
       "      <td>100000</td>\n",
       "      <td>4452</td>\n",
       "      <td>2023-01-01</td>\n",
       "      <td>Online</td>\n",
       "      <td>Walmart</td>\n",
       "      <td>Travel</td>\n",
       "      <td>4520.70</td>\n",
       "      <td>Debit Card</td>\n",
       "      <td>Approved</td>\n",
       "      <td>Jonesport</td>\n",
       "      <td>2023</td>\n",
       "      <td>1</td>\n",
       "      <td>1</td>\n",
       "    </tr>\n",
       "    <tr>\n",
       "      <th>1</th>\n",
       "      <td>100001</td>\n",
       "      <td>2775</td>\n",
       "      <td>2023-01-01</td>\n",
       "      <td>ATM</td>\n",
       "      <td>BestBuy</td>\n",
       "      <td>Travel</td>\n",
       "      <td>1437.85</td>\n",
       "      <td>Debit Card</td>\n",
       "      <td>Approved</td>\n",
       "      <td>Port Jennifer</td>\n",
       "      <td>2023</td>\n",
       "      <td>1</td>\n",
       "      <td>1</td>\n",
       "    </tr>\n",
       "    <tr>\n",
       "      <th>2</th>\n",
       "      <td>100002</td>\n",
       "      <td>2259</td>\n",
       "      <td>2023-01-01</td>\n",
       "      <td>Mobile Payment</td>\n",
       "      <td>Uber</td>\n",
       "      <td>Clothing</td>\n",
       "      <td>3320.52</td>\n",
       "      <td>PayPal</td>\n",
       "      <td>Approved</td>\n",
       "      <td>Port James</td>\n",
       "      <td>2023</td>\n",
       "      <td>1</td>\n",
       "      <td>1</td>\n",
       "    </tr>\n",
       "    <tr>\n",
       "      <th>3</th>\n",
       "      <td>100003</td>\n",
       "      <td>4545</td>\n",
       "      <td>2023-01-01</td>\n",
       "      <td>Online</td>\n",
       "      <td>BestBuy</td>\n",
       "      <td>Travel</td>\n",
       "      <td>2659.96</td>\n",
       "      <td>Debit Card</td>\n",
       "      <td>Approved</td>\n",
       "      <td>Hawkinston</td>\n",
       "      <td>2023</td>\n",
       "      <td>1</td>\n",
       "      <td>1</td>\n",
       "    </tr>\n",
       "    <tr>\n",
       "      <th>4</th>\n",
       "      <td>100004</td>\n",
       "      <td>2137</td>\n",
       "      <td>2023-01-01</td>\n",
       "      <td>ATM</td>\n",
       "      <td>Amazon</td>\n",
       "      <td>Travel</td>\n",
       "      <td>2517.07</td>\n",
       "      <td>Debit Card</td>\n",
       "      <td>Approved</td>\n",
       "      <td>Matthewland</td>\n",
       "      <td>2023</td>\n",
       "      <td>1</td>\n",
       "      <td>1</td>\n",
       "    </tr>\n",
       "  </tbody>\n",
       "</table>\n",
       "</div>"
      ],
      "text/plain": [
       "   Transaction_ID  Customer_ID Transaction_Date Transaction_Type Merchant  \\\n",
       "0          100000         4452       2023-01-01           Online  Walmart   \n",
       "1          100001         2775       2023-01-01              ATM  BestBuy   \n",
       "2          100002         2259       2023-01-01   Mobile Payment     Uber   \n",
       "3          100003         4545       2023-01-01           Online  BestBuy   \n",
       "4          100004         2137       2023-01-01              ATM   Amazon   \n",
       "\n",
       "   Category   Amount Payment_Mode Transaction_Status       Location  year  \\\n",
       "0    Travel  4520.70   Debit Card           Approved      Jonesport  2023   \n",
       "1    Travel  1437.85   Debit Card           Approved  Port Jennifer  2023   \n",
       "2  Clothing  3320.52       PayPal           Approved     Port James  2023   \n",
       "3    Travel  2659.96   Debit Card           Approved     Hawkinston  2023   \n",
       "4    Travel  2517.07   Debit Card           Approved    Matthewland  2023   \n",
       "\n",
       "   month  day  \n",
       "0      1    1  \n",
       "1      1    1  \n",
       "2      1    1  \n",
       "3      1    1  \n",
       "4      1    1  "
      ]
     },
     "execution_count": 29,
     "metadata": {},
     "output_type": "execute_result"
    }
   ],
   "source": [
    "df.head()"
   ]
  },
  {
   "cell_type": "code",
   "execution_count": 30,
   "id": "9e26c867",
   "metadata": {},
   "outputs": [
    {
     "name": "stdout",
     "output_type": "stream",
     "text": [
      "     Transaction_ID  Customer_ID Transaction_Date Transaction_Type  \\\n",
      "0            100000         4452       2023-01-01           Online   \n",
      "1            100001         2775       2023-01-01              ATM   \n",
      "2            100002         2259       2023-01-01   Mobile Payment   \n",
      "3            100003         4545       2023-01-01           Online   \n",
      "4            100004         2137       2023-01-01              ATM   \n",
      "..              ...          ...              ...              ...   \n",
      "739          100739         3898       2023-01-31              POS   \n",
      "740          100740         2457       2023-01-31   Mobile Payment   \n",
      "741          100741         2107       2023-01-31   Mobile Payment   \n",
      "742          100742         2678       2023-01-31              POS   \n",
      "743          100743         4586       2023-01-31              ATM   \n",
      "\n",
      "        Merchant     Category   Amount Payment_Mode Transaction_Status  \\\n",
      "0        Walmart       Travel  4520.70   Debit Card           Approved   \n",
      "1        BestBuy       Travel  1437.85   Debit Card           Approved   \n",
      "2           Uber     Clothing  3320.52       PayPal           Approved   \n",
      "3        BestBuy       Travel  2659.96   Debit Card           Approved   \n",
      "4         Amazon       Travel  2517.07   Debit Card           Approved   \n",
      "..           ...          ...      ...          ...                ...   \n",
      "739      BestBuy    Groceries  2579.83       PayPal           Approved   \n",
      "740         Uber  Electronics   399.85       PayPal           Approved   \n",
      "741      BestBuy     Clothing  1455.49   Debit Card            Pending   \n",
      "742      Walmart    Groceries   781.63          UPI           Approved   \n",
      "743  Apple Store     Clothing  1697.28          UPI           Approved   \n",
      "\n",
      "          Location  year  month  day  \n",
      "0        Jonesport  2023      1    1  \n",
      "1    Port Jennifer  2023      1    1  \n",
      "2       Port James  2023      1    1  \n",
      "3       Hawkinston  2023      1    1  \n",
      "4      Matthewland  2023      1    1  \n",
      "..             ...   ...    ...  ...  \n",
      "739    East Amanda  2023      1   31  \n",
      "740      Grossfurt  2023      1   31  \n",
      "741   Port Charles  2023      1   31  \n",
      "742    Heathertown  2023      1   31  \n",
      "743    East Nathan  2023      1   31  \n",
      "\n",
      "[744 rows x 13 columns]\n"
     ]
    }
   ],
   "source": [
    "# Retrieve all transactions made in January 2023.\n",
    "jan_2023 = df[(df['year'] == 2023) & (df['month'] == 1) ]\n",
    "print(jan_2023)\n",
    "df.to_csv('jan_2023.csv')"
   ]
  },
  {
   "cell_type": "code",
   "execution_count": 31,
   "id": "1ee64c9d",
   "metadata": {},
   "outputs": [],
   "source": [
    "# Find transactions where Amount > 1000 and Transaction_Type is \"Online\".\n",
    "\n",
    "high_online = df[(df['Amount'] > 1000) & (df['Transaction_Type'] == 'Online')]\n",
    "high_online.to_csv('high_online.csv')"
   ]
  },
  {
   "cell_type": "code",
   "execution_count": 32,
   "id": "8ac81dfc",
   "metadata": {},
   "outputs": [],
   "source": [
    "# Select only Approved transactions from the dataset.\n",
    "\n",
    "approved = df[df['Transaction_Status'] == 'Approved']\n",
    "approved.to_csv('approved.csv')"
   ]
  },
  {
   "cell_type": "code",
   "execution_count": 33,
   "id": "aea7d8fc",
   "metadata": {},
   "outputs": [
    {
     "data": {
      "text/html": [
       "<div>\n",
       "<style scoped>\n",
       "    .dataframe tbody tr th:only-of-type {\n",
       "        vertical-align: middle;\n",
       "    }\n",
       "\n",
       "    .dataframe tbody tr th {\n",
       "        vertical-align: top;\n",
       "    }\n",
       "\n",
       "    .dataframe thead th {\n",
       "        text-align: right;\n",
       "    }\n",
       "</style>\n",
       "<table border=\"1\" class=\"dataframe\">\n",
       "  <thead>\n",
       "    <tr style=\"text-align: right;\">\n",
       "      <th></th>\n",
       "      <th>Discounted_Amount</th>\n",
       "      <th>Amount</th>\n",
       "    </tr>\n",
       "  </thead>\n",
       "  <tbody>\n",
       "    <tr>\n",
       "      <th>0</th>\n",
       "      <td>4294.6650</td>\n",
       "      <td>4520.70</td>\n",
       "    </tr>\n",
       "    <tr>\n",
       "      <th>1</th>\n",
       "      <td>1437.8500</td>\n",
       "      <td>1437.85</td>\n",
       "    </tr>\n",
       "    <tr>\n",
       "      <th>2</th>\n",
       "      <td>3154.4940</td>\n",
       "      <td>3320.52</td>\n",
       "    </tr>\n",
       "    <tr>\n",
       "      <th>3</th>\n",
       "      <td>2526.9620</td>\n",
       "      <td>2659.96</td>\n",
       "    </tr>\n",
       "    <tr>\n",
       "      <th>4</th>\n",
       "      <td>2391.2165</td>\n",
       "      <td>2517.07</td>\n",
       "    </tr>\n",
       "    <tr>\n",
       "      <th>...</th>\n",
       "      <td>...</td>\n",
       "      <td>...</td>\n",
       "    </tr>\n",
       "    <tr>\n",
       "      <th>5495</th>\n",
       "      <td>4327.0790</td>\n",
       "      <td>4554.82</td>\n",
       "    </tr>\n",
       "    <tr>\n",
       "      <th>5496</th>\n",
       "      <td>3912.5845</td>\n",
       "      <td>4118.51</td>\n",
       "    </tr>\n",
       "    <tr>\n",
       "      <th>5497</th>\n",
       "      <td>2832.0735</td>\n",
       "      <td>2981.13</td>\n",
       "    </tr>\n",
       "    <tr>\n",
       "      <th>5498</th>\n",
       "      <td>2059.9705</td>\n",
       "      <td>2168.39</td>\n",
       "    </tr>\n",
       "    <tr>\n",
       "      <th>5499</th>\n",
       "      <td>1918.6600</td>\n",
       "      <td>1918.66</td>\n",
       "    </tr>\n",
       "  </tbody>\n",
       "</table>\n",
       "<p>5500 rows × 2 columns</p>\n",
       "</div>"
      ],
      "text/plain": [
       "      Discounted_Amount   Amount\n",
       "0             4294.6650  4520.70\n",
       "1             1437.8500  1437.85\n",
       "2             3154.4940  3320.52\n",
       "3             2526.9620  2659.96\n",
       "4             2391.2165  2517.07\n",
       "...                 ...      ...\n",
       "5495          4327.0790  4554.82\n",
       "5496          3912.5845  4118.51\n",
       "5497          2832.0735  2981.13\n",
       "5498          2059.9705  2168.39\n",
       "5499          1918.6600  1918.66\n",
       "\n",
       "[5500 rows x 2 columns]"
      ]
     },
     "execution_count": 33,
     "metadata": {},
     "output_type": "execute_result"
    }
   ],
   "source": [
    "# Create a new column Discounted_Amount, assuming a 5% discount on all transactions above $2000\n",
    "\n",
    "df['Discounted_Amount'] = df['Amount'].apply(lambda x : x * 0.95 if x > 2000 else x)\n",
    "\n",
    "df[['Discounted_Amount','Amount']]"
   ]
  },
  {
   "cell_type": "code",
   "execution_count": 34,
   "id": "d8f21d9e",
   "metadata": {},
   "outputs": [
    {
     "name": "stdout",
     "output_type": "stream",
     "text": [
      "      Transaction_ID  Customer_ID Transaction_Date Transaction_Type  \\\n",
      "0             100000         4452       2023-01-01           Online   \n",
      "2             100002         2259       2023-01-01   Mobile Payment   \n",
      "3             100003         4545       2023-01-01           Online   \n",
      "4             100004         2137       2023-01-01              ATM   \n",
      "5             100005         4096       2023-01-01              ATM   \n",
      "...              ...          ...              ...              ...   \n",
      "5491          105491         3258       2023-08-17   Mobile Payment   \n",
      "5495          105495         3262       2023-08-17              ATM   \n",
      "5496          105496         1234       2023-08-18              POS   \n",
      "5497          105497         3978       2023-08-18           Online   \n",
      "5498          105498         3082       2023-08-18              ATM   \n",
      "\n",
      "         Merchant   Category   Amount Payment_Mode Transaction_Status  \\\n",
      "0         Walmart     Travel  4520.70   Debit Card           Approved   \n",
      "2            Uber   Clothing  3320.52       PayPal           Approved   \n",
      "3         BestBuy     Travel  2659.96   Debit Card           Approved   \n",
      "4          Amazon     Travel  2517.07   Debit Card           Approved   \n",
      "5            Uber  Groceries  2032.91          UPI           Approved   \n",
      "...           ...        ...      ...          ...                ...   \n",
      "5491      Netflix  Groceries  4860.84   Debit Card           Approved   \n",
      "5495  Apple Store     Travel  4554.82   Debit Card           Approved   \n",
      "5496         Uber     Travel  4118.51   Debit Card           Approved   \n",
      "5497  Apple Store   Clothing  2981.13          UPI           Approved   \n",
      "5498         Uber   Clothing  2168.39   Debit Card           Approved   \n",
      "\n",
      "                Location  year  month  day  Discounted_Amount  \n",
      "0              Jonesport  2023      1    1          4294.6650  \n",
      "2             Port James  2023      1    1          3154.4940  \n",
      "3             Hawkinston  2023      1    1          2526.9620  \n",
      "4            Matthewland  2023      1    1          2391.2165  \n",
      "5     West Patriciamouth  2023      1    1          1931.2645  \n",
      "...                  ...   ...    ...  ...                ...  \n",
      "5491          West James  2023      8   17          4617.7980  \n",
      "5495    South Hannahtown  2023      8   17          4327.0790  \n",
      "5496      South Courtney  2023      8   18          3912.5845  \n",
      "5497            Rubenton  2023      8   18          2832.0735  \n",
      "5498      East Brianfurt  2023      8   18          2059.9705  \n",
      "\n",
      "[3282 rows x 14 columns]\n"
     ]
    }
   ],
   "source": [
    "data_d = df[df['Amount'] > 2000]\n",
    "print(data_d)"
   ]
  },
  {
   "cell_type": "code",
   "execution_count": 39,
   "id": "95f168df",
   "metadata": {},
   "outputs": [],
   "source": [
    "# Categorize the Transaction_Amount into Low, Medium, and High based on:\n",
    "# Low: Below $1000\n",
    "# Medium: Between $1000 - $5000\n",
    "# High: Above $5000\n",
    "\n",
    "def categorize_amount(amount):\n",
    "    if amount < 1500:\n",
    "        return \"low\"\n",
    "    elif 1501 <= amount <= 3000:\n",
    "        return \"Medium\"\n",
    "    else:\n",
    "        return \"High\"\n",
    "    \n",
    "\n",
    "df['Amount_category'] = df['Amount'].apply(categorize_amount)    "
   ]
  },
  {
   "cell_type": "code",
   "execution_count": 40,
   "id": "f98ce178",
   "metadata": {},
   "outputs": [
    {
     "data": {
      "text/html": [
       "<div>\n",
       "<style scoped>\n",
       "    .dataframe tbody tr th:only-of-type {\n",
       "        vertical-align: middle;\n",
       "    }\n",
       "\n",
       "    .dataframe tbody tr th {\n",
       "        vertical-align: top;\n",
       "    }\n",
       "\n",
       "    .dataframe thead th {\n",
       "        text-align: right;\n",
       "    }\n",
       "</style>\n",
       "<table border=\"1\" class=\"dataframe\">\n",
       "  <thead>\n",
       "    <tr style=\"text-align: right;\">\n",
       "      <th></th>\n",
       "      <th>Transaction_ID</th>\n",
       "      <th>Customer_ID</th>\n",
       "      <th>Transaction_Date</th>\n",
       "      <th>Transaction_Type</th>\n",
       "      <th>Merchant</th>\n",
       "      <th>Category</th>\n",
       "      <th>Amount</th>\n",
       "      <th>Payment_Mode</th>\n",
       "      <th>Transaction_Status</th>\n",
       "      <th>Location</th>\n",
       "      <th>year</th>\n",
       "      <th>month</th>\n",
       "      <th>day</th>\n",
       "      <th>Discounted_Amount</th>\n",
       "      <th>Amount_category</th>\n",
       "    </tr>\n",
       "  </thead>\n",
       "  <tbody>\n",
       "    <tr>\n",
       "      <th>0</th>\n",
       "      <td>100000</td>\n",
       "      <td>4452</td>\n",
       "      <td>2023-01-01</td>\n",
       "      <td>Online</td>\n",
       "      <td>Walmart</td>\n",
       "      <td>Travel</td>\n",
       "      <td>4520.70</td>\n",
       "      <td>Debit Card</td>\n",
       "      <td>Approved</td>\n",
       "      <td>Jonesport</td>\n",
       "      <td>2023</td>\n",
       "      <td>1</td>\n",
       "      <td>1</td>\n",
       "      <td>4294.6650</td>\n",
       "      <td>High</td>\n",
       "    </tr>\n",
       "    <tr>\n",
       "      <th>1</th>\n",
       "      <td>100001</td>\n",
       "      <td>2775</td>\n",
       "      <td>2023-01-01</td>\n",
       "      <td>ATM</td>\n",
       "      <td>BestBuy</td>\n",
       "      <td>Travel</td>\n",
       "      <td>1437.85</td>\n",
       "      <td>Debit Card</td>\n",
       "      <td>Approved</td>\n",
       "      <td>Port Jennifer</td>\n",
       "      <td>2023</td>\n",
       "      <td>1</td>\n",
       "      <td>1</td>\n",
       "      <td>1437.8500</td>\n",
       "      <td>low</td>\n",
       "    </tr>\n",
       "    <tr>\n",
       "      <th>2</th>\n",
       "      <td>100002</td>\n",
       "      <td>2259</td>\n",
       "      <td>2023-01-01</td>\n",
       "      <td>Mobile Payment</td>\n",
       "      <td>Uber</td>\n",
       "      <td>Clothing</td>\n",
       "      <td>3320.52</td>\n",
       "      <td>PayPal</td>\n",
       "      <td>Approved</td>\n",
       "      <td>Port James</td>\n",
       "      <td>2023</td>\n",
       "      <td>1</td>\n",
       "      <td>1</td>\n",
       "      <td>3154.4940</td>\n",
       "      <td>High</td>\n",
       "    </tr>\n",
       "    <tr>\n",
       "      <th>3</th>\n",
       "      <td>100003</td>\n",
       "      <td>4545</td>\n",
       "      <td>2023-01-01</td>\n",
       "      <td>Online</td>\n",
       "      <td>BestBuy</td>\n",
       "      <td>Travel</td>\n",
       "      <td>2659.96</td>\n",
       "      <td>Debit Card</td>\n",
       "      <td>Approved</td>\n",
       "      <td>Hawkinston</td>\n",
       "      <td>2023</td>\n",
       "      <td>1</td>\n",
       "      <td>1</td>\n",
       "      <td>2526.9620</td>\n",
       "      <td>Medium</td>\n",
       "    </tr>\n",
       "    <tr>\n",
       "      <th>4</th>\n",
       "      <td>100004</td>\n",
       "      <td>2137</td>\n",
       "      <td>2023-01-01</td>\n",
       "      <td>ATM</td>\n",
       "      <td>Amazon</td>\n",
       "      <td>Travel</td>\n",
       "      <td>2517.07</td>\n",
       "      <td>Debit Card</td>\n",
       "      <td>Approved</td>\n",
       "      <td>Matthewland</td>\n",
       "      <td>2023</td>\n",
       "      <td>1</td>\n",
       "      <td>1</td>\n",
       "      <td>2391.2165</td>\n",
       "      <td>Medium</td>\n",
       "    </tr>\n",
       "  </tbody>\n",
       "</table>\n",
       "</div>"
      ],
      "text/plain": [
       "   Transaction_ID  Customer_ID Transaction_Date Transaction_Type Merchant  \\\n",
       "0          100000         4452       2023-01-01           Online  Walmart   \n",
       "1          100001         2775       2023-01-01              ATM  BestBuy   \n",
       "2          100002         2259       2023-01-01   Mobile Payment     Uber   \n",
       "3          100003         4545       2023-01-01           Online  BestBuy   \n",
       "4          100004         2137       2023-01-01              ATM   Amazon   \n",
       "\n",
       "   Category   Amount Payment_Mode Transaction_Status       Location  year  \\\n",
       "0    Travel  4520.70   Debit Card           Approved      Jonesport  2023   \n",
       "1    Travel  1437.85   Debit Card           Approved  Port Jennifer  2023   \n",
       "2  Clothing  3320.52       PayPal           Approved     Port James  2023   \n",
       "3    Travel  2659.96   Debit Card           Approved     Hawkinston  2023   \n",
       "4    Travel  2517.07   Debit Card           Approved    Matthewland  2023   \n",
       "\n",
       "   month  day  Discounted_Amount Amount_category  \n",
       "0      1    1          4294.6650            High  \n",
       "1      1    1          1437.8500             low  \n",
       "2      1    1          3154.4940            High  \n",
       "3      1    1          2526.9620          Medium  \n",
       "4      1    1          2391.2165          Medium  "
      ]
     },
     "execution_count": 40,
     "metadata": {},
     "output_type": "execute_result"
    }
   ],
   "source": [
    "df.head()"
   ]
  },
  {
   "cell_type": "code",
   "execution_count": 43,
   "id": "4020eece",
   "metadata": {},
   "outputs": [],
   "source": [
    "# Drop the Merchant column if more than 30% of values are missing.\n",
    "# missing_percent = df['Merchant'].isnull.mean()"
   ]
  },
  {
   "cell_type": "code",
   "execution_count": 44,
   "id": "9a7e9687",
   "metadata": {},
   "outputs": [
    {
     "name": "stdout",
     "output_type": "stream",
     "text": [
      "        Category      Amount\n",
      "0       Clothing  2185530.09\n",
      "1         Dining  2402259.10\n",
      "2    Electronics  2319437.34\n",
      "3  Entertainment  2243778.43\n",
      "4      Groceries  2386772.81\n",
      "5         Travel  2168822.96\n"
     ]
    }
   ],
   "source": [
    "# Aggregation and Insights\n",
    "# Find the total transaction amount per Category.\n",
    "\n",
    "total_per_cat = df.groupby('Category')['Amount'].sum().reset_index()\n",
    "print(total_per_cat)"
   ]
  },
  {
   "cell_type": "code",
   "execution_count": 45,
   "id": "f8947baa",
   "metadata": {},
   "outputs": [
    {
     "name": "stdout",
     "output_type": "stream",
     "text": [
      "  Payment_Mode  count\n",
      "0  Credit Card    117\n",
      "1   Debit Card    145\n",
      "2       PayPal    135\n",
      "3          UPI    134\n"
     ]
    }
   ],
   "source": [
    "# Determine the number of declined transactions per Payment_Mode.\n",
    "declined_per_mode = df[df['Transaction_Status'] == 'Declined'].groupby('Payment_Mode').size().reset_index(name='count')\n",
    "print(declined_per_mode)"
   ]
  },
  {
   "cell_type": "code",
   "execution_count": 46,
   "id": "21d545f5",
   "metadata": {},
   "outputs": [
    {
     "name": "stdout",
     "output_type": "stream",
     "text": [
      "  Merchant  count\n",
      "0     Uber    833\n",
      "1  Walmart    818\n",
      "2  BestBuy    790\n",
      "3  Netflix    774\n",
      "4   Amazon    770\n"
     ]
    }
   ],
   "source": [
    "# Identify the top 5 most frequent merchants based on transaction count.\n",
    "top_merchants = df['Merchant'].value_counts().head(5).reset_index(name='count')\n",
    "print(top_merchants)"
   ]
  },
  {
   "cell_type": "code",
   "execution_count": 49,
   "id": "dd584446",
   "metadata": {},
   "outputs": [],
   "source": [
    "# Find the average transaction amount per Location.\n",
    "# avg_per_location = df.groupby('Location')['Amount'].mean().reset_index('average')\n",
    "# print(avg_per_location)"
   ]
  },
  {
   "cell_type": "code",
   "execution_count": 53,
   "id": "823b100a",
   "metadata": {},
   "outputs": [
    {
     "name": "stdout",
     "output_type": "stream",
     "text": [
      "Empty DataFrame\n",
      "Columns: [Customer_ID, date_only, count]\n",
      "Index: []\n"
     ]
    }
   ],
   "source": [
    "# Find customers who made more than 10 transactions in a single day (potential fraud).\n",
    "\n",
    "df['date_only'] = df['Transaction_Date'].dt.date\n",
    "\n",
    "trans_per_day = df.groupby(['Customer_ID','date_only',]).size().reset_index(name='count')\n",
    "\n",
    "# print(trans_per_day)\n",
    "\n",
    "high_trans = trans_per_day[trans_per_day['count'] > 2]\n",
    "print(high_trans)\n"
   ]
  }
 ],
 "metadata": {
  "kernelspec": {
   "display_name": "Python 3",
   "language": "python",
   "name": "python3"
  },
  "language_info": {
   "codemirror_mode": {
    "name": "ipython",
    "version": 3
   },
   "file_extension": ".py",
   "mimetype": "text/x-python",
   "name": "python",
   "nbconvert_exporter": "python",
   "pygments_lexer": "ipython3",
   "version": "3.13.5"
  }
 },
 "nbformat": 4,
 "nbformat_minor": 5
}
