{
 "cells": [
  {
   "cell_type": "code",
   "execution_count": null,
   "id": "13679719",
   "metadata": {},
   "outputs": [],
   "source": [
    "# key: value \n",
    "# Dictionary\n",
    "data = {\"name\":\"joy\",\"height\":5.6,\"age\":56}\n",
    "print(data)"
   ]
  },
  {
   "cell_type": "code",
   "execution_count": null,
   "id": "5d484e47",
   "metadata": {},
   "outputs": [],
   "source": [
    "# ACCESS DATA FROM Dictionary\n",
    "print(data['height'])\n",
    "print(data['name'])"
   ]
  },
  {
   "cell_type": "code",
   "execution_count": null,
   "id": "a1f77159",
   "metadata": {},
   "outputs": [],
   "source": [
    "# update\n",
    "data['age'] = 23\n",
    "print(data)"
   ]
  },
  {
   "cell_type": "code",
   "execution_count": null,
   "id": "efcffc3b",
   "metadata": {},
   "outputs": [],
   "source": [
    "# keys(): Returns a list of all keys in the dictionary.\n",
    "print(data.keys())\n",
    "# values(): Returns a list of all values in the dictionary.\n",
    "print(data.values())\n",
    "# items(): Returns a list of key-value pairs as tuples.\n",
    "print(data.items())\n",
    "# get(key, default): Returns the value for a key if it exists, else returns a default value.\n",
    "print(data.get('name'))\n"
   ]
  },
  {
   "cell_type": "code",
   "execution_count": null,
   "id": "71c2f723",
   "metadata": {},
   "outputs": [],
   "source": [
    "# pop(key, default): Removes and returns the value associated with the key.\n",
    "data.pop('age')\n",
    "print(data)"
   ]
  },
  {
   "cell_type": "code",
   "execution_count": null,
   "id": "6a14bf74",
   "metadata": {},
   "outputs": [],
   "source": [
    "# add new item\n",
    "data['city'] = 'mumbai'\n",
    "print(data)"
   ]
  },
  {
   "cell_type": "code",
   "execution_count": null,
   "id": "200b645c",
   "metadata": {},
   "outputs": [],
   "source": [
    "for i in data :\n",
    "    print(f'{i} = {data[i]}')"
   ]
  },
  {
   "cell_type": "code",
   "execution_count": null,
   "id": "c7038f39",
   "metadata": {},
   "outputs": [],
   "source": [
    "data = {\n",
    "        \"Name\": \"Delisle Road\",\n",
    "        \"Description\": \"null\",\n",
    "        \"BranchType\": \"Sub Post Office\",\n",
    "        \"DeliveryStatus\": \"Delivery\",\n",
    "        \"Circle\": \"Maharashtra\",\n",
    "        \"District\": \"Mumbai\",\n",
    "        \"Division\": \"Mumbai  West\",\n",
    "        \"Region\": \"Mumbai\",\n",
    "        \"Block\": \"Mumbai\",\n",
    "        \"State\": \"Maharashtra\",\n",
    "        \"Country\": \"India\",\n",
    "        \"Pincode\": \"400013\"\n",
    "      }"
   ]
  },
  {
   "cell_type": "code",
   "execution_count": null,
   "id": "22c53dc4",
   "metadata": {},
   "outputs": [],
   "source": [
    "for i in data:\n",
    "    print(f'{i} = {data[i]}')"
   ]
  }
 ],
 "metadata": {
  "kernelspec": {
   "display_name": "Python 3",
   "language": "python",
   "name": "python3"
  },
  "language_info": {
   "codemirror_mode": {
    "name": "ipython",
    "version": 3
   },
   "file_extension": ".py",
   "mimetype": "text/x-python",
   "name": "python",
   "nbconvert_exporter": "python",
   "pygments_lexer": "ipython3",
   "version": "3.13.5"
  }
 },
 "nbformat": 4,
 "nbformat_minor": 5
}
