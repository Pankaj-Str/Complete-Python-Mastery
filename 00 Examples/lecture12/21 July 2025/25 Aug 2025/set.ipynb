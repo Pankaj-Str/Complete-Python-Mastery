{
 "cells": [
  {
   "cell_type": "code",
   "execution_count": null,
   "id": "d56013ab",
   "metadata": {},
   "outputs": [],
   "source": [
    "data = {}\n",
    "print(data)\n",
    "# check type \n",
    "print(type(data))\n",
    "\n",
    "data = set()\n",
    "print(data)\n",
    "print(type(data))"
   ]
  },
  {
   "cell_type": "code",
   "execution_count": null,
   "id": "f56e9a1e",
   "metadata": {},
   "outputs": [],
   "source": [
    "data = {1,1,1,2,2,4,5,6,6,7,8,8}\n",
    "print(data)"
   ]
  },
  {
   "cell_type": "code",
   "execution_count": null,
   "id": "738b780f",
   "metadata": {},
   "outputs": [],
   "source": [
    "list_data = [1,1,1,2,2,4,5,6,6,7,8,8]\n",
    "print(list_data)\n",
    "data = set(list_data)\n",
    "print(data)"
   ]
  },
  {
   "cell_type": "code",
   "execution_count": null,
   "id": "e9fc728b",
   "metadata": {},
   "outputs": [],
   "source": [
    "# update set\n",
    "data.add(999)\n",
    "print(data)\n",
    "\n",
    "data.update([33,44,55,55])\n",
    "print(data)"
   ]
  },
  {
   "cell_type": "code",
   "execution_count": null,
   "id": "6bfc6094",
   "metadata": {},
   "outputs": [],
   "source": [
    "# remove \n",
    "data.remove(999)\n",
    "print(data)"
   ]
  },
  {
   "cell_type": "code",
   "execution_count": null,
   "id": "001909a9",
   "metadata": {},
   "outputs": [],
   "source": [
    "data.discard(8)\n",
    "print(data)"
   ]
  },
  {
   "cell_type": "code",
   "execution_count": null,
   "id": "fd56f822",
   "metadata": {},
   "outputs": [],
   "source": [
    "data.pop()\n",
    "print(data)"
   ]
  },
  {
   "cell_type": "code",
   "execution_count": null,
   "id": "c687f7f5",
   "metadata": {},
   "outputs": [],
   "source": [
    "data.clear()"
   ]
  },
  {
   "cell_type": "code",
   "execution_count": null,
   "id": "6b897510",
   "metadata": {},
   "outputs": [],
   "source": [
    "print(data)"
   ]
  },
  {
   "cell_type": "code",
   "execution_count": null,
   "id": "10ca3746",
   "metadata": {},
   "outputs": [],
   "source": [
    "data1 = {2,3,4,5,6,1,20}\n",
    "data2 = {2,3,6,9,10,18,2}\n",
    "\n",
    "print(data1.union(data2))\n",
    "print(data1.difference(data2))\n",
    "print(data1.intersection(data2))\n",
    "print(data1.symmetric_difference(data2))"
   ]
  }
 ],
 "metadata": {
  "kernelspec": {
   "display_name": "Python 3",
   "language": "python",
   "name": "python3"
  },
  "language_info": {
   "codemirror_mode": {
    "name": "ipython",
    "version": 3
   },
   "file_extension": ".py",
   "mimetype": "text/x-python",
   "name": "python",
   "nbconvert_exporter": "python",
   "pygments_lexer": "ipython3",
   "version": "3.13.5"
  }
 },
 "nbformat": 4,
 "nbformat_minor": 5
}
