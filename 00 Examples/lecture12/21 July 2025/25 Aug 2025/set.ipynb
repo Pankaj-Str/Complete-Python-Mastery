{
 "cells": [
  {
   "cell_type": "code",
   "execution_count": 5,
   "id": "d56013ab",
   "metadata": {},
   "outputs": [
    {
     "name": "stdout",
     "output_type": "stream",
     "text": [
      "{}\n",
      "<class 'dict'>\n",
      "set()\n",
      "<class 'set'>\n"
     ]
    }
   ],
   "source": [
    "data = {}\n",
    "print(data)\n",
    "# check type \n",
    "print(type(data))\n",
    "\n",
    "data = set()\n",
    "print(data)\n",
    "print(type(data))"
   ]
  },
  {
   "cell_type": "code",
   "execution_count": 6,
   "id": "f56e9a1e",
   "metadata": {},
   "outputs": [
    {
     "name": "stdout",
     "output_type": "stream",
     "text": [
      "{1, 2, 4, 5, 6, 7, 8}\n"
     ]
    }
   ],
   "source": [
    "data = {1,1,1,2,2,4,5,6,6,7,8,8}\n",
    "print(data)"
   ]
  },
  {
   "cell_type": "code",
   "execution_count": 9,
   "id": "738b780f",
   "metadata": {},
   "outputs": [
    {
     "name": "stdout",
     "output_type": "stream",
     "text": [
      "[1, 1, 1, 2, 2, 4, 5, 6, 6, 7, 8, 8]\n",
      "{1, 2, 4, 5, 6, 7, 8}\n"
     ]
    }
   ],
   "source": [
    "list_data = [1,1,1,2,2,4,5,6,6,7,8,8]\n",
    "print(list_data)\n",
    "data = set(list_data)\n",
    "print(data)"
   ]
  },
  {
   "cell_type": "code",
   "execution_count": 11,
   "id": "e9fc728b",
   "metadata": {},
   "outputs": [
    {
     "name": "stdout",
     "output_type": "stream",
     "text": [
      "{1, 2, 4, 5, 6, 7, 8, 999}\n",
      "{1, 2, 33, 4, 5, 6, 7, 8, 999, 44, 55}\n"
     ]
    }
   ],
   "source": [
    "# update set\n",
    "data.add(999)\n",
    "print(data)\n",
    "\n",
    "data.update([33,44,55,55])\n",
    "print(data)"
   ]
  },
  {
   "cell_type": "code",
   "execution_count": 13,
   "id": "6bfc6094",
   "metadata": {},
   "outputs": [
    {
     "ename": "KeyError",
     "evalue": "999",
     "output_type": "error",
     "traceback": [
      "\u001b[31m---------------------------------------------------------------------------\u001b[39m",
      "\u001b[31mKeyError\u001b[39m                                  Traceback (most recent call last)",
      "\u001b[36mCell\u001b[39m\u001b[36m \u001b[39m\u001b[32mIn[13]\u001b[39m\u001b[32m, line 2\u001b[39m\n\u001b[32m      1\u001b[39m \u001b[38;5;66;03m# remove \u001b[39;00m\n\u001b[32m----> \u001b[39m\u001b[32m2\u001b[39m \u001b[43mdata\u001b[49m\u001b[43m.\u001b[49m\u001b[43mremove\u001b[49m\u001b[43m(\u001b[49m\u001b[32;43m999\u001b[39;49m\u001b[43m)\u001b[49m\n\u001b[32m      3\u001b[39m \u001b[38;5;28mprint\u001b[39m(data)\n",
      "\u001b[31mKeyError\u001b[39m: 999"
     ]
    }
   ],
   "source": [
    "# remove \n",
    "data.remove(999)\n",
    "print(data)"
   ]
  },
  {
   "cell_type": "code",
   "execution_count": 15,
   "id": "001909a9",
   "metadata": {},
   "outputs": [
    {
     "name": "stdout",
     "output_type": "stream",
     "text": [
      "{1, 2, 33, 4, 5, 6, 7, 44, 55}\n"
     ]
    }
   ],
   "source": [
    "data.discard(8)\n",
    "print(data)"
   ]
  },
  {
   "cell_type": "code",
   "execution_count": 17,
   "id": "fd56f822",
   "metadata": {},
   "outputs": [
    {
     "name": "stdout",
     "output_type": "stream",
     "text": [
      "{33, 4, 5, 6, 7, 44, 55}\n"
     ]
    }
   ],
   "source": [
    "data.pop()\n",
    "print(data)"
   ]
  },
  {
   "cell_type": "code",
   "execution_count": 18,
   "id": "c687f7f5",
   "metadata": {},
   "outputs": [],
   "source": [
    "data.clear()"
   ]
  },
  {
   "cell_type": "code",
   "execution_count": 19,
   "id": "6b897510",
   "metadata": {},
   "outputs": [
    {
     "name": "stdout",
     "output_type": "stream",
     "text": [
      "set()\n"
     ]
    }
   ],
   "source": [
    "print(data)"
   ]
  },
  {
   "cell_type": "code",
   "execution_count": 23,
   "id": "10ca3746",
   "metadata": {},
   "outputs": [
    {
     "name": "stdout",
     "output_type": "stream",
     "text": [
      "{1, 2, 3, 4, 5, 6, 9, 10, 18, 20}\n",
      "{1, 20, 4, 5}\n",
      "{2, 3, 6}\n",
      "{1, 4, 5, 9, 10, 18, 20}\n"
     ]
    }
   ],
   "source": [
    "data1 = {2,3,4,5,6,1,20}\n",
    "data2 = {2,3,6,9,10,18,2}\n",
    "\n",
    "print(data1.union(data2))\n",
    "print(data1.difference(data2))\n",
    "print(data1.intersection(data2))\n",
    "print(data1.symmetric_difference(data2))"
   ]
  }
 ],
 "metadata": {
  "kernelspec": {
   "display_name": "Python 3",
   "language": "python",
   "name": "python3"
  },
  "language_info": {
   "codemirror_mode": {
    "name": "ipython",
    "version": 3
   },
   "file_extension": ".py",
   "mimetype": "text/x-python",
   "name": "python",
   "nbconvert_exporter": "python",
   "pygments_lexer": "ipython3",
   "version": "3.13.5"
  }
 },
 "nbformat": 4,
 "nbformat_minor": 5
}
