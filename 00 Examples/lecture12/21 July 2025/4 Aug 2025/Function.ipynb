{
 "cells": [
  {
   "cell_type": "code",
   "execution_count": 3,
   "id": "d482875f",
   "metadata": {},
   "outputs": [
    {
     "name": "stdout",
     "output_type": "stream",
     "text": [
      "21\n",
      "25\n",
      "115\n"
     ]
    }
   ],
   "source": [
    "# function Basic\n",
    "# min()\n",
    "print(min([21,22,23,24,25]))\n",
    "# max()\n",
    "print(max([21,22,23,24,25]))\n",
    "# sum()\n",
    "print(sum([21,22,23,24,25]))\n"
   ]
  },
  {
   "cell_type": "code",
   "execution_count": 6,
   "id": "ae593bbf",
   "metadata": {},
   "outputs": [
    {
     "name": "stdout",
     "output_type": "stream",
     "text": [
      "Welcome to python Coding Point\n",
      "Python is the best programming ...\n",
      "Welcome to python Coding Point\n",
      "Python is the best programming ...\n"
     ]
    }
   ],
   "source": [
    "# user define function\n",
    "\n",
    "# basic function\n",
    "#def FunctionName():\n",
    "#    Output\n",
    "\n",
    "# example :\n",
    "def info():\n",
    "    print(\"Welcome to python Coding Point\")\n",
    "    print(\"Python is the best programming ...\")\n",
    "\n",
    "# call the function \n",
    "info()\n",
    "info()   "
   ]
  },
  {
   "cell_type": "code",
   "execution_count": 8,
   "id": "e6a82ce4",
   "metadata": {},
   "outputs": [
    {
     "name": "stdout",
     "output_type": "stream",
     "text": [
      "this is result :  68\n",
      "this is result :  170\n"
     ]
    }
   ],
   "source": [
    "# Function with arg.(variable)\n",
    "# def FunctionName(Variable,...):\n",
    "#      output\n",
    "\n",
    "# example \n",
    "\n",
    "def add(number1,number2):\n",
    "    result = number1 + number2\n",
    "    print('this is result : ',result)\n",
    "\n",
    "# calling function\n",
    "add(23,45)    \n",
    "add(125,45)"
   ]
  },
  {
   "cell_type": "code",
   "execution_count": 11,
   "id": "fd9a182c",
   "metadata": {},
   "outputs": [],
   "source": [
    "# example \n",
    "def bill(price,gst):\n",
    "    gst_amount = price*gst/100\n",
    "    total_price = price + gst_amount\n",
    "    print(\"price = \",price,\"₹\")\n",
    "    print(\"GST = \",gst,\"%\")\n",
    "    print(\"GST Amount = \",gst_amount,\"₹\")\n",
    "    print(\"MRP = \",total_price,\"₹\")\n",
    "    print(\"-----------------------\")"
   ]
  },
  {
   "cell_type": "code",
   "execution_count": 12,
   "id": "85261e6a",
   "metadata": {},
   "outputs": [
    {
     "name": "stdout",
     "output_type": "stream",
     "text": [
      "price =  1200 ₹\n",
      "GST =  18 %\n",
      "GST Amount =  216.0 ₹\n",
      "MRP =  1416.0 ₹\n",
      "-----------------------\n",
      "price =  5400 ₹\n",
      "GST =  2 %\n",
      "GST Amount =  108.0 ₹\n",
      "MRP =  5508.0 ₹\n",
      "-----------------------\n",
      "price =  6000 ₹\n",
      "GST =  9 %\n",
      "GST Amount =  540.0 ₹\n",
      "MRP =  6540.0 ₹\n",
      "-----------------------\n"
     ]
    }
   ],
   "source": [
    "bill(1200,18)\n",
    "bill(5400,2)\n",
    "bill(6000,9)"
   ]
  }
 ],
 "metadata": {
  "kernelspec": {
   "display_name": "Python 3",
   "language": "python",
   "name": "python3"
  },
  "language_info": {
   "codemirror_mode": {
    "name": "ipython",
    "version": 3
   },
   "file_extension": ".py",
   "mimetype": "text/x-python",
   "name": "python",
   "nbconvert_exporter": "python",
   "pygments_lexer": "ipython3",
   "version": "3.13.5"
  }
 },
 "nbformat": 4,
 "nbformat_minor": 5
}
