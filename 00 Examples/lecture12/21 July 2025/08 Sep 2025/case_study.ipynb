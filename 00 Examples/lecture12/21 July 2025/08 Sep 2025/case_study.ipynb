{
 "cells": [
  {
   "cell_type": "code",
   "execution_count": null,
   "id": "a1abc8e8",
   "metadata": {},
   "outputs": [],
   "source": [
    "# %pip install pandas"
   ]
  },
  {
   "cell_type": "code",
   "execution_count": null,
   "id": "82699c05",
   "metadata": {},
   "outputs": [],
   "source": [
    "import pandas as pd\n",
    "\n",
    "# step 1 create a datase \n",
    "\n",
    "data = {\n",
    "    'order_id':[1,2,3,4,5,6,7,8],\n",
    "    'customer':['neha','rahul','nishant','joy','isha','tina','sunil','kiran'],\n",
    "    'product':['laptop','phone','tablet','phone','tablet','phone','laptop','phone'],\n",
    "    'qyantity':[1,2,4,3,2,1,1,2],\n",
    "    'price':[1000,5000,45000,7000,6000,5000,7000,7000],\n",
    "    'date':['2025-01-04','2025-01-06','2025-02-11','2025-02-24','2025-01-05','2025-01-23','2025-01-30','2025-01-28']\n",
    "}\n",
    "\n",
    "# step 2 create a Data Frame\n",
    "\n",
    "df = pd.DataFrame(data)\n",
    "\n",
    "df.to_csv('Data.csv',index=False)"
   ]
  },
  {
   "cell_type": "code",
   "execution_count": 28,
   "id": "9d44f8c0",
   "metadata": {},
   "outputs": [
    {
     "name": "stdout",
     "output_type": "stream",
     "text": [
      "<class 'pandas.core.frame.DataFrame'>\n",
      "RangeIndex: 8 entries, 0 to 7\n",
      "Data columns (total 7 columns):\n",
      " #   Column         Non-Null Count  Dtype         \n",
      "---  ------         --------------  -----         \n",
      " 0   order_id       8 non-null      int64         \n",
      " 1   customer       8 non-null      object        \n",
      " 2   product        8 non-null      object        \n",
      " 3   qyantity       8 non-null      int64         \n",
      " 4   price          8 non-null      int64         \n",
      " 5   date           8 non-null      datetime64[ns]\n",
      " 6   total_revenue  8 non-null      int64         \n",
      "dtypes: datetime64[ns](1), int64(4), object(2)\n",
      "memory usage: 580.0+ bytes\n"
     ]
    }
   ],
   "source": [
    "# step Data cleaning\n",
    "df.info()"
   ]
  },
  {
   "cell_type": "code",
   "execution_count": null,
   "id": "b1861828",
   "metadata": {},
   "outputs": [],
   "source": [
    "df.describe()"
   ]
  },
  {
   "cell_type": "code",
   "execution_count": null,
   "id": "27fde650",
   "metadata": {},
   "outputs": [],
   "source": [
    "df.dtypes"
   ]
  },
  {
   "cell_type": "code",
   "execution_count": null,
   "id": "41a70ce7",
   "metadata": {},
   "outputs": [],
   "source": [
    "# show list of data \n",
    "df.head()"
   ]
  },
  {
   "cell_type": "code",
   "execution_count": null,
   "id": "c06bb2a3",
   "metadata": {},
   "outputs": [],
   "source": [
    "df['date'] = pd.to_datetime(df['date'])"
   ]
  },
  {
   "cell_type": "code",
   "execution_count": null,
   "id": "96b13193",
   "metadata": {},
   "outputs": [],
   "source": [
    "df.dtypes"
   ]
  },
  {
   "cell_type": "code",
   "execution_count": null,
   "id": "b7adba5b",
   "metadata": {},
   "outputs": [],
   "source": [
    "data = pd.read_csv('Data1.csv')"
   ]
  },
  {
   "cell_type": "code",
   "execution_count": null,
   "id": "d99562d7",
   "metadata": {},
   "outputs": [],
   "source": [
    "data.head()"
   ]
  },
  {
   "cell_type": "code",
   "execution_count": null,
   "id": "90d66310",
   "metadata": {},
   "outputs": [],
   "source": [
    "data.isnull().sum()"
   ]
  },
  {
   "cell_type": "code",
   "execution_count": null,
   "id": "a7a040ab",
   "metadata": {},
   "outputs": [],
   "source": [
    "# check null values \n",
    "df.isnull().sum()"
   ]
  },
  {
   "cell_type": "code",
   "execution_count": null,
   "id": "1f6347cf",
   "metadata": {},
   "outputs": [],
   "source": [
    "df.head()"
   ]
  },
  {
   "cell_type": "code",
   "execution_count": null,
   "id": "adcfd592",
   "metadata": {},
   "outputs": [],
   "source": [
    "df['total_revenue'] = df['qyantity'] * df['price']"
   ]
  },
  {
   "cell_type": "code",
   "execution_count": null,
   "id": "844e7899",
   "metadata": {},
   "outputs": [],
   "source": [
    "df.head()"
   ]
  }
 ],
 "metadata": {
  "kernelspec": {
   "display_name": "Python 3",
   "language": "python",
   "name": "python3"
  },
  "language_info": {
   "codemirror_mode": {
    "name": "ipython",
    "version": 3
   },
   "file_extension": ".py",
   "mimetype": "text/x-python",
   "name": "python",
   "nbconvert_exporter": "python",
   "pygments_lexer": "ipython3",
   "version": "3.13.5"
  }
 },
 "nbformat": 4,
 "nbformat_minor": 5
}
