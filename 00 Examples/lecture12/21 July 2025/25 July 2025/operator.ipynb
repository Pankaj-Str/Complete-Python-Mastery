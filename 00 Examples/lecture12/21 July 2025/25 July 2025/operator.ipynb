{
 "cells": [
  {
   "cell_type": "code",
   "execution_count": 26,
   "id": "f201c6e1",
   "metadata": {},
   "outputs": [
    {
     "name": "stdout",
     "output_type": "stream",
     "text": [
      "364\n",
      "326\n",
      "6555\n",
      "18.157894736842106\n",
      "3\n",
      "12167\n",
      "18\n"
     ]
    }
   ],
   "source": [
    "#  Arithmetic Operators (Math Tools)\n",
    "x = 345\n",
    "y = 19\n",
    "print(x+y)\n",
    "print(x-y)\n",
    "print(x*y)\n",
    "print(x/y)\n",
    "print(x%y)\n",
    "print(23**3)\n",
    "print(x//y)"
   ]
  },
  {
   "cell_type": "code",
   "execution_count": 14,
   "id": "f29384b7",
   "metadata": {},
   "outputs": [
    {
     "name": "stdout",
     "output_type": "stream",
     "text": [
      "True\n",
      "False\n",
      "False\n",
      "True\n",
      "True\n",
      "False\n"
     ]
    }
   ],
   "source": [
    "# Comparison Operators (Checking Things)\n",
    "x = 10\n",
    "y = 20\n",
    "\n",
    "print(x < y)\n",
    "print(x > y)\n",
    "print(x == y)\n",
    "print(x != y)\n",
    "\n",
    "print(45 <= 65)\n",
    "print(45 >= 65)"
   ]
  },
  {
   "cell_type": "code",
   "execution_count": 18,
   "id": "e1d5caa7",
   "metadata": {},
   "outputs": [
    {
     "name": "stdout",
     "output_type": "stream",
     "text": [
      "False\n",
      "True\n",
      "False\n"
     ]
    }
   ],
   "source": [
    "# Logical Operators (Combining Checks)\n",
    "# and \n",
    "print(45 == 67 and 45 < 90)\n",
    "# or \n",
    "print(45 == 67 or 45 < 90)\n",
    "# not\n",
    "print(not 67 == 67)"
   ]
  },
  {
   "cell_type": "code",
   "execution_count": 23,
   "id": "bc4c8274",
   "metadata": {},
   "outputs": [
    {
     "name": "stdout",
     "output_type": "stream",
     "text": [
      "10\n",
      "20\n",
      "10\n",
      "100\n",
      "10.0\n"
     ]
    }
   ],
   "source": [
    "# Assignment Operators (Saving Values)\n",
    "x = 10\n",
    "print(x)\n",
    "\n",
    "# x = x + 10\n",
    "x += 10\n",
    "print(x)\n",
    "x -= 10\n",
    "print(x)\n",
    "x *= 10\n",
    "print(x)\n",
    "x /= 10\n",
    "print(x)"
   ]
  },
  {
   "cell_type": "code",
   "execution_count": 25,
   "id": "d3b72a6f",
   "metadata": {},
   "outputs": [
    {
     "name": "stdout",
     "output_type": "stream",
     "text": [
      "True\n",
      "False\n"
     ]
    }
   ],
   "source": [
    "# Membership Operators (Checking Lists or Words)\n",
    "# in \n",
    "# not in\n",
    "data = \"codeswithpankaj\"\n",
    "print(\"p\" in data)\n",
    "\n",
    "print(\"p\" not in data)"
   ]
  },
  {
   "cell_type": "code",
   "execution_count": 28,
   "id": "f5a9f539",
   "metadata": {},
   "outputs": [
    {
     "name": "stdout",
     "output_type": "stream",
     "text": [
      "False\n",
      "True\n"
     ]
    }
   ],
   "source": [
    "# Identity Operators:\n",
    "# is \n",
    "# is not\n",
    "\n",
    "x = 10\n",
    "y = 45\n",
    "\n",
    "print(x is y)\n",
    "print(x is not y)"
   ]
  }
 ],
 "metadata": {
  "kernelspec": {
   "display_name": "Python 3",
   "language": "python",
   "name": "python3"
  },
  "language_info": {
   "codemirror_mode": {
    "name": "ipython",
    "version": 3
   },
   "file_extension": ".py",
   "mimetype": "text/x-python",
   "name": "python",
   "nbconvert_exporter": "python",
   "pygments_lexer": "ipython3",
   "version": "3.13.5"
  }
 },
 "nbformat": 4,
 "nbformat_minor": 5
}
