{
 "cells": [
  {
   "cell_type": "code",
   "execution_count": 9,
   "id": "5c28f801",
   "metadata": {},
   "outputs": [
    {
     "name": "stdout",
     "output_type": "stream",
     "text": [
      "your name is joyu and 5 , BMO 0.8333333333333334\n"
     ]
    }
   ],
   "source": [
    "try:\n",
    "    name = input('Enter Your Name  - ')\n",
    "    age = int(input('Enter Your Age - '))\n",
    "    height = int(input('Enter Your height '))\n",
    "    bmi = age/height\n",
    "    print(f'your name is {name} and {age} , BMO {bmi}')\n",
    "except ValueError:\n",
    "    print(\"enter only number into age \")   \n",
    "except ZeroDivisionError:\n",
    "    print('Do not enter zero into height ')    "
   ]
  }
 ],
 "metadata": {
  "kernelspec": {
   "display_name": "Python 3",
   "language": "python",
   "name": "python3"
  },
  "language_info": {
   "codemirror_mode": {
    "name": "ipython",
    "version": 3
   },
   "file_extension": ".py",
   "mimetype": "text/x-python",
   "name": "python",
   "nbconvert_exporter": "python",
   "pygments_lexer": "ipython3",
   "version": "3.13.5"
  }
 },
 "nbformat": 4,
 "nbformat_minor": 5
}
