{
 "cells": [
  {
   "cell_type": "code",
   "execution_count": null,
   "id": "6d70af3a",
   "metadata": {},
   "outputs": [],
   "source": [
    "# write = w\n",
    "# read = r\n",
    "# append = a"
   ]
  },
  {
   "cell_type": "code",
   "execution_count": null,
   "id": "9d314803",
   "metadata": {},
   "outputs": [],
   "source": [
    "with open('cwpc.txt','w') as file:\n",
    "    file.write(\"welcome to codeswithpankaj\")"
   ]
  },
  {
   "cell_type": "code",
   "execution_count": null,
   "id": "33e9f368",
   "metadata": {},
   "outputs": [],
   "source": [
    "with open('cwpc.txt','r') as file:\n",
    "    data = file.read()\n",
    "    print(data)"
   ]
  },
  {
   "cell_type": "code",
   "execution_count": null,
   "id": "870574b8",
   "metadata": {},
   "outputs": [],
   "source": [
    "with open('cwpc.txt','a') as file:\n",
    "    file.write('\\n python programming')"
   ]
  },
  {
   "cell_type": "code",
   "execution_count": 7,
   "id": "f155bfda",
   "metadata": {},
   "outputs": [
    {
     "name": "stdout",
     "output_type": "stream",
     "text": [
      "Defaulting to user installation because normal site-packages is not writeable\n",
      "Note: you may need to restart the kernel to use updated packages.\n"
     ]
    },
    {
     "name": "stderr",
     "output_type": "stream",
     "text": [
      "WARNING: Retrying (Retry(total=4, connect=None, read=None, redirect=None, status=None)) after connection broken by 'NewConnectionError('<pip._vendor.urllib3.connection.HTTPSConnection object at 0x000001EE689BD940>: Failed to establish a new connection: [Errno 11001] getaddrinfo failed')': /simple/pandas/\n",
      "WARNING: Retrying (Retry(total=3, connect=None, read=None, redirect=None, status=None)) after connection broken by 'NewConnectionError('<pip._vendor.urllib3.connection.HTTPSConnection object at 0x000001EE689916D0>: Failed to establish a new connection: [Errno 11001] getaddrinfo failed')': /simple/pandas/\n",
      "WARNING: Retrying (Retry(total=2, connect=None, read=None, redirect=None, status=None)) after connection broken by 'NewConnectionError('<pip._vendor.urllib3.connection.HTTPSConnection object at 0x000001EE68991950>: Failed to establish a new connection: [Errno 11001] getaddrinfo failed')': /simple/pandas/\n",
      "WARNING: Retrying (Retry(total=1, connect=None, read=None, redirect=None, status=None)) after connection broken by 'NewConnectionError('<pip._vendor.urllib3.connection.HTTPSConnection object at 0x000001EE68991BD0>: Failed to establish a new connection: [Errno 11001] getaddrinfo failed')': /simple/pandas/\n",
      "WARNING: Retrying (Retry(total=0, connect=None, read=None, redirect=None, status=None)) after connection broken by 'NewConnectionError('<pip._vendor.urllib3.connection.HTTPSConnection object at 0x000001EE68991E50>: Failed to establish a new connection: [Errno 11001] getaddrinfo failed')': /simple/pandas/\n",
      "ERROR: Could not find a version that satisfies the requirement pandas (from versions: none)\n",
      "ERROR: No matching distribution found for pandas\n"
     ]
    }
   ],
   "source": [
    "%pip install pandas"
   ]
  }
 ],
 "metadata": {
  "kernelspec": {
   "display_name": "Python 3",
   "language": "python",
   "name": "python3"
  },
  "language_info": {
   "codemirror_mode": {
    "name": "ipython",
    "version": 3
   },
   "file_extension": ".py",
   "mimetype": "text/x-python",
   "name": "python",
   "nbconvert_exporter": "python",
   "pygments_lexer": "ipython3",
   "version": "3.13.5"
  }
 },
 "nbformat": 4,
 "nbformat_minor": 5
}
