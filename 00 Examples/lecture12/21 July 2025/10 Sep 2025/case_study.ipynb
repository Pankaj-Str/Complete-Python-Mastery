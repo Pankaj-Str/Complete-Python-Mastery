{
 "cells": [
  {
   "cell_type": "code",
   "execution_count": null,
   "id": "a1abc8e8",
   "metadata": {},
   "outputs": [],
   "source": [
    "# %pip install pandas"
   ]
  },
  {
   "cell_type": "code",
   "execution_count": null,
   "id": "82699c05",
   "metadata": {},
   "outputs": [],
   "source": [
    "import pandas as pd\n",
    "\n",
    "# step 1 create a datase \n",
    "\n",
    "data = {\n",
    "    'order_id':[1,2,3,4,5,6,7,8,9,10],\n",
    "    'customer':['neha','isha','nishant','joy','isha','tina','sunil','kiran','neha','isha'],\n",
    "    'product':['laptop','phone','tablet','phone','tablet','phone','laptop','phone','phone','phone'],\n",
    "    'qyantity':[1,2,4,3,2,1,1,2,2,3],\n",
    "    'price':[1000,5000,45000,7000,6000,5000,7000,7000,6000,8000],\n",
    "    'date':['2025-01-04','2025-01-06','2025-02-11','2025-02-24','2025-01-05','2025-01-23','2025-01-30','2025-01-28','2025-01-28','2025-01-28']\n",
    "}\n",
    "\n",
    "# step 2 create a Data Frame\n",
    "\n",
    "df = pd.DataFrame(data)\n",
    "\n",
    "# df.to_csv('Data.csv',index=False)"
   ]
  },
  {
   "cell_type": "code",
   "execution_count": null,
   "id": "9d44f8c0",
   "metadata": {},
   "outputs": [],
   "source": [
    "# step Data cleaning\n",
    "df.info()"
   ]
  },
  {
   "cell_type": "code",
   "execution_count": null,
   "id": "b1861828",
   "metadata": {},
   "outputs": [],
   "source": [
    "df.describe()"
   ]
  },
  {
   "cell_type": "code",
   "execution_count": null,
   "id": "27fde650",
   "metadata": {},
   "outputs": [],
   "source": [
    "df.dtypes"
   ]
  },
  {
   "cell_type": "code",
   "execution_count": null,
   "id": "c06bb2a3",
   "metadata": {},
   "outputs": [],
   "source": [
    "df['date'] = pd.to_datetime(df['date'])"
   ]
  },
  {
   "cell_type": "code",
   "execution_count": null,
   "id": "96b13193",
   "metadata": {},
   "outputs": [],
   "source": [
    "df.dtypes"
   ]
  },
  {
   "cell_type": "code",
   "execution_count": null,
   "id": "90d66310",
   "metadata": {},
   "outputs": [],
   "source": [
    "df.isnull().sum()"
   ]
  },
  {
   "cell_type": "code",
   "execution_count": null,
   "id": "1f6347cf",
   "metadata": {},
   "outputs": [],
   "source": [
    "df.head()"
   ]
  },
  {
   "cell_type": "code",
   "execution_count": null,
   "id": "adcfd592",
   "metadata": {},
   "outputs": [],
   "source": [
    "df['total_revenue'] = df['qyantity'] * df['price']"
   ]
  },
  {
   "cell_type": "code",
   "execution_count": null,
   "id": "844e7899",
   "metadata": {},
   "outputs": [],
   "source": [
    "df.head()"
   ]
  },
  {
   "cell_type": "code",
   "execution_count": null,
   "id": "32ce8f66",
   "metadata": {},
   "outputs": [],
   "source": [
    "df"
   ]
  },
  {
   "cell_type": "code",
   "execution_count": null,
   "id": "004f4816",
   "metadata": {},
   "outputs": [],
   "source": [
    "# gruping and aggregations\n",
    "# total revenue by customer\n",
    "customer_revenue = df.groupby('customer')['total_revenue'].sum().reset_index()\n",
    "print('\\n total revenue by customer \\n',customer_revenue)"
   ]
  },
  {
   "cell_type": "code",
   "execution_count": null,
   "id": "86370e89",
   "metadata": {},
   "outputs": [],
   "source": [
    "# product base\n",
    "product_revenue = df.groupby('product')['qyantity'].sum().reset_index()\n",
    "print('\\n total product revenue by quantity \\n',product_revenue)"
   ]
  },
  {
   "cell_type": "code",
   "execution_count": null,
   "id": "46cef756",
   "metadata": {},
   "outputs": [],
   "source": [
    "daily_sales = df.groupby('date')['total_revenue'].sum().reset_index()\n",
    "print('\\n Daily sales \\n',daily_sales)"
   ]
  },
  {
   "cell_type": "code",
   "execution_count": null,
   "id": "370a64ad",
   "metadata": {},
   "outputs": [],
   "source": [
    "# customer behavior\n",
    "# avg (mean)\n",
    "avg_order_value = df.groupby('customer')['total_revenue'].mean().reset_index()\n",
    "avg_order_value.columns=['customer','avg_order_value']\n",
    "print('\\n avg customer order value \\n',avg_order_value)"
   ]
  },
  {
   "cell_type": "code",
   "execution_count": null,
   "id": "351fcaf8",
   "metadata": {},
   "outputs": [],
   "source": [
    "# flitering\n",
    "# high value \n",
    "high_value_order = df[df['total_revenue']>20000]\n",
    "\n",
    "print('\\n top customer \\n',high_value_order)+"
   ]
  }
 ],
 "metadata": {
  "kernelspec": {
   "display_name": "Python 3",
   "language": "python",
   "name": "python3"
  },
  "language_info": {
   "codemirror_mode": {
    "name": "ipython",
    "version": 3
   },
   "file_extension": ".py",
   "mimetype": "text/x-python",
   "name": "python",
   "nbconvert_exporter": "python",
   "pygments_lexer": "ipython3",
   "version": "3.13.5"
  }
 },
 "nbformat": 4,
 "nbformat_minor": 5
}
