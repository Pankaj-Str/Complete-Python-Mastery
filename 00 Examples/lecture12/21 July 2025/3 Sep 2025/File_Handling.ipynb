{
 "cells": [
  {
   "cell_type": "code",
   "execution_count": null,
   "id": "6519548a",
   "metadata": {},
   "outputs": [],
   "source": [
    "%pip install pandas\n",
    "%pip install openpyxl\n",
    "%pip install xlrd"
   ]
  },
  {
   "cell_type": "code",
   "execution_count": null,
   "id": "7f9c2666",
   "metadata": {},
   "outputs": [],
   "source": [
    "import pandas as pd\n",
    "data = pd.read_csv(\"salary.csv\")\n",
    "print(data)"
   ]
  },
  {
   "cell_type": "code",
   "execution_count": null,
   "id": "1845e6bc",
   "metadata": {},
   "outputs": [],
   "source": [
    "df = pd.read_excel(\"Data.xlsx\")\n",
    "print(df)\n",
    "# print only 5 row\n",
    "print(df.head())"
   ]
  },
  {
   "cell_type": "code",
   "execution_count": null,
   "id": "902ad296",
   "metadata": {},
   "outputs": [],
   "source": [
    "s1 = pd.read_excel(\"Data.xlsx\" , sheet_name=\"Employee\")\n",
    "print(s1.head(3))"
   ]
  },
  {
   "cell_type": "code",
   "execution_count": null,
   "id": "7b45a88d",
   "metadata": {},
   "outputs": [],
   "source": [
    "all_sheet = pd.read_excel(\"Data.xlsx\" , sheet_name=None)\n",
    "for sheet , data in all_sheet.items():\n",
    "    print(f'Sheet Name : {sheet}')\n",
    "    print(data.head())"
   ]
  }
 ],
 "metadata": {
  "kernelspec": {
   "display_name": "Python 3",
   "language": "python",
   "name": "python3"
  },
  "language_info": {
   "codemirror_mode": {
    "name": "ipython",
    "version": 3
   },
   "file_extension": ".py",
   "mimetype": "text/x-python",
   "name": "python",
   "nbconvert_exporter": "python",
   "pygments_lexer": "ipython3",
   "version": "3.13.5"
  }
 },
 "nbformat": 4,
 "nbformat_minor": 5
}
