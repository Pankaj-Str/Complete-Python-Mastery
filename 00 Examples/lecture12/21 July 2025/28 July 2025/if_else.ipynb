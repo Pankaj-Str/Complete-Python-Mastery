{
 "cells": [
  {
   "cell_type": "code",
   "execution_count": 2,
   "id": "97a5cb29",
   "metadata": {},
   "outputs": [
    {
     "name": "stdout",
     "output_type": "stream",
     "text": [
      "a is smallest number - \n"
     ]
    }
   ],
   "source": [
    "x = 10\n",
    "y = 20\n",
    "\n",
    "# find the smallest number\n",
    "\n",
    "if x < y:\n",
    "    # True \n",
    "    print(\"a is smallest number - \")\n",
    "else:\n",
    "    # False\n",
    "    print(\"a is not smallest - \")"
   ]
  },
  {
   "cell_type": "code",
   "execution_count": 7,
   "id": "ae7dbbba",
   "metadata": {},
   "outputs": [
    {
     "name": "stdout",
     "output_type": "stream",
     "text": [
      "a is smallest ...\n"
     ]
    }
   ],
   "source": [
    "a = 1\n",
    "b = 2\n",
    "c = 3\n",
    "\n",
    "if a < b and a < c:\n",
    "    print(\"a is smallest ...\")\n",
    "elif b < a and b < c:\n",
    "    print(\"b is smallest ...\")\n",
    "else:\n",
    "    print(\"C is smallest ...\")\n"
   ]
  }
 ],
 "metadata": {
  "kernelspec": {
   "display_name": "Python 3",
   "language": "python",
   "name": "python3"
  },
  "language_info": {
   "codemirror_mode": {
    "name": "ipython",
    "version": 3
   },
   "file_extension": ".py",
   "mimetype": "text/x-python",
   "name": "python",
   "nbconvert_exporter": "python",
   "pygments_lexer": "ipython3",
   "version": "3.13.5"
  }
 },
 "nbformat": 4,
 "nbformat_minor": 5
}
