{
 "cells": [
  {
   "cell_type": "code",
   "execution_count": 1,
   "id": "85470521",
   "metadata": {},
   "outputs": [
    {
     "name": "stdout",
     "output_type": "stream",
     "text": [
      "[]\n",
      "<class 'list'>\n"
     ]
    }
   ],
   "source": [
    "# empty list\n",
    "data = []\n",
    "print(data)\n",
    "# check type\n",
    "print(type(data))"
   ]
  },
  {
   "cell_type": "code",
   "execution_count": 2,
   "id": "74cf2428",
   "metadata": {},
   "outputs": [
    {
     "name": "stdout",
     "output_type": "stream",
     "text": [
      "['apple', 'orange', 900, 7.8]\n"
     ]
    }
   ],
   "source": [
    "data = [\"apple\",\"orange\",900,7.8]\n",
    "print(data)"
   ]
  },
  {
   "cell_type": "code",
   "execution_count": 3,
   "id": "c8d802fd",
   "metadata": {},
   "outputs": [
    {
     "name": "stdout",
     "output_type": "stream",
     "text": [
      "[12, 13, 14, 15, 16]\n",
      "15\n",
      "[15, 16]\n",
      "[13, 14, 15]\n",
      "[12, 13, 14]\n",
      "[12, 13, 14, 15, 16]\n"
     ]
    }
   ],
   "source": [
    "data = [12,13,14,15,16]\n",
    "print(data)\n",
    "print(data[3])\n",
    "print(data[3:])\n",
    "print(data[1:4])\n",
    "print(data[:3])\n",
    "print(data[:])"
   ]
  },
  {
   "cell_type": "code",
   "execution_count": 4,
   "id": "6c7917bd",
   "metadata": {},
   "outputs": [
    {
     "name": "stdout",
     "output_type": "stream",
     "text": [
      "[12, 13, 14, 15, 16, 99]\n"
     ]
    }
   ],
   "source": [
    "# add new single item into list\n",
    "data.append(99)\n",
    "print(data)"
   ]
  },
  {
   "cell_type": "code",
   "execution_count": 5,
   "id": "93e54414",
   "metadata": {},
   "outputs": [
    {
     "name": "stdout",
     "output_type": "stream",
     "text": [
      "[12, 13, 14, 15, 16, 99, 11, 22, 33]\n"
     ]
    }
   ],
   "source": [
    "# add new multipal item\n",
    "data.extend([11,22,33])\n",
    "print(data)"
   ]
  },
  {
   "cell_type": "code",
   "execution_count": 6,
   "id": "4fd89b19",
   "metadata": {},
   "outputs": [
    {
     "name": "stdout",
     "output_type": "stream",
     "text": [
      "[12, 13, 14, 100, 15, 16, 99, 11, 22, 33]\n"
     ]
    }
   ],
   "source": [
    "# insert data\n",
    "data.insert(3,100)\n",
    "print(data)"
   ]
  },
  {
   "cell_type": "code",
   "execution_count": 9,
   "id": "538e213c",
   "metadata": {},
   "outputs": [
    {
     "name": "stdout",
     "output_type": "stream",
     "text": [
      "[12, 13, 14, 100, 15, 16, 99, 11, 22, 33]\n",
      "[12, 13, 14, 15, 16, 99, 11, 22, 33]\n"
     ]
    }
   ],
   "source": [
    "# delete item from list \n",
    "\n",
    "data = [12, 13, 14, 100, 15, 16, 99, 11, 22, 33]\n",
    "print(data)\n",
    "\n",
    "data.remove(100)\n",
    "print(data)"
   ]
  },
  {
   "cell_type": "code",
   "execution_count": 11,
   "id": "6fcd645c",
   "metadata": {},
   "outputs": [
    {
     "name": "stdout",
     "output_type": "stream",
     "text": [
      "[12, 13, 14, 15, 16, 99, 11]\n"
     ]
    }
   ],
   "source": [
    "# pop()\n",
    "data.pop()\n",
    "print(data)"
   ]
  },
  {
   "cell_type": "code",
   "execution_count": 12,
   "id": "dbe99cb2",
   "metadata": {},
   "outputs": [
    {
     "name": "stdout",
     "output_type": "stream",
     "text": [
      "[]\n"
     ]
    }
   ],
   "source": [
    "# clear()\n",
    "data.clear()\n",
    "print(data)"
   ]
  },
  {
   "cell_type": "code",
   "execution_count": null,
   "id": "7a586ea3",
   "metadata": {},
   "outputs": [
    {
     "name": "stdout",
     "output_type": "stream",
     "text": [
      "fafda\n",
      "jalebi\n",
      "dhosa\n",
      "pav bhaji\n",
      "dhokla\n"
     ]
    }
   ],
   "source": [
    "# how to take user input into list\n",
    "\n",
    "# step 1 - Create a empty list\n",
    "food = []\n",
    "# step 2 - size of list\n",
    "size = int(input('Enter List Size - '))\n",
    "# step 3 take user input into list food\n",
    "for i in range(size):\n",
    "    i = input(\"Enter Food Name - \")\n",
    "    i = food.append(i)\n",
    "# step 4 Output food name - \n",
    "for i in range(size):\n",
    "    print(food[i])"
   ]
  },
  {
   "cell_type": "code",
   "execution_count": null,
   "id": "345629b9",
   "metadata": {},
   "outputs": [],
   "source": [
    "# -- User input section\n",
    "# Enter Product List Size : 4\n",
    "# Enter Product 1 -\n",
    "# Samosa\n",
    "# Enter Product 2 -\n",
    "# Kachori\n",
    "# Enter Product 3 -\n",
    "# Fafda\n",
    "# Enter Product 4 -\n",
    "# Jalebi\n",
    "\n",
    "# Enter Samosa Price :\n",
    "# 300/-\n",
    "# Enter Kachori Price :\n",
    "# 100/-\n",
    "# Enter Fafda Price :\n",
    "# 100/-\n",
    "# Enter Jalebi Price :\n",
    "# 200/-\n",
    "\n",
    "# --- output\n",
    "\n",
    "# samosa = 300\n",
    "# kachori = 100\n",
    "# fafda = 100\n",
    "# jalebi = 200\n"
   ]
  },
  {
   "cell_type": "code",
   "execution_count": null,
   "id": "1d31794f",
   "metadata": {},
   "outputs": [
    {
     "name": "stdout",
     "output_type": "stream",
     "text": [
      "0 .  fafda  =  500\n",
      "1 .  jalebi  =  600\n",
      "2 .  dhokla  =  700\n",
      "3 .  pav  =  580\n",
      "4 .  bhaji  =  560\n"
     ]
    }
   ],
   "source": [
    "food = []\n",
    "price = []\n",
    "size = int(input('Enter Food list Size - '))\n",
    "\n",
    "for i in range(size):\n",
    "    i = input('Enter Food Name - ')\n",
    "    food.append(i)\n",
    "\n",
    "for i in range(size):\n",
    "    i = int(input('Enter Food Price Name - '))\n",
    "    price.append(i)\n",
    "\n",
    "for i in range(size):\n",
    "    print(i,'. ',food[i],' = ',price[i])    \n",
    "\n"
   ]
  }
 ],
 "metadata": {
  "kernelspec": {
   "display_name": "Python 3",
   "language": "python",
   "name": "python3"
  },
  "language_info": {
   "codemirror_mode": {
    "name": "ipython",
    "version": 3
   },
   "file_extension": ".py",
   "mimetype": "text/x-python",
   "name": "python",
   "nbconvert_exporter": "python",
   "pygments_lexer": "ipython3",
   "version": "3.13.5"
  }
 },
 "nbformat": 4,
 "nbformat_minor": 5
}
