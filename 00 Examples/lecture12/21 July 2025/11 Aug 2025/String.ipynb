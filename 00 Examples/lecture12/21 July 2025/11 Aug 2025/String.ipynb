{
 "cells": [
  {
   "cell_type": "code",
   "execution_count": null,
   "id": "816519cf",
   "metadata": {},
   "outputs": [],
   "source": [
    "data = \"welcome\"\n",
    "print(data)"
   ]
  },
  {
   "cell_type": "code",
   "execution_count": null,
   "id": "87a91cfb",
   "metadata": {},
   "outputs": [],
   "source": [
    "# access item\n",
    "print(data[2])\n",
    "print(data[4])\n",
    "print(data[2:6])\n",
    "print(data[4:])\n",
    "print(data[:4])"
   ]
  },
  {
   "cell_type": "code",
   "execution_count": null,
   "id": "0d95ce32",
   "metadata": {},
   "outputs": [],
   "source": [
    "data1 = \"p4n\"\n",
    "data2 = \"cwpc\"\n",
    "print(data1 == data2)"
   ]
  },
  {
   "cell_type": "code",
   "execution_count": null,
   "id": "5c24c663",
   "metadata": {},
   "outputs": [],
   "source": [
    "data = \"Codes With Pankaj\"\n",
    "# 1. upper() converts the string to uppercase\n",
    "print(data.upper())\n",
    "# 2. lower() converts the string to lowercase\n",
    "print(data.lower())\t"
   ]
  },
  {
   "cell_type": "code",
   "execution_count": null,
   "id": "9e9ab409",
   "metadata": {},
   "outputs": [],
   "source": [
    "# 3. partition() returns a tuple\n",
    "print(data.partition(\"i\"))"
   ]
  },
  {
   "cell_type": "code",
   "execution_count": null,
   "id": "8a0420ad",
   "metadata": {},
   "outputs": [],
   "source": [
    "# 4. replace() replaces substring inside\n",
    "print(data.replace('Codes','Python'))"
   ]
  },
  {
   "cell_type": "code",
   "execution_count": null,
   "id": "140d7fa1",
   "metadata": {},
   "outputs": [],
   "source": [
    "# 5. find() returns the index of first occurrence of substring\n",
    "print(data.find('W'))\n",
    "# 6. rstrip() removes trailing characters\n",
    "data = \"codes with pankaj       \"\n",
    "print(data.rstrip(),'Website')"
   ]
  },
  {
   "cell_type": "code",
   "execution_count": null,
   "id": "13aaf1a5",
   "metadata": {},
   "outputs": [],
   "source": [
    "# 7. split() splits string from left (to list)\n",
    "data = \"codes with pankaj\"\n",
    "print(data.split(\" \"))"
   ]
  },
  {
   "cell_type": "code",
   "execution_count": 39,
   "id": "e0d0168b",
   "metadata": {},
   "outputs": [
    {
     "name": "stdout",
     "output_type": "stream",
     "text": [
      "True\n",
      "True\n",
      "7\n"
     ]
    }
   ],
   "source": [
    "# 8. startswith() checks if string starts with the specified string\n",
    "data = \"python\"\n",
    "print(data.startswith(\"p\"))\n",
    "# 9. isnumeric() checks numeric characters\n",
    "data = \"34\"\n",
    "print(data.isnumeric())\n",
    "# 10. index() returns index of substring\n",
    "data = \"codes with pankaj\"\n",
    "print(data.index(\"i\"))"
   ]
  },
  {
   "cell_type": "code",
   "execution_count": null,
   "id": "7c8d47b9",
   "metadata": {},
   "outputs": [],
   "source": [
    "# format \n",
    "name = \"joy\"\n",
    "age = 12\n",
    "height = 4.5\n",
    "\n",
    "print(\"your name is \",name,\"age \",age,\"and height \",height)\n",
    "\n",
    "print(\"your name is {0} age {1} and height {2}\".format(name,age,height))\n",
    "\n",
    "print(f\"your name is {name} age {age} and height {height}\")"
   ]
  },
  {
   "cell_type": "code",
   "execution_count": null,
   "id": "3d6ce59a",
   "metadata": {},
   "outputs": [],
   "source": [
    "food = []\n",
    "price = []\n",
    "size = int(input('Enter Food list Size - '))\n",
    "\n",
    "for i in range(size):\n",
    "    i = input('Enter Food Name - ')\n",
    "    food.append(i)\n",
    "\n",
    "for i in range(size):\n",
    "    i = int(input(f'Enter {food[i]} price - '))\n",
    "    price.append(i)\n",
    "\n",
    "for i in range(size):\n",
    "    print(f\"{i+1} . {food[i]} = {price[i]}\") \n",
    "print(f'Total = {sum(price)}')"
   ]
  }
 ],
 "metadata": {
  "kernelspec": {
   "display_name": "Python 3",
   "language": "python",
   "name": "python3"
  },
  "language_info": {
   "codemirror_mode": {
    "name": "ipython",
    "version": 3
   },
   "file_extension": ".py",
   "mimetype": "text/x-python",
   "name": "python",
   "nbconvert_exporter": "python",
   "pygments_lexer": "ipython3",
   "version": "3.13.5"
  }
 },
 "nbformat": 4,
 "nbformat_minor": 5
}
