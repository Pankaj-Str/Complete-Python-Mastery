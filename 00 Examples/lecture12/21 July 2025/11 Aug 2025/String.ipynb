{
 "cells": [
  {
   "cell_type": "code",
   "execution_count": 1,
   "id": "816519cf",
   "metadata": {},
   "outputs": [
    {
     "name": "stdout",
     "output_type": "stream",
     "text": [
      "welcome\n"
     ]
    }
   ],
   "source": [
    "data = \"welcome\"\n",
    "print(data)"
   ]
  },
  {
   "cell_type": "code",
   "execution_count": 6,
   "id": "87a91cfb",
   "metadata": {},
   "outputs": [
    {
     "name": "stdout",
     "output_type": "stream",
     "text": [
      "l\n",
      "o\n",
      "lcom\n",
      "ome\n",
      "welc\n"
     ]
    }
   ],
   "source": [
    "# access item\n",
    "print(data[2])\n",
    "print(data[4])\n",
    "print(data[2:6])\n",
    "print(data[4:])\n",
    "print(data[:4])"
   ]
  },
  {
   "cell_type": "code",
   "execution_count": 7,
   "id": "0d95ce32",
   "metadata": {},
   "outputs": [
    {
     "name": "stdout",
     "output_type": "stream",
     "text": [
      "False\n"
     ]
    }
   ],
   "source": [
    "data1 = \"p4n\"\n",
    "data2 = \"cwpc\"\n",
    "print(data1 == data2)"
   ]
  },
  {
   "cell_type": "code",
   "execution_count": 9,
   "id": "5c24c663",
   "metadata": {},
   "outputs": [
    {
     "name": "stdout",
     "output_type": "stream",
     "text": [
      "CODES WITH PANKAJ\n",
      "codes with pankaj\n"
     ]
    }
   ],
   "source": [
    "data = \"Codes With Pankaj\"\n",
    "# 1. upper() converts the string to uppercase\n",
    "print(data.upper())\n",
    "# 2. lower() converts the string to lowercase\n",
    "print(data.lower())\t"
   ]
  },
  {
   "cell_type": "code",
   "execution_count": null,
   "id": "9e9ab409",
   "metadata": {},
   "outputs": [
    {
     "name": "stdout",
     "output_type": "stream",
     "text": [
      "('Codes W', 'i', 'th Pankaj')\n"
     ]
    }
   ],
   "source": [
    "# 3. partition() returns a tuple\n",
    "print(data.partition(\"i\"))"
   ]
  },
  {
   "cell_type": "code",
   "execution_count": null,
   "id": "8a0420ad",
   "metadata": {},
   "outputs": [
    {
     "name": "stdout",
     "output_type": "stream",
     "text": [
      "Python With Pankaj\n"
     ]
    }
   ],
   "source": [
    "# 4. replace() replaces substring inside\n",
    "print(data.replace('Codes','Python'))"
   ]
  },
  {
   "cell_type": "code",
   "execution_count": null,
   "id": "140d7fa1",
   "metadata": {},
   "outputs": [
    {
     "name": "stdout",
     "output_type": "stream",
     "text": [
      "-1\n",
      "codes with pankaj Website\n"
     ]
    }
   ],
   "source": [
    "# 5. find() returns the index of first occurrence of substring\n",
    "print(data.find('W'))\n",
    "# 6. rstrip() removes trailing characters\n",
    "data = \"codes with pankaj       \"\n",
    "print(data.rstrip(),'Website')"
   ]
  },
  {
   "cell_type": "code",
   "execution_count": null,
   "id": "13aaf1a5",
   "metadata": {},
   "outputs": [
    {
     "name": "stdout",
     "output_type": "stream",
     "text": [
      "['codes', 'with', 'pankaj']\n"
     ]
    }
   ],
   "source": [
    "# 7. split() splits string from left (to list)\n",
    "data = \"codes with pankaj\"\n",
    "print(data.split(\" \"))"
   ]
  },
  {
   "cell_type": "code",
   "execution_count": null,
   "id": "e0d0168b",
   "metadata": {},
   "outputs": [
    {
     "name": "stdout",
     "output_type": "stream",
     "text": [
      "True\n",
      "True\n",
      "7\n"
     ]
    }
   ],
   "source": [
    "# 8. startswith() checks if string starts with the specified string\n",
    "data = \"python\"\n",
    "print(data.startswith(\"p\"))\n",
    "# 9. isnumeric() checks numeric characters\n",
    "data = \"34\"\n",
    "print(data.isnumeric())\n",
    "# 10. index() returns index of substring\n",
    "data = \"codes with pankaj\"\n",
    "print(data.index(\"i\"))"
   ]
  },
  {
   "cell_type": "code",
   "execution_count": 35,
   "id": "7c8d47b9",
   "metadata": {},
   "outputs": [
    {
     "name": "stdout",
     "output_type": "stream",
     "text": [
      "your name is  joy age  12 and height  4.5\n",
      "your name is joy age 12 and height 4.5\n",
      "your name is joy age 12 and height 4.5\n"
     ]
    }
   ],
   "source": [
    "# format \n",
    "name = \"joy\"\n",
    "age = 12\n",
    "height = 4.5\n",
    "\n",
    "print(\"your name is \",name,\"age \",age,\"and height \",height)\n",
    "\n",
    "print(\"your name is {0} age {1} and height {2}\".format(name,age,height))\n",
    "\n",
    "print(f\"your name is {name} age {age} and height {height}\")"
   ]
  },
  {
   "cell_type": "code",
   "execution_count": null,
   "id": "3d6ce59a",
   "metadata": {},
   "outputs": [
    {
     "name": "stdout",
     "output_type": "stream",
     "text": [
      "0 .  samosa  =  500\n",
      "1 .  kachori  =  8900\n",
      "2 .  fafda  =  6900\n",
      "3 .  vada pav  =  78000\n",
      "4 .  jalebi  =  56000\n",
      "total =  150300\n"
     ]
    }
   ],
   "source": [
    "food = []\n",
    "price = []\n",
    "size = int(input('Enter Food list Size - '))\n",
    "\n",
    "for i in range(size):\n",
    "    i = input('Enter Food Name - ')\n",
    "    food.append(i)\n",
    "\n",
    "for i in range(size):\n",
    "    i = int(input(f'Enter {food[i]} price - '))\n",
    "    price.append(i)\n",
    "\n",
    "for i in range(size):\n",
    "    print(f\"{i+1} . {food[i]} = {price[i]}\") \n",
    "print(f'Total = {sum(price)}')"
   ]
  }
 ],
 "metadata": {
  "kernelspec": {
   "display_name": "Python 3",
   "language": "python",
   "name": "python3"
  },
  "language_info": {
   "codemirror_mode": {
    "name": "ipython",
    "version": 3
   },
   "file_extension": ".py",
   "mimetype": "text/x-python",
   "name": "python",
   "nbconvert_exporter": "python",
   "pygments_lexer": "ipython3",
   "version": "3.13.5"
  }
 },
 "nbformat": 4,
 "nbformat_minor": 5
}
