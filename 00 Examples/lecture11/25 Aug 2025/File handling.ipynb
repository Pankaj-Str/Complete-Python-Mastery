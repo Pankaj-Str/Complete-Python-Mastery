{
 "cells": [
  {
   "cell_type": "code",
   "execution_count": null,
   "id": "06b86b12",
   "metadata": {},
   "outputs": [],
   "source": [
    "# read file = r\n",
    "# write = w\n",
    "# append = a"
   ]
  },
  {
   "cell_type": "code",
   "execution_count": 1,
   "id": "fbd69d6e",
   "metadata": {},
   "outputs": [],
   "source": [
    "with open('cwpc.txt','w') as file:\n",
    "    file.write(\"Welcome to python learning...\")"
   ]
  },
  {
   "cell_type": "code",
   "execution_count": 6,
   "id": "71713e5d",
   "metadata": {},
   "outputs": [
    {
     "name": "stdout",
     "output_type": "stream",
     "text": [
      "Welcome to JAVA learning...\n",
      " welcome to python learning point\n",
      " welcome to codeswithpankaj.com\n"
     ]
    }
   ],
   "source": [
    "with open('cwpc.txt','r') as file:\n",
    "    data = file.read()\n",
    "    print(data)\n"
   ]
  },
  {
   "cell_type": "code",
   "execution_count": 3,
   "id": "8c9bf101",
   "metadata": {},
   "outputs": [],
   "source": [
    "with open('cwpc.txt','w') as file:\n",
    "    file.write(\"Welcome to JAVA learning...\")"
   ]
  },
  {
   "cell_type": "code",
   "execution_count": 5,
   "id": "3a9b8986",
   "metadata": {},
   "outputs": [],
   "source": [
    "with open('cwpc.txt','a') as file:\n",
    "    file.write('\\n welcome to python learning point')\n",
    "    file.write('\\n welcome to codeswithpankaj.com')\n"
   ]
  }
 ],
 "metadata": {
  "kernelspec": {
   "display_name": "Python 3",
   "language": "python",
   "name": "python3"
  },
  "language_info": {
   "codemirror_mode": {
    "name": "ipython",
    "version": 3
   },
   "file_extension": ".py",
   "mimetype": "text/x-python",
   "name": "python",
   "nbconvert_exporter": "python",
   "pygments_lexer": "ipython3",
   "version": "3.13.5"
  }
 },
 "nbformat": 4,
 "nbformat_minor": 5
}
