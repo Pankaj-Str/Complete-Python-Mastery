{
 "cells": [
  {
   "cell_type": "code",
   "execution_count": 4,
   "id": "c7fd4279",
   "metadata": {},
   "outputs": [
    {
     "name": "stdout",
     "output_type": "stream",
     "text": [
      "Enter Only input Number into age \n",
      "your name joy and age is 78\n"
     ]
    }
   ],
   "source": [
    "try:\n",
    "    name = str(input('Enter Your Name - '))\n",
    "    age = int(input('Enter Your Age - '))\n",
    "    print(f'your name {name} and age is {age}')\n",
    "except ValueError:\n",
    "    print('Enter Only input Number into age ')\n",
    "    age = int(input('Enter Your Age - '))\n",
    "    print(f'your name {name} and age is {age}')\n"
   ]
  },
  {
   "cell_type": "code",
   "execution_count": 9,
   "id": "6170e909",
   "metadata": {},
   "outputs": [
    {
     "name": "stdout",
     "output_type": "stream",
     "text": [
      "Do not Enter Zero into Height\n"
     ]
    }
   ],
   "source": [
    "try:\n",
    "    name = str(input('Enter Your Name - '))\n",
    "    age = int(input('Enter Your Age - '))\n",
    "    height = int(input('Enter Your Height -'))\n",
    "    BMI = age/height\n",
    "    print(f'your name {name} and age is {age}')\n",
    "    print(f'your height is {height}')\n",
    "    print(f'your BMI is - ',BMI)\n",
    "except ValueError:\n",
    "    print('Enter Only input Number into age ')\n",
    "except ZeroDivisionError:\n",
    "    print('Do not Enter Zero into Height')\n"
   ]
  }
 ],
 "metadata": {
  "kernelspec": {
   "display_name": "Python 3",
   "language": "python",
   "name": "python3"
  },
  "language_info": {
   "codemirror_mode": {
    "name": "ipython",
    "version": 3
   },
   "file_extension": ".py",
   "mimetype": "text/x-python",
   "name": "python",
   "nbconvert_exporter": "python",
   "pygments_lexer": "ipython3",
   "version": "3.13.5"
  }
 },
 "nbformat": 4,
 "nbformat_minor": 5
}
