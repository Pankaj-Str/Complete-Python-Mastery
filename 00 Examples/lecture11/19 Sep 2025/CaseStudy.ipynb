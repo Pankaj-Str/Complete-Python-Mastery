{
 "cells": [
  {
   "cell_type": "code",
   "execution_count": 36,
   "id": "a48e206a",
   "metadata": {},
   "outputs": [
    {
     "data": {
      "text/html": [
       "<div>\n",
       "<style scoped>\n",
       "    .dataframe tbody tr th:only-of-type {\n",
       "        vertical-align: middle;\n",
       "    }\n",
       "\n",
       "    .dataframe tbody tr th {\n",
       "        vertical-align: top;\n",
       "    }\n",
       "\n",
       "    .dataframe thead th {\n",
       "        text-align: right;\n",
       "    }\n",
       "</style>\n",
       "<table border=\"1\" class=\"dataframe\">\n",
       "  <thead>\n",
       "    <tr style=\"text-align: right;\">\n",
       "      <th></th>\n",
       "      <th>Transaction_ID</th>\n",
       "      <th>Customer_ID</th>\n",
       "      <th>Transaction_Date</th>\n",
       "      <th>Transaction_Type</th>\n",
       "      <th>Merchant</th>\n",
       "      <th>Category</th>\n",
       "      <th>Amount</th>\n",
       "      <th>Payment_Mode</th>\n",
       "      <th>Transaction_Status</th>\n",
       "      <th>Location</th>\n",
       "    </tr>\n",
       "  </thead>\n",
       "  <tbody>\n",
       "    <tr>\n",
       "      <th>0</th>\n",
       "      <td>100000</td>\n",
       "      <td>4452.0</td>\n",
       "      <td>2023-01-01</td>\n",
       "      <td>Online</td>\n",
       "      <td>Walmart</td>\n",
       "      <td>Travel</td>\n",
       "      <td>4520.70</td>\n",
       "      <td>Debit Card</td>\n",
       "      <td>Approved</td>\n",
       "      <td>Jonesport</td>\n",
       "    </tr>\n",
       "    <tr>\n",
       "      <th>1</th>\n",
       "      <td>100001</td>\n",
       "      <td>2775.0</td>\n",
       "      <td>2023-01-01</td>\n",
       "      <td>ATM</td>\n",
       "      <td>BestBuy</td>\n",
       "      <td>Travel</td>\n",
       "      <td>1437.85</td>\n",
       "      <td>Debit Card</td>\n",
       "      <td>Approved</td>\n",
       "      <td>Port Jennifer</td>\n",
       "    </tr>\n",
       "    <tr>\n",
       "      <th>2</th>\n",
       "      <td>100002</td>\n",
       "      <td>2259.0</td>\n",
       "      <td>2023-01-01</td>\n",
       "      <td>Mobile Payment</td>\n",
       "      <td>Uber</td>\n",
       "      <td>Clothing</td>\n",
       "      <td>3320.52</td>\n",
       "      <td>PayPal</td>\n",
       "      <td>NaN</td>\n",
       "      <td>Port James</td>\n",
       "    </tr>\n",
       "    <tr>\n",
       "      <th>3</th>\n",
       "      <td>100003</td>\n",
       "      <td>4545.0</td>\n",
       "      <td>2023-01-01</td>\n",
       "      <td>Online</td>\n",
       "      <td>BestBuy</td>\n",
       "      <td>Travel</td>\n",
       "      <td>2659.96</td>\n",
       "      <td>Debit Card</td>\n",
       "      <td>Approved</td>\n",
       "      <td>Hawkinston</td>\n",
       "    </tr>\n",
       "    <tr>\n",
       "      <th>4</th>\n",
       "      <td>100004</td>\n",
       "      <td>2137.0</td>\n",
       "      <td>2023-01-01</td>\n",
       "      <td>ATM</td>\n",
       "      <td>Amazon</td>\n",
       "      <td>Travel</td>\n",
       "      <td>2517.07</td>\n",
       "      <td>Debit Card</td>\n",
       "      <td>Approved</td>\n",
       "      <td>Matthewland</td>\n",
       "    </tr>\n",
       "  </tbody>\n",
       "</table>\n",
       "</div>"
      ],
      "text/plain": [
       "   Transaction_ID  Customer_ID Transaction_Date Transaction_Type Merchant  \\\n",
       "0          100000       4452.0       2023-01-01           Online  Walmart   \n",
       "1          100001       2775.0       2023-01-01              ATM  BestBuy   \n",
       "2          100002       2259.0       2023-01-01   Mobile Payment     Uber   \n",
       "3          100003       4545.0       2023-01-01           Online  BestBuy   \n",
       "4          100004       2137.0       2023-01-01              ATM   Amazon   \n",
       "\n",
       "   Category   Amount Payment_Mode Transaction_Status       Location  \n",
       "0    Travel  4520.70   Debit Card           Approved      Jonesport  \n",
       "1    Travel  1437.85   Debit Card           Approved  Port Jennifer  \n",
       "2  Clothing  3320.52       PayPal                NaN     Port James  \n",
       "3    Travel  2659.96   Debit Card           Approved     Hawkinston  \n",
       "4    Travel  2517.07   Debit Card           Approved    Matthewland  "
      ]
     },
     "execution_count": 36,
     "metadata": {},
     "output_type": "execute_result"
    }
   ],
   "source": [
    "import pandas as pd\n",
    "\n",
    "# load data \n",
    "\n",
    "# data = pd.read_csv(\"https://raw.githubusercontent.com/Pankaj-Str/Complete-Python-Mastery/refs/heads/main/53%20DataSet/credit_card_transactions.csv\")\n",
    "\n",
    "data = pd.read_csv(\"credit_card_transactions.csv\")\n",
    "\n",
    "data.head()"
   ]
  },
  {
   "cell_type": "code",
   "execution_count": 37,
   "id": "1b2577e2",
   "metadata": {},
   "outputs": [
    {
     "data": {
      "text/plain": [
       "(5500, 10)"
      ]
     },
     "execution_count": 37,
     "metadata": {},
     "output_type": "execute_result"
    }
   ],
   "source": [
    "# Check the shape, column names, and summary statistics of the dataset.\n",
    "\n",
    "data.shape"
   ]
  },
  {
   "cell_type": "code",
   "execution_count": 38,
   "id": "5a51a5b3",
   "metadata": {},
   "outputs": [
    {
     "data": {
      "text/plain": [
       "['Transaction_ID',\n",
       " 'Customer_ID',\n",
       " 'Transaction_Date',\n",
       " 'Transaction_Type',\n",
       " 'Merchant',\n",
       " 'Category',\n",
       " 'Amount',\n",
       " 'Payment_Mode',\n",
       " 'Transaction_Status',\n",
       " 'Location']"
      ]
     },
     "execution_count": 38,
     "metadata": {},
     "output_type": "execute_result"
    }
   ],
   "source": [
    "# check column \n",
    "data.columns.to_list()"
   ]
  },
  {
   "cell_type": "code",
   "execution_count": 39,
   "id": "74192d66",
   "metadata": {},
   "outputs": [
    {
     "data": {
      "text/html": [
       "<div>\n",
       "<style scoped>\n",
       "    .dataframe tbody tr th:only-of-type {\n",
       "        vertical-align: middle;\n",
       "    }\n",
       "\n",
       "    .dataframe tbody tr th {\n",
       "        vertical-align: top;\n",
       "    }\n",
       "\n",
       "    .dataframe thead th {\n",
       "        text-align: right;\n",
       "    }\n",
       "</style>\n",
       "<table border=\"1\" class=\"dataframe\">\n",
       "  <thead>\n",
       "    <tr style=\"text-align: right;\">\n",
       "      <th></th>\n",
       "      <th>Transaction_ID</th>\n",
       "      <th>Customer_ID</th>\n",
       "      <th>Amount</th>\n",
       "    </tr>\n",
       "  </thead>\n",
       "  <tbody>\n",
       "    <tr>\n",
       "      <th>count</th>\n",
       "      <td>5500.000000</td>\n",
       "      <td>5499.000000</td>\n",
       "      <td>5500.000000</td>\n",
       "    </tr>\n",
       "    <tr>\n",
       "      <th>mean</th>\n",
       "      <td>102749.500000</td>\n",
       "      <td>2989.767776</td>\n",
       "      <td>2492.109224</td>\n",
       "    </tr>\n",
       "    <tr>\n",
       "      <th>std</th>\n",
       "      <td>1587.857571</td>\n",
       "      <td>1153.950996</td>\n",
       "      <td>1444.493842</td>\n",
       "    </tr>\n",
       "    <tr>\n",
       "      <th>min</th>\n",
       "      <td>100000.000000</td>\n",
       "      <td>1000.000000</td>\n",
       "      <td>6.550000</td>\n",
       "    </tr>\n",
       "    <tr>\n",
       "      <th>25%</th>\n",
       "      <td>101374.750000</td>\n",
       "      <td>1988.000000</td>\n",
       "      <td>1236.935000</td>\n",
       "    </tr>\n",
       "    <tr>\n",
       "      <th>50%</th>\n",
       "      <td>102749.500000</td>\n",
       "      <td>2999.000000</td>\n",
       "      <td>2502.405000</td>\n",
       "    </tr>\n",
       "    <tr>\n",
       "      <th>75%</th>\n",
       "      <td>104124.250000</td>\n",
       "      <td>3989.500000</td>\n",
       "      <td>3767.957500</td>\n",
       "    </tr>\n",
       "    <tr>\n",
       "      <th>max</th>\n",
       "      <td>105499.000000</td>\n",
       "      <td>4998.000000</td>\n",
       "      <td>4997.490000</td>\n",
       "    </tr>\n",
       "  </tbody>\n",
       "</table>\n",
       "</div>"
      ],
      "text/plain": [
       "       Transaction_ID  Customer_ID       Amount\n",
       "count     5500.000000  5499.000000  5500.000000\n",
       "mean    102749.500000  2989.767776  2492.109224\n",
       "std       1587.857571  1153.950996  1444.493842\n",
       "min     100000.000000  1000.000000     6.550000\n",
       "25%     101374.750000  1988.000000  1236.935000\n",
       "50%     102749.500000  2999.000000  2502.405000\n",
       "75%     104124.250000  3989.500000  3767.957500\n",
       "max     105499.000000  4998.000000  4997.490000"
      ]
     },
     "execution_count": 39,
     "metadata": {},
     "output_type": "execute_result"
    }
   ],
   "source": [
    "# summary statistics\n",
    "data.describe()"
   ]
  },
  {
   "cell_type": "code",
   "execution_count": 40,
   "id": "c79ab62d",
   "metadata": {},
   "outputs": [
    {
     "data": {
      "text/plain": [
       "Transaction_ID          int64\n",
       "Customer_ID           float64\n",
       "Transaction_Date       object\n",
       "Transaction_Type       object\n",
       "Merchant               object\n",
       "Category               object\n",
       "Amount                float64\n",
       "Payment_Mode           object\n",
       "Transaction_Status     object\n",
       "Location               object\n",
       "dtype: object"
      ]
     },
     "execution_count": 40,
     "metadata": {},
     "output_type": "execute_result"
    }
   ],
   "source": [
    "# check type \n",
    "data.dtypes"
   ]
  },
  {
   "cell_type": "code",
   "execution_count": 41,
   "id": "fd297995",
   "metadata": {},
   "outputs": [],
   "source": [
    "data['Transaction_Date'] = pd.to_datetime(data['Transaction_Date'])"
   ]
  },
  {
   "cell_type": "code",
   "execution_count": 42,
   "id": "3e98e5e1",
   "metadata": {},
   "outputs": [
    {
     "data": {
      "text/plain": [
       "Transaction_ID                 int64\n",
       "Customer_ID                  float64\n",
       "Transaction_Date      datetime64[ns]\n",
       "Transaction_Type              object\n",
       "Merchant                      object\n",
       "Category                      object\n",
       "Amount                       float64\n",
       "Payment_Mode                  object\n",
       "Transaction_Status            object\n",
       "Location                      object\n",
       "dtype: object"
      ]
     },
     "execution_count": 42,
     "metadata": {},
     "output_type": "execute_result"
    }
   ],
   "source": [
    "data.dtypes"
   ]
  },
  {
   "cell_type": "code",
   "execution_count": 43,
   "id": "7687b5e0",
   "metadata": {},
   "outputs": [
    {
     "data": {
      "text/plain": [
       "Transaction_ID        0\n",
       "Customer_ID           1\n",
       "Transaction_Date      0\n",
       "Transaction_Type      0\n",
       "Merchant              1\n",
       "Category              0\n",
       "Amount                0\n",
       "Payment_Mode          0\n",
       "Transaction_Status    4\n",
       "Location              1\n",
       "dtype: int64"
      ]
     },
     "execution_count": 43,
     "metadata": {},
     "output_type": "execute_result"
    }
   ],
   "source": [
    "data.isnull().sum()"
   ]
  },
  {
   "cell_type": "code",
   "execution_count": 46,
   "id": "84c9510d",
   "metadata": {},
   "outputs": [],
   "source": [
    "data['Transaction_Status'] = data['Transaction_Status'].fillna('Unknwon')"
   ]
  },
  {
   "cell_type": "code",
   "execution_count": 47,
   "id": "e22cb0fd",
   "metadata": {},
   "outputs": [
    {
     "data": {
      "text/plain": [
       "Transaction_ID        0\n",
       "Customer_ID           1\n",
       "Transaction_Date      0\n",
       "Transaction_Type      0\n",
       "Merchant              1\n",
       "Category              0\n",
       "Amount                0\n",
       "Payment_Mode          0\n",
       "Transaction_Status    0\n",
       "Location              1\n",
       "dtype: int64"
      ]
     },
     "execution_count": 47,
     "metadata": {},
     "output_type": "execute_result"
    }
   ],
   "source": [
    "data.isnull().sum()"
   ]
  },
  {
   "cell_type": "code",
   "execution_count": 51,
   "id": "3dec7838",
   "metadata": {},
   "outputs": [],
   "source": [
    "data['month']  = data['Transaction_Date'].dt.month\n",
    "data['day'] = data['Transaction_Date'].dt.day\n",
    "data['year'] = data['Transaction_Date'].dt.year"
   ]
  },
  {
   "cell_type": "code",
   "execution_count": 52,
   "id": "6c9fd107",
   "metadata": {},
   "outputs": [
    {
     "data": {
      "text/plain": [
       "['Transaction_ID',\n",
       " 'Customer_ID',\n",
       " 'Transaction_Date',\n",
       " 'Transaction_Type',\n",
       " 'Merchant',\n",
       " 'Category',\n",
       " 'Amount',\n",
       " 'Payment_Mode',\n",
       " 'Transaction_Status',\n",
       " 'Location',\n",
       " 'year',\n",
       " 'month',\n",
       " 'day']"
      ]
     },
     "execution_count": 52,
     "metadata": {},
     "output_type": "execute_result"
    }
   ],
   "source": [
    "data.columns.to_list()"
   ]
  },
  {
   "cell_type": "code",
   "execution_count": 53,
   "id": "3b5b8b0b",
   "metadata": {},
   "outputs": [
    {
     "data": {
      "text/html": [
       "<div>\n",
       "<style scoped>\n",
       "    .dataframe tbody tr th:only-of-type {\n",
       "        vertical-align: middle;\n",
       "    }\n",
       "\n",
       "    .dataframe tbody tr th {\n",
       "        vertical-align: top;\n",
       "    }\n",
       "\n",
       "    .dataframe thead th {\n",
       "        text-align: right;\n",
       "    }\n",
       "</style>\n",
       "<table border=\"1\" class=\"dataframe\">\n",
       "  <thead>\n",
       "    <tr style=\"text-align: right;\">\n",
       "      <th></th>\n",
       "      <th>Transaction_ID</th>\n",
       "      <th>Customer_ID</th>\n",
       "      <th>Transaction_Date</th>\n",
       "      <th>Transaction_Type</th>\n",
       "      <th>Merchant</th>\n",
       "      <th>Category</th>\n",
       "      <th>Amount</th>\n",
       "      <th>Payment_Mode</th>\n",
       "      <th>Transaction_Status</th>\n",
       "      <th>Location</th>\n",
       "      <th>year</th>\n",
       "      <th>month</th>\n",
       "      <th>day</th>\n",
       "    </tr>\n",
       "  </thead>\n",
       "  <tbody>\n",
       "    <tr>\n",
       "      <th>0</th>\n",
       "      <td>100000</td>\n",
       "      <td>4452.0</td>\n",
       "      <td>2023-01-01</td>\n",
       "      <td>Online</td>\n",
       "      <td>Walmart</td>\n",
       "      <td>Travel</td>\n",
       "      <td>4520.70</td>\n",
       "      <td>Debit Card</td>\n",
       "      <td>Approved</td>\n",
       "      <td>Jonesport</td>\n",
       "      <td>2023</td>\n",
       "      <td>1</td>\n",
       "      <td>1</td>\n",
       "    </tr>\n",
       "    <tr>\n",
       "      <th>1</th>\n",
       "      <td>100001</td>\n",
       "      <td>2775.0</td>\n",
       "      <td>2023-01-01</td>\n",
       "      <td>ATM</td>\n",
       "      <td>BestBuy</td>\n",
       "      <td>Travel</td>\n",
       "      <td>1437.85</td>\n",
       "      <td>Debit Card</td>\n",
       "      <td>Approved</td>\n",
       "      <td>Port Jennifer</td>\n",
       "      <td>2023</td>\n",
       "      <td>1</td>\n",
       "      <td>1</td>\n",
       "    </tr>\n",
       "    <tr>\n",
       "      <th>2</th>\n",
       "      <td>100002</td>\n",
       "      <td>2259.0</td>\n",
       "      <td>2023-01-01</td>\n",
       "      <td>Mobile Payment</td>\n",
       "      <td>Uber</td>\n",
       "      <td>Clothing</td>\n",
       "      <td>3320.52</td>\n",
       "      <td>PayPal</td>\n",
       "      <td>Unknwon</td>\n",
       "      <td>Port James</td>\n",
       "      <td>2023</td>\n",
       "      <td>1</td>\n",
       "      <td>1</td>\n",
       "    </tr>\n",
       "    <tr>\n",
       "      <th>3</th>\n",
       "      <td>100003</td>\n",
       "      <td>4545.0</td>\n",
       "      <td>2023-01-01</td>\n",
       "      <td>Online</td>\n",
       "      <td>BestBuy</td>\n",
       "      <td>Travel</td>\n",
       "      <td>2659.96</td>\n",
       "      <td>Debit Card</td>\n",
       "      <td>Approved</td>\n",
       "      <td>Hawkinston</td>\n",
       "      <td>2023</td>\n",
       "      <td>1</td>\n",
       "      <td>1</td>\n",
       "    </tr>\n",
       "    <tr>\n",
       "      <th>4</th>\n",
       "      <td>100004</td>\n",
       "      <td>2137.0</td>\n",
       "      <td>2023-01-01</td>\n",
       "      <td>ATM</td>\n",
       "      <td>Amazon</td>\n",
       "      <td>Travel</td>\n",
       "      <td>2517.07</td>\n",
       "      <td>Debit Card</td>\n",
       "      <td>Approved</td>\n",
       "      <td>Matthewland</td>\n",
       "      <td>2023</td>\n",
       "      <td>1</td>\n",
       "      <td>1</td>\n",
       "    </tr>\n",
       "  </tbody>\n",
       "</table>\n",
       "</div>"
      ],
      "text/plain": [
       "   Transaction_ID  Customer_ID Transaction_Date Transaction_Type Merchant  \\\n",
       "0          100000       4452.0       2023-01-01           Online  Walmart   \n",
       "1          100001       2775.0       2023-01-01              ATM  BestBuy   \n",
       "2          100002       2259.0       2023-01-01   Mobile Payment     Uber   \n",
       "3          100003       4545.0       2023-01-01           Online  BestBuy   \n",
       "4          100004       2137.0       2023-01-01              ATM   Amazon   \n",
       "\n",
       "   Category   Amount Payment_Mode Transaction_Status       Location  year  \\\n",
       "0    Travel  4520.70   Debit Card           Approved      Jonesport  2023   \n",
       "1    Travel  1437.85   Debit Card           Approved  Port Jennifer  2023   \n",
       "2  Clothing  3320.52       PayPal            Unknwon     Port James  2023   \n",
       "3    Travel  2659.96   Debit Card           Approved     Hawkinston  2023   \n",
       "4    Travel  2517.07   Debit Card           Approved    Matthewland  2023   \n",
       "\n",
       "   month  day  \n",
       "0      1    1  \n",
       "1      1    1  \n",
       "2      1    1  \n",
       "3      1    1  \n",
       "4      1    1  "
      ]
     },
     "execution_count": 53,
     "metadata": {},
     "output_type": "execute_result"
    }
   ],
   "source": [
    "data.head()"
   ]
  }
 ],
 "metadata": {
  "kernelspec": {
   "display_name": "Python 3",
   "language": "python",
   "name": "python3"
  },
  "language_info": {
   "codemirror_mode": {
    "name": "ipython",
    "version": 3
   },
   "file_extension": ".py",
   "mimetype": "text/x-python",
   "name": "python",
   "nbconvert_exporter": "python",
   "pygments_lexer": "ipython3",
   "version": "3.13.5"
  }
 },
 "nbformat": 4,
 "nbformat_minor": 5
}
