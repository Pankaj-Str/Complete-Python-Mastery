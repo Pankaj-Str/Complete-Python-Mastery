{
 "cells": [
  {
   "cell_type": "code",
   "execution_count": 2,
   "id": "172a58e4",
   "metadata": {},
   "outputs": [
    {
     "name": "stdout",
     "output_type": "stream",
     "text": [
      "bill 1st = 1224.0\n",
      "bill 2st = 1416.0\n",
      "----------------\n",
      "Price : 1416.0₹\n",
      "GST 18%\n",
      "GST amount 254.88₹\n",
      "Total = 1670.88₹\n",
      "--------------------------\n",
      "Price : 1416.0₹\n",
      "GST 2%\n",
      "GST amount 28.32₹\n",
      "Total = 1444.32₹\n",
      "--------------------------\n"
     ]
    }
   ],
   "source": [
    "import Tax as t\n",
    "\n",
    "\n",
    "price = 1200\n",
    "gst = 2\n",
    "total = t.get_total(price,gst)\n",
    "print(f'bill 1st = {total}')\n",
    "total = t.get_total(price)\n",
    "print(f'bill 2st = {total}')\n",
    "print('----------------')\n",
    "t.bill(total)\n",
    "t.bill(total,gst)"
   ]
  },
  {
   "cell_type": "code",
   "execution_count": 3,
   "id": "f93a155d",
   "metadata": {},
   "outputs": [
    {
     "name": "stdout",
     "output_type": "stream",
     "text": [
      "Collecting emoji\n",
      "  Downloading emoji-2.14.1-py3-none-any.whl.metadata (5.7 kB)\n",
      "Downloading emoji-2.14.1-py3-none-any.whl (590 kB)\n",
      "   ---------------------------------------- 0.0/590.6 kB ? eta -:--:--\n",
      "   ----------------- ---------------------- 262.1/590.6 kB ? eta -:--:--\n",
      "   ---------------------------------------- 590.6/590.6 kB 2.4 MB/s eta 0:00:00\n",
      "Installing collected packages: emoji\n",
      "Successfully installed emoji-2.14.1\n",
      "Note: you may need to restart the kernel to use updated packages.\n"
     ]
    },
    {
     "name": "stderr",
     "output_type": "stream",
     "text": [
      "\n",
      "[notice] A new release of pip is available: 25.1.1 -> 25.2\n",
      "[notice] To update, run: python.exe -m pip install --upgrade pip\n"
     ]
    }
   ],
   "source": [
    "%pip install emoji"
   ]
  },
  {
   "cell_type": "code",
   "execution_count": 7,
   "id": "d5cc73ad",
   "metadata": {},
   "outputs": [
    {
     "name": "stdout",
     "output_type": "stream",
     "text": [
      "Python is fun 🐍\n",
      "Python is 👍\n"
     ]
    }
   ],
   "source": [
    "import emoji\n",
    "\n",
    "# Adding emojis using aliases\n",
    "print(emoji.emojize(\"Python is fun :snake:\", language='en'))\n",
    "\n",
    "\n",
    "print(emoji.emojize('Python is :thumbs_up:'))"
   ]
  }
 ],
 "metadata": {
  "kernelspec": {
   "display_name": "Python 3",
   "language": "python",
   "name": "python3"
  },
  "language_info": {
   "codemirror_mode": {
    "name": "ipython",
    "version": 3
   },
   "file_extension": ".py",
   "mimetype": "text/x-python",
   "name": "python",
   "nbconvert_exporter": "python",
   "pygments_lexer": "ipython3",
   "version": "3.13.5"
  }
 },
 "nbformat": 4,
 "nbformat_minor": 5
}
