{
 "cells": [
  {
   "cell_type": "code",
   "execution_count": 2,
   "id": "7c8ef5ff",
   "metadata": {},
   "outputs": [
    {
     "name": "stdout",
     "output_type": "stream",
     "text": [
      "{}\n",
      "<class 'dict'>\n"
     ]
    }
   ],
   "source": [
    "data = {}\n",
    "print(data)\n",
    "print(type(data))"
   ]
  },
  {
   "cell_type": "code",
   "execution_count": 4,
   "id": "7c4887f6",
   "metadata": {},
   "outputs": [
    {
     "name": "stdout",
     "output_type": "stream",
     "text": [
      "set()\n",
      "<class 'set'>\n"
     ]
    }
   ],
   "source": [
    "#empty set\n",
    "data = set()\n",
    "print(data)\n",
    "print(type(data))\n"
   ]
  },
  {
   "cell_type": "code",
   "execution_count": 5,
   "id": "5fb2844e",
   "metadata": {},
   "outputs": [
    {
     "name": "stdout",
     "output_type": "stream",
     "text": [
      "{1, 34, 33, 22, 11}\n"
     ]
    }
   ],
   "source": [
    "data = {1,11,1,22,22,34,33,22}\n",
    "print(data)"
   ]
  },
  {
   "cell_type": "code",
   "execution_count": 6,
   "id": "1f33514f",
   "metadata": {},
   "outputs": [
    {
     "name": "stdout",
     "output_type": "stream",
     "text": [
      "{11, 21, 22, 23, 24}\n"
     ]
    }
   ],
   "source": [
    "my_list = [21,22,23,24,11,11,21,22,24]\n",
    "data = set(my_list)\n",
    "print(data)\n"
   ]
  },
  {
   "cell_type": "code",
   "execution_count": 7,
   "id": "0195376f",
   "metadata": {},
   "outputs": [
    {
     "name": "stdout",
     "output_type": "stream",
     "text": [
      "{21, 22, 23, 14, 15}\n"
     ]
    }
   ],
   "source": [
    "data = {21,22,21,23,22,14,14,15}\n",
    "print(data)"
   ]
  },
  {
   "cell_type": "code",
   "execution_count": 8,
   "id": "fdef3829",
   "metadata": {},
   "outputs": [
    {
     "name": "stdout",
     "output_type": "stream",
     "text": [
      "{21, 22, 23, 77, 14, 15}\n"
     ]
    }
   ],
   "source": [
    "# add new item into set\n",
    "data.add(77)\n",
    "print(data)"
   ]
  },
  {
   "cell_type": "code",
   "execution_count": 9,
   "id": "be592a68",
   "metadata": {},
   "outputs": [
    {
     "name": "stdout",
     "output_type": "stream",
     "text": [
      "{67, 68, 77, 14, 15, 21, 22, 23, 33}\n"
     ]
    }
   ],
   "source": [
    "# add more then 1 \n",
    "new_data = [21,33,67,68,21]\n",
    "data.update(new_data)\n",
    "print(data)"
   ]
  },
  {
   "cell_type": "code",
   "execution_count": null,
   "id": "fd9ee300",
   "metadata": {},
   "outputs": [
    {
     "name": "stdout",
     "output_type": "stream",
     "text": [
      "{67, 68, 14, 15, 21, 22, 23, 33}\n"
     ]
    }
   ],
   "source": [
    "# remove \n",
    "data.discard(777)\n",
    "print(data)"
   ]
  },
  {
   "cell_type": "code",
   "execution_count": 14,
   "id": "1822ed7e",
   "metadata": {},
   "outputs": [
    {
     "name": "stdout",
     "output_type": "stream",
     "text": [
      "{67, 68, 14, 15, 22, 23, 33}\n"
     ]
    }
   ],
   "source": [
    "data.remove(21)\n",
    "print(data)"
   ]
  },
  {
   "cell_type": "code",
   "execution_count": 16,
   "id": "95948778",
   "metadata": {},
   "outputs": [
    {
     "name": "stdout",
     "output_type": "stream",
     "text": [
      "{14, 15, 22, 23, 33}\n",
      "remove value -  68\n"
     ]
    }
   ],
   "source": [
    "value=data.pop()\n",
    "print(data)\n",
    "print(\"remove value - \",value)"
   ]
  },
  {
   "cell_type": "code",
   "execution_count": 17,
   "id": "e79d5cf6",
   "metadata": {},
   "outputs": [],
   "source": [
    "data.clear()"
   ]
  },
  {
   "cell_type": "code",
   "execution_count": 18,
   "id": "8121cc64",
   "metadata": {},
   "outputs": [
    {
     "name": "stdout",
     "output_type": "stream",
     "text": [
      "set()\n"
     ]
    }
   ],
   "source": [
    "print(data)"
   ]
  },
  {
   "cell_type": "code",
   "execution_count": 24,
   "id": "fd4aa818",
   "metadata": {},
   "outputs": [
    {
     "name": "stdout",
     "output_type": "stream",
     "text": [
      "{21, 22, 23, 24, 27, 29, 30}\n",
      "{22, 23}\n",
      "{24, 21}\n",
      "{27, 29, 30}\n",
      "{21, 24, 27, 29, 30}\n"
     ]
    }
   ],
   "source": [
    "data1 = {21,22,23,24}\n",
    "data2 = {22,23,27,29,30}\n",
    "result = data1.union(data2)\n",
    "print(result)\n",
    "result = data1.intersection(data2)\n",
    "print(result)\n",
    "result = data1.difference(data2)\n",
    "print(result)\n",
    "result = data2.difference(data1)\n",
    "print(result)\n",
    "\n",
    "result = data2.symmetric_difference(data1)\n",
    "print(result)"
   ]
  },
  {
   "cell_type": "code",
   "execution_count": 25,
   "id": "e0c9c93e",
   "metadata": {},
   "outputs": [
    {
     "name": "stdout",
     "output_type": "stream",
     "text": [
      "{'p', 'l', 'a', 'e'}\n"
     ]
    }
   ],
   "source": [
    "data = set(\"apple\")\n",
    "print(data)"
   ]
  },
  {
   "cell_type": "code",
   "execution_count": 26,
   "id": "439be8af",
   "metadata": {},
   "outputs": [
    {
     "name": "stdout",
     "output_type": "stream",
     "text": [
      "p\n",
      "l\n",
      "a\n",
      "e\n"
     ]
    }
   ],
   "source": [
    "for i in data:\n",
    "    print(i)"
   ]
  }
 ],
 "metadata": {
  "kernelspec": {
   "display_name": "Python 3",
   "language": "python",
   "name": "python3"
  },
  "language_info": {
   "codemirror_mode": {
    "name": "ipython",
    "version": 3
   },
   "file_extension": ".py",
   "mimetype": "text/x-python",
   "name": "python",
   "nbconvert_exporter": "python",
   "pygments_lexer": "ipython3",
   "version": "3.13.5"
  }
 },
 "nbformat": 4,
 "nbformat_minor": 5
}
