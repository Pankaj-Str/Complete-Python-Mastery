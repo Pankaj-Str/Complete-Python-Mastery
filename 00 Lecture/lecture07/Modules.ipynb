{
 "cells": [
  {
   "cell_type": "code",
   "execution_count": 4,
   "id": "a39aa706",
   "metadata": {},
   "outputs": [],
   "source": [
    "# importing Modules\n",
    "\n",
    "# import maths module\n",
    "import math\n"
   ]
  },
  {
   "cell_type": "code",
   "execution_count": 5,
   "id": "00494e41",
   "metadata": {},
   "outputs": [
    {
     "name": "stdout",
     "output_type": "stream",
     "text": [
      "0.9884320889261531\n",
      "2.15316056466364\n",
      "1.5707963267948966\n",
      "0.0\n",
      "3.141592653589793\n"
     ]
    }
   ],
   "source": [
    "# # using modules\n",
    "\n",
    "# Math Methods\n",
    "# math.acos()\t\n",
    "# Returns the arc cosine of a number\n",
    "# Return the arc cosine of numbers\n",
    "print(math.acos(0.55))\n",
    "print(math.acos(-0.55))\n",
    "print(math.acos(0))\n",
    "print(math.acos(1))\n",
    "print(math.acos(-1))\n",
    "# math.acosh()\tReturns the inverse hyperbolic cosine of a number\n",
    "# math.asin()\tReturns the arc sine of a number\n",
    "# math.asinh()\tReturns the inverse hyperbolic sine of a number\n",
    "# math.atan()\tReturns the arc tangent of a number in radians\n",
    "# math.atan2()\tReturns the arc tangent of y/x in radians\n",
    "# math.atanh()\tReturns the inverse hyperbolic tangent of a number\n",
    "# math.ceil()\tRounds a number up to the nearest integer\n",
    "# math.comb()\tReturns the number of ways to choose k items from n items without repetition and order\n",
    "# math.copysign()\tReturns a float consisting of the value of the first parameter and the sign of the second parameter\n",
    "# math.cos()\tReturns the cosine of a number\n",
    "# math.cosh()\tReturns the hyperbolic cosine of a number\n",
    "# math.degrees()\tConverts an angle from radians to degrees\n",
    "# math.dist()\tReturns the Euclidean distance between two points (p and q), where p and q are the coordinates of that point\n",
    "# math.erf()\tReturns the error function of a number\n",
    "# math.erfc()\tReturns the complementary error function of a number\n",
    "# math.exp()\tReturns E raised to the power of x\n",
    "# math.expm1()\tReturns Ex - 1\n",
    "# math.fabs()\tReturns the absolute value of a number\n",
    "# math.factorial()\tReturns the factorial of a number\n",
    "# math.floor()\tRounds a number down to the nearest integer\n",
    "# math.fmod()\tReturns the remainder of x/y\n",
    "# math.frexp()\tReturns the mantissa and the exponent, of a specified number\n",
    "# math.fsum()\tReturns the sum of all items in any iterable (tuples, arrays, lists, etc.)\n",
    "# math.gamma()\tReturns the gamma function at x\n",
    "# math.gcd()\tReturns the greatest common divisor of two integers\n",
    "# math.hypot()\tReturns the Euclidean norm\n",
    "# math.isclose()\tChecks whether two values are close to each other, or not\n",
    "# math.isfinite()\tChecks whether a number is finite or not\n",
    "# math.isinf()\tChecks whether a number is infinite or not\n",
    "# math.isnan()\tChecks whether a value is NaN (not a number) or not\n",
    "# math.isqrt()\tRounds a square root number downwards to the nearest integer\n",
    "# math.ldexp()\tReturns the inverse of math.frexp() which is x * (2**i) of the given numbers x and i\n",
    "# math.lgamma()\tReturns the log gamma value of x\n",
    "# math.log()\tReturns the natural logarithm of a number, or the logarithm of number to base\n",
    "# math.log10()\tReturns the base-10 logarithm of x\n",
    "# math.log1p()\tReturns the natural logarithm of 1+x\n",
    "# math.log2()\tReturns the base-2 logarithm of x\n",
    "# math.perm()\tReturns the number of ways to choose k items from n items with order and without repetition\n",
    "# math.pow()\tReturns the value of x to the power of y\n",
    "# math.prod()\tReturns the product of all the elements in an iterable\n",
    "# math.radians()\tConverts a degree value into radians\n",
    "# math.remainder()\tReturns the closest value that can make numerator completely divisible by the denominator\n",
    "# math.sin()\tReturns the sine of a number\n",
    "# math.sinh()\tReturns the hyperbolic sine of a number\n",
    "# math.sqrt()\tReturns the square root of a number\n",
    "# math.tan()\tReturns the tangent of a number\n",
    "# math.tanh()\tReturns the hyperbolic tangent of a number\n",
    "# math.trunc()\tReturns the truncated integer parts of a number"
   ]
  },
  {
   "cell_type": "code",
   "execution_count": null,
   "id": "874486f1",
   "metadata": {},
   "outputs": [],
   "source": [
    "#https://www.w3schools.com/python/module_math.asp"
   ]
  },
  {
   "cell_type": "code",
   "execution_count": 13,
   "id": "0b5e2b47",
   "metadata": {},
   "outputs": [
    {
     "name": "stdout",
     "output_type": "stream",
     "text": [
      "5\n"
     ]
    }
   ],
   "source": [
    "# https://www.w3schools.com/python/module_random.asp\n",
    "\n",
    "import random\n",
    "\n",
    "# generate a random number between 1 and 10\n",
    "\n",
    "print(random.randint(1,10))"
   ]
  }
 ],
 "metadata": {
  "kernelspec": {
   "display_name": "Python 3",
   "language": "python",
   "name": "python3"
  },
  "language_info": {
   "codemirror_mode": {
    "name": "ipython",
    "version": 3
   },
   "file_extension": ".py",
   "mimetype": "text/x-python",
   "name": "python",
   "nbconvert_exporter": "python",
   "pygments_lexer": "ipython3",
   "version": "3.13.4"
  }
 },
 "nbformat": 4,
 "nbformat_minor": 5
}
