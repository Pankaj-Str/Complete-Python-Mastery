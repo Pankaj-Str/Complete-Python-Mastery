{
 "cells": [
  {
   "cell_type": "code",
   "execution_count": 7,
   "id": "45389b9f",
   "metadata": {},
   "outputs": [
    {
     "name": "stdout",
     "output_type": "stream",
     "text": [
      "974\n",
      "818\n",
      "974\n",
      "11.487179487179487\n",
      "11\n",
      "190556932731893503596303726456733230903416439276043320433470689123216869703029123199115578571018531285474459879098033461717970069808752425682093038298923197822228808874795753318242241944363953737397567741963057674043025937856987136\n"
     ]
    }
   ],
   "source": [
    "# operator in python\n",
    "\n",
    "# Arithmetic Operators\n",
    "\n",
    "x = 896 \n",
    "y = 78 \n",
    "\n",
    "print(x+y)\n",
    "print(x-y)\n",
    "print(x+y)\n",
    "print(x/y)\n",
    "print(x//y)\n",
    "print(x**y)\n"
   ]
  },
  {
   "cell_type": "code",
   "execution_count": 12,
   "id": "3b3728ad",
   "metadata": {},
   "outputs": [
    {
     "name": "stdout",
     "output_type": "stream",
     "text": [
      "False\n",
      "True\n",
      "True\n",
      "False\n",
      "True\n",
      "False\n"
     ]
    }
   ],
   "source": [
    "a = 10\n",
    "b = 5\n",
    "\n",
    "# Equal to\n",
    "result = (a == b)\n",
    "print(result)  # Output: False\n",
    "\n",
    "# Not equal to\n",
    "result = (a != b)\n",
    "print(result)  # Output: True\n",
    "\n",
    "# Greater than\n",
    "result = (a > b)\n",
    "print(result)  # Output: True\n",
    "\n",
    "# Less than\n",
    "result = (a < b)\n",
    "print(result)  # Output: False\n",
    "\n",
    "# Greater than or equal to\n",
    "result = (a >= b)\n",
    "print(result)  # Output: True\n",
    "\n",
    "# Less than or equal to\n",
    "result = (a <= b)\n",
    "print(result)  # Output: False"
   ]
  },
  {
   "cell_type": "code",
   "execution_count": 13,
   "id": "fe330ddc",
   "metadata": {},
   "outputs": [
    {
     "name": "stdout",
     "output_type": "stream",
     "text": [
      "False\n",
      "True\n",
      "False\n"
     ]
    }
   ],
   "source": [
    "a = True\n",
    "b = False\n",
    "\n",
    "# Logical AND\n",
    "result = a and b\n",
    "print(result)  # Output: False\n",
    "\n",
    "# Logical OR\n",
    "result = a or b\n",
    "print(result)  # Output: True\n",
    "\n",
    "# Logical NOT\n",
    "result = not a\n",
    "print(result)  # Output: False"
   ]
  },
  {
   "cell_type": "code",
   "execution_count": null,
   "id": "46633ff6",
   "metadata": {},
   "outputs": [
    {
     "name": "stdout",
     "output_type": "stream",
     "text": [
      "5\n",
      "10\n",
      "5\n",
      "10\n",
      "5.0\n",
      "2.0\n",
      "8.0\n",
      "4.0\n",
      "4.0\n"
     ]
    }
   ],
   "source": [
    "a = 10\n",
    "\n",
    "# Assign\n",
    "a = 5\n",
    "print(a)  # Output: 5\n",
    "\n",
    "# Add and assign\n",
    "a += 5\n",
    "print(a)  # Output: 10\n",
    "\n",
    "# Subtract and assign\n",
    "a -= 5\n",
    "print(a)  # Output: 5\n",
    "\n",
    "# Multiply and assign\n",
    "a *= 2\n",
    "print(a)  # Output: 10\n",
    "\n",
    "# Divide and assign\n",
    "a /= 2\n",
    "print(a)  # Output: 5.0\n",
    "\n",
    "# Modulus and assign\n",
    "a %= 3\n",
    "print(a)  # Output: 2.0\n",
    "\n",
    "# Exponentiation and assign\n",
    "a **= 3\n",
    "print(a)  # Output: 8.0\n",
    "\n",
    "# Floor division and assign\n",
    "a //= 2\n",
    "print(a)  # Output: 4.0\n",
    "print(a)  # Output: 4.0"
   ]
  },
  {
   "cell_type": "code",
   "execution_count": 15,
   "id": "c72a2458",
   "metadata": {},
   "outputs": [
    {
     "name": "stdout",
     "output_type": "stream",
     "text": [
      "True\n",
      "True\n"
     ]
    }
   ],
   "source": [
    "a = [1, 2, 3]\n",
    "b = a\n",
    "c = [1, 2, 3]\n",
    "\n",
    "# is operator\n",
    "result = (a is b)\n",
    "print(result)  # Output: True\n",
    "\n",
    "# is not operator\n",
    "result = (a is not c)\n",
    "print(result)  # Output: True"
   ]
  },
  {
   "cell_type": "code",
   "execution_count": 16,
   "id": "5081eb4b",
   "metadata": {},
   "outputs": [
    {
     "name": "stdout",
     "output_type": "stream",
     "text": [
      "True\n",
      "True\n"
     ]
    }
   ],
   "source": [
    "a = [1, 2, 3, 4, 5]\n",
    "b = 3\n",
    "c = 6\n",
    "\n",
    "# in operator\n",
    "result = (b in a)\n",
    "print(result)  # Output: True\n",
    "\n",
    "# not in operator\n",
    "result = (c not in a)\n",
    "print(result)  # Output: True"
   ]
  }
 ],
 "metadata": {
  "kernelspec": {
   "display_name": "Python 3",
   "language": "python",
   "name": "python3"
  },
  "language_info": {
   "codemirror_mode": {
    "name": "ipython",
    "version": 3
   },
   "file_extension": ".py",
   "mimetype": "text/x-python",
   "name": "python",
   "nbconvert_exporter": "python",
   "pygments_lexer": "ipython3",
   "version": "3.13.4"
  }
 },
 "nbformat": 4,
 "nbformat_minor": 5
}
