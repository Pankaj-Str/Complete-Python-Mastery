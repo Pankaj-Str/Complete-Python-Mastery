{
 "cells": [
  {
   "cell_type": "code",
   "execution_count": null,
   "id": "b585ca32",
   "metadata": {},
   "outputs": [],
   "source": [
    "# function in python\n",
    "# what is a function?\n",
    "# function is a block of code that only runs when it is called"
   ]
  },
  {
   "cell_type": "code",
   "execution_count": 2,
   "id": "b8e4a27c",
   "metadata": {},
   "outputs": [],
   "source": [
    "# basic function\n",
    "def my_function():\n",
    "    print(\"Hello from a function\")"
   ]
  },
  {
   "cell_type": "code",
   "execution_count": 3,
   "id": "2eefb605",
   "metadata": {},
   "outputs": [
    {
     "name": "stdout",
     "output_type": "stream",
     "text": [
      "Hello from a function\n"
     ]
    }
   ],
   "source": [
    "# calling a function\n",
    "my_function()"
   ]
  },
  {
   "cell_type": "code",
   "execution_count": 5,
   "id": "a1f1854b",
   "metadata": {},
   "outputs": [
    {
     "name": "stdout",
     "output_type": "stream",
     "text": [
      "Hello Alice, you are 30 years old.\n",
      "Hello Bob, you are 25 years old.\n"
     ]
    }
   ],
   "source": [
    "# function with parameters\n",
    "def greet(name, age):\n",
    "    print(f\"Hello {name}, you are {age} years old.\")\n",
    "\n",
    "# calling a function with arguments\n",
    "greet(\"Alice\", 30)\n",
    "greet(\"Bob\", 25)"
   ]
  },
  {
   "cell_type": "code",
   "execution_count": 6,
   "id": "ef10d417",
   "metadata": {},
   "outputs": [
    {
     "name": "stdout",
     "output_type": "stream",
     "text": [
      "42\n"
     ]
    }
   ],
   "source": [
    "# function with return value\n",
    "def get_number():\n",
    "    return 42\n",
    "\n",
    "# calling a function and storing the return value\n",
    "number = get_number()\n",
    "print(number)  # Output: 42"
   ]
  },
  {
   "cell_type": "code",
   "execution_count": 7,
   "id": "14a6f004",
   "metadata": {},
   "outputs": [
    {
     "name": "stdout",
     "output_type": "stream",
     "text": [
      "The sum is: 15\n"
     ]
    }
   ],
   "source": [
    "# function with parameters and return value\n",
    "\n",
    "def add_numbers(a, b):\n",
    "    return a + b\n",
    "\n",
    "# calling the function and printing the result\n",
    "result = add_numbers(5, 10)\n",
    "print(f\"The sum is: {result}\")  # Output: The sum is: 15"
   ]
  },
  {
   "cell_type": "code",
   "execution_count": 12,
   "id": "77094c09",
   "metadata": {},
   "outputs": [
    {
     "name": "stdout",
     "output_type": "stream",
     "text": [
      "5\n",
      "15\n",
      "13\n",
      "10\n",
      "3.14\n",
      "[1, 2, 5, 7, 9]\n"
     ]
    }
   ],
   "source": [
    "# predefined function\n",
    "\n",
    "# min()\n",
    "\n",
    "print(min(5, 10, 15))  # Output: 5\n",
    "\n",
    "# max()\n",
    "print(max(5, 10, 15))  # Output: 15\n",
    "\n",
    "# len()\n",
    "print(len(\"Hello, World!\"))  # Output: 13\n",
    "\n",
    "# abs()\n",
    "print(abs(-10))  # Output: 10\n",
    "\n",
    "# round()\n",
    "print(round(3.14159, 2))  # Output: 3.14\n",
    "\n",
    "# sorted()\n",
    "print(sorted([5, 2, 9, 1, 7]))  # Output"
   ]
  }
 ],
 "metadata": {
  "kernelspec": {
   "display_name": "Python 3",
   "language": "python",
   "name": "python3"
  },
  "language_info": {
   "codemirror_mode": {
    "name": "ipython",
    "version": 3
   },
   "file_extension": ".py",
   "mimetype": "text/x-python",
   "name": "python",
   "nbconvert_exporter": "python",
   "pygments_lexer": "ipython3",
   "version": "3.13.5"
  }
 },
 "nbformat": 4,
 "nbformat_minor": 5
}
