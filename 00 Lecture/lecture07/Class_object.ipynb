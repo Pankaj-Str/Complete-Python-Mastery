{
 "cells": [
  {
   "cell_type": "code",
   "execution_count": 2,
   "id": "09a8ed1d",
   "metadata": {},
   "outputs": [],
   "source": [
    "# class and object\n",
    "class student:\n",
    "    def info():\n",
    "        print(\"This is a student class\")\n",
    "        print(\"my name is yash\")\n"
   ]
  },
  {
   "cell_type": "code",
   "execution_count": 4,
   "id": "d83c5070",
   "metadata": {},
   "outputs": [
    {
     "name": "stdout",
     "output_type": "stream",
     "text": [
      "This is a student class\n",
      "my name is yash\n"
     ]
    }
   ],
   "source": [
    "# create a object\n",
    "obj = student\n",
    "obj.info()"
   ]
  },
  {
   "cell_type": "code",
   "execution_count": 5,
   "id": "8e07e4cd",
   "metadata": {},
   "outputs": [],
   "source": [
    "class client:\n",
    "    def client_info(name):\n",
    "        print(\"The Client Name : \", name)\n",
    "        \n",
    "    def client_city(city):\n",
    "        print(\"The Client City : \", city)"
   ]
  },
  {
   "cell_type": "code",
   "execution_count": 7,
   "id": "543efef0",
   "metadata": {},
   "outputs": [
    {
     "name": "stdout",
     "output_type": "stream",
     "text": [
      "The Client Name :  Kahan\n",
      "The Client City :  pune\n"
     ]
    }
   ],
   "source": [
    "c = client\n",
    "c.client_info(\"Kahan\")\n",
    "c.client_city(\"pune\")"
   ]
  },
  {
   "cell_type": "code",
   "execution_count": 16,
   "id": "4085e974",
   "metadata": {},
   "outputs": [],
   "source": [
    "# attributes \n",
    "\n",
    "class creditcard:\n",
    "    def info(self,card_name,card_number,card_expiration_date):\n",
    "        self.card_name = card_name\n",
    "        print(f\"Card Name: {card_name}\")\n",
    "        print(f\"Card Number: {card_number}\")\n",
    "        print(f\"Card Expiration Date: {card_expiration_date}\")\n",
    "        \n",
    "    def Customer_info(self,name):\n",
    "        print(f\"Customer Name: {name}\")\n",
    "        print(f\"Card Name: {self.card_name}\")\n",
    "        \n",
    "        "
   ]
  },
  {
   "cell_type": "code",
   "execution_count": 18,
   "id": "48be7e4a",
   "metadata": {},
   "outputs": [
    {
     "name": "stdout",
     "output_type": "stream",
     "text": [
      "Card Name: HDFC\n",
      "Card Number: 1234-5678-9012-9090\n",
      "Card Expiration Date: 30/2025\n",
      "Customer Name: Kahan\n",
      "Card Name: HDFC\n"
     ]
    }
   ],
   "source": [
    "# create a object\n",
    "\n",
    "cc = creditcard()\n",
    "cc.info('HDFC', '1234-5678-9012-9090','30/2025')\n",
    "cc.Customer_info(\"Kahan\")"
   ]
  }
 ],
 "metadata": {
  "kernelspec": {
   "display_name": "Python 3",
   "language": "python",
   "name": "python3"
  },
  "language_info": {
   "codemirror_mode": {
    "name": "ipython",
    "version": 3
   },
   "file_extension": ".py",
   "mimetype": "text/x-python",
   "name": "python",
   "nbconvert_exporter": "python",
   "pygments_lexer": "ipython3",
   "version": "3.13.5"
  }
 },
 "nbformat": 4,
 "nbformat_minor": 5
}
