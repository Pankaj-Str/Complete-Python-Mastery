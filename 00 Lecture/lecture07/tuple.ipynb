{
 "cells": [
  {
   "cell_type": "code",
   "execution_count": null,
   "id": "1ed657ae",
   "metadata": {},
   "outputs": [],
   "source": [
    "# what is tuple in python\n",
    "# A tuple is a collection which is ordered and unchangeable.\n",
    "# Tuples are written with round brackets.\n",
    "# Tuples are defined by placing all the items (elements) inside the parentheses, separated by commas\n",
    "# Tuples can contain any data type, including other tuples, lists, and dictionaries."
   ]
  },
  {
   "cell_type": "code",
   "execution_count": 1,
   "id": "e1f7676b",
   "metadata": {},
   "outputs": [
    {
     "name": "stdout",
     "output_type": "stream",
     "text": [
      "Tuple: (1, 2, 3, 4, 5)\n"
     ]
    }
   ],
   "source": [
    "# Example of a tuple\n",
    "data = (1, 2, 3, 4, 5)\n",
    "# printing the tuple\n",
    "print(\"Tuple:\", data)"
   ]
  },
  {
   "cell_type": "code",
   "execution_count": 2,
   "id": "85f33c48",
   "metadata": {},
   "outputs": [
    {
     "name": "stdout",
     "output_type": "stream",
     "text": [
      "Type of data: <class 'tuple'>\n"
     ]
    }
   ],
   "source": [
    "# check type of data\n",
    "print(\"Type of data:\", type(data))"
   ]
  },
  {
   "cell_type": "code",
   "execution_count": 3,
   "id": "61268957",
   "metadata": {},
   "outputs": [
    {
     "name": "stdout",
     "output_type": "stream",
     "text": [
      "First element: 1\n",
      "Last element: 5\n"
     ]
    }
   ],
   "source": [
    "# accessing elements in a tuple\n",
    "print(\"First element:\", data[0])\n",
    "# accessing elements in a tuple using negative indexing\n",
    "print(\"Last element:\", data[-1])"
   ]
  },
  {
   "cell_type": "code",
   "execution_count": 5,
   "id": "b89ec8b1",
   "metadata": {},
   "outputs": [
    {
     "name": "stdout",
     "output_type": "stream",
     "text": [
      "Sliced tuple (1:4): (2, 3, 4)\n"
     ]
    }
   ],
   "source": [
    "# slicing a tuple\n",
    "sliced_data = data[1:4]\n",
    "print(\"Sliced tuple (1:4):\", sliced_data)"
   ]
  },
  {
   "cell_type": "code",
   "execution_count": 6,
   "id": "653df1ce",
   "metadata": {},
   "outputs": [
    {
     "name": "stdout",
     "output_type": "stream",
     "text": [
      "Count of 2 in tuple: 2\n"
     ]
    }
   ],
   "source": [
    "# methods available for tuples\n",
    "# count() method returns the number of times a specified value appears in the tuple\n",
    "data = (1, 2, 3, 2, 4, 5)\n",
    "count_of_2 = data.count(2)\n",
    "print(\"Count of 2 in tuple:\", count_of_2)"
   ]
  },
  {
   "cell_type": "code",
   "execution_count": 7,
   "id": "660e4fa8",
   "metadata": {},
   "outputs": [
    {
     "name": "stdout",
     "output_type": "stream",
     "text": [
      "Index of 3 in tuple: 2\n"
     ]
    }
   ],
   "source": [
    "# index() method returns the index of the first occurrence of a specified value\n",
    "index_of_3 = data.index(3)\n",
    "print(\"Index of 3 in tuple:\", index_of_3)\n"
   ]
  },
  {
   "cell_type": "code",
   "execution_count": 8,
   "id": "5195be1b",
   "metadata": {},
   "outputs": [
    {
     "name": "stdout",
     "output_type": "stream",
     "text": [
      "Length of tuple: 6\n"
     ]
    }
   ],
   "source": [
    "# print length of tuple\n",
    "length_of_data = len(data)\n",
    "print(\"Length of tuple:\", length_of_data)"
   ]
  },
  {
   "cell_type": "code",
   "execution_count": 9,
   "id": "074cabde",
   "metadata": {},
   "outputs": [
    {
     "name": "stdout",
     "output_type": "stream",
     "text": [
      "Sum of elements in tuple: 17\n"
     ]
    }
   ],
   "source": [
    "# summing elements in a tuple\n",
    "sum_of_data = sum(data)\n",
    "print(\"Sum of elements in tuple:\", sum_of_data)"
   ]
  },
  {
   "cell_type": "code",
   "execution_count": 10,
   "id": "9d2fb232",
   "metadata": {},
   "outputs": [
    {
     "name": "stdout",
     "output_type": "stream",
     "text": [
      "Sorted tuple: (1, 2, 2, 3, 4, 5)\n"
     ]
    }
   ],
   "source": [
    "# sorting a tuple\n",
    "# Tuples are immutable, so we cannot sort them directly.\n",
    "# However, we can convert it to a list, sort it, and then convert it back to a tuple.\n",
    "sorted_data = tuple(sorted(data))\n",
    "print(\"Sorted tuple:\", sorted_data)"
   ]
  },
  {
   "cell_type": "code",
   "execution_count": 11,
   "id": "745bd459",
   "metadata": {},
   "outputs": [
    {
     "name": "stdout",
     "output_type": "stream",
     "text": [
      "Iterating through tuple:\n",
      "1 2 3 2 4 5 "
     ]
    }
   ],
   "source": [
    "# using loop to iterate through a tuple\n",
    "print(\"Iterating through tuple:\")\n",
    "for item in data:\n",
    "    print(item, end=' ')"
   ]
  },
  {
   "cell_type": "code",
   "execution_count": null,
   "id": "2dc024cf",
   "metadata": {},
   "outputs": [],
   "source": []
  }
 ],
 "metadata": {
  "kernelspec": {
   "display_name": "Python 3",
   "language": "python",
   "name": "python3"
  },
  "language_info": {
   "codemirror_mode": {
    "name": "ipython",
    "version": 3
   },
   "file_extension": ".py",
   "mimetype": "text/x-python",
   "name": "python",
   "nbconvert_exporter": "python",
   "pygments_lexer": "ipython3",
   "version": "3.13.5"
  }
 },
 "nbformat": 4,
 "nbformat_minor": 5
}
