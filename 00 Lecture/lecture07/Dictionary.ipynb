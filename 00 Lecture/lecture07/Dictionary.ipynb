{
 "cells": [
  {
   "cell_type": "code",
   "execution_count": null,
   "id": "9d02a712",
   "metadata": {},
   "outputs": [],
   "source": [
    "# Dictionary in Python\n",
    "# A dictionary is a collection of key-value pairs"
   ]
  },
  {
   "cell_type": "code",
   "execution_count": 1,
   "id": "1752e917",
   "metadata": {},
   "outputs": [
    {
     "name": "stdout",
     "output_type": "stream",
     "text": [
      "Alice\n",
      "30\n"
     ]
    }
   ],
   "source": [
    "# example of a dictionary\n",
    "data = {'name': 'Alice', 'age': 30, 'city': 'New York'}\n",
    "# Accessing values in a dictionary\n",
    "print(data['name'])  # Output: Alice\n",
    "print(data['age'])   # Output: 30"
   ]
  },
  {
   "cell_type": "code",
   "execution_count": 2,
   "id": "258c464a",
   "metadata": {},
   "outputs": [
    {
     "name": "stdout",
     "output_type": "stream",
     "text": [
      "{'name': 'Alice', 'age': 30, 'city': 'New York', 'height': 5.5}\n"
     ]
    }
   ],
   "source": [
    "# adding a new key-value pair\n",
    "data['height']  = 5.5\n",
    "\n",
    "print(data)"
   ]
  },
  {
   "cell_type": "code",
   "execution_count": 3,
   "id": "52225d0e",
   "metadata": {},
   "outputs": [
    {
     "name": "stdout",
     "output_type": "stream",
     "text": [
      "{'name': 'Alice', 'age': 31, 'city': 'New York', 'height': 5.5}\n"
     ]
    }
   ],
   "source": [
    "# update an existing key-value pair\n",
    "data['age'] = 31\n",
    "print(data)"
   ]
  },
  {
   "cell_type": "code",
   "execution_count": 4,
   "id": "b7bb03db",
   "metadata": {},
   "outputs": [
    {
     "name": "stdout",
     "output_type": "stream",
     "text": [
      "dict_keys(['name', 'age', 'city', 'height'])\n"
     ]
    }
   ],
   "source": [
    "# print all keys in the dictionary\n",
    "print(data.keys())"
   ]
  },
  {
   "cell_type": "code",
   "execution_count": 5,
   "id": "38a0235c",
   "metadata": {},
   "outputs": [
    {
     "name": "stdout",
     "output_type": "stream",
     "text": [
      "dict_values(['Alice', 31, 'New York', 5.5])\n"
     ]
    }
   ],
   "source": [
    "# print all values in the dictionary\n",
    "print(data.values())"
   ]
  },
  {
   "cell_type": "code",
   "execution_count": 6,
   "id": "21f501c5",
   "metadata": {},
   "outputs": [
    {
     "name": "stdout",
     "output_type": "stream",
     "text": [
      "dict_items([('name', 'Alice'), ('age', 31), ('city', 'New York'), ('height', 5.5)])\n"
     ]
    }
   ],
   "source": [
    "# print all keys and values in the dictionary\n",
    "print(data.items())"
   ]
  },
  {
   "cell_type": "code",
   "execution_count": 7,
   "id": "cb33006f",
   "metadata": {},
   "outputs": [
    {
     "name": "stdout",
     "output_type": "stream",
     "text": [
      "{'name': 'Alice', 'age': 31, 'height': 5.5}\n"
     ]
    }
   ],
   "source": [
    " # removing a key-value pair\n",
    "del data['city']\n",
    "print(data)"
   ]
  },
  {
   "cell_type": "code",
   "execution_count": 8,
   "id": "5c2262ab",
   "metadata": {},
   "outputs": [
    {
     "name": "stdout",
     "output_type": "stream",
     "text": [
      "Alice\n"
     ]
    }
   ],
   "source": [
    "# using get() method to access a value\n",
    "print(data.get('name'))  # Output: Alice"
   ]
  },
  {
   "cell_type": "code",
   "execution_count": 10,
   "id": "70ea0897",
   "metadata": {},
   "outputs": [
    {
     "name": "stdout",
     "output_type": "stream",
     "text": [
      "name: Alice\n",
      "age: 31\n",
      "height: 5.5\n"
     ]
    }
   ],
   "source": [
    "# print all keys in the dictionary using a loop\n",
    "for key, value in data.items():\n",
    "    print(f\"{key}: {value}\")"
   ]
  }
 ],
 "metadata": {
  "kernelspec": {
   "display_name": "Python 3",
   "language": "python",
   "name": "python3"
  },
  "language_info": {
   "codemirror_mode": {
    "name": "ipython",
    "version": 3
   },
   "file_extension": ".py",
   "mimetype": "text/x-python",
   "name": "python",
   "nbconvert_exporter": "python",
   "pygments_lexer": "ipython3",
   "version": "3.13.5"
  }
 },
 "nbformat": 4,
 "nbformat_minor": 5
}
