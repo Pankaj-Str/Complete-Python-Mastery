{
 "cells": [
  {
   "cell_type": "code",
   "execution_count": 3,
   "id": "dcb0fcf2",
   "metadata": {},
   "outputs": [
    {
     "name": "stdout",
     "output_type": "stream",
     "text": [
      "welcome to codeswithpankaj.com\n",
      "welcome to codeswithpankaj.com\n",
      "6756\n"
     ]
    }
   ],
   "source": [
    "print(\"welcome to codeswithpankaj.com\")\n",
    "print('welcome to codeswithpankaj.com')\n",
    "print(6756)"
   ]
  },
  {
   "cell_type": "code",
   "execution_count": 4,
   "id": "0851fedb",
   "metadata": {},
   "outputs": [
    {
     "name": "stdout",
     "output_type": "stream",
     "text": [
      "My number is :  45454\n"
     ]
    }
   ],
   "source": [
    "print(\"My number is : \",45454)"
   ]
  },
  {
   "cell_type": "code",
   "execution_count": 6,
   "id": "583994e4",
   "metadata": {},
   "outputs": [
    {
     "name": "stdout",
     "output_type": "stream",
     "text": [
      "my name is :  joy\n",
      "my age is :  31\n",
      "my height is :  4.5\n"
     ]
    }
   ],
   "source": [
    "# variable \n",
    "\n",
    "# VariableName = Values\n",
    "\n",
    "name = \"joy\"\n",
    "age = 31\n",
    "height = 4.5\n",
    "\n",
    "print('my name is : ',name)\n",
    "print('my age is : ',age)\n",
    "print('my height is : ',height)"
   ]
  },
  {
   "cell_type": "code",
   "execution_count": 7,
   "id": "119797d9",
   "metadata": {},
   "outputs": [
    {
     "name": "stdout",
     "output_type": "stream",
     "text": [
      "my name is :  joy\n",
      "my age is :  78\n",
      "my height is :  5.6\n"
     ]
    }
   ],
   "source": [
    "#input()\n",
    "\n",
    "name = input('Enter your name')\n",
    "age = input('enter your age')\n",
    "height = input('enter your height')\n",
    "\n",
    "print('my name is : ',name)\n",
    "print('my age is : ',age)\n",
    "print('my height is : ',height)\n"
   ]
  },
  {
   "cell_type": "code",
   "execution_count": 8,
   "id": "79aa3b90",
   "metadata": {},
   "outputs": [
    {
     "name": "stdout",
     "output_type": "stream",
     "text": [
      "<class 'str'>\n"
     ]
    }
   ],
   "source": [
    "print(type(age))"
   ]
  },
  {
   "cell_type": "code",
   "execution_count": 10,
   "id": "80eeca3b",
   "metadata": {},
   "outputs": [
    {
     "name": "stdout",
     "output_type": "stream",
     "text": [
      "<class 'int'>\n"
     ]
    }
   ],
   "source": [
    "age = int(age)\n",
    "\n",
    "print(type(age))"
   ]
  }
 ],
 "metadata": {
  "kernelspec": {
   "display_name": "Python 3",
   "language": "python",
   "name": "python3"
  },
  "language_info": {
   "codemirror_mode": {
    "name": "ipython",
    "version": 3
   },
   "file_extension": ".py",
   "mimetype": "text/x-python",
   "name": "python",
   "nbconvert_exporter": "python",
   "pygments_lexer": "ipython3",
   "version": "3.13.4"
  }
 },
 "nbformat": 4,
 "nbformat_minor": 5
}
