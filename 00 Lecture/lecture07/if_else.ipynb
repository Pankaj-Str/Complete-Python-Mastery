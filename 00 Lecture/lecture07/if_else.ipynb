{
 "cells": [
  {
   "cell_type": "code",
   "execution_count": 1,
   "id": "3a814611",
   "metadata": {},
   "outputs": [
    {
     "name": "stdout",
     "output_type": "stream",
     "text": [
      "50 is the smallest number\n"
     ]
    }
   ],
   "source": [
    "# find the smallest \n",
    "\n",
    "number1 = 100\n",
    "number2 = 50\n",
    "\n",
    "if(number1 < number2):\n",
    "    print(number1, \"is the smallest number\")\n",
    "else:\n",
    "    print(number2, \"is the smallest number\")"
   ]
  },
  {
   "cell_type": "code",
   "execution_count": null,
   "id": "bc8b08f6",
   "metadata": {},
   "outputs": [],
   "source": [
    "# find the samllest between 3"
   ]
  }
 ],
 "metadata": {
  "kernelspec": {
   "display_name": "Python 3",
   "language": "python",
   "name": "python3"
  },
  "language_info": {
   "codemirror_mode": {
    "name": "ipython",
    "version": 3
   },
   "file_extension": ".py",
   "mimetype": "text/x-python",
   "name": "python",
   "nbconvert_exporter": "python",
   "pygments_lexer": "ipython3",
   "version": "3.13.4"
  }
 },
 "nbformat": 4,
 "nbformat_minor": 5
}
