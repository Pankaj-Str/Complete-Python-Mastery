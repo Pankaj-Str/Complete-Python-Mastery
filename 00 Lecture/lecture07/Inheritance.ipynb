{
 "cells": [
  {
   "cell_type": "code",
   "execution_count": null,
   "id": "457fafa0",
   "metadata": {},
   "outputs": [],
   "source": [
    "# inheritance in python\n",
    "\n",
    "# type of inheritance\n",
    "# single inheritance\n",
    "# multiple inheritance\n",
    "# multilevel inheritance\n",
    "# hierarchical inheritance\n",
    "# hybrid inheritance\n",
    "\n"
   ]
  },
  {
   "cell_type": "code",
   "execution_count": 3,
   "id": "81d6b67b",
   "metadata": {},
   "outputs": [],
   "source": [
    "# single inheritance\n",
    "class Customer:\n",
    "    def CustomerDetails(self):\n",
    "        print(\"Customer Details\")\n",
    "        print(\"Name: John Doe\")\n",
    "        print(\"Age: 30\")\n",
    "        print(\"Address: 123 Main St\")\n",
    "        \n",
    "        \n",
    "class Product(Customer):\n",
    "    def ProductDetails(self):\n",
    "        print(\"Product Details\")\n",
    "        print(\"Product Name: Laptop\")\n",
    "        print(\"Price: $1000\")\n",
    "        print(\"Quantity: 5\")         "
   ]
  },
  {
   "cell_type": "code",
   "execution_count": 4,
   "id": "59551051",
   "metadata": {},
   "outputs": [
    {
     "name": "stdout",
     "output_type": "stream",
     "text": [
      "Customer Details\n",
      "Name: John Doe\n",
      "Age: 30\n",
      "Address: 123 Main St\n",
      "Product Details\n",
      "Product Name: Laptop\n",
      "Price: $1000\n",
      "Quantity: 5\n"
     ]
    }
   ],
   "source": [
    "# create an instance of Product\n",
    "product = Product()\n",
    "# call methods from both Customer and Product classes\n",
    "product.CustomerDetails()\n",
    "product.ProductDetails()"
   ]
  },
  {
   "cell_type": "code",
   "execution_count": 11,
   "id": "d4f94634",
   "metadata": {},
   "outputs": [],
   "source": [
    "# multiple inheritance\n",
    "class Course:\n",
    "    def CourseDetails(self):\n",
    "        print(\"Course Details\")\n",
    "        print(\"Course Name: Python Programming\")\n",
    "        print(\"Duration: 3 months\")\n",
    "        print(\"Instructor: Jane Smith\")\n",
    "class Student:\n",
    "    def StudentDetails(self):\n",
    "        print(\"Student Details\")\n",
    "        print(\"Name: Alice Johnson\")\n",
    "        print(\"Age: 25\")\n",
    "        print(\"Major: Computer Science\")\n",
    "class Enrollment(Course, Student):\n",
    "    def EnrollmentDetails(self):\n",
    "        print(\"Enrollment Details\")\n",
    "        print(\"Enrollment ID: 12345\")\n",
    "        print(\"Status: Active\")"
   ]
  },
  {
   "cell_type": "code",
   "execution_count": 12,
   "id": "7c68348a",
   "metadata": {},
   "outputs": [
    {
     "name": "stdout",
     "output_type": "stream",
     "text": [
      "Course Details\n",
      "Course Name: Python Programming\n",
      "Duration: 3 months\n",
      "Instructor: Jane Smith\n",
      "Student Details\n",
      "Name: Alice Johnson\n",
      "Age: 25\n",
      "Major: Computer Science\n",
      "Enrollment Details\n",
      "Enrollment ID: 12345\n",
      "Status: Active\n"
     ]
    }
   ],
   "source": [
    "# create an instance of Enrollment\n",
    "enrollment = Enrollment()\n",
    "# call methods from both Course and Student classes\n",
    "enrollment.CourseDetails()\n",
    "enrollment.StudentDetails()\n",
    "enrollment.EnrollmentDetails()"
   ]
  },
  {
   "cell_type": "code",
   "execution_count": 7,
   "id": "a5b826c0",
   "metadata": {},
   "outputs": [],
   "source": [
    "# multilavel inheritance\n",
    "class Credicard:\n",
    "    def CreditCardDetails(self):\n",
    "        print(\"Credit Card Details\")\n",
    "        print(\"Card Number: 1234-5678-9012-3456\")\n",
    "        print(\"Expiry Date: 12/25\")\n",
    "class client(Credicard):\n",
    "    def ClientDetails(self):\n",
    "        print(\"Client Details\")\n",
    "        print(\"Name: Jane Smith\")\n",
    "        print(\"Age: 28\")\n",
    "class bank(client):\n",
    "    def BankDetails(self):\n",
    "        print(\"Bank Details\")\n",
    "        print(\"Bank Name: ABC Bank\")\n",
    "        print(\"Account Number: 9876543210\")"
   ]
  },
  {
   "cell_type": "code",
   "execution_count": 8,
   "id": "79232e04",
   "metadata": {},
   "outputs": [
    {
     "name": "stdout",
     "output_type": "stream",
     "text": [
      "Credit Card Details\n",
      "Card Number: 1234-5678-9012-3456\n",
      "Expiry Date: 12/25\n",
      "Client Details\n",
      "Name: Jane Smith\n",
      "Age: 28\n",
      "Bank Details\n",
      "Bank Name: ABC Bank\n",
      "Account Number: 9876543210\n"
     ]
    }
   ],
   "source": [
    "bank_instance = bank()\n",
    "bank_instance.CreditCardDetails()\n",
    "bank_instance.ClientDetails()\n",
    "bank_instance.BankDetails()"
   ]
  },
  {
   "cell_type": "code",
   "execution_count": 9,
   "id": "8fbce7b5",
   "metadata": {},
   "outputs": [
    {
     "name": "stdout",
     "output_type": "stream",
     "text": [
      "Vehicle Details\n",
      "Type: Car\n",
      "Model: Toyota\n",
      "Car Details\n",
      "Color: Red\n",
      "Year: 2020\n",
      "Vehicle Details\n",
      "Type: Car\n",
      "Model: Toyota\n",
      "Bike Details\n",
      "Color: Blue\n",
      "Year: 2019\n"
     ]
    }
   ],
   "source": [
    "# hierarchical inheritance\n",
    "class Vehicle:\n",
    "    def VehicleDetails(self):\n",
    "        print(\"Vehicle Details\")\n",
    "        print(\"Type: Car\")\n",
    "        print(\"Model: Toyota\")\n",
    "class Car(Vehicle):\n",
    "    def CarDetails(self):\n",
    "        print(\"Car Details\")\n",
    "        print(\"Color: Red\")\n",
    "        print(\"Year: 2020\")\n",
    "class Bike(Vehicle):\n",
    "    def BikeDetails(self):\n",
    "        print(\"Bike Details\")\n",
    "        print(\"Color: Blue\")\n",
    "        print(\"Year: 2019\")\n",
    "car_instance = Car()\n",
    "car_instance.VehicleDetails()\n",
    "car_instance.CarDetails()\n",
    "bike_instance = Bike()\n",
    "bike_instance.VehicleDetails()\n",
    "bike_instance.BikeDetails()"
   ]
  },
  {
   "cell_type": "code",
   "execution_count": 13,
   "id": "b11224f9",
   "metadata": {},
   "outputs": [],
   "source": [
    "# hybrid inheritance\n",
    "class Books:\n",
    "    def BookDetails(self):\n",
    "        print(\"Book Details\")\n",
    "        print(\"Title: Python Programming\")\n",
    "        print(\"Author: John Smith\")\n",
    "class Magazine(Books):\n",
    "    def MagazineDetails(self):\n",
    "        print(\"Magazine Details\")\n",
    "        print(\"Title: Tech Monthly\")\n",
    "        print(\"Issue: January 2023\")\n",
    "class Newspaper(Books):\n",
    "    def NewspaperDetails(self):\n",
    "        print(\"Newspaper Details\")\n",
    "        print(\"Title: Daily News\")\n",
    "        print(\"Date: 01/01/2023\")\n",
    "class Library(Magazine, Newspaper):\n",
    "    def LibraryDetails(self):\n",
    "        print(\"Library Details\")\n",
    "        print(\"Location: City Center\")\n",
    "        print(\"Opening Hours: 9 AM - 5 PM\")"
   ]
  },
  {
   "cell_type": "code",
   "execution_count": 14,
   "id": "f90ceb21",
   "metadata": {},
   "outputs": [
    {
     "name": "stdout",
     "output_type": "stream",
     "text": [
      "Book Details\n",
      "Title: Python Programming\n",
      "Author: John Smith\n",
      "Magazine Details\n",
      "Title: Tech Monthly\n",
      "Issue: January 2023\n",
      "Newspaper Details\n",
      "Title: Daily News\n",
      "Date: 01/01/2023\n"
     ]
    }
   ],
   "source": [
    "Library_instance = Library()\n",
    "Library_instance.BookDetails()\n",
    "Library_instance.MagazineDetails()\n",
    "Library_instance.NewspaperDetails()"
   ]
  }
 ],
 "metadata": {
  "kernelspec": {
   "display_name": "Python 3",
   "language": "python",
   "name": "python3"
  },
  "language_info": {
   "codemirror_mode": {
    "name": "ipython",
    "version": 3
   },
   "file_extension": ".py",
   "mimetype": "text/x-python",
   "name": "python",
   "nbconvert_exporter": "python",
   "pygments_lexer": "ipython3",
   "version": "3.13.5"
  }
 },
 "nbformat": 4,
 "nbformat_minor": 5
}
