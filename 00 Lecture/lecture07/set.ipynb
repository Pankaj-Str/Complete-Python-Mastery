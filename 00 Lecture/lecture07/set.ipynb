{
 "cells": [
  {
   "cell_type": "code",
   "execution_count": null,
   "id": "34ee60d7",
   "metadata": {},
   "outputs": [],
   "source": [
    "# set in python \n",
    "# what is set in python\n",
    "# set is a collection of unordered, unindexed, and unique elements.\n",
    "# set is mutable, but the elements inside the set must be immutable.\n",
    "# set is used to store a collection of unique elements."
   ]
  },
  {
   "cell_type": "code",
   "execution_count": 1,
   "id": "0bbe66e8",
   "metadata": {},
   "outputs": [
    {
     "name": "stdout",
     "output_type": "stream",
     "text": [
      "{1, 2, 3, 4, 5, 53, 21}\n"
     ]
    }
   ],
   "source": [
    "# create a set\n",
    "my_set = {1, 2, 3, 4, 5,5,5,53,2,2,2,21, 1, 1, 1, 1, 1}\n",
    "# print the set\n",
    "print(my_set)"
   ]
  },
  {
   "cell_type": "code",
   "execution_count": 2,
   "id": "22f9b7d4",
   "metadata": {},
   "outputs": [
    {
     "name": "stdout",
     "output_type": "stream",
     "text": [
      "set()\n"
     ]
    }
   ],
   "source": [
    "# empty set\n",
    "empty_set = set()\n",
    "# print the empty set\n",
    "print(empty_set)"
   ]
  },
  {
   "cell_type": "code",
   "execution_count": 3,
   "id": "8e90cba0",
   "metadata": {},
   "outputs": [
    {
     "name": "stdout",
     "output_type": "stream",
     "text": [
      "{1, 2, 3, 4, 5, 53, 21, 6}\n"
     ]
    }
   ],
   "source": [
    "# add elements to the set\n",
    "my_set.add(6)\n",
    "# print the set after adding an element\n",
    "print(my_set)"
   ]
  },
  {
   "cell_type": "code",
   "execution_count": 4,
   "id": "7eee89da",
   "metadata": {},
   "outputs": [
    {
     "name": "stdout",
     "output_type": "stream",
     "text": [
      "{1, 2, 3, 4, 5, 6, 7, 8, 9, 21, 53}\n"
     ]
    }
   ],
   "source": [
    "# update the set with multiple elements\n",
    "my_set.update([7, 8, 9])\n",
    "# print the set after updating with multiple elements\n",
    "print(my_set)"
   ]
  },
  {
   "cell_type": "code",
   "execution_count": 7,
   "id": "5e0e4059",
   "metadata": {},
   "outputs": [
    {
     "name": "stdout",
     "output_type": "stream",
     "text": [
      "{2, 3, 4, 5, 6, 7, 8, 9, 21, 53}\n"
     ]
    }
   ],
   "source": [
    "# discard an element from the set\n",
    "my_set.discard(10)\n",
    "print(my_set)"
   ]
  },
  {
   "cell_type": "code",
   "execution_count": 6,
   "id": "13b684dd",
   "metadata": {},
   "outputs": [
    {
     "ename": "KeyError",
     "evalue": "10",
     "output_type": "error",
     "traceback": [
      "\u001b[31m---------------------------------------------------------------------------\u001b[39m",
      "\u001b[31mKeyError\u001b[39m                                  Traceback (most recent call last)",
      "\u001b[36mCell\u001b[39m\u001b[36m \u001b[39m\u001b[32mIn[6]\u001b[39m\u001b[32m, line 2\u001b[39m\n\u001b[32m      1\u001b[39m \u001b[38;5;66;03m# remove an element from the set\u001b[39;00m\n\u001b[32m----> \u001b[39m\u001b[32m2\u001b[39m \u001b[43mmy_set\u001b[49m\u001b[43m.\u001b[49m\u001b[43mremove\u001b[49m\u001b[43m(\u001b[49m\u001b[32;43m10\u001b[39;49m\u001b[43m)\u001b[49m  \u001b[38;5;66;03m# This will raise a KeyError if the element is\u001b[39;00m\n\u001b[32m      3\u001b[39m \u001b[38;5;66;03m# not found\u001b[39;00m\n\u001b[32m      4\u001b[39m \u001b[38;5;28mprint\u001b[39m(my_set)\n",
      "\u001b[31mKeyError\u001b[39m: 10"
     ]
    }
   ],
   "source": [
    "# remove an element from the set\n",
    "my_set.remove(10)  # This will raise a KeyError if the element is\n",
    "# not found\n",
    "print(my_set)"
   ]
  },
  {
   "cell_type": "code",
   "execution_count": 10,
   "id": "f5aa047a",
   "metadata": {},
   "outputs": [
    {
     "name": "stdout",
     "output_type": "stream",
     "text": [
      "Popped element: 3\n"
     ]
    }
   ],
   "source": [
    "# pop an element from the set\n",
    "popped_element = my_set.pop()  # Removes and returns an arbitrary element\n",
    "print(f\"Popped element: {popped_element}\")"
   ]
  },
  {
   "cell_type": "code",
   "execution_count": 11,
   "id": "6b0337d8",
   "metadata": {},
   "outputs": [
    {
     "name": "stdout",
     "output_type": "stream",
     "text": [
      "{4, 5, 6, 7, 8, 9, 21, 53}\n"
     ]
    }
   ],
   "source": [
    "print(my_set)"
   ]
  },
  {
   "cell_type": "code",
   "execution_count": 12,
   "id": "22774332",
   "metadata": {},
   "outputs": [],
   "source": [
    "# clear the set\n",
    "my_set.clear()"
   ]
  },
  {
   "cell_type": "code",
   "execution_count": 13,
   "id": "40a109b5",
   "metadata": {},
   "outputs": [
    {
     "name": "stdout",
     "output_type": "stream",
     "text": [
      "set()\n"
     ]
    }
   ],
   "source": [
    "print(my_set)"
   ]
  }
 ],
 "metadata": {
  "kernelspec": {
   "display_name": "Python 3",
   "language": "python",
   "name": "python3"
  },
  "language_info": {
   "codemirror_mode": {
    "name": "ipython",
    "version": 3
   },
   "file_extension": ".py",
   "mimetype": "text/x-python",
   "name": "python",
   "nbconvert_exporter": "python",
   "pygments_lexer": "ipython3",
   "version": "3.13.5"
  }
 },
 "nbformat": 4,
 "nbformat_minor": 5
}
