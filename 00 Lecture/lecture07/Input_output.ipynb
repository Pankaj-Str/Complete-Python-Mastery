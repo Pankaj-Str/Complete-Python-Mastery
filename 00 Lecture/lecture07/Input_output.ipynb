{
 "cells": [
  {
   "cell_type": "code",
   "execution_count": null,
   "id": "415166ab",
   "metadata": {},
   "outputs": [],
   "source": [
    "# file handling \n",
    "# file reading\n",
    "# file writing\n",
    "# file appending\n",
    "# file renaming"
   ]
  },
  {
   "cell_type": "code",
   "execution_count": 1,
   "id": "906a4c6b",
   "metadata": {},
   "outputs": [],
   "source": [
    "# example file writing\n",
    "\n",
    "with open('cwpc.txt', 'w') as file:\n",
    "    file.write('Hello, World!\\n')\n",
    "    file.write('This is a test file.\\n')"
   ]
  },
  {
   "cell_type": "code",
   "execution_count": 4,
   "id": "15ed4030",
   "metadata": {},
   "outputs": [
    {
     "name": "stdout",
     "output_type": "stream",
     "text": [
      "Hello, World!\n",
      "This is a test file.\n",
      "Appending a new line.\n",
      "\n"
     ]
    }
   ],
   "source": [
    "# example reading\n",
    "with open('cwpc.txt', 'r') as file:\n",
    "    content = file.read()\n",
    "    print(content)"
   ]
  },
  {
   "cell_type": "code",
   "execution_count": 3,
   "id": "07ba49d6",
   "metadata": {},
   "outputs": [],
   "source": [
    "# example appending\n",
    "with open('cwpc.txt', 'a') as file:\n",
    "    file.write('Appending a new line.\\n')"
   ]
  },
  {
   "cell_type": "code",
   "execution_count": 5,
   "id": "f430fa3d",
   "metadata": {},
   "outputs": [],
   "source": [
    "# example renaming\n",
    "import os\n",
    "os.rename('cwpc.txt', 'cwpc_renamed.txt')"
   ]
  }
 ],
 "metadata": {
  "kernelspec": {
   "display_name": "Python 3",
   "language": "python",
   "name": "python3"
  },
  "language_info": {
   "codemirror_mode": {
    "name": "ipython",
    "version": 3
   },
   "file_extension": ".py",
   "mimetype": "text/x-python",
   "name": "python",
   "nbconvert_exporter": "python",
   "pygments_lexer": "ipython3",
   "version": "3.13.5"
  }
 },
 "nbformat": 4,
 "nbformat_minor": 5
}
