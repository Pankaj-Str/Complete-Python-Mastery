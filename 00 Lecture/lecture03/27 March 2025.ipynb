{
 "cells": [
  {
   "cell_type": "code",
   "execution_count": null,
   "metadata": {},
   "outputs": [],
   "source": [
    "# name = joy\n",
    "# key = value\n",
    "\n",
    "# dict = {key1: value1, key2: value2, key3: value3}\n",
    "\n",
    "# Dictionary is a collection of key-value pairs\n",
    "# Dictionary is mutable\n",
    "# Dictionary is unordered\n",
    "# Dictionary is indexed"
   ]
  },
  {
   "cell_type": "code",
   "execution_count": 2,
   "metadata": {},
   "outputs": [
    {
     "name": "stdout",
     "output_type": "stream",
     "text": [
      "{'name': 'joy', 'age': 25, 'city': 'Dhaka'}\n"
     ]
    }
   ],
   "source": [
    "# EXAMPLE : \n",
    "\n",
    "data = {'name': 'joy', 'age': 25, 'city': 'Dhaka'}\n",
    "print(data)"
   ]
  },
  {
   "cell_type": "code",
   "execution_count": 3,
   "metadata": {},
   "outputs": [
    {
     "name": "stdout",
     "output_type": "stream",
     "text": [
      "joy\n"
     ]
    }
   ],
   "source": [
    "# access the items of a dictionary\n",
    "print(data['name'])"
   ]
  },
  {
   "cell_type": "code",
   "execution_count": 4,
   "metadata": {},
   "outputs": [
    {
     "name": "stdout",
     "output_type": "stream",
     "text": [
      "dict_keys(['name', 'age', 'city'])\n"
     ]
    }
   ],
   "source": [
    "# get all keys of a dictionary\n",
    "print(data.keys())"
   ]
  },
  {
   "cell_type": "code",
   "execution_count": 5,
   "metadata": {},
   "outputs": [
    {
     "name": "stdout",
     "output_type": "stream",
     "text": [
      "dict_values(['joy', 25, 'Dhaka'])\n"
     ]
    }
   ],
   "source": [
    "# get all values of a dictionary\n",
    "print(data.values())"
   ]
  },
  {
   "cell_type": "code",
   "execution_count": 6,
   "metadata": {},
   "outputs": [
    {
     "name": "stdout",
     "output_type": "stream",
     "text": [
      "joy\n"
     ]
    }
   ],
   "source": [
    "# get data from keys \n",
    "print(data.get('name'))"
   ]
  },
  {
   "cell_type": "code",
   "execution_count": 7,
   "metadata": {},
   "outputs": [
    {
     "name": "stdout",
     "output_type": "stream",
     "text": [
      "dict_items([('name', 'joy'), ('age', 25), ('city', 'Dhaka')])\n"
     ]
    }
   ],
   "source": [
    "# get all data from using items() method\n",
    "print(data.items())"
   ]
  },
  {
   "cell_type": "code",
   "execution_count": 8,
   "metadata": {},
   "outputs": [
    {
     "name": "stdout",
     "output_type": "stream",
     "text": [
      "{'name': 'joy', 'age': 30, 'city': 'Dhaka'}\n"
     ]
    }
   ],
   "source": [
    "# update values of a dictionary\n",
    "data['age'] = 30\n",
    "print(data)"
   ]
  },
  {
   "cell_type": "code",
   "execution_count": 9,
   "metadata": {},
   "outputs": [
    {
     "name": "stdout",
     "output_type": "stream",
     "text": [
      "{'name': 'joy', 'age': 30, 'city': 'Dhaka', 'country': 'Bangladesh'}\n"
     ]
    }
   ],
   "source": [
    "# add new key-value pair in a dictionary\n",
    "\n",
    "data['country'] = 'Bangladesh'\n",
    "print(data)"
   ]
  },
  {
   "cell_type": "code",
   "execution_count": 10,
   "metadata": {},
   "outputs": [
    {
     "name": "stdout",
     "output_type": "stream",
     "text": [
      "{'name': 'joy', 'age': 30, 'country': 'Bangladesh'}\n"
     ]
    }
   ],
   "source": [
    "# delete a key-value pair from a dictionary\n",
    "del data['city']\n",
    "print(data)"
   ]
  },
  {
   "cell_type": "code",
   "execution_count": 12,
   "metadata": {},
   "outputs": [
    {
     "name": "stdout",
     "output_type": "stream",
     "text": [
      "name = joy\n",
      "age = 30\n",
      "country = Bangladesh\n"
     ]
    }
   ],
   "source": [
    "# iterate through a dictionary\n",
    "# fetch data from loop\n",
    "for i in data:\n",
    "    print(i,'=', data[i])"
   ]
  },
  {
   "cell_type": "code",
   "execution_count": 13,
   "metadata": {},
   "outputs": [
    {
     "name": "stdout",
     "output_type": "stream",
     "text": [
      "name = joy\n",
      "age = 30\n",
      "country = Bangladesh\n"
     ]
    }
   ],
   "source": [
    "# fetch data from items() method\n",
    "for key, value in data.items():\n",
    "    print(key, '=', value)"
   ]
  },
  {
   "cell_type": "code",
   "execution_count": 15,
   "metadata": {},
   "outputs": [
    {
     "name": "stdout",
     "output_type": "stream",
     "text": [
      "True\n",
      "False\n"
     ]
    }
   ],
   "source": [
    "# check if a key exists in a dictionary\n",
    "\n",
    "print('name' in data)\n",
    "print('city' in data)"
   ]
  },
  {
   "cell_type": "code",
   "execution_count": 16,
   "metadata": {},
   "outputs": [
    {
     "name": "stdout",
     "output_type": "stream",
     "text": [
      "my name is :  joy\n",
      "my age is :  25\n",
      "my height is :  5.6\n"
     ]
    }
   ],
   "source": [
    "# format using in String\n",
    "\n",
    "name = 'joy'\n",
    "age = 25\n",
    "height = 5.6\n",
    "\n",
    "print('my name is : ',name)\n",
    "print('my age is : ',age)\n",
    "print('my height is : ',height)"
   ]
  },
  {
   "cell_type": "code",
   "execution_count": 17,
   "metadata": {},
   "outputs": [
    {
     "name": "stdout",
     "output_type": "stream",
     "text": [
      "my name is  joy age is  25 height is  5.6\n"
     ]
    }
   ],
   "source": [
    "print('my name is ',name,'age is ',age,'height is ',height)"
   ]
  },
  {
   "cell_type": "code",
   "execution_count": 20,
   "metadata": {},
   "outputs": [
    {
     "name": "stdout",
     "output_type": "stream",
     "text": [
      "My name joy , height  5.6 and age 25\n"
     ]
    }
   ],
   "source": [
    "print('My name {0} , height  {2} and age {1}'.format(name, age, height))"
   ]
  },
  {
   "cell_type": "code",
   "execution_count": 21,
   "metadata": {},
   "outputs": [
    {
     "name": "stdout",
     "output_type": "stream",
     "text": [
      "My name is joy, age is 25 and height is 5.6\n"
     ]
    }
   ],
   "source": [
    "print(f'My name is {name}, age is {age} and height is {height}')"
   ]
  },
  {
   "cell_type": "code",
   "execution_count": 22,
   "metadata": {},
   "outputs": [
    {
     "name": "stdout",
     "output_type": "stream",
     "text": [
      "name = joy\n",
      "age = 30\n",
      "country = Bangladesh\n"
     ]
    }
   ],
   "source": [
    "for key, value in data.items():\n",
    "    print(f'{key} = {value}')"
   ]
  },
  {
   "cell_type": "code",
   "execution_count": 23,
   "metadata": {},
   "outputs": [
    {
     "name": "stdout",
     "output_type": "stream",
     "text": [
      "{'name': 'name', 'age': '23', 'city': '44'}\n"
     ]
    }
   ],
   "source": [
    "# how to take user input and store in a dictionary\n",
    "\n",
    "# step 1 : create a dictionary\n",
    "# step 2 : take user input\n",
    "# step 3 : store the input in the dictionary\n",
    "# step 4 : print the dictionary\n",
    "data = {}\n",
    "\n",
    "name = input('Enter your name : ')\n",
    "age = input('Enter your age : ')\n",
    "city = input('Enter your city : ')\n",
    "\n",
    "data['name'] = name\n",
    "data['age'] = age\n",
    "data['city'] = city\n",
    "\n",
    "print(data)\n"
   ]
  }
 ],
 "metadata": {
  "kernelspec": {
   "display_name": "Python 3",
   "language": "python",
   "name": "python3"
  },
  "language_info": {
   "codemirror_mode": {
    "name": "ipython",
    "version": 3
   },
   "file_extension": ".py",
   "mimetype": "text/x-python",
   "name": "python",
   "nbconvert_exporter": "python",
   "pygments_lexer": "ipython3",
   "version": "3.13.2"
  }
 },
 "nbformat": 4,
 "nbformat_minor": 2
}
