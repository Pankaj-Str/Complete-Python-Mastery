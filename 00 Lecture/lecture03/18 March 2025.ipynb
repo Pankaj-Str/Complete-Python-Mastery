{
 "cells": [
  {
   "cell_type": "code",
   "execution_count": 1,
   "id": "49a25c2e-e41b-41a9-a9a0-dffbb4eed155",
   "metadata": {},
   "outputs": [
    {
     "name": "stdout",
     "output_type": "stream",
     "text": [
      "welcome to codeswithpankaj.com\n"
     ]
    }
   ],
   "source": [
    "# print()\n",
    "print(\"welcome to codeswithpankaj.com\")"
   ]
  },
  {
   "cell_type": "code",
   "execution_count": 3,
   "id": "d1b75106-6fe3-419a-ab43-8ec991a3330c",
   "metadata": {},
   "outputs": [
    {
     "name": "stdout",
     "output_type": "stream",
     "text": [
      "welcome to blog cwpc.in\n"
     ]
    }
   ],
   "source": [
    "print('welcome to blog cwpc.in')"
   ]
  },
  {
   "cell_type": "code",
   "execution_count": 4,
   "id": "2ecbca50-27a3-4de1-8812-a170a63f457b",
   "metadata": {},
   "outputs": [
    {
     "name": "stdout",
     "output_type": "stream",
     "text": [
      "'cwpc.in'\n",
      "\"codeswithpankaj.com\"\n"
     ]
    }
   ],
   "source": [
    "print(\"'cwpc.in'\")\n",
    "print('\"codeswithpankaj.com\"')"
   ]
  },
  {
   "cell_type": "code",
   "execution_count": 6,
   "id": "caee2eab-f82e-4470-965c-35e2c1dbf7c5",
   "metadata": {},
   "outputs": [
    {
     "name": "stdout",
     "output_type": "stream",
     "text": [
      "this is number  10\n"
     ]
    }
   ],
   "source": [
    "# variable\n",
    "number = 10\n",
    "print('this is number ',number)"
   ]
  },
  {
   "cell_type": "code",
   "execution_count": 8,
   "id": "76143d43-0fbc-4cab-993b-0274e25e01ab",
   "metadata": {},
   "outputs": [
    {
     "name": "stdout",
     "output_type": "stream",
     "text": [
      "My name is   Nishant\n",
      "My age is   23\n",
      "height is  4.5\n"
     ]
    }
   ],
   "source": [
    "name = \"Nishant\"\n",
    "age = 23\n",
    "height = 4.5\n",
    "\n",
    "print(\"My name is  \",name)\n",
    "print(\"My age is  \",age)\n",
    "print(\"height is \",height)"
   ]
  },
  {
   "cell_type": "code",
   "execution_count": 9,
   "id": "1b587636-2ca8-4c54-85d8-f6ad53aceb7b",
   "metadata": {},
   "outputs": [
    {
     "name": "stdin",
     "output_type": "stream",
     "text": [
      "Enter Your Name  Joy\n",
      "Enter Your Age  12\n",
      "Enter Your height  3.4\n"
     ]
    },
    {
     "name": "stdout",
     "output_type": "stream",
     "text": [
      "My name is   Joy\n",
      "My age is   12\n",
      "height is  3.4\n"
     ]
    }
   ],
   "source": [
    "# input\n",
    "name = input('Enter Your Name ')\n",
    "age = input('Enter Your Age ')\n",
    "height = input('Enter Your height ')\n",
    "\n",
    "print(\"My name is  \",name)\n",
    "print(\"My age is  \",age)\n",
    "print(\"height is \",height)\n"
   ]
  },
  {
   "cell_type": "code",
   "execution_count": 11,
   "id": "bb16676a-527b-4c3c-9143-3ed080c45a3b",
   "metadata": {},
   "outputs": [
    {
     "name": "stdin",
     "output_type": "stream",
     "text": [
      "Enter Your Name  joy\n",
      "Enter Your Age  23\n",
      "Enter Your height  2.4\n"
     ]
    },
    {
     "name": "stdout",
     "output_type": "stream",
     "text": [
      "My name is   joy\n",
      "My age is   23\n",
      "height is  2.4\n"
     ]
    }
   ],
   "source": [
    "# int()\n",
    "# float()\n",
    "# str()\n",
    "\n",
    "name = str(input('Enter Your Name '))\n",
    "age = int(input('Enter Your Age '))\n",
    "height = float(input('Enter Your height '))\n",
    "\n",
    "print(\"My name is  \",name)\n",
    "print(\"My age is  \",age)\n",
    "print(\"height is \",height)\n"
   ]
  },
  {
   "cell_type": "code",
   "execution_count": null,
   "id": "a7e4d53a-9d5c-43b0-b054-6899cc803cb1",
   "metadata": {},
   "outputs": [],
   "source": []
  }
 ],
 "metadata": {
  "kernelspec": {
   "display_name": "Python 3 (ipykernel)",
   "language": "python",
   "name": "python3"
  },
  "language_info": {
   "codemirror_mode": {
    "name": "ipython",
    "version": 3
   },
   "file_extension": ".py",
   "mimetype": "text/x-python",
   "name": "python",
   "nbconvert_exporter": "python",
   "pygments_lexer": "ipython3",
   "version": "3.12.7"
  }
 },
 "nbformat": 4,
 "nbformat_minor": 5
}
