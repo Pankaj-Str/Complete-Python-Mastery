{
 "cells": [
  {
   "cell_type": "code",
   "execution_count": 1,
   "metadata": {},
   "outputs": [
    {
     "name": "stdout",
     "output_type": "stream",
     "text": [
      "Requirement already satisfied: pandas in /home/codespace/.local/lib/python3.12/site-packages (2.2.3)\n",
      "Requirement already satisfied: numpy>=1.26.0 in /home/codespace/.local/lib/python3.12/site-packages (from pandas) (2.2.0)\n",
      "Requirement already satisfied: python-dateutil>=2.8.2 in /home/codespace/.local/lib/python3.12/site-packages (from pandas) (2.9.0.post0)\n",
      "Requirement already satisfied: pytz>=2020.1 in /home/codespace/.local/lib/python3.12/site-packages (from pandas) (2024.2)\n",
      "Requirement already satisfied: tzdata>=2022.7 in /home/codespace/.local/lib/python3.12/site-packages (from pandas) (2024.2)\n",
      "Requirement already satisfied: six>=1.5 in /home/codespace/.local/lib/python3.12/site-packages (from python-dateutil>=2.8.2->pandas) (1.17.0)\n",
      "\n",
      "\u001b[1m[\u001b[0m\u001b[34;49mnotice\u001b[0m\u001b[1;39;49m]\u001b[0m\u001b[39;49m A new release of pip is available: \u001b[0m\u001b[31;49m24.3.1\u001b[0m\u001b[39;49m -> \u001b[0m\u001b[32;49m25.0.1\u001b[0m\n",
      "\u001b[1m[\u001b[0m\u001b[34;49mnotice\u001b[0m\u001b[1;39;49m]\u001b[0m\u001b[39;49m To update, run: \u001b[0m\u001b[32;49mpython -m pip install --upgrade pip\u001b[0m\n",
      "Note: you may need to restart the kernel to use updated packages.\n"
     ]
    }
   ],
   "source": [
    "# pandas in python\n",
    "# https://pandas.pydata.org/\n",
    "\n",
    "# install pandas \n",
    "%pip install pandas"
   ]
  },
  {
   "cell_type": "code",
   "execution_count": 2,
   "metadata": {},
   "outputs": [
    {
     "name": "stdout",
     "output_type": "stream",
     "text": [
      "0          JAVA\n",
      "1        Python\n",
      "2           C++\n",
      "3    JavaScript\n",
      "dtype: object\n"
     ]
    }
   ],
   "source": [
    "# import pandas as pd\n",
    "\n",
    "import pandas as pd\n",
    "\n",
    "# series\n",
    "\n",
    "# what is a series\n",
    "# a series is a one-dimensional labeled array capable of holding any data type\n",
    "# (integers, strings, floating point numbers, python objects, etc.)\n",
    "# the axis labels are collectively called the index\n",
    "\n",
    "# create a series\n",
    "\n",
    "data = [\"JAVA\", \"Python\", \"C++\", \"JavaScript\"]\n",
    "\n",
    "# create a series from a list\n",
    "\n",
    "\n",
    "s = pd.Series(data)\n",
    "print(s)\n"
   ]
  },
  {
   "cell_type": "code",
   "execution_count": 3,
   "metadata": {},
   "outputs": [
    {
     "name": "stdout",
     "output_type": "stream",
     "text": [
      "name        John\n",
      "age           30\n",
      "city    New York\n",
      "dtype: object\n"
     ]
    }
   ],
   "source": [
    "# create a series from a dictionary\n",
    "\n",
    "data = {\n",
    "    \"name\": \"John\",\n",
    "    \"age\": 30,\n",
    "    \"city\": \"New York\"\n",
    "}\n",
    "\n",
    "s = pd.Series(data)\n",
    "print(s)"
   ]
  },
  {
   "cell_type": "code",
   "execution_count": 5,
   "metadata": {},
   "outputs": [
    {
     "name": "stdout",
     "output_type": "stream",
     "text": [
      "a          JAVA\n",
      "b        Python\n",
      "c           C++\n",
      "d    JavaScript\n",
      "dtype: object\n"
     ]
    }
   ],
   "source": [
    "# rename the index\n",
    "\n",
    "data = [\"JAVA\", \"Python\", \"C++\", \"JavaScript\"]\n",
    "\n",
    "s = pd.Series(data, index=[\"a\", \"b\", \"c\", \"d\"])\n",
    "print(s)"
   ]
  },
  {
   "cell_type": "code",
   "execution_count": 7,
   "metadata": {},
   "outputs": [
    {
     "name": "stdout",
     "output_type": "stream",
     "text": [
      "    name  age      city\n",
      "0   John   28  New York\n",
      "1   Anna   24     Paris\n",
      "2  Peter   35    Berlin\n"
     ]
    }
   ],
   "source": [
    "#  data frame\n",
    "\n",
    "# what is a data frame\n",
    "# a data frame is a two-dimensional labeled data structure with columns of potentially different types\n",
    "# it is similar to a spreadsheet or SQL table, or a dictionary of Series objects\n",
    "# the data frame has an index and columns\n",
    "\n",
    "\n",
    "# example \n",
    "\n",
    "data = {\n",
    "    \"name\": [\"John\", \"Anna\", \"Peter\"],\n",
    "    \"age\": [28, 24, 35],\n",
    "    \"city\": [\"New York\", \"Paris\", \"Berlin\"]\n",
    "}\n",
    "\n",
    "df = pd.DataFrame(data)\n",
    "\n",
    "print(df)"
   ]
  },
  {
   "cell_type": "code",
   "execution_count": 8,
   "metadata": {},
   "outputs": [
    {
     "name": "stdout",
     "output_type": "stream",
     "text": [
      "    name  age      city\n",
      "a   John   28  New York\n",
      "b   Anna   24     Paris\n",
      "c  Peter   35    Berlin\n"
     ]
    }
   ],
   "source": [
    "# add index\n",
    "data = {\n",
    "    \"name\": [\"John\", \"Anna\", \"Peter\"],\n",
    "    \"age\": [28, 24, 35],\n",
    "    \"city\": [\"New York\", \"Paris\", \"Berlin\"]\n",
    "}\n",
    "df = pd.DataFrame(data, index=[\"a\", \"b\", \"c\"])\n",
    "print(df)"
   ]
  },
  {
   "cell_type": "code",
   "execution_count": 9,
   "metadata": {},
   "outputs": [
    {
     "name": "stdout",
     "output_type": "stream",
     "text": [
      "      Education  JoiningYear       City  PaymentTier  Age  Gender EverBenched  \\\n",
      "0     Bachelors         2017  Bangalore            3   34    Male          No   \n",
      "1     Bachelors         2013       Pune            1   28  Female          No   \n",
      "2     Bachelors         2014  New Delhi            3   38  Female          No   \n",
      "3       Masters         2016  Bangalore            3   27    Male          No   \n",
      "4       Masters         2017       Pune            3   24    Male         Yes   \n",
      "...         ...          ...        ...          ...  ...     ...         ...   \n",
      "4648  Bachelors         2013  Bangalore            3   26  Female          No   \n",
      "4649    Masters         2013       Pune            2   37    Male          No   \n",
      "4650    Masters         2018  New Delhi            3   27    Male          No   \n",
      "4651  Bachelors         2012  Bangalore            3   30    Male         Yes   \n",
      "4652  Bachelors         2015  Bangalore            3   33    Male         Yes   \n",
      "\n",
      "      ExperienceInCurrentDomain  LeaveOrNot  \n",
      "0                             0           0  \n",
      "1                             3           1  \n",
      "2                             2           0  \n",
      "3                             5           1  \n",
      "4                             2           1  \n",
      "...                         ...         ...  \n",
      "4648                          4           0  \n",
      "4649                          2           1  \n",
      "4650                          5           1  \n",
      "4651                          2           0  \n",
      "4652                          4           0  \n",
      "\n",
      "[4653 rows x 9 columns]\n"
     ]
    }
   ],
   "source": [
    "# read csv file\n",
    "\n",
    "data = pd.read_csv(\"DataSet/Employee.csv\")\n",
    "print(data)"
   ]
  },
  {
   "cell_type": "code",
   "execution_count": 10,
   "metadata": {},
   "outputs": [
    {
     "name": "stdout",
     "output_type": "stream",
     "text": [
      "   Education  JoiningYear       City  PaymentTier  Age  Gender EverBenched  \\\n",
      "0  Bachelors         2017  Bangalore            3   34    Male          No   \n",
      "1  Bachelors         2013       Pune            1   28  Female          No   \n",
      "2  Bachelors         2014  New Delhi            3   38  Female          No   \n",
      "3    Masters         2016  Bangalore            3   27    Male          No   \n",
      "4    Masters         2017       Pune            3   24    Male         Yes   \n",
      "\n",
      "   ExperienceInCurrentDomain  LeaveOrNot  \n",
      "0                          0           0  \n",
      "1                          3           1  \n",
      "2                          2           0  \n",
      "3                          5           1  \n",
      "4                          2           1  \n"
     ]
    }
   ],
   "source": [
    "# print the first 5 rows\n",
    "\n",
    "print(data.head())"
   ]
  },
  {
   "cell_type": "code",
   "execution_count": 11,
   "metadata": {},
   "outputs": [
    {
     "name": "stdout",
     "output_type": "stream",
     "text": [
      "(4653, 9)\n"
     ]
    }
   ],
   "source": [
    "# find the shape of the data frame\n",
    "print(data.shape)"
   ]
  },
  {
   "cell_type": "code",
   "execution_count": 12,
   "metadata": {},
   "outputs": [
    {
     "name": "stdout",
     "output_type": "stream",
     "text": [
      "Index(['Education', 'JoiningYear', 'City', 'PaymentTier', 'Age', 'Gender',\n",
      "       'EverBenched', 'ExperienceInCurrentDomain', 'LeaveOrNot'],\n",
      "      dtype='object')\n"
     ]
    }
   ],
   "source": [
    "# get all columns name \n",
    "print(data.columns)"
   ]
  },
  {
   "cell_type": "code",
   "execution_count": 14,
   "metadata": {},
   "outputs": [
    {
     "name": "stdout",
     "output_type": "stream",
     "text": [
      "       JoiningYear  PaymentTier          Age  ExperienceInCurrentDomain  \\\n",
      "count  4653.000000  4653.000000  4653.000000                4653.000000   \n",
      "mean   2015.062970     2.698259    29.393295                   2.905652   \n",
      "std       1.863377     0.561435     4.826087                   1.558240   \n",
      "min    2012.000000     1.000000    22.000000                   0.000000   \n",
      "25%    2013.000000     3.000000    26.000000                   2.000000   \n",
      "50%    2015.000000     3.000000    28.000000                   3.000000   \n",
      "75%    2017.000000     3.000000    32.000000                   4.000000   \n",
      "max    2018.000000     3.000000    41.000000                   7.000000   \n",
      "\n",
      "        LeaveOrNot  \n",
      "count  4653.000000  \n",
      "mean      0.343864  \n",
      "std       0.475047  \n",
      "min       0.000000  \n",
      "25%       0.000000  \n",
      "50%       0.000000  \n",
      "75%       1.000000  \n",
      "max       1.000000  \n"
     ]
    }
   ],
   "source": [
    "print(data.describe())"
   ]
  },
  {
   "cell_type": "code",
   "execution_count": 15,
   "metadata": {},
   "outputs": [
    {
     "name": "stdout",
     "output_type": "stream",
     "text": [
      "Education                    object\n",
      "JoiningYear                   int64\n",
      "City                         object\n",
      "PaymentTier                   int64\n",
      "Age                           int64\n",
      "Gender                       object\n",
      "EverBenched                  object\n",
      "ExperienceInCurrentDomain     int64\n",
      "LeaveOrNot                    int64\n",
      "dtype: object\n"
     ]
    }
   ],
   "source": [
    "# get the data types of each column\n",
    "print(data.dtypes)"
   ]
  },
  {
   "cell_type": "code",
   "execution_count": 19,
   "metadata": {},
   "outputs": [
    {
     "name": "stdout",
     "output_type": "stream",
     "text": [
      "0       Bachelors\n",
      "1       Bachelors\n",
      "2       Bachelors\n",
      "3         Masters\n",
      "4         Masters\n",
      "          ...    \n",
      "4648    Bachelors\n",
      "4649      Masters\n",
      "4650      Masters\n",
      "4651    Bachelors\n",
      "4652    Bachelors\n",
      "Name: Education, Length: 4653, dtype: object 0         Male\n",
      "1       Female\n",
      "2       Female\n",
      "3         Male\n",
      "4         Male\n",
      "         ...  \n",
      "4648    Female\n",
      "4649      Male\n",
      "4650      Male\n",
      "4651      Male\n",
      "4652      Male\n",
      "Name: Gender, Length: 4653, dtype: object\n"
     ]
    }
   ],
   "source": [
    "# get specific column\n",
    "print(data[\"Education\"], data[\"Gender\"])\n",
    "\n"
   ]
  },
  {
   "cell_type": "code",
   "execution_count": 20,
   "metadata": {},
   "outputs": [
    {
     "name": "stdout",
     "output_type": "stream",
     "text": [
      "Education                    Bachelors\n",
      "JoiningYear                       2016\n",
      "City                         Bangalore\n",
      "PaymentTier                          3\n",
      "Age                                 22\n",
      "Gender                            Male\n",
      "EverBenched                         No\n",
      "ExperienceInCurrentDomain            0\n",
      "LeaveOrNot                           0\n",
      "Name: 5, dtype: object\n"
     ]
    }
   ],
   "source": [
    "# get specific row\n",
    "print(data.iloc[5])"
   ]
  },
  {
   "cell_type": "code",
   "execution_count": 21,
   "metadata": {},
   "outputs": [
    {
     "name": "stdout",
     "output_type": "stream",
     "text": [
      "Bangalore\n"
     ]
    }
   ],
   "source": [
    "# get specific row and column\n",
    "\n",
    "print(data.iloc[5, 2])"
   ]
  },
  {
   "cell_type": "code",
   "execution_count": null,
   "metadata": {},
   "outputs": [],
   "source": [
    "# find the employee with  age is more than 30\n",
    "\n",
    "new_data = data[data[\"Age\"] > 30]\n",
    "\n",
    "\n",
    "# write the new data to a csv file\n",
    "new_data.to_csv(\"DataSet/new_employee.csv\", index=False)"
   ]
  },
  {
   "cell_type": "code",
   "execution_count": 32,
   "metadata": {},
   "outputs": [
    {
     "name": "stdout",
     "output_type": "stream",
     "text": [
      "      Education                   JoiningYear       City  PaymentTier  Age  \\\n",
      "0     Bachelors 1970-01-01 00:00:00.000002017  Bangalore            3   34   \n",
      "1     Bachelors 1970-01-01 00:00:00.000002013       Pune            1   28   \n",
      "2     Bachelors 1970-01-01 00:00:00.000002014  New Delhi            3   38   \n",
      "3       Masters 1970-01-01 00:00:00.000002016  Bangalore            3   27   \n",
      "4       Masters 1970-01-01 00:00:00.000002017       Pune            3   24   \n",
      "...         ...                           ...        ...          ...  ...   \n",
      "4648  Bachelors 1970-01-01 00:00:00.000002013  Bangalore            3   26   \n",
      "4649    Masters 1970-01-01 00:00:00.000002013       Pune            2   37   \n",
      "4650    Masters 1970-01-01 00:00:00.000002018  New Delhi            3   27   \n",
      "4651  Bachelors 1970-01-01 00:00:00.000002012  Bangalore            3   30   \n",
      "4652  Bachelors 1970-01-01 00:00:00.000002015  Bangalore            3   33   \n",
      "\n",
      "      Gender EverBenched  ExperienceInCurrentDomain  LeaveOrNot  \n",
      "0       Male          No                          0           0  \n",
      "1     Female          No                          3           1  \n",
      "2     Female          No                          2           0  \n",
      "3       Male          No                          5           1  \n",
      "4       Male         Yes                          2           1  \n",
      "...      ...         ...                        ...         ...  \n",
      "4648  Female          No                          4           0  \n",
      "4649    Male          No                          2           1  \n",
      "4650    Male          No                          5           1  \n",
      "4651    Male         Yes                          2           0  \n",
      "4652    Male         Yes                          4           0  \n",
      "\n",
      "[4653 rows x 9 columns]\n"
     ]
    }
   ],
   "source": [
    "# convert  year into datetime\n",
    "\n",
    "data[\"JoiningYear\"] = pd.to_datetime(data[\"JoiningYear\"], format=\"%Y\")\n",
    "print(data)"
   ]
  },
  {
   "cell_type": "code",
   "execution_count": 34,
   "metadata": {},
   "outputs": [
    {
     "name": "stdout",
     "output_type": "stream",
     "text": [
      "Education                            object\n",
      "JoiningYear                  datetime64[ns]\n",
      "City                                 object\n",
      "PaymentTier                           int64\n",
      "Age                                   int64\n",
      "Gender                               object\n",
      "EverBenched                          object\n",
      "ExperienceInCurrentDomain             int64\n",
      "LeaveOrNot                            int64\n",
      "dtype: object\n"
     ]
    }
   ],
   "source": [
    "# check the data types of each column\n",
    "print(data.dtypes)"
   ]
  },
  {
   "cell_type": "code",
   "execution_count": null,
   "metadata": {},
   "outputs": [],
   "source": [
    "# "
   ]
  }
 ],
 "metadata": {
  "kernelspec": {
   "display_name": "Python 3",
   "language": "python",
   "name": "python3"
  },
  "language_info": {
   "codemirror_mode": {
    "name": "ipython",
    "version": 3
   },
   "file_extension": ".py",
   "mimetype": "text/x-python",
   "name": "python",
   "nbconvert_exporter": "python",
   "pygments_lexer": "ipython3",
   "version": "3.12.1"
  }
 },
 "nbformat": 4,
 "nbformat_minor": 2
}
