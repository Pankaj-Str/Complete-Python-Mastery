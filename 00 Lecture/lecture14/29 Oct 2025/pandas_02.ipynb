{
 "cells": [
  {
   "cell_type": "code",
   "execution_count": 1,
   "id": "c35cf394",
   "metadata": {},
   "outputs": [
    {
     "name": "stdout",
     "output_type": "stream",
     "text": [
      "Requirement already satisfied: pandas in /Library/Frameworks/Python.framework/Versions/3.13/lib/python3.13/site-packages (2.2.3)\n",
      "Requirement already satisfied: numpy>=1.26.0 in /Library/Frameworks/Python.framework/Versions/3.13/lib/python3.13/site-packages (from pandas) (2.2.3)\n",
      "Requirement already satisfied: python-dateutil>=2.8.2 in /Users/pankajchouhan/Library/Python/3.13/lib/python/site-packages (from pandas) (2.9.0.post0)\n",
      "Requirement already satisfied: pytz>=2020.1 in /Library/Frameworks/Python.framework/Versions/3.13/lib/python3.13/site-packages (from pandas) (2025.1)\n",
      "Requirement already satisfied: tzdata>=2022.7 in /Library/Frameworks/Python.framework/Versions/3.13/lib/python3.13/site-packages (from pandas) (2025.1)\n",
      "Requirement already satisfied: six>=1.5 in /Users/pankajchouhan/Library/Python/3.13/lib/python/site-packages (from python-dateutil>=2.8.2->pandas) (1.17.0)\n",
      "\n",
      "\u001b[1m[\u001b[0m\u001b[34;49mnotice\u001b[0m\u001b[1;39;49m]\u001b[0m\u001b[39;49m A new release of pip is available: \u001b[0m\u001b[31;49m25.2\u001b[0m\u001b[39;49m -> \u001b[0m\u001b[32;49m25.3\u001b[0m\n",
      "\u001b[1m[\u001b[0m\u001b[34;49mnotice\u001b[0m\u001b[1;39;49m]\u001b[0m\u001b[39;49m To update, run: \u001b[0m\u001b[32;49mpip3 install --upgrade pip\u001b[0m\n",
      "Note: you may need to restart the kernel to use updated packages.\n"
     ]
    }
   ],
   "source": [
    "%pip install pandas"
   ]
  },
  {
   "cell_type": "code",
   "execution_count": 5,
   "id": "08ea490b",
   "metadata": {},
   "outputs": [
    {
     "name": "stdout",
     "output_type": "stream",
     "text": [
      "      Name  Age    city\n",
      "0    Rahul   23   tokya\n",
      "1    Rohan   34   Paris\n",
      "2     Tiya   45  Mumbai\n",
      "3     Riya   67   Surat\n",
      "4    Diana   23    Bhuj\n",
      "5      Joy   24  Jaipur\n",
      "6  Nishant   12    Pune\n",
      "7    Heena   50    Pune\n",
      "8     Deep   22  Mumbai\n"
     ]
    }
   ],
   "source": [
    "import pandas as pd\n",
    "\n",
    "data = {\n",
    "    'Name':['Rahul','Rohan','Tiya','Riya','Diana','Joy','Nishant','Heena','Deep'],\n",
    "    'Age' :[23,34,45,67,23,24,12,50,22],\n",
    "    'city':['tokya','Paris','Mumbai','Surat','Bhuj','Jaipur','Pune','Pune','Mumbai']\n",
    "}\n",
    "\n",
    "df = pd.DataFrame(data)\n",
    "print(df)"
   ]
  },
  {
   "cell_type": "code",
   "execution_count": 9,
   "id": "a78a0c6a",
   "metadata": {},
   "outputs": [
    {
     "name": "stdout",
     "output_type": "stream",
     "text": [
      "      Name  Age    City\n",
      "0    Rahul   23   tokya\n",
      "1      joy   12  Jaipur\n",
      "2  Nishant   34  Mumbai\n"
     ]
    }
   ],
   "source": [
    "data = [\n",
    "    ['Rahul',23 ,'tokya'],\n",
    "    ['joy',12,'Jaipur'],\n",
    "    ['Nishant',34,'Mumbai']\n",
    "]\n",
    "\n",
    "col = ['Name','Age','City']\n",
    "\n",
    "df = pd.DataFrame(data,columns=col)\n",
    "print(df)"
   ]
  },
  {
   "cell_type": "code",
   "execution_count": 18,
   "id": "d12ddbfd",
   "metadata": {},
   "outputs": [
    {
     "name": "stdout",
     "output_type": "stream",
     "text": [
      "   Transaction_ID  Customer_ID Transaction_Date Transaction_Type Merchant  \\\n",
      "0          100000         4452       2023-01-01           Online  Walmart   \n",
      "1          100001         2775       2023-01-01              ATM  BestBuy   \n",
      "2          100002         2259       2023-01-01   Mobile Payment     Uber   \n",
      "3          100003         4545       2023-01-01           Online  BestBuy   \n",
      "4          100004         2137       2023-01-01              ATM   Amazon   \n",
      "5          100005         4096       2023-01-01              ATM     Uber   \n",
      "6          100006         1587       2023-01-01           Online  Netflix   \n",
      "\n",
      "        Category   Amount Payment_Mode Transaction_Status            Location  \n",
      "0         Travel  4520.70   Debit Card           Approved           Jonesport  \n",
      "1         Travel  1437.85   Debit Card           Approved       Port Jennifer  \n",
      "2       Clothing  3320.52       PayPal           Approved          Port James  \n",
      "3         Travel  2659.96   Debit Card           Approved          Hawkinston  \n",
      "4         Travel  2517.07   Debit Card           Approved         Matthewland  \n",
      "5      Groceries  2032.91          UPI           Approved  West Patriciamouth  \n",
      "6  Entertainment  2309.06   Debit Card           Approved           Scottport  \n"
     ]
    }
   ],
   "source": [
    "# https://raw.githubusercontent.com/Pankaj-Str/Complete-Python-Mastery/refs/heads/main/53%20DataSet/credit_card_transactions.csv\n",
    "\n",
    "data = pd.read_csv(\"credit_card_transactions.csv\")\n",
    "# data = pd.read_csv(\"https://raw.githubusercontent.com/Pankaj-Str/Complete-Python-Mastery/refs/heads/main/53%20DataSet/ecommerce_data.csv\")\n",
    "\n",
    "print(data.head(7))"
   ]
  }
 ],
 "metadata": {
  "kernelspec": {
   "display_name": "Python 3",
   "language": "python",
   "name": "python3"
  },
  "language_info": {
   "codemirror_mode": {
    "name": "ipython",
    "version": 3
   },
   "file_extension": ".py",
   "mimetype": "text/x-python",
   "name": "python",
   "nbconvert_exporter": "python",
   "pygments_lexer": "ipython3",
   "version": "3.13.7"
  }
 },
 "nbformat": 4,
 "nbformat_minor": 5
}
