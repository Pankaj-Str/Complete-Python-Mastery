{
 "cells": [
  {
   "cell_type": "code",
   "execution_count": null,
   "id": "c35cf394",
   "metadata": {},
   "outputs": [],
   "source": [
    "%pip install pandas"
   ]
  },
  {
   "cell_type": "code",
   "execution_count": null,
   "id": "08ea490b",
   "metadata": {},
   "outputs": [],
   "source": [
    "import pandas as pd\n",
    "\n",
    "data = {\n",
    "    'Name':['Rahul','Rohan','Tiya','Riya','Diana','Joy','Nishant','Heena','Deep'],\n",
    "    'Age' :[23,34,45,67,23,24,12,50,22],\n",
    "    'city':['tokya','Paris','Mumbai','Surat','Bhuj','Jaipur','Pune','Pune','Mumbai']\n",
    "}\n",
    "\n",
    "df = pd.DataFrame(data)\n",
    "print(df)"
   ]
  },
  {
   "cell_type": "code",
   "execution_count": null,
   "id": "a78a0c6a",
   "metadata": {},
   "outputs": [],
   "source": [
    "data = [\n",
    "    ['Rahul',23 ,'tokya'],\n",
    "    ['joy',12,'Jaipur'],\n",
    "    ['Nishant',34,'Mumbai']\n",
    "]\n",
    "\n",
    "col = ['Name','Age','City']\n",
    "\n",
    "df = pd.DataFrame(data,columns=col)\n",
    "print(df)"
   ]
  },
  {
   "cell_type": "code",
   "execution_count": null,
   "id": "d12ddbfd",
   "metadata": {},
   "outputs": [],
   "source": [
    "# https://raw.githubusercontent.com/Pankaj-Str/Complete-Python-Mastery/refs/heads/main/53%20DataSet/credit_card_transactions.csv\n",
    "\n",
    "data = pd.read_csv(\"credit_card_transactions.csv\")\n",
    "# data = pd.read_csv(\"https://raw.githubusercontent.com/Pankaj-Str/Complete-Python-Mastery/refs/heads/main/53%20DataSet/ecommerce_data.csv\")\n",
    "\n",
    "print(data.head(7))"
   ]
  },
  {
   "cell_type": "code",
   "execution_count": null,
   "id": "59d12dbe",
   "metadata": {},
   "outputs": [],
   "source": [
    "# df = pd.read_excel('data.xlsx')\n",
    "# df = pd.read_json('data.json')"
   ]
  },
  {
   "cell_type": "code",
   "execution_count": null,
   "id": "13919d2d",
   "metadata": {},
   "outputs": [],
   "source": [
    "# print 5 rows of the dataframe\n",
    "print(data.head())"
   ]
  },
  {
   "cell_type": "code",
   "execution_count": null,
   "id": "7142d35f",
   "metadata": {},
   "outputs": [],
   "source": [
    "# print last 5 rows of the dataframe\n",
    "print(data.tail())"
   ]
  },
  {
   "cell_type": "code",
   "execution_count": null,
   "id": "0d58bc2f",
   "metadata": {},
   "outputs": [],
   "source": [
    "# check data types of each column\n",
    "print(data.dtypes)"
   ]
  },
  {
   "cell_type": "code",
   "execution_count": null,
   "id": "52c09443",
   "metadata": {},
   "outputs": [],
   "source": [
    "# check information about the dataframe\n",
    "print(data.info())"
   ]
  },
  {
   "cell_type": "code",
   "execution_count": null,
   "id": "13ac577d",
   "metadata": {},
   "outputs": [],
   "source": [
    "# describe the dataframe\n",
    "print(data.describe())"
   ]
  },
  {
   "cell_type": "code",
   "execution_count": null,
   "id": "7d7ebb1c",
   "metadata": {},
   "outputs": [],
   "source": [
    "# shape of the dataframe\n",
    "print(data.shape)"
   ]
  },
  {
   "cell_type": "code",
   "execution_count": null,
   "id": "fc1ce7aa",
   "metadata": {},
   "outputs": [],
   "source": [
    "# print column names\n",
    "print(data.columns)"
   ]
  },
  {
   "cell_type": "code",
   "execution_count": null,
   "id": "8748074b",
   "metadata": {},
   "outputs": [],
   "source": [
    "data_columns = data.columns.tolist()\n",
    "# print(data_columns)\n",
    "\n",
    "for i in data_columns:\n",
    "    print(i)"
   ]
  },
  {
   "cell_type": "code",
   "execution_count": null,
   "id": "0bcfc841",
   "metadata": {},
   "outputs": [],
   "source": [
    "# indexes of the dataframe\n",
    "print(data.index)"
   ]
  },
  {
   "cell_type": "code",
   "execution_count": null,
   "id": "e482ff23",
   "metadata": {},
   "outputs": [],
   "source": [
    "# selecting data from dataframe\n",
    "print(data['Amount'])"
   ]
  },
  {
   "cell_type": "code",
   "execution_count": null,
   "id": "5ff913d0",
   "metadata": {},
   "outputs": [],
   "source": [
    "col2 = ['Amount','Location']\n",
    "print(data[col2])"
   ]
  },
  {
   "cell_type": "code",
   "execution_count": null,
   "id": "04c2899a",
   "metadata": {},
   "outputs": [],
   "source": [
    "# row by index\n",
    "print(data.iloc[2])"
   ]
  },
  {
   "cell_type": "code",
   "execution_count": null,
   "id": "5d6c6020",
   "metadata": {},
   "outputs": [],
   "source": [
    "# select row 100 to 110\n",
    "print(data.iloc[100:111])"
   ]
  },
  {
   "cell_type": "code",
   "execution_count": null,
   "id": "e318e700",
   "metadata": {},
   "outputs": [],
   "source": [
    "print(data.iloc[:,3])"
   ]
  },
  {
   "cell_type": "code",
   "execution_count": null,
   "id": "10b63fee",
   "metadata": {},
   "outputs": [],
   "source": [
    "# row by label\n",
    "print(data.loc[5])"
   ]
  },
  {
   "cell_type": "code",
   "execution_count": null,
   "id": "78a2ac1b",
   "metadata": {},
   "outputs": [],
   "source": [
    "# row 0 - 10 and columns 'Amount' and 'Location'\n",
    "print(data.loc[0:10, ['Amount','Location']])"
   ]
  },
  {
   "cell_type": "code",
   "execution_count": null,
   "id": "35cad8e5",
   "metadata": {},
   "outputs": [],
   "source": [
    "# conditional selection\n",
    "\n",
    "# print rows where Amount > 4000\n",
    "\n",
    "print(data[data['Amount'] > 4000])"
   ]
  },
  {
   "cell_type": "code",
   "execution_count": null,
   "id": "368f1356",
   "metadata": {},
   "outputs": [],
   "source": [
    "# print row amount > 4000 with  transaction type 'Online'\n",
    "new_record = data[(data['Amount'] > 4000) & (data['Transaction_Type'] == 'Online')]\n",
    "# export new_record to csv\n",
    "new_record.to_csv('new_record.csv', index=False) "
   ]
  },
  {
   "cell_type": "code",
   "execution_count": null,
   "id": "c207ab2d",
   "metadata": {},
   "outputs": [],
   "source": [
    "# Date : 30 oct 2025\n",
    "# adding and modifying columns\n",
    "\n",
    "data = {\n",
    "    'Name':['Rahul','Rohan','Tiya','Riya','Diana','Joy','Nishant','Heena','Deep'],\n",
    "    'Age' :[23,34,45,67,23,24,12,50,22],\n",
    "    'city':['tokya','Paris','Mumbai','Surat','Bhuj','Jaipur','Pune','Pune','Mumbai']\n",
    "}\n",
    "\n",
    "df = pd.DataFrame(data)\n",
    "print(df)"
   ]
  },
  {
   "cell_type": "code",
   "execution_count": null,
   "id": "b578b6c5",
   "metadata": {},
   "outputs": [],
   "source": [
    "# add new column salary \n",
    "\n",
    "df['Salary'] = [50000,60000,55000,70000,65000,48000,72000,80000,62000]\n",
    "print(df)"
   ]
  },
  {
   "cell_type": "code",
   "execution_count": null,
   "id": "477e2f43",
   "metadata": {},
   "outputs": [],
   "source": [
    "# modify existing column # age + 2\n",
    "df['Age'] = df['Age'] + 2\n",
    "print(df)"
   ]
  },
  {
   "cell_type": "code",
   "execution_count": null,
   "id": "357fa23c",
   "metadata": {},
   "outputs": [],
   "source": [
    "import numpy as np\n",
    "# add new row \n",
    "new_row = {'Name':None,'Age': np.nan,'city':'Delhi','Salary':np.nan}\n",
    "row = pd.DataFrame([new_row])\n",
    "# concat the new row to the dataframe\n",
    "df = pd.concat([df,row], ignore_index=True)\n",
    "print(df)"
   ]
  },
  {
   "cell_type": "code",
   "execution_count": null,
   "id": "79e9e97b",
   "metadata": {},
   "outputs": [],
   "source": [
    "# handling missing data \n",
    "df.isnull().sum()"
   ]
  },
  {
   "cell_type": "code",
   "execution_count": null,
   "id": "a37542d8",
   "metadata": {},
   "outputs": [],
   "source": [
    "# delete row null value\n",
    "df = df.dropna()\n",
    "print(df)"
   ]
  },
  {
   "cell_type": "code",
   "execution_count": null,
   "id": "82d032dd",
   "metadata": {},
   "outputs": [],
   "source": [
    "new_row = {'Name':\"Joy\",'Age': np.nan,'city':'Delhi','Salary':np.nan}\n",
    "row = pd.DataFrame([new_row])\n",
    "# concat the new row to the dataframe\n",
    "df = pd.concat([df,row], ignore_index=True)\n",
    "print(df)"
   ]
  },
  {
   "cell_type": "code",
   "execution_count": null,
   "id": "c87925f2",
   "metadata": {},
   "outputs": [],
   "source": [
    "df.isnull().sum()"
   ]
  },
  {
   "cell_type": "code",
   "execution_count": null,
   "id": "27fb45de",
   "metadata": {},
   "outputs": [],
   "source": [
    "\n",
    "df['Age'] = df['Age'].fillna(df['Age'].mean())"
   ]
  },
  {
   "cell_type": "code",
   "execution_count": null,
   "id": "da03324a",
   "metadata": {},
   "outputs": [],
   "source": [
    "df.isnull().sum()"
   ]
  },
  {
   "cell_type": "code",
   "execution_count": null,
   "id": "b911af80",
   "metadata": {},
   "outputs": [],
   "source": [
    "df['Salary'] = df['Salary'].fillna(0)\n",
    "# check again for null values\n",
    "df.isnull().sum()"
   ]
  },
  {
   "cell_type": "code",
   "execution_count": null,
   "id": "e11e5cfb",
   "metadata": {},
   "outputs": [],
   "source": [
    "# add name column with 'Unknown' where null\n",
    "df['Name'] = df['Name'].fillna('Unknown')\n",
    "print(df)"
   ]
  },
  {
   "cell_type": "code",
   "execution_count": null,
   "id": "8e14c581",
   "metadata": {},
   "outputs": [],
   "source": [
    "# check again null values\n",
    "df.isnull().sum()"
   ]
  },
  {
   "cell_type": "code",
   "execution_count": null,
   "id": "99de6a35",
   "metadata": {},
   "outputs": [],
   "source": [
    "# remove all duplicates value \n",
    "df = df.drop_duplicates()\n",
    "print(df)"
   ]
  },
  {
   "cell_type": "code",
   "execution_count": null,
   "id": "15d1e85d",
   "metadata": {},
   "outputs": [],
   "source": [
    "# find the duplicates\n",
    "duplicates = df.duplicated()\n",
    "print(duplicates)\n",
    "\n",
    "# find total duplicates\n",
    "total_duplicates = df.duplicated().sum()\n",
    "print(\"Total duplicates:\", total_duplicates)"
   ]
  },
  {
   "cell_type": "code",
   "execution_count": null,
   "id": "8cd45560",
   "metadata": {},
   "outputs": [],
   "source": [
    "df = df.drop_duplicates(subset=['city'])\n",
    "print(df)"
   ]
  },
  {
   "cell_type": "code",
   "execution_count": null,
   "id": "61542cdf",
   "metadata": {},
   "outputs": [],
   "source": [
    "# reset index \n",
    "df = df.drop_duplicates().reset_index(drop=True)\n",
    "print(df)"
   ]
  },
  {
   "cell_type": "code",
   "execution_count": 101,
   "id": "971a7d26",
   "metadata": {},
   "outputs": [
    {
     "name": "stdout",
     "output_type": "stream",
     "text": [
      "      Name   Age    city   Salary\n",
      "6  Nishant  14.0    Pune  72000.0\n",
      "4    Diana  25.0    Bhuj  65000.0\n",
      "0    Rahul  25.0   tokya  50000.0\n",
      "5      Joy  26.0  Jaipur  48000.0\n",
      "7     Amit  30.0   Delhi  75000.0\n",
      "1    Rohan  36.0   Paris  60000.0\n",
      "2     Tiya  47.0  Mumbai  55000.0\n",
      "3     Riya  69.0   Surat  70000.0\n"
     ]
    }
   ],
   "source": [
    "# Sorting the DataFrame\n",
    "# sort by Age ascending\n",
    "df = df.sort_values(by='Age')\n",
    "print(df)"
   ]
  },
  {
   "cell_type": "code",
   "execution_count": null,
   "id": "f1daddd2",
   "metadata": {},
   "outputs": [],
   "source": [
    "# sort by age descending\n",
    "df = df.sort_values(by='Age', ascending=False)\n",
    "print(df)"
   ]
  },
  {
   "cell_type": "code",
   "execution_count": null,
   "id": "0f2609b6",
   "metadata": {},
   "outputs": [],
   "source": [
    "# sort multiple columns\n",
    "df = df.sort_values(by=['city','Age'])\n",
    "print(df)"
   ]
  },
  {
   "cell_type": "code",
   "execution_count": 119,
   "id": "5422daed",
   "metadata": {},
   "outputs": [],
   "source": [
    "# add new row \n",
    "new_row = {'Name':'yiyo','Age':46,'city':'Bhuj','Salary':90000}\n",
    "# use concat to add new row\n",
    "row = pd.DataFrame([new_row])\n",
    "df = pd.concat([df,row], ignore_index=True)"
   ]
  },
  {
   "cell_type": "code",
   "execution_count": 120,
   "id": "298ff490",
   "metadata": {},
   "outputs": [
    {
     "name": "stdout",
     "output_type": "stream",
     "text": [
      "       Name   Age    city   Salary\n",
      "0   Nishant  14.0    Pune  72000.0\n",
      "1     Diana  25.0    Bhuj  65000.0\n",
      "2     Rahul  25.0   tokya  50000.0\n",
      "3       Joy  26.0  Jaipur  48000.0\n",
      "4      Amit  30.0   Delhi  75000.0\n",
      "5     Rohan  36.0   Paris  60000.0\n",
      "6      Tiya  47.0  Mumbai  55000.0\n",
      "7      Riya  69.0   Surat  70000.0\n",
      "8      Amit  30.0   Delhi  75000.0\n",
      "9       Joy  30.0   Delhi  75000.0\n",
      "10     riya  30.0   Delhi  75000.0\n",
      "11     tiya  30.0   Delhi  75000.0\n",
      "12      Roy  30.0  Mumbai  75000.0\n",
      "13      Toy  45.0  Mumbai  89000.0\n",
      "14     Diya  45.0   Paris  89000.0\n",
      "15     Jiya  34.0   Paris  45000.0\n",
      "16    Nishu  34.0  Jaipur  45000.0\n",
      "17    Sonal  34.0    Pune  78000.0\n",
      "18   Soniya  34.0    bhuj  78000.0\n",
      "19    Sumit  46.0    Bhuj  90000.0\n",
      "20   Taniya  46.0    Bhuj  90000.0\n",
      "21     Kiyo  46.0    Bhuj  90000.0\n",
      "22     yiyo  46.0    Bhuj  90000.0\n",
      "23     yiyo  46.0    Bhuj  90000.0\n"
     ]
    }
   ],
   "source": [
    "print(df)"
   ]
  },
  {
   "cell_type": "code",
   "execution_count": 124,
   "id": "a4138421",
   "metadata": {},
   "outputs": [
    {
     "name": "stdout",
     "output_type": "stream",
     "text": [
      "city\n",
      "Bhuj      6\n",
      "Delhi     5\n",
      "Jaipur    2\n",
      "Mumbai    3\n",
      "Paris     3\n",
      "Pune      2\n",
      "Surat     1\n",
      "bhuj      1\n",
      "tokya     1\n",
      "dtype: int64\n"
     ]
    }
   ],
   "source": [
    "# grouping data & aggregation\n",
    "\n",
    "# group by city and count number of people in each city\n",
    "city_count = df.groupby('city').size()\n",
    "print(city_count)"
   ]
  },
  {
   "cell_type": "code",
   "execution_count": 126,
   "id": "6bebdab6",
   "metadata": {},
   "outputs": [
    {
     "name": "stdout",
     "output_type": "stream",
     "text": [
      "            max      min\n",
      "city                    \n",
      "Bhuj    90000.0  65000.0\n",
      "Delhi   75000.0  75000.0\n",
      "Jaipur  48000.0  45000.0\n",
      "Mumbai  89000.0  55000.0\n",
      "Paris   89000.0  45000.0\n",
      "Pune    78000.0  72000.0\n",
      "Surat   70000.0  70000.0\n",
      "bhuj    78000.0  78000.0\n",
      "tokya   50000.0  50000.0\n"
     ]
    }
   ],
   "source": [
    "# find the max and min Salary in each city\n",
    "age_stats = df.groupby('city')['Salary'].agg(['max','min'])\n",
    "print(age_stats)"
   ]
  }
 ],
 "metadata": {
  "kernelspec": {
   "display_name": "Python 3",
   "language": "python",
   "name": "python3"
  },
  "language_info": {
   "codemirror_mode": {
    "name": "ipython",
    "version": 3
   },
   "file_extension": ".py",
   "mimetype": "text/x-python",
   "name": "python",
   "nbconvert_exporter": "python",
   "pygments_lexer": "ipython3",
   "version": "3.13.7"
  }
 },
 "nbformat": 4,
 "nbformat_minor": 5
}
