{
 "cells": [
  {
   "cell_type": "code",
   "execution_count": 1,
   "id": "c35cf394",
   "metadata": {},
   "outputs": [
    {
     "name": "stdout",
     "output_type": "stream",
     "text": [
      "Requirement already satisfied: pandas in /Library/Frameworks/Python.framework/Versions/3.13/lib/python3.13/site-packages (2.2.3)\n",
      "Requirement already satisfied: numpy>=1.26.0 in /Library/Frameworks/Python.framework/Versions/3.13/lib/python3.13/site-packages (from pandas) (2.2.3)\n",
      "Requirement already satisfied: python-dateutil>=2.8.2 in /Users/pankajchouhan/Library/Python/3.13/lib/python/site-packages (from pandas) (2.9.0.post0)\n",
      "Requirement already satisfied: pytz>=2020.1 in /Library/Frameworks/Python.framework/Versions/3.13/lib/python3.13/site-packages (from pandas) (2025.1)\n",
      "Requirement already satisfied: tzdata>=2022.7 in /Library/Frameworks/Python.framework/Versions/3.13/lib/python3.13/site-packages (from pandas) (2025.1)\n",
      "Requirement already satisfied: six>=1.5 in /Users/pankajchouhan/Library/Python/3.13/lib/python/site-packages (from python-dateutil>=2.8.2->pandas) (1.17.0)\n",
      "\n",
      "\u001b[1m[\u001b[0m\u001b[34;49mnotice\u001b[0m\u001b[1;39;49m]\u001b[0m\u001b[39;49m A new release of pip is available: \u001b[0m\u001b[31;49m25.2\u001b[0m\u001b[39;49m -> \u001b[0m\u001b[32;49m25.3\u001b[0m\n",
      "\u001b[1m[\u001b[0m\u001b[34;49mnotice\u001b[0m\u001b[1;39;49m]\u001b[0m\u001b[39;49m To update, run: \u001b[0m\u001b[32;49mpip3 install --upgrade pip\u001b[0m\n",
      "Note: you may need to restart the kernel to use updated packages.\n"
     ]
    }
   ],
   "source": [
    "%pip install pandas"
   ]
  },
  {
   "cell_type": "code",
   "execution_count": 2,
   "id": "08ea490b",
   "metadata": {},
   "outputs": [
    {
     "name": "stdout",
     "output_type": "stream",
     "text": [
      "      Name  Age    city\n",
      "0    Rahul   23   tokya\n",
      "1    Rohan   34   Paris\n",
      "2     Tiya   45  Mumbai\n",
      "3     Riya   67   Surat\n",
      "4    Diana   23    Bhuj\n",
      "5      Joy   24  Jaipur\n",
      "6  Nishant   12    Pune\n",
      "7    Heena   50    Pune\n",
      "8     Deep   22  Mumbai\n"
     ]
    }
   ],
   "source": [
    "import pandas as pd\n",
    "\n",
    "data = {\n",
    "    'Name':['Rahul','Rohan','Tiya','Riya','Diana','Joy','Nishant','Heena','Deep'],\n",
    "    'Age' :[23,34,45,67,23,24,12,50,22],\n",
    "    'city':['tokya','Paris','Mumbai','Surat','Bhuj','Jaipur','Pune','Pune','Mumbai']\n",
    "}\n",
    "\n",
    "df = pd.DataFrame(data)\n",
    "print(df)"
   ]
  },
  {
   "cell_type": "code",
   "execution_count": 3,
   "id": "a78a0c6a",
   "metadata": {},
   "outputs": [
    {
     "name": "stdout",
     "output_type": "stream",
     "text": [
      "      Name  Age    City\n",
      "0    Rahul   23   tokya\n",
      "1      joy   12  Jaipur\n",
      "2  Nishant   34  Mumbai\n"
     ]
    }
   ],
   "source": [
    "data = [\n",
    "    ['Rahul',23 ,'tokya'],\n",
    "    ['joy',12,'Jaipur'],\n",
    "    ['Nishant',34,'Mumbai']\n",
    "]\n",
    "\n",
    "col = ['Name','Age','City']\n",
    "\n",
    "df = pd.DataFrame(data,columns=col)\n",
    "print(df)"
   ]
  },
  {
   "cell_type": "code",
   "execution_count": 4,
   "id": "d12ddbfd",
   "metadata": {},
   "outputs": [
    {
     "name": "stdout",
     "output_type": "stream",
     "text": [
      "   Transaction_ID  Customer_ID Transaction_Date Transaction_Type Merchant  \\\n",
      "0          100000         4452       2023-01-01           Online  Walmart   \n",
      "1          100001         2775       2023-01-01              ATM  BestBuy   \n",
      "2          100002         2259       2023-01-01   Mobile Payment     Uber   \n",
      "3          100003         4545       2023-01-01           Online  BestBuy   \n",
      "4          100004         2137       2023-01-01              ATM   Amazon   \n",
      "5          100005         4096       2023-01-01              ATM     Uber   \n",
      "6          100006         1587       2023-01-01           Online  Netflix   \n",
      "\n",
      "        Category   Amount Payment_Mode Transaction_Status            Location  \n",
      "0         Travel  4520.70   Debit Card           Approved           Jonesport  \n",
      "1         Travel  1437.85   Debit Card           Approved       Port Jennifer  \n",
      "2       Clothing  3320.52       PayPal           Approved          Port James  \n",
      "3         Travel  2659.96   Debit Card           Approved          Hawkinston  \n",
      "4         Travel  2517.07   Debit Card           Approved         Matthewland  \n",
      "5      Groceries  2032.91          UPI           Approved  West Patriciamouth  \n",
      "6  Entertainment  2309.06   Debit Card           Approved           Scottport  \n"
     ]
    }
   ],
   "source": [
    "# https://raw.githubusercontent.com/Pankaj-Str/Complete-Python-Mastery/refs/heads/main/53%20DataSet/credit_card_transactions.csv\n",
    "\n",
    "data = pd.read_csv(\"credit_card_transactions.csv\")\n",
    "# data = pd.read_csv(\"https://raw.githubusercontent.com/Pankaj-Str/Complete-Python-Mastery/refs/heads/main/53%20DataSet/ecommerce_data.csv\")\n",
    "\n",
    "print(data.head(7))"
   ]
  },
  {
   "cell_type": "code",
   "execution_count": 5,
   "id": "59d12dbe",
   "metadata": {},
   "outputs": [],
   "source": [
    "# df = pd.read_excel('data.xlsx')\n",
    "# df = pd.read_json('data.json')"
   ]
  },
  {
   "cell_type": "code",
   "execution_count": 6,
   "id": "13919d2d",
   "metadata": {},
   "outputs": [
    {
     "name": "stdout",
     "output_type": "stream",
     "text": [
      "   Transaction_ID  Customer_ID Transaction_Date Transaction_Type Merchant  \\\n",
      "0          100000         4452       2023-01-01           Online  Walmart   \n",
      "1          100001         2775       2023-01-01              ATM  BestBuy   \n",
      "2          100002         2259       2023-01-01   Mobile Payment     Uber   \n",
      "3          100003         4545       2023-01-01           Online  BestBuy   \n",
      "4          100004         2137       2023-01-01              ATM   Amazon   \n",
      "\n",
      "   Category   Amount Payment_Mode Transaction_Status       Location  \n",
      "0    Travel  4520.70   Debit Card           Approved      Jonesport  \n",
      "1    Travel  1437.85   Debit Card           Approved  Port Jennifer  \n",
      "2  Clothing  3320.52       PayPal           Approved     Port James  \n",
      "3    Travel  2659.96   Debit Card           Approved     Hawkinston  \n",
      "4    Travel  2517.07   Debit Card           Approved    Matthewland  \n"
     ]
    }
   ],
   "source": [
    "# print 5 rows of the dataframe\n",
    "print(data.head())"
   ]
  },
  {
   "cell_type": "code",
   "execution_count": 7,
   "id": "7142d35f",
   "metadata": {},
   "outputs": [
    {
     "name": "stdout",
     "output_type": "stream",
     "text": [
      "      Transaction_ID  Customer_ID Transaction_Date Transaction_Type  \\\n",
      "5495          105495         3262       2023-08-17              ATM   \n",
      "5496          105496         1234       2023-08-18              POS   \n",
      "5497          105497         3978       2023-08-18           Online   \n",
      "5498          105498         3082       2023-08-18              ATM   \n",
      "5499          105499         2271       2023-08-18   Mobile Payment   \n",
      "\n",
      "         Merchant       Category   Amount Payment_Mode Transaction_Status  \\\n",
      "5495  Apple Store         Travel  4554.82   Debit Card           Approved   \n",
      "5496         Uber         Travel  4118.51   Debit Card           Approved   \n",
      "5497  Apple Store       Clothing  2981.13          UPI           Approved   \n",
      "5498         Uber       Clothing  2168.39   Debit Card           Approved   \n",
      "5499      Netflix  Entertainment  1918.66          UPI           Approved   \n",
      "\n",
      "               Location  \n",
      "5495   South Hannahtown  \n",
      "5496     South Courtney  \n",
      "5497           Rubenton  \n",
      "5498     East Brianfurt  \n",
      "5499  New Stephaniebury  \n"
     ]
    }
   ],
   "source": [
    "# print last 5 rows of the dataframe\n",
    "print(data.tail())"
   ]
  },
  {
   "cell_type": "code",
   "execution_count": 8,
   "id": "0d58bc2f",
   "metadata": {},
   "outputs": [
    {
     "name": "stdout",
     "output_type": "stream",
     "text": [
      "Transaction_ID          int64\n",
      "Customer_ID             int64\n",
      "Transaction_Date       object\n",
      "Transaction_Type       object\n",
      "Merchant               object\n",
      "Category               object\n",
      "Amount                float64\n",
      "Payment_Mode           object\n",
      "Transaction_Status     object\n",
      "Location               object\n",
      "dtype: object\n"
     ]
    }
   ],
   "source": [
    "# check data types of each column\n",
    "print(data.dtypes)"
   ]
  },
  {
   "cell_type": "code",
   "execution_count": 9,
   "id": "52c09443",
   "metadata": {},
   "outputs": [
    {
     "name": "stdout",
     "output_type": "stream",
     "text": [
      "<class 'pandas.core.frame.DataFrame'>\n",
      "RangeIndex: 5500 entries, 0 to 5499\n",
      "Data columns (total 10 columns):\n",
      " #   Column              Non-Null Count  Dtype  \n",
      "---  ------              --------------  -----  \n",
      " 0   Transaction_ID      5500 non-null   int64  \n",
      " 1   Customer_ID         5500 non-null   int64  \n",
      " 2   Transaction_Date    5500 non-null   object \n",
      " 3   Transaction_Type    5500 non-null   object \n",
      " 4   Merchant            5500 non-null   object \n",
      " 5   Category            5500 non-null   object \n",
      " 6   Amount              5500 non-null   float64\n",
      " 7   Payment_Mode        5500 non-null   object \n",
      " 8   Transaction_Status  5500 non-null   object \n",
      " 9   Location            5500 non-null   object \n",
      "dtypes: float64(1), int64(2), object(7)\n",
      "memory usage: 429.8+ KB\n",
      "None\n"
     ]
    }
   ],
   "source": [
    "# check information about the dataframe\n",
    "print(data.info())"
   ]
  },
  {
   "cell_type": "code",
   "execution_count": 10,
   "id": "13ac577d",
   "metadata": {},
   "outputs": [
    {
     "name": "stdout",
     "output_type": "stream",
     "text": [
      "       Transaction_ID  Customer_ID       Amount\n",
      "count     5500.000000  5500.000000  5500.000000\n",
      "mean    102749.500000  2989.954182  2492.109224\n",
      "std       1587.857571  1153.928878  1444.493842\n",
      "min     100000.000000  1000.000000     6.550000\n",
      "25%     101374.750000  1988.000000  1236.935000\n",
      "50%     102749.500000  3000.000000  2502.405000\n",
      "75%     104124.250000  3990.000000  3767.957500\n",
      "max     105499.000000  4998.000000  4997.490000\n"
     ]
    }
   ],
   "source": [
    "# describe the dataframe\n",
    "print(data.describe())"
   ]
  },
  {
   "cell_type": "code",
   "execution_count": 11,
   "id": "7d7ebb1c",
   "metadata": {},
   "outputs": [
    {
     "name": "stdout",
     "output_type": "stream",
     "text": [
      "(5500, 10)\n"
     ]
    }
   ],
   "source": [
    "# shape of the dataframe\n",
    "print(data.shape)"
   ]
  },
  {
   "cell_type": "code",
   "execution_count": 12,
   "id": "fc1ce7aa",
   "metadata": {},
   "outputs": [
    {
     "name": "stdout",
     "output_type": "stream",
     "text": [
      "Index(['Transaction_ID', 'Customer_ID', 'Transaction_Date', 'Transaction_Type',\n",
      "       'Merchant', 'Category', 'Amount', 'Payment_Mode', 'Transaction_Status',\n",
      "       'Location'],\n",
      "      dtype='object')\n"
     ]
    }
   ],
   "source": [
    "# print column names\n",
    "print(data.columns)"
   ]
  },
  {
   "cell_type": "code",
   "execution_count": 13,
   "id": "8748074b",
   "metadata": {},
   "outputs": [
    {
     "name": "stdout",
     "output_type": "stream",
     "text": [
      "Transaction_ID\n",
      "Customer_ID\n",
      "Transaction_Date\n",
      "Transaction_Type\n",
      "Merchant\n",
      "Category\n",
      "Amount\n",
      "Payment_Mode\n",
      "Transaction_Status\n",
      "Location\n"
     ]
    }
   ],
   "source": [
    "data_columns = data.columns.tolist()\n",
    "# print(data_columns)\n",
    "\n",
    "for i in data_columns:\n",
    "    print(i)"
   ]
  },
  {
   "cell_type": "code",
   "execution_count": 14,
   "id": "0bcfc841",
   "metadata": {},
   "outputs": [
    {
     "name": "stdout",
     "output_type": "stream",
     "text": [
      "RangeIndex(start=0, stop=5500, step=1)\n"
     ]
    }
   ],
   "source": [
    "# indexes of the dataframe\n",
    "print(data.index)"
   ]
  },
  {
   "cell_type": "code",
   "execution_count": 15,
   "id": "e482ff23",
   "metadata": {},
   "outputs": [
    {
     "name": "stdout",
     "output_type": "stream",
     "text": [
      "0       4520.70\n",
      "1       1437.85\n",
      "2       3320.52\n",
      "3       2659.96\n",
      "4       2517.07\n",
      "         ...   \n",
      "5495    4554.82\n",
      "5496    4118.51\n",
      "5497    2981.13\n",
      "5498    2168.39\n",
      "5499    1918.66\n",
      "Name: Amount, Length: 5500, dtype: float64\n"
     ]
    }
   ],
   "source": [
    "# selecting data from dataframe\n",
    "print(data['Amount'])"
   ]
  },
  {
   "cell_type": "code",
   "execution_count": 16,
   "id": "5ff913d0",
   "metadata": {},
   "outputs": [
    {
     "name": "stdout",
     "output_type": "stream",
     "text": [
      "       Amount           Location\n",
      "0     4520.70          Jonesport\n",
      "1     1437.85      Port Jennifer\n",
      "2     3320.52         Port James\n",
      "3     2659.96         Hawkinston\n",
      "4     2517.07        Matthewland\n",
      "...       ...                ...\n",
      "5495  4554.82   South Hannahtown\n",
      "5496  4118.51     South Courtney\n",
      "5497  2981.13           Rubenton\n",
      "5498  2168.39     East Brianfurt\n",
      "5499  1918.66  New Stephaniebury\n",
      "\n",
      "[5500 rows x 2 columns]\n"
     ]
    }
   ],
   "source": [
    "col2 = ['Amount','Location']\n",
    "print(data[col2])"
   ]
  },
  {
   "cell_type": "code",
   "execution_count": 17,
   "id": "04c2899a",
   "metadata": {},
   "outputs": [
    {
     "name": "stdout",
     "output_type": "stream",
     "text": [
      "Transaction_ID                100002\n",
      "Customer_ID                     2259\n",
      "Transaction_Date          2023-01-01\n",
      "Transaction_Type      Mobile Payment\n",
      "Merchant                        Uber\n",
      "Category                    Clothing\n",
      "Amount                       3320.52\n",
      "Payment_Mode                  PayPal\n",
      "Transaction_Status          Approved\n",
      "Location                  Port James\n",
      "Name: 2, dtype: object\n"
     ]
    }
   ],
   "source": [
    "# row by index\n",
    "print(data.iloc[2])"
   ]
  },
  {
   "cell_type": "code",
   "execution_count": 18,
   "id": "5d6c6020",
   "metadata": {},
   "outputs": [
    {
     "name": "stdout",
     "output_type": "stream",
     "text": [
      "     Transaction_ID  Customer_ID Transaction_Date Transaction_Type  \\\n",
      "100          100100         1145       2023-01-05   Mobile Payment   \n",
      "101          100101         3025       2023-01-05           Online   \n",
      "102          100102         1522       2023-01-05   Mobile Payment   \n",
      "103          100103         2210       2023-01-05              ATM   \n",
      "104          100104         4100       2023-01-05              ATM   \n",
      "105          100105         3849       2023-01-05   Mobile Payment   \n",
      "106          100106         2753       2023-01-05              POS   \n",
      "107          100107         3847       2023-01-05              POS   \n",
      "108          100108         1638       2023-01-05              ATM   \n",
      "109          100109         3890       2023-01-05           Online   \n",
      "110          100110         1894       2023-01-05           Online   \n",
      "\n",
      "        Merchant       Category   Amount Payment_Mode Transaction_Status  \\\n",
      "100         Uber      Groceries  1277.06       PayPal           Declined   \n",
      "101       Target       Clothing   395.01       PayPal           Approved   \n",
      "102      BestBuy       Clothing  1875.28   Debit Card           Approved   \n",
      "103  Apple Store         Travel  2451.38       PayPal           Approved   \n",
      "104      Walmart         Dining   149.46       PayPal           Declined   \n",
      "105      Walmart  Entertainment  3571.00   Debit Card           Approved   \n",
      "106       Target    Electronics  1643.06   Debit Card           Approved   \n",
      "107  Apple Store       Clothing   155.60       PayPal           Approved   \n",
      "108         Uber       Clothing  1326.21          UPI           Approved   \n",
      "109      Netflix      Groceries   987.94       PayPal           Approved   \n",
      "110  Apple Store         Travel  1284.68  Credit Card           Approved   \n",
      "\n",
      "                  Location  \n",
      "100       Christophermouth  \n",
      "101            Robertmouth  \n",
      "102  East Christopherburgh  \n",
      "103           Michaelmouth  \n",
      "104            Justinshire  \n",
      "105        Port Stevenside  \n",
      "106               Jamieton  \n",
      "107             Blairmouth  \n",
      "108            Rosarioport  \n",
      "109            Lake Dennis  \n",
      "110             West Tyler  \n"
     ]
    }
   ],
   "source": [
    "# select row 100 to 110\n",
    "print(data.iloc[100:111])"
   ]
  },
  {
   "cell_type": "code",
   "execution_count": 19,
   "id": "e318e700",
   "metadata": {},
   "outputs": [
    {
     "name": "stdout",
     "output_type": "stream",
     "text": [
      "0               Online\n",
      "1                  ATM\n",
      "2       Mobile Payment\n",
      "3               Online\n",
      "4                  ATM\n",
      "             ...      \n",
      "5495               ATM\n",
      "5496               POS\n",
      "5497            Online\n",
      "5498               ATM\n",
      "5499    Mobile Payment\n",
      "Name: Transaction_Type, Length: 5500, dtype: object\n"
     ]
    }
   ],
   "source": [
    "print(data.iloc[:,3])"
   ]
  },
  {
   "cell_type": "code",
   "execution_count": 20,
   "id": "10b63fee",
   "metadata": {},
   "outputs": [
    {
     "name": "stdout",
     "output_type": "stream",
     "text": [
      "Transaction_ID                    100005\n",
      "Customer_ID                         4096\n",
      "Transaction_Date              2023-01-01\n",
      "Transaction_Type                     ATM\n",
      "Merchant                            Uber\n",
      "Category                       Groceries\n",
      "Amount                           2032.91\n",
      "Payment_Mode                         UPI\n",
      "Transaction_Status              Approved\n",
      "Location              West Patriciamouth\n",
      "Name: 5, dtype: object\n"
     ]
    }
   ],
   "source": [
    "# row by label\n",
    "print(data.loc[5])"
   ]
  },
  {
   "cell_type": "code",
   "execution_count": 21,
   "id": "78a2ac1b",
   "metadata": {},
   "outputs": [
    {
     "name": "stdout",
     "output_type": "stream",
     "text": [
      "     Amount            Location\n",
      "0   4520.70           Jonesport\n",
      "1   1437.85       Port Jennifer\n",
      "2   3320.52          Port James\n",
      "3   2659.96          Hawkinston\n",
      "4   2517.07         Matthewland\n",
      "5   2032.91  West Patriciamouth\n",
      "6   2309.06           Scottport\n",
      "7    334.82            Shawview\n",
      "8    374.29        Port Lindsay\n",
      "9   1117.12      Lake Steveport\n",
      "10  1908.74         Ginachester\n"
     ]
    }
   ],
   "source": [
    "# row 0 - 10 and columns 'Amount' and 'Location'\n",
    "print(data.loc[0:10, ['Amount','Location']])"
   ]
  },
  {
   "cell_type": "code",
   "execution_count": 22,
   "id": "35cad8e5",
   "metadata": {},
   "outputs": [
    {
     "name": "stdout",
     "output_type": "stream",
     "text": [
      "      Transaction_ID  Customer_ID Transaction_Date Transaction_Type  \\\n",
      "0             100000         4452       2023-01-01           Online   \n",
      "11            100011         4816       2023-01-01   Mobile Payment   \n",
      "20            100020         1337       2023-01-01              POS   \n",
      "22            100022         3057       2023-01-01           Online   \n",
      "24            100024         2551       2023-01-02              ATM   \n",
      "...              ...          ...              ...              ...   \n",
      "5465          105465         3262       2023-08-16   Mobile Payment   \n",
      "5481          105481         1685       2023-08-17   Mobile Payment   \n",
      "5491          105491         3258       2023-08-17   Mobile Payment   \n",
      "5495          105495         3262       2023-08-17              ATM   \n",
      "5496          105496         1234       2023-08-18              POS   \n",
      "\n",
      "         Merchant       Category   Amount Payment_Mode Transaction_Status  \\\n",
      "0         Walmart         Travel  4520.70   Debit Card           Approved   \n",
      "11        Netflix      Groceries  4530.51       PayPal           Approved   \n",
      "20           Uber         Dining  4684.13       PayPal           Approved   \n",
      "22        BestBuy      Groceries  4094.49       PayPal           Approved   \n",
      "24           Uber      Groceries  4013.36   Debit Card           Approved   \n",
      "...           ...            ...      ...          ...                ...   \n",
      "5465      BestBuy      Groceries  4069.02  Credit Card           Approved   \n",
      "5481      Netflix  Entertainment  4518.16  Credit Card           Approved   \n",
      "5491      Netflix      Groceries  4860.84   Debit Card           Approved   \n",
      "5495  Apple Store         Travel  4554.82   Debit Card           Approved   \n",
      "5496         Uber         Travel  4118.51   Debit Card           Approved   \n",
      "\n",
      "              Location  \n",
      "0            Jonesport  \n",
      "11        Petersonbury  \n",
      "20       Nicholsonside  \n",
      "22        West Kenneth  \n",
      "24        Timothyville  \n",
      "...                ...  \n",
      "5465         Arnoldton  \n",
      "5481     West Judystad  \n",
      "5491        West James  \n",
      "5495  South Hannahtown  \n",
      "5496    South Courtney  \n",
      "\n",
      "[1110 rows x 10 columns]\n"
     ]
    }
   ],
   "source": [
    "# conditional selection\n",
    "\n",
    "# print rows where Amount > 4000\n",
    "\n",
    "print(data[data['Amount'] > 4000])"
   ]
  },
  {
   "cell_type": "code",
   "execution_count": 23,
   "id": "368f1356",
   "metadata": {},
   "outputs": [],
   "source": [
    "# print row amount > 4000 with  transaction type 'Online'\n",
    "new_record = data[(data['Amount'] > 4000) & (data['Transaction_Type'] == 'Online')]\n",
    "# export new_record to csv\n",
    "new_record.to_csv('new_record.csv', index=False) "
   ]
  },
  {
   "cell_type": "code",
   "execution_count": 24,
   "id": "c207ab2d",
   "metadata": {},
   "outputs": [
    {
     "name": "stdout",
     "output_type": "stream",
     "text": [
      "      Name  Age    city\n",
      "0    Rahul   23   tokya\n",
      "1    Rohan   34   Paris\n",
      "2     Tiya   45  Mumbai\n",
      "3     Riya   67   Surat\n",
      "4    Diana   23    Bhuj\n",
      "5      Joy   24  Jaipur\n",
      "6  Nishant   12    Pune\n",
      "7    Heena   50    Pune\n",
      "8     Deep   22  Mumbai\n"
     ]
    }
   ],
   "source": [
    "# adding and modifying columns\n",
    "\n",
    "data = {\n",
    "    'Name':['Rahul','Rohan','Tiya','Riya','Diana','Joy','Nishant','Heena','Deep'],\n",
    "    'Age' :[23,34,45,67,23,24,12,50,22],\n",
    "    'city':['tokya','Paris','Mumbai','Surat','Bhuj','Jaipur','Pune','Pune','Mumbai']\n",
    "}\n",
    "\n",
    "df = pd.DataFrame(data)\n",
    "print(df)"
   ]
  },
  {
   "cell_type": "code",
   "execution_count": 25,
   "id": "b578b6c5",
   "metadata": {},
   "outputs": [
    {
     "name": "stdout",
     "output_type": "stream",
     "text": [
      "      Name  Age    city  Salary\n",
      "0    Rahul   23   tokya   50000\n",
      "1    Rohan   34   Paris   60000\n",
      "2     Tiya   45  Mumbai   55000\n",
      "3     Riya   67   Surat   70000\n",
      "4    Diana   23    Bhuj   65000\n",
      "5      Joy   24  Jaipur   48000\n",
      "6  Nishant   12    Pune   72000\n",
      "7    Heena   50    Pune   80000\n",
      "8     Deep   22  Mumbai   62000\n"
     ]
    }
   ],
   "source": [
    "# add new column salary \n",
    "\n",
    "df['Salary'] = [50000,60000,55000,70000,65000,48000,72000,80000,62000]\n",
    "print(df)"
   ]
  }
 ],
 "metadata": {
  "kernelspec": {
   "display_name": "Python 3",
   "language": "python",
   "name": "python3"
  },
  "language_info": {
   "codemirror_mode": {
    "name": "ipython",
    "version": 3
   },
   "file_extension": ".py",
   "mimetype": "text/x-python",
   "name": "python",
   "nbconvert_exporter": "python",
   "pygments_lexer": "ipython3",
   "version": "3.13.7"
  }
 },
 "nbformat": 4,
 "nbformat_minor": 5
}
