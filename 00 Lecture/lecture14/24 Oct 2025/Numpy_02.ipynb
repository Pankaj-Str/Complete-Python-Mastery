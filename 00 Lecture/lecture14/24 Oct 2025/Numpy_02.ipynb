{
 "cells": [
  {
   "cell_type": "code",
   "execution_count": 1,
   "id": "e825edde-59dd-423d-ae5f-311ef3cc054a",
   "metadata": {},
   "outputs": [],
   "source": [
    "# %pip install numpy"
   ]
  },
  {
   "cell_type": "code",
   "execution_count": 2,
   "id": "d95a6c08-a32a-40cd-8992-62f1898c9e62",
   "metadata": {},
   "outputs": [],
   "source": [
    "import numpy as np"
   ]
  },
  {
   "cell_type": "code",
   "execution_count": 3,
   "id": "f19c9c7f-3996-43da-b3ec-c327aae2cfda",
   "metadata": {},
   "outputs": [
    {
     "name": "stdout",
     "output_type": "stream",
     "text": [
      "[21 22 23 24 25]\n",
      "24\n",
      "<class 'numpy.ndarray'>\n",
      "(5,)\n",
      "5\n",
      "1\n"
     ]
    }
   ],
   "source": [
    "# array \n",
    "data = np.array([21,22,23,24,25])\n",
    "print(data)\n",
    "print(data[3])\n",
    "print(type(data))\n",
    "print(data.shape)\n",
    "print(data.size)\n",
    "print(data.ndim)"
   ]
  },
  {
   "cell_type": "code",
   "execution_count": 4,
   "id": "a40cda27-1667-4040-b57a-29819a15871e",
   "metadata": {},
   "outputs": [
    {
     "name": "stdout",
     "output_type": "stream",
     "text": [
      "(3, 3)\n",
      "[[21 22 23]\n",
      " [24 25 26]\n",
      " [27 28 29]]\n",
      "25\n",
      "9\n",
      "2\n"
     ]
    }
   ],
   "source": [
    "data = np.array([[21,22,23],[24,25,26],[27,28,29]])\n",
    "print(data.shape)\n",
    "print(data)\n",
    "print(data[1,1])\n",
    "print(data.size)\n",
    "print(data.ndim)"
   ]
  },
  {
   "cell_type": "code",
   "execution_count": 5,
   "id": "5d93645e-197b-4626-99f3-f65f9670aa84",
   "metadata": {},
   "outputs": [
    {
     "name": "stdout",
     "output_type": "stream",
     "text": [
      "(2, 3, 3)\n",
      "18\n",
      "3\n"
     ]
    }
   ],
   "source": [
    "data = np.array([[[21,22,23],[24,25,26],[27,28,29]],\n",
    "                 [[21,22,23],[24,25,26],[27,28,29]]])\n",
    "print(data.shape)\n",
    "print(data.size)\n",
    "print(data.ndim)"
   ]
  },
  {
   "cell_type": "code",
   "execution_count": 6,
   "id": "64e54623-f07d-40fc-9f4d-f7e5112d3f7b",
   "metadata": {},
   "outputs": [
    {
     "name": "stdout",
     "output_type": "stream",
     "text": [
      "(2, 2, 3, 3)\n",
      "36\n",
      "4\n"
     ]
    }
   ],
   "source": [
    "data = np.array([[[[21,22,23],[24,25,26],[27,28,29]],\n",
    "                 [[21,22,23],[24,25,26],[27,28,29]]],\n",
    "               [[[21,22,23],[24,25,26],[27,28,29]],\n",
    "                 [[21,22,23],[24,25,26],[27,28,29]]]])\n",
    "print(data.shape)\n",
    "print(data.size)\n",
    "print(data.ndim)"
   ]
  },
  {
   "cell_type": "code",
   "execution_count": 9,
   "id": "5b83aefe-d0c9-4999-8f5d-9c4ca5e16ef2",
   "metadata": {},
   "outputs": [
    {
     "name": "stdout",
     "output_type": "stream",
     "text": [
      "[0 2 4 6 8]\n"
     ]
    }
   ],
   "source": [
    "# arange(start,stop,step,dtype=None)\n",
    "data = np.arange(0,10,2,dtype=int)\n",
    "print(data)"
   ]
  },
  {
   "cell_type": "code",
   "execution_count": 16,
   "id": "1c153f83",
   "metadata": {},
   "outputs": [
    {
     "name": "stdout",
     "output_type": "stream",
     "text": [
      "[0.5 1.5 2.5 3.5 4.5]\n"
     ]
    }
   ],
   "source": [
    "data = np.arange(0.5,5.5,1.0)\n",
    "print(data)"
   ]
  },
  {
   "cell_type": "code",
   "execution_count": 17,
   "id": "d99d1bb3",
   "metadata": {},
   "outputs": [
    {
     "name": "stdout",
     "output_type": "stream",
     "text": [
      "[10  8  6  4  2]\n"
     ]
    }
   ],
   "source": [
    "data = np.arange(10,0,-2)\n",
    "print(data)"
   ]
  },
  {
   "cell_type": "code",
   "execution_count": 22,
   "id": "8de83162",
   "metadata": {},
   "outputs": [
    {
     "name": "stdout",
     "output_type": "stream",
     "text": [
      "[0. 2. 4. 6. 8.]\n",
      "Step Size :  2.0\n"
     ]
    }
   ],
   "source": [
    "# np.linespace(start,stop,num=50,endpoint=True,restep=False,dtype=None)\n",
    "\n",
    "data , step = np.linspace(0,10,5,endpoint=False,retstep=True)\n",
    "print(data)\n",
    "print(\"Step Size : \",step)"
   ]
  },
  {
   "cell_type": "code",
   "execution_count": null,
   "id": "3d44e007",
   "metadata": {},
   "outputs": [
    {
     "name": "stdout",
     "output_type": "stream",
     "text": [
      "[1.e+01 1.e+04 1.e+07 1.e+10]\n"
     ]
    }
   ],
   "source": [
    "data = np.logspace(1,10,4,base=10)\n",
    "print(data)"
   ]
  }
 ],
 "metadata": {
  "kernelspec": {
   "display_name": "Python 3",
   "language": "python",
   "name": "python3"
  },
  "language_info": {
   "codemirror_mode": {
    "name": "ipython",
    "version": 3
   },
   "file_extension": ".py",
   "mimetype": "text/x-python",
   "name": "python",
   "nbconvert_exporter": "python",
   "pygments_lexer": "ipython3",
   "version": "3.13.3"
  }
 },
 "nbformat": 4,
 "nbformat_minor": 5
}
