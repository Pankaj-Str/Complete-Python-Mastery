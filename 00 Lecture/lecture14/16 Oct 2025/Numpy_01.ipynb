{
 "cells": [
  {
   "cell_type": "code",
   "execution_count": 1,
   "id": "e825edde-59dd-423d-ae5f-311ef3cc054a",
   "metadata": {},
   "outputs": [
    {
     "name": "stdout",
     "output_type": "stream",
     "text": [
      "Requirement already satisfied: numpy in c:\\users\\admin\\anaconda3\\lib\\site-packages (1.26.4)\n",
      "Note: you may need to restart the kernel to use updated packages.\n"
     ]
    }
   ],
   "source": [
    "%pip install numpy"
   ]
  },
  {
   "cell_type": "code",
   "execution_count": 2,
   "id": "d95a6c08-a32a-40cd-8992-62f1898c9e62",
   "metadata": {},
   "outputs": [],
   "source": [
    "import numpy as np"
   ]
  },
  {
   "cell_type": "code",
   "execution_count": 15,
   "id": "f19c9c7f-3996-43da-b3ec-c327aae2cfda",
   "metadata": {},
   "outputs": [
    {
     "name": "stdout",
     "output_type": "stream",
     "text": [
      "[21 22 23 24 25]\n",
      "24\n",
      "<class 'numpy.ndarray'>\n",
      "(5,)\n",
      "5\n",
      "1\n"
     ]
    }
   ],
   "source": [
    "# array \n",
    "data = np.array([21,22,23,24,25])\n",
    "print(data)\n",
    "print(data[3])\n",
    "print(type(data))\n",
    "print(data.shape)\n",
    "print(data.size)\n",
    "print(data.ndim)"
   ]
  },
  {
   "cell_type": "code",
   "execution_count": 14,
   "id": "a40cda27-1667-4040-b57a-29819a15871e",
   "metadata": {},
   "outputs": [
    {
     "name": "stdout",
     "output_type": "stream",
     "text": [
      "(3, 3)\n",
      "[[21 22 23]\n",
      " [24 25 26]\n",
      " [27 28 29]]\n",
      "25\n",
      "9\n",
      "2\n"
     ]
    }
   ],
   "source": [
    "data = np.array([[21,22,23],[24,25,26],[27,28,29]])\n",
    "print(data.shape)\n",
    "print(data)\n",
    "print(data[1,1])\n",
    "print(data.size)\n",
    "print(data.ndim)"
   ]
  },
  {
   "cell_type": "code",
   "execution_count": 19,
   "id": "5d93645e-197b-4626-99f3-f65f9670aa84",
   "metadata": {},
   "outputs": [
    {
     "name": "stdout",
     "output_type": "stream",
     "text": [
      "(2, 3, 3)\n",
      "18\n",
      "3\n"
     ]
    }
   ],
   "source": [
    "data = np.array([[[21,22,23],[24,25,26],[27,28,29]],\n",
    "                 [[21,22,23],[24,25,26],[27,28,29]]])\n",
    "print(data.shape)\n",
    "print(data.size)\n",
    "print(data.ndim)"
   ]
  },
  {
   "cell_type": "code",
   "execution_count": 20,
   "id": "64e54623-f07d-40fc-9f4d-f7e5112d3f7b",
   "metadata": {},
   "outputs": [
    {
     "name": "stdout",
     "output_type": "stream",
     "text": [
      "(2, 2, 3, 3)\n",
      "36\n",
      "4\n"
     ]
    }
   ],
   "source": [
    "data = np.array([[[[21,22,23],[24,25,26],[27,28,29]],\n",
    "                 [[21,22,23],[24,25,26],[27,28,29]]],\n",
    "               [[[21,22,23],[24,25,26],[27,28,29]],\n",
    "                 [[21,22,23],[24,25,26],[27,28,29]]]])\n",
    "print(data.shape)\n",
    "print(data.size)\n",
    "print(data.ndim)"
   ]
  },
  {
   "cell_type": "code",
   "execution_count": null,
   "id": "5b83aefe-d0c9-4999-8f5d-9c4ca5e16ef2",
   "metadata": {},
   "outputs": [],
   "source": []
  }
 ],
 "metadata": {
  "kernelspec": {
   "display_name": "Python 3 (ipykernel)",
   "language": "python",
   "name": "python3"
  },
  "language_info": {
   "codemirror_mode": {
    "name": "ipython",
    "version": 3
   },
   "file_extension": ".py",
   "mimetype": "text/x-python",
   "name": "python",
   "nbconvert_exporter": "python",
   "pygments_lexer": "ipython3",
   "version": "3.12.7"
  }
 },
 "nbformat": 4,
 "nbformat_minor": 5
}
