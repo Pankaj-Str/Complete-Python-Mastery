{
 "cells": [
  {
   "cell_type": "code",
   "execution_count": 1,
   "id": "c9d3c563",
   "metadata": {},
   "outputs": [
    {
     "name": "stdout",
     "output_type": "stream",
     "text": [
      "Defaulting to user installation because normal site-packages is not writeable\n",
      "Requirement already satisfied: numpy in c:\\users\\comp\\appdata\\roaming\\python\\python313\\site-packages (2.3.2)\n",
      "Note: you may need to restart the kernel to use updated packages.\n"
     ]
    },
    {
     "name": "stderr",
     "output_type": "stream",
     "text": [
      "\n",
      "[notice] A new release of pip is available: 25.1.1 -> 25.2\n",
      "[notice] To update, run: python.exe -m pip install --upgrade pip\n"
     ]
    }
   ],
   "source": [
    "%pip install numpy"
   ]
  },
  {
   "cell_type": "code",
   "execution_count": 2,
   "id": "ecc2c6ce",
   "metadata": {},
   "outputs": [
    {
     "data": {
      "text/plain": [
       "'2.3.2'"
      ]
     },
     "execution_count": 2,
     "metadata": {},
     "output_type": "execute_result"
    }
   ],
   "source": [
    "import numpy as np\n",
    "np.__version__"
   ]
  },
  {
   "cell_type": "code",
   "execution_count": 3,
   "id": "287b5fba",
   "metadata": {},
   "outputs": [
    {
     "name": "stdout",
     "output_type": "stream",
     "text": [
      "[21 22 23 24 25]\n",
      "(5,)\n",
      "5\n",
      "1\n",
      "24\n"
     ]
    }
   ],
   "source": [
    "data = np.array([21,22,23,24,25])\n",
    "print(data)\n",
    "print(data.shape)\n",
    "print(data.size)\n",
    "print(data.ndim)\n",
    "\n",
    "# access data from array \n",
    "print(data[3])"
   ]
  },
  {
   "cell_type": "code",
   "execution_count": 4,
   "id": "65276e5b",
   "metadata": {},
   "outputs": [
    {
     "name": "stdout",
     "output_type": "stream",
     "text": [
      "[[21 22 23]\n",
      " [24 25 26]\n",
      " [27 28 29]]\n",
      "(3, 3)\n",
      "9\n",
      "2\n",
      "29\n"
     ]
    }
   ],
   "source": [
    "data = np.array([[21,22,23],[24,25,26],[27,28,29]])\n",
    "print(data)\n",
    "print(data.shape)\n",
    "print(data.size)\n",
    "print(data.ndim)\n",
    "\n",
    "print(data[2,2])"
   ]
  },
  {
   "cell_type": "code",
   "execution_count": 5,
   "id": "77e0f7dd",
   "metadata": {},
   "outputs": [
    {
     "name": "stdout",
     "output_type": "stream",
     "text": [
      "[0 2 4 6 8]\n",
      "[0.5 1.5 2.5 3.5 4.5]\n",
      "[10  8  6  4  2]\n"
     ]
    }
   ],
   "source": [
    "# Generating an array of even numbers from 0 to 10 (exclusive), useful for indexing or loops.\n",
    "arr = np.arange(0, 10, 2, dtype=int)\n",
    "print(arr)\n",
    "\n",
    "# Variation: Floating-point steps for non-integer sequences\n",
    "arr_float = np.arange(0.5, 5.5, 1.0)\n",
    "print(arr_float)\n",
    "\n",
    "# Edge case: Negative step for descending order\n",
    "arr_desc = np.arange(10, 0, -2)\n",
    "print(arr_desc)"
   ]
  },
  {
   "cell_type": "code",
   "execution_count": 14,
   "id": "6e6494fe",
   "metadata": {},
   "outputs": [
    {
     "name": "stdout",
     "output_type": "stream",
     "text": [
      "[ 0.   2.5  5.   7.5 10. ]\n",
      "Step size: 2.5\n"
     ]
    }
   ],
   "source": [
    "# Creating 5 evenly spaced points from 0 to 10, including endpoint. Useful for plotting functions.\n",
    "arr, step = np.linspace(0, 10, 5, endpoint=True, retstep=True)\n",
    "print(arr)\n",
    "print(\"Step size:\", step)"
   ]
  },
  {
   "cell_type": "code",
   "execution_count": 17,
   "id": "ed82964f",
   "metadata": {},
   "outputs": [
    {
     "name": "stdout",
     "output_type": "stream",
     "text": [
      "[1.]\n"
     ]
    }
   ],
   "source": [
    "# Edge case: Single point (num=1)\n",
    "single = np.linspace(1, 5, 1)\n",
    "print(single)"
   ]
  },
  {
   "cell_type": "code",
   "execution_count": 18,
   "id": "73ef3210",
   "metadata": {},
   "outputs": [
    {
     "name": "stdout",
     "output_type": "stream",
     "text": [
      "[  10.           46.41588834  215.443469   1000.        ]\n",
      "[1. 2. 4. 8.]\n",
      "[  1.           5.62341325  31.6227766  177.827941  ]\n"
     ]
    }
   ],
   "source": [
    "\n",
    "\n",
    "# Generating 4 log-spaced points from 10^1 to 10^3 (base 10). Useful for logarithmic scales in data analysis.\n",
    "arr = np.logspace(1, 3, 4, base=10)\n",
    "print(arr)\n",
    "\n",
    "# Variation: Base 2 for binary exponents\n",
    "arr_base2 = np.logspace(0, 3, 4, base=2)\n",
    "print(arr_base2)\n",
    "\n",
    "# Edge case: Excluding endpoint\n",
    "arr_no_end = np.logspace(0, 3, 4, endpoint=False)\n",
    "print(arr_no_end)"
   ]
  },
  {
   "cell_type": "code",
   "execution_count": 19,
   "id": "5c789055",
   "metadata": {},
   "outputs": [
    {
     "name": "stdout",
     "output_type": "stream",
     "text": [
      "[[0 0 0]\n",
      " [0 0 0]]\n",
      "[[[0. 0.]\n",
      "  [0. 0.]]\n",
      "\n",
      " [[0. 0.]\n",
      "  [0. 0.]]]\n",
      "0.0\n"
     ]
    }
   ],
   "source": [
    "# Creating a 2x3 zero matrix, useful for initializing weights in ML or placeholders.\n",
    "arr = np.zeros((2, 3), dtype=int)\n",
    "print(arr)\n",
    "\n",
    "# Variation: 3D array\n",
    "arr_3d = np.zeros((2, 2, 2))\n",
    "print(arr_3d)\n",
    "\n",
    "# Edge case: Scalar shape (0D)\n",
    "scalar_zero = np.zeros(())\n",
    "print(scalar_zero)"
   ]
  },
  {
   "cell_type": "code",
   "execution_count": 20,
   "id": "3aa24124",
   "metadata": {},
   "outputs": [
    {
     "name": "stdout",
     "output_type": "stream",
     "text": [
      "[[1. 1.]\n",
      " [1. 1.]\n",
      " [1. 1.]]\n"
     ]
    }
   ],
   "source": [
    "import numpy as np\n",
    "\n",
    "# Creating a 3x2 ones array, useful for bias terms or masks.\n",
    "arr = np.ones((3, 2), dtype=float)\n",
    "print(arr)\n"
   ]
  },
  {
   "cell_type": "code",
   "execution_count": null,
   "id": "eddf8b0d",
   "metadata": {},
   "outputs": [],
   "source": [
    "# Variation: Integer dtype for counting\n",
    "arr_int = np.ones((2,), dtype=int)\n",
    "print(arr_int)"
   ]
  }
 ],
 "metadata": {
  "kernelspec": {
   "display_name": "Python 3",
   "language": "python",
   "name": "python3"
  },
  "language_info": {
   "codemirror_mode": {
    "name": "ipython",
    "version": 3
   },
   "file_extension": ".py",
   "mimetype": "text/x-python",
   "name": "python",
   "nbconvert_exporter": "python",
   "pygments_lexer": "ipython3",
   "version": "3.14.0"
  }
 },
 "nbformat": 4,
 "nbformat_minor": 5
}
