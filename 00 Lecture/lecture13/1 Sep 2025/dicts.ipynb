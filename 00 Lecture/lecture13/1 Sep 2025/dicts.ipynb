{
 "cells": [
  {
   "cell_type": "code",
   "execution_count": null,
   "id": "6213980d",
   "metadata": {},
   "outputs": [],
   "source": [
    "# name = {key:value,key:value}\n",
    "\n",
    "data = {\"name\":\"Joy\",\"age\":23,\"height\":4.5}\n",
    "\n",
    "print(data)"
   ]
  },
  {
   "cell_type": "code",
   "execution_count": null,
   "id": "97965da1",
   "metadata": {},
   "outputs": [],
   "source": [
    "# access single value\n",
    "print(data['name'])"
   ]
  },
  {
   "cell_type": "code",
   "execution_count": null,
   "id": "83fb1e37",
   "metadata": {},
   "outputs": [],
   "source": [
    "# update data\n",
    "data['age'] = 54\n",
    "print(data)"
   ]
  },
  {
   "cell_type": "code",
   "execution_count": null,
   "id": "752ea296",
   "metadata": {},
   "outputs": [],
   "source": [
    "# delete \n",
    "data.pop(\"age\")\n",
    "\n",
    "print(data)"
   ]
  },
  {
   "cell_type": "code",
   "execution_count": null,
   "id": "0adc35c8",
   "metadata": {},
   "outputs": [],
   "source": [
    "# add new item into dict..\n",
    "\n",
    "data['city'] = \"mumbai\"\n",
    "print(data)"
   ]
  },
  {
   "cell_type": "code",
   "execution_count": null,
   "id": "1b88438d",
   "metadata": {},
   "outputs": [],
   "source": [
    "# keys(): Returns a list of all keys in the dictionary.\n",
    "print(data.keys())\n",
    "# values(): Returns a list of all values in the dictionary.\n",
    "print(data.values())\n",
    "# items(): Returns a list of key-value pairs as tuples.\n",
    "print(data.items())\n",
    "# get(key, default): Returns the value for a key if it exists, else returns a default value\n",
    "print(data.get(\"name\"))\n",
    "# pop(key, default): Removes and returns the value associated with the key."
   ]
  },
  {
   "cell_type": "code",
   "execution_count": null,
   "id": "ea260d63",
   "metadata": {},
   "outputs": [],
   "source": [
    "# print using loop -\n",
    "\n",
    "for i in data:\n",
    "    print(i,' = ',data[i])"
   ]
  }
 ],
 "metadata": {
  "kernelspec": {
   "display_name": "Python 3",
   "language": "python",
   "name": "python3"
  },
  "language_info": {
   "codemirror_mode": {
    "name": "ipython",
    "version": 3
   },
   "file_extension": ".py",
   "mimetype": "text/x-python",
   "name": "python",
   "nbconvert_exporter": "python",
   "pygments_lexer": "ipython3",
   "version": "3.13.5"
  }
 },
 "nbformat": 4,
 "nbformat_minor": 5
}
