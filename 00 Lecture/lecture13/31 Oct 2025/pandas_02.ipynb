{
 "cells": [
  {
   "cell_type": "code",
   "execution_count": 1,
   "id": "3022fee3",
   "metadata": {},
   "outputs": [
    {
     "name": "stdout",
     "output_type": "stream",
     "text": [
      "Requirement already satisfied: pandas in c:\\users\\comp\\appdata\\local\\programs\\python\\python314\\lib\\site-packages (2.3.3)\n",
      "Requirement already satisfied: numpy>=1.26.0 in c:\\users\\comp\\appdata\\local\\programs\\python\\python314\\lib\\site-packages (from pandas) (2.3.4)\n",
      "Requirement already satisfied: python-dateutil>=2.8.2 in c:\\users\\comp\\appdata\\roaming\\python\\python314\\site-packages (from pandas) (2.9.0.post0)\n",
      "Requirement already satisfied: pytz>=2020.1 in c:\\users\\comp\\appdata\\local\\programs\\python\\python314\\lib\\site-packages (from pandas) (2025.2)\n",
      "Requirement already satisfied: tzdata>=2022.7 in c:\\users\\comp\\appdata\\local\\programs\\python\\python314\\lib\\site-packages (from pandas) (2025.2)\n",
      "Requirement already satisfied: six>=1.5 in c:\\users\\comp\\appdata\\roaming\\python\\python314\\site-packages (from python-dateutil>=2.8.2->pandas) (1.17.0)\n",
      "Note: you may need to restart the kernel to use updated packages.\n"
     ]
    },
    {
     "name": "stderr",
     "output_type": "stream",
     "text": [
      "\n",
      "[notice] A new release of pip is available: 25.2 -> 25.3\n",
      "[notice] To update, run: python.exe -m pip install --upgrade pip\n"
     ]
    }
   ],
   "source": [
    "# install pandas \n",
    "%pip install pandas"
   ]
  },
  {
   "cell_type": "code",
   "execution_count": 2,
   "id": "f10876f6",
   "metadata": {},
   "outputs": [
    {
     "name": "stdout",
     "output_type": "stream",
     "text": [
      "2.3.3\n"
     ]
    }
   ],
   "source": [
    "import pandas as pd\n",
    "\n",
    "print(pd.__version__)"
   ]
  },
  {
   "cell_type": "code",
   "execution_count": 3,
   "id": "9fff86ee",
   "metadata": {},
   "outputs": [
    {
     "name": "stdout",
     "output_type": "stream",
     "text": [
      "0     apple\n",
      "1    orange\n",
      "2    banana\n",
      "3      kivi\n",
      "dtype: object\n"
     ]
    }
   ],
   "source": [
    "data = [\"apple\",\"orange\",\"banana\",\"kivi\"]\n",
    "s = pd.Series(data)\n",
    "print(s)"
   ]
  },
  {
   "cell_type": "code",
   "execution_count": 4,
   "id": "13ea3101",
   "metadata": {},
   "outputs": [
    {
     "name": "stdout",
     "output_type": "stream",
     "text": [
      "kivi\n"
     ]
    }
   ],
   "source": [
    "# access data from index\n",
    "\n",
    "print(data[3])"
   ]
  },
  {
   "cell_type": "code",
   "execution_count": 5,
   "id": "1f42db68",
   "metadata": {},
   "outputs": [
    {
     "name": "stdout",
     "output_type": "stream",
     "text": [
      "a     apple\n",
      "b    orange\n",
      "c    banana\n",
      "d      kivi\n",
      "dtype: object\n"
     ]
    }
   ],
   "source": [
    "indexx = ['a','b','c','d']\n",
    "s = pd.Series(data,index=indexx)\n",
    "print(s)"
   ]
  },
  {
   "cell_type": "code",
   "execution_count": 6,
   "id": "12a86449",
   "metadata": {},
   "outputs": [
    {
     "name": "stdout",
     "output_type": "stream",
     "text": [
      "      name  age    city\n",
      "0      joy   23  mumbai\n",
      "1  Nishant   45    pune\n",
      "2    ronak   67  jaipur\n",
      "3     tiya   12    bhuj\n",
      "4     riya   22   surat\n",
      "        name  age    city\n",
      "101      joy   23  mumbai\n",
      "102  Nishant   45    pune\n",
      "103    ronak   67  jaipur\n",
      "104     tiya   12    bhuj\n",
      "105     riya   22   surat\n"
     ]
    }
   ],
   "source": [
    "# pd.DataFrame\n",
    "\n",
    "students = {\n",
    "    \"name\":['joy','Nishant','ronak','tiya','riya'],\n",
    "    \"age\":[23,45,67,12,22],\n",
    "    \"city\":['mumbai','pune','jaipur','bhuj','surat']\n",
    "}\n",
    "\n",
    "df = pd.DataFrame(students)\n",
    "print(df)\n",
    "\n",
    "# change index \n",
    "\n",
    "indexx = [101,102,103,104,105]\n",
    "\n",
    "df = pd.DataFrame(students,index=indexx)\n",
    "print(df)\n",
    "\n",
    "df.to_csv('student.csv',index=False)"
   ]
  },
  {
   "cell_type": "code",
   "execution_count": 7,
   "id": "d2cabbd7",
   "metadata": {},
   "outputs": [
    {
     "name": "stdout",
     "output_type": "stream",
     "text": [
      "  Customer ID Customer Name   Segment           City    Sales  Quantity  \\\n",
      "0    AA-10315    Alex Avila  Consumer    Minneapolis  362.940         3   \n",
      "1    AA-10315    Alex Avila  Consumer  San Francisco   52.980         2   \n",
      "2    AA-10315    Alex Avila  Consumer  San Francisco  673.568         2   \n",
      "3    AA-10315    Alex Avila  Consumer    Minneapolis   11.540         2   \n",
      "4    AA-10315    Alex Avila  Consumer  San Francisco   26.960         2   \n",
      "\n",
      "     Profit  \n",
      "0   90.7350  \n",
      "1   14.8344  \n",
      "2  252.5880  \n",
      "3    5.7700  \n",
      "4    7.0096  \n"
     ]
    }
   ],
   "source": [
    "# read CSV file\n",
    "\n",
    "data = pd.read_csv(\"data.csv\")\n",
    "# top 5 record (row)\n",
    "print(data.head(5))"
   ]
  },
  {
   "cell_type": "markdown",
   "id": "cdcec8de",
   "metadata": {},
   "source": [
    "# basic Inspection\n",
    "- head() -> First 5 row\n",
    "- tail() -> last 5 row\n",
    "- info() -> Datatype , and non null counts\n",
    "- describe() -> Statistical Summary\n",
    "- shape -> column and row\n",
    "- index -> row indices \n",
    "# Selecting data \n",
    "- columns\n",
    "- row by index \n",
    "- row by label\n",
    "- conditional selection  "
   ]
  },
  {
   "cell_type": "code",
   "execution_count": 9,
   "id": "38dc4724",
   "metadata": {},
   "outputs": [
    {
     "name": "stdout",
     "output_type": "stream",
     "text": [
      "  Customer ID Customer Name   Segment           City     Sales  Quantity  \\\n",
      "0    AA-10315    Alex Avila  Consumer    Minneapolis   362.940         3   \n",
      "1    AA-10315    Alex Avila  Consumer  San Francisco    52.980         2   \n",
      "2    AA-10315    Alex Avila  Consumer  San Francisco   673.568         2   \n",
      "3    AA-10315    Alex Avila  Consumer    Minneapolis    11.540         2   \n",
      "4    AA-10315    Alex Avila  Consumer  San Francisco    26.960         2   \n",
      "5    AA-10315    Alex Avila  Consumer     Round Rock  3930.072         3   \n",
      "6    AA-10315    Alex Avila  Consumer     Round Rock     2.304         1   \n",
      "\n",
      "     Profit  \n",
      "0   90.7350  \n",
      "1   14.8344  \n",
      "2  252.5880  \n",
      "3    5.7700  \n",
      "4    7.0096  \n",
      "5 -786.0144  \n",
      "6    0.7776  \n"
     ]
    }
   ],
   "source": [
    "# head() -> First 5 row\n",
    "print(data.head(7))"
   ]
  },
  {
   "cell_type": "code",
   "execution_count": 10,
   "id": "2c57cb8e",
   "metadata": {},
   "outputs": [
    {
     "data": {
      "text/html": [
       "<div>\n",
       "<style scoped>\n",
       "    .dataframe tbody tr th:only-of-type {\n",
       "        vertical-align: middle;\n",
       "    }\n",
       "\n",
       "    .dataframe tbody tr th {\n",
       "        vertical-align: top;\n",
       "    }\n",
       "\n",
       "    .dataframe thead th {\n",
       "        text-align: right;\n",
       "    }\n",
       "</style>\n",
       "<table border=\"1\" class=\"dataframe\">\n",
       "  <thead>\n",
       "    <tr style=\"text-align: right;\">\n",
       "      <th></th>\n",
       "      <th>Customer ID</th>\n",
       "      <th>Customer Name</th>\n",
       "      <th>Segment</th>\n",
       "      <th>City</th>\n",
       "      <th>Sales</th>\n",
       "      <th>Quantity</th>\n",
       "      <th>Profit</th>\n",
       "    </tr>\n",
       "  </thead>\n",
       "  <tbody>\n",
       "    <tr>\n",
       "      <th>9989</th>\n",
       "      <td>ZD-21925</td>\n",
       "      <td>Zuschuss Donatelli</td>\n",
       "      <td>Consumer</td>\n",
       "      <td>San Francisco</td>\n",
       "      <td>22.720</td>\n",
       "      <td>4</td>\n",
       "      <td>7.3840</td>\n",
       "    </tr>\n",
       "    <tr>\n",
       "      <th>9990</th>\n",
       "      <td>ZD-21925</td>\n",
       "      <td>Zuschuss Donatelli</td>\n",
       "      <td>Consumer</td>\n",
       "      <td>Jacksonville</td>\n",
       "      <td>15.984</td>\n",
       "      <td>2</td>\n",
       "      <td>4.9950</td>\n",
       "    </tr>\n",
       "    <tr>\n",
       "      <th>9991</th>\n",
       "      <td>ZD-21925</td>\n",
       "      <td>Zuschuss Donatelli</td>\n",
       "      <td>Consumer</td>\n",
       "      <td>Richmond</td>\n",
       "      <td>259.960</td>\n",
       "      <td>4</td>\n",
       "      <td>124.7808</td>\n",
       "    </tr>\n",
       "    <tr>\n",
       "      <th>9992</th>\n",
       "      <td>ZD-21925</td>\n",
       "      <td>Zuschuss Donatelli</td>\n",
       "      <td>Consumer</td>\n",
       "      <td>Richmond</td>\n",
       "      <td>71.120</td>\n",
       "      <td>4</td>\n",
       "      <td>22.0472</td>\n",
       "    </tr>\n",
       "    <tr>\n",
       "      <th>9993</th>\n",
       "      <td>ZD-21925</td>\n",
       "      <td>Zuschuss Donatelli</td>\n",
       "      <td>Consumer</td>\n",
       "      <td>Los Angeles</td>\n",
       "      <td>61.440</td>\n",
       "      <td>3</td>\n",
       "      <td>16.5888</td>\n",
       "    </tr>\n",
       "  </tbody>\n",
       "</table>\n",
       "</div>"
      ],
      "text/plain": [
       "     Customer ID       Customer Name   Segment           City    Sales  \\\n",
       "9989    ZD-21925  Zuschuss Donatelli  Consumer  San Francisco   22.720   \n",
       "9990    ZD-21925  Zuschuss Donatelli  Consumer   Jacksonville   15.984   \n",
       "9991    ZD-21925  Zuschuss Donatelli  Consumer       Richmond  259.960   \n",
       "9992    ZD-21925  Zuschuss Donatelli  Consumer       Richmond   71.120   \n",
       "9993    ZD-21925  Zuschuss Donatelli  Consumer    Los Angeles   61.440   \n",
       "\n",
       "      Quantity    Profit  \n",
       "9989         4    7.3840  \n",
       "9990         2    4.9950  \n",
       "9991         4  124.7808  \n",
       "9992         4   22.0472  \n",
       "9993         3   16.5888  "
      ]
     },
     "execution_count": 10,
     "metadata": {},
     "output_type": "execute_result"
    }
   ],
   "source": [
    "# tail() -> last 5 row\n",
    "data.tail()"
   ]
  },
  {
   "cell_type": "code",
   "execution_count": 12,
   "id": "6c333945",
   "metadata": {},
   "outputs": [
    {
     "name": "stdout",
     "output_type": "stream",
     "text": [
      "<class 'pandas.core.frame.DataFrame'>\n",
      "RangeIndex: 9994 entries, 0 to 9993\n",
      "Data columns (total 7 columns):\n",
      " #   Column         Non-Null Count  Dtype  \n",
      "---  ------         --------------  -----  \n",
      " 0   Customer ID    9994 non-null   object \n",
      " 1   Customer Name  9994 non-null   object \n",
      " 2   Segment        9994 non-null   object \n",
      " 3   City           9994 non-null   object \n",
      " 4   Sales          9994 non-null   float64\n",
      " 5   Quantity       9994 non-null   int64  \n",
      " 6   Profit         9994 non-null   float64\n",
      "dtypes: float64(2), int64(1), object(4)\n",
      "memory usage: 546.7+ KB\n"
     ]
    }
   ],
   "source": [
    "# info() -> Datatype , and non null counts\n",
    "data.info()"
   ]
  },
  {
   "cell_type": "code",
   "execution_count": 13,
   "id": "63f0a352",
   "metadata": {},
   "outputs": [
    {
     "data": {
      "text/html": [
       "<div>\n",
       "<style scoped>\n",
       "    .dataframe tbody tr th:only-of-type {\n",
       "        vertical-align: middle;\n",
       "    }\n",
       "\n",
       "    .dataframe tbody tr th {\n",
       "        vertical-align: top;\n",
       "    }\n",
       "\n",
       "    .dataframe thead th {\n",
       "        text-align: right;\n",
       "    }\n",
       "</style>\n",
       "<table border=\"1\" class=\"dataframe\">\n",
       "  <thead>\n",
       "    <tr style=\"text-align: right;\">\n",
       "      <th></th>\n",
       "      <th>Sales</th>\n",
       "      <th>Quantity</th>\n",
       "      <th>Profit</th>\n",
       "    </tr>\n",
       "  </thead>\n",
       "  <tbody>\n",
       "    <tr>\n",
       "      <th>count</th>\n",
       "      <td>9994.000000</td>\n",
       "      <td>9994.000000</td>\n",
       "      <td>9994.000000</td>\n",
       "    </tr>\n",
       "    <tr>\n",
       "      <th>mean</th>\n",
       "      <td>229.858001</td>\n",
       "      <td>3.789574</td>\n",
       "      <td>28.656896</td>\n",
       "    </tr>\n",
       "    <tr>\n",
       "      <th>std</th>\n",
       "      <td>623.245101</td>\n",
       "      <td>2.225110</td>\n",
       "      <td>234.260108</td>\n",
       "    </tr>\n",
       "    <tr>\n",
       "      <th>min</th>\n",
       "      <td>0.444000</td>\n",
       "      <td>1.000000</td>\n",
       "      <td>-6599.978000</td>\n",
       "    </tr>\n",
       "    <tr>\n",
       "      <th>25%</th>\n",
       "      <td>17.280000</td>\n",
       "      <td>2.000000</td>\n",
       "      <td>1.728750</td>\n",
       "    </tr>\n",
       "    <tr>\n",
       "      <th>50%</th>\n",
       "      <td>54.490000</td>\n",
       "      <td>3.000000</td>\n",
       "      <td>8.666500</td>\n",
       "    </tr>\n",
       "    <tr>\n",
       "      <th>75%</th>\n",
       "      <td>209.940000</td>\n",
       "      <td>5.000000</td>\n",
       "      <td>29.364000</td>\n",
       "    </tr>\n",
       "    <tr>\n",
       "      <th>max</th>\n",
       "      <td>22638.480000</td>\n",
       "      <td>14.000000</td>\n",
       "      <td>8399.976000</td>\n",
       "    </tr>\n",
       "  </tbody>\n",
       "</table>\n",
       "</div>"
      ],
      "text/plain": [
       "              Sales     Quantity       Profit\n",
       "count   9994.000000  9994.000000  9994.000000\n",
       "mean     229.858001     3.789574    28.656896\n",
       "std      623.245101     2.225110   234.260108\n",
       "min        0.444000     1.000000 -6599.978000\n",
       "25%       17.280000     2.000000     1.728750\n",
       "50%       54.490000     3.000000     8.666500\n",
       "75%      209.940000     5.000000    29.364000\n",
       "max    22638.480000    14.000000  8399.976000"
      ]
     },
     "execution_count": 13,
     "metadata": {},
     "output_type": "execute_result"
    }
   ],
   "source": [
    "# describe() -> Statistical Summary\n",
    "data.describe()"
   ]
  },
  {
   "cell_type": "code",
   "execution_count": null,
   "id": "440c1d2c",
   "metadata": {},
   "outputs": [
    {
     "data": {
      "text/plain": [
       "(9994, 7)"
      ]
     },
     "execution_count": 15,
     "metadata": {},
     "output_type": "execute_result"
    }
   ],
   "source": [
    "# shape -> column and row\n",
    "data.shape # (9994, 7) (column,row)"
   ]
  },
  {
   "cell_type": "code",
   "execution_count": 16,
   "id": "4dea5190",
   "metadata": {},
   "outputs": [
    {
     "data": {
      "text/plain": [
       "RangeIndex(start=0, stop=9994, step=1)"
      ]
     },
     "execution_count": 16,
     "metadata": {},
     "output_type": "execute_result"
    }
   ],
   "source": [
    "# index -> row indices \n",
    "data.index"
   ]
  },
  {
   "cell_type": "markdown",
   "id": "9b25175d",
   "metadata": {},
   "source": [
    "# Selecting data \n",
    "1. columns\n",
    "2. row by index \n",
    "3. row by label\n",
    "4. conditional selection  "
   ]
  },
  {
   "cell_type": "code",
   "execution_count": 21,
   "id": "439d0a26",
   "metadata": {},
   "outputs": [
    {
     "name": "stdout",
     "output_type": "stream",
     "text": [
      "Index(['Customer ID', 'Customer Name', 'Segment', 'City', 'Sales', 'Quantity',\n",
      "       'Profit'],\n",
      "      dtype='object')\n",
      "0    Alex Avila\n",
      "1    Alex Avila\n",
      "2    Alex Avila\n",
      "3    Alex Avila\n",
      "4    Alex Avila\n",
      "Name: Customer Name, dtype: object\n",
      "  Customer Name    Sales\n",
      "0    Alex Avila  362.940\n",
      "1    Alex Avila   52.980\n",
      "2    Alex Avila  673.568\n",
      "3    Alex Avila   11.540\n",
      "4    Alex Avila   26.960\n"
     ]
    }
   ],
   "source": [
    "print(data.columns)\n",
    "\n",
    "# select only customer name column \n",
    "print(data['Customer Name'].head())\n",
    "\n",
    "# multiple column\n",
    "print(data[['Customer Name','Sales']].head())\n"
   ]
  },
  {
   "cell_type": "code",
   "execution_count": 23,
   "id": "06247d03",
   "metadata": {},
   "outputs": [
    {
     "data": {
      "text/plain": [
       "Customer ID         AA-10315\n",
       "Customer Name     Alex Avila\n",
       "Segment             Consumer\n",
       "City             Minneapolis\n",
       "Sales                 362.94\n",
       "Quantity                   3\n",
       "Profit                90.735\n",
       "Name: 0, dtype: object"
      ]
     },
     "execution_count": 23,
     "metadata": {},
     "output_type": "execute_result"
    }
   ],
   "source": [
    "# row by index \n",
    "data.iloc[0]"
   ]
  },
  {
   "cell_type": "code",
   "execution_count": 24,
   "id": "a50c6f0e",
   "metadata": {},
   "outputs": [
    {
     "data": {
      "text/html": [
       "<div>\n",
       "<style scoped>\n",
       "    .dataframe tbody tr th:only-of-type {\n",
       "        vertical-align: middle;\n",
       "    }\n",
       "\n",
       "    .dataframe tbody tr th {\n",
       "        vertical-align: top;\n",
       "    }\n",
       "\n",
       "    .dataframe thead th {\n",
       "        text-align: right;\n",
       "    }\n",
       "</style>\n",
       "<table border=\"1\" class=\"dataframe\">\n",
       "  <thead>\n",
       "    <tr style=\"text-align: right;\">\n",
       "      <th></th>\n",
       "      <th>Customer ID</th>\n",
       "      <th>Customer Name</th>\n",
       "      <th>Segment</th>\n",
       "      <th>City</th>\n",
       "      <th>Sales</th>\n",
       "      <th>Quantity</th>\n",
       "      <th>Profit</th>\n",
       "    </tr>\n",
       "  </thead>\n",
       "  <tbody>\n",
       "    <tr>\n",
       "      <th>10</th>\n",
       "      <td>AA-10315</td>\n",
       "      <td>Alex Avila</td>\n",
       "      <td>Consumer</td>\n",
       "      <td>New York City</td>\n",
       "      <td>14.560</td>\n",
       "      <td>2</td>\n",
       "      <td>6.2608</td>\n",
       "    </tr>\n",
       "    <tr>\n",
       "      <th>11</th>\n",
       "      <td>AA-10375</td>\n",
       "      <td>Allen Armold</td>\n",
       "      <td>Consumer</td>\n",
       "      <td>Providence</td>\n",
       "      <td>16.900</td>\n",
       "      <td>5</td>\n",
       "      <td>7.7740</td>\n",
       "    </tr>\n",
       "    <tr>\n",
       "      <th>12</th>\n",
       "      <td>AA-10375</td>\n",
       "      <td>Allen Armold</td>\n",
       "      <td>Consumer</td>\n",
       "      <td>Providence</td>\n",
       "      <td>39.960</td>\n",
       "      <td>2</td>\n",
       "      <td>18.7812</td>\n",
       "    </tr>\n",
       "    <tr>\n",
       "      <th>13</th>\n",
       "      <td>AA-10375</td>\n",
       "      <td>Allen Armold</td>\n",
       "      <td>Consumer</td>\n",
       "      <td>Los Angeles</td>\n",
       "      <td>16.520</td>\n",
       "      <td>5</td>\n",
       "      <td>5.5755</td>\n",
       "    </tr>\n",
       "    <tr>\n",
       "      <th>14</th>\n",
       "      <td>AA-10375</td>\n",
       "      <td>Allen Armold</td>\n",
       "      <td>Consumer</td>\n",
       "      <td>Atlanta</td>\n",
       "      <td>8.260</td>\n",
       "      <td>2</td>\n",
       "      <td>3.8822</td>\n",
       "    </tr>\n",
       "    <tr>\n",
       "      <th>15</th>\n",
       "      <td>AA-10375</td>\n",
       "      <td>Allen Armold</td>\n",
       "      <td>Consumer</td>\n",
       "      <td>Atlanta</td>\n",
       "      <td>499.980</td>\n",
       "      <td>2</td>\n",
       "      <td>114.9954</td>\n",
       "    </tr>\n",
       "    <tr>\n",
       "      <th>16</th>\n",
       "      <td>AA-10375</td>\n",
       "      <td>Allen Armold</td>\n",
       "      <td>Consumer</td>\n",
       "      <td>Salem</td>\n",
       "      <td>5.248</td>\n",
       "      <td>2</td>\n",
       "      <td>0.5904</td>\n",
       "    </tr>\n",
       "    <tr>\n",
       "      <th>17</th>\n",
       "      <td>AA-10375</td>\n",
       "      <td>Allen Armold</td>\n",
       "      <td>Consumer</td>\n",
       "      <td>Omaha</td>\n",
       "      <td>28.400</td>\n",
       "      <td>2</td>\n",
       "      <td>11.0760</td>\n",
       "    </tr>\n",
       "    <tr>\n",
       "      <th>18</th>\n",
       "      <td>AA-10375</td>\n",
       "      <td>Allen Armold</td>\n",
       "      <td>Consumer</td>\n",
       "      <td>Omaha</td>\n",
       "      <td>149.970</td>\n",
       "      <td>3</td>\n",
       "      <td>50.9898</td>\n",
       "    </tr>\n",
       "    <tr>\n",
       "      <th>19</th>\n",
       "      <td>AA-10375</td>\n",
       "      <td>Allen Armold</td>\n",
       "      <td>Consumer</td>\n",
       "      <td>Rancho Cucamonga</td>\n",
       "      <td>34.272</td>\n",
       "      <td>3</td>\n",
       "      <td>11.1384</td>\n",
       "    </tr>\n",
       "  </tbody>\n",
       "</table>\n",
       "</div>"
      ],
      "text/plain": [
       "   Customer ID Customer Name   Segment              City    Sales  Quantity  \\\n",
       "10    AA-10315    Alex Avila  Consumer     New York City   14.560         2   \n",
       "11    AA-10375  Allen Armold  Consumer        Providence   16.900         5   \n",
       "12    AA-10375  Allen Armold  Consumer        Providence   39.960         2   \n",
       "13    AA-10375  Allen Armold  Consumer       Los Angeles   16.520         5   \n",
       "14    AA-10375  Allen Armold  Consumer           Atlanta    8.260         2   \n",
       "15    AA-10375  Allen Armold  Consumer           Atlanta  499.980         2   \n",
       "16    AA-10375  Allen Armold  Consumer             Salem    5.248         2   \n",
       "17    AA-10375  Allen Armold  Consumer             Omaha   28.400         2   \n",
       "18    AA-10375  Allen Armold  Consumer             Omaha  149.970         3   \n",
       "19    AA-10375  Allen Armold  Consumer  Rancho Cucamonga   34.272         3   \n",
       "\n",
       "      Profit  \n",
       "10    6.2608  \n",
       "11    7.7740  \n",
       "12   18.7812  \n",
       "13    5.5755  \n",
       "14    3.8822  \n",
       "15  114.9954  \n",
       "16    0.5904  \n",
       "17   11.0760  \n",
       "18   50.9898  \n",
       "19   11.1384  "
      ]
     },
     "execution_count": 24,
     "metadata": {},
     "output_type": "execute_result"
    }
   ],
   "source": [
    "# row by index 10 to 20\n",
    "data.iloc[10:20]"
   ]
  },
  {
   "cell_type": "code",
   "execution_count": 27,
   "id": "35d38d4a",
   "metadata": {},
   "outputs": [
    {
     "data": {
      "text/plain": [
       "0         Minneapolis\n",
       "1       San Francisco\n",
       "2       San Francisco\n",
       "3         Minneapolis\n",
       "4       San Francisco\n",
       "            ...      \n",
       "9989    San Francisco\n",
       "9990     Jacksonville\n",
       "9991         Richmond\n",
       "9992         Richmond\n",
       "9993      Los Angeles\n",
       "Name: City, Length: 9994, dtype: object"
      ]
     },
     "execution_count": 27,
     "metadata": {},
     "output_type": "execute_result"
    }
   ],
   "source": [
    "# column by position \n",
    "data.iloc[:, 3]"
   ]
  },
  {
   "cell_type": "code",
   "execution_count": 29,
   "id": "ea81e222",
   "metadata": {},
   "outputs": [
    {
     "data": {
      "text/html": [
       "<div>\n",
       "<style scoped>\n",
       "    .dataframe tbody tr th:only-of-type {\n",
       "        vertical-align: middle;\n",
       "    }\n",
       "\n",
       "    .dataframe tbody tr th {\n",
       "        vertical-align: top;\n",
       "    }\n",
       "\n",
       "    .dataframe thead th {\n",
       "        text-align: right;\n",
       "    }\n",
       "</style>\n",
       "<table border=\"1\" class=\"dataframe\">\n",
       "  <thead>\n",
       "    <tr style=\"text-align: right;\">\n",
       "      <th></th>\n",
       "      <th>Customer ID</th>\n",
       "      <th>Customer Name</th>\n",
       "      <th>Segment</th>\n",
       "      <th>City</th>\n",
       "      <th>Sales</th>\n",
       "      <th>Quantity</th>\n",
       "      <th>Profit</th>\n",
       "    </tr>\n",
       "  </thead>\n",
       "  <tbody>\n",
       "    <tr>\n",
       "      <th>4023</th>\n",
       "      <td>HL-15040</td>\n",
       "      <td>Hunter Lopez</td>\n",
       "      <td>Consumer</td>\n",
       "      <td>Newark</td>\n",
       "      <td>10499.970</td>\n",
       "      <td>3</td>\n",
       "      <td>5039.9856</td>\n",
       "    </tr>\n",
       "    <tr>\n",
       "      <th>7780</th>\n",
       "      <td>RB-19360</td>\n",
       "      <td>Raymond Buch</td>\n",
       "      <td>Consumer</td>\n",
       "      <td>Seattle</td>\n",
       "      <td>13999.960</td>\n",
       "      <td>4</td>\n",
       "      <td>6719.9808</td>\n",
       "    </tr>\n",
       "    <tr>\n",
       "      <th>8789</th>\n",
       "      <td>SM-20320</td>\n",
       "      <td>Sean Miller</td>\n",
       "      <td>Home Office</td>\n",
       "      <td>Jacksonville</td>\n",
       "      <td>22638.480</td>\n",
       "      <td>6</td>\n",
       "      <td>-1811.0784</td>\n",
       "    </tr>\n",
       "    <tr>\n",
       "      <th>9216</th>\n",
       "      <td>TA-21385</td>\n",
       "      <td>Tom Ashbrook</td>\n",
       "      <td>Home Office</td>\n",
       "      <td>New York City</td>\n",
       "      <td>11199.968</td>\n",
       "      <td>4</td>\n",
       "      <td>3919.9888</td>\n",
       "    </tr>\n",
       "    <tr>\n",
       "      <th>9367</th>\n",
       "      <td>TC-20980</td>\n",
       "      <td>Tamara Chand</td>\n",
       "      <td>Corporate</td>\n",
       "      <td>Lafayette</td>\n",
       "      <td>17499.950</td>\n",
       "      <td>5</td>\n",
       "      <td>8399.9760</td>\n",
       "    </tr>\n",
       "  </tbody>\n",
       "</table>\n",
       "</div>"
      ],
      "text/plain": [
       "     Customer ID Customer Name      Segment           City      Sales  \\\n",
       "4023    HL-15040  Hunter Lopez     Consumer         Newark  10499.970   \n",
       "7780    RB-19360  Raymond Buch     Consumer        Seattle  13999.960   \n",
       "8789    SM-20320   Sean Miller  Home Office   Jacksonville  22638.480   \n",
       "9216    TA-21385  Tom Ashbrook  Home Office  New York City  11199.968   \n",
       "9367    TC-20980  Tamara Chand    Corporate      Lafayette  17499.950   \n",
       "\n",
       "      Quantity     Profit  \n",
       "4023         3  5039.9856  \n",
       "7780         4  6719.9808  \n",
       "8789         6 -1811.0784  \n",
       "9216         4  3919.9888  \n",
       "9367         5  8399.9760  "
      ]
     },
     "execution_count": 29,
     "metadata": {},
     "output_type": "execute_result"
    }
   ],
   "source": [
    "# conditional Selection \n",
    "data[data['Sales']>10000]"
   ]
  },
  {
   "cell_type": "code",
   "execution_count": 32,
   "id": "1618c339",
   "metadata": {},
   "outputs": [
    {
     "data": {
      "text/html": [
       "<div>\n",
       "<style scoped>\n",
       "    .dataframe tbody tr th:only-of-type {\n",
       "        vertical-align: middle;\n",
       "    }\n",
       "\n",
       "    .dataframe tbody tr th {\n",
       "        vertical-align: top;\n",
       "    }\n",
       "\n",
       "    .dataframe thead th {\n",
       "        text-align: right;\n",
       "    }\n",
       "</style>\n",
       "<table border=\"1\" class=\"dataframe\">\n",
       "  <thead>\n",
       "    <tr style=\"text-align: right;\">\n",
       "      <th></th>\n",
       "      <th>Customer ID</th>\n",
       "      <th>Customer Name</th>\n",
       "      <th>Segment</th>\n",
       "      <th>City</th>\n",
       "      <th>Sales</th>\n",
       "      <th>Quantity</th>\n",
       "      <th>Profit</th>\n",
       "    </tr>\n",
       "  </thead>\n",
       "  <tbody>\n",
       "    <tr>\n",
       "      <th>4023</th>\n",
       "      <td>HL-15040</td>\n",
       "      <td>Hunter Lopez</td>\n",
       "      <td>Consumer</td>\n",
       "      <td>Newark</td>\n",
       "      <td>10499.970</td>\n",
       "      <td>3</td>\n",
       "      <td>5039.9856</td>\n",
       "    </tr>\n",
       "    <tr>\n",
       "      <th>6985</th>\n",
       "      <td>NF-18385</td>\n",
       "      <td>Natalie Fritzler</td>\n",
       "      <td>Consumer</td>\n",
       "      <td>Newark</td>\n",
       "      <td>1799.994</td>\n",
       "      <td>2</td>\n",
       "      <td>-2639.9912</td>\n",
       "    </tr>\n",
       "    <tr>\n",
       "      <th>6986</th>\n",
       "      <td>NF-18385</td>\n",
       "      <td>Natalie Fritzler</td>\n",
       "      <td>Consumer</td>\n",
       "      <td>Newark</td>\n",
       "      <td>2025.360</td>\n",
       "      <td>6</td>\n",
       "      <td>607.6080</td>\n",
       "    </tr>\n",
       "    <tr>\n",
       "      <th>9934</th>\n",
       "      <td>YC-21895</td>\n",
       "      <td>Yoseph Carroll</td>\n",
       "      <td>Corporate</td>\n",
       "      <td>Newark</td>\n",
       "      <td>2934.330</td>\n",
       "      <td>7</td>\n",
       "      <td>792.2691</td>\n",
       "    </tr>\n",
       "  </tbody>\n",
       "</table>\n",
       "</div>"
      ],
      "text/plain": [
       "     Customer ID     Customer Name    Segment    City      Sales  Quantity  \\\n",
       "4023    HL-15040      Hunter Lopez   Consumer  Newark  10499.970         3   \n",
       "6985    NF-18385  Natalie Fritzler   Consumer  Newark   1799.994         2   \n",
       "6986    NF-18385  Natalie Fritzler   Consumer  Newark   2025.360         6   \n",
       "9934    YC-21895    Yoseph Carroll  Corporate  Newark   2934.330         7   \n",
       "\n",
       "         Profit  \n",
       "4023  5039.9856  \n",
       "6985 -2639.9912  \n",
       "6986   607.6080  \n",
       "9934   792.2691  "
      ]
     },
     "execution_count": 32,
     "metadata": {},
     "output_type": "execute_result"
    }
   ],
   "source": [
    "# example \n",
    "data[(data['Sales'] > 1000) & (data['City'] == \"Newark\")]\n"
   ]
  },
  {
   "cell_type": "code",
   "execution_count": 34,
   "id": "36cd5e60",
   "metadata": {},
   "outputs": [
    {
     "data": {
      "text/html": [
       "<div>\n",
       "<style scoped>\n",
       "    .dataframe tbody tr th:only-of-type {\n",
       "        vertical-align: middle;\n",
       "    }\n",
       "\n",
       "    .dataframe tbody tr th {\n",
       "        vertical-align: top;\n",
       "    }\n",
       "\n",
       "    .dataframe thead th {\n",
       "        text-align: right;\n",
       "    }\n",
       "</style>\n",
       "<table border=\"1\" class=\"dataframe\">\n",
       "  <thead>\n",
       "    <tr style=\"text-align: right;\">\n",
       "      <th></th>\n",
       "      <th>Customer ID</th>\n",
       "      <th>Customer Name</th>\n",
       "      <th>Segment</th>\n",
       "      <th>City</th>\n",
       "      <th>Sales</th>\n",
       "      <th>Quantity</th>\n",
       "      <th>Profit</th>\n",
       "    </tr>\n",
       "  </thead>\n",
       "  <tbody>\n",
       "    <tr>\n",
       "      <th>898</th>\n",
       "      <td>BD-11725</td>\n",
       "      <td>Bruce Degenhardt</td>\n",
       "      <td>Consumer</td>\n",
       "      <td>Newark</td>\n",
       "      <td>46.720</td>\n",
       "      <td>5</td>\n",
       "      <td>17.5200</td>\n",
       "    </tr>\n",
       "    <tr>\n",
       "      <th>1063</th>\n",
       "      <td>BH-11710</td>\n",
       "      <td>Brosina Hoffman</td>\n",
       "      <td>Consumer</td>\n",
       "      <td>Newark</td>\n",
       "      <td>166.440</td>\n",
       "      <td>3</td>\n",
       "      <td>79.8912</td>\n",
       "    </tr>\n",
       "    <tr>\n",
       "      <th>1064</th>\n",
       "      <td>BH-11710</td>\n",
       "      <td>Brosina Hoffman</td>\n",
       "      <td>Consumer</td>\n",
       "      <td>Newark</td>\n",
       "      <td>479.950</td>\n",
       "      <td>5</td>\n",
       "      <td>129.5865</td>\n",
       "    </tr>\n",
       "    <tr>\n",
       "      <th>1069</th>\n",
       "      <td>BH-11710</td>\n",
       "      <td>Brosina Hoffman</td>\n",
       "      <td>Consumer</td>\n",
       "      <td>Newark</td>\n",
       "      <td>447.860</td>\n",
       "      <td>7</td>\n",
       "      <td>219.4514</td>\n",
       "    </tr>\n",
       "    <tr>\n",
       "      <th>1389</th>\n",
       "      <td>BT-11680</td>\n",
       "      <td>Brian Thompson</td>\n",
       "      <td>Consumer</td>\n",
       "      <td>Newark</td>\n",
       "      <td>4.656</td>\n",
       "      <td>2</td>\n",
       "      <td>1.5714</td>\n",
       "    </tr>\n",
       "    <tr>\n",
       "      <th>...</th>\n",
       "      <td>...</td>\n",
       "      <td>...</td>\n",
       "      <td>...</td>\n",
       "      <td>...</td>\n",
       "      <td>...</td>\n",
       "      <td>...</td>\n",
       "      <td>...</td>\n",
       "    </tr>\n",
       "    <tr>\n",
       "      <th>9811</th>\n",
       "      <td>VM-21835</td>\n",
       "      <td>Vivian Mathis</td>\n",
       "      <td>Consumer</td>\n",
       "      <td>Newark</td>\n",
       "      <td>32.540</td>\n",
       "      <td>2</td>\n",
       "      <td>15.9446</td>\n",
       "    </tr>\n",
       "    <tr>\n",
       "      <th>9934</th>\n",
       "      <td>YC-21895</td>\n",
       "      <td>Yoseph Carroll</td>\n",
       "      <td>Corporate</td>\n",
       "      <td>Newark</td>\n",
       "      <td>2934.330</td>\n",
       "      <td>7</td>\n",
       "      <td>792.2691</td>\n",
       "    </tr>\n",
       "    <tr>\n",
       "      <th>9936</th>\n",
       "      <td>YC-21895</td>\n",
       "      <td>Yoseph Carroll</td>\n",
       "      <td>Corporate</td>\n",
       "      <td>Newark</td>\n",
       "      <td>57.750</td>\n",
       "      <td>5</td>\n",
       "      <td>26.5650</td>\n",
       "    </tr>\n",
       "    <tr>\n",
       "      <th>9938</th>\n",
       "      <td>YC-21895</td>\n",
       "      <td>Yoseph Carroll</td>\n",
       "      <td>Corporate</td>\n",
       "      <td>Newark</td>\n",
       "      <td>124.410</td>\n",
       "      <td>3</td>\n",
       "      <td>14.9292</td>\n",
       "    </tr>\n",
       "    <tr>\n",
       "      <th>9952</th>\n",
       "      <td>YS-21880</td>\n",
       "      <td>Yana Sorensen</td>\n",
       "      <td>Corporate</td>\n",
       "      <td>Newark</td>\n",
       "      <td>465.180</td>\n",
       "      <td>3</td>\n",
       "      <td>120.9468</td>\n",
       "    </tr>\n",
       "  </tbody>\n",
       "</table>\n",
       "<p>95 rows × 7 columns</p>\n",
       "</div>"
      ],
      "text/plain": [
       "     Customer ID     Customer Name    Segment    City     Sales  Quantity  \\\n",
       "898     BD-11725  Bruce Degenhardt   Consumer  Newark    46.720         5   \n",
       "1063    BH-11710   Brosina Hoffman   Consumer  Newark   166.440         3   \n",
       "1064    BH-11710   Brosina Hoffman   Consumer  Newark   479.950         5   \n",
       "1069    BH-11710   Brosina Hoffman   Consumer  Newark   447.860         7   \n",
       "1389    BT-11680    Brian Thompson   Consumer  Newark     4.656         2   \n",
       "...          ...               ...        ...     ...       ...       ...   \n",
       "9811    VM-21835     Vivian Mathis   Consumer  Newark    32.540         2   \n",
       "9934    YC-21895    Yoseph Carroll  Corporate  Newark  2934.330         7   \n",
       "9936    YC-21895    Yoseph Carroll  Corporate  Newark    57.750         5   \n",
       "9938    YC-21895    Yoseph Carroll  Corporate  Newark   124.410         3   \n",
       "9952    YS-21880     Yana Sorensen  Corporate  Newark   465.180         3   \n",
       "\n",
       "        Profit  \n",
       "898    17.5200  \n",
       "1063   79.8912  \n",
       "1064  129.5865  \n",
       "1069  219.4514  \n",
       "1389    1.5714  \n",
       "...        ...  \n",
       "9811   15.9446  \n",
       "9934  792.2691  \n",
       "9936   26.5650  \n",
       "9938   14.9292  \n",
       "9952  120.9468  \n",
       "\n",
       "[95 rows x 7 columns]"
      ]
     },
     "execution_count": 34,
     "metadata": {},
     "output_type": "execute_result"
    }
   ],
   "source": [
    "data[data['City'] == \"Newark\"]"
   ]
  }
 ],
 "metadata": {
  "kernelspec": {
   "display_name": "Python 3",
   "language": "python",
   "name": "python3"
  },
  "language_info": {
   "codemirror_mode": {
    "name": "ipython",
    "version": 3
   },
   "file_extension": ".py",
   "mimetype": "text/x-python",
   "name": "python",
   "nbconvert_exporter": "python",
   "pygments_lexer": "ipython3",
   "version": "3.14.0"
  }
 },
 "nbformat": 4,
 "nbformat_minor": 5
}
