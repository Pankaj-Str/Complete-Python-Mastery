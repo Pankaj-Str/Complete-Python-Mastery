{
 "cells": [
  {
   "cell_type": "code",
   "execution_count": 6,
   "id": "83ef7063",
   "metadata": {},
   "outputs": [],
   "source": [
    "class Bank:\n",
    "    def check_balance(self,amount):\n",
    "        self.amount = amount\n",
    "        print(f'Bank Main Balance = {self.amount}')\n",
    "    def deposit(self,deposit_amount):\n",
    "        self.deposit = deposit_amount \n",
    "        self.amount = self.amount+self.deposit\n",
    "        print(f'Deposit = {self.deposit}')\n",
    "        print(f'Bank Main Balance = {self.amount}')\n",
    "    def withdrow(self,withdrow_amount):\n",
    "        self.withdrow_amount = withdrow_amount\n",
    "        self.amount = self.amount - self.withdrow_amount  \n",
    "        print(f'withdrow  = {self.withdrow_amount}')\n",
    "        print(f'Bank Main Balance = {self.amount}')      "
   ]
  },
  {
   "cell_type": "code",
   "execution_count": 9,
   "id": "9cf81a7b",
   "metadata": {},
   "outputs": [
    {
     "name": "stdout",
     "output_type": "stream",
     "text": [
      "Bank Main Balance = 50000\n",
      "withdrow  = 5000\n",
      "Bank Main Balance = 45000\n",
      "Deposit = 500\n",
      "Bank Main Balance = 45500\n",
      "withdrow  = 200000\n",
      "Bank Main Balance = -154500\n"
     ]
    }
   ],
   "source": [
    "bank = Bank()\n",
    "bank.check_balance(50000)\n",
    "bank.withdrow(5000)\n",
    "bank.deposit(500)\n",
    "bank.withdrow(200000)"
   ]
  },
  {
   "cell_type": "code",
   "execution_count": null,
   "id": "9932846d",
   "metadata": {},
   "outputs": [],
   "source": []
  }
 ],
 "metadata": {
  "kernelspec": {
   "display_name": "Python 3",
   "language": "python",
   "name": "python3"
  },
  "language_info": {
   "codemirror_mode": {
    "name": "ipython",
    "version": 3
   },
   "file_extension": ".py",
   "mimetype": "text/x-python",
   "name": "python",
   "nbconvert_exporter": "python",
   "pygments_lexer": "ipython3",
   "version": "3.13.5"
  }
 },
 "nbformat": 4,
 "nbformat_minor": 5
}
