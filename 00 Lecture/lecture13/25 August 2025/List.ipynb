{
 "cells": [
  {
   "cell_type": "code",
   "execution_count": null,
   "id": "c618c78d",
   "metadata": {},
   "outputs": [
    {
     "name": "stdout",
     "output_type": "stream",
     "text": [
      "1 .  samosa  =  500\n",
      "2 .  kachori  =  300\n",
      "3 .  fafda  =  100\n",
      "4 .  pav  =  500\n"
     ]
    }
   ],
   "source": [
    " "
   ]
  },
  {
   "cell_type": "code",
   "execution_count": null,
   "id": "3472e934",
   "metadata": {},
   "outputs": [],
   "source": [
    "\n",
    "# -- User input section\n",
    "# Enter Product List Size : 4\n",
    "# Enter Product 1 -\n",
    "# Samosa\n",
    "# Enter Product 2 -\n",
    "# Kachori\n",
    "# Enter Product 3 -\n",
    "# Fafda\n",
    "# Enter Product 4 -\n",
    "# Jalebi\n",
    "\n",
    "# Enter Samosa Price :\n",
    "# 300/-\n",
    "# Enter Kachori Price :\n",
    "# 100/-\n",
    "# Enter Fafda Price :\n",
    "# 100/-\n",
    "# Enter Jalebi Price :\n",
    "# 200/-\n",
    "\n",
    "# --- output\n",
    "\n",
    "# samosa = 300\n",
    "# kachori = 100\n",
    "# fafda = 100\n",
    "# jalebi = 200\n"
   ]
  }
 ],
 "metadata": {
  "kernelspec": {
   "display_name": "Python 3",
   "language": "python",
   "name": "python3"
  },
  "language_info": {
   "codemirror_mode": {
    "name": "ipython",
    "version": 3
   },
   "file_extension": ".py",
   "mimetype": "text/x-python",
   "name": "python",
   "nbconvert_exporter": "python",
   "pygments_lexer": "ipython3",
   "version": "3.13.5"
  }
 },
 "nbformat": 4,
 "nbformat_minor": 5
}
