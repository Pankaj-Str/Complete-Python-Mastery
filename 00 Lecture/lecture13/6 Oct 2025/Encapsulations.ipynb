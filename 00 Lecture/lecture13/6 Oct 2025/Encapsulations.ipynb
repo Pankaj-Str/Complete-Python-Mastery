{
 "cells": [
  {
   "cell_type": "code",
   "execution_count": 12,
   "id": "c20b0751",
   "metadata": {},
   "outputs": [],
   "source": [
    "class Student:\n",
    "    def __init__(self,name,age,marks):\n",
    "        self.name = name\n",
    "        self._age = age\n",
    "        self.marks = marks\n",
    "    def show_details(self):\n",
    "        print(f'Name : {self.name}')\n",
    "        print(f'Age : {self._age}') \n",
    "        print(f'Marks : {self.marks}')\n",
    "\n",
    "    def __calculate_grade(self):\n",
    "        if self.marks >= 90:\n",
    "            return \"A\"\n",
    "        elif self.marks >= 75:\n",
    "            return \"B\"\n",
    "        else:\n",
    "            return \"C\"\n",
    "\n",
    "    def get_grade(self):\n",
    "        return self.__calculate_grade()     "
   ]
  },
  {
   "cell_type": "code",
   "execution_count": 13,
   "id": "fa85b2b5",
   "metadata": {},
   "outputs": [
    {
     "name": "stdout",
     "output_type": "stream",
     "text": [
      "Name : Joy\n",
      "Age : 24\n",
      "Marks : 30\n",
      "Grade : C\n"
     ]
    }
   ],
   "source": [
    "s1 = Student(\"Joy\",24,30)\n",
    "\n",
    "s1.show_details()\n",
    "print(f\"Grade : {s1.get_grade()}\")\n"
   ]
  }
 ],
 "metadata": {
  "kernelspec": {
   "display_name": "Python 3",
   "language": "python",
   "name": "python3"
  },
  "language_info": {
   "codemirror_mode": {
    "name": "ipython",
    "version": 3
   },
   "file_extension": ".py",
   "mimetype": "text/x-python",
   "name": "python",
   "nbconvert_exporter": "python",
   "pygments_lexer": "ipython3",
   "version": "3.13.5"
  }
 },
 "nbformat": 4,
 "nbformat_minor": 5
}
