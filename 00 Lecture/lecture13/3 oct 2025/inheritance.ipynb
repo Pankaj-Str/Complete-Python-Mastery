{
 "cells": [
  {
   "cell_type": "code",
   "execution_count": null,
   "id": "b036ce4d",
   "metadata": {},
   "outputs": [],
   "source": [
    "# step 1 define the parent class\n",
    "class Animal:\n",
    "    def __init__(self,name,species):\n",
    "        self.name = name\n",
    "        self.species = species\n",
    "    def make_sound(self):\n",
    "        print('Some generic animal sound...')    \n",
    "        "
   ]
  },
  {
   "cell_type": "code",
   "execution_count": null,
   "id": "75e236cb",
   "metadata": {},
   "outputs": [],
   "source": [
    "# step 2 Define the child class\n",
    "class Dog(Animal): # Dog inherits from animal\n",
    "    def __init__(self, name, breed):\n",
    "        super().__init__(name, species=\"Dog\")\n",
    "        self.breed = breed\n",
    "\n",
    "    def make_sound(self):\n",
    "        print(f'{self.name} is braks : woof !....')  \n",
    "    def fetch(self):\n",
    "        print(f'{self.name} is fetching the ball')  "
   ]
  },
  {
   "cell_type": "code",
   "execution_count": null,
   "id": "0c392aff",
   "metadata": {},
   "outputs": [],
   "source": [
    "# animal object\n",
    "generic_animal = Animal(\"leo\",\"Lion\")\n",
    "generic_animal.make_sound()\n",
    "# dog object \n",
    "my_dog = Dog(\"Buddy\",\"Golden Retriever\")\n",
    "my_dog.make_sound()\n",
    "my_dog.fetch()\n",
    "print(f'Name : {my_dog.name} species : {my_dog.species} breed : {my_dog.breed}' )\n"
   ]
  },
  {
   "cell_type": "code",
   "execution_count": null,
   "id": "cd6923e8",
   "metadata": {},
   "outputs": [],
   "source": [
    "class Cat(Animal):\n",
    "    def __init__(self, name, color):\n",
    "        super().__init__(name, species=\"Cat\")\n",
    "        self.Color = color\n",
    "    def make_sound(self):\n",
    "        print(f'{self.name} is meows : Meow !....')  \n",
    "    def Scratch(self):\n",
    "        print(f'{self.name} is Scratching Furniture')      "
   ]
  },
  {
   "cell_type": "code",
   "execution_count": null,
   "id": "c2c28e24",
   "metadata": {},
   "outputs": [],
   "source": [
    "my_cat = Cat(\"Whiskers\" ,\"Gray\")\n",
    "my_cat.make_sound()\n",
    "my_cat.Scratch()\n",
    "print(f'Name : {my_cat.name} species : {my_cat.species} color : {my_cat.Color}' )"
   ]
  }
 ],
 "metadata": {
  "kernelspec": {
   "display_name": "Python 3",
   "language": "python",
   "name": "python3"
  },
  "language_info": {
   "codemirror_mode": {
    "name": "ipython",
    "version": 3
   },
   "file_extension": ".py",
   "mimetype": "text/x-python",
   "name": "python",
   "nbconvert_exporter": "python",
   "pygments_lexer": "ipython3",
   "version": "3.13.5"
  }
 },
 "nbformat": 4,
 "nbformat_minor": 5
}
