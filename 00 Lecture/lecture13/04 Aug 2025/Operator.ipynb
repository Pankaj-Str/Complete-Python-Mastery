{
 "cells": [
  {
   "cell_type": "code",
   "execution_count": 6,
   "id": "6362f0b8",
   "metadata": {},
   "outputs": [
    {
     "name": "stdout",
     "output_type": "stream",
     "text": [
      "254\n",
      "120\n",
      "12529\n",
      "2.791044776119403\n",
      "2\n",
      "53\n",
      "6539203\n"
     ]
    }
   ],
   "source": [
    "# Arithmetic Operators (Math Tools)\n",
    "\n",
    "x = 187\n",
    "y = 67\n",
    "print(x+y)\n",
    "print(x-y)\n",
    "print(x*y)\n",
    "print(x/y)\n",
    "print(x//y)\n",
    "print(x%y)\n",
    "print(x**3)"
   ]
  },
  {
   "cell_type": "code",
   "execution_count": 12,
   "id": "d417776c",
   "metadata": {},
   "outputs": [
    {
     "name": "stdout",
     "output_type": "stream",
     "text": [
      "False\n",
      "True\n",
      "False\n",
      "True\n",
      "False\n",
      "True\n"
     ]
    }
   ],
   "source": [
    "# Comparison Operators (Checking Things)\n",
    "\n",
    "print(23>45)\n",
    "print(23<45)\n",
    "print(23 == 45)\n",
    "print(23 != 45)\n",
    "\n",
    "print(23 >= 45)\n",
    "print(23 <= 44)"
   ]
  },
  {
   "cell_type": "code",
   "execution_count": 15,
   "id": "5e84a537",
   "metadata": {},
   "outputs": [
    {
     "name": "stdout",
     "output_type": "stream",
     "text": [
      "False\n",
      "True\n",
      "False\n"
     ]
    }
   ],
   "source": [
    "# Logical Operators (Combining Checks)\n",
    "\n",
    "print(23 == 45 and 56 < 67)\n",
    "\n",
    "print(23 == 45 or 56 < 67)\n",
    "\n",
    "print(not 45 == 45)"
   ]
  },
  {
   "cell_type": "code",
   "execution_count": 22,
   "id": "ec481326",
   "metadata": {},
   "outputs": [
    {
     "name": "stdout",
     "output_type": "stream",
     "text": [
      "10\n",
      "20\n",
      "10\n",
      "100\n",
      "10.0\n"
     ]
    }
   ],
   "source": [
    "# Assignment Operators (Saving Values)\n",
    "\n",
    "x = 10\n",
    "print(x)\n",
    "#x = x + 10\n",
    "x +=10\n",
    "print(x)\n",
    "x -=10\n",
    "print(x)\n",
    "x *=10\n",
    "print(x)\n",
    "x /=10\n",
    "print(x)\n"
   ]
  },
  {
   "cell_type": "code",
   "execution_count": 25,
   "id": "fad2ec16",
   "metadata": {},
   "outputs": [
    {
     "name": "stdout",
     "output_type": "stream",
     "text": [
      "True\n",
      "False\n"
     ]
    }
   ],
   "source": [
    "# Membership Operators (Checking Lists or Words)\n",
    "\n",
    "data = \"codeswithpankaj\"\n",
    "print('w' in data)\n",
    "\n",
    "data = \"codeswithpankaj\"\n",
    "print('w' not in data)"
   ]
  },
  {
   "cell_type": "code",
   "execution_count": 27,
   "id": "4bb1c165",
   "metadata": {},
   "outputs": [
    {
     "name": "stdout",
     "output_type": "stream",
     "text": [
      "False\n",
      "True\n"
     ]
    }
   ],
   "source": [
    "# is \n",
    "# is not\n",
    "\n",
    "data1 = 45\n",
    "data2 = 67\n",
    "\n",
    "print(data1 is data2)\n",
    "\n",
    "print(data1 is not data2)"
   ]
  }
 ],
 "metadata": {
  "kernelspec": {
   "display_name": "Python 3",
   "language": "python",
   "name": "python3"
  },
  "language_info": {
   "codemirror_mode": {
    "name": "ipython",
    "version": 3
   },
   "file_extension": ".py",
   "mimetype": "text/x-python",
   "name": "python",
   "nbconvert_exporter": "python",
   "pygments_lexer": "ipython3",
   "version": "3.13.5"
  }
 },
 "nbformat": 4,
 "nbformat_minor": 5
}
