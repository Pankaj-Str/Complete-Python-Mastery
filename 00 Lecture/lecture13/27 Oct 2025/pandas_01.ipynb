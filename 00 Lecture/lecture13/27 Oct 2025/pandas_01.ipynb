{
 "cells": [
  {
   "cell_type": "code",
   "execution_count": null,
   "id": "3022fee3",
   "metadata": {},
   "outputs": [],
   "source": [
    "# install pandas \n",
    "%pip install pandas"
   ]
  },
  {
   "cell_type": "code",
   "execution_count": null,
   "id": "f10876f6",
   "metadata": {},
   "outputs": [],
   "source": [
    "import pandas as pd\n",
    "\n",
    "print(pd.__version__)"
   ]
  },
  {
   "cell_type": "code",
   "execution_count": null,
   "id": "9fff86ee",
   "metadata": {},
   "outputs": [],
   "source": [
    "data = [\"apple\",\"orange\",\"banana\",\"kivi\"]\n",
    "s = pd.Series(data)\n",
    "print(s)"
   ]
  },
  {
   "cell_type": "code",
   "execution_count": null,
   "id": "13ea3101",
   "metadata": {},
   "outputs": [],
   "source": [
    "# access data from index\n",
    "\n",
    "print(data[3])"
   ]
  },
  {
   "cell_type": "code",
   "execution_count": null,
   "id": "1f42db68",
   "metadata": {},
   "outputs": [],
   "source": [
    "indexx = ['a','b','c','d']\n",
    "s = pd.Series(data,index=indexx)\n",
    "print(s)"
   ]
  },
  {
   "cell_type": "code",
   "execution_count": null,
   "id": "12a86449",
   "metadata": {},
   "outputs": [],
   "source": [
    "# pd.DataFrame\n",
    "\n",
    "students = {\n",
    "    \"name\":['joy','Nishant','ronak','tiya','riya'],\n",
    "    \"age\":[23,45,67,12,22],\n",
    "    \"city\":['mumbai','pune','jaipur','bhuj','surat']\n",
    "}\n",
    "\n",
    "df = pd.DataFrame(students)\n",
    "print(df)\n",
    "\n",
    "# change index \n",
    "\n",
    "indexx = [101,102,103,104,105]\n",
    "\n",
    "df = pd.DataFrame(students,index=indexx)\n",
    "print(df)\n",
    "\n",
    "df.to_csv('student.csv',index=False)"
   ]
  },
  {
   "cell_type": "code",
   "execution_count": null,
   "id": "d2cabbd7",
   "metadata": {},
   "outputs": [],
   "source": [
    "# read CSV file\n",
    "\n",
    "data = pd.read_csv(\"data.csv\")\n",
    "# top 5 record (row)\n",
    "print(data.head(5))"
   ]
  }
 ],
 "metadata": {
  "kernelspec": {
   "display_name": "Python 3",
   "language": "python",
   "name": "python3"
  },
  "language_info": {
   "codemirror_mode": {
    "name": "ipython",
    "version": 3
   },
   "file_extension": ".py",
   "mimetype": "text/x-python",
   "name": "python",
   "nbconvert_exporter": "python",
   "pygments_lexer": "ipython3",
   "version": "3.14.0"
  }
 },
 "nbformat": 4,
 "nbformat_minor": 5
}
