{
 "cells": [
  {
   "cell_type": "code",
   "execution_count": 1,
   "id": "564f1a0d",
   "metadata": {},
   "outputs": [
    {
     "name": "stdout",
     "output_type": "stream",
     "text": [
      "codes with pankaj\n"
     ]
    }
   ],
   "source": [
    "data = \"codes with pankaj\"\n",
    "print(data)"
   ]
  },
  {
   "cell_type": "code",
   "execution_count": 14,
   "id": "6572dae9",
   "metadata": {},
   "outputs": [
    {
     "name": "stdout",
     "output_type": "stream",
     "text": [
      "w\n",
      "s with\n",
      "with pankaj\n",
      "codes with\n",
      "codes with pankaj\n"
     ]
    }
   ],
   "source": [
    "print(data[6])\n",
    "print(data[4:10])\n",
    "print(data[6:])\n",
    "print(data[:10])\n",
    "print(data[:])"
   ]
  },
  {
   "cell_type": "code",
   "execution_count": 15,
   "id": "059ec7f7",
   "metadata": {},
   "outputs": [
    {
     "name": "stdout",
     "output_type": "stream",
     "text": [
      "my name is  joy and my age is  23\n",
      "my name is joy and my age is 23\n",
      "my name is joy and age 23\n"
     ]
    }
   ],
   "source": [
    "# format \n",
    "\n",
    "name = \"joy\"\n",
    "age = 23\n",
    "\n",
    "print(\"my name is \",name,'and my age is ',age)\n",
    "print(\"my name is {0} and my age is {1}\".format(name,age))\n",
    "print(f'my name is {name} and age {age}')"
   ]
  },
  {
   "cell_type": "code",
   "execution_count": 36,
   "id": "ef9ce443",
   "metadata": {},
   "outputs": [
    {
     "name": "stdout",
     "output_type": "stream",
     "text": [
      "CODES WITH PANKAJ\n",
      "codes with pankaj\n",
      "('Codes With Pa', 'n', 'kaj')\n",
      "Codes With Python\n",
      "11\n",
      "python programming \n",
      "['python', 'is', 'best', 'programming', 'language']\n",
      "False\n",
      "True\n",
      "27\n"
     ]
    }
   ],
   "source": [
    "data = \"Codes With Pankaj\"\n",
    "# 1. upper() converts the string to uppercase\n",
    "print(data.upper())\n",
    "# 2. lower() converts the string to lowercase\n",
    "print(data.lower())\n",
    "# 3. partition() returns a tuple\n",
    "print(data.partition(\"n\"))\n",
    "# 4. replace() replaces substring inside\n",
    "print(data.replace(\"Pankaj\",\"Python\"))\n",
    "# 5. find() returns the index of first occurrence of substring\n",
    "print(data.find(\"P\"))\n",
    "# 6. rstrip() removes trailing characters\n",
    "data = \"python   \"\n",
    "print(data.rstrip(),\"programming \")\n",
    "# 7. split() splits string from left\n",
    "data = \"python is best programming language\"\n",
    "print(data.split(\" \"))\n",
    "# 8. startswith() checks if string starts with the specified string\n",
    "print(data.startswith(\"thon\"))\n",
    "# 9. isnumeric() checks numeric characters\n",
    "data = \"989078\"\n",
    "print(data.isnumeric())\n",
    "# 10. index() returns index of substring\n",
    "data = \"python is best programming language\"\n",
    "print(data.index(\"l\"))\t\t\t"
   ]
  }
 ],
 "metadata": {
  "kernelspec": {
   "display_name": "Python 3",
   "language": "python",
   "name": "python3"
  },
  "language_info": {
   "codemirror_mode": {
    "name": "ipython",
    "version": 3
   },
   "file_extension": ".py",
   "mimetype": "text/x-python",
   "name": "python",
   "nbconvert_exporter": "python",
   "pygments_lexer": "ipython3",
   "version": "3.13.5"
  }
 },
 "nbformat": 4,
 "nbformat_minor": 5
}
