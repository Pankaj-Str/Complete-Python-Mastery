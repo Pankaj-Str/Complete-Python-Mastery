{
 "cells": [
  {
   "cell_type": "code",
   "execution_count": 1,
   "id": "3efc4907",
   "metadata": {},
   "outputs": [
    {
     "name": "stdout",
     "output_type": "stream",
     "text": [
      "Washing Apples .....\n",
      "cutting apples...\n",
      "squeezing apples....\n",
      "here is your apple juice !\n"
     ]
    }
   ],
   "source": [
    "class JuiceMachine:\n",
    "    def make_apple_juice(self):\n",
    "        self.__wash_apples()\n",
    "        self.__cut_apples()\n",
    "        self.__squeeze_apples()\n",
    "        print(\"here is your apple juice !\")\n",
    "    def __wash_apples(self):\n",
    "        print(\"Washing Apples .....\")\n",
    "    def __cut_apples(self):\n",
    "        print(\"cutting apples...\")\n",
    "    def __squeeze_apples(self):\n",
    "        print(\"squeezing apples....\")\n",
    "\n",
    "# user just presses button \n",
    "machine = JuiceMachine()\n",
    "machine.make_apple_juice()\n"
   ]
  }
 ],
 "metadata": {
  "kernelspec": {
   "display_name": "Python 3",
   "language": "python",
   "name": "python3"
  },
  "language_info": {
   "codemirror_mode": {
    "name": "ipython",
    "version": 3
   },
   "file_extension": ".py",
   "mimetype": "text/x-python",
   "name": "python",
   "nbconvert_exporter": "python",
   "pygments_lexer": "ipython3",
   "version": "3.13.5"
  }
 },
 "nbformat": 4,
 "nbformat_minor": 5
}
