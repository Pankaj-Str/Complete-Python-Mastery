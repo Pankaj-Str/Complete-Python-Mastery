{
 "cells": [
  {
   "cell_type": "code",
   "execution_count": 1,
   "id": "a9de5490",
   "metadata": {},
   "outputs": [],
   "source": [
    "class Client:\n",
    "    def Client_info():\n",
    "        print(\"Client Name : - Joy\")\n",
    "        print(\"Client City : - Mumbai\")\n",
    "\n",
    "    def Client_Account():\n",
    "        print(\"SBI Bank\")           "
   ]
  },
  {
   "cell_type": "code",
   "execution_count": 4,
   "id": "d4bc2c66",
   "metadata": {},
   "outputs": [
    {
     "name": "stdout",
     "output_type": "stream",
     "text": [
      "Client Name : - Joy\n",
      "Client City : - Mumbai\n",
      "SBI Bank\n"
     ]
    }
   ],
   "source": [
    "# object \n",
    "C1 = Client\n",
    "C1.Client_info()\n",
    "C1.Client_Account()"
   ]
  },
  {
   "cell_type": "code",
   "execution_count": 6,
   "id": "8eb471ec",
   "metadata": {},
   "outputs": [],
   "source": [
    "def add(number1,number2):\n",
    "    result = number1 + number2\n",
    "    print(\"This is result = \",result)"
   ]
  },
  {
   "cell_type": "code",
   "execution_count": 7,
   "id": "03b1e4ad",
   "metadata": {},
   "outputs": [
    {
     "name": "stdout",
     "output_type": "stream",
     "text": [
      "This is result =  145\n"
     ]
    }
   ],
   "source": [
    "number1 = int(input('Enter Number 1 '))\n",
    "number2 = int(input('Enter Number 2 '))\n",
    "\n",
    "add(number1,number2)"
   ]
  }
 ],
 "metadata": {
  "kernelspec": {
   "display_name": "Python 3",
   "language": "python",
   "name": "python3"
  },
  "language_info": {
   "codemirror_mode": {
    "name": "ipython",
    "version": 3
   },
   "file_extension": ".py",
   "mimetype": "text/x-python",
   "name": "python",
   "nbconvert_exporter": "python",
   "pygments_lexer": "ipython3",
   "version": "3.13.5"
  }
 },
 "nbformat": 4,
 "nbformat_minor": 5
}
