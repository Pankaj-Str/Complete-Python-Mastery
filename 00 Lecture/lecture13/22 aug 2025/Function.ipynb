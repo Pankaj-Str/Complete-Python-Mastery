{
 "cells": [
  {
   "cell_type": "code",
   "execution_count": null,
   "id": "bef06915",
   "metadata": {},
   "outputs": [
    {
     "name": "stdout",
     "output_type": "stream",
     "text": [
      "900\n",
      "900\n"
     ]
    }
   ],
   "source": [
    "# Function with return type \n",
    "\n",
    "def get_number():\n",
    "    return 900\n",
    "\n",
    "# call function \n",
    "number = get_number()\n",
    "print(number)\n",
    "\n",
    "print(get_number())"
   ]
  },
  {
   "cell_type": "code",
   "execution_count": 3,
   "id": "c7b58fa0",
   "metadata": {},
   "outputs": [],
   "source": [
    "# function with return type and arg\n",
    "\n",
    "def add(number1,number2):\n",
    "    result = number1 + number2\n",
    "    return result"
   ]
  },
  {
   "cell_type": "code",
   "execution_count": 4,
   "id": "2a3763b2",
   "metadata": {},
   "outputs": [
    {
     "name": "stdout",
     "output_type": "stream",
     "text": [
      "result :  101\n"
     ]
    }
   ],
   "source": [
    "new_num = add(23,78)\n",
    "\n",
    "print('result : ',new_num)"
   ]
  }
 ],
 "metadata": {
  "kernelspec": {
   "display_name": "Python 3",
   "language": "python",
   "name": "python3"
  },
  "language_info": {
   "codemirror_mode": {
    "name": "ipython",
    "version": 3
   },
   "file_extension": ".py",
   "mimetype": "text/x-python",
   "name": "python",
   "nbconvert_exporter": "python",
   "pygments_lexer": "ipython3",
   "version": "3.13.5"
  }
 },
 "nbformat": 4,
 "nbformat_minor": 5
}
