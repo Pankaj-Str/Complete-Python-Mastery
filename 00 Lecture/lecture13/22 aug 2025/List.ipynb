{
 "cells": [
  {
   "cell_type": "code",
   "execution_count": null,
   "id": "161686d0",
   "metadata": {},
   "outputs": [],
   "source": [
    "# create a empty list \n",
    "data = []\n",
    "print(data)\n",
    "# check type \n",
    "print(type(data))"
   ]
  },
  {
   "cell_type": "code",
   "execution_count": null,
   "id": "7e83a5da",
   "metadata": {},
   "outputs": [],
   "source": [
    "data = [11,22,33,44,55,66]\n",
    "data = [\"java\",\"c++\",\"go\",\"jsp\"]\n",
    "data = [33,\"java\",8.9,True]"
   ]
  },
  {
   "cell_type": "code",
   "execution_count": null,
   "id": "53dc72d8",
   "metadata": {},
   "outputs": [],
   "source": [
    "data = [11,22,33,44,55,66]\n",
    "print(data[3])\n",
    "print(data[-2])\n",
    "print(data[2:5])\n",
    "print(data[-5:-2])\n",
    "print(data[:-3])"
   ]
  },
  {
   "cell_type": "code",
   "execution_count": null,
   "id": "3b88c7b2",
   "metadata": {},
   "outputs": [],
   "source": [
    "# add new data \n",
    "data.append(99)\n",
    "print(data)"
   ]
  },
  {
   "cell_type": "code",
   "execution_count": null,
   "id": "5b19b07b",
   "metadata": {},
   "outputs": [],
   "source": [
    "# add more then 1 data\n",
    "data.extend([20,21,23])\n",
    "print(data)"
   ]
  },
  {
   "cell_type": "code",
   "execution_count": null,
   "id": "20c7968c",
   "metadata": {},
   "outputs": [],
   "source": [
    "# remove data\n",
    "data.pop(2)\n",
    "print(data) "
   ]
  },
  {
   "cell_type": "code",
   "execution_count": null,
   "id": "4d3fbf85",
   "metadata": {},
   "outputs": [],
   "source": [
    "data.pop()\n",
    "print(data) "
   ]
  },
  {
   "cell_type": "code",
   "execution_count": null,
   "id": "64ac1a35",
   "metadata": {},
   "outputs": [],
   "source": [
    "data.remove(22)\n",
    "print(data)"
   ]
  },
  {
   "cell_type": "code",
   "execution_count": null,
   "id": "cc061133",
   "metadata": {},
   "outputs": [],
   "source": [
    "# update record \n",
    "data[4] = 400\n",
    "print(data)"
   ]
  },
  {
   "cell_type": "code",
   "execution_count": null,
   "id": "e258dea8",
   "metadata": {},
   "outputs": [],
   "source": [
    "# insert into list\n",
    "data.insert(2,100)\n",
    "print(data)"
   ]
  },
  {
   "cell_type": "code",
   "execution_count": null,
   "id": "2fd21160",
   "metadata": {},
   "outputs": [],
   "source": [
    "print(len(data))\n",
    "print(sum(data))\n",
    "print(min(data))\n",
    "print(max(data))"
   ]
  },
  {
   "cell_type": "code",
   "execution_count": null,
   "id": "4a6a8c02",
   "metadata": {},
   "outputs": [],
   "source": []
  }
 ],
 "metadata": {
  "kernelspec": {
   "display_name": "Python 3",
   "language": "python",
   "name": "python3"
  },
  "language_info": {
   "codemirror_mode": {
    "name": "ipython",
    "version": 3
   },
   "file_extension": ".py",
   "mimetype": "text/x-python",
   "name": "python",
   "nbconvert_exporter": "python",
   "pygments_lexer": "ipython3",
   "version": "3.13.5"
  }
 },
 "nbformat": 4,
 "nbformat_minor": 5
}
