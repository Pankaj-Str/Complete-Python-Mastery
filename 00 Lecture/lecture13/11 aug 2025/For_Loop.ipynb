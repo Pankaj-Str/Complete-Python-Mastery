{
 "cells": [
  {
   "cell_type": "code",
   "execution_count": null,
   "id": "e4c4f622",
   "metadata": {},
   "outputs": [],
   "source": [
    "# For Loop\n",
    "for i in range(10):\n",
    "    print(i) # start from zero"
   ]
  },
  {
   "cell_type": "code",
   "execution_count": null,
   "id": "91ba8c1c",
   "metadata": {},
   "outputs": [],
   "source": [
    "for i in range(10,20):\n",
    "    print(i)"
   ]
  },
  {
   "cell_type": "code",
   "execution_count": null,
   "id": "472a8468",
   "metadata": {},
   "outputs": [],
   "source": [
    "for i in range(1,20,2):\n",
    "    print(i)\n",
    "    \n",
    "# end=''\n",
    "for i in range(1,10):\n",
    "    print(i,end=' ')"
   ]
  },
  {
   "cell_type": "code",
   "execution_count": null,
   "id": "39c555d6",
   "metadata": {},
   "outputs": [],
   "source": [
    "# how to tak user input\n",
    "\n",
    "start = int(input('Enter Start Number'))\n",
    "end = int(input('Enter End Number'))\n",
    "\n",
    "for i in range(start,end+1):\n",
    "    print(i,end=' ')"
   ]
  }
 ],
 "metadata": {
  "kernelspec": {
   "display_name": "Python 3",
   "language": "python",
   "name": "python3"
  },
  "language_info": {
   "codemirror_mode": {
    "name": "ipython",
    "version": 3
   },
   "file_extension": ".py",
   "mimetype": "text/x-python",
   "name": "python",
   "nbconvert_exporter": "python",
   "pygments_lexer": "ipython3",
   "version": "3.13.5"
  }
 },
 "nbformat": 4,
 "nbformat_minor": 5
}
