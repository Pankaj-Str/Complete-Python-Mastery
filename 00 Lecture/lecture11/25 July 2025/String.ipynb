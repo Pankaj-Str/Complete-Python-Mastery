{
 "cells": [
  {
   "cell_type": "code",
   "execution_count": null,
   "id": "32f05067",
   "metadata": {},
   "outputs": [
    {
     "name": "stdout",
     "output_type": "stream",
     "text": [
      "welcome\n"
     ]
    }
   ],
   "source": [
    "data = \"welcome\"\n",
    "\n",
    "print(data)"
   ]
  },
  {
   "cell_type": "code",
   "execution_count": 6,
   "id": "a4dd23c7",
   "metadata": {},
   "outputs": [
    {
     "name": "stdout",
     "output_type": "stream",
     "text": [
      "l\n",
      "c\n",
      "lco\n",
      "welc\n",
      "come\n"
     ]
    }
   ],
   "source": [
    "# access single char\n",
    "\n",
    "print(data[2])\n",
    "print(data[-4])\n",
    "\n",
    "# slice\n",
    "\n",
    "print(data[2:5])\n",
    "print(data[:4])\n",
    "print(data[3:])"
   ]
  },
  {
   "cell_type": "code",
   "execution_count": 36,
   "id": "ff1a3462",
   "metadata": {},
   "outputs": [
    {
     "name": "stdout",
     "output_type": "stream",
     "text": [
      "WELCOME TO CODES WITH PANKAJ\n",
      "welcome to codes with pankaj\n",
      "('Wel', 'c', 'ome to codes with pankaj')\n",
      "Welcome to pythons with pankaj\n",
      "3\n",
      "welcome to\n",
      "['Welcome', 'to', 'codes', 'with', 'pankaj']\n",
      "True\n",
      "True\n",
      "17\n"
     ]
    }
   ],
   "source": [
    "# # function \n",
    "data = \"Welcome to codes with pankaj\" \n",
    "# 1. upper() converts the string to uppercase\n",
    "print(data.upper())\n",
    "# 2. lower() converts the string to lowercase\n",
    "print(data.lower())\n",
    "# 3. partition() returns a tuple\n",
    "print(data.partition(\"c\"))\n",
    "# 4. replace() replaces substring inside\n",
    "print(data.replace(\"code\",\"python\"))\n",
    "# 5. find() returns the index of first occurrence of substring\n",
    "print(data.find(\"c\"))\n",
    "# 6. rstrip() removes trailing characters\n",
    "data = \"   welcome to     \"\n",
    "print(data.strip())\n",
    "# 7. split() splits string from left\n",
    "data = \"Welcome to codes with pankaj\" \n",
    "print(data.split(\" \"))\n",
    "# 8. startswith() checks if string starts with the specified string\n",
    "print(data.startswith(\"Welcome\"))\n",
    "# 9. isnumeric() checks numeric characters\n",
    "data = \"23\"\n",
    "print(data.isnumeric())\n",
    "# 10. index() returns index of substring\n",
    "data = \"Welcome to codes with pankaj\" \n",
    "print(data.index(\"w\"))\t\t\t"
   ]
  },
  {
   "cell_type": "code",
   "execution_count": 41,
   "id": "6cde8b16",
   "metadata": {},
   "outputs": [
    {
     "name": "stdout",
     "output_type": "stream",
     "text": [
      "my name is  joy , my age is  23 and my height  4.5\n",
      "my name is joy , my age is 23 and my height is 4.5\n",
      "my name is joy , my height is 4.5 and my age is 23\n",
      "my name is joy , my height is 23 and my age is 4.5\n"
     ]
    }
   ],
   "source": [
    "# format()\n",
    "\n",
    "name = \"joy\"\n",
    "age = 23\n",
    "height = 4.5\n",
    "\n",
    "print(\"my name is \",name,\", my age is \",age,\"and my height \",height)\n",
    "\n",
    "print(\"my name is {0} , my age is {1} and my height is {2}\".format(name,age,height))\n",
    "\n",
    "print(\"my name is {0} , my height is {2} and my age is {1}\".format(name,age,height))\n",
    "\n",
    "print(f\"my name is {name} , my height is {age} and my age is {height}\")\n"
   ]
  },
  {
   "cell_type": "code",
   "execution_count": 43,
   "id": "9882de7f",
   "metadata": {},
   "outputs": [
    {
     "name": "stdout",
     "output_type": "stream",
     "text": [
      "w\n",
      "e\n",
      "l\n",
      "c\n",
      "o\n",
      "m\n",
      "e\n"
     ]
    }
   ],
   "source": [
    "data = \"welcome\"\n",
    "for i in data:\n",
    "    print(i)"
   ]
  }
 ],
 "metadata": {
  "kernelspec": {
   "display_name": "Python 3",
   "language": "python",
   "name": "python3"
  },
  "language_info": {
   "codemirror_mode": {
    "name": "ipython",
    "version": 3
   },
   "file_extension": ".py",
   "mimetype": "text/x-python",
   "name": "python",
   "nbconvert_exporter": "python",
   "pygments_lexer": "ipython3",
   "version": "3.13.1"
  }
 },
 "nbformat": 4,
 "nbformat_minor": 5
}
