{
 "cells": [
  {
   "cell_type": "code",
   "execution_count": 2,
   "id": "abe708aa",
   "metadata": {},
   "outputs": [],
   "source": [
    "# {key : value}\n",
    "\n",
    "data = {\"name\":\"joy\",\"age\":12,\"height\":5.6 }"
   ]
  },
  {
   "cell_type": "code",
   "execution_count": 3,
   "id": "5d241eb6",
   "metadata": {},
   "outputs": [
    {
     "name": "stdout",
     "output_type": "stream",
     "text": [
      "joy\n"
     ]
    }
   ],
   "source": [
    "# access data \n",
    "print(data['name'])"
   ]
  },
  {
   "cell_type": "code",
   "execution_count": 4,
   "id": "6ea6345c",
   "metadata": {},
   "outputs": [
    {
     "name": "stdout",
     "output_type": "stream",
     "text": [
      "{'name': 'joy', 'age': 35, 'height': 5.6}\n"
     ]
    }
   ],
   "source": [
    "# update \n",
    "data['age'] = 35\n",
    "print(data)"
   ]
  },
  {
   "cell_type": "code",
   "execution_count": 5,
   "id": "131358d9",
   "metadata": {},
   "outputs": [
    {
     "name": "stdout",
     "output_type": "stream",
     "text": [
      "{'name': 'joy', 'age': 35, 'height': 5.6, 'city': 'mumbai'}\n"
     ]
    }
   ],
   "source": [
    "# add new item into\n",
    "data['city'] = 'mumbai'\n",
    "print(data)"
   ]
  },
  {
   "cell_type": "code",
   "execution_count": 7,
   "id": "981a9088",
   "metadata": {},
   "outputs": [
    {
     "name": "stdout",
     "output_type": "stream",
     "text": [
      "name = joy\n",
      "age = 35\n",
      "height = 5.6\n",
      "city = mumbai\n"
     ]
    }
   ],
   "source": [
    "# print all \n",
    "for i in data:\n",
    "    print(f'{i} = {data[i]}')"
   ]
  },
  {
   "cell_type": "code",
   "execution_count": null,
   "id": "d544ac3f",
   "metadata": {},
   "outputs": [
    {
     "name": "stdout",
     "output_type": "stream",
     "text": [
      "dict_keys(['name', 'age', 'height', 'city'])\n"
     ]
    }
   ],
   "source": [
    "# Dictionary Methods:\n",
    "\n",
    "# Python provides several useful methods for working with dictionaries:\n",
    "\n",
    "# keys(): Returns a list of all keys in the dictionary.\n",
    "print(data.keys())\n"
   ]
  },
  {
   "cell_type": "code",
   "execution_count": 9,
   "id": "4e694888",
   "metadata": {},
   "outputs": [
    {
     "name": "stdout",
     "output_type": "stream",
     "text": [
      "dict_values(['joy', 35, 5.6, 'mumbai'])\n"
     ]
    }
   ],
   "source": [
    "# values(): Returns a list of all values in the dictionary.\n",
    "print(data.values())"
   ]
  },
  {
   "cell_type": "code",
   "execution_count": 10,
   "id": "c81dd43c",
   "metadata": {},
   "outputs": [
    {
     "name": "stdout",
     "output_type": "stream",
     "text": [
      "dict_items([('name', 'joy'), ('age', 35), ('height', 5.6), ('city', 'mumbai')])\n"
     ]
    }
   ],
   "source": [
    "# items(): Returns a list of key-value pairs as tuples.\n",
    "print(data.items())"
   ]
  },
  {
   "cell_type": "code",
   "execution_count": 12,
   "id": "19e19e3a",
   "metadata": {},
   "outputs": [
    {
     "name": "stdout",
     "output_type": "stream",
     "text": [
      "joy\n"
     ]
    }
   ],
   "source": [
    "# get(key, default): Returns the value for a key if it exists, else returns a default value.\n",
    "print(data.get('name'))"
   ]
  },
  {
   "cell_type": "code",
   "execution_count": 13,
   "id": "a5c80e0b",
   "metadata": {},
   "outputs": [
    {
     "name": "stdout",
     "output_type": "stream",
     "text": [
      "{'name': 'joy', 'age': 35, 'city': 'mumbai'}\n"
     ]
    }
   ],
   "source": [
    "# pop(key, default): Removes and returns the value associated with the key.\n",
    "data.pop('height')\n",
    "print(data)"
   ]
  },
  {
   "cell_type": "code",
   "execution_count": 15,
   "id": "dcb464b4",
   "metadata": {},
   "outputs": [],
   "source": [
    "data = {\n",
    "        \"Name\": \"Baroda House\",\n",
    "        \"Description\": \"null\",\n",
    "        \"BranchType\": \"Sub Post Office\",\n",
    "        \"DeliveryStatus\": \"Non-Delivery\",\n",
    "        \"Circle\": \"Delhi\",\n",
    "        \"District\": \"Central Delhi\",\n",
    "        \"Division\": \"New Delhi Central\",\n",
    "        \"Region\": \"Delhi\",\n",
    "        \"Block\": \"New Delhi\",\n",
    "        \"State\": \"Delhi\",\n",
    "        \"Country\": \"India\",\n",
    "        \"Pincode\": \"110001\"\n",
    "      }"
   ]
  },
  {
   "cell_type": "code",
   "execution_count": 16,
   "id": "4d2dc2b5",
   "metadata": {},
   "outputs": [
    {
     "name": "stdout",
     "output_type": "stream",
     "text": [
      "dict_keys(['Name', 'Description', 'BranchType', 'DeliveryStatus', 'Circle', 'District', 'Division', 'Region', 'Block', 'State', 'Country', 'Pincode'])\n"
     ]
    }
   ],
   "source": [
    "print(data.keys())"
   ]
  },
  {
   "cell_type": "code",
   "execution_count": null,
   "id": "bd4cb2e1",
   "metadata": {},
   "outputs": [
    {
     "name": "stdout",
     "output_type": "stream",
     "text": [
      "Name=Baroda House\n",
      "Description=null\n",
      "BranchType=Sub Post Office\n",
      "DeliveryStatus=Non-Delivery\n",
      "Circle=Delhi\n",
      "District=Central Delhi\n",
      "Division=New Delhi Central\n",
      "Region=Delhi\n",
      "Block=New Delhi\n",
      "State=Delhi\n",
      "Country=India\n",
      "Pincode=110001\n"
     ]
    }
   ],
   "source": [
    "for i in data:\n",
    "    print(f'{i}={data[i]}')"
   ]
  },
  {
   "cell_type": "code",
   "execution_count": 19,
   "id": "a74cff52",
   "metadata": {},
   "outputs": [
    {
     "name": "stdout",
     "output_type": "stream",
     "text": [
      "Baroda House\n",
      "null\n",
      "Sub Post Office\n",
      "Non-Delivery\n",
      "Delhi\n",
      "Central Delhi\n",
      "New Delhi Central\n",
      "Delhi\n",
      "New Delhi\n",
      "Delhi\n",
      "India\n",
      "110001\n"
     ]
    }
   ],
   "source": [
    "new_list = []\n",
    "\n",
    "for i in data:\n",
    "    new_list.append(data[i])\n",
    "\n",
    "# print(new_list)\n",
    "\n",
    "for i in new_list:\n",
    "    print(i)"
   ]
  },
  {
   "cell_type": "code",
   "execution_count": null,
   "id": "6b4499c4",
   "metadata": {},
   "outputs": [],
   "source": [
    "# --- input Section ---\n",
    "# Enter SKU ( Unique Number ) : 101\n",
    "# Enter Product Name : Books\n",
    "# Enter Product QT : 20\n",
    "# Enter Single Book Price : 120/-\n",
    "\n",
    "# Do you Want Add more [Y/N]\n",
    "# Y\n",
    "# Enter SKU ( Unique Number ) : 102\n",
    "# Enter Product Name : toy\n",
    "# Enter Product QT : 5\n",
    "# Enter Single Book Price : 560/-\n",
    "\n",
    "# Do you Want Add more [Y/N]\n",
    "# Y\n",
    "# Enter SKU ( Unique Number ) : 103\n",
    "# Enter Product Name : Samosa\n",
    "# Enter Product QT : 250\n",
    "# Enter Single Book Price : 20/-\n",
    "\n",
    "# Do you Want Add more [Y/N]\n",
    "# N\n",
    "# --- Output Section---------\n",
    "# ------  Search Item ------\n",
    "# Enter Product Item Form SKU No. 103\n",
    "# Total Cost : 5000/-\n",
    "# Product Name : Samosa\n",
    "# QT : 250 \n",
    "# Single Price : 20/-\n"
   ]
  }
 ],
 "metadata": {
  "kernelspec": {
   "display_name": "Python 3",
   "language": "python",
   "name": "python3"
  },
  "language_info": {
   "codemirror_mode": {
    "name": "ipython",
    "version": 3
   },
   "file_extension": ".py",
   "mimetype": "text/x-python",
   "name": "python",
   "nbconvert_exporter": "python",
   "pygments_lexer": "ipython3",
   "version": "3.13.5"
  }
 },
 "nbformat": 4,
 "nbformat_minor": 5
}
