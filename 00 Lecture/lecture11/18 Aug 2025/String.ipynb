{
 "cells": [
  {
   "cell_type": "code",
   "execution_count": 1,
   "id": "bb8e55e4",
   "metadata": {},
   "outputs": [
    {
     "name": "stdout",
     "output_type": "stream",
     "text": [
      "Welcome to Python Learning\n"
     ]
    }
   ],
   "source": [
    "data = \"Welcome to Python Learning\"\n",
    "print(data)"
   ]
  },
  {
   "cell_type": "code",
   "execution_count": 3,
   "id": "71f3bbe8",
   "metadata": {},
   "outputs": [
    {
     "name": "stdout",
     "output_type": "stream",
     "text": [
      "this is your full name Nishant jain\n"
     ]
    }
   ],
   "source": [
    "first_name = \"Nishant\"\n",
    "Last_name = \" jain\"\n",
    "\n",
    "full_name = first_name + Last_name\n",
    "\n",
    "print(\"this is your full name \"+full_name)\n"
   ]
  },
  {
   "cell_type": "code",
   "execution_count": 6,
   "id": "4ae78e5b",
   "metadata": {},
   "outputs": [
    {
     "name": "stdout",
     "output_type": "stream",
     "text": [
      "welcome welcome welcome welcome \n"
     ]
    }
   ],
   "source": [
    "print(\"welcome \"*4)"
   ]
  },
  {
   "cell_type": "code",
   "execution_count": 10,
   "id": "cbf652ee",
   "metadata": {},
   "outputs": [
    {
     "name": "stdout",
     "output_type": "stream",
     "text": [
      "l\n",
      "Wel\n",
      "come\n",
      "co\n"
     ]
    }
   ],
   "source": [
    "data = 'Welcome'\n",
    "print(data[2])\n",
    "print(data[:3])\n",
    "print(data[3:])\n",
    "print(data[3:5])"
   ]
  },
  {
   "cell_type": "code",
   "execution_count": 12,
   "id": "f4a3f84d",
   "metadata": {},
   "outputs": [
    {
     "name": "stdout",
     "output_type": "stream",
     "text": [
      "CODES WITH PANKAJ\n",
      "codes with pankaj\n"
     ]
    }
   ],
   "source": [
    "data = \"Codes With Pankaj\"\n",
    "# 1. upper() converts the string to uppercase\n",
    "print(data.upper())\n",
    "# 2. lower() converts the string to lowercase\n",
    "print(data.lower())"
   ]
  },
  {
   "cell_type": "code",
   "execution_count": 36,
   "id": "148a7e03",
   "metadata": {},
   "outputs": [
    {
     "name": "stdout",
     "output_type": "stream",
     "text": [
      "('Codes With P', 'a', 'nkaj')\n",
      "Python With Pankaj\n",
      "6\n",
      "Welcome      Welcome\n",
      "Welcome Welcome\n",
      "welcome Codes\n",
      "['Codes', 'With', 'Pankaj']\n",
      "True\n",
      "True\n",
      "True\n",
      "6\n"
     ]
    }
   ],
   "source": [
    "# 3. partition() returns a tuple\n",
    "print(data.partition(\"a\"))\n",
    "# 4. replace() replaces substring inside\n",
    "print(data.replace(\"Codes\",\"Python\"))\n",
    "# 5. find() returns the index of first occurrence of substring\n",
    "print(data.find(\"W\"))\n",
    "# 6. rstrip() removes trailing characters\n",
    "new_data = \"Welcome     \"\n",
    "print(new_data,\"Welcome\")\n",
    "print(new_data.rstrip(),\"Welcome\")\n",
    "my_data = \"    Codes\"\n",
    "print(\"welcome\",my_data.strip())\n",
    "# 7. split() splits string from left (list)\n",
    "print(data.split(\" \"))\n",
    "# 8. startswith() checks if string starts with the specified string\n",
    "print(data.startswith(\"C\"))\n",
    "print(data.startswith(\"Codes\"))\n",
    "# 9. isnumeric() checks numeric characters\n",
    "number = \"90\"\n",
    "print(number.isnumeric())\n",
    "# 10. index() returns index of substring\n",
    "print(data.index(\"W\"))"
   ]
  },
  {
   "cell_type": "code",
   "execution_count": 40,
   "id": "3c5c8788",
   "metadata": {},
   "outputs": [
    {
     "name": "stdout",
     "output_type": "stream",
     "text": [
      "My Name is  joy Age is  23 and height  4.5\n",
      "My name is joy age is 23 and height 4.5 \n",
      "My name is joy and age 23, height 4.5\n"
     ]
    }
   ],
   "source": [
    "# Format()\n",
    "\n",
    "name = \"joy\"\n",
    "height = 4.5\n",
    "age = 23\n",
    "\n",
    "print('My Name is ',name,'Age is ',age,'and height ',height)\n",
    "\n",
    "print('My name is {0} age is {1} and height {2} '.format(name,age,height))\n",
    "\n",
    "print(f'My name is {name} and age {age}, height {height}')"
   ]
  },
  {
   "cell_type": "code",
   "execution_count": 41,
   "id": "b3bb28d9",
   "metadata": {},
   "outputs": [
    {
     "name": "stdout",
     "output_type": "stream",
     "text": [
      "C\n",
      "o\n",
      "d\n",
      "e\n",
      "s\n",
      " \n",
      "W\n",
      "i\n",
      "t\n",
      "h\n",
      " \n",
      "P\n",
      "a\n",
      "n\n",
      "k\n",
      "a\n",
      "j\n"
     ]
    }
   ],
   "source": [
    "for i in data:\n",
    "    print(i)"
   ]
  }
 ],
 "metadata": {
  "kernelspec": {
   "display_name": "Python 3",
   "language": "python",
   "name": "python3"
  },
  "language_info": {
   "codemirror_mode": {
    "name": "ipython",
    "version": 3
   },
   "file_extension": ".py",
   "mimetype": "text/x-python",
   "name": "python",
   "nbconvert_exporter": "python",
   "pygments_lexer": "ipython3",
   "version": "3.13.5"
  }
 },
 "nbformat": 4,
 "nbformat_minor": 5
}
