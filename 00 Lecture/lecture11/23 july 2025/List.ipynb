{
 "cells": [
  {
   "cell_type": "code",
   "execution_count": 5,
   "id": "dc2ecb3f",
   "metadata": {},
   "outputs": [
    {
     "name": "stdout",
     "output_type": "stream",
     "text": [
      "[]\n",
      "<class 'list'>\n",
      "[1, 2, 3, 4, 5]\n",
      "['apple', 'banana', 'cherry']\n",
      "[1, 'apple', 3.5, True, None]\n"
     ]
    }
   ],
   "source": [
    "# create a empty list \n",
    "data = []\n",
    "print(data)\n",
    "# check data type\n",
    "print(type(data))\n",
    "\n",
    "# create a int list \n",
    "data = [1, 2, 3, 4, 5]\n",
    "print(data)\n",
    "\n",
    "# create a string list\n",
    "data = [\"apple\", \"banana\", \"cherry\"]\n",
    "print(data)\n",
    "\n",
    "# create a list with mixed data types\n",
    "data = [1, \"apple\", 3.5, True, None]\n",
    "print(data)"
   ]
  },
  {
   "cell_type": "code",
   "execution_count": 8,
   "id": "92186ec3",
   "metadata": {},
   "outputs": [
    {
     "name": "stdout",
     "output_type": "stream",
     "text": [
      "[21, 22, 23, 24, 25, 26, 27, 28]\n",
      "24\n",
      "28\n"
     ]
    }
   ],
   "source": [
    "# access elements from list \n",
    "data = [21,22,23,24,25,26,27,28]\n",
    "print(data)\n",
    "\n",
    "# access elements from list using index\n",
    "print(data[3])\n",
    "# access data from -ve index\n",
    "print(data[-1])"
   ]
  },
  {
   "cell_type": "code",
   "execution_count": 16,
   "id": "bb21d913",
   "metadata": {},
   "outputs": [
    {
     "name": "stdout",
     "output_type": "stream",
     "text": [
      "[23, 24, 25]\n",
      "[21, 22, 23, 24]\n",
      "[24, 25, 26, 27, 28]\n",
      "[21, 22, 23, 24, 25, 26, 27, 28]\n",
      "[21, 22, 23, 24, 25, 26, 27, 28]\n",
      "[24, 25, 26]\n"
     ]
    }
   ],
   "source": [
    "# slice the list \n",
    "print(data[2:5])\n",
    "print(data[:4])\n",
    "print(data[3:])\n",
    "print(data[:])\n",
    "print(data)\n",
    "\n",
    "print(data[-5:-2])"
   ]
  },
  {
   "cell_type": "code",
   "execution_count": null,
   "id": "bd0f6b3a",
   "metadata": {},
   "outputs": [
    {
     "name": "stdout",
     "output_type": "stream",
     "text": [
      "[21, 22, 99, 24, 25, 26, 27, 28]\n"
     ]
    }
   ],
   "source": [
    "# update data \n",
    "data = [21,22,23,24,25,26,27,28]\n",
    "\n",
    "data[2] = 99\n",
    "print(data)\n"
   ]
  },
  {
   "cell_type": "code",
   "execution_count": 18,
   "id": "f7ae0408",
   "metadata": {},
   "outputs": [
    {
     "name": "stdout",
     "output_type": "stream",
     "text": [
      "[21, 22, 99, 24, 25, 26, 27, 28, 90]\n"
     ]
    }
   ],
   "source": [
    "# add new data \n",
    "data.append(90)\n",
    "print(data)"
   ]
  },
  {
   "cell_type": "code",
   "execution_count": 19,
   "id": "dc2aeffb",
   "metadata": {},
   "outputs": [
    {
     "name": "stdout",
     "output_type": "stream",
     "text": [
      "[21, 22, 99, 24, 80, 25, 26, 27, 28, 90]\n"
     ]
    }
   ],
   "source": [
    "# insert(index,value)\n",
    "data.insert(4,80)\n",
    "print(data)"
   ]
  },
  {
   "cell_type": "code",
   "execution_count": 21,
   "id": "fc84e47c",
   "metadata": {},
   "outputs": [
    {
     "name": "stdout",
     "output_type": "stream",
     "text": [
      "[21, 22, 99, 24, 80, 25, 26, 27, 28, 90, 102, 103, 104]\n"
     ]
    }
   ],
   "source": [
    "new_list = [102,103,104]\n",
    "# print(new_list)\n",
    "\n",
    "data.extend(new_list)\n",
    "print(data)"
   ]
  },
  {
   "cell_type": "code",
   "execution_count": 23,
   "id": "ea5819bd",
   "metadata": {},
   "outputs": [
    {
     "name": "stdout",
     "output_type": "stream",
     "text": [
      "[21, 22, 99, 24, 80, 25, 26, 27, 28, 90, 102]\n"
     ]
    }
   ],
   "source": [
    "#remove data \n",
    "# pop()\n",
    "data.pop()\n",
    "print(data)"
   ]
  },
  {
   "cell_type": "code",
   "execution_count": 25,
   "id": "e804a583",
   "metadata": {},
   "outputs": [
    {
     "name": "stdout",
     "output_type": "stream",
     "text": [
      "[21, 22, 99, 24, 25, 26, 27, 28, 90, 102]\n"
     ]
    }
   ],
   "source": [
    "data.remove(80)\n",
    "print(data)"
   ]
  },
  {
   "cell_type": "code",
   "execution_count": 29,
   "id": "e4cb5c12",
   "metadata": {},
   "outputs": [
    {
     "name": "stdout",
     "output_type": "stream",
     "text": [
      "smaosa\n",
      "jalebi\n",
      "fafda\n"
     ]
    }
   ],
   "source": [
    "# how to take user input into list \n",
    "\n",
    "product = []\n",
    "\n",
    "size = int(input(\"Enter the number of products: \"))\n",
    "\n",
    "for i in range(size):\n",
    "    i = input(\"Enter product name: \")\n",
    "    product.append(i)\n",
    "    \n",
    "# print(product)\n",
    "\n",
    "for i in range(size):\n",
    "    print(product[i])    "
   ]
  },
  {
   "cell_type": "code",
   "execution_count": null,
   "id": "6c4f8866",
   "metadata": {},
   "outputs": [],
   "source": [
    "\n",
    "# -- User input section\n",
    "# Enter Product List Size : 4\n",
    "# Enter Product 1 -\n",
    "# Samosa\n",
    "# Enter Product 2 -\n",
    "# Kachori\n",
    "# Enter Product 3 -\n",
    "# Fafda\n",
    "# Enter Product 4 -\n",
    "# Jalebi\n",
    "\n",
    "# Enter Samosa Price :\n",
    "# 300/-\n",
    "# Enter Kachori Price :\n",
    "# 100/-\n",
    "# Enter Fafda Price :\n",
    "# 100/-\n",
    "# Enter Jalebi Price :\n",
    "# 200/-\n",
    "\n",
    "# --- output\n",
    "\n",
    "# samosa = 300\n",
    "# kachori = 100\n",
    "# fafda = 100\n",
    "# jalebi = 200\n"
   ]
  },
  {
   "cell_type": "code",
   "execution_count": null,
   "id": "24349243",
   "metadata": {},
   "outputs": [],
   "source": [
    "# -- User input section\n",
    "# Enter Product List Size : 4\n",
    "# Enter Product 1 -\n",
    "# Samosa\n",
    "# Enter Product 2 -\n",
    "# Kachori\n",
    "# Enter Product 3 -\n",
    "# Fafda\n",
    "# Enter Product 4 -\n",
    "# Jalebi\n",
    "\n",
    "# Enter Samosa Price :\n",
    "# 300/-\n",
    "# Enter Kachori Price :\n",
    "# 100/-\n",
    "# Enter Fafda Price :\n",
    "# 100/-\n",
    "# Enter Jalebi Price :\n",
    "# 200/-\n",
    "\n",
    "# Do You Want to add GST [Y/N]\n",
    "# [note : if user select `N` Print bill without GST]\n",
    "# [Note User select yes `Y`]\n",
    "# Enter GST % = 18\n",
    "# -------Out put -------\n",
    "\n",
    "# 1. Samosa = 300/-\n",
    "# 2. Kachori = 100/-\n",
    "# 3. Fafda = 100/-\n",
    "# 4. Jalebi = 200/-\n",
    "# -------------------\n",
    "# Total = 700\n",
    "# GST = 18%\n",
    "# -------------------\n",
    "# Final Total = 826/-\n",
    "# -------------------"
   ]
  },
  {
   "cell_type": "code",
   "execution_count": null,
   "id": "45839905",
   "metadata": {},
   "outputs": [],
   "source": [
    "# -- User input section\n",
    "# Enter Product 1 -\n",
    "# Samosa\n",
    "# Do you Want to add more [Y/N]\n",
    "# Y\n",
    "# Enter Product 2 -\n",
    "# Kachori\n",
    "# Do you Want to add more [Y/N]\n",
    "# Y\n",
    "# Enter Product 3 -\n",
    "# Fafda\n",
    "# Do you Want to add more [Y/N]\n",
    "# Y\n",
    "# Enter Product 4 -\n",
    "# Jalebi\n",
    "# Do you Want to add more [Y/N]\n",
    "# N\n",
    "# Enter Samosa Price :\n",
    "# 300/-\n",
    "# Enter Kachori Price :\n",
    "# 100/-\n",
    "# Enter Fafda Price :\n",
    "# 100/-\n",
    "# Enter Jalebi Price :\n",
    "# 200/-\n",
    "\n",
    "# Do You Want to add GST [Y/N]\n",
    "# [note : if user select `N` Print bill without GST]\n",
    "# [Note User select yes `Y`]\n",
    "# Enter GST % = 18\n",
    "# -------Out put -------\n",
    "\n",
    "# 1. Samosa = 300/-\n",
    "# 2. Kachori = 100/-\n",
    "# 3. Fafda = 100/-\n",
    "# 4. Jalebi = 200/-\n",
    "# -------------------\n",
    "# Total = 700\n",
    "# GST = 18%\n",
    "# -------------------\n",
    "# Final Total = 826/-\n",
    "# -------------------"
   ]
  }
 ],
 "metadata": {
  "kernelspec": {
   "display_name": "Python 3",
   "language": "python",
   "name": "python3"
  },
  "language_info": {
   "codemirror_mode": {
    "name": "ipython",
    "version": 3
   },
   "file_extension": ".py",
   "mimetype": "text/x-python",
   "name": "python",
   "nbconvert_exporter": "python",
   "pygments_lexer": "ipython3",
   "version": "3.13.1"
  }
 },
 "nbformat": 4,
 "nbformat_minor": 5
}
