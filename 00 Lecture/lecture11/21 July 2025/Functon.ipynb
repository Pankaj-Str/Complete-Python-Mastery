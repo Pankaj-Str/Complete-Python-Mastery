{
 "cells": [
  {
   "cell_type": "code",
   "execution_count": 9,
   "id": "93b81776",
   "metadata": {},
   "outputs": [
    {
     "name": "stdout",
     "output_type": "stream",
     "text": [
      "welcome\n",
      "124\n",
      "12\n",
      "range(0, 10)\n",
      "55\n"
     ]
    }
   ],
   "source": [
    "print(\"welcome\") # function \n",
    "\n",
    "print(sum([12,23,34,55]))\n",
    "print(min([12,23,34,55]))\n",
    "\n",
    "print(range(10))  # range function\n",
    "\n",
    "print(max([12,23,34,55]))"
   ]
  },
  {
   "cell_type": "code",
   "execution_count": null,
   "id": "eab8b0fc",
   "metadata": {},
   "outputs": [],
   "source": [
    "# functions\n",
    "# basic functions in python\n",
    "\n",
    "# def function_name():\n",
    "#     output"
   ]
  },
  {
   "cell_type": "code",
   "execution_count": 12,
   "id": "c7b2b29b",
   "metadata": {},
   "outputs": [
    {
     "name": "stdout",
     "output_type": "stream",
     "text": [
      "This is a function that prints information.\n",
      "This is a function that prints information.\n"
     ]
    }
   ],
   "source": [
    "# basic functions in python\n",
    "\n",
    "def info():\n",
    "    print(\"This is a function that prints information.\")\n",
    "\n",
    "# calling the function\n",
    "info()   \n",
    "info()  "
   ]
  },
  {
   "cell_type": "code",
   "execution_count": 13,
   "id": "f9dfb78b",
   "metadata": {},
   "outputs": [],
   "source": [
    "# function with parameters(arguments) # input into function\n",
    "\n",
    "def addition(a, b):\n",
    "    result = a + b\n",
    "    print(result)"
   ]
  },
  {
   "cell_type": "code",
   "execution_count": 15,
   "id": "55e99073",
   "metadata": {},
   "outputs": [
    {
     "name": "stdout",
     "output_type": "stream",
     "text": [
      "46\n",
      "823\n"
     ]
    }
   ],
   "source": [
    "# call function \n",
    "addition(12,34)\n",
    "addition(23,800)"
   ]
  },
  {
   "cell_type": "code",
   "execution_count": 16,
   "id": "18e02485",
   "metadata": {},
   "outputs": [],
   "source": [
    "def bill(price,tax):\n",
    "    gst_amount = price*tax/100\n",
    "    final_price = gst_amount + price\n",
    "    print(\"Price = ₹\",price,\"/-\")\n",
    "    print(\"Tax = \",tax,\"%\")\n",
    "    print(\"GST Amount = ₹\",gst_amount,\"/-\")\n",
    "    print(\"MRP = ₹\",final_price,\"/-\")\n",
    "    print(\"-------------------------\")"
   ]
  },
  {
   "cell_type": "code",
   "execution_count": 17,
   "id": "b5dd3f46",
   "metadata": {},
   "outputs": [
    {
     "name": "stdout",
     "output_type": "stream",
     "text": [
      "Price = ₹ 4500 /-\n",
      "Tax =  18 %\n",
      "GST Amount = ₹ 810.0 /-\n",
      "MRP = ₹ 5310.0 /-\n",
      "-------------------------\n",
      "Price = ₹ 1200 /-\n",
      "Tax =  2 %\n",
      "GST Amount = ₹ 24.0 /-\n",
      "MRP = ₹ 1224.0 /-\n",
      "-------------------------\n",
      "Price = ₹ 7000 /-\n",
      "Tax =  9 %\n",
      "GST Amount = ₹ 630.0 /-\n",
      "MRP = ₹ 7630.0 /-\n",
      "-------------------------\n"
     ]
    }
   ],
   "source": [
    "bill(4500,18)\n",
    "bill(1200,2)\n",
    "bill(7000,9)"
   ]
  },
  {
   "cell_type": "code",
   "execution_count": 18,
   "id": "a1dce6be",
   "metadata": {},
   "outputs": [
    {
     "name": "stdout",
     "output_type": "stream",
     "text": [
      "100\n"
     ]
    }
   ],
   "source": [
    "x = 100\n",
    "print(x)"
   ]
  },
  {
   "cell_type": "code",
   "execution_count": 20,
   "id": "08e7806c",
   "metadata": {},
   "outputs": [
    {
     "name": "stdout",
     "output_type": "stream",
     "text": [
      "400\n"
     ]
    }
   ],
   "source": [
    "def get_number():\n",
    "    return 400\n",
    "\n",
    "print(get_number())"
   ]
  },
  {
   "cell_type": "code",
   "execution_count": null,
   "id": "1d93d20a",
   "metadata": {},
   "outputs": [],
   "source": [
    "# function with parameters(arguments) with return type"
   ]
  },
  {
   "cell_type": "code",
   "execution_count": 21,
   "id": "a9de5e44",
   "metadata": {},
   "outputs": [],
   "source": [
    "def add(number1,number2):\n",
    "    return number1+number2"
   ]
  },
  {
   "cell_type": "code",
   "execution_count": 22,
   "id": "35c8f418",
   "metadata": {},
   "outputs": [
    {
     "name": "stdout",
     "output_type": "stream",
     "text": [
      "1058\n"
     ]
    }
   ],
   "source": [
    "number = add(12,34)\n",
    "\n",
    "print(number*23)"
   ]
  },
  {
   "cell_type": "markdown",
   "id": "b6cd38bb",
   "metadata": {},
   "source": [
    "## Home Loan EMI Calculator\n",
    "\n",
    "```yaml\n",
    "-- Input Section \n",
    "Loan Amount : =\n",
    "₹ 74,51,512\n",
    "Tenure (Years) := \n",
    "15\n",
    "Interest Rate (% P.A.) =\n",
    "5.19%\n",
    "\n",
    "-- output Section\n",
    "Monthly Home Loan EMI\n",
    "₹59,666\n",
    "View Details\n",
    "Principal Amount\n",
    "₹74,51,512\n",
    "Interest Amount\n",
    "₹32,88,408\n",
    "Total Amount Payable\n",
    "₹1,07,39,920\n",
    "```\n",
    "https://www.hdfc.com/home-loan-emi-calculator"
   ]
  }
 ],
 "metadata": {
  "kernelspec": {
   "display_name": "Python 3",
   "language": "python",
   "name": "python3"
  },
  "language_info": {
   "codemirror_mode": {
    "name": "ipython",
    "version": 3
   },
   "file_extension": ".py",
   "mimetype": "text/x-python",
   "name": "python",
   "nbconvert_exporter": "python",
   "pygments_lexer": "ipython3",
   "version": "3.10.11"
  }
 },
 "nbformat": 4,
 "nbformat_minor": 5
}
