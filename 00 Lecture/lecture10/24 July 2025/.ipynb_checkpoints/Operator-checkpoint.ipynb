{
 "cells": [
  {
   "cell_type": "code",
   "execution_count": 12,
   "id": "228696f1-228c-41e7-a911-90430c4d0a06",
   "metadata": {},
   "outputs": [
    {
     "name": "stdout",
     "output_type": "stream",
     "text": [
      "856\n",
      "722\n",
      "52863\n",
      "11.776119402985074\n",
      "11\n",
      "622521\n"
     ]
    }
   ],
   "source": [
    "# Arithmetic Operators (Math Tools)\n",
    "\n",
    "x = 789\n",
    "y = 67\n",
    "\n",
    "print(x+y)\n",
    "print(x-y)\n",
    "print(x*y)\n",
    "print(x/y)\n",
    "print(x//y)\n",
    "print(x**2)\n",
    "print(x%y)"
   ]
  },
  {
   "cell_type": "code",
   "execution_count": 18,
   "id": "25652ac0-4e41-46cd-81d5-162dfbb21159",
   "metadata": {},
   "outputs": [
    {
     "name": "stdout",
     "output_type": "stream",
     "text": [
      "False\n",
      "True\n",
      "False\n",
      "True\n",
      "False\n",
      "True\n",
      "True\n",
      "True\n"
     ]
    }
   ],
   "source": [
    "# Comparison Operators (Checking Things)\n",
    "\n",
    "print(80 > 90)\n",
    "print(80 < 90)\n",
    "print(80 == 90)\n",
    "print(80 != 90)\n",
    "\n",
    "print(80 <= 45)\n",
    "print(80 <= 80)\n",
    "\n",
    "print(80 >= 45)\n",
    "print(80 >= 80)"
   ]
  },
  {
   "cell_type": "code",
   "execution_count": 24,
   "id": "1be693c7-57e6-44d5-966a-8c3463248624",
   "metadata": {},
   "outputs": [
    {
     "name": "stdout",
     "output_type": "stream",
     "text": [
      "False\n",
      "True\n",
      "False\n"
     ]
    }
   ],
   "source": [
    "# Logical Operators (Combining Checks)\n",
    "\n",
    "# and \n",
    "\n",
    "print(45 < 90 and 78 != 78)\n",
    "\n",
    "# or \n",
    "print(45 < 90 or 78 != 78)\n",
    "\n",
    "# not \n",
    "\n",
    "print(not 34 == 34)"
   ]
  },
  {
   "cell_type": "code",
   "execution_count": 29,
   "id": "d07b91d4-a70e-4576-8d02-0c92ede9d89d",
   "metadata": {},
   "outputs": [
    {
     "name": "stdout",
     "output_type": "stream",
     "text": [
      "900\n",
      "910\n",
      "900\n",
      "90.0\n",
      "900.0\n",
      "0.0\n"
     ]
    }
   ],
   "source": [
    "# Assignment Operators (Saving Values)\n",
    "\n",
    "x = 900\n",
    "print(x)\n",
    "\n",
    "# x = x + 10\n",
    "x += 10\n",
    "print(x)\n",
    "\n",
    "x -= 10\n",
    "print(x)\n",
    "\n",
    "x /= 10\n",
    "print(x)\n",
    "\n",
    "x *= 10\n",
    "print(x)\n",
    "\n",
    "x %= 10\n",
    "print(x)\n"
   ]
  },
  {
   "cell_type": "code",
   "execution_count": 31,
   "id": "de12ec96-9e56-40c8-a3da-bb662b664d90",
   "metadata": {},
   "outputs": [
    {
     "name": "stdout",
     "output_type": "stream",
     "text": [
      "True\n",
      "False\n"
     ]
    }
   ],
   "source": [
    "# Membership Operators (Checking Lists or Words)\n",
    "data = \"welcome\"\n",
    "\n",
    "print(\"w\" in data)\n",
    "print(\"w\" not in data)"
   ]
  }
 ],
 "metadata": {
  "kernelspec": {
   "display_name": "Python 3 (ipykernel)",
   "language": "python",
   "name": "python3"
  },
  "language_info": {
   "codemirror_mode": {
    "name": "ipython",
    "version": 3
   },
   "file_extension": ".py",
   "mimetype": "text/x-python",
   "name": "python",
   "nbconvert_exporter": "python",
   "pygments_lexer": "ipython3",
   "version": "3.13.5"
  }
 },
 "nbformat": 4,
 "nbformat_minor": 5
}
