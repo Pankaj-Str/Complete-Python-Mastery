{
 "cells": [
  {
   "cell_type": "code",
   "execution_count": 1,
   "id": "5a965a7d",
   "metadata": {},
   "outputs": [
    {
     "name": "stdin",
     "output_type": "stream",
     "text": [
      "Enter Your Name -  joy\n",
      "Enter Your age -  34\n",
      "Enter Your height -  5,6\n"
     ]
    },
    {
     "name": "stdout",
     "output_type": "stream",
     "text": [
      "your name is  joy\n",
      "your age is  34\n",
      "your height is  5,6\n"
     ]
    }
   ],
   "source": [
    "# user input\n",
    "name = input('Enter Your Name - ')\n",
    "age = input('Enter Your age - ')\n",
    "height = input('Enter Your height - ')\n",
    "# output\n",
    "print('your name is ',name)\n",
    "print('your age is ',age)\n",
    "print('your height is ',height)"
   ]
  }
 ],
 "metadata": {
  "kernelspec": {
   "display_name": "Python 3 (ipykernel)",
   "language": "python",
   "name": "python3"
  },
  "language_info": {
   "codemirror_mode": {
    "name": "ipython",
    "version": 3
   },
   "file_extension": ".py",
   "mimetype": "text/x-python",
   "name": "python",
   "nbconvert_exporter": "python",
   "pygments_lexer": "ipython3",
   "version": "3.13.5"
  }
 },
 "nbformat": 4,
 "nbformat_minor": 5
}
