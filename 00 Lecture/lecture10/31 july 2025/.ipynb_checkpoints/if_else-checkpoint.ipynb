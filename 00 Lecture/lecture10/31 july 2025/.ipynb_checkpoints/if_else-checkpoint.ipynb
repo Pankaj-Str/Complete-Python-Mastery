{
 "cells": [
  {
   "cell_type": "code",
   "execution_count": 2,
   "id": "dc062238-241b-4816-9fa6-43b65547f570",
   "metadata": {},
   "outputs": [
    {
     "name": "stdout",
     "output_type": "stream",
     "text": [
      "a is not smallest ...\n"
     ]
    }
   ],
   "source": [
    "# find the smallest number \n",
    "a = 10\n",
    "b = 2\n",
    "\n",
    "if a < b:\n",
    "    print('a is smallest ...')\n",
    "else:\n",
    "    print('a is not smallest ...')"
   ]
  },
  {
   "cell_type": "code",
   "execution_count": 3,
   "id": "1b83706d-05c7-4178-b062-7bfbb07314ab",
   "metadata": {},
   "outputs": [
    {
     "name": "stdout",
     "output_type": "stream",
     "text": [
      "a is smallest ...\n"
     ]
    }
   ],
   "source": [
    "a = 20\n",
    "b = 30\n",
    "c = 4\n",
    "\n",
    "# find the smallest number \n",
    "if a < b and a < c:\n",
    "    print('a is smallest ...')\n",
    "elif b < a and b < c:\n",
    "    print('b is smallest ...')\n",
    "else:\n",
    "    print('c is smallest ...')"
   ]
  }
 ],
 "metadata": {
  "kernelspec": {
   "display_name": "Python 3 (ipykernel)",
   "language": "python",
   "name": "python3"
  },
  "language_info": {
   "codemirror_mode": {
    "name": "ipython",
    "version": 3
   },
   "file_extension": ".py",
   "mimetype": "text/x-python",
   "name": "python",
   "nbconvert_exporter": "python",
   "pygments_lexer": "ipython3",
   "version": "3.12.7"
  }
 },
 "nbformat": 4,
 "nbformat_minor": 5
}
