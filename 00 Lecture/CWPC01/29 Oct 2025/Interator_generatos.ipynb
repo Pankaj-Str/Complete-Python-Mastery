{
 "cells": [
  {
   "cell_type": "code",
   "execution_count": 1,
   "id": "5598af03",
   "metadata": {},
   "outputs": [
    {
     "name": "stdout",
     "output_type": "stream",
     "text": [
      "samosa\n",
      "kachori\n",
      "fafda\n",
      "jalebi\n"
     ]
    }
   ],
   "source": [
    "data = ['samosa','kachori','fafda','jalebi']\n",
    "\n",
    "for s in data:\n",
    "    print(s)"
   ]
  },
  {
   "cell_type": "code",
   "execution_count": 7,
   "id": "e37973d3",
   "metadata": {},
   "outputs": [
    {
     "name": "stdout",
     "output_type": "stream",
     "text": [
      "samosa\n",
      "kachori\n",
      "fafda\n",
      "jalebi\n"
     ]
    }
   ],
   "source": [
    "it = iter(data)\n",
    "print(next(it))\n",
    "print(next(it))\n",
    "print(next(it))\n",
    "print(next(it))\n"
   ]
  },
  {
   "cell_type": "code",
   "execution_count": 13,
   "id": "bda4a5bb",
   "metadata": {},
   "outputs": [
    {
     "name": "stdout",
     "output_type": "stream",
     "text": [
      "aloo samosa\n",
      "paneer samosa\n",
      "fafda samosa\n"
     ]
    }
   ],
   "source": [
    "# generator\n",
    "\n",
    "def samosa_machine():\n",
    "    yield \"aloo samosa\"\n",
    "    yield \"paneer samosa\"\n",
    "    yield \"fafda samosa\"\n",
    "    \n",
    "    \n",
    "# use this \n",
    "gen = samosa_machine()\n",
    "\n",
    "print(next(gen)) \n",
    "print(next(gen)) \n",
    "print(next(gen)) \n",
    "   \n",
    "    "
   ]
  },
  {
   "cell_type": "code",
   "execution_count": null,
   "id": "e84ea43f",
   "metadata": {},
   "outputs": [],
   "source": [
    "# diffrent \n",
    "\n",
    "# normal function \n",
    "# return value\n",
    "# all result in one time \n",
    "# large memory \n",
    "\n",
    "\n",
    "# generator function \n",
    "# yield multipal\n",
    "# one by one return data \n",
    "# memory low use \n"
   ]
  },
  {
   "cell_type": "code",
   "execution_count": 14,
   "id": "48559386",
   "metadata": {},
   "outputs": [],
   "source": [
    "def big_numbers():\n",
    "    for i in range(10000000000):\n",
    "        yield i"
   ]
  },
  {
   "cell_type": "code",
   "execution_count": 16,
   "id": "2ec62f49",
   "metadata": {},
   "outputs": [
    {
     "ename": "_IncompleteInputError",
     "evalue": "incomplete input (1891898565.py, line 3)",
     "output_type": "error",
     "traceback": [
      "  \u001b[36mCell\u001b[39m\u001b[36m \u001b[39m\u001b[32mIn[16]\u001b[39m\u001b[32m, line 3\u001b[39m\n\u001b[31m    \u001b[39m\u001b[31m#print(num)\u001b[39m\n               ^\n\u001b[31m_IncompleteInputError\u001b[39m\u001b[31m:\u001b[39m incomplete input\n"
     ]
    }
   ],
   "source": [
    "# use \n",
    "for num in big_numbers():\n",
    "    #print(num)"
   ]
  },
  {
   "cell_type": "code",
   "execution_count": null,
   "id": "09e4cf9a",
   "metadata": {},
   "outputs": [],
   "source": [
    "# iterable -> list , tuple , str (loop use)\n",
    "# iterator -> iter(),next  (single data )\n",
    "# generator -> yield  (lazy iterator use) "
   ]
  }
 ],
 "metadata": {
  "kernelspec": {
   "display_name": "Python 3",
   "language": "python",
   "name": "python3"
  },
  "language_info": {
   "codemirror_mode": {
    "name": "ipython",
    "version": 3
   },
   "file_extension": ".py",
   "mimetype": "text/x-python",
   "name": "python",
   "nbconvert_exporter": "python",
   "pygments_lexer": "ipython3",
   "version": "3.13.7"
  }
 },
 "nbformat": 4,
 "nbformat_minor": 5
}
