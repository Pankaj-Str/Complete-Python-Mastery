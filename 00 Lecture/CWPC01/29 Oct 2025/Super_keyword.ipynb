{
 "cells": [
  {
   "cell_type": "code",
   "execution_count": 1,
   "id": "8fcd843f",
   "metadata": {},
   "outputs": [],
   "source": [
    "# using super keyword to call parent class method\n",
    "\n",
    "class Car:\n",
    "    def start_engine(self):\n",
    "        print(\"Engine started\")"
   ]
  },
  {
   "cell_type": "code",
   "execution_count": 4,
   "id": "7d5da286",
   "metadata": {},
   "outputs": [],
   "source": [
    "class SportsCar(Car):\n",
    "    def start_engine(self):\n",
    "        super().start_engine()  # Call parent class method\n",
    "        print(\"Sports car engine roars!\")"
   ]
  },
  {
   "cell_type": "code",
   "execution_count": null,
   "id": "c82787b2",
   "metadata": {},
   "outputs": [
    {
     "name": "stdout",
     "output_type": "stream",
     "text": [
      "Engine started\n",
      "Sports car engine roars!\n"
     ]
    }
   ],
   "source": [
    "# object of SportsCar\n",
    "my_car = SportsCar()\n",
    "my_car.start_engine()  # Calls overridden method\n",
    "\n",
    "# child class overriding parent method"
   ]
  }
 ],
 "metadata": {
  "kernelspec": {
   "display_name": "Python 3",
   "language": "python",
   "name": "python3"
  },
  "language_info": {
   "codemirror_mode": {
    "name": "ipython",
    "version": 3
   },
   "file_extension": ".py",
   "mimetype": "text/x-python",
   "name": "python",
   "nbconvert_exporter": "python",
   "pygments_lexer": "ipython3",
   "version": "3.13.7"
  }
 },
 "nbformat": 4,
 "nbformat_minor": 5
}
