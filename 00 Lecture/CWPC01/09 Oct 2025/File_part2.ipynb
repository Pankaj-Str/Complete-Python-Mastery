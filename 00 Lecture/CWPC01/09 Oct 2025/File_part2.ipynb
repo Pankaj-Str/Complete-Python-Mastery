{
 "cells": [
  {
   "cell_type": "code",
   "execution_count": 1,
   "id": "2642a6b2",
   "metadata": {},
   "outputs": [
    {
     "name": "stdout",
     "output_type": "stream",
     "text": [
      "Requirement already satisfied: pytesseract in /Library/Frameworks/Python.framework/Versions/3.13/lib/python3.13/site-packages (0.3.13)\n",
      "Requirement already satisfied: pillow in /Library/Frameworks/Python.framework/Versions/3.13/lib/python3.13/site-packages (11.1.0)\n",
      "Requirement already satisfied: packaging>=21.3 in /Users/pankajchouhan/Library/Python/3.13/lib/python/site-packages (from pytesseract) (24.2)\n",
      "Note: you may need to restart the kernel to use updated packages.\n"
     ]
    }
   ],
   "source": [
    "%pip install pytesseract pillow"
   ]
  },
  {
   "cell_type": "code",
   "execution_count": null,
   "id": "11acec37",
   "metadata": {},
   "outputs": [],
   "source": [
    "from PIL import Image\n",
    "import pytesseract\n",
    "\n",
    "# If using Windows, specify Tesseract path\n",
    "pytesseract.pytesseract.tesseract_cmd = r\"C:\\Program Files\\Tesseract-OCR\\tesseract.exe\"\n",
    "\n",
    "# Load image\n",
    "img = Image.open(\"sample_image.png\")\n",
    "\n",
    "# Extract text\n",
    "text = pytesseract.image_to_string(img)\n",
    "\n",
    "print(\"Extracted Text:\")\n",
    "print(text)"
   ]
  },
  {
   "cell_type": "code",
   "execution_count": 22,
   "id": "afed59e0",
   "metadata": {},
   "outputs": [],
   "source": [
    "# file pointer\n",
    "# tell() - to get current position of file pointer\n",
    "# seek() - to set the position of file pointer\n",
    "\n",
    "# example :\n",
    "f = open(\"cwpc.txt\",\"w\")\n",
    "f.write(\"hello welcome to codes with pankaj\")\n",
    "f.close()\n"
   ]
  },
  {
   "cell_type": "code",
   "execution_count": 23,
   "id": "8fae040f",
   "metadata": {},
   "outputs": [
    {
     "name": "stdout",
     "output_type": "stream",
     "text": [
      "current position  0\n"
     ]
    }
   ],
   "source": [
    "# read and use seek , tell \n",
    "f = open(\"cwpc.txt\",\"r\")\n",
    "print(\"current position \",f.tell())"
   ]
  },
  {
   "cell_type": "code",
   "execution_count": 26,
   "id": "40d8ecc8",
   "metadata": {},
   "outputs": [
    {
     "name": "stdout",
     "output_type": "stream",
     "text": [
      "ome t\n"
     ]
    }
   ],
   "source": [
    "# read first 5 characters\n",
    "print(f.read(5))"
   ]
  },
  {
   "cell_type": "code",
   "execution_count": 27,
   "id": "4d9dbc4f",
   "metadata": {},
   "outputs": [
    {
     "name": "stdout",
     "output_type": "stream",
     "text": [
      "after read 5 char :  15\n"
     ]
    }
   ],
   "source": [
    "# position after reading 5 char\n",
    "print(\"after read 5 char : \",f.tell())"
   ]
  },
  {
   "cell_type": "code",
   "execution_count": 29,
   "id": "3f9d67fe",
   "metadata": {},
   "outputs": [
    {
     "name": "stdout",
     "output_type": "stream",
     "text": [
      "pointer moved to  0\n"
     ]
    }
   ],
   "source": [
    "# move pointer back to start\n",
    "f.seek(0)\n",
    "print(\"pointer moved to \",f.tell())"
   ]
  },
  {
   "cell_type": "code",
   "execution_count": 30,
   "id": "e6dac600",
   "metadata": {},
   "outputs": [
    {
     "name": "stdout",
     "output_type": "stream",
     "text": [
      "hello welcome to codes with pankaj\n"
     ]
    }
   ],
   "source": [
    "# read again \n",
    "print(f.read())"
   ]
  },
  {
   "cell_type": "code",
   "execution_count": null,
   "id": "3cd9e394",
   "metadata": {},
   "outputs": [],
   "source": [
    "# pickling & unpickling \n",
    "# serialzing(converting) - > byte stream -> send over network"
   ]
  },
  {
   "cell_type": "code",
   "execution_count": 31,
   "id": "26f6940f",
   "metadata": {},
   "outputs": [
    {
     "name": "stdout",
     "output_type": "stream",
     "text": [
      "Data pickled successfully\n"
     ]
    }
   ],
   "source": [
    "import pickle\n",
    "\n",
    "data = {\"name\":\"nishant\",\"course\":\"python\",\"score\":95}\n",
    "\n",
    "# save data in binary \n",
    "\n",
    "with open(\"data.pkl\",\"wb\") as file:\n",
    "    pickle.dump(data,file)\n",
    "    \n",
    "print(\"Data pickled successfully\")    "
   ]
  },
  {
   "cell_type": "code",
   "execution_count": 32,
   "id": "79b87c29",
   "metadata": {},
   "outputs": [
    {
     "name": "stdout",
     "output_type": "stream",
     "text": [
      "unpickled data :  {'name': 'nishant', 'course': 'python', 'score': 95}\n"
     ]
    }
   ],
   "source": [
    "# Unpickling\n",
    "# load data pack \n",
    "with open(\"data.pkl\",\"rb\") as file:\n",
    "    loaded_data = pickle.load(file)\n",
    "\n",
    "print(\"unpickled data : \",loaded_data)    "
   ]
  },
  {
   "cell_type": "code",
   "execution_count": 33,
   "id": "139b4479",
   "metadata": {},
   "outputs": [],
   "source": [
    "import os\n",
    "\n",
    "os.mkdir(\"cwpc01\")"
   ]
  },
  {
   "cell_type": "code",
   "execution_count": 41,
   "id": "52b43035",
   "metadata": {},
   "outputs": [],
   "source": [
    "os.makedirs(\"cwpc01/subdir1/subdir2\")"
   ]
  },
  {
   "cell_type": "code",
   "execution_count": 42,
   "id": "199590b6",
   "metadata": {},
   "outputs": [],
   "source": [
    "os.chdir(\"cwpc01\")"
   ]
  },
  {
   "cell_type": "code",
   "execution_count": 43,
   "id": "39334569",
   "metadata": {},
   "outputs": [
    {
     "name": "stdout",
     "output_type": "stream",
     "text": [
      "items in current directory :  ['subdir1']\n"
     ]
    }
   ],
   "source": [
    "item = os.listdir()\n",
    "print(\"items in current directory : \",item)"
   ]
  },
  {
   "cell_type": "code",
   "execution_count": 45,
   "id": "4cc06835",
   "metadata": {},
   "outputs": [
    {
     "ename": "FileNotFoundError",
     "evalue": "[Errno 2] No such file or directory: 'subdir1' -> 'new_subdir'",
     "output_type": "error",
     "traceback": [
      "\u001b[31m---------------------------------------------------------------------------\u001b[39m",
      "\u001b[31mFileNotFoundError\u001b[39m                         Traceback (most recent call last)",
      "\u001b[36mCell\u001b[39m\u001b[36m \u001b[39m\u001b[32mIn[45]\u001b[39m\u001b[32m, line 2\u001b[39m\n\u001b[32m      1\u001b[39m \u001b[38;5;66;03m# rename directory\u001b[39;00m\n\u001b[32m----> \u001b[39m\u001b[32m2\u001b[39m \u001b[43mos\u001b[49m\u001b[43m.\u001b[49m\u001b[43mrename\u001b[49m\u001b[43m(\u001b[49m\u001b[33;43m\"\u001b[39;49m\u001b[33;43msubdir1\u001b[39;49m\u001b[33;43m\"\u001b[39;49m\u001b[43m,\u001b[49m\u001b[33;43m\"\u001b[39;49m\u001b[33;43mnew_subdir\u001b[39;49m\u001b[33;43m\"\u001b[39;49m\u001b[43m)\u001b[49m\n",
      "\u001b[31mFileNotFoundError\u001b[39m: [Errno 2] No such file or directory: 'subdir1' -> 'new_subdir'"
     ]
    }
   ],
   "source": [
    "# rename directory\n",
    "os.rename(\"subdir1\",\"new_subdir\")"
   ]
  },
  {
   "cell_type": "code",
   "execution_count": null,
   "id": "a1ff445d",
   "metadata": {},
   "outputs": [
    {
     "ename": "FileNotFoundError",
     "evalue": "[Errno 2] No such file or directory: 'new_subdir'",
     "output_type": "error",
     "traceback": [
      "\u001b[31m---------------------------------------------------------------------------\u001b[39m",
      "\u001b[31mFileNotFoundError\u001b[39m                         Traceback (most recent call last)",
      "\u001b[36mCell\u001b[39m\u001b[36m \u001b[39m\u001b[32mIn[48]\u001b[39m\u001b[32m, line 2\u001b[39m\n\u001b[32m      1\u001b[39m \u001b[38;5;66;03m# rename files\u001b[39;00m\n\u001b[32m----> \u001b[39m\u001b[32m2\u001b[39m \u001b[43mos\u001b[49m\u001b[43m.\u001b[49m\u001b[43mchdir\u001b[49m\u001b[43m(\u001b[49m\u001b[33;43m\"\u001b[39;49m\u001b[33;43mnew_subdir\u001b[39;49m\u001b[33;43m\"\u001b[39;49m\u001b[43m)\u001b[49m\n\u001b[32m      4\u001b[39m \u001b[38;5;66;03m# create a file\u001b[39;00m\n\u001b[32m      5\u001b[39m \u001b[38;5;28;01mwith\u001b[39;00m \u001b[38;5;28mopen\u001b[39m(\u001b[33m\"\u001b[39m\u001b[33mtest.txt\u001b[39m\u001b[33m\"\u001b[39m,\u001b[33m\"\u001b[39m\u001b[33mw\u001b[39m\u001b[33m\"\u001b[39m) \u001b[38;5;28;01mas\u001b[39;00m file:\n",
      "\u001b[31mFileNotFoundError\u001b[39m: [Errno 2] No such file or directory: 'new_subdir'"
     ]
    }
   ],
   "source": [
    "# rename files\n",
    "os.chdir(\"new_subdir\")"
   ]
  },
  {
   "cell_type": "code",
   "execution_count": null,
   "id": "b73190df",
   "metadata": {},
   "outputs": [],
   "source": [
    "# rename file \n",
    "os.rename(\"subdir2\",\"renamed_subdir\")"
   ]
  },
  {
   "cell_type": "code",
   "execution_count": null,
   "id": "853ff433",
   "metadata": {},
   "outputs": [],
   "source": [
    "# delete files and directories\n",
    "os.rmdir(\"renamed_subdir\")\n",
    "os.chdir(\"..\")\n",
    "os.rmdir(\"new_subdir\")"
   ]
  }
 ],
 "metadata": {
  "kernelspec": {
   "display_name": "Python 3",
   "language": "python",
   "name": "python3"
  },
  "language_info": {
   "codemirror_mode": {
    "name": "ipython",
    "version": 3
   },
   "file_extension": ".py",
   "mimetype": "text/x-python",
   "name": "python",
   "nbconvert_exporter": "python",
   "pygments_lexer": "ipython3",
   "version": "3.13.7"
  }
 },
 "nbformat": 4,
 "nbformat_minor": 5
}
