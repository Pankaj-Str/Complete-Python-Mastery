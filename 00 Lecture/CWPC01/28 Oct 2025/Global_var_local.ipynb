{
 "cells": [
  {
   "cell_type": "code",
   "execution_count": 5,
   "id": "4b11f89b",
   "metadata": {},
   "outputs": [
    {
     "name": "stdout",
     "output_type": "stream",
     "text": [
      "100\n"
     ]
    }
   ],
   "source": [
    "# local variable example\n",
    "\n",
    "def increment():\n",
    "    number = 100\n",
    "    print(number)\n",
    " \n",
    "def increment_super():\n",
    "    print(number)    \n",
    "    \n",
    "increment()\n",
    "#increment_super()   \n",
    "    "
   ]
  },
  {
   "cell_type": "code",
   "execution_count": 8,
   "id": "58a50305",
   "metadata": {},
   "outputs": [
    {
     "name": "stdout",
     "output_type": "stream",
     "text": [
      "100\n",
      "1000\n"
     ]
    }
   ],
   "source": [
    "# global variable\n",
    "number = 100\n",
    "def increment():   \n",
    "    print(number)\n",
    " \n",
    "def increment_super():\n",
    "    print(number+900)    \n",
    "    \n",
    "increment()\n",
    "increment_super() "
   ]
  },
  {
   "cell_type": "code",
   "execution_count": 12,
   "id": "7ef9cd95",
   "metadata": {},
   "outputs": [
    {
     "name": "stdout",
     "output_type": "stream",
     "text": [
      "100\n",
      "200\n"
     ]
    }
   ],
   "source": [
    "# global variable (keyword)\n",
    "\n",
    "def increment():\n",
    "    global number \n",
    "    number = 100  \n",
    "    print(number)\n",
    " \n",
    "def increment_super():\n",
    "    x = 100\n",
    "    print(number+x)    \n",
    "    \n",
    "increment()\n",
    "increment_super() "
   ]
  },
  {
   "cell_type": "code",
   "execution_count": 13,
   "id": "bacb456f",
   "metadata": {},
   "outputs": [
    {
     "name": "stdout",
     "output_type": "stream",
     "text": [
      "100\n",
      "200\n"
     ]
    }
   ],
   "source": [
    "class data:\n",
    "    def increment():\n",
    "        global number \n",
    "        number = 100  \n",
    "        print(number)\n",
    " \n",
    "    def increment_super():\n",
    "        x = 100\n",
    "        print(number+x)    \n",
    "    \n",
    "data.increment()\n",
    "data.increment_super() "
   ]
  },
  {
   "cell_type": "code",
   "execution_count": 4,
   "id": "a684ec6a",
   "metadata": {},
   "outputs": [
    {
     "name": "stdout",
     "output_type": "stream",
     "text": [
      "100\n",
      "200\n"
     ]
    }
   ],
   "source": [
    "class data:\n",
    "    def increment(self):\n",
    "        number = 100  \n",
    "        self.number = number\n",
    "        print(number)\n",
    " \n",
    "    def increment_super(self):\n",
    "        x = 100\n",
    "        print(self.number+x)    \n",
    "    \n",
    "d = data()\n",
    "d.increment()\n",
    "d.increment_super() "
   ]
  }
 ],
 "metadata": {
  "kernelspec": {
   "display_name": "Python 3",
   "language": "python",
   "name": "python3"
  },
  "language_info": {
   "codemirror_mode": {
    "name": "ipython",
    "version": 3
   },
   "file_extension": ".py",
   "mimetype": "text/x-python",
   "name": "python",
   "nbconvert_exporter": "python",
   "pygments_lexer": "ipython3",
   "version": "3.13.7"
  }
 },
 "nbformat": 4,
 "nbformat_minor": 5
}
