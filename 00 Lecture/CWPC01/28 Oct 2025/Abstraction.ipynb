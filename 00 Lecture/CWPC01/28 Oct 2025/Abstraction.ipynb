{
 "cells": [
  {
   "cell_type": "code",
   "execution_count": 1,
   "id": "7f8abb01",
   "metadata": {},
   "outputs": [],
   "source": [
    "from abc import ABC, abstractmethod\n",
    "\n",
    "class Juice(ABC):\n",
    "    def __init__(self,fruit_name):\n",
    "        self.fruit_name = fruit_name\n",
    "        \n",
    "    @abstractmethod\n",
    "    def extract_juice(self):\n",
    "        pass\n",
    "    @abstractmethod\n",
    "    def add_sweetener(self):\n",
    "        pass\n",
    "    \n",
    "    # comman methods \n",
    "    def serve(self):\n",
    "        print(f'serving fresh {self.fruit_name} juice !')\n",
    "        \n",
    "    # process\n",
    "    def make_juice(self):\n",
    "        print(f'making {self.fruit_name} juice !...')\n",
    "        self.wash_fruit()\n",
    "        self.extract_juice()\n",
    "        self.add_sweetener()\n",
    "        self.serve()  \n",
    "        \n",
    "        \n",
    "    def wash_fruit(self):\n",
    "        print(f'Washing {self.fruit_name}....')\n",
    "              "
   ]
  },
  {
   "cell_type": "code",
   "execution_count": 2,
   "id": "f4f0776b",
   "metadata": {},
   "outputs": [],
   "source": [
    "class OrangeJuice(Juice):\n",
    "    def extract_juice(self):\n",
    "        print(\"Squeezing oranges using a citrus press\")\n",
    "        \n",
    "    def add_sweetener(self):\n",
    "        print('Adding a little sugar ') \n",
    "           "
   ]
  },
  {
   "cell_type": "code",
   "execution_count": 5,
   "id": "fc95f347",
   "metadata": {},
   "outputs": [],
   "source": [
    "class AppleJuice(Juice):\n",
    "    def extract_juice(self):\n",
    "        print(\"Using a juicer to extract apple juice\")\n",
    "        \n",
    "    def add_sweetener(self):\n",
    "        print('Adding honey as a sweetener')"
   ]
  },
  {
   "cell_type": "code",
   "execution_count": 6,
   "id": "2d89613f",
   "metadata": {},
   "outputs": [
    {
     "name": "stdout",
     "output_type": "stream",
     "text": [
      "making Orange juice !...\n",
      "Washing Orange....\n",
      "Squeezing oranges using a citrus press\n",
      "Adding a little sugar \n",
      "serving fresh Orange juice !\n",
      "making Apple juice !...\n",
      "Washing Apple....\n",
      "Using a juicer to extract apple juice\n",
      "Adding honey as a sweetener\n",
      "serving fresh Apple juice !\n"
     ]
    }
   ],
   "source": [
    "orangejuice = OrangeJuice(\"Orange\")\n",
    "orangejuice.make_juice()\n",
    "\n",
    "applejuice = AppleJuice(\"Apple\")\n",
    "applejuice.make_juice()"
   ]
  }
 ],
 "metadata": {
  "kernelspec": {
   "display_name": "Python 3",
   "language": "python",
   "name": "python3"
  },
  "language_info": {
   "codemirror_mode": {
    "name": "ipython",
    "version": 3
   },
   "file_extension": ".py",
   "mimetype": "text/x-python",
   "name": "python",
   "nbconvert_exporter": "python",
   "pygments_lexer": "ipython3",
   "version": "3.13.7"
  }
 },
 "nbformat": 4,
 "nbformat_minor": 5
}
