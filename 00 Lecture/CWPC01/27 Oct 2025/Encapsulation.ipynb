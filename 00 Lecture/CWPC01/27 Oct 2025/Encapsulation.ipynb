{
 "cells": [
  {
   "cell_type": "code",
   "execution_count": 4,
   "id": "63f34d97",
   "metadata": {},
   "outputs": [],
   "source": [
    "# Example :- \n",
    "class BankAccount:\n",
    "    def __init__(self,balance):\n",
    "        self.__balance = balance # private data (double underscore)\n",
    "    def deposit(self,amount):\n",
    "        if amount > 0:\n",
    "            self.__balance += amount\n",
    "            print(f'Deposit Amount : {amount}/-') # method public\n",
    "    def withdraw(self,amount): # method public\n",
    "        if amount > 0 and amount  <= self.__balance:\n",
    "            self.__balance -= amount\n",
    "            print(f'withdraw {amount}/-')\n",
    "    def get_balance(self): # method public\n",
    "        return self.__balance                    \n",
    "        "
   ]
  },
  {
   "cell_type": "code",
   "execution_count": null,
   "id": "fde6173d",
   "metadata": {},
   "outputs": [
    {
     "name": "stdout",
     "output_type": "stream",
     "text": [
      "Deposit Amount : 900/-\n",
      "10900\n",
      "withdraw 7800/-\n",
      "3100\n",
      "3100\n"
     ]
    }
   ],
   "source": [
    "# create a account\n",
    "account = BankAccount(10000)\n",
    "account.deposit(900)\n",
    "print(account.get_balance())\n",
    "account.withdraw(670)\n",
    "print(account.__balance) # can't access private data directly"
   ]
  }
 ],
 "metadata": {
  "kernelspec": {
   "display_name": "Python 3",
   "language": "python",
   "name": "python3"
  },
  "language_info": {
   "codemirror_mode": {
    "name": "ipython",
    "version": 3
   },
   "file_extension": ".py",
   "mimetype": "text/x-python",
   "name": "python",
   "nbconvert_exporter": "python",
   "pygments_lexer": "ipython3",
   "version": "3.13.7"
  }
 },
 "nbformat": 4,
 "nbformat_minor": 5
}
