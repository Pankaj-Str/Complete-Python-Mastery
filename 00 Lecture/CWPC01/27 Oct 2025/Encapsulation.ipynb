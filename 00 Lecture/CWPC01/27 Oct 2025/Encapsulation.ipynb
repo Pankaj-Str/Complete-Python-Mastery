{
 "cells": [
  {
   "cell_type": "code",
   "execution_count": 4,
   "id": "63f34d97",
   "metadata": {},
   "outputs": [],
   "source": [
    "# Example :- \n",
    "class BankAccount:\n",
    "    def __init__(self,balance):\n",
    "        self.__balance = balance # private data (double underscore)\n",
    "    def deposit(self,amount):\n",
    "        if amount > 0:\n",
    "            self.__balance += amount\n",
    "            print(f'Deposit Amount : {amount}/-') # method public\n",
    "    def withdraw(self,amount): # method public\n",
    "        if amount > 0 and amount  <= self.__balance:\n",
    "            self.__balance -= amount\n",
    "            print(f'withdraw {amount}/-')\n",
    "    def get_balance(self): # method public\n",
    "        return self.__balance                    \n",
    "        "
   ]
  },
  {
   "cell_type": "code",
   "execution_count": null,
   "id": "fde6173d",
   "metadata": {},
   "outputs": [
    {
     "name": "stdout",
     "output_type": "stream",
     "text": [
      "Deposit Amount : 900/-\n",
      "10900\n",
      "withdraw 7800/-\n",
      "3100\n",
      "3100\n"
     ]
    }
   ],
   "source": [
    "# create a account\n",
    "account = BankAccount(10000)\n",
    "account.deposit(900)\n",
    "print(account.get_balance())\n",
    "account.withdraw(670)\n",
    "print(account.__balance) # can't access private data directly"
   ]
  },
  {
   "cell_type": "code",
   "execution_count": 17,
   "id": "d1cd6b5e",
   "metadata": {},
   "outputs": [],
   "source": [
    "# example 2\n",
    "class Librarybook:\n",
    "    def __init__(self,title):\n",
    "        self.title = title # public everyone can see the book title\n",
    "        self.__pages_read = 0 # private track pages read\n",
    "        self.__is_checked_out = False # Private : tracks if book is check out \n",
    "        \n",
    "    def check_out(self):\n",
    "        if not self.__is_checked_out:\n",
    "            self.__is_checked_out = True\n",
    "            print(f'{self.title} has been  checked out .....')\n",
    "        else:\n",
    "            print(f'{self.title} is already  checked out  !.....')    \n",
    "    def return_book(self):\n",
    "        if  self.__is_checked_out:\n",
    "            self.__is_checked_out = False\n",
    "            print(f'{self.title} has been  returned .....')\n",
    "        else:\n",
    "            print(f'{self.title} is not  checked out  !.....') \n",
    "            \n",
    "    def read_pages(self,pages):\n",
    "        if pages > 0:\n",
    "            self.__pages_read +=pages\n",
    "            print(f'you read {pages} pages of this {self.title} total page read - {self.__pages_read}') \n",
    "        else:\n",
    "            print(\"you can't read zero or negative pages \")\n",
    "    def get_page_read(self):\n",
    "        print(f'you have read {self.__pages_read} pages of {self.title}')                    "
   ]
  },
  {
   "cell_type": "code",
   "execution_count": 22,
   "id": "4b0bbed7",
   "metadata": {},
   "outputs": [
    {
     "name": "stdout",
     "output_type": "stream",
     "text": [
      "Harry potter has been  checked out .....\n",
      "Harry potter is already  checked out  !.....\n",
      "you read 70 pages of this Harry potter total page read - 70\n",
      "you read 45 pages of this Harry potter total page read - 115\n",
      "you have read 115 pages of Harry potter\n",
      "you can't read zero or negative pages \n",
      "Harry potter has been  returned .....\n"
     ]
    },
    {
     "ename": "AttributeError",
     "evalue": "'Librarybook' object has no attribute '__pages_read'",
     "output_type": "error",
     "traceback": [
      "\u001b[31m---------------------------------------------------------------------------\u001b[39m",
      "\u001b[31mAttributeError\u001b[39m                            Traceback (most recent call last)",
      "\u001b[36mCell\u001b[39m\u001b[36m \u001b[39m\u001b[32mIn[22]\u001b[39m\u001b[32m, line 19\u001b[39m\n\u001b[32m     15\u001b[39m mybook.read_pages(-\u001b[32m10\u001b[39m)\n\u001b[32m     17\u001b[39m mybook.return_book()\n\u001b[32m---> \u001b[39m\u001b[32m19\u001b[39m \u001b[38;5;28mprint\u001b[39m(\u001b[43mmybook\u001b[49m\u001b[43m.\u001b[49m\u001b[43m__pages_read\u001b[49m)\n",
      "\u001b[31mAttributeError\u001b[39m: 'Librarybook' object has no attribute '__pages_read'"
     ]
    }
   ],
   "source": [
    "# create a book \n",
    "mybook = Librarybook(\"Harry potter\")\n",
    "\n",
    "mybook.check_out()\n",
    "# try again \n",
    "mybook.check_out()\n",
    "# read some pages \n",
    "mybook.read_pages(70)\n",
    "# more page \n",
    "mybook.read_pages(45)\n",
    "# check read page \n",
    "mybook.get_page_read()\n",
    "\n",
    "# tru diffrent way \n",
    "mybook.read_pages(-10)\n",
    "\n",
    "mybook.return_book()\n",
    "\n",
    "print(mybook.__pages_read)\n"
   ]
  }
 ],
 "metadata": {
  "kernelspec": {
   "display_name": "Python 3",
   "language": "python",
   "name": "python3"
  },
  "language_info": {
   "codemirror_mode": {
    "name": "ipython",
    "version": 3
   },
   "file_extension": ".py",
   "mimetype": "text/x-python",
   "name": "python",
   "nbconvert_exporter": "python",
   "pygments_lexer": "ipython3",
   "version": "3.13.7"
  }
 },
 "nbformat": 4,
 "nbformat_minor": 5
}
