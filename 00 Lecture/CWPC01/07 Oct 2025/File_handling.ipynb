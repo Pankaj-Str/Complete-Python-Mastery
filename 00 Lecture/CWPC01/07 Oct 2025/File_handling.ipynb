{
 "cells": [
  {
   "cell_type": "code",
   "execution_count": 1,
   "id": "14ff4843",
   "metadata": {},
   "outputs": [],
   "source": [
    "# File Handling\n",
    "# Opening & Closing Files\n",
    "# File Modes (read, write, append, binary)\n",
    "# Reading Files (read, readline, readlines)\n",
    "# Writing Files (write, writelines)\n",
    "# File Pointers (seek, tell)\n",
    "# Pickling & Unpickling\n",
    "# Working with Directories (os module)"
   ]
  },
  {
   "cell_type": "code",
   "execution_count": 2,
   "id": "1d37d74a",
   "metadata": {},
   "outputs": [],
   "source": [
    "# mode \n",
    "# 'r' read Mode (Default)\n",
    "# 'w' Write Mode (creates a new file or overwrites an existing file)\n",
    "# 'a' Append Mode (creates a new file or appends to an existing file)\n",
    "# 'b' Binary Mode (for non-text files like images or PDFs)\n",
    "# '+' read and write Mode (updates a file)"
   ]
  },
  {
   "cell_type": "code",
   "execution_count": 3,
   "id": "50e6bbdb",
   "metadata": {},
   "outputs": [],
   "source": [
    "# example \n",
    "\n",
    "# Open a file for writing\n",
    "f = open('cwpc.txt','w')\n",
    "\n",
    "# write data \n",
    "f.write(\"Welcome to codes with pankaj....\")\n",
    "\n",
    "# close the file \n",
    "f.close()"
   ]
  },
  {
   "cell_type": "code",
   "execution_count": 4,
   "id": "d6fc931c",
   "metadata": {},
   "outputs": [
    {
     "name": "stdout",
     "output_type": "stream",
     "text": [
      "Welcome to codes with pankaj....\n"
     ]
    }
   ],
   "source": [
    "# read data from file \n",
    "f = open(\"cwpc.txt\",\"r\")\n",
    "data = f.read()\n",
    "print(data)\n",
    "f.close()"
   ]
  },
  {
   "cell_type": "code",
   "execution_count": 5,
   "id": "9fb7ef65",
   "metadata": {},
   "outputs": [],
   "source": [
    "# append mode (a)\n",
    "f = open(\"cwpc.txt\",\"a\")\n",
    "f.write(\"\\n this line is appended ....\")\n",
    "f.close()"
   ]
  },
  {
   "cell_type": "code",
   "execution_count": 6,
   "id": "5c70ad4d",
   "metadata": {},
   "outputs": [
    {
     "name": "stdout",
     "output_type": "stream",
     "text": [
      "file read successfully in binary mode \n"
     ]
    }
   ],
   "source": [
    "# Binary mode ( using non text) pdf,image..etc\n",
    "f = open('books.png','rb')\n",
    "data = f.read()\n",
    "print(\"file read successfully in binary mode \")\n",
    "f.close()"
   ]
  },
  {
   "cell_type": "code",
   "execution_count": 7,
   "id": "d0d41423",
   "metadata": {},
   "outputs": [
    {
     "name": "stdout",
     "output_type": "stream",
     "text": [
      "Requirement already satisfied: pillow in /Library/Frameworks/Python.framework/Versions/3.13/lib/python3.13/site-packages (11.1.0)\n",
      "Note: you may need to restart the kernel to use updated packages.\n"
     ]
    }
   ],
   "source": [
    "# install pillow pkg for read image from folder\n",
    "%pip install pillow"
   ]
  },
  {
   "cell_type": "code",
   "execution_count": 12,
   "id": "4c36de29",
   "metadata": {},
   "outputs": [],
   "source": [
    "from PIL import Image\n",
    "\n",
    "# open image \n",
    "img = Image.open(\"books.png\")\n",
    "# show image \n",
    "img.show()"
   ]
  }
 ],
 "metadata": {
  "kernelspec": {
   "display_name": "Python 3",
   "language": "python",
   "name": "python3"
  },
  "language_info": {
   "codemirror_mode": {
    "name": "ipython",
    "version": 3
   },
   "file_extension": ".py",
   "mimetype": "text/x-python",
   "name": "python",
   "nbconvert_exporter": "python",
   "pygments_lexer": "ipython3",
   "version": "3.13.7"
  }
 },
 "nbformat": 4,
 "nbformat_minor": 5
}
