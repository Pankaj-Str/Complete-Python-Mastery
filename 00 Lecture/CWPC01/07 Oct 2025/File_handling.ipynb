{
 "cells": [
  {
   "cell_type": "code",
   "execution_count": 1,
   "id": "14ff4843",
   "metadata": {},
   "outputs": [],
   "source": [
    "# File Handling\n",
    "# Opening & Closing Files\n",
    "# File Modes (read, write, append, binary)\n",
    "# Reading Files (read, readline, readlines)\n",
    "# Writing Files (write, writelines)\n",
    "# File Pointers (seek, tell)\n",
    "# Pickling & Unpickling\n",
    "# Working with Directories (os module)"
   ]
  },
  {
   "cell_type": "code",
   "execution_count": 2,
   "id": "1d37d74a",
   "metadata": {},
   "outputs": [],
   "source": [
    "# mode \n",
    "# 'r' read Mode (Default)\n",
    "# 'w' Write Mode (creates a new file or overwrites an existing file)\n",
    "# 'a' Append Mode (creates a new file or appends to an existing file)\n",
    "# 'b' Binary Mode (for non-text files like images or PDFs)\n",
    "# '+' read and write Mode (updates a file)"
   ]
  },
  {
   "cell_type": "code",
   "execution_count": 3,
   "id": "50e6bbdb",
   "metadata": {},
   "outputs": [],
   "source": [
    "# example \n",
    "\n",
    "# Open a file for writing\n",
    "f = open('cwpc.txt','w')\n",
    "\n",
    "# write data \n",
    "f.write(\"Welcome to codes with pankaj....\")\n",
    "\n",
    "# close the file \n",
    "f.close()"
   ]
  },
  {
   "cell_type": "code",
   "execution_count": 4,
   "id": "d6fc931c",
   "metadata": {},
   "outputs": [
    {
     "name": "stdout",
     "output_type": "stream",
     "text": [
      "Welcome to codes with pankaj....\n"
     ]
    }
   ],
   "source": [
    "# read data from file \n",
    "f = open(\"cwpc.txt\",\"r\")\n",
    "data = f.read()\n",
    "print(data)\n",
    "f.close()"
   ]
  },
  {
   "cell_type": "code",
   "execution_count": 5,
   "id": "9fb7ef65",
   "metadata": {},
   "outputs": [],
   "source": [
    "# append mode (a)\n",
    "f = open(\"cwpc.txt\",\"a\")\n",
    "f.write(\"\\n this line is appended ....\")\n",
    "f.close()"
   ]
  },
  {
   "cell_type": "code",
   "execution_count": 6,
   "id": "5c70ad4d",
   "metadata": {},
   "outputs": [
    {
     "name": "stdout",
     "output_type": "stream",
     "text": [
      "file read successfully in binary mode \n"
     ]
    }
   ],
   "source": [
    "# Binary mode ( using non text) pdf,image..etc\n",
    "f = open('books.png','rb')\n",
    "data = f.read()\n",
    "print(\"file read successfully in binary mode \")\n",
    "f.close()"
   ]
  },
  {
   "cell_type": "code",
   "execution_count": 7,
   "id": "d0d41423",
   "metadata": {},
   "outputs": [
    {
     "name": "stdout",
     "output_type": "stream",
     "text": [
      "Requirement already satisfied: pillow in /Library/Frameworks/Python.framework/Versions/3.13/lib/python3.13/site-packages (11.1.0)\n",
      "Note: you may need to restart the kernel to use updated packages.\n"
     ]
    }
   ],
   "source": [
    "# install pillow pkg for read image from folder\n",
    "%pip install pillow"
   ]
  },
  {
   "cell_type": "code",
   "execution_count": 12,
   "id": "4c36de29",
   "metadata": {},
   "outputs": [],
   "source": [
    "from PIL import Image\n",
    "\n",
    "# open image \n",
    "img = Image.open(\"books.png\")\n",
    "# show image \n",
    "img.show()"
   ]
  },
  {
   "cell_type": "code",
   "execution_count": 13,
   "id": "505553e0",
   "metadata": {},
   "outputs": [
    {
     "name": "stdout",
     "output_type": "stream",
     "text": [
      "Collecting PyPDF2\n",
      "  Downloading pypdf2-3.0.1-py3-none-any.whl.metadata (6.8 kB)\n",
      "Downloading pypdf2-3.0.1-py3-none-any.whl (232 kB)\n",
      "Installing collected packages: PyPDF2\n",
      "Successfully installed PyPDF2-3.0.1\n",
      "Note: you may need to restart the kernel to use updated packages.\n"
     ]
    }
   ],
   "source": [
    "# read pdf file using pypdf2\n",
    "# install pkg\n",
    "%pip install PyPDF2"
   ]
  },
  {
   "cell_type": "code",
   "execution_count": 16,
   "id": "d81ab493",
   "metadata": {},
   "outputs": [
    {
     "name": "stdout",
     "output_type": "stream",
     "text": [
      "total page -  5\n",
      "\n",
      "---page--1---\n",
      "\n",
      "Building a Decision Tree from Scratch with ID3\n",
      "Algorithm\n",
      "August 28, 2025\n",
      "1 Introduction\n",
      "Decision trees are a powerful machine learning tool used for classiﬁcation and regres-\n",
      "sion tasks, representing decisions in a ﬂowchart-like structure. This tutorial provides a\n",
      "comprehensive guide to building a decision tree using the ID3 (Iterative Dichotomiser 3)\n",
      "algorithm, focusing on classiﬁcation. We’ll use the “Play Tennis” dataset to demonstrate\n",
      "the process, including calculations for Entropy and Information Gain, and show how to\n",
      "construct and use the tree for predictions. This guide is beginner-friendly yet detailed,\n",
      "with a complete example dataset.\n",
      "2 Why Decision Trees?\n",
      "Decision trees are popular because:\n",
      "•They are intuitive and easy to visualize.\n",
      "•They handle both categorical and numerical data.\n",
      "•No data normalization is required.\n",
      "•They capture non-linear relationships.\n",
      "Applications include spam detection, customer churn prediction, and medical diagnosis.\n",
      "We’ll use the ID3 algorithm, which selects splits based on Information Gain.\n",
      "3 Key Concepts\n",
      "3.1 Entropy\n",
      "Entropy measures the impurity or uncertainty in a dataset. For a binary classiﬁcation\n",
      "(e.g., Yes/No), it is calculated as:\n",
      "S=−c∑\n",
      "i=1pilog2pi\n",
      "where cis the number of classes, and piis the proportion of examples in class i. A lower\n",
      "entropy indicates a purer dataset (e.g., all examples in one class: S= 0).\n",
      "1\n",
      "\n",
      "---page--2---\n",
      "\n",
      "3.2 Information Gain\n",
      "Information Gain (IG) measures how much entropy is reduced by splitting on an attribute:\n",
      "IG(A) =Sparent−∑\n",
      "v∈values (A)|Dv|\n",
      "|D|Sv\n",
      "where Ais the attribute, Dvis the subset for value v, and |D|is the total dataset size.\n",
      "ID3 selects the attribute with the highest IG for each node.\n",
      "4 Example Dataset: Play Tennis\n",
      "We’ll use the “Play Tennis” dataset to decide whether to play tennis based on weather\n",
      "conditions. It has 14 instances and 4 attributes, plus the target class (Play Tennis: Yes\n",
      "or No).\n",
      "Table 1: Play Tennis Dataset\n",
      "Day Outlook Temperature Humidity Wind Play Tennis\n",
      "1 Sunny Hot High Weak No\n",
      "2 Sunny Hot High Strong No\n",
      "3 Overcast Hot High Weak Yes\n",
      "4 Rain Mild High Weak Yes\n",
      "5 Rain Cool Normal Weak Yes\n",
      "6 Rain Cool Normal Strong No\n",
      "7 Overcast Cool Normal Strong Yes\n",
      "8 Sunny Mild High Weak No\n",
      "9 Sunny Cool Normal Weak Yes\n",
      "10 Rain Mild Normal Weak Yes\n",
      "11 Sunny Mild Normal Strong Yes\n",
      "12 Overcast Mild High Strong Yes\n",
      "13 Overcast Hot Normal Weak Yes\n",
      "14 Rain Mild High Strong No\n",
      "Attributes:\n",
      "•Outlook : Sunny, Overcast, Rain\n",
      "•Temperature : Hot, Mild, Cool\n",
      "•Humidity : High, Normal\n",
      "•Wind : Weak, Strong\n",
      "•Target : Play Tennis (9 Yes, 5 No)\n",
      "2\n",
      "\n",
      "---page--3---\n",
      "\n",
      "5 Step-by-Step: Building the Decision Tree\n",
      "5.1 Step 1: Entropy of the Entire Dataset\n",
      "Total instances: 14 (9 Yes, 5 No).\n",
      "pYes=9\n",
      "14, p No=5\n",
      "14\n",
      "S=−(9\n",
      "14log29\n",
      "14+5\n",
      "14log25\n",
      "14)\n",
      "≈0.940\n",
      "5.2 Step 2: Information Gain for Each Attribute\n",
      "We compute IG for Outlook, Temperature, Humidity, and Wind.\n",
      "5.2.1 Outlook\n",
      "Values: Sunny (5: 2 Yes, 3 No), Overcast (4: 4 Yes, 0 No), Rain (5: 3 Yes, 2 No).\n",
      "Entropy for Sunny:\n",
      "SSunny =−(2\n",
      "5log22\n",
      "5+3\n",
      "5log23\n",
      "5)\n",
      "≈0.971\n",
      "Entropy for Overcast:\n",
      "SOvercast =−(4\n",
      "4log24\n",
      "4+0\n",
      "4log20\n",
      "4)\n",
      "= 0\n",
      "Entropy for Rain:\n",
      "SRain=−(3\n",
      "5log23\n",
      "5+2\n",
      "5log22\n",
      "5)\n",
      "≈0.971\n",
      "IGOutlook = 0.940−(5\n",
      "14×0.971 +4\n",
      "14×0 +5\n",
      "14×0.971)\n",
      "≈0.247\n",
      "5.2.2 Temperature\n",
      "Values: Hot (4: 2 Yes, 2 No), Mild (6: 4 Yes, 2 No), Cool (4: 3 Yes, 1 No). Entropies:\n",
      "Hot≈1.000, Mild ≈0.918, Cool ≈0.811.\n",
      "IGTemp = 0.940−(4\n",
      "14×1.000 +6\n",
      "14×0.918 +4\n",
      "14×0.811)\n",
      "≈0.029\n",
      "5.2.3 Humidity\n",
      "Values: High (7: 3 Yes, 4 No), Normal (7: 6 Yes, 1 No). Entropies: High ≈0.985, Normal\n",
      "≈0.592.\n",
      "IGHumidity = 0.940−(7\n",
      "14×0.985 +7\n",
      "14×0.592)\n",
      "≈0.151\n",
      "5.2.4 Wind\n",
      "Values: Weak (8: 6 Yes, 2 No), Strong (6: 3 Yes, 3 No). Entropies: Weak ≈0.811,\n",
      "Strong ≈1.000.\n",
      "IGWind = 0.940−(8\n",
      "14×0.811 +6\n",
      "14×1.000)\n",
      "≈0.048\n",
      "Highest IG : Outlook (0.247) →Root node.\n",
      "3\n",
      "\n",
      "---page--4---\n",
      "\n",
      "5.3 Step 3: Split and Recurse\n",
      "•Overcast : All 4 Yes →Leaf node: Yes.\n",
      "•Sunny (5 instances, entropy 0.971): Highest IG is Humidity (1.000).\n",
      "–High (3: 0 Yes, 3 No) →Leaf: No.\n",
      "–Normal (2: 2 Yes, 0 No) →Leaf: Yes.\n",
      "•Rain (5 instances, entropy 0.971): Highest IG is Wind (0.971).\n",
      "–Weak (3: 3 Yes, 0 No) →Leaf: Yes.\n",
      "–Strong (2: 0 Yes, 2 No) →Leaf: No.\n",
      "5.4 Step 4: Final Decision Tree\n",
      "Outlook\n",
      "/| \\\n",
      "Sunny Overcast Rain\n",
      "| | |\n",
      "Humidity Yes Wind\n",
      "/\\ /\\\n",
      "High Normal Weak Strong\n",
      "No Yes Yes No\n",
      "6 Making Predictions\n",
      "For a new instance (Sunny, Mild, High, Strong):\n",
      "•Outlook = Sunny →Humidity.\n",
      "•Humidity = High →No (Don’t play).\n",
      "For Rain, Cool, Normal, Weak:\n",
      "•Outlook = Rain →Wind.\n",
      "•Wind = Weak →Yes (Play).\n",
      "7 Python Implementation\n",
      "Here’s a Python script using scikit-learn to automate the process:\n",
      "from sklearn import tree\n",
      "import pandas as pd\n",
      "from sklearn.preprocessing import LabelEncoder\n",
      "# Load dataset\n",
      "data = pd.DataFrame({\n",
      "’Outlook’: [’Sunny’, ’Sunny’, ’Overcast’, ’Rain’, ’Rain’, ’Rain’, ’Overcast’,\n",
      "4\n",
      "\n",
      "---page--5---\n",
      "\n",
      "’Sunny’, ’Sunny’, ’Rain’, ’Sunny’, ’Overcast’, ’Overcast’, ’Rain’],\n",
      "’Temperature’: [’Hot’, ’Hot’, ’Hot’, ’Mild’, ’Cool’, ’Cool’, ’Cool’, ’Mild’,\n",
      "’Cool’, ’Mild’, ’Mild’, ’Mild’, ’Hot’, ’Mild’],\n",
      "’Humidity’: [’High’, ’High’, ’High’, ’High’, ’Normal’, ’Normal’, ’Normal’,\n",
      "’High’, ’Normal’, ’Normal’, ’Normal’, ’High’, ’Normal’, ’High’],\n",
      "’Wind’: [’Weak’, ’Strong’, ’Weak’, ’Weak’, ’Weak’, ’Strong’, ’Strong’, ’Weak’,\n",
      "’Weak’, ’Weak’, ’Strong’, ’Strong’, ’Weak’, ’Strong’],\n",
      "’Play’: [’No’, ’No’, ’Yes’, ’Yes’, ’Yes’, ’No’, ’Yes’, ’No’, ’Yes’, ’Yes’,\n",
      "’Yes’, ’Yes’, ’Yes’, ’No’]\n",
      "})\n",
      "# Encode categorical data\n",
      "le = LabelEncoder()\n",
      "for col in data.columns:\n",
      "data[col] = le.fit_transform(data[col])\n",
      "X = data.drop(’Play’, axis=1)\n",
      "y = data[’Play’]\n",
      "# Train decision tree\n",
      "clf = tree.DecisionTreeClassifier(criterion=’entropy’)\n",
      "clf.fit(X, y)\n",
      "8 Limitations and Tips\n",
      "•Overﬁtting : Prune trees or use ensembles like Random Forests.\n",
      "•Bias : ID3 favors attributes with many values.\n",
      "•Continuous Data : Use C4.5 or CART for numerical data.\n",
      "•Tip: Use a calculator for entropy calculations.\n",
      "9 Conclusion\n",
      "This tutorial demonstrated how to build a decision tree using the ID3 algorithm with the\n",
      "Play Tennis dataset. By calculating Entropy and Information Gain, we constructed a\n",
      "tree to predict whether to play tennis. Practice with new datasets, explore libraries like\n",
      "scikit-learn, or dive into Random Forests for advanced learning.\n",
      "For more AI resources, visit x.ai. Happy learning!\n",
      "5\n"
     ]
    }
   ],
   "source": [
    "import PyPDF2 as pd\n",
    "\n",
    "with open(\"data.pdf\",\"rb\") as file:\n",
    "    reader = pd.PdfReader(file)\n",
    "    \n",
    "    # get total number of page \n",
    "    print(\"total page - \",len(reader.pages))\n",
    "    page_size = len(reader.pages)\n",
    "    \n",
    "    # read text from each page \n",
    "    for i in range(page_size):\n",
    "        page = reader.pages[i]\n",
    "        text = page.extract_text()\n",
    "        print(f\"\\n---page--{i+1}---\\n\")\n",
    "        print(text)"
   ]
  },
  {
   "cell_type": "code",
   "execution_count": 17,
   "id": "575a27ed",
   "metadata": {},
   "outputs": [
    {
     "name": "stdout",
     "output_type": "stream",
     "text": [
      "Collecting pdf2image\n",
      "  Downloading pdf2image-1.17.0-py3-none-any.whl.metadata (6.2 kB)\n",
      "Requirement already satisfied: pillow in /Library/Frameworks/Python.framework/Versions/3.13/lib/python3.13/site-packages (from pdf2image) (11.1.0)\n",
      "Downloading pdf2image-1.17.0-py3-none-any.whl (11 kB)\n",
      "Installing collected packages: pdf2image\n",
      "Successfully installed pdf2image-1.17.0\n",
      "Note: you may need to restart the kernel to use updated packages.\n"
     ]
    }
   ],
   "source": [
    "# handle pdf without selected text \n",
    "\n",
    "%pip install pdf2image"
   ]
  },
  {
   "cell_type": "code",
   "execution_count": 18,
   "id": "c29d66b3",
   "metadata": {},
   "outputs": [
    {
     "name": "stdout",
     "output_type": "stream",
     "text": [
      "Collecting pytesseract\n",
      "  Downloading pytesseract-0.3.13-py3-none-any.whl.metadata (11 kB)\n",
      "Requirement already satisfied: packaging>=21.3 in /Users/pankajchouhan/Library/Python/3.13/lib/python/site-packages (from pytesseract) (24.2)\n",
      "Requirement already satisfied: Pillow>=8.0.0 in /Library/Frameworks/Python.framework/Versions/3.13/lib/python3.13/site-packages (from pytesseract) (11.1.0)\n",
      "Downloading pytesseract-0.3.13-py3-none-any.whl (14 kB)\n",
      "Installing collected packages: pytesseract\n",
      "Successfully installed pytesseract-0.3.13\n",
      "Note: you may need to restart the kernel to use updated packages.\n"
     ]
    }
   ],
   "source": [
    "# for OCR (optical character recognition)\n",
    "%pip install pytesseract"
   ]
  },
  {
   "cell_type": "code",
   "execution_count": 25,
   "id": "6f71d766",
   "metadata": {},
   "outputs": [
    {
     "ename": "PDFInfoNotInstalledError",
     "evalue": "Unable to get page count. Is poppler installed and in PATH?",
     "output_type": "error",
     "traceback": [
      "\u001b[31m---------------------------------------------------------------------------\u001b[39m",
      "\u001b[31mFileNotFoundError\u001b[39m                         Traceback (most recent call last)",
      "\u001b[36mFile \u001b[39m\u001b[32m/Library/Frameworks/Python.framework/Versions/3.13/lib/python3.13/site-packages/pdf2image/pdf2image.py:581\u001b[39m, in \u001b[36mpdfinfo_from_path\u001b[39m\u001b[34m(pdf_path, userpw, ownerpw, poppler_path, rawdates, timeout, first_page, last_page)\u001b[39m\n\u001b[32m    580\u001b[39m     env[\u001b[33m\"\u001b[39m\u001b[33mLD_LIBRARY_PATH\u001b[39m\u001b[33m\"\u001b[39m] = poppler_path + \u001b[33m\"\u001b[39m\u001b[33m:\u001b[39m\u001b[33m\"\u001b[39m + env.get(\u001b[33m\"\u001b[39m\u001b[33mLD_LIBRARY_PATH\u001b[39m\u001b[33m\"\u001b[39m, \u001b[33m\"\u001b[39m\u001b[33m\"\u001b[39m)\n\u001b[32m--> \u001b[39m\u001b[32m581\u001b[39m proc = \u001b[43mPopen\u001b[49m\u001b[43m(\u001b[49m\u001b[43mcommand\u001b[49m\u001b[43m,\u001b[49m\u001b[43m \u001b[49m\u001b[43menv\u001b[49m\u001b[43m=\u001b[49m\u001b[43menv\u001b[49m\u001b[43m,\u001b[49m\u001b[43m \u001b[49m\u001b[43mstdout\u001b[49m\u001b[43m=\u001b[49m\u001b[43mPIPE\u001b[49m\u001b[43m,\u001b[49m\u001b[43m \u001b[49m\u001b[43mstderr\u001b[49m\u001b[43m=\u001b[49m\u001b[43mPIPE\u001b[49m\u001b[43m)\u001b[49m\n\u001b[32m    583\u001b[39m \u001b[38;5;28;01mtry\u001b[39;00m:\n",
      "\u001b[36mFile \u001b[39m\u001b[32m/Library/Frameworks/Python.framework/Versions/3.13/lib/python3.13/subprocess.py:1039\u001b[39m, in \u001b[36mPopen.__init__\u001b[39m\u001b[34m(self, args, bufsize, executable, stdin, stdout, stderr, preexec_fn, close_fds, shell, cwd, env, universal_newlines, startupinfo, creationflags, restore_signals, start_new_session, pass_fds, user, group, extra_groups, encoding, errors, text, umask, pipesize, process_group)\u001b[39m\n\u001b[32m   1036\u001b[39m             \u001b[38;5;28mself\u001b[39m.stderr = io.TextIOWrapper(\u001b[38;5;28mself\u001b[39m.stderr,\n\u001b[32m   1037\u001b[39m                     encoding=encoding, errors=errors)\n\u001b[32m-> \u001b[39m\u001b[32m1039\u001b[39m     \u001b[38;5;28;43mself\u001b[39;49m\u001b[43m.\u001b[49m\u001b[43m_execute_child\u001b[49m\u001b[43m(\u001b[49m\u001b[43margs\u001b[49m\u001b[43m,\u001b[49m\u001b[43m \u001b[49m\u001b[43mexecutable\u001b[49m\u001b[43m,\u001b[49m\u001b[43m \u001b[49m\u001b[43mpreexec_fn\u001b[49m\u001b[43m,\u001b[49m\u001b[43m \u001b[49m\u001b[43mclose_fds\u001b[49m\u001b[43m,\u001b[49m\n\u001b[32m   1040\u001b[39m \u001b[43m                        \u001b[49m\u001b[43mpass_fds\u001b[49m\u001b[43m,\u001b[49m\u001b[43m \u001b[49m\u001b[43mcwd\u001b[49m\u001b[43m,\u001b[49m\u001b[43m \u001b[49m\u001b[43menv\u001b[49m\u001b[43m,\u001b[49m\n\u001b[32m   1041\u001b[39m \u001b[43m                        \u001b[49m\u001b[43mstartupinfo\u001b[49m\u001b[43m,\u001b[49m\u001b[43m \u001b[49m\u001b[43mcreationflags\u001b[49m\u001b[43m,\u001b[49m\u001b[43m \u001b[49m\u001b[43mshell\u001b[49m\u001b[43m,\u001b[49m\n\u001b[32m   1042\u001b[39m \u001b[43m                        \u001b[49m\u001b[43mp2cread\u001b[49m\u001b[43m,\u001b[49m\u001b[43m \u001b[49m\u001b[43mp2cwrite\u001b[49m\u001b[43m,\u001b[49m\n\u001b[32m   1043\u001b[39m \u001b[43m                        \u001b[49m\u001b[43mc2pread\u001b[49m\u001b[43m,\u001b[49m\u001b[43m \u001b[49m\u001b[43mc2pwrite\u001b[49m\u001b[43m,\u001b[49m\n\u001b[32m   1044\u001b[39m \u001b[43m                        \u001b[49m\u001b[43merrread\u001b[49m\u001b[43m,\u001b[49m\u001b[43m \u001b[49m\u001b[43merrwrite\u001b[49m\u001b[43m,\u001b[49m\n\u001b[32m   1045\u001b[39m \u001b[43m                        \u001b[49m\u001b[43mrestore_signals\u001b[49m\u001b[43m,\u001b[49m\n\u001b[32m   1046\u001b[39m \u001b[43m                        \u001b[49m\u001b[43mgid\u001b[49m\u001b[43m,\u001b[49m\u001b[43m \u001b[49m\u001b[43mgids\u001b[49m\u001b[43m,\u001b[49m\u001b[43m \u001b[49m\u001b[43muid\u001b[49m\u001b[43m,\u001b[49m\u001b[43m \u001b[49m\u001b[43mumask\u001b[49m\u001b[43m,\u001b[49m\n\u001b[32m   1047\u001b[39m \u001b[43m                        \u001b[49m\u001b[43mstart_new_session\u001b[49m\u001b[43m,\u001b[49m\u001b[43m \u001b[49m\u001b[43mprocess_group\u001b[49m\u001b[43m)\u001b[49m\n\u001b[32m   1048\u001b[39m \u001b[38;5;28;01mexcept\u001b[39;00m:\n\u001b[32m   1049\u001b[39m     \u001b[38;5;66;03m# Cleanup if the child failed starting.\u001b[39;00m\n",
      "\u001b[36mFile \u001b[39m\u001b[32m/Library/Frameworks/Python.framework/Versions/3.13/lib/python3.13/subprocess.py:1972\u001b[39m, in \u001b[36mPopen._execute_child\u001b[39m\u001b[34m(self, args, executable, preexec_fn, close_fds, pass_fds, cwd, env, startupinfo, creationflags, shell, p2cread, p2cwrite, c2pread, c2pwrite, errread, errwrite, restore_signals, gid, gids, uid, umask, start_new_session, process_group)\u001b[39m\n\u001b[32m   1971\u001b[39m \u001b[38;5;28;01mif\u001b[39;00m err_filename \u001b[38;5;129;01mis\u001b[39;00m \u001b[38;5;129;01mnot\u001b[39;00m \u001b[38;5;28;01mNone\u001b[39;00m:\n\u001b[32m-> \u001b[39m\u001b[32m1972\u001b[39m     \u001b[38;5;28;01mraise\u001b[39;00m child_exception_type(errno_num, err_msg, err_filename)\n\u001b[32m   1973\u001b[39m \u001b[38;5;28;01melse\u001b[39;00m:\n",
      "\u001b[31mFileNotFoundError\u001b[39m: [Errno 2] No such file or directory: 'pdfinfo'",
      "\nDuring handling of the above exception, another exception occurred:\n",
      "\u001b[31mPDFInfoNotInstalledError\u001b[39m                  Traceback (most recent call last)",
      "\u001b[36mCell\u001b[39m\u001b[36m \u001b[39m\u001b[32mIn[25]\u001b[39m\u001b[32m, line 5\u001b[39m\n\u001b[32m      2\u001b[39m \u001b[38;5;28;01mimport\u001b[39;00m\u001b[38;5;250m \u001b[39m\u001b[34;01mpytesseract\u001b[39;00m\n\u001b[32m      4\u001b[39m \u001b[38;5;66;03m# convert to pdf to image \u001b[39;00m\n\u001b[32m----> \u001b[39m\u001b[32m5\u001b[39m pages = \u001b[43mconvert_from_path\u001b[49m\u001b[43m(\u001b[49m\u001b[33;43m\"\u001b[39;49m\u001b[33;43mnew.pdf\u001b[39;49m\u001b[33;43m\"\u001b[39;49m\u001b[43m)\u001b[49m\n\u001b[32m      7\u001b[39m \u001b[38;5;66;03m# extract text using OCR\u001b[39;00m\n\u001b[32m      8\u001b[39m \u001b[38;5;28;01mfor\u001b[39;00m i , page \u001b[38;5;129;01min\u001b[39;00m \u001b[38;5;28menumerate\u001b[39m(pages):\n",
      "\u001b[36mFile \u001b[39m\u001b[32m/Library/Frameworks/Python.framework/Versions/3.13/lib/python3.13/site-packages/pdf2image/pdf2image.py:127\u001b[39m, in \u001b[36mconvert_from_path\u001b[39m\u001b[34m(pdf_path, dpi, output_folder, first_page, last_page, fmt, jpegopt, thread_count, userpw, ownerpw, use_cropbox, strict, transparent, single_file, output_file, poppler_path, grayscale, size, paths_only, use_pdftocairo, timeout, hide_annotations)\u001b[39m\n\u001b[32m    124\u001b[39m \u001b[38;5;28;01mif\u001b[39;00m \u001b[38;5;28misinstance\u001b[39m(poppler_path, PurePath):\n\u001b[32m    125\u001b[39m     poppler_path = poppler_path.as_posix()\n\u001b[32m--> \u001b[39m\u001b[32m127\u001b[39m page_count = \u001b[43mpdfinfo_from_path\u001b[49m\u001b[43m(\u001b[49m\n\u001b[32m    128\u001b[39m \u001b[43m    \u001b[49m\u001b[43mpdf_path\u001b[49m\u001b[43m,\u001b[49m\u001b[43m \u001b[49m\u001b[43muserpw\u001b[49m\u001b[43m,\u001b[49m\u001b[43m \u001b[49m\u001b[43mownerpw\u001b[49m\u001b[43m,\u001b[49m\u001b[43m \u001b[49m\u001b[43mpoppler_path\u001b[49m\u001b[43m=\u001b[49m\u001b[43mpoppler_path\u001b[49m\n\u001b[32m    129\u001b[39m \u001b[43m\u001b[49m\u001b[43m)\u001b[49m[\u001b[33m\"\u001b[39m\u001b[33mPages\u001b[39m\u001b[33m\"\u001b[39m]\n\u001b[32m    131\u001b[39m \u001b[38;5;66;03m# We start by getting the output format, the buffer processing function and if we need pdftocairo\u001b[39;00m\n\u001b[32m    132\u001b[39m parsed_fmt, final_extension, parse_buffer_func, use_pdfcairo_format = _parse_format(\n\u001b[32m    133\u001b[39m     fmt, grayscale\n\u001b[32m    134\u001b[39m )\n",
      "\u001b[36mFile \u001b[39m\u001b[32m/Library/Frameworks/Python.framework/Versions/3.13/lib/python3.13/site-packages/pdf2image/pdf2image.py:607\u001b[39m, in \u001b[36mpdfinfo_from_path\u001b[39m\u001b[34m(pdf_path, userpw, ownerpw, poppler_path, rawdates, timeout, first_page, last_page)\u001b[39m\n\u001b[32m    604\u001b[39m     \u001b[38;5;28;01mreturn\u001b[39;00m d\n\u001b[32m    606\u001b[39m \u001b[38;5;28;01mexcept\u001b[39;00m \u001b[38;5;167;01mOSError\u001b[39;00m:\n\u001b[32m--> \u001b[39m\u001b[32m607\u001b[39m     \u001b[38;5;28;01mraise\u001b[39;00m PDFInfoNotInstalledError(\n\u001b[32m    608\u001b[39m         \u001b[33m\"\u001b[39m\u001b[33mUnable to get page count. Is poppler installed and in PATH?\u001b[39m\u001b[33m\"\u001b[39m\n\u001b[32m    609\u001b[39m     )\n\u001b[32m    610\u001b[39m \u001b[38;5;28;01mexcept\u001b[39;00m \u001b[38;5;167;01mValueError\u001b[39;00m:\n\u001b[32m    611\u001b[39m     \u001b[38;5;28;01mraise\u001b[39;00m PDFPageCountError(\n\u001b[32m    612\u001b[39m         \u001b[33mf\u001b[39m\u001b[33m\"\u001b[39m\u001b[33mUnable to get page count.\u001b[39m\u001b[38;5;130;01m\\n\u001b[39;00m\u001b[38;5;132;01m{\u001b[39;00merr.decode(\u001b[33m'\u001b[39m\u001b[33mutf8\u001b[39m\u001b[33m'\u001b[39m,\u001b[38;5;250m \u001b[39m\u001b[33m'\u001b[39m\u001b[33mignore\u001b[39m\u001b[33m'\u001b[39m)\u001b[38;5;132;01m}\u001b[39;00m\u001b[33m\"\u001b[39m\n\u001b[32m    613\u001b[39m     )\n",
      "\u001b[31mPDFInfoNotInstalledError\u001b[39m: Unable to get page count. Is poppler installed and in PATH?"
     ]
    }
   ],
   "source": [
    "from pdf2image import convert_from_path\n",
    "import pytesseract\n",
    "\n",
    "# convert to pdf to image \n",
    "pages = convert_from_path(\"new.pdf\")\n",
    "\n",
    "# extract text using OCR\n",
    "for i , page in enumerate(pages):\n",
    "    text = pytesseract.image_to_string(page)\n",
    "    print(f\"\\n----page {i+1} ----\\n\")\n",
    "    print(text)"
   ]
  }
 ],
 "metadata": {
  "kernelspec": {
   "display_name": "Python 3",
   "language": "python",
   "name": "python3"
  },
  "language_info": {
   "codemirror_mode": {
    "name": "ipython",
    "version": 3
   },
   "file_extension": ".py",
   "mimetype": "text/x-python",
   "name": "python",
   "nbconvert_exporter": "python",
   "pygments_lexer": "ipython3",
   "version": "3.13.7"
  }
 },
 "nbformat": 4,
 "nbformat_minor": 5
}
