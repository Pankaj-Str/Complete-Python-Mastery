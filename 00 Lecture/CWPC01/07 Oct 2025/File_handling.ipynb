{
 "cells": [
  {
   "cell_type": "code",
   "execution_count": null,
   "id": "14ff4843",
   "metadata": {},
   "outputs": [],
   "source": [
    "# File Handling\n",
    "# Opening & Closing Files\n",
    "# File Modes (read, write, append, binary)\n",
    "# Reading Files (read, readline, readlines)\n",
    "# Writing Files (write, writelines)\n",
    "# File Pointers (seek, tell)\n",
    "# Pickling & Unpickling\n",
    "# Working with Directories (os module)"
   ]
  },
  {
   "cell_type": "code",
   "execution_count": null,
   "id": "1d37d74a",
   "metadata": {},
   "outputs": [],
   "source": [
    "# mode \n",
    "# 'r' read Mode (Default)\n",
    "# 'w' Write Mode (creates a new file or overwrites an existing file)\n",
    "# 'a' Append Mode (creates a new file or appends to an existing file)\n",
    "# 'b' Binary Mode (for non-text files like images or PDFs)\n",
    "# '+' read and write Mode (updates a file)"
   ]
  },
  {
   "cell_type": "code",
   "execution_count": 1,
   "id": "50e6bbdb",
   "metadata": {},
   "outputs": [],
   "source": [
    "# example \n",
    "\n",
    "# Open a file for writing\n",
    "f = open('cwpc.txt','w')\n",
    "\n",
    "# write data \n",
    "f.write(\"Welcome to codes with pankaj....\")\n",
    "\n",
    "# close the file \n",
    "f.close()"
   ]
  },
  {
   "cell_type": "code",
   "execution_count": 5,
   "id": "d6fc931c",
   "metadata": {},
   "outputs": [
    {
     "name": "stdout",
     "output_type": "stream",
     "text": [
      "Welcome to codes with pankaj....\n",
      " this line is appended ....\n"
     ]
    }
   ],
   "source": [
    "# read data from file \n",
    "f = open(\"cwpc.txt\",\"r\")\n",
    "data = f.read()\n",
    "print(data)\n",
    "f.close()"
   ]
  },
  {
   "cell_type": "code",
   "execution_count": 4,
   "id": "9fb7ef65",
   "metadata": {},
   "outputs": [],
   "source": [
    "# append mode (a)\n",
    "f = open(\"cwpc.txt\",\"a\")\n",
    "f.write(\"\\n this line is appended ....\")\n",
    "f.close()"
   ]
  }
 ],
 "metadata": {
  "kernelspec": {
   "display_name": "Python 3",
   "language": "python",
   "name": "python3"
  },
  "language_info": {
   "codemirror_mode": {
    "name": "ipython",
    "version": 3
   },
   "file_extension": ".py",
   "mimetype": "text/x-python",
   "name": "python",
   "nbconvert_exporter": "python",
   "pygments_lexer": "ipython3",
   "version": "3.13.7"
  }
 },
 "nbformat": 4,
 "nbformat_minor": 5
}
