{
 "cells": [
  {
   "cell_type": "code",
   "execution_count": 1,
   "id": "2a8ff831",
   "metadata": {},
   "outputs": [],
   "source": [
    "class human:\n",
    "    def speak():\n",
    "        print(\"hello how are you ....\")                \n",
    "        "
   ]
  },
  {
   "cell_type": "code",
   "execution_count": 2,
   "id": "f0088d46",
   "metadata": {},
   "outputs": [
    {
     "name": "stdout",
     "output_type": "stream",
     "text": [
      "hello how are you ....\n",
      "hello how are you ....\n"
     ]
    }
   ],
   "source": [
    "human.speak()\n",
    "\n",
    "# object = class\n",
    "obj = human\n",
    "obj.speak()"
   ]
  },
  {
   "cell_type": "code",
   "execution_count": null,
   "id": "f98c941b",
   "metadata": {},
   "outputs": [],
   "source": [
    "class Bank:\n",
    "    def balance(self,balance_amount):\n",
    "        self.balance_amount = balance_amount\n",
    "        print(f'{balance_amount} = this is balance amount')\n",
    "    def deposit(self,d_amount):\n",
    "        self.d_amount = d_amount\n",
    "        self.balance_amount = self.balance_amount + self.d_amount\n",
    "        print(f'{d_amount} rupee deposited successfully...')\n",
    "    def withdraw(self,w_amount):\n",
    "        self.w_amount = w_amount\n",
    "        self.balance_amount = self.balance_amount - self.w_amount\n",
    "        print(f'{w_amount} rupees withdrawn successfully..')\n",
    "    def show_balance(self):\n",
    "        print(f'Main balance = {self.balance_amount}')\n",
    "        print(f'Deposit balance = {self.d_amount}')\n",
    "        print(f'Deposit balance = {self.w_amount}')\n",
    "            "
   ]
  },
  {
   "cell_type": "code",
   "execution_count": 17,
   "id": "38b1d8ee",
   "metadata": {},
   "outputs": [
    {
     "name": "stdout",
     "output_type": "stream",
     "text": [
      "50000 = this is balance amount\n",
      "2000 rupee deposited successfully...\n",
      "9000 rupees withdrawn successfully..\n",
      "Main balance = 43000\n",
      "Deposit balance = 2000\n",
      "Deposit balance = 9000\n",
      "2000 rupee deposited successfully...\n",
      "Main balance = 45000\n",
      "Deposit balance = 2000\n",
      "Deposit balance = 9000\n",
      "9000 rupees withdrawn successfully..\n",
      "Main balance = 36000\n",
      "Deposit balance = 2000\n",
      "Deposit balance = 9000\n"
     ]
    }
   ],
   "source": [
    "hdfc = Bank()\n",
    "hdfc.balance(50000)\n",
    "hdfc.deposit(2000)\n",
    "hdfc.withdraw(9000)\n",
    "hdfc.show_balance()\n",
    "hdfc.deposit(2000)\n",
    "hdfc.show_balance()\n",
    "hdfc.withdraw(9000)\n",
    "hdfc.show_balance()"
   ]
  }
 ],
 "metadata": {
  "kernelspec": {
   "display_name": "Python 3",
   "language": "python",
   "name": "python3"
  },
  "language_info": {
   "codemirror_mode": {
    "name": "ipython",
    "version": 3
   },
   "file_extension": ".py",
   "mimetype": "text/x-python",
   "name": "python",
   "nbconvert_exporter": "python",
   "pygments_lexer": "ipython3",
   "version": "3.13.7"
  }
 },
 "nbformat": 4,
 "nbformat_minor": 5
}
