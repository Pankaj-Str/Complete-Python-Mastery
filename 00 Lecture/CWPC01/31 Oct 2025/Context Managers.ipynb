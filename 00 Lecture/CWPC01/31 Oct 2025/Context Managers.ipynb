{
 "cells": [
  {
   "cell_type": "code",
   "execution_count": 1,
   "id": "4bcf352c",
   "metadata": {},
   "outputs": [],
   "source": [
    "with open(\"diary.txt\",'w') as f:\n",
    "    f.write(\"My name is Nishant Jain\")"
   ]
  },
  {
   "cell_type": "code",
   "execution_count": null,
   "id": "c6873fa3",
   "metadata": {},
   "outputs": [],
   "source": [
    "# file open \n",
    "# write \n",
    "# close file (automatically) f.close()"
   ]
  },
  {
   "cell_type": "code",
   "execution_count": null,
   "id": "847d8978",
   "metadata": {},
   "outputs": [
    {
     "name": "stdout",
     "output_type": "stream",
     "text": [
      "Welcome to my home\n",
      "Enjoy your stay\n",
      "Thanks for visiting my home\n",
      "door is closed now\n"
     ]
    }
   ],
   "source": [
    "class home:\n",
    "    def __enter__(self):\n",
    "        print(\"Welcome to my home\")\n",
    "        return self\n",
    "    def __exit__(self,*args):\n",
    "        print(\"Thanks for visiting my home\")\n",
    "        print(\"door is closed now\")\n",
    "        \n",
    "        \n",
    "# use this context manager\n",
    "with home() as h:\n",
    "    print(\"Enjoy your stay\")    \n",
    "    \n",
    "    \n",
    "# with = context manager\n",
    "\n",
    "# step 1 : __enter__ method is called\n",
    "# step 2 : code inside with block is executed\n",
    "# step 3 : __exit__ method is called      "
   ]
  },
  {
   "cell_type": "code",
   "execution_count": 10,
   "id": "110db390",
   "metadata": {},
   "outputs": [],
   "source": [
    "import time\n",
    "class timer:\n",
    "    def __enter__(self):\n",
    "        self.start = time.time()\n",
    "        print(\"Timer started...\")\n",
    "        \n",
    "    def __exit__(self,*args):\n",
    "        self.end = time.time()\n",
    "        print(f\"Total time taken : {self.end - self.start} seconds\")   \n",
    "        print(\"Timer ended...\") \n",
    "    "
   ]
  },
  {
   "cell_type": "code",
   "execution_count": 11,
   "id": "7f75053b",
   "metadata": {},
   "outputs": [
    {
     "name": "stdout",
     "output_type": "stream",
     "text": [
      "Timer started...\n",
      "Performing some task...\n",
      "Task completed.\n",
      "Total time taken : 4.093838930130005 seconds\n",
      "Timer ended...\n"
     ]
    }
   ],
   "source": [
    "# use this context manager\n",
    "with timer() as t:\n",
    "    print(\"Performing some task...\")\n",
    "    time.sleep(4)  # Simulating a task that takes 4 seconds\n",
    "    print(\"Task completed.\")"
   ]
  },
  {
   "cell_type": "code",
   "execution_count": 12,
   "id": "109173b3",
   "metadata": {},
   "outputs": [
    {
     "name": "stdout",
     "output_type": "stream",
     "text": [
      "tea time started...\n",
      "tea is ready\n"
     ]
    }
   ],
   "source": [
    "start = time.time()\n",
    "print(\"tea time started...\")\n",
    "time.sleep(3)\n",
    "print(\"tea is ready\")"
   ]
  }
 ],
 "metadata": {
  "kernelspec": {
   "display_name": "Python 3",
   "language": "python",
   "name": "python3"
  },
  "language_info": {
   "codemirror_mode": {
    "name": "ipython",
    "version": 3
   },
   "file_extension": ".py",
   "mimetype": "text/x-python",
   "name": "python",
   "nbconvert_exporter": "python",
   "pygments_lexer": "ipython3",
   "version": "3.13.7"
  }
 },
 "nbformat": 4,
 "nbformat_minor": 5
}
