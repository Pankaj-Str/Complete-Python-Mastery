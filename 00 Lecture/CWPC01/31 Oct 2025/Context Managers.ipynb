{
 "cells": [
  {
   "cell_type": "code",
   "execution_count": 1,
   "id": "4bcf352c",
   "metadata": {},
   "outputs": [],
   "source": [
    "with open(\"diary.txt\",'w') as f:\n",
    "    f.write(\"My name is Nishant Jain\")"
   ]
  },
  {
   "cell_type": "code",
   "execution_count": null,
   "id": "c6873fa3",
   "metadata": {},
   "outputs": [],
   "source": [
    "# file open \n",
    "# write \n",
    "# close file (automatically) f.close()"
   ]
  }
 ],
 "metadata": {
  "kernelspec": {
   "display_name": "Python 3",
   "language": "python",
   "name": "python3"
  },
  "language_info": {
   "codemirror_mode": {
    "name": "ipython",
    "version": 3
   },
   "file_extension": ".py",
   "mimetype": "text/x-python",
   "name": "python",
   "nbconvert_exporter": "python",
   "pygments_lexer": "ipython3",
   "version": "3.13.7"
  }
 },
 "nbformat": 4,
 "nbformat_minor": 5
}
