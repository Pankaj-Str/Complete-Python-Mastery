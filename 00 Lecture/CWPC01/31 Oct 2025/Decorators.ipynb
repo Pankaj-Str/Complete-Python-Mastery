{
 "cells": [
  {
   "cell_type": "code",
   "execution_count": 12,
   "id": "2084648d",
   "metadata": {},
   "outputs": [],
   "source": [
    "def Info(data):\n",
    "    def wrapper():\n",
    "        print(\"this is my Name Nishant ... \")\n",
    "        print(\"My city is Mumbai...\")\n",
    "        data()\n",
    "    return wrapper      "
   ]
  },
  {
   "cell_type": "code",
   "execution_count": 13,
   "id": "0bce3a23",
   "metadata": {},
   "outputs": [],
   "source": [
    "@Info \n",
    "def Main_fun():\n",
    "    print(\"this is my Account number 76543456789\")"
   ]
  },
  {
   "cell_type": "code",
   "execution_count": 14,
   "id": "af7fb794",
   "metadata": {},
   "outputs": [
    {
     "name": "stdout",
     "output_type": "stream",
     "text": [
      "this is my Name Nishant ... \n",
      "My city is Mumbai...\n",
      "this is my Account number 76543456789\n"
     ]
    }
   ],
   "source": [
    "# call main funciton\n",
    "Main_fun()"
   ]
  },
  {
   "cell_type": "code",
   "execution_count": 18,
   "id": "77bbab68",
   "metadata": {},
   "outputs": [
    {
     "name": "stdout",
     "output_type": "stream",
     "text": [
      "welcome to hello word \n",
      "Function is start 2.0049 seconds\n"
     ]
    }
   ],
   "source": [
    "import time\n",
    "\n",
    "# decorator \n",
    "def timer(fun):\n",
    "    def wrapper():\n",
    "        start = time.time()\n",
    "        fun() # main call function \n",
    "        end = time.time()\n",
    "        print(f\"Function is start {end - start:.4f} seconds\")\n",
    "    return wrapper    \n",
    "\n",
    "\n",
    "# now use decorator \n",
    "@timer\n",
    "def hello():\n",
    "    print(\"welcome to hello word \")\n",
    "    time.sleep(2) # 2 second stop\n",
    "    \n",
    "# call function \n",
    "hello()    "
   ]
  },
  {
   "cell_type": "code",
   "execution_count": 19,
   "id": "953e7b6a",
   "metadata": {},
   "outputs": [],
   "source": [
    "def smart_devide(func):\n",
    "    def wrapper(a,b):\n",
    "        if b == 0:\n",
    "            print(\"Error  : Not  divide Zero\")\n",
    "            return\n",
    "        return func(a,b)\n",
    "    return wrapper"
   ]
  },
  {
   "cell_type": "code",
   "execution_count": 21,
   "id": "9bed1d21",
   "metadata": {},
   "outputs": [
    {
     "name": "stdout",
     "output_type": "stream",
     "text": [
      "5.0\n",
      "Error  : Not  divide Zero\n",
      "None\n"
     ]
    }
   ],
   "source": [
    "@smart_devide\n",
    "def divide(a,b):\n",
    "    return a/b\n",
    "\n",
    "print(divide(10,2))\n",
    "print(divide(10,0))"
   ]
  }
 ],
 "metadata": {
  "kernelspec": {
   "display_name": "Python 3",
   "language": "python",
   "name": "python3"
  },
  "language_info": {
   "codemirror_mode": {
    "name": "ipython",
    "version": 3
   },
   "file_extension": ".py",
   "mimetype": "text/x-python",
   "name": "python",
   "nbconvert_exporter": "python",
   "pygments_lexer": "ipython3",
   "version": "3.13.7"
  }
 },
 "nbformat": 4,
 "nbformat_minor": 5
}
