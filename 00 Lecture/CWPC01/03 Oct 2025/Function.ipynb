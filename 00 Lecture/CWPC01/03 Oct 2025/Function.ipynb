{
 "cells": [
  {
   "cell_type": "code",
   "execution_count": null,
   "id": "0f89c1bd",
   "metadata": {},
   "outputs": [],
   "source": [
    "# variable -length agruments\n",
    "\n",
    "# 2 types\n",
    "# *args (non-keyword arguments)\n",
    "# **kwargs (keyword arguments)\n",
    "\n",
    "# *args (non-keyword arguments)\n",
    "\n",
    "def add_numbers(*args):\n",
    "    total = 0\n",
    "    for num in args:\n",
    "        total += num\n",
    "    print(\"Sum : \",total)"
   ]
  },
  {
   "cell_type": "code",
   "execution_count": 3,
   "id": "e88e80c8",
   "metadata": {},
   "outputs": [
    {
     "name": "stdout",
     "output_type": "stream",
     "text": [
      "Sum :  181\n",
      "Sum :  510\n"
     ]
    }
   ],
   "source": [
    "add_numbers(56,80,45)\n",
    "add_numbers(56,80,45,2,3,56,78,90,100)"
   ]
  },
  {
   "cell_type": "code",
   "execution_count": 4,
   "id": "d07bcfd7",
   "metadata": {},
   "outputs": [],
   "source": [
    "# **kwargs (keyword arguments)\n",
    "# key = values\n",
    "\n",
    "# example : \n",
    "\n",
    "def display_info(**kwargs):\n",
    "    for key,value in kwargs.items():\n",
    "        print(f\"{key} : {value}\")"
   ]
  },
  {
   "cell_type": "code",
   "execution_count": 5,
   "id": "2671ae6a",
   "metadata": {},
   "outputs": [
    {
     "name": "stdout",
     "output_type": "stream",
     "text": [
      "name : joy\n",
      "age : 32\n",
      "course : Python\n"
     ]
    }
   ],
   "source": [
    "display_info(name = \"joy\",age=32,course=\"Python\")"
   ]
  },
  {
   "cell_type": "code",
   "execution_count": 11,
   "id": "8646f4c8",
   "metadata": {},
   "outputs": [],
   "source": [
    "# combining *args and **kwargs\n",
    "\n",
    "# (normal,default,*args,**kwargs)\n",
    "\n",
    "def show_details(id , course = \"Python\", *args,**kwargs):\n",
    "    print(f\"ID : {id}\" )\n",
    "    print(f\"Course : {course}\" )\n",
    "    print(f\"Args : {args}\")\n",
    "    print(f\"kwargs : {kwargs}\")"
   ]
  },
  {
   "cell_type": "code",
   "execution_count": 12,
   "id": "14dd1ffb",
   "metadata": {},
   "outputs": [
    {
     "name": "stdout",
     "output_type": "stream",
     "text": [
      "ID : 101\n",
      "Course : Python\n",
      "Args : ('machine learning',)\n",
      "kwargs : {'name': 'joy', 'level': 'Beginner'}\n"
     ]
    }
   ],
   "source": [
    "show_details(101,\"Python\",\"machine learning\",name=\"joy\",level=\"Beginner\")"
   ]
  },
  {
   "cell_type": "code",
   "execution_count": 13,
   "id": "1c90cb2a",
   "metadata": {},
   "outputs": [],
   "source": [
    "def order_summary(*item , **details):\n",
    "    print(\"Order items : \",item)\n",
    "    print(\"Order Details : \",details)"
   ]
  },
  {
   "cell_type": "code",
   "execution_count": 14,
   "id": "91062f5b",
   "metadata": {},
   "outputs": [
    {
     "name": "stdout",
     "output_type": "stream",
     "text": [
      "Order items :  ('pizza', 'Burger')\n",
      "Order Details :  {'name': 'joy', 'address': 'delhi', 'payment': 'UPI'}\n"
     ]
    }
   ],
   "source": [
    "order_summary(\"pizza\",\"Burger\",name=\"joy\",address=\"delhi\",payment=\"UPI\")"
   ]
  },
  {
   "cell_type": "code",
   "execution_count": null,
   "id": "f519d2c7",
   "metadata": {},
   "outputs": [],
   "source": [
    "# * for iterables \n",
    "# ** for dictionaries"
   ]
  },
  {
   "cell_type": "code",
   "execution_count": 15,
   "id": "d40ac25b",
   "metadata": {},
   "outputs": [],
   "source": [
    "# map() -> each item in an iterable (like a list)\n",
    "\n",
    "# map(function, iterable)\n",
    "\n",
    "def square(num):\n",
    "    return num**2"
   ]
  },
  {
   "cell_type": "code",
   "execution_count": 16,
   "id": "3e05b885",
   "metadata": {},
   "outputs": [
    {
     "data": {
      "text/plain": [
       "529"
      ]
     },
     "execution_count": 16,
     "metadata": {},
     "output_type": "execute_result"
    }
   ],
   "source": [
    "# normal way \n",
    "square(23)"
   ]
  },
  {
   "cell_type": "code",
   "execution_count": 20,
   "id": "3b8c2ef8",
   "metadata": {},
   "outputs": [
    {
     "name": "stdout",
     "output_type": "stream",
     "text": [
      "[529, 52900, 576, 625, 676, 729, 784, 361]\n"
     ]
    }
   ],
   "source": [
    "# using map if use (list)\n",
    "\n",
    "numbers = [23,230,24,25,26,27,28,19]\n",
    "result = map(square,numbers)\n",
    "print(list(result))"
   ]
  },
  {
   "cell_type": "code",
   "execution_count": 21,
   "id": "c0c43524",
   "metadata": {},
   "outputs": [
    {
     "name": "stdout",
     "output_type": "stream",
     "text": [
      "[529, 52900, 576, 625, 676, 729, 784, 361]\n"
     ]
    }
   ],
   "source": [
    "# using lambda with map\n",
    "numbers = [23,230,24,25,26,27,28,19]\n",
    "result = map(lambda x : x**2,numbers)\n",
    "print(list(result))"
   ]
  },
  {
   "cell_type": "code",
   "execution_count": 22,
   "id": "e36f1e69",
   "metadata": {},
   "outputs": [
    {
     "name": "stdout",
     "output_type": "stream",
     "text": [
      "['C', 'O', 'D', 'E', 'S', 'W', 'I', 'T', 'H', 'P', 'A', 'N', 'K', 'A', 'J']\n"
     ]
    }
   ],
   "source": [
    "# map()\n",
    "text = \"codeswithpankaj\"\n",
    "result = map(str.upper,text)\n",
    "print(list(result))\n"
   ]
  },
  {
   "cell_type": "code",
   "execution_count": 23,
   "id": "53e5f580",
   "metadata": {},
   "outputs": [
    {
     "name": "stdout",
     "output_type": "stream",
     "text": [
      "['NISHANT', 'JOY', 'NISHA']\n"
     ]
    }
   ],
   "source": [
    "names = [\"nishant\",\"joy\",\"nisha\"]\n",
    "result = map(str.upper,names)\n",
    "print(list(result))"
   ]
  },
  {
   "cell_type": "code",
   "execution_count": 31,
   "id": "9b6a061d",
   "metadata": {},
   "outputs": [
    {
     "name": "stdout",
     "output_type": "stream",
     "text": [
      "['Mr./Ms.nishant', 'Mr./Ms.joy', 'Mr./Ms.nisha']\n"
     ]
    }
   ],
   "source": [
    "students = [\"nishant\",\"joy\",\"nisha\"]\n",
    "result = map(lambda name:\"Mr./Ms.\"+name,students)\n",
    "print(list(result))"
   ]
  },
  {
   "cell_type": "code",
   "execution_count": null,
   "id": "5d7b54a2",
   "metadata": {},
   "outputs": [],
   "source": [
    "# filter() function iterable based on a condition T/F\n",
    "\n",
    "# filter(function,iterable) \n"
   ]
  },
  {
   "cell_type": "code",
   "execution_count": 32,
   "id": "8e25b31c",
   "metadata": {},
   "outputs": [],
   "source": [
    "# example \n",
    "\n",
    "def is_even(num):\n",
    "    return num% 2 == 0\n"
   ]
  },
  {
   "cell_type": "code",
   "execution_count": 35,
   "id": "4744adb7",
   "metadata": {},
   "outputs": [
    {
     "name": "stdout",
     "output_type": "stream",
     "text": [
      "[2, 4, 6, 8, 10]\n"
     ]
    }
   ],
   "source": [
    "number = [1,2,3,4,5,6,7,8,9,10]\n",
    "result = filter(is_even,number)\n",
    "print(list(result))"
   ]
  },
  {
   "cell_type": "code",
   "execution_count": 36,
   "id": "b7df49ec",
   "metadata": {},
   "outputs": [
    {
     "name": "stdout",
     "output_type": "stream",
     "text": [
      "[30, 40, 50, 100]\n"
     ]
    }
   ],
   "source": [
    "# lambda\n",
    "number = [10,20,30,40,50,6,7,8,9,100]\n",
    "result = filter(lambda x : x > 20,number)\n",
    "print(list(result))"
   ]
  },
  {
   "cell_type": "code",
   "execution_count": null,
   "id": "f5877967",
   "metadata": {},
   "outputs": [],
   "source": [
    "# reduce() function -> single value\n",
    "from functools import reduce\n",
    "# reduce(function , interable)"
   ]
  },
  {
   "cell_type": "code",
   "execution_count": 41,
   "id": "8ec03449",
   "metadata": {},
   "outputs": [
    {
     "name": "stdout",
     "output_type": "stream",
     "text": [
      "70\n"
     ]
    }
   ],
   "source": [
    "# sum of number \n",
    "number = [12,13,14,15,16]\n",
    "result = reduce(lambda x ,y: x+y,number)\n",
    "\n",
    "print(result)"
   ]
  },
  {
   "cell_type": "code",
   "execution_count": null,
   "id": "ea405c67",
   "metadata": {},
   "outputs": [],
   "source": [
    "# https://github.com/Pankaj-Str/Complete-Python-Mastery/issues/19"
   ]
  }
 ],
 "metadata": {
  "kernelspec": {
   "display_name": "Python 3",
   "language": "python",
   "name": "python3"
  },
  "language_info": {
   "codemirror_mode": {
    "name": "ipython",
    "version": 3
   },
   "file_extension": ".py",
   "mimetype": "text/x-python",
   "name": "python",
   "nbconvert_exporter": "python",
   "pygments_lexer": "ipython3",
   "version": "3.13.5"
  }
 },
 "nbformat": 4,
 "nbformat_minor": 5
}
