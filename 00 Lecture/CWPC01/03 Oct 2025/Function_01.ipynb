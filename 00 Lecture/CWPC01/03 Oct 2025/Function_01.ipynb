{
 "cells": [
  {
   "cell_type": "code",
   "execution_count": 1,
   "id": "09b86dff",
   "metadata": {},
   "outputs": [],
   "source": [
    "def Info():\n",
    "    print(\"Welcome to codeswithpankaj\")"
   ]
  },
  {
   "cell_type": "code",
   "execution_count": 3,
   "id": "606e3b6f",
   "metadata": {},
   "outputs": [
    {
     "name": "stdout",
     "output_type": "stream",
     "text": [
      "Welcome to codeswithpankaj\n",
      "Welcome to codeswithpankaj\n"
     ]
    }
   ],
   "source": [
    "# call the function \n",
    "Info()\n",
    "Info()"
   ]
  },
  {
   "cell_type": "code",
   "execution_count": 4,
   "id": "c0aea575",
   "metadata": {},
   "outputs": [],
   "source": [
    "# # arg..\n",
    "# def FunctionName(var1,var2....): # parameters\n",
    "#     ---- Output\n",
    "\n",
    "def add(number1,number2):\n",
    "    result = number1 + number2\n",
    "    print('This is result : ',result)"
   ]
  },
  {
   "cell_type": "code",
   "execution_count": 6,
   "id": "93a57594",
   "metadata": {},
   "outputs": [
    {
     "name": "stdout",
     "output_type": "stream",
     "text": [
      "This is result :  68\n",
      "This is result :  179\n"
     ]
    }
   ],
   "source": [
    "add(12,56)\n",
    "add(89,90)"
   ]
  },
  {
   "cell_type": "code",
   "execution_count": 14,
   "id": "db8f96dc",
   "metadata": {},
   "outputs": [],
   "source": [
    "# example \n",
    "\n",
    "def bill(price,discount=2,tax_rate=2):\n",
    "    Subtotal_after_discount = price - discount\n",
    "    tax = Subtotal_after_discount * tax_rate/100\n",
    "    total = Subtotal_after_discount + tax\n",
    "    print(f'--------------------------------')\n",
    "    print(f'Price = {price}/-')\n",
    "    print(f'tax rate = {tax_rate}%')\n",
    "    print(f'Tax amount = {tax}/-')\n",
    "    print(f'SubTotal after discount = {Subtotal_after_discount}/-')\n",
    "    print(f'total = {total}/-')\n",
    "      "
   ]
  },
  {
   "cell_type": "code",
   "execution_count": 15,
   "id": "dafdf8c7",
   "metadata": {},
   "outputs": [
    {
     "name": "stdout",
     "output_type": "stream",
     "text": [
      "--------------------------------\n",
      "Price = 4500/-\n",
      "tax rate = 18%\n",
      "Tax amount = 809.64/-\n",
      "SubTotal after discount = 4498/-\n",
      "total = 5307.64/-\n",
      "--------------------------------\n",
      "Price = 90000/-\n",
      "tax rate = 2%\n",
      "Tax amount = 1799.76/-\n",
      "SubTotal after discount = 89988/-\n",
      "total = 91787.76/-\n",
      "--------------------------------\n",
      "Price = 7600/-\n",
      "tax rate = 2%\n",
      "Tax amount = 151.96/-\n",
      "SubTotal after discount = 7598/-\n",
      "total = 7749.96/-\n",
      "--------------------------------\n",
      "Price = 2000/-\n",
      "tax rate = 12%\n",
      "Tax amount = 238.8/-\n",
      "SubTotal after discount = 1990/-\n",
      "total = 2228.8/-\n"
     ]
    }
   ],
   "source": [
    "bill(4500,2,18)\n",
    "bill(90000,12)\n",
    "bill(7600)\n",
    "bill(2000,10,12)"
   ]
  },
  {
   "cell_type": "code",
   "execution_count": 19,
   "id": "f85cd526",
   "metadata": {},
   "outputs": [],
   "source": [
    "def get_number():\n",
    "    return 100*23"
   ]
  },
  {
   "cell_type": "code",
   "execution_count": 21,
   "id": "aa9f1901",
   "metadata": {},
   "outputs": [
    {
     "name": "stdout",
     "output_type": "stream",
     "text": [
      "this is number =  2390\n"
     ]
    }
   ],
   "source": [
    "print('this is number = ',get_number()+90)"
   ]
  },
  {
   "cell_type": "code",
   "execution_count": 22,
   "id": "027dc2e4",
   "metadata": {},
   "outputs": [],
   "source": [
    "def adds(number1,number2):\n",
    "    result = number1 + number2\n",
    "    return result"
   ]
  },
  {
   "cell_type": "code",
   "execution_count": 24,
   "id": "586885d1",
   "metadata": {},
   "outputs": [
    {
     "name": "stdout",
     "output_type": "stream",
     "text": [
      "this is result : -  3555\n"
     ]
    }
   ],
   "source": [
    "number = adds(23,56)\n",
    "print('this is result : - ',number*45)"
   ]
  },
  {
   "cell_type": "code",
   "execution_count": 25,
   "id": "297e2ad2",
   "metadata": {},
   "outputs": [],
   "source": [
    "# lambda functions\n",
    "# lambda arguments : expression\n",
    "\n",
    "square = lambda number : number * number\n"
   ]
  },
  {
   "cell_type": "code",
   "execution_count": 26,
   "id": "0ad97b40",
   "metadata": {},
   "outputs": [
    {
     "name": "stdout",
     "output_type": "stream",
     "text": [
      "49\n"
     ]
    }
   ],
   "source": [
    "print(square(7))"
   ]
  },
  {
   "cell_type": "code",
   "execution_count": 27,
   "id": "636e0a38",
   "metadata": {},
   "outputs": [],
   "source": [
    "add = lambda a, b : a + b"
   ]
  },
  {
   "cell_type": "code",
   "execution_count": 28,
   "id": "a6c65179",
   "metadata": {},
   "outputs": [
    {
     "name": "stdout",
     "output_type": "stream",
     "text": [
      "170\n"
     ]
    }
   ],
   "source": [
    "print(add(80,90))"
   ]
  }
 ],
 "metadata": {
  "kernelspec": {
   "display_name": "Python 3",
   "language": "python",
   "name": "python3"
  },
  "language_info": {
   "codemirror_mode": {
    "name": "ipython",
    "version": 3
   },
   "file_extension": ".py",
   "mimetype": "text/x-python",
   "name": "python",
   "nbconvert_exporter": "python",
   "pygments_lexer": "ipython3",
   "version": "3.13.7"
  }
 },
 "nbformat": 4,
 "nbformat_minor": 5
}
