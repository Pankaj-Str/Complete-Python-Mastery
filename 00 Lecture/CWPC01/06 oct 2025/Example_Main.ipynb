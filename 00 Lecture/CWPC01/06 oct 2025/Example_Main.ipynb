{
 "cells": [
  {
   "cell_type": "code",
   "execution_count": 1,
   "id": "a802d820",
   "metadata": {},
   "outputs": [
    {
     "name": "stdout",
     "output_type": "stream",
     "text": [
      "this is addition :  100\n",
      "this is Subtract :  256\n"
     ]
    }
   ],
   "source": [
    "import Math_utils as mu\n",
    "\n",
    "result = mu.add(10,90)\n",
    "print(\"this is addition : \",result)\n",
    "\n",
    "result = mu.Subtract(345,89)\n",
    "print(\"this is Subtract : \",result)"
   ]
  },
  {
   "cell_type": "code",
   "execution_count": 2,
   "id": "f5720980",
   "metadata": {},
   "outputs": [
    {
     "name": "stdout",
     "output_type": "stream",
     "text": [
      "4.0\n",
      "3.141592653589793\n"
     ]
    }
   ],
   "source": [
    "import math\n",
    "\n",
    "print(math.sqrt(16))\n",
    "print(math.pi)"
   ]
  },
  {
   "cell_type": "code",
   "execution_count": 3,
   "id": "87c8fca4",
   "metadata": {},
   "outputs": [
    {
     "name": "stdout",
     "output_type": "stream",
     "text": [
      "4.0\n",
      "3.141592653589793\n"
     ]
    }
   ],
   "source": [
    "# import specific function or variable from a module directly\n",
    "\n",
    "from math import sqrt , pi\n",
    "\n",
    "print(sqrt(16))\n",
    "print(pi)"
   ]
  },
  {
   "cell_type": "code",
   "execution_count": 4,
   "id": "7b749bed",
   "metadata": {},
   "outputs": [
    {
     "name": "stdout",
     "output_type": "stream",
     "text": [
      "0.8939966636005579\n"
     ]
    }
   ],
   "source": [
    "# using import all *\n",
    "from math import * \n",
    "print(sin(90))"
   ]
  },
  {
   "cell_type": "code",
   "execution_count": 5,
   "id": "a1a6d5a9",
   "metadata": {},
   "outputs": [
    {
     "name": "stdout",
     "output_type": "stream",
     "text": [
      "Random number :  16\n"
     ]
    }
   ],
   "source": [
    "import random \n",
    "num = random.randint(10,100)\n",
    "print(\"Random number : \",num)"
   ]
  },
  {
   "cell_type": "code",
   "execution_count": 6,
   "id": "fc0b43fa",
   "metadata": {},
   "outputs": [
    {
     "name": "stdout",
     "output_type": "stream",
     "text": [
      "GST : 216.0\n"
     ]
    }
   ],
   "source": [
    "from my_pkg import Tax as t\n",
    "\n",
    "taxx = t.tax(1200,18)\n",
    "print(f'GST : {taxx}')\n"
   ]
  },
  {
   "cell_type": "code",
   "execution_count": 7,
   "id": "f3911db7",
   "metadata": {},
   "outputs": [
    {
     "name": "stdout",
     "output_type": "stream",
     "text": [
      "1\n",
      "pankaj with codes\n"
     ]
    }
   ],
   "source": [
    "from my_pkg import String_utils as st\n",
    "\n",
    "print(st.count_vowels(\"Python\"))\n",
    "print(st.reverse_words(\"codes with pankaj\"))"
   ]
  },
  {
   "cell_type": "code",
   "execution_count": 15,
   "id": "dcee2d4b",
   "metadata": {},
   "outputs": [
    {
     "name": "stdout",
     "output_type": "stream",
     "text": [
      " Now = 2025-10-06 22:21:54\n",
      " Next Week = 2025-10-14\n",
      " Is Weekend = False\n"
     ]
    }
   ],
   "source": [
    "\n",
    "from my_pkg import Date_helper as dh\n",
    "\n",
    "print(f\" Now = {dh.current_time()}\")\n",
    "print(f' Next Week = {dh.add_days(8)}')\n",
    "print(f' Is Weekend = {dh.is_weekend()}')"
   ]
  }
 ],
 "metadata": {
  "kernelspec": {
   "display_name": "Python 3",
   "language": "python",
   "name": "python3"
  },
  "language_info": {
   "codemirror_mode": {
    "name": "ipython",
    "version": 3
   },
   "file_extension": ".py",
   "mimetype": "text/x-python",
   "name": "python",
   "nbconvert_exporter": "python",
   "pygments_lexer": "ipython3",
   "version": "3.13.7"
  }
 },
 "nbformat": 4,
 "nbformat_minor": 5
}
