{
 "cells": [
  {
   "cell_type": "code",
   "execution_count": 4,
   "id": "4552cd1b",
   "metadata": {},
   "outputs": [
    {
     "name": "stdout",
     "output_type": "stream",
     "text": [
      "hello\n"
     ]
    }
   ],
   "source": [
    "# error - program stop \n",
    "# example - Syntax error \n",
    " \n",
    "print('hello')"
   ]
  },
  {
   "cell_type": "code",
   "execution_count": 5,
   "id": "4b711a31",
   "metadata": {},
   "outputs": [
    {
     "ename": "ZeroDivisionError",
     "evalue": "division by zero",
     "output_type": "error",
     "traceback": [
      "\u001b[31m---------------------------------------------------------------------------\u001b[39m",
      "\u001b[31mZeroDivisionError\u001b[39m                         Traceback (most recent call last)",
      "\u001b[36mCell\u001b[39m\u001b[36m \u001b[39m\u001b[32mIn[5]\u001b[39m\u001b[32m, line 4\u001b[39m\n\u001b[32m      1\u001b[39m \u001b[38;5;66;03m# Exception Disrupt the normal flow of a program \u001b[39;00m\n\u001b[32m      2\u001b[39m \u001b[38;5;66;03m# example \u001b[39;00m\n\u001b[32m----> \u001b[39m\u001b[32m4\u001b[39m number = \u001b[32;43m10\u001b[39;49m\u001b[43m/\u001b[49m\u001b[32;43m0\u001b[39;49m \u001b[38;5;66;03m#ZeroDivisionError\u001b[39;00m\n",
      "\u001b[31mZeroDivisionError\u001b[39m: division by zero"
     ]
    }
   ],
   "source": [
    "# Exception Disrupt the normal flow of a program \n",
    "# example \n",
    "\n",
    "number = 10/0 #ZeroDivisionError"
   ]
  },
  {
   "cell_type": "code",
   "execution_count": null,
   "id": "6996d990",
   "metadata": {},
   "outputs": [],
   "source": [
    "# try and except block\n",
    "\n",
    "# handle exceptions \n",
    "# try :\n",
    "    # code exceptions..\n",
    "# except ExceptionType\n",
    "    # code to handle the exceptions     "
   ]
  },
  {
   "cell_type": "code",
   "execution_count": null,
   "id": "b3b783dd",
   "metadata": {},
   "outputs": [
    {
     "ename": "ZeroDivisionError",
     "evalue": "division by zero",
     "output_type": "error",
     "traceback": [
      "\u001b[31m---------------------------------------------------------------------------\u001b[39m",
      "\u001b[31mZeroDivisionError\u001b[39m                         Traceback (most recent call last)",
      "\u001b[36mCell\u001b[39m\u001b[36m \u001b[39m\u001b[32mIn[7]\u001b[39m\u001b[32m, line 4\u001b[39m\n\u001b[32m      1\u001b[39m \u001b[38;5;66;03m# example :-\u001b[39;00m\n\u001b[32m      3\u001b[39m num = \u001b[38;5;28mint\u001b[39m(\u001b[38;5;28minput\u001b[39m(\u001b[33m'\u001b[39m\u001b[33mEnter a number : \u001b[39m\u001b[33m'\u001b[39m))\n\u001b[32m----> \u001b[39m\u001b[32m4\u001b[39m result = \u001b[32;43m10\u001b[39;49m\u001b[43m/\u001b[49m\u001b[43mnum\u001b[49m\n\u001b[32m      5\u001b[39m \u001b[38;5;28mprint\u001b[39m(\u001b[33mf\u001b[39m\u001b[33m'\u001b[39m\u001b[33mthis is result : \u001b[39m\u001b[38;5;132;01m{\u001b[39;00mresult\u001b[38;5;132;01m}\u001b[39;00m\u001b[33m'\u001b[39m)\n",
      "\u001b[31mZeroDivisionError\u001b[39m: division by zero"
     ]
    }
   ],
   "source": [
    "# example :-\n",
    "\n",
    "num = int(input('Enter a number : '))\n",
    "result = 10/num\n",
    "print(f'this is result : {result}')"
   ]
  },
  {
   "cell_type": "code",
   "execution_count": null,
   "id": "20bb0e77",
   "metadata": {},
   "outputs": [
    {
     "ename": "ValueError",
     "evalue": "invalid literal for int() with base 10: 'joy'",
     "output_type": "error",
     "traceback": [
      "\u001b[31m---------------------------------------------------------------------------\u001b[39m",
      "\u001b[31mValueError\u001b[39m                                Traceback (most recent call last)",
      "\u001b[36mCell\u001b[39m\u001b[36m \u001b[39m\u001b[32mIn[10]\u001b[39m\u001b[32m, line 5\u001b[39m\n\u001b[32m      1\u001b[39m \u001b[38;5;66;03m# handle exceptions \u001b[39;00m\n\u001b[32m      2\u001b[39m \u001b[38;5;66;03m# ZeroDivisionError\u001b[39;00m\n\u001b[32m      4\u001b[39m \u001b[38;5;28;01mtry\u001b[39;00m:\n\u001b[32m----> \u001b[39m\u001b[32m5\u001b[39m     num = \u001b[38;5;28;43mint\u001b[39;49m\u001b[43m(\u001b[49m\u001b[38;5;28;43minput\u001b[39;49m\u001b[43m(\u001b[49m\u001b[33;43m'\u001b[39;49m\u001b[33;43mEnter a number : \u001b[39;49m\u001b[33;43m'\u001b[39;49m\u001b[43m)\u001b[49m\u001b[43m)\u001b[49m\n\u001b[32m      6\u001b[39m     result = \u001b[32m10\u001b[39m/num\n\u001b[32m      7\u001b[39m     \u001b[38;5;28mprint\u001b[39m(\u001b[33mf\u001b[39m\u001b[33m'\u001b[39m\u001b[33mthis is result : \u001b[39m\u001b[38;5;132;01m{\u001b[39;00mresult\u001b[38;5;132;01m}\u001b[39;00m\u001b[33m'\u001b[39m)\n",
      "\u001b[31mValueError\u001b[39m: invalid literal for int() with base 10: 'joy'"
     ]
    }
   ],
   "source": [
    "# handle exceptions \n",
    "# ZeroDivisionError\n",
    "\n",
    "try:\n",
    "    num = int(input('Enter a number : '))\n",
    "    result = 10/num\n",
    "    print(f'this is result : {result}')\n",
    "except ZeroDivisionError:\n",
    "    print(\"Error : you can't divide by zero ...\")"
   ]
  },
  {
   "cell_type": "code",
   "execution_count": null,
   "id": "03456302",
   "metadata": {},
   "outputs": [
    {
     "name": "stdout",
     "output_type": "stream",
     "text": [
      "this is result : 1.2709942835761102e-06\n"
     ]
    }
   ],
   "source": [
    "# multiple except blocks\n",
    "\n",
    "try:\n",
    "    num = int(input('Enter a number : '))\n",
    "    result = 10/num\n",
    "    print(f'this is result : {result}')\n",
    "except ValueError:\n",
    "    print(\"Error : Please enter a valid interger...\")    \n",
    "except ZeroDivisionError:\n",
    "    print(\"Error : you can't divide by zero ...\")\n",
    "except Exception as e:\n",
    "    print('unexpected error ',e) "
   ]
  },
  {
   "cell_type": "code",
   "execution_count": null,
   "id": "9ea76602",
   "metadata": {},
   "outputs": [
    {
     "name": "stdout",
     "output_type": "stream",
     "text": [
      "file not found .... \n",
      "Execution completed...\n"
     ]
    }
   ],
   "source": [
    "# finally block - always executed (exception occurs or not)\n",
    "\n",
    "try:\n",
    "    file = open(\"test.txt\",'r')\n",
    "    print(file.read())\n",
    "except FileNotFoundError:\n",
    "    print(\"file not found .... \")\n",
    "finally:\n",
    "    print(\"Execution completed...\")        "
   ]
  },
  {
   "cell_type": "code",
   "execution_count": null,
   "id": "ec67f907",
   "metadata": {},
   "outputs": [],
   "source": [
    "# raise keywoord \n",
    "# raising exceptions (manually)\n",
    "\n",
    "def divide(a,b):\n",
    "    if b == 0:\n",
    "        raise ValueError(\"Denominator cannot be zero \")\n",
    "    return a / b\n"
   ]
  },
  {
   "cell_type": "code",
   "execution_count": null,
   "id": "c943ce43",
   "metadata": {},
   "outputs": [
    {
     "name": "stdout",
     "output_type": "stream",
     "text": [
      "Caught an error  Denominator cannot be zero \n"
     ]
    }
   ],
   "source": [
    "# call the function \n",
    "try :\n",
    "    print(divide(10,0))\n",
    "except ValueError as e:\n",
    "    print(\"Caught an error \",e)    "
   ]
  },
  {
   "cell_type": "code",
   "execution_count": null,
   "id": "dea21f2b",
   "metadata": {},
   "outputs": [],
   "source": [
    "# example :\n",
    "\n",
    "def divide_number (a,b):\n",
    "    try:\n",
    "        result = a/b\n",
    "    except ZeroDivisionError:\n",
    "        print('Error : cannot divide by zero ')\n",
    "    except TypeError:\n",
    "        print(\"bothe inputs must be numbers \")  \n",
    "    else:\n",
    "        print(\"division successful ! result : \",result)\n",
    "    finally: \n",
    "        print(\"Execution completed\")              "
   ]
  },
  {
   "cell_type": "code",
   "execution_count": null,
   "id": "df278e96",
   "metadata": {},
   "outputs": [
    {
     "name": "stdout",
     "output_type": "stream",
     "text": [
      "bothe inputs must be numbers \n",
      "Execution completed\n",
      "Error : cannot divide by zero \n",
      "Execution completed\n",
      "division successful ! result :  0.43478260869565216\n",
      "Execution completed\n"
     ]
    }
   ],
   "source": [
    "divide_number(10,'a')\n",
    "divide_number(10,0)\n",
    "divide_number(10,23)"
   ]
  },
  {
   "cell_type": "code",
   "execution_count": 16,
   "id": "76864bae",
   "metadata": {},
   "outputs": [],
   "source": [
    "# Example (advance)\n",
    "\n",
    "def withdraw_money(balance = 10000,amount = 700):\n",
    "    try:\n",
    "        # check if input values are valid \n",
    "        if not isinstance(balance,(int,float)) or not isinstance(amount,(int,float)):\n",
    "            raise TypeError(\"Balance and withdrawal amount must be numbers \")\n",
    "        if amount <= 0:\n",
    "            raise ValueError(\"Withdrawal amount must be greater than zero \")\n",
    "        if amount > balance:\n",
    "            raise Exception(\"Insufficient balance in your account \")\n",
    "        new_balance = balance - amount\n",
    "        print(f\"withdrawal successful ! Remanining balance : {new_balance}/-\")\n",
    "        \n",
    "    except TypeError as e:\n",
    "        print(e)\n",
    "    except ValueError as e:\n",
    "        print(e)        \n",
    "    except Exception as e:\n",
    "        print(e)\n",
    "    else:\n",
    "        print(\"Transaction completed Successfully !\")\n",
    "    finally:\n",
    "        print(\"Thank you using this service ...\")            "
   ]
  },
  {
   "cell_type": "code",
   "execution_count": 9,
   "id": "a469fa98",
   "metadata": {},
   "outputs": [
    {
     "name": "stdout",
     "output_type": "stream",
     "text": [
      "withdrawal successful ! Remanining balance : 7999.11/-\n",
      "Transaction completed Successfully !\n",
      "Thank you using this service ...\n"
     ]
    }
   ],
   "source": [
    "withdraw_money(10000,2000.89)"
   ]
  },
  {
   "cell_type": "code",
   "execution_count": 10,
   "id": "4503301a",
   "metadata": {},
   "outputs": [
    {
     "name": "stdout",
     "output_type": "stream",
     "text": [
      "Insufficient balance in your account \n",
      "Thank you using this service ...\n"
     ]
    }
   ],
   "source": [
    "withdraw_money(5000,7000)"
   ]
  },
  {
   "cell_type": "code",
   "execution_count": 11,
   "id": "bc1e184e",
   "metadata": {},
   "outputs": [
    {
     "name": "stdout",
     "output_type": "stream",
     "text": [
      "Balance and withdrawal amount must be numbers \n",
      "Thank you using this service ...\n"
     ]
    }
   ],
   "source": [
    "withdraw_money('five',2000)"
   ]
  },
  {
   "cell_type": "code",
   "execution_count": 12,
   "id": "455a81da",
   "metadata": {},
   "outputs": [
    {
     "name": "stdout",
     "output_type": "stream",
     "text": [
      "Insufficient balance in your account \n",
      "Thank you using this service ...\n"
     ]
    }
   ],
   "source": [
    "withdraw_money(3000,9000)"
   ]
  },
  {
   "cell_type": "code",
   "execution_count": 15,
   "id": "e80ddfa6",
   "metadata": {},
   "outputs": [
    {
     "name": "stdout",
     "output_type": "stream",
     "text": [
      "withdrawal successful ! Remanining balance : 44100/-\n",
      "Transaction completed Successfully !\n",
      "Thank you using this service ...\n"
     ]
    }
   ],
   "source": [
    "withdraw_money(45000,900)"
   ]
  },
  {
   "cell_type": "code",
   "execution_count": 19,
   "id": "d7fb572f",
   "metadata": {},
   "outputs": [
    {
     "name": "stdout",
     "output_type": "stream",
     "text": [
      "withdrawal successful ! Remanining balance : 2911/-\n",
      "Transaction completed Successfully !\n",
      "Thank you using this service ...\n"
     ]
    }
   ],
   "source": [
    "withdraw_money(3000,89)"
   ]
  }
 ],
 "metadata": {
  "kernelspec": {
   "display_name": "Python 3",
   "language": "python",
   "name": "python3"
  },
  "language_info": {
   "codemirror_mode": {
    "name": "ipython",
    "version": 3
   },
   "file_extension": ".py",
   "mimetype": "text/x-python",
   "name": "python",
   "nbconvert_exporter": "python",
   "pygments_lexer": "ipython3",
   "version": "3.13.7"
  }
 },
 "nbformat": 4,
 "nbformat_minor": 5
}
