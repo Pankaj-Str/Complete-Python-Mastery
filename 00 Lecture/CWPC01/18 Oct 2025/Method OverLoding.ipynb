{
 "cells": [
  {
   "cell_type": "code",
   "execution_count": 1,
   "id": "ddf131de",
   "metadata": {},
   "outputs": [],
   "source": [
    "# method over loading \n",
    "\n",
    "class Maths:\n",
    "    def add(self,a,b):\n",
    "        return a + b\n",
    "    def add(self,a,b,c):\n",
    "        return a + b + c"
   ]
  },
  {
   "cell_type": "code",
   "execution_count": 3,
   "id": "a74036c2",
   "metadata": {},
   "outputs": [
    {
     "ename": "TypeError",
     "evalue": "Maths.add() missing 1 required positional argument: 'c'",
     "output_type": "error",
     "traceback": [
      "\u001b[31m---------------------------------------------------------------------------\u001b[39m",
      "\u001b[31mTypeError\u001b[39m                                 Traceback (most recent call last)",
      "\u001b[36mCell\u001b[39m\u001b[36m \u001b[39m\u001b[32mIn[3]\u001b[39m\u001b[32m, line 3\u001b[39m\n\u001b[32m      1\u001b[39m \u001b[38;5;66;03m# create a object \u001b[39;00m\n\u001b[32m      2\u001b[39m obj = Maths()\n\u001b[32m----> \u001b[39m\u001b[32m3\u001b[39m \u001b[38;5;28mprint\u001b[39m(\u001b[43mobj\u001b[49m\u001b[43m.\u001b[49m\u001b[43madd\u001b[49m\u001b[43m(\u001b[49m\u001b[32;43m2\u001b[39;49m\u001b[43m,\u001b[49m\u001b[32;43m3\u001b[39;49m\u001b[43m)\u001b[49m)  \n",
      "\u001b[31mTypeError\u001b[39m: Maths.add() missing 1 required positional argument: 'c'"
     ]
    }
   ],
   "source": [
    "# create a object \n",
    "obj = Maths()\n",
    "print(obj.add(2,3))  "
   ]
  },
  {
   "cell_type": "code",
   "execution_count": 6,
   "id": "c3c08f7a",
   "metadata": {},
   "outputs": [],
   "source": [
    "class OtherMaths:\n",
    "    def add(self, num1 = None,num2 = None,num3=None):\n",
    "        if num1 is not None and num2 is not None and num3 is not num3:\n",
    "            return num1 + num2 + num3\n",
    "        elif num1 is not None and num2 is not None:\n",
    "            return num1 + num2\n",
    "        else : \n",
    "            return num1         "
   ]
  },
  {
   "cell_type": "code",
   "execution_count": 7,
   "id": "4172fd1b",
   "metadata": {},
   "outputs": [
    {
     "name": "stdout",
     "output_type": "stream",
     "text": [
      "5\n",
      "5\n",
      "23\n"
     ]
    }
   ],
   "source": [
    "obj1 = OtherMaths()\n",
    "print(obj1.add(2,3))\n",
    "print(obj1.add(2,3,8))\n",
    "print(obj1.add(23))"
   ]
  },
  {
   "cell_type": "code",
   "execution_count": 8,
   "id": "5ea149c5",
   "metadata": {},
   "outputs": [],
   "source": [
    "import math\n",
    "\n",
    "class Shape:\n",
    "    def area(self, *args):\n",
    "        # 1 argument -> Circle area \n",
    "        if len(args) == 1:\n",
    "            radius = args[0]\n",
    "            return math.pi * radius\n",
    "        # 2 argument -> Ractangle area \n",
    "        elif len(args) == 2:\n",
    "            length , width = args\n",
    "            return length * width\n",
    "        # 3 argument -> Triangle area (heron 's formula)\n",
    "        elif len(args) == 3:\n",
    "            a , b , c = args \n",
    "            s = (a + b + c)/2\n",
    "            return math.sqrt(s * (s - a)*(s-b)*(s-c)) \n",
    "        \n",
    "        else : \n",
    "            return \"Invalid Number of arguments\" "
   ]
  },
  {
   "cell_type": "code",
   "execution_count": null,
   "id": "12537a71",
   "metadata": {},
   "outputs": [],
   "source": [
    "# Create object \n",
    "\n",
    "\n",
    "print(\" circle Area : \",Shape.area(7))\n",
    "print(\" Rectangle Area : \",Shape.area(5,10))\n",
    "print(\" Triangle : \",Shape.area(3,4,5))"
   ]
  }
 ],
 "metadata": {
  "kernelspec": {
   "display_name": "Python 3",
   "language": "python",
   "name": "python3"
  },
  "language_info": {
   "codemirror_mode": {
    "name": "ipython",
    "version": 3
   },
   "file_extension": ".py",
   "mimetype": "text/x-python",
   "name": "python",
   "nbconvert_exporter": "python",
   "pygments_lexer": "ipython3",
   "version": "3.13.7"
  }
 },
 "nbformat": 4,
 "nbformat_minor": 5
}
