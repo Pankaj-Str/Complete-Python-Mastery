{
 "cells": [
  {
   "cell_type": "code",
   "execution_count": 10,
   "id": "8cf16ae9",
   "metadata": {},
   "outputs": [],
   "source": [
    "class A:\n",
    "    def showA():\n",
    "        print(\"class A\")"
   ]
  },
  {
   "cell_type": "code",
   "execution_count": 11,
   "id": "83b121ad",
   "metadata": {},
   "outputs": [],
   "source": [
    "class B(A):\n",
    "    def showB():\n",
    "        print(\"class B\")"
   ]
  },
  {
   "cell_type": "code",
   "execution_count": 12,
   "id": "3d42595e",
   "metadata": {},
   "outputs": [],
   "source": [
    "class C(A):\n",
    "    def showC():\n",
    "        print(\"class C\")"
   ]
  },
  {
   "cell_type": "code",
   "execution_count": 13,
   "id": "76992b0f",
   "metadata": {},
   "outputs": [],
   "source": [
    "class D(B,C): # inherits from B and C\n",
    "    def showD():\n",
    "        print(\"class D\")"
   ]
  },
  {
   "cell_type": "code",
   "execution_count": 15,
   "id": "fce855ec",
   "metadata": {},
   "outputs": [
    {
     "name": "stdout",
     "output_type": "stream",
     "text": [
      "class A\n",
      "class B\n",
      "class C\n",
      "class D\n"
     ]
    }
   ],
   "source": [
    "object = D\n",
    "object.showA()\n",
    "object.showB()\n",
    "object.showC()\n",
    "object.showD()"
   ]
  }
 ],
 "metadata": {
  "kernelspec": {
   "display_name": "Python 3",
   "language": "python",
   "name": "python3"
  },
  "language_info": {
   "codemirror_mode": {
    "name": "ipython",
    "version": 3
   },
   "file_extension": ".py",
   "mimetype": "text/x-python",
   "name": "python",
   "nbconvert_exporter": "python",
   "pygments_lexer": "ipython3",
   "version": "3.13.7"
  }
 },
 "nbformat": 4,
 "nbformat_minor": 5
}
