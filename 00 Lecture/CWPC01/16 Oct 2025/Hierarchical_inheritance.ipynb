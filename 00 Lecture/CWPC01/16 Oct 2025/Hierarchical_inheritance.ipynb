{
 "cells": [
  {
   "cell_type": "code",
   "execution_count": 3,
   "id": "9278ea40",
   "metadata": {},
   "outputs": [],
   "source": [
    "class Parent:\n",
    "    def show(self):\n",
    "        print(\"this is parent class\")"
   ]
  },
  {
   "cell_type": "code",
   "execution_count": 4,
   "id": "9a4749cd",
   "metadata": {},
   "outputs": [],
   "source": [
    "class child1(Parent):\n",
    "    def display1(self):\n",
    "        print(\"this is child 1 class \")"
   ]
  },
  {
   "cell_type": "code",
   "execution_count": 5,
   "id": "3c543547",
   "metadata": {},
   "outputs": [],
   "source": [
    "class child2(Parent):\n",
    "    def display2(self):\n",
    "        print(\"this is child 2 class \")"
   ]
  },
  {
   "cell_type": "code",
   "execution_count": null,
   "id": "d9048f1d",
   "metadata": {},
   "outputs": [],
   "source": [
    "obj1 = child1()\n",
    "obj2 = child2()\n",
    "obj1.show()\n",
    "obj2.show()"
   ]
  }
 ],
 "metadata": {
  "kernelspec": {
   "display_name": "Python 3",
   "language": "python",
   "name": "python3"
  },
  "language_info": {
   "codemirror_mode": {
    "name": "ipython",
    "version": 3
   },
   "file_extension": ".py",
   "mimetype": "text/x-python",
   "name": "python",
   "nbconvert_exporter": "python",
   "pygments_lexer": "ipython3",
   "version": "3.13.7"
  }
 },
 "nbformat": 4,
 "nbformat_minor": 5
}
