{
 "cells": [
  {
   "cell_type": "code",
   "execution_count": 1,
   "id": "af85dc2a",
   "metadata": {},
   "outputs": [],
   "source": [
    "# example of single inheritance in Python\n",
    "class Parent:\n",
    "    def display(self):\n",
    "        print(\"This is the parent class.\")\n",
    "        print(\"Hello from the Parent class!\")"
   ]
  },
  {
   "cell_type": "code",
   "execution_count": 2,
   "id": "bc2fbccd",
   "metadata": {},
   "outputs": [],
   "source": [
    "class Child(Parent):\n",
    "    def show(self):\n",
    "        print(\"This is the child class.\")\n",
    "        print(\"Hello from the Child class!\")"
   ]
  },
  {
   "cell_type": "code",
   "execution_count": 3,
   "id": "0eb6f9bb",
   "metadata": {},
   "outputs": [
    {
     "name": "stdout",
     "output_type": "stream",
     "text": [
      "This is the parent class.\n",
      "Hello from the Parent class!\n",
      "This is the child class.\n",
      "Hello from the Child class!\n"
     ]
    }
   ],
   "source": [
    "# create a object of the Child class\n",
    "child_obj = Child()\n",
    "child_obj.display()  # calling method from Parent class\n",
    "child_obj.show()     # calling method from Child class"
   ]
  }
 ],
 "metadata": {
  "kernelspec": {
   "display_name": "Python 3",
   "language": "python",
   "name": "python3"
  },
  "language_info": {
   "codemirror_mode": {
    "name": "ipython",
    "version": 3
   },
   "file_extension": ".py",
   "mimetype": "text/x-python",
   "name": "python",
   "nbconvert_exporter": "python",
   "pygments_lexer": "ipython3",
   "version": "3.13.7"
  }
 },
 "nbformat": 4,
 "nbformat_minor": 5
}
