{
 "cells": [
  {
   "cell_type": "code",
   "execution_count": 11,
   "id": "50347f9e",
   "metadata": {},
   "outputs": [],
   "source": [
    "# multiple inheritance in Python\n",
    "class Father:\n",
    "    def Father_info():\n",
    "        print(\"this is father name : joy\")\n",
    "        print(\"Hello from the Father class!\")\n",
    "    def father_bank_balance():\n",
    "        print(\"Father's bank balance is 1,00,00,000\")    "
   ]
  },
  {
   "cell_type": "code",
   "execution_count": 12,
   "id": "53cd53cd",
   "metadata": {},
   "outputs": [],
   "source": [
    "class Mother:\n",
    "    def Mother_info():\n",
    "        print(\"this is mother name : Rina\")\n",
    "        print(\"Hello from the Mother class!\")\n",
    "    def mother_bank_balance():\n",
    "        print(\"Mother's bank balance is 50,00,000\")"
   ]
  },
  {
   "cell_type": "code",
   "execution_count": 13,
   "id": "c50e75cd",
   "metadata": {},
   "outputs": [],
   "source": [
    "class child(Father, Mother):\n",
    "    def Child_info():\n",
    "        print(\"this is child name : Pankaj\")\n",
    "        print(\"Hello from the Child class!\")\n",
    "    def job():\n",
    "        print(\"Child is a Software Engineer\")"
   ]
  },
  {
   "cell_type": "code",
   "execution_count": 14,
   "id": "ee3c057b",
   "metadata": {},
   "outputs": [
    {
     "name": "stdout",
     "output_type": "stream",
     "text": [
      "this is father name : joy\n",
      "Hello from the Father class!\n",
      "this is mother name : Rina\n",
      "Hello from the Mother class!\n",
      "this is child name : Pankaj\n",
      "Hello from the Child class!\n",
      "Child is a Software Engineer\n",
      "Father's bank balance is 1,00,00,000\n",
      "Mother's bank balance is 50,00,000\n"
     ]
    }
   ],
   "source": [
    "# creating an instance of the Child class\n",
    "c = child\n",
    "c.Father_info()\n",
    "c.Mother_info()\n",
    "c.Child_info()\n",
    "c.job()\n",
    "\n",
    "# fatch bank balance of father and mother using child class\n",
    "c.father_bank_balance()\n",
    "c.mother_bank_balance()"
   ]
  }
 ],
 "metadata": {
  "kernelspec": {
   "display_name": "Python 3",
   "language": "python",
   "name": "python3"
  },
  "language_info": {
   "codemirror_mode": {
    "name": "ipython",
    "version": 3
   },
   "file_extension": ".py",
   "mimetype": "text/x-python",
   "name": "python",
   "nbconvert_exporter": "python",
   "pygments_lexer": "ipython3",
   "version": "3.13.7"
  }
 },
 "nbformat": 4,
 "nbformat_minor": 5
}
