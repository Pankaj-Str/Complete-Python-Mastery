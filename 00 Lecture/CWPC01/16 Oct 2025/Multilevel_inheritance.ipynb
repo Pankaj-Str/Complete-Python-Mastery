{
 "cells": [
  {
   "cell_type": "code",
   "execution_count": 5,
   "id": "099a9fdc",
   "metadata": {},
   "outputs": [],
   "source": [
    "class Grandfather:\n",
    "    def show1(self):\n",
    "        print(\"Grandfather 's property\")"
   ]
  },
  {
   "cell_type": "code",
   "execution_count": 6,
   "id": "2305d8da",
   "metadata": {},
   "outputs": [],
   "source": [
    "class father(Grandfather):\n",
    "    def show2(self):\n",
    "        print(\"Father's Property\")"
   ]
  },
  {
   "cell_type": "code",
   "execution_count": 7,
   "id": "0d02a60d",
   "metadata": {},
   "outputs": [],
   "source": [
    "class Son(father):\n",
    "    def show3(self):\n",
    "        print(\"son's property\")"
   ]
  },
  {
   "cell_type": "code",
   "execution_count": 8,
   "id": "63f745aa",
   "metadata": {},
   "outputs": [
    {
     "name": "stdout",
     "output_type": "stream",
     "text": [
      "Grandfather 's property\n",
      "Father's Property\n",
      "son's property\n"
     ]
    }
   ],
   "source": [
    "obj= Son()\n",
    "obj.show1()\n",
    "obj.show2()\n",
    "obj.show3()"
   ]
  }
 ],
 "metadata": {
  "kernelspec": {
   "display_name": "Python 3",
   "language": "python",
   "name": "python3"
  },
  "language_info": {
   "codemirror_mode": {
    "name": "ipython",
    "version": 3
   },
   "file_extension": ".py",
   "mimetype": "text/x-python",
   "name": "python",
   "nbconvert_exporter": "python",
   "pygments_lexer": "ipython3",
   "version": "3.13.7"
  }
 },
 "nbformat": 4,
 "nbformat_minor": 5
}
