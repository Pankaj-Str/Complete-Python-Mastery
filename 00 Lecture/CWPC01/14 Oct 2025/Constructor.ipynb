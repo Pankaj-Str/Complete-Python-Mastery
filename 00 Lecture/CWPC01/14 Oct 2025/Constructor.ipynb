{
 "cells": [
  {
   "cell_type": "code",
   "execution_count": 9,
   "id": "be3c75fd",
   "metadata": {},
   "outputs": [],
   "source": [
    "class BankAccount:\n",
    "    def __init__(self,name,balance):\n",
    "        print(\"Bank Account Created\")\n",
    "        self.name = name\n",
    "        self.balance = balance\n",
    "    def info(self):\n",
    "        print(f\"Account holder Name : {self.name}\")\n",
    "        print(f\"Account Balance : {self.balance}/-\")         "
   ]
  },
  {
   "cell_type": "code",
   "execution_count": 11,
   "id": "69f79755",
   "metadata": {},
   "outputs": [
    {
     "name": "stdout",
     "output_type": "stream",
     "text": [
      "Bank Account Created\n",
      "Account holder Name : joy\n",
      "Account Balance : 800000/-\n"
     ]
    }
   ],
   "source": [
    "mybank = BankAccount(\"joy\",800000)\n",
    "mybank.info()"
   ]
  },
  {
   "cell_type": "code",
   "execution_count": 12,
   "id": "83ba0386",
   "metadata": {},
   "outputs": [],
   "source": [
    "class Student:\n",
    "    def __init__(self,name):\n",
    "        print(\"Constructor call ....\")\n",
    "        self.name = name\n",
    "    def show(self):\n",
    "        print(f\"student Name {self.name}\")\n",
    "    def __del__(self):\n",
    "        print(\"destructor object delete \")        \n",
    "        "
   ]
  },
  {
   "cell_type": "code",
   "execution_count": 15,
   "id": "fbf92146",
   "metadata": {},
   "outputs": [
    {
     "name": "stdout",
     "output_type": "stream",
     "text": [
      "Constructor call ....\n",
      "student Name Rahul\n",
      "destructor object delete \n",
      "Program finish\n",
      "Constructor call ....\n",
      "student Name Joy\n"
     ]
    }
   ],
   "source": [
    "# object create \n",
    "s1 = Student(\"Rahul\")\n",
    "s1.show()\n",
    "\n",
    "# object delete manually \n",
    "del s1\n",
    "\n",
    "print(\"Program finish\")\n",
    "\n",
    "s2 = Student(\"Joy\")\n",
    "s2.show()"
   ]
  },
  {
   "cell_type": "code",
   "execution_count": 24,
   "id": "09abe64f",
   "metadata": {},
   "outputs": [],
   "source": [
    "# advance example - \n",
    "class Students:\n",
    "    def __init__(self,name,roll_no,course):\n",
    "        print(\"Constructor Called - student object created ....\")\n",
    "        self.name = name\n",
    "        self.roll_no = roll_no\n",
    "        self.course = course\n",
    "        self.marks = {}\n",
    "        \n",
    "    def add_marks(self,subject,marks):\n",
    "        self.marks[subject] = marks\n",
    "        print(f\"Marks added : {subject} = {marks}\")\n",
    "    \n",
    "    def calculate_result(self):\n",
    "        total = sum(self.marks.values())\n",
    "        avg = total/len(self.marks) if self.marks else 0\n",
    "        return total , avg \n",
    "    \n",
    "    def display(self):\n",
    "        print('\\nStudent details\\n')\n",
    "        print(f'Name = {self.name}')\n",
    "        print(f'Roll Number = {self.roll_no}')\n",
    "        print(f'Course = {self.course}')\n",
    "        print(\"Marks\")\n",
    "        for subject , marks in self.marks.items():\n",
    "            print(f\"{subject} : {marks}\")\n",
    "        total , avg = self.calculate_result()\n",
    "        print(f\"total Marks : {total}\")   \n",
    "        print(f'Average = {avg:2f}') \n",
    "        \n",
    "    def __del__(self):\n",
    "        print(f\"\\n Student Object Delete : {self.name}\") \n",
    "           \n",
    "        "
   ]
  },
  {
   "cell_type": "code",
   "execution_count": null,
   "id": "f137bfb1",
   "metadata": {},
   "outputs": [
    {
     "name": "stdout",
     "output_type": "stream",
     "text": [
      "Constructor Called - student object created ....\n",
      "Constructor Called - student object created ....\n",
      "Marks added : Science = 90\n",
      "Marks added : maths = 30\n",
      "Marks added : Java = 30\n",
      "Marks added : Python = 70\n",
      "Marks added : Science = 30\n",
      "Marks added : maths = 35\n",
      "Marks added : Java = 37\n",
      "Marks added : Python = 79\n",
      "\n",
      "Student details\n",
      "\n",
      "Name = Joy\n",
      "Roll Number = A009\n",
      "Course = Data Science\n",
      "Marks\n",
      "Science : 90\n",
      "maths : 30\n",
      "Java : 30\n",
      "Python : 70\n",
      "total Marks : 220\n",
      "Average = 55.000000\n",
      "\n",
      "Student details\n",
      "\n",
      "Name = Rahul\n",
      "Roll Number = A010\n",
      "Course = Java Science\n",
      "Marks\n",
      "Science : 30\n",
      "maths : 35\n",
      "Java : 37\n",
      "Python : 79\n",
      "total Marks : 181\n",
      "Average = 45.250000\n",
      "\n",
      " Student Object Delete : Joy\n",
      "\n",
      " Student Object Delete : Rahul\n"
     ]
    }
   ],
   "source": [
    "# name = input(\"Enter name \")\n",
    "ss1 = Students(\"joy\",\"A009\",\"Data Science\")\n",
    "ss2 = Students(\"Rahul\",\"A010\",\"Java Science\")\n",
    "ss1.add_marks(\"Science\",90)\n",
    "ss1.add_marks(\"maths\",30)\n",
    "ss1.add_marks(\"Java\",30)\n",
    "ss1.add_marks(\"Python\",70)\n",
    "\n",
    "ss2.add_marks(\"Science\",30)\n",
    "ss2.add_marks(\"maths\",35)\n",
    "ss2.add_marks(\"Java\",37)\n",
    "ss2.add_marks(\"Python\",79)\n",
    "\n",
    "ss1.display()\n",
    "ss2.display()\n",
    "\n",
    "del ss1\n",
    "del ss2"
   ]
  }
 ],
 "metadata": {
  "kernelspec": {
   "display_name": "Python 3",
   "language": "python",
   "name": "python3"
  },
  "language_info": {
   "codemirror_mode": {
    "name": "ipython",
    "version": 3
   },
   "file_extension": ".py",
   "mimetype": "text/x-python",
   "name": "python",
   "nbconvert_exporter": "python",
   "pygments_lexer": "ipython3",
   "version": "3.13.7"
  }
 },
 "nbformat": 4,
 "nbformat_minor": 5
}
