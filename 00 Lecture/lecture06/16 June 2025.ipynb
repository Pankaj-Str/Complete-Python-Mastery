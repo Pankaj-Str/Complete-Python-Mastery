{
 "cells": [
  {
   "cell_type": "code",
   "execution_count": 1,
   "id": "68454524",
   "metadata": {},
   "outputs": [
    {
     "name": "stdout",
     "output_type": "stream",
     "text": [
      "Requirement already satisfied: numpy in c:\\users\\programming\\appdata\\local\\programs\\python\\python313\\lib\\site-packages (2.2.4)\n",
      "Note: you may need to restart the kernel to use updated packages.\n"
     ]
    },
    {
     "name": "stderr",
     "output_type": "stream",
     "text": [
      "\n",
      "[notice] A new release of pip is available: 25.0.1 -> 25.1.1\n",
      "[notice] To update, run: python.exe -m pip install --upgrade pip\n"
     ]
    }
   ],
   "source": [
    "# install numpy\n",
    "\n",
    "%pip install numpy"
   ]
  },
  {
   "cell_type": "code",
   "execution_count": 2,
   "id": "ce515f4d",
   "metadata": {},
   "outputs": [
    {
     "name": "stdout",
     "output_type": "stream",
     "text": [
      "2.2.4\n"
     ]
    }
   ],
   "source": [
    "import numpy as np\n",
    "\n",
    "print(np.__version__)"
   ]
  },
  {
   "cell_type": "code",
   "execution_count": 3,
   "id": "38e0323d",
   "metadata": {},
   "outputs": [
    {
     "name": "stdout",
     "output_type": "stream",
     "text": [
      "[23 34 56 78 90]\n"
     ]
    }
   ],
   "source": [
    "# single array \n",
    "data = np.array([23,34,56,78,90])\n",
    "print(data)"
   ]
  },
  {
   "cell_type": "code",
   "execution_count": 4,
   "id": "0fee80e3",
   "metadata": {},
   "outputs": [
    {
     "name": "stdout",
     "output_type": "stream",
     "text": [
      "<class 'numpy.ndarray'>\n"
     ]
    }
   ],
   "source": [
    "# check type \n",
    "print(type(data))"
   ]
  },
  {
   "cell_type": "code",
   "execution_count": 9,
   "id": "c81fa0d6",
   "metadata": {},
   "outputs": [
    {
     "name": "stdout",
     "output_type": "stream",
     "text": [
      "[[12 23 24 25]\n",
      " [12 13 14 15]]\n"
     ]
    }
   ],
   "source": [
    "# 2d array\n",
    "data = np.array([[12,23,24,25],[12,13,14,15]])\n",
    "print(data)"
   ]
  },
  {
   "cell_type": "code",
   "execution_count": 12,
   "id": "f0ed96ff",
   "metadata": {},
   "outputs": [
    {
     "name": "stdout",
     "output_type": "stream",
     "text": [
      "14\n",
      "25\n"
     ]
    }
   ],
   "source": [
    "print(data[1][2])\n",
    "print(data[0][3])"
   ]
  },
  {
   "cell_type": "code",
   "execution_count": 27,
   "id": "679e2e16",
   "metadata": {},
   "outputs": [
    {
     "name": "stdout",
     "output_type": "stream",
     "text": [
      "[[12 23 24 25]\n",
      " [11 13 14 15]\n",
      " [10 30 55 77]\n",
      " [99 89 80 68]]\n"
     ]
    }
   ],
   "source": [
    "data = np.array([[12,23,24,25],[11,13,14,15],[10,30,55,77],[99,89,80,68]])\n",
    "print(data)"
   ]
  },
  {
   "cell_type": "code",
   "execution_count": 28,
   "id": "1a2ab632",
   "metadata": {},
   "outputs": [
    {
     "name": "stdout",
     "output_type": "stream",
     "text": [
      "55\n"
     ]
    }
   ],
   "source": [
    "print(data[2,2])"
   ]
  },
  {
   "cell_type": "code",
   "execution_count": 29,
   "id": "c5a82c7e",
   "metadata": {},
   "outputs": [
    {
     "name": "stdout",
     "output_type": "stream",
     "text": [
      "Dimension: 2\n"
     ]
    }
   ],
   "source": [
    "print(\"Dimension:\", data.ndim)"
   ]
  },
  {
   "cell_type": "code",
   "execution_count": 24,
   "id": "97eff1fe",
   "metadata": {},
   "outputs": [
    {
     "name": "stdout",
     "output_type": "stream",
     "text": [
      "[[[12 23 24 25]\n",
      "  [12 13 14 15]]\n",
      "\n",
      " [[12 23 24 25]\n",
      "  [12 13 14 15]]\n",
      "\n",
      " [[12 23 24 25]\n",
      "  [12 13 14 15]]\n",
      "\n",
      " [[12 23 24 25]\n",
      "  [12 13 14 15]]]\n"
     ]
    }
   ],
   "source": [
    "# 3d array\n",
    "data = np.array([[[12,23,24,25],[12,13,14,15]],[[12,23,24,25],[12,13,14,15]],[[12,23,24,25],[12,13,14,15]],[[12,23,24,25],[12,13,14,15]]])\n",
    "print(data)"
   ]
  },
  {
   "cell_type": "code",
   "execution_count": 25,
   "id": "8d67badd",
   "metadata": {},
   "outputs": [
    {
     "name": "stdout",
     "output_type": "stream",
     "text": [
      "Dimension: 3\n"
     ]
    }
   ],
   "source": [
    "print(\"Dimension:\", data.ndim)"
   ]
  },
  {
   "cell_type": "code",
   "execution_count": null,
   "id": "6b116b1a",
   "metadata": {},
   "outputs": [
    {
     "name": "stdout",
     "output_type": "stream",
     "text": [
      "Zeros Array:\n",
      " [[0. 0. 0.]\n",
      " [0. 0. 0.]\n",
      " [0. 0. 0.]]\n"
     ]
    }
   ],
   "source": [
    "# Array of zeros\n",
    "zeros = np.zeros((3, 3))  # 3 rows, 3 columns\n",
    "print(\"Zeros Array:\\n\", zeros)"
   ]
  },
  {
   "cell_type": "code",
   "execution_count": 19,
   "id": "3524b261",
   "metadata": {},
   "outputs": [
    {
     "name": "stdout",
     "output_type": "stream",
     "text": [
      "Ones Array:\n",
      " [[1. 1.]\n",
      " [1. 1.]\n",
      " [1. 1.]]\n"
     ]
    }
   ],
   "source": [
    "# Array of ones\n",
    "ones = np.ones((3, 2))  # 3 rows, 2 columns\n",
    "print(\"Ones Array:\\n\", ones)"
   ]
  },
  {
   "cell_type": "code",
   "execution_count": 20,
   "id": "6046e264",
   "metadata": {},
   "outputs": [
    {
     "name": "stdout",
     "output_type": "stream",
     "text": [
      "Range Array: [0 2 4 6 8]\n"
     ]
    }
   ],
   "source": [
    "# Array with a range of numbers\n",
    "range_array = np.arange(0, 10, 2)  # Start at 0, end before 10, step by 2\n",
    "print(\"Range Array:\", range_array)"
   ]
  },
  {
   "cell_type": "code",
   "execution_count": 21,
   "id": "d99254df",
   "metadata": {},
   "outputs": [
    {
     "name": "stdout",
     "output_type": "stream",
     "text": [
      "Linspace Array: [0.   0.25 0.5  0.75 1.  ]\n"
     ]
    }
   ],
   "source": [
    "# Array with evenly spaced numbers\n",
    "linspace_array = np.linspace(0, 1, 5)  # 5 numbers from 0 to 1\n",
    "print(\"Linspace Array:\", linspace_array)"
   ]
  },
  {
   "cell_type": "code",
   "execution_count": 22,
   "id": "eafd8078",
   "metadata": {},
   "outputs": [
    {
     "name": "stdout",
     "output_type": "stream",
     "text": [
      "Array:\n",
      " [[1 2 3]\n",
      " [4 5 6]]\n",
      "Shape: (2, 3)\n",
      "Size: 6\n",
      "Data type: int64\n",
      "Dimension: 2\n"
     ]
    }
   ],
   "source": [
    "array = np.array([[1, 2, 3], [4, 5, 6]])\n",
    "print(\"Array:\\n\", array)\n",
    "print(\"Shape:\", array.shape)  # Number of rows and columns\n",
    "print(\"Size:\", array.size)    # Total number of elements\n",
    "print(\"Data type:\", array.dtype)  # Type of elements\n",
    "print(\"Dimension:\", array.ndim)   # Number of dimensions"
   ]
  }
 ],
 "metadata": {
  "kernelspec": {
   "display_name": "Python 3",
   "language": "python",
   "name": "python3"
  },
  "language_info": {
   "codemirror_mode": {
    "name": "ipython",
    "version": 3
   },
   "file_extension": ".py",
   "mimetype": "text/x-python",
   "name": "python",
   "nbconvert_exporter": "python",
   "pygments_lexer": "ipython3",
   "version": "3.13.3"
  }
 },
 "nbformat": 4,
 "nbformat_minor": 5
}
