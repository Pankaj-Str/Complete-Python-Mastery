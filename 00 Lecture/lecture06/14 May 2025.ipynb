{
 "cells": [
  {
   "cell_type": "code",
   "execution_count": 3,
   "id": "ea822b94",
   "metadata": {},
   "outputs": [
    {
     "name": "stdout",
     "output_type": "stream",
     "text": [
      "Number 1 is not smallest ....\n"
     ]
    }
   ],
   "source": [
    "number1 = 5000\n",
    "number2 = 900\n",
    "\n",
    "# find the smallest number \n",
    "\n",
    "if number1 < number2:\n",
    "    print(\"Number 1 is Smallest ...\")\n",
    "else:\n",
    "    print(\"Number 1 is not smallest ....\")    \n"
   ]
  },
  {
   "cell_type": "code",
   "execution_count": 7,
   "id": "7ac7fdce",
   "metadata": {},
   "outputs": [
    {
     "name": "stdout",
     "output_type": "stream",
     "text": [
      "5 is smallest \n"
     ]
    }
   ],
   "source": [
    "n1 = 200\n",
    "n2 = 40\n",
    "n3 = 5\n",
    "\n",
    "if n1 < n2 and n1 < n3:\n",
    "    print(n1,\"is smallest \")\n",
    "elif n2 < n1 and n2 < n3:\n",
    "    print(n2,\"is smallest \")  \n",
    "else:\n",
    "    print(n3,\"is smallest \")    \n"
   ]
  }
 ],
 "metadata": {
  "kernelspec": {
   "display_name": "Python 3",
   "language": "python",
   "name": "python3"
  },
  "language_info": {
   "codemirror_mode": {
    "name": "ipython",
    "version": 3
   },
   "file_extension": ".py",
   "mimetype": "text/x-python",
   "name": "python",
   "nbconvert_exporter": "python",
   "pygments_lexer": "ipython3",
   "version": "3.13.3"
  }
 },
 "nbformat": 4,
 "nbformat_minor": 5
}
