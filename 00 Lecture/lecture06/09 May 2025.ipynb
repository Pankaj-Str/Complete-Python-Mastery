{
 "cells": [
  {
   "cell_type": "code",
   "execution_count": 10,
   "id": "fe75a75a",
   "metadata": {},
   "outputs": [
    {
     "name": "stdout",
     "output_type": "stream",
     "text": [
      "<class 'int'>\n",
      "<class 'float'>\n",
      "<class 'str'>\n",
      "<class 'tuple'>\n",
      "<class 'int'>\n",
      "<class 'tuple'>\n",
      "<class 'tuple'>\n",
      "<class 'list'>\n",
      "<class 'set'>\n",
      "<class 'dict'>\n"
     ]
    }
   ],
   "source": [
    "# data type \n",
    "\n",
    "# type()\n",
    "\n",
    "data = 34\n",
    "print(type(data))\n",
    "\n",
    "data = 4.5\n",
    "print(type(data))\n",
    "\n",
    "data = \"hello\"\n",
    "print(type(data))\n",
    "\n",
    "data = 34,56,77\n",
    "print(type(data))\n",
    "\n",
    "data = (45)\n",
    "print(type(data))\n",
    "\n",
    "data = (45,)\n",
    "print(type(data))\n",
    "\n",
    "data = (45,78,80)\n",
    "print(type(data))\n",
    "\n",
    "\n",
    "data = [45,66,44]\n",
    "print(type(data))\n",
    "\n",
    "data = {45,66,44}\n",
    "print(type(data))\n",
    "\n",
    "\n",
    "data = {\"name\":\"joy\"}\n",
    "print(type(data))"
   ]
  },
  {
   "cell_type": "code",
   "execution_count": 11,
   "id": "acdeae18",
   "metadata": {},
   "outputs": [
    {
     "name": "stdout",
     "output_type": "stream",
     "text": [
      "Your Name is  Joy\n",
      "your age is  23\n",
      "your height is  4.5\n"
     ]
    }
   ],
   "source": [
    "# user input \n",
    "# input()\n",
    "name = input('Enter Your Name - ')\n",
    "age = input(\"Enter Your Age - \")\n",
    "height = input(\"Enter Your height - \")\n",
    "\n",
    "print(\"Your Name is \",name)\n",
    "print(\"your age is \",age)\n",
    "print(\"your height is \",height)"
   ]
  },
  {
   "cell_type": "code",
   "execution_count": null,
   "id": "92d6476d",
   "metadata": {},
   "outputs": [],
   "source": [
    "#int()\n",
    "#float()\n",
    "#str()"
   ]
  },
  {
   "cell_type": "code",
   "execution_count": 13,
   "id": "484e6dd8",
   "metadata": {},
   "outputs": [
    {
     "name": "stdout",
     "output_type": "stream",
     "text": [
      "this is result :  90\n"
     ]
    }
   ],
   "source": [
    "number1 = int(input(\"Enter number 1\"))\n",
    "number2 = int(input(\"Enter number 2\"))\n",
    "\n",
    "result = number1 + number2\n",
    "\n",
    "print(\"this is result : \",result)"
   ]
  },
  {
   "cell_type": "code",
   "execution_count": null,
   "id": "e2773425",
   "metadata": {},
   "outputs": [],
   "source": [
    "\n",
    "# -- input Section \n",
    "# 1. Enter Student Name : Ravi\n",
    "# 2. Enter Roll Number : RAVI009912\n",
    "# 3. Enter Class : MCA\n",
    "# 4. Enter JAVA Marks : 56\n",
    "# 5. Enter C++ Marks : 89\n",
    "# 6. Enter Python Marks : 12\n",
    "# 7. Enter Ruby Marks : 56\n",
    "# 8. Enter SQL Marks : 78\n",
    "\n",
    "# -- Output Section\n",
    "# Student Name : Ravi\n",
    "# Roll Number : RAVI009912\n",
    "# Class : MCA\n",
    "# Enter JAVA Marks : 56/100\n",
    "# C++ Marks : 89/100\n",
    "# Python Marks : 12/100\n",
    "# Ruby Marks : 56/100\n",
    "# SQL Marks : 78/100\n",
    "#    total = ?\n",
    "#    Per % = ?%"
   ]
  }
 ],
 "metadata": {
  "kernelspec": {
   "display_name": "Python 3",
   "language": "python",
   "name": "python3"
  },
  "language_info": {
   "codemirror_mode": {
    "name": "ipython",
    "version": 3
   },
   "file_extension": ".py",
   "mimetype": "text/x-python",
   "name": "python",
   "nbconvert_exporter": "python",
   "pygments_lexer": "ipython3",
   "version": "3.13.3"
  }
 },
 "nbformat": 4,
 "nbformat_minor": 5
}
