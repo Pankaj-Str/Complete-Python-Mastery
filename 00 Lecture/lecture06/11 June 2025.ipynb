{
 "cells": [
  {
   "cell_type": "code",
   "execution_count": 1,
   "id": "874288c8",
   "metadata": {},
   "outputs": [],
   "source": [
    "# pandas in Python "
   ]
  },
  {
   "cell_type": "code",
   "execution_count": 2,
   "id": "c5e5fc80",
   "metadata": {},
   "outputs": [
    {
     "name": "stdout",
     "output_type": "stream",
     "text": [
      "Requirement already satisfied: pandas in c:\\users\\programming\\appdata\\local\\programs\\python\\python313\\lib\\site-packages (2.2.3)\n",
      "Requirement already satisfied: numpy>=1.26.0 in c:\\users\\programming\\appdata\\local\\programs\\python\\python313\\lib\\site-packages (from pandas) (2.2.4)\n",
      "Requirement already satisfied: python-dateutil>=2.8.2 in c:\\users\\programming\\appdata\\roaming\\python\\python313\\site-packages (from pandas) (2.9.0.post0)\n",
      "Requirement already satisfied: pytz>=2020.1 in c:\\users\\programming\\appdata\\local\\programs\\python\\python313\\lib\\site-packages (from pandas) (2025.2)\n",
      "Requirement already satisfied: tzdata>=2022.7 in c:\\users\\programming\\appdata\\local\\programs\\python\\python313\\lib\\site-packages (from pandas) (2025.1)\n",
      "Requirement already satisfied: six>=1.5 in c:\\users\\programming\\appdata\\roaming\\python\\python313\\site-packages (from python-dateutil>=2.8.2->pandas) (1.17.0)\n",
      "Note: you may need to restart the kernel to use updated packages.\n"
     ]
    },
    {
     "name": "stderr",
     "output_type": "stream",
     "text": [
      "\n",
      "[notice] A new release of pip is available: 25.0.1 -> 25.1.1\n",
      "[notice] To update, run: python.exe -m pip install --upgrade pip\n"
     ]
    }
   ],
   "source": [
    "# install pandas \n",
    "%pip install pandas"
   ]
  },
  {
   "cell_type": "code",
   "execution_count": 3,
   "id": "bf0865cb",
   "metadata": {},
   "outputs": [
    {
     "name": "stdout",
     "output_type": "stream",
     "text": [
      "2.2.3\n"
     ]
    }
   ],
   "source": [
    "import pandas as pd\n",
    "print(pd.__version__)"
   ]
  },
  {
   "cell_type": "code",
   "execution_count": 4,
   "id": "b3432e26",
   "metadata": {},
   "outputs": [
    {
     "name": "stdout",
     "output_type": "stream",
     "text": [
      "0    10\n",
      "1    20\n",
      "2    30\n",
      "3    40\n",
      "4    50\n",
      "5    60\n",
      "dtype: int64\n"
     ]
    }
   ],
   "source": [
    "# create a series \n",
    "\n",
    "data = [10,20,30,40,50,60]\n",
    "\n",
    "series = pd.Series(data)\n",
    "print(series)\n"
   ]
  },
  {
   "cell_type": "code",
   "execution_count": 5,
   "id": "0da48387",
   "metadata": {},
   "outputs": [
    {
     "name": "stdout",
     "output_type": "stream",
     "text": [
      "a    10\n",
      "b    20\n",
      "c    30\n",
      "d    40\n",
      "e    50\n",
      "f    60\n",
      "dtype: int64\n"
     ]
    }
   ],
   "source": [
    "my_index = ['a','b','c','d','e','f']\n",
    "\n",
    "s = pd.Series(data,index=my_index)\n",
    "print(s)"
   ]
  },
  {
   "cell_type": "code",
   "execution_count": 6,
   "id": "c7436693",
   "metadata": {},
   "outputs": [
    {
     "name": "stdout",
     "output_type": "stream",
     "text": [
      "       name  age    city\n",
      "0     rahul   25  mumbai\n",
      "1     niraj   23    pune\n",
      "2   nidhini   26     goa\n",
      "3  tanveesh   30    bhuj\n"
     ]
    }
   ],
   "source": [
    "# create a dataframe\n",
    "\n",
    "my_data = {\n",
    "    'name':['rahul','niraj','nidhini','tanveesh'],\n",
    "    'age':[25,23,26,30],\n",
    "    'city':['mumbai','pune','goa','bhuj']\n",
    "}\n",
    "\n",
    "df = pd.DataFrame(my_data)\n",
    "print(df)"
   ]
  },
  {
   "cell_type": "code",
   "execution_count": 7,
   "id": "6f4f6be5",
   "metadata": {},
   "outputs": [
    {
     "name": "stdout",
     "output_type": "stream",
     "text": [
      "                Name     Salary          City  Age   Department Date of Join  \\\n",
      "0       Emily Harris   85432.45      New York   35    Marketing   14-03-2017   \n",
      "1       Jacob Wright   60523.12       Houston   29  Engineering   10-06-2019   \n",
      "2     Olivia Johnson   72345.00       Chicago   42           HR   23-09-2015   \n",
      "3     Ethan Thompson   38900.78       Phoenix   26      Support   05-02-2021   \n",
      "4       Ava Martinez  112300.00   Los Angeles   38      Finance   17-07-2013   \n",
      "5   William Anderson   51200.65  Philadelphia   31        Sales   30-12-2020   \n",
      "6       Sophia Clark   78000.30       Houston   45    Marketing   12-08-2016   \n",
      "7        James Lewis   44789.99       Chicago   28      Support   09-01-2022   \n",
      "8    Isabella Walker   91000.55      New York   37  Engineering   03-04-2018   \n",
      "9   Michael Robinson   69500.00       Phoenix   33           HR   15-11-2014   \n",
      "10   Charlotte Adams   76500.20       Chicago   34        Sales   24-05-2016   \n",
      "11   Benjamin Turner   83220.45       Houston   40  Engineering   02-11-2017   \n",
      "12   Amelia Mitchell   49000.99      New York   27           HR   18-03-2020   \n",
      "13       Lucas Perez  103200.75       Phoenix   44      Finance   01-12-2015   \n",
      "14        Mia Carter   58840.10  Philadelphia   30      Support   27-07-2021   \n",
      "15     Henry Ramirez   69000.50   Los Angeles   36    Marketing   06-10-2014   \n",
      "16     Harper Brooks   61000.00      New York   32  Engineering   10-09-2018   \n",
      "17     Daniel Murphy   74020.60       Chicago   41           HR   25-04-2013   \n",
      "18       Evelyn Bell   85800.75       Houston   39        Sales   19-08-2016   \n",
      "19    Matthew Cooper   44200.00       Phoenix   26      Support   14-06-2022   \n",
      "20      Abigail Reed   97500.95  Philadelphia   35      Finance   07-03-2015   \n",
      "21    Jackson Bailey   55200.89   Los Angeles   29    Marketing   30-12-2020   \n",
      "22    Scarlett Kelly   61800.30       Chicago   33        Sales   11-01-2019   \n",
      "23      Aiden Rivera   80500.22       Houston   38  Engineering   28-02-2017   \n",
      "24        Ella James   47000.40      New York   28           HR   05-10-2021   \n",
      "25      David Morgan  109000.00       Phoenix   45      Finance   22-08-2012   \n",
      "26        Grace Diaz   58300.75  Philadelphia   31      Support   13-04-2023   \n",
      "27       Joseph Hall   69500.33   Los Angeles   37    Marketing   19-01-2016   \n",
      "28        Chloe Ward   71200.66       Chicago   34        Sales   20-07-2018   \n",
      "29     Samuel Torres   82000.40       Houston   42  Engineering   17-06-2014   \n",
      "\n",
      "   Employee Code  \n",
      "0        EMP1000  \n",
      "1        EMP1001  \n",
      "2        EMP1002  \n",
      "3        EMP1003  \n",
      "4        EMP1004  \n",
      "5        EMP1005  \n",
      "6        EMP1006  \n",
      "7        EMP1007  \n",
      "8        EMP1008  \n",
      "9        EMP1009  \n",
      "10       EMP1100  \n",
      "11       EMP1101  \n",
      "12       EMP1102  \n",
      "13       EMP1103  \n",
      "14       EMP1104  \n",
      "15       EMP1105  \n",
      "16       EMP1106  \n",
      "17       EMP1107  \n",
      "18       EMP1108  \n",
      "19       EMP1109  \n",
      "20       EMP1110  \n",
      "21       EMP1111  \n",
      "22       EMP1112  \n",
      "23       EMP1113  \n",
      "24       EMP1114  \n",
      "25       EMP1115  \n",
      "26       EMP1116  \n",
      "27       EMP1117  \n",
      "28       EMP1118  \n",
      "29       EMP1119  \n"
     ]
    }
   ],
   "source": [
    "df = pd.read_csv('dataset/employee.csv')\n",
    "print(df)"
   ]
  },
  {
   "cell_type": "code",
   "execution_count": 8,
   "id": "bed0c958",
   "metadata": {},
   "outputs": [
    {
     "name": "stdout",
     "output_type": "stream",
     "text": [
      "           Name    Salary      City  Age   Department Date of Join  \\\n",
      "0  Emily Harris  85432.45  New York   35    Marketing   14-03-2017   \n",
      "1  Jacob Wright  60523.12   Houston   29  Engineering   10-06-2019   \n",
      "\n",
      "  Employee Code  \n",
      "0       EMP1000  \n",
      "1       EMP1001  \n"
     ]
    }
   ],
   "source": [
    "# display first 2\n",
    "print(df.head(2))"
   ]
  },
  {
   "cell_type": "code",
   "execution_count": 9,
   "id": "185a937b",
   "metadata": {},
   "outputs": [
    {
     "name": "stdout",
     "output_type": "stream",
     "text": [
      "<class 'pandas.core.frame.DataFrame'>\n",
      "RangeIndex: 30 entries, 0 to 29\n",
      "Data columns (total 7 columns):\n",
      " #   Column         Non-Null Count  Dtype  \n",
      "---  ------         --------------  -----  \n",
      " 0   Name           30 non-null     object \n",
      " 1   Salary         30 non-null     float64\n",
      " 2   City           30 non-null     object \n",
      " 3   Age            30 non-null     int64  \n",
      " 4   Department     30 non-null     object \n",
      " 5   Date of Join   30 non-null     object \n",
      " 6   Employee Code  30 non-null     object \n",
      "dtypes: float64(1), int64(1), object(5)\n",
      "memory usage: 1.8+ KB\n",
      "None\n"
     ]
    }
   ],
   "source": [
    "# get basic info \n",
    "print(df.info())"
   ]
  },
  {
   "cell_type": "code",
   "execution_count": 10,
   "id": "f34a9a3f",
   "metadata": {},
   "outputs": [
    {
     "name": "stdout",
     "output_type": "stream",
     "text": [
      "              Salary        Age\n",
      "count      30.000000  30.000000\n",
      "mean    71359.402667  34.833333\n",
      "std     19398.163795   5.736053\n",
      "min     38900.780000  26.000000\n",
      "25%     58435.587500  30.250000\n",
      "50%     70350.495000  34.500000\n",
      "75%     82915.437500  38.750000\n",
      "max    112300.000000  45.000000\n"
     ]
    }
   ],
   "source": [
    "# get summary statistics \n",
    "print(df.describe())"
   ]
  },
  {
   "cell_type": "code",
   "execution_count": 11,
   "id": "53ffaefe",
   "metadata": {},
   "outputs": [
    {
     "name": "stdout",
     "output_type": "stream",
     "text": [
      "Index(['Name', 'Salary', 'City', 'Age', 'Department', 'Date of Join',\n",
      "       'Employee Code'],\n",
      "      dtype='object')\n"
     ]
    }
   ],
   "source": [
    "# get all column \n",
    "print(df.columns)"
   ]
  },
  {
   "cell_type": "code",
   "execution_count": 12,
   "id": "396f6ef2",
   "metadata": {},
   "outputs": [
    {
     "name": "stdout",
     "output_type": "stream",
     "text": [
      "0         Emily Harris\n",
      "1         Jacob Wright\n",
      "2       Olivia Johnson\n",
      "3       Ethan Thompson\n",
      "4         Ava Martinez\n",
      "5     William Anderson\n",
      "6         Sophia Clark\n",
      "7          James Lewis\n",
      "8      Isabella Walker\n",
      "9     Michael Robinson\n",
      "10     Charlotte Adams\n",
      "11     Benjamin Turner\n",
      "12     Amelia Mitchell\n",
      "13         Lucas Perez\n",
      "14          Mia Carter\n",
      "15       Henry Ramirez\n",
      "16       Harper Brooks\n",
      "17       Daniel Murphy\n",
      "18         Evelyn Bell\n",
      "19      Matthew Cooper\n",
      "20        Abigail Reed\n",
      "21      Jackson Bailey\n",
      "22      Scarlett Kelly\n",
      "23        Aiden Rivera\n",
      "24          Ella James\n",
      "25        David Morgan\n",
      "26          Grace Diaz\n",
      "27         Joseph Hall\n",
      "28          Chloe Ward\n",
      "29       Samuel Torres\n",
      "Name: Name, dtype: object\n"
     ]
    }
   ],
   "source": [
    "# get single column\n",
    "print(df['Name'])"
   ]
  },
  {
   "cell_type": "code",
   "execution_count": 13,
   "id": "4290c799",
   "metadata": {},
   "outputs": [
    {
     "name": "stdout",
     "output_type": "stream",
     "text": [
      "                Name     Salary\n",
      "0       Emily Harris   85432.45\n",
      "1       Jacob Wright   60523.12\n",
      "2     Olivia Johnson   72345.00\n",
      "3     Ethan Thompson   38900.78\n",
      "4       Ava Martinez  112300.00\n",
      "5   William Anderson   51200.65\n",
      "6       Sophia Clark   78000.30\n",
      "7        James Lewis   44789.99\n",
      "8    Isabella Walker   91000.55\n",
      "9   Michael Robinson   69500.00\n",
      "10   Charlotte Adams   76500.20\n",
      "11   Benjamin Turner   83220.45\n",
      "12   Amelia Mitchell   49000.99\n",
      "13       Lucas Perez  103200.75\n",
      "14        Mia Carter   58840.10\n",
      "15     Henry Ramirez   69000.50\n",
      "16     Harper Brooks   61000.00\n",
      "17     Daniel Murphy   74020.60\n",
      "18       Evelyn Bell   85800.75\n",
      "19    Matthew Cooper   44200.00\n",
      "20      Abigail Reed   97500.95\n",
      "21    Jackson Bailey   55200.89\n",
      "22    Scarlett Kelly   61800.30\n",
      "23      Aiden Rivera   80500.22\n",
      "24        Ella James   47000.40\n",
      "25      David Morgan  109000.00\n",
      "26        Grace Diaz   58300.75\n",
      "27       Joseph Hall   69500.33\n",
      "28        Chloe Ward   71200.66\n",
      "29     Samuel Torres   82000.40\n"
     ]
    }
   ],
   "source": [
    "# get more column \n",
    "print(df[['Name','Salary']])"
   ]
  },
  {
   "cell_type": "code",
   "execution_count": 14,
   "id": "14740b19",
   "metadata": {},
   "outputs": [
    {
     "name": "stdout",
     "output_type": "stream",
     "text": [
      "              Name     Salary     City  Age   Department Date of Join  \\\n",
      "2   Olivia Johnson   72345.00  Chicago   42           HR   23-09-2015   \n",
      "6     Sophia Clark   78000.30  Houston   45    Marketing   12-08-2016   \n",
      "13     Lucas Perez  103200.75  Phoenix   44      Finance   01-12-2015   \n",
      "17   Daniel Murphy   74020.60  Chicago   41           HR   25-04-2013   \n",
      "25    David Morgan  109000.00  Phoenix   45      Finance   22-08-2012   \n",
      "29   Samuel Torres   82000.40  Houston   42  Engineering   17-06-2014   \n",
      "\n",
      "   Employee Code  \n",
      "2        EMP1002  \n",
      "6        EMP1006  \n",
      "13       EMP1103  \n",
      "17       EMP1107  \n",
      "25       EMP1115  \n",
      "29       EMP1119  \n"
     ]
    }
   ],
   "source": [
    "# filter \n",
    "print(df[df['Age'] > 40])"
   ]
  },
  {
   "cell_type": "code",
   "execution_count": 19,
   "id": "b1cd5f1a",
   "metadata": {},
   "outputs": [
    {
     "name": "stdout",
     "output_type": "stream",
     "text": [
      "       name  age    city\n",
      "0     rahul   25  mumbai\n",
      "1     niraj   23    pune\n",
      "2   nidhini   26     goa\n",
      "3  tanveesh   30    bhuj\n",
      "       name  age    city  Salary\n",
      "0     rahul   25  mumbai   50000\n",
      "1     niraj   23    pune   60000\n",
      "2   nidhini   26     goa   75000\n",
      "3  tanveesh   30    bhuj    5000\n"
     ]
    }
   ],
   "source": [
    "# Modifying Data\n",
    "my_data = {\n",
    "    'name':['rahul','niraj','nidhini','tanveesh'],\n",
    "    'age':[25,23,26,30],\n",
    "    'city':['mumbai','pune','goa','bhuj']\n",
    "}\n",
    "\n",
    "df = pd.DataFrame(my_data)\n",
    "print(df)\n",
    "\n",
    "df['Salary'] = [50000,60000,75000,5000]\n",
    "print(df)"
   ]
  },
  {
   "cell_type": "code",
   "execution_count": 20,
   "id": "afc3bc15",
   "metadata": {},
   "outputs": [
    {
     "name": "stdout",
     "output_type": "stream",
     "text": [
      "       name  age    city  Salary\n",
      "0     rahul   27  mumbai   50000\n",
      "1     niraj   25    pune   60000\n",
      "2   nidhini   28     goa   75000\n",
      "3  tanveesh   32    bhuj    5000\n"
     ]
    }
   ],
   "source": [
    "# update value\n",
    "df['age'] =df['age']+2\n",
    "print(df)"
   ]
  },
  {
   "cell_type": "code",
   "execution_count": 21,
   "id": "d850626e",
   "metadata": {},
   "outputs": [
    {
     "name": "stdout",
     "output_type": "stream",
     "text": [
      "       name  age    city\n",
      "0     rahul   27  mumbai\n",
      "1     niraj   25    pune\n",
      "2   nidhini   28     goa\n",
      "3  tanveesh   32    bhuj\n"
     ]
    }
   ],
   "source": [
    "# drop the column \n",
    "df = df.drop('Salary',axis=1)\n",
    "print(df)"
   ]
  },
  {
   "cell_type": "code",
   "execution_count": 22,
   "id": "6fce9119",
   "metadata": {},
   "outputs": [
    {
     "name": "stdout",
     "output_type": "stream",
     "text": [
      "city\n",
      "bhuj      32.0\n",
      "goa       28.0\n",
      "mumbai    27.0\n",
      "pune      25.0\n",
      "Name: age, dtype: float64\n"
     ]
    }
   ],
   "source": [
    "# group by city and calculate mean Age\n",
    "print(df.groupby('city')['age'].mean())"
   ]
  },
  {
   "cell_type": "code",
   "execution_count": 23,
   "id": "5aa1c768",
   "metadata": {},
   "outputs": [],
   "source": [
    "df.to_csv(\"data.csv\",index=False)"
   ]
  }
 ],
 "metadata": {
  "kernelspec": {
   "display_name": "Python 3",
   "language": "python",
   "name": "python3"
  },
  "language_info": {
   "codemirror_mode": {
    "name": "ipython",
    "version": 3
   },
   "file_extension": ".py",
   "mimetype": "text/x-python",
   "name": "python",
   "nbconvert_exporter": "python",
   "pygments_lexer": "ipython3",
   "version": "3.13.3"
  }
 },
 "nbformat": 4,
 "nbformat_minor": 5
}
