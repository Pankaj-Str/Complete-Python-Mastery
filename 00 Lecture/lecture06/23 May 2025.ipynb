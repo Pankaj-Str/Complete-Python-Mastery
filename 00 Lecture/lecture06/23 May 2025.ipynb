{
 "cells": [
  {
   "cell_type": "code",
   "execution_count": null,
   "id": "54f8a948",
   "metadata": {},
   "outputs": [
    {
     "name": "stdout",
     "output_type": "stream",
     "text": [
      "welcome to codeswithpankaj\n",
      "this is a function\n",
      "welcome to codeswithpankaj\n",
      "this is a function\n"
     ]
    }
   ],
   "source": [
    "# functions in python \n",
    "\n",
    "# functions are defined using the def keyword\n",
    "\n",
    "# function is a block of code that only runs when it is called\n",
    "# you can pass data, known as parameters, into a function\n",
    "# a function can return data as a result\n",
    "\n",
    "\n",
    "# user-defined function\n",
    "\n",
    "# example :\n",
    "\n",
    "\n",
    "def info():\n",
    "    print(\"welcome to codeswithpankaj\")\n",
    "    print(\"this is a function\")\n",
    "\n",
    "# calling a function\n",
    "info()\n",
    "info()"
   ]
  },
  {
   "cell_type": "code",
   "execution_count": 5,
   "id": "b6e23459",
   "metadata": {},
   "outputs": [
    {
     "name": "stdout",
     "output_type": "stream",
     "text": [
      "sum of a and b is  15\n"
     ]
    }
   ],
   "source": [
    "# type of function\n",
    "\n",
    "# basic function\n",
    "\n",
    "def add():\n",
    "    a = 5\n",
    "    b = 10\n",
    "    c = a + b\n",
    "    print(\"sum of a and b is \", c)\n",
    "\n",
    "add()    "
   ]
  },
  {
   "cell_type": "code",
   "execution_count": 7,
   "id": "e3564e6f",
   "metadata": {},
   "outputs": [
    {
     "name": "stdout",
     "output_type": "stream",
     "text": [
      "sum of a and b is  15\n",
      "sum of a and b is  50\n"
     ]
    }
   ],
   "source": [
    "# function with parameters\n",
    "\n",
    "# def functionName(parameter):\n",
    "    # code to be executed\n",
    "    # output\n",
    "\n",
    "# example\n",
    "\n",
    "def add(a, b):\n",
    "    c = a + b\n",
    "    print(\"sum of a and b is \", c)  \n",
    "\n",
    "add(5, 10)\n",
    "add(20, 30)\n",
    "    "
   ]
  },
  {
   "cell_type": "code",
   "execution_count": 9,
   "id": "ea81ef45",
   "metadata": {},
   "outputs": [
    {
     "name": "stdout",
     "output_type": "stream",
     "text": [
      "sum of a and b is  15\n"
     ]
    }
   ],
   "source": [
    "# returning values from function\n",
    "\n",
    "# example \n",
    "\n",
    "def get_number():\n",
    "    a = 5\n",
    "    b = 10\n",
    "    c = a + b\n",
    "    return c\n",
    "\n",
    "\n",
    "number = get_number()\n",
    "print(\"sum of a and b is \", number)"
   ]
  },
  {
   "cell_type": "code",
   "execution_count": 10,
   "id": "3fdc70f4",
   "metadata": {},
   "outputs": [
    {
     "name": "stdout",
     "output_type": "stream",
     "text": [
      "sum of a and b is  15\n"
     ]
    }
   ],
   "source": [
    "# with parameters and return value\n",
    "\n",
    "def get_number(a, b):\n",
    "    c = a + b\n",
    "    return c\n",
    "\n",
    "number = get_number(5, 10)\n",
    "print(\"sum of a and b is \", number)"
   ]
  },
  {
   "cell_type": "code",
   "execution_count": 11,
   "id": "d8ff2587",
   "metadata": {},
   "outputs": [
    {
     "name": "stdout",
     "output_type": "stream",
     "text": [
      "hello world\n"
     ]
    }
   ],
   "source": [
    "# built-in functions\n",
    "# python has many built-in functions\n",
    "\n",
    "# example\n",
    "\n",
    "print(\"hello world\") # print function"
   ]
  },
  {
   "cell_type": "code",
   "execution_count": 14,
   "id": "9557fe33",
   "metadata": {},
   "outputs": [
    {
     "name": "stdout",
     "output_type": "stream",
     "text": [
      "5\n",
      "90\n",
      "5\n",
      "11\n",
      "15\n"
     ]
    }
   ],
   "source": [
    "\n",
    "\n",
    "# min() # returns the smallest of the input values\n",
    "# max() # returns the largest of the input values\n",
    "# abs() # returns the absolute value of a number\n",
    "# len() # returns the length of an object\n",
    "# type() # returns the type of an object\n",
    "# str() # converts an object to a string\n",
    "# int() # converts an object to an integer\n",
    "# float() # converts an object to a float\n",
    "\n",
    "a = 5\n",
    "b = 10\n",
    "c = 90\n",
    "\n",
    "print(min(a, b, c)) # returns the smallest of the input values\n",
    "print(max(a, b, c)) # returns the largest of the input values\n",
    "print(abs(-5)) # returns the absolute value of a number\n",
    "print(len(\"hello world\")) # returns the length of an object\n",
    "print(sum([1, 2, 3, 4, 5])) # returns the sum of the input values\n"
   ]
  }
 ],
 "metadata": {
  "kernelspec": {
   "display_name": "Python 3",
   "language": "python",
   "name": "python3"
  },
  "language_info": {
   "codemirror_mode": {
    "name": "ipython",
    "version": 3
   },
   "file_extension": ".py",
   "mimetype": "text/x-python",
   "name": "python",
   "nbconvert_exporter": "python",
   "pygments_lexer": "ipython3",
   "version": "3.13.3"
  }
 },
 "nbformat": 4,
 "nbformat_minor": 5
}
