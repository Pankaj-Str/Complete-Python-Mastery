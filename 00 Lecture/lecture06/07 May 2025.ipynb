{
 "cells": [
  {
   "cell_type": "code",
   "execution_count": 2,
   "id": "dfb5d83d",
   "metadata": {},
   "outputs": [
    {
     "name": "stdout",
     "output_type": "stream",
     "text": [
      "welcome to codeswithpankaj\n",
      "welcome to codeswithpankaj\n"
     ]
    }
   ],
   "source": [
    "# basic python programm\n",
    "\n",
    "# print()\n",
    "\n",
    "print(\"welcome to codeswithpankaj\")\n",
    "print('welcome to codeswithpankaj')"
   ]
  },
  {
   "cell_type": "code",
   "execution_count": 4,
   "id": "40cd5cca",
   "metadata": {},
   "outputs": [
    {
     "name": "stdout",
     "output_type": "stream",
     "text": [
      "'welcome'\n",
      "\"welcome\"\n"
     ]
    }
   ],
   "source": [
    "print(\"'welcome'\")\n",
    "print('\"welcome\"')"
   ]
  },
  {
   "cell_type": "code",
   "execution_count": 6,
   "id": "cd7ca53a",
   "metadata": {},
   "outputs": [
    {
     "name": "stdout",
     "output_type": "stream",
     "text": [
      "435345\n",
      "my number is ....  654156\n"
     ]
    }
   ],
   "source": [
    "print(435345)\n",
    "print(\"my number is .... \",654156)"
   ]
  },
  {
   "cell_type": "code",
   "execution_count": 7,
   "id": "25374d15",
   "metadata": {},
   "outputs": [
    {
     "name": "stdout",
     "output_type": "stream",
     "text": [
      "10\n"
     ]
    }
   ],
   "source": [
    "# variable\n",
    "\n",
    "x = 10 \n",
    "print(x)"
   ]
  },
  {
   "cell_type": "code",
   "execution_count": 8,
   "id": "7bf492f6",
   "metadata": {},
   "outputs": [
    {
     "name": "stdout",
     "output_type": "stream",
     "text": [
      "my name is  joy\n",
      "my height is  4.5\n",
      "my age is  23\n"
     ]
    }
   ],
   "source": [
    "name = \"joy\"\n",
    "height = 4.5\n",
    "age = 23\n",
    "\n",
    "print(\"my name is \",name)\n",
    "print(\"my height is \",height)\n",
    "print(\"my age is \",age)"
   ]
  },
  {
   "cell_type": "code",
   "execution_count": 9,
   "id": "8e384629",
   "metadata": {},
   "outputs": [
    {
     "name": "stdout",
     "output_type": "stream",
     "text": [
      "Result :  10\n"
     ]
    }
   ],
   "source": [
    "x = 10\n",
    "y = 90\n",
    "z = x + y\n",
    "\n",
    "print(\"Result : \",x)"
   ]
  }
 ],
 "metadata": {
  "kernelspec": {
   "display_name": "Python 3",
   "language": "python",
   "name": "python3"
  },
  "language_info": {
   "codemirror_mode": {
    "name": "ipython",
    "version": 3
   },
   "file_extension": ".py",
   "mimetype": "text/x-python",
   "name": "python",
   "nbconvert_exporter": "python",
   "pygments_lexer": "ipython3",
   "version": "3.13.3"
  }
 },
 "nbformat": 4,
 "nbformat_minor": 5
}
