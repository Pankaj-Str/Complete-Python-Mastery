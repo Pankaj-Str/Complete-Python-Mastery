{
 "cells": [
  {
   "cell_type": "code",
   "execution_count": null,
   "id": "e3260524",
   "metadata": {},
   "outputs": [],
   "source": [
    "# list in python\n",
    "# what is a list?\n",
    "# A list is a collection of items that can be of different types.\n",
    "# Lists are ordered, changeable, and allow duplicate values."
   ]
  },
  {
   "cell_type": "code",
   "execution_count": 2,
   "id": "60d83089",
   "metadata": {},
   "outputs": [
    {
     "name": "stdout",
     "output_type": "stream",
     "text": [
      "Empty list: []\n"
     ]
    }
   ],
   "source": [
    "# create a empty list\n",
    "data_list = []\n",
    "\n",
    "print(\"Empty list:\", data_list)"
   ]
  },
  {
   "cell_type": "code",
   "execution_count": 3,
   "id": "1265012d",
   "metadata": {},
   "outputs": [
    {
     "name": "stdout",
     "output_type": "stream",
     "text": [
      "Integer list: [1, 2, 3, 4, 5]\n"
     ]
    }
   ],
   "source": [
    "# int type list\n",
    "data_list = [1, 2, 3, 4, 5]\n",
    "print(\"Integer list:\", data_list)"
   ]
  },
  {
   "cell_type": "code",
   "execution_count": 4,
   "id": "e0a618a9",
   "metadata": {},
   "outputs": [
    {
     "name": "stdout",
     "output_type": "stream",
     "text": [
      "Float list: [1.1, 2.2, 3.3, 4.4, 5.5]\n"
     ]
    }
   ],
   "source": [
    "# create a float type list\n",
    "data_list = [1.1, 2.2, 3.3, 4.4, 5.5]\n",
    "print(\"Float list:\", data_list)"
   ]
  },
  {
   "cell_type": "code",
   "execution_count": 5,
   "id": "75b9deaf",
   "metadata": {},
   "outputs": [
    {
     "name": "stdout",
     "output_type": "stream",
     "text": [
      "String list: ['apple', 'banana', 'cherry']\n"
     ]
    }
   ],
   "source": [
    "# cerate a string type list\n",
    "data_list = [\"apple\", \"banana\", \"cherry\"]\n",
    "print(\"String list:\", data_list)"
   ]
  },
  {
   "cell_type": "code",
   "execution_count": 6,
   "id": "e7a5d62b",
   "metadata": {},
   "outputs": [
    {
     "name": "stdout",
     "output_type": "stream",
     "text": [
      "Mixed type list: [1, 'apple', 3.14, True]\n"
     ]
    }
   ],
   "source": [
    "# cerate mixed type list\n",
    "data_list = [1, \"apple\", 3.14, True]\n",
    "print(\"Mixed type list:\", data_list)"
   ]
  },
  {
   "cell_type": "code",
   "execution_count": 7,
   "id": "c80e0584",
   "metadata": {},
   "outputs": [
    {
     "name": "stdout",
     "output_type": "stream",
     "text": [
      "First element: banana\n",
      "Last element: cherry\n"
     ]
    }
   ],
   "source": [
    "data = [\"banana\", \"apple\", \"cherry\"]\n",
    "\n",
    "# Accessing elements in a list\n",
    "print(\"First element:\", data[0])  # Accessing the first element\n",
    "print(\"Last element:\", data[-1])  # Accessing the last element"
   ]
  },
  {
   "cell_type": "code",
   "execution_count": 12,
   "id": "c6db7aef",
   "metadata": {},
   "outputs": [
    {
     "name": "stdout",
     "output_type": "stream",
     "text": [
      "['cherry', 'date']\n",
      "['banana', 'apple', 'cherry']\n",
      "['cherry', 'date', 'elderberry']\n",
      "['cherry', 'date', 'elderberry']\n",
      "['banana', 'apple', 'cherry', 'date', 'elderberry']\n"
     ]
    }
   ],
   "source": [
    "# slicing a list\n",
    "data = [\"banana\", \"apple\", \"cherry\", \"date\", \"elderberry\"]\n",
    "print(data[2:4])\n",
    "print(data[:3])  # First three elements\n",
    "print(data[2:])  # From the third element to the end\n",
    "print(data[-3:])  # Last three elements\n",
    "\n",
    "print(data[:])"
   ]
  },
  {
   "cell_type": "code",
   "execution_count": 13,
   "id": "3cfdfc22",
   "metadata": {},
   "outputs": [
    {
     "name": "stdout",
     "output_type": "stream",
     "text": [
      "Modified list: ['blueberry', 'apple', 'cherry', 'date', 'elderberry']\n"
     ]
    }
   ],
   "source": [
    "# modifying a list\n",
    "\n",
    "data[0] = \"blueberry\"  # Change the first element\n",
    "print(\"Modified list:\", data)"
   ]
  },
  {
   "cell_type": "code",
   "execution_count": 14,
   "id": "037ba8cd",
   "metadata": {},
   "outputs": [
    {
     "name": "stdout",
     "output_type": "stream",
     "text": [
      "After appending 'fig': ['blueberry', 'apple', 'cherry', 'date', 'elderberry', 'fig']\n"
     ]
    }
   ],
   "source": [
    "# adding elements to a list\n",
    "data.append(\"fig\")  # Add an element to the end\n",
    "print(\"After appending 'fig':\", data)"
   ]
  },
  {
   "cell_type": "code",
   "execution_count": 15,
   "id": "d84660f1",
   "metadata": {},
   "outputs": [
    {
     "name": "stdout",
     "output_type": "stream",
     "text": [
      "After extending with 'grape' and 'honeydew': ['blueberry', 'apple', 'cherry', 'date', 'elderberry', 'fig', 'grape', 'honeydew']\n"
     ]
    }
   ],
   "source": [
    "# add multiple elements\n",
    "data.extend([\"grape\", \"honeydew\"])  # Add multiple elements\n",
    "print(\"After extending with 'grape' and 'honeydew':\", data)"
   ]
  },
  {
   "cell_type": "code",
   "execution_count": 16,
   "id": "180551d7",
   "metadata": {},
   "outputs": [
    {
     "name": "stdout",
     "output_type": "stream",
     "text": [
      "After inserting 'kiwi' at index 1: ['blueberry', 'kiwi', 'apple', 'cherry', 'date', 'elderberry', 'fig', 'grape', 'honeydew']\n"
     ]
    }
   ],
   "source": [
    "# insert items in the list\n",
    "data.insert(1, \"kiwi\")  # Insert 'kiwi' at index 1\n",
    "print(\"After inserting 'kiwi' at index 1:\", data)"
   ]
  },
  {
   "cell_type": "code",
   "execution_count": 17,
   "id": "e96a4fc9",
   "metadata": {},
   "outputs": [
    {
     "name": "stdout",
     "output_type": "stream",
     "text": [
      "After removing 'apple': ['blueberry', 'kiwi', 'cherry', 'date', 'elderberry', 'fig', 'grape', 'honeydew']\n"
     ]
    }
   ],
   "source": [
    "# deleting elements from a list\n",
    "data.remove(\"apple\")  # Remove the first occurrence of 'apple'\n",
    "print(\"After removing 'apple':\", data)"
   ]
  },
  {
   "cell_type": "code",
   "execution_count": 20,
   "id": "dd5df22a",
   "metadata": {},
   "outputs": [
    {
     "name": "stdout",
     "output_type": "stream",
     "text": [
      "Popped element: grape\n"
     ]
    }
   ],
   "source": [
    "# pop an element\n",
    "popped_element = data.pop()  # Remove and return the last element\n",
    "print(\"Popped element:\", popped_element)"
   ]
  },
  {
   "cell_type": "code",
   "execution_count": 21,
   "id": "cf6865ba",
   "metadata": {},
   "outputs": [
    {
     "name": "stdout",
     "output_type": "stream",
     "text": [
      "After popping the last element: ['blueberry', 'kiwi', 'cherry', 'date', 'elderberry', 'fig']\n"
     ]
    }
   ],
   "source": [
    "print(\"After popping the last element:\", data)"
   ]
  },
  {
   "cell_type": "code",
   "execution_count": 22,
   "id": "0e3fd2ab",
   "metadata": {},
   "outputs": [
    {
     "name": "stdout",
     "output_type": "stream",
     "text": [
      "blueberry\n",
      "kiwi\n",
      "cherry\n",
      "date\n",
      "elderberry\n",
      "fig\n"
     ]
    }
   ],
   "source": [
    "# printing with a loop\n",
    "for item in data:\n",
    "    print(item)"
   ]
  },
  {
   "cell_type": "code",
   "execution_count": 23,
   "id": "79fc9685",
   "metadata": {},
   "outputs": [
    {
     "name": "stdout",
     "output_type": "stream",
     "text": [
      "Length of the list: 6\n"
     ]
    }
   ],
   "source": [
    "# length of a list\n",
    "print(\"Length of the list:\", len(data))"
   ]
  },
  {
   "cell_type": "code",
   "execution_count": 25,
   "id": "f4855854",
   "metadata": {},
   "outputs": [
    {
     "name": "stdout",
     "output_type": "stream",
     "text": [
      "Sorted list: ['blueberry', 'cherry', 'date', 'elderberry', 'fig', 'kiwi']\n",
      "Reversed list: ['kiwi', 'fig', 'elderberry', 'date', 'cherry', 'blueberry']\n"
     ]
    }
   ],
   "source": [
    "# sorting a list\n",
    "data.sort()  # Sort the list in ascending order\n",
    "print(\"Sorted list:\", data)\n",
    "# reversing a list\n",
    "data.reverse()  # Reverse the list\n",
    "print(\"Reversed list:\", data)"
   ]
  },
  {
   "cell_type": "code",
   "execution_count": 28,
   "id": "7f5353d3",
   "metadata": {},
   "outputs": [
    {
     "name": "stdout",
     "output_type": "stream",
     "text": [
      "Sum of numbers: 15\n",
      "Maximum number: 5\n",
      "Minimum number: 1\n",
      "Is 'banana' in the list? False\n"
     ]
    }
   ],
   "source": [
    "# sum of a list\n",
    "numbers = [1, 2, 3, 4, 5]\n",
    "print(\"Sum of numbers:\", sum(numbers))\n",
    "# maximum and minimum of a list\n",
    "print(\"Maximum number:\", max(numbers))\n",
    "print(\"Minimum number:\", min(numbers))\n",
    "\n",
    "# checking if an item exists in a list\n",
    "print(\"Is 'banana' in the list?\", \"banana\" in data)"
   ]
  },
  {
   "cell_type": "code",
   "execution_count": 30,
   "id": "9c535569",
   "metadata": {},
   "outputs": [
    {
     "name": "stdout",
     "output_type": "stream",
     "text": [
      "Item 1: pav\\\n",
      "Item 2: vada\n"
     ]
    }
   ],
   "source": [
    "# how to take input from user\n",
    "size_of_list = int(input(\"Enter the size of the list: \"))\n",
    "food = []\n",
    "\n",
    "for i in range(size_of_list):\n",
    "    item = input(\"Enter item \")\n",
    "    food.append(item)\n",
    "\n",
    "for i in range(size_of_list):\n",
    "    print(food[i]) "
   ]
  }
 ],
 "metadata": {
  "kernelspec": {
   "display_name": "Python 3",
   "language": "python",
   "name": "python3"
  },
  "language_info": {
   "codemirror_mode": {
    "name": "ipython",
    "version": 3
   },
   "file_extension": ".py",
   "mimetype": "text/x-python",
   "name": "python",
   "nbconvert_exporter": "python",
   "pygments_lexer": "ipython3",
   "version": "3.13.3"
  }
 },
 "nbformat": 4,
 "nbformat_minor": 5
}
