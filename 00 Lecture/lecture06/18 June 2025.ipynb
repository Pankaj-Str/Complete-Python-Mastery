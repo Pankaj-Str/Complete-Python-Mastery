{
 "cells": [
  {
   "cell_type": "code",
   "execution_count": 1,
   "id": "68454524",
   "metadata": {},
   "outputs": [
    {
     "name": "stdout",
     "output_type": "stream",
     "text": [
      "Requirement already satisfied: numpy in c:\\users\\programming\\appdata\\local\\programs\\python\\python313\\lib\\site-packages (2.2.4)\n",
      "Note: you may need to restart the kernel to use updated packages.\n"
     ]
    },
    {
     "name": "stderr",
     "output_type": "stream",
     "text": [
      "\n",
      "[notice] A new release of pip is available: 25.0.1 -> 25.1.1\n",
      "[notice] To update, run: python.exe -m pip install --upgrade pip\n"
     ]
    }
   ],
   "source": [
    "# install numpy\n",
    "\n",
    "%pip install numpy"
   ]
  },
  {
   "cell_type": "code",
   "execution_count": 2,
   "id": "ce515f4d",
   "metadata": {},
   "outputs": [
    {
     "name": "stdout",
     "output_type": "stream",
     "text": [
      "2.2.4\n"
     ]
    }
   ],
   "source": [
    "import numpy as np\n",
    "\n",
    "print(np.__version__)"
   ]
  },
  {
   "cell_type": "code",
   "execution_count": 3,
   "id": "38e0323d",
   "metadata": {},
   "outputs": [
    {
     "name": "stdout",
     "output_type": "stream",
     "text": [
      "[23 34 56 78 90]\n"
     ]
    }
   ],
   "source": [
    "# single array \n",
    "data = np.array([23,34,56,78,90])\n",
    "print(data)"
   ]
  },
  {
   "cell_type": "code",
   "execution_count": 4,
   "id": "0fee80e3",
   "metadata": {},
   "outputs": [
    {
     "name": "stdout",
     "output_type": "stream",
     "text": [
      "<class 'numpy.ndarray'>\n"
     ]
    }
   ],
   "source": [
    "# check type \n",
    "print(type(data))"
   ]
  },
  {
   "cell_type": "code",
   "execution_count": 5,
   "id": "c81fa0d6",
   "metadata": {},
   "outputs": [
    {
     "name": "stdout",
     "output_type": "stream",
     "text": [
      "[[12 23 24 25]\n",
      " [12 13 14 15]]\n"
     ]
    }
   ],
   "source": [
    "# 2d array\n",
    "data = np.array([[12,23,24,25],[12,13,14,15]])\n",
    "print(data)"
   ]
  },
  {
   "cell_type": "code",
   "execution_count": 6,
   "id": "f0ed96ff",
   "metadata": {},
   "outputs": [
    {
     "name": "stdout",
     "output_type": "stream",
     "text": [
      "14\n",
      "25\n"
     ]
    }
   ],
   "source": [
    "print(data[1][2])\n",
    "print(data[0][3])"
   ]
  },
  {
   "cell_type": "code",
   "execution_count": 7,
   "id": "679e2e16",
   "metadata": {},
   "outputs": [
    {
     "name": "stdout",
     "output_type": "stream",
     "text": [
      "[[12 23 24 25]\n",
      " [11 13 14 15]\n",
      " [10 30 55 77]\n",
      " [99 89 80 68]]\n"
     ]
    }
   ],
   "source": [
    "data = np.array([[12,23,24,25],[11,13,14,15],[10,30,55,77],[99,89,80,68]])\n",
    "print(data)"
   ]
  },
  {
   "cell_type": "code",
   "execution_count": 8,
   "id": "1a2ab632",
   "metadata": {},
   "outputs": [
    {
     "name": "stdout",
     "output_type": "stream",
     "text": [
      "55\n"
     ]
    }
   ],
   "source": [
    "print(data[2,2])"
   ]
  },
  {
   "cell_type": "code",
   "execution_count": 9,
   "id": "c5a82c7e",
   "metadata": {},
   "outputs": [
    {
     "name": "stdout",
     "output_type": "stream",
     "text": [
      "Dimension: 2\n"
     ]
    }
   ],
   "source": [
    "print(\"Dimension:\", data.ndim)"
   ]
  },
  {
   "cell_type": "code",
   "execution_count": 10,
   "id": "97eff1fe",
   "metadata": {},
   "outputs": [
    {
     "name": "stdout",
     "output_type": "stream",
     "text": [
      "[[[12 23 24 25]\n",
      "  [12 13 14 15]]\n",
      "\n",
      " [[12 23 24 25]\n",
      "  [12 13 14 15]]\n",
      "\n",
      " [[12 23 24 25]\n",
      "  [12 13 14 15]]\n",
      "\n",
      " [[12 23 24 25]\n",
      "  [12 13 14 15]]]\n"
     ]
    }
   ],
   "source": [
    "# 3d array\n",
    "data = np.array([[[12,23,24,25],[12,13,14,15]],[[12,23,24,25],[12,13,14,15]],[[12,23,24,25],[12,13,14,15]],[[12,23,24,25],[12,13,14,15]]])\n",
    "print(data)"
   ]
  },
  {
   "cell_type": "code",
   "execution_count": 11,
   "id": "8d67badd",
   "metadata": {},
   "outputs": [
    {
     "name": "stdout",
     "output_type": "stream",
     "text": [
      "Dimension: 3\n"
     ]
    }
   ],
   "source": [
    "print(\"Dimension:\", data.ndim)"
   ]
  },
  {
   "cell_type": "code",
   "execution_count": 12,
   "id": "6b116b1a",
   "metadata": {},
   "outputs": [
    {
     "name": "stdout",
     "output_type": "stream",
     "text": [
      "Zeros Array:\n",
      " [[0. 0. 0.]\n",
      " [0. 0. 0.]\n",
      " [0. 0. 0.]]\n"
     ]
    }
   ],
   "source": [
    "# Array of zeros\n",
    "zeros = np.zeros((3, 3))  # 3 rows, 3 columns\n",
    "print(\"Zeros Array:\\n\", zeros)"
   ]
  },
  {
   "cell_type": "code",
   "execution_count": 13,
   "id": "3524b261",
   "metadata": {},
   "outputs": [
    {
     "name": "stdout",
     "output_type": "stream",
     "text": [
      "Ones Array:\n",
      " [[1. 1.]\n",
      " [1. 1.]\n",
      " [1. 1.]]\n"
     ]
    }
   ],
   "source": [
    "# Array of ones\n",
    "ones = np.ones((3, 2))  # 3 rows, 2 columns\n",
    "print(\"Ones Array:\\n\", ones)"
   ]
  },
  {
   "cell_type": "code",
   "execution_count": 14,
   "id": "6046e264",
   "metadata": {},
   "outputs": [
    {
     "name": "stdout",
     "output_type": "stream",
     "text": [
      "Range Array: [0 2 4 6 8]\n"
     ]
    }
   ],
   "source": [
    "# Array with a range of numbers\n",
    "range_array = np.arange(0, 10, 2)  # Start at 0, end before 10, step by 2\n",
    "print(\"Range Array:\", range_array)"
   ]
  },
  {
   "cell_type": "code",
   "execution_count": 15,
   "id": "d99254df",
   "metadata": {},
   "outputs": [
    {
     "name": "stdout",
     "output_type": "stream",
     "text": [
      "Linspace Array: [0.   0.25 0.5  0.75 1.  ]\n"
     ]
    }
   ],
   "source": [
    "# Array with evenly spaced numbers\n",
    "linspace_array = np.linspace(0, 1, 5)  # 5 numbers from 0 to 1\n",
    "print(\"Linspace Array:\", linspace_array)"
   ]
  },
  {
   "cell_type": "code",
   "execution_count": 16,
   "id": "eafd8078",
   "metadata": {},
   "outputs": [
    {
     "name": "stdout",
     "output_type": "stream",
     "text": [
      "Array:\n",
      " [[1 2 3]\n",
      " [4 5 6]]\n",
      "Shape: (2, 3)\n",
      "Size: 6\n",
      "Data type: int64\n",
      "Dimension: 2\n"
     ]
    }
   ],
   "source": [
    "array = np.array([[1, 2, 3], [4, 5, 6]])\n",
    "print(\"Array:\\n\", array)\n",
    "print(\"Shape:\", array.shape)  # Number of rows and columns\n",
    "print(\"Size:\", array.size)    # Total number of elements\n",
    "print(\"Data type:\", array.dtype)  # Type of elements\n",
    "print(\"Dimension:\", array.ndim)   # Number of dimensions"
   ]
  },
  {
   "cell_type": "code",
   "execution_count": 18,
   "id": "58f8b9c5",
   "metadata": {},
   "outputs": [
    {
     "name": "stdout",
     "output_type": "stream",
     "text": [
      "[5 7 9]\n",
      "[-3 -3 -3]\n"
     ]
    }
   ],
   "source": [
    "# array operations \n",
    "a = np.array([1,2,3])\n",
    "b = np.array([4,5,6])\n",
    "\n",
    "print(a+b)\n",
    "print(a-b)"
   ]
  },
  {
   "cell_type": "code",
   "execution_count": 19,
   "id": "abe1884f",
   "metadata": {},
   "outputs": [
    {
     "name": "stdout",
     "output_type": "stream",
     "text": [
      "[2 4 6]\n"
     ]
    }
   ],
   "source": [
    "# scalar operations \n",
    "print(a*2)"
   ]
  },
  {
   "cell_type": "code",
   "execution_count": 21,
   "id": "3122576a",
   "metadata": {},
   "outputs": [
    {
     "name": "stdout",
     "output_type": "stream",
     "text": [
      "[[1 2 3]\n",
      " [4 5 6]]\n",
      "[1 2 3 4 5 6]\n"
     ]
    }
   ],
   "source": [
    "# Reshape and flatten array \n",
    "a = np.array([[1,2],[3,4],[5,6]])\n",
    "print(a.reshape(2,3))\n",
    "print(a.flatten())"
   ]
  },
  {
   "cell_type": "code",
   "execution_count": null,
   "id": "ba6af3ff",
   "metadata": {},
   "outputs": [
    {
     "name": "stdout",
     "output_type": "stream",
     "text": [
      "[[ 4  6]\n",
      " [10 12]]\n",
      "[[1 3]\n",
      " [2 4]]\n"
     ]
    }
   ],
   "source": [
    "# matrix operations \n",
    "data1 = np.array([[1,2],[3,4]])\n",
    "data2 = np.array([[2,0],[1,3]])\n",
    "\n",
    "print(np.dot(data1,data2)) # matrix multiplications\n",
    "print(np.transpose(data1)) # transpose of data 1"
   ]
  },
  {
   "cell_type": "code",
   "execution_count": 24,
   "id": "9560996c",
   "metadata": {},
   "outputs": [
    {
     "name": "stdout",
     "output_type": "stream",
     "text": [
      "[0.90430091 0.26318197 0.6246829 ]\n"
     ]
    }
   ],
   "source": [
    "# random modules \n",
    "# random flot number between 0 and 1\n",
    "print(np.random.rand(3))"
   ]
  },
  {
   "cell_type": "code",
   "execution_count": 26,
   "id": "d27ca13b",
   "metadata": {},
   "outputs": [
    {
     "name": "stdout",
     "output_type": "stream",
     "text": [
      "[[6 1 7]\n",
      " [5 1 9]]\n"
     ]
    }
   ],
   "source": [
    "# random integers between 1 and 10 \n",
    "print(np.random.randint(1,10,size=(2,3)))"
   ]
  },
  {
   "cell_type": "code",
   "execution_count": 27,
   "id": "3f4fe629",
   "metadata": {},
   "outputs": [
    {
     "name": "stdout",
     "output_type": "stream",
     "text": [
      "[[-0.69728293 -0.7339458 ]\n",
      " [-1.75735003 -1.23322614]]\n"
     ]
    }
   ],
   "source": [
    "# random numbers form normal distribution\n",
    "print(np.random.randn(2,2)) "
   ]
  },
  {
   "cell_type": "code",
   "execution_count": 28,
   "id": "5dd8a09d",
   "metadata": {},
   "outputs": [
    {
     "name": "stdout",
     "output_type": "stream",
     "text": [
      "3\n"
     ]
    }
   ],
   "source": [
    "# set seed for reproducidility\n",
    "np.random.seed(42)\n",
    "print(np.random.randint(0.100,5))"
   ]
  },
  {
   "cell_type": "code",
   "execution_count": 31,
   "id": "66f4957b",
   "metadata": {},
   "outputs": [
    {
     "name": "stdout",
     "output_type": "stream",
     "text": [
      "[1. 2. 3. 4.]\n",
      "[0.         1.38629436 2.19722458 2.77258872]\n",
      "[2.71828183e+00 5.45981500e+01 8.10308393e+03 8.88611052e+06]\n"
     ]
    }
   ],
   "source": [
    "# using math function \n",
    "arr = np.array([1,4,9,16])\n",
    "# square root \n",
    "print(np.sqrt(arr))\n",
    "# natural log \n",
    "print(np.log(arr))\n",
    "# exponential \n",
    "print(np.exp(arr))"
   ]
  }
 ],
 "metadata": {
  "kernelspec": {
   "display_name": "Python 3",
   "language": "python",
   "name": "python3"
  },
  "language_info": {
   "codemirror_mode": {
    "name": "ipython",
    "version": 3
   },
   "file_extension": ".py",
   "mimetype": "text/x-python",
   "name": "python",
   "nbconvert_exporter": "python",
   "pygments_lexer": "ipython3",
   "version": "3.13.3"
  }
 },
 "nbformat": 4,
 "nbformat_minor": 5
}
