{
 "cells": [
  {
   "cell_type": "code",
   "execution_count": null,
   "id": "9268f27c",
   "metadata": {},
   "outputs": [],
   "source": [
    "# Table of Contents\n",
    "# Arithmetic Operators\n",
    "# Comparison Operators\n",
    "# Logical Operators\n",
    "# Assignment Operators\n",
    "# Identity Operators\n",
    "# Membership Operators"
   ]
  },
  {
   "cell_type": "code",
   "execution_count": 11,
   "id": "89408ca4",
   "metadata": {},
   "outputs": [
    {
     "name": "stdout",
     "output_type": "stream",
     "text": [
      "this is result :  2088\n",
      "this is result :  1908\n",
      "this is result :  22.2\n",
      "this is result :  22\n",
      "this is result :  18\n",
      "this is result :  4096\n"
     ]
    }
   ],
   "source": [
    "# Arithmetic Operators\n",
    "\n",
    "x = 1998\n",
    "y = 90\n",
    "\n",
    "result = x + y\n",
    "\n",
    "print(\"this is result : \",result)\n",
    "\n",
    "result = x - y\n",
    "\n",
    "print(\"this is result : \",result)\n",
    "\n",
    "result = x / y\n",
    "\n",
    "print(\"this is result : \",result)\n",
    "\n",
    "result = x // y\n",
    "\n",
    "print(\"this is result : \",result)\n",
    "\n",
    "result = x % y\n",
    "\n",
    "print(\"this is result : \",result)\n",
    "\n",
    "\n",
    "result = 8 ** 4\n",
    "\n",
    "print(\"this is result : \",result)\n"
   ]
  },
  {
   "cell_type": "code",
   "execution_count": 19,
   "id": "3b2e32eb",
   "metadata": {},
   "outputs": [
    {
     "name": "stdout",
     "output_type": "stream",
     "text": [
      "True\n",
      "False\n",
      "False\n",
      "True\n",
      "True\n",
      "True\n",
      "True\n",
      "False\n"
     ]
    }
   ],
   "source": [
    "# Comparison Operators\n",
    "\n",
    "print(20 < 56)\n",
    "print(20 > 56)\n",
    "print(45 == 56)\n",
    "print(45 != 56)\n",
    "print(34 <= 34)\n",
    "print(23 <= 34)\n",
    "\n",
    "print(34 >= 34)\n",
    "print(23 >= 34)"
   ]
  },
  {
   "cell_type": "code",
   "execution_count": 23,
   "id": "0aefc35a",
   "metadata": {},
   "outputs": [
    {
     "name": "stdout",
     "output_type": "stream",
     "text": [
      "False\n",
      "True\n",
      "False\n"
     ]
    }
   ],
   "source": [
    "# Logical Operators\n",
    "\n",
    "# and\n",
    "# left side | right side = result \n",
    "# True      |   True   =   True  \n",
    "# True      |   False   =   False  \n",
    "# False      |   Ture   =   False  \n",
    "# False      |   False   =   False\n",
    "\n",
    "\n",
    "print(23 < 90 and 56 == 67)\n",
    "\n",
    "# or\n",
    "\n",
    "# left side | right side = result \n",
    "# True      |   True   =   True  \n",
    "# True      |   False   =   True  \n",
    "# False      |   Ture   =   True  \n",
    "# False      |   False   =   False\n",
    "\n",
    "print(23 < 90 or 56 == 67)\n",
    "\n",
    "# not\n",
    "# true -> false \n",
    "# false -> true\n",
    "print(not 78 == 78)"
   ]
  },
  {
   "cell_type": "code",
   "execution_count": 28,
   "id": "f7efefbc",
   "metadata": {},
   "outputs": [
    {
     "name": "stdout",
     "output_type": "stream",
     "text": [
      "90\n",
      "100\n",
      "1000\n",
      "100.0\n",
      "90.0\n"
     ]
    }
   ],
   "source": [
    "# Assignment Operators\n",
    "x = 90\n",
    "print(x)\n",
    "\n",
    "# x = x + 10 \n",
    "x  += 10\n",
    "print(x)\n",
    "\n",
    "\n",
    "x  *= 10\n",
    "print(x)\n",
    "\n",
    "x  /= 10\n",
    "print(x)\n",
    "\n",
    "\n",
    "x  -= 10\n",
    "print(x)"
   ]
  },
  {
   "cell_type": "code",
   "execution_count": null,
   "id": "e164dc8b",
   "metadata": {},
   "outputs": [
    {
     "name": "stdout",
     "output_type": "stream",
     "text": [
      "False\n",
      "True\n"
     ]
    }
   ],
   "source": [
    "# Identity Operators\n",
    "\n",
    "x = 10 \n",
    "y = 20\n",
    "\n",
    "print(x is y)\n",
    "\n",
    "print(x is not  y)\n",
    "\n"
   ]
  },
  {
   "cell_type": "code",
   "execution_count": 33,
   "id": "1a6d7c95",
   "metadata": {},
   "outputs": [
    {
     "name": "stdout",
     "output_type": "stream",
     "text": [
      "True\n",
      "False\n",
      "False\n",
      "True\n"
     ]
    }
   ],
   "source": [
    "# Membership Operators\n",
    "\n",
    "web = \"codeswithpankaj\"\n",
    "\n",
    "print('a' in web)\n",
    "\n",
    "print('a' not in web)\n",
    "\n",
    "\n",
    "print('z' in web)\n",
    "\n",
    "print('z' not in web)"
   ]
  }
 ],
 "metadata": {
  "kernelspec": {
   "display_name": "Python 3",
   "language": "python",
   "name": "python3"
  },
  "language_info": {
   "codemirror_mode": {
    "name": "ipython",
    "version": 3
   },
   "file_extension": ".py",
   "mimetype": "text/x-python",
   "name": "python",
   "nbconvert_exporter": "python",
   "pygments_lexer": "ipython3",
   "version": "3.13.3"
  }
 },
 "nbformat": 4,
 "nbformat_minor": 5
}
