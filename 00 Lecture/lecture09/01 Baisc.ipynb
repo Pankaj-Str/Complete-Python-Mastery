{
 "cells": [
  {
   "cell_type": "code",
   "execution_count": 2,
   "id": "ff1a13e4-f31d-4b07-9396-90d598868f13",
   "metadata": {},
   "outputs": [
    {
     "name": "stdout",
     "output_type": "stream",
     "text": [
      "welcome to codeswithpankaj.com\n",
      "welcome\n"
     ]
    }
   ],
   "source": [
    "print(\"welcome to codeswithpankaj.com\")\n",
    "print('welcome')"
   ]
  },
  {
   "cell_type": "code",
   "execution_count": 7,
   "id": "7ac9338f-cebf-49b7-adf7-1d53c95c77e7",
   "metadata": {},
   "outputs": [
    {
     "name": "stdout",
     "output_type": "stream",
     "text": [
      "\"welcome\"\n",
      "'welcome'\n",
      "756456\n",
      "this is my number -  678678\n"
     ]
    }
   ],
   "source": [
    "# print() function\n",
    "print('\"welcome\"')\n",
    "print(\"'welcome'\")\n",
    "\n",
    "print(756456)\n",
    "\n",
    "print(\"this is my number - \",678678)\n"
   ]
  },
  {
   "cell_type": "code",
   "execution_count": 5,
   "id": "5b77bd8d-bf39-458e-9253-b7b1f7dcdbc4",
   "metadata": {},
   "outputs": [
    {
     "name": "stdout",
     "output_type": "stream",
     "text": [
      "10\n"
     ]
    }
   ],
   "source": [
    "x = 10\n",
    "print(x)"
   ]
  },
  {
   "cell_type": "code",
   "execution_count": 8,
   "id": "e1a09c71-9835-49a5-8126-ee07d8422bea",
   "metadata": {},
   "outputs": [
    {
     "name": "stdout",
     "output_type": "stream",
     "text": [
      "this is number - 100\n"
     ]
    }
   ],
   "source": [
    "x = 100\n",
    "print(\"this is number -\",x)\n"
   ]
  },
  {
   "cell_type": "code",
   "execution_count": 11,
   "id": "e991db5a-0aad-4782-b67b-df6f5f444324",
   "metadata": {},
   "outputs": [
    {
     "name": "stdout",
     "output_type": "stream",
     "text": [
      "my name is :  joy\n",
      "my age is :  23\n",
      "my height is :  4.5\n"
     ]
    }
   ],
   "source": [
    "name = \"joy\"\n",
    "age = 23\n",
    "height = 4.5\n",
    "\n",
    "print(\"my name is : \",name)\n",
    "print(\"my age is : \",age)\n",
    "print(\"my height is : \",height)"
   ]
  },
  {
   "cell_type": "code",
   "execution_count": 14,
   "id": "392a7334-735f-4e44-92dc-f3cb2251d61f",
   "metadata": {},
   "outputs": [
    {
     "name": "stdout",
     "output_type": "stream",
     "text": [
      "40\n"
     ]
    }
   ],
   "source": [
    "x = 10\n",
    "y = 30\n",
    "\n",
    "result = x + y\n",
    "print(result)"
   ]
  },
  {
   "cell_type": "code",
   "execution_count": 15,
   "id": "ba370f97-ccbd-4367-bea6-20a090a42b25",
   "metadata": {},
   "outputs": [
    {
     "name": "stdin",
     "output_type": "stream",
     "text": [
      "enter your name  Nishant\n",
      "enter your age  12\n",
      "enter your height  4.5\n"
     ]
    },
    {
     "name": "stdout",
     "output_type": "stream",
     "text": [
      "my name is :  Nishant\n",
      "my age is :  12\n",
      "my height is :  4.5\n"
     ]
    }
   ],
   "source": [
    "# input()\n",
    "\n",
    "name = input(\"enter your name \")\n",
    "age = input(\"enter your age \")\n",
    "height = input(\"enter your height \")\n",
    "\n",
    "print(\"my name is : \",name)\n",
    "print(\"my age is : \",age)\n",
    "print(\"my height is : \",height)"
   ]
  },
  {
   "cell_type": "code",
   "execution_count": null,
   "id": "04947750-dba0-4f16-9af5-bada1d030016",
   "metadata": {},
   "outputs": [],
   "source": []
  }
 ],
 "metadata": {
  "kernelspec": {
   "display_name": "Python 3 (ipykernel)",
   "language": "python",
   "name": "python3"
  },
  "language_info": {
   "codemirror_mode": {
    "name": "ipython",
    "version": 3
   },
   "file_extension": ".py",
   "mimetype": "text/x-python",
   "name": "python",
   "nbconvert_exporter": "python",
   "pygments_lexer": "ipython3",
   "version": "3.12.7"
  }
 },
 "nbformat": 4,
 "nbformat_minor": 5
}
