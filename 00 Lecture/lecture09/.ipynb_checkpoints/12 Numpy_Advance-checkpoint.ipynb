{
 "cells": [
  {
   "cell_type": "code",
   "execution_count": 3,
   "id": "498b6396-7d21-4296-a294-28a1869331d4",
   "metadata": {},
   "outputs": [],
   "source": [
    "# random \n",
    "from numpy import random\n"
   ]
  },
  {
   "cell_type": "code",
   "execution_count": 7,
   "id": "27c31d6a-604b-4487-97a0-c0dc99975da1",
   "metadata": {},
   "outputs": [
    {
     "name": "stdout",
     "output_type": "stream",
     "text": [
      "60\n"
     ]
    }
   ],
   "source": [
    "# int number\n",
    "x = random.randint(100)\n",
    "print(x)"
   ]
  },
  {
   "cell_type": "code",
   "execution_count": 9,
   "id": "9d566c2d-bd28-47b2-a4e8-eeb128c3d4c3",
   "metadata": {},
   "outputs": [
    {
     "name": "stdout",
     "output_type": "stream",
     "text": [
      "0.9444858455970198\n"
     ]
    }
   ],
   "source": [
    "# float number\n",
    "x = random.rand()\n",
    "print(x)"
   ]
  },
  {
   "cell_type": "code",
   "execution_count": 12,
   "id": "6f0bdbad-f2a8-431f-8afb-e37569775c34",
   "metadata": {},
   "outputs": [
    {
     "name": "stdout",
     "output_type": "stream",
     "text": [
      "[76 81 98 65 74]\n"
     ]
    }
   ],
   "source": [
    "# generate random array \n",
    "x = random.randint(100,size=(5))\n",
    "print(x)"
   ]
  },
  {
   "cell_type": "code",
   "execution_count": 15,
   "id": "10f8754a-89f9-4cb1-a2ad-a3774368400e",
   "metadata": {},
   "outputs": [
    {
     "name": "stdout",
     "output_type": "stream",
     "text": [
      "[[50 45 22]\n",
      " [14 82 54]\n",
      " [73 88 83]]\n"
     ]
    }
   ],
   "source": [
    "# generate 2d array \n",
    "x = random.randint(100,size=(3,3))\n",
    "print(x)"
   ]
  },
  {
   "cell_type": "code",
   "execution_count": 17,
   "id": "6fe647ec-68ad-4f25-a9cc-74f1b2116a1a",
   "metadata": {},
   "outputs": [
    {
     "name": "stdout",
     "output_type": "stream",
     "text": [
      "[0.81173095 0.77182317 0.37743948 0.55023515 0.84265935]\n"
     ]
    }
   ],
   "source": [
    "# random Float Array\n",
    "x = random.rand(5)\n",
    "print(x)"
   ]
  },
  {
   "cell_type": "code",
   "execution_count": 18,
   "id": "58e9ef10-6ab1-4124-a1e5-5997db9b5d4d",
   "metadata": {},
   "outputs": [
    {
     "name": "stdout",
     "output_type": "stream",
     "text": [
      "[[0.00466752 0.77687889 0.01852043]\n",
      " [0.3759398  0.45097632 0.84130423]\n",
      " [0.00457531 0.43558056 0.89860511]]\n"
     ]
    }
   ],
   "source": [
    "# random float array \n",
    "x = random.rand(3,3)\n",
    "print(x)"
   ]
  },
  {
   "cell_type": "code",
   "execution_count": 20,
   "id": "9f137699-c1cd-4944-9ce3-ab4b6dd68e19",
   "metadata": {},
   "outputs": [
    {
     "name": "stdout",
     "output_type": "stream",
     "text": [
      "15\n"
     ]
    }
   ],
   "source": [
    "# single values\n",
    "x = random.choice([2,3,4,15,16,17])\n",
    "print(x)"
   ]
  },
  {
   "cell_type": "code",
   "execution_count": 23,
   "id": "b835a9fe-9f7c-426e-b2f3-c6bfc8b08e79",
   "metadata": {},
   "outputs": [
    {
     "name": "stdout",
     "output_type": "stream",
     "text": [
      "[[15  4  2]\n",
      " [ 4  3  3]]\n"
     ]
    }
   ],
   "source": [
    "# 2d array value \n",
    "x = random.choice([2,3,4,15,16,17] ,size=(2,3))\n",
    "print(x)"
   ]
  },
  {
   "cell_type": "code",
   "execution_count": 27,
   "id": "5f715392-b566-4a76-a6a6-2b101468869d",
   "metadata": {},
   "outputs": [
    {
     "name": "stdout",
     "output_type": "stream",
     "text": [
      "[2 4 5 1 3]\n"
     ]
    }
   ],
   "source": [
    "from numpy import random\n",
    "import numpy as np\n",
    "\n",
    "# Create an array\n",
    "arr = np.array([1, 2, 3, 4, 5])\n",
    "\n",
    "# Shuffle the array in-place\n",
    "random.shuffle(arr)\n",
    "\n",
    "# Print the shuffled array\n",
    "print(arr)"
   ]
  },
  {
   "cell_type": "code",
   "execution_count": 29,
   "id": "92bc4c8b-3143-4d94-b1e1-ae905684a4a0",
   "metadata": {},
   "outputs": [
    {
     "name": "stdout",
     "output_type": "stream",
     "text": [
      "[2 3 4 5 1]\n"
     ]
    }
   ],
   "source": [
    "from numpy import random\n",
    "import numpy as np\n",
    "\n",
    "# Create an array\n",
    "arr = np.array([1, 2, 3, 4, 5])\n",
    "\n",
    "# Generate a random permutation of the array\n",
    "permuted_arr = random.permutation(arr)\n",
    "\n",
    "# Print the random permutation\n",
    "print(permuted_arr)"
   ]
  }
 ],
 "metadata": {
  "kernelspec": {
   "display_name": "Python 3 (ipykernel)",
   "language": "python",
   "name": "python3"
  },
  "language_info": {
   "codemirror_mode": {
    "name": "ipython",
    "version": 3
   },
   "file_extension": ".py",
   "mimetype": "text/x-python",
   "name": "python",
   "nbconvert_exporter": "python",
   "pygments_lexer": "ipython3",
   "version": "3.13.5"
  }
 },
 "nbformat": 4,
 "nbformat_minor": 5
}
