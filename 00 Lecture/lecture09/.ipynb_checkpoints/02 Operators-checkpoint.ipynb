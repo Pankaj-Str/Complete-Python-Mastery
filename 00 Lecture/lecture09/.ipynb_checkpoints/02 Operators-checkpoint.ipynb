{
 "cells": [
  {
   "cell_type": "code",
   "execution_count": null,
   "id": "9ac4f4ff-4abd-4e77-b976-e7b2735f3768",
   "metadata": {},
   "outputs": [],
   "source": [
    "# Introduction to Operators\n",
    "# Arithmetic Operators\n",
    "# Comparison Operators\n",
    "# Logical Operators\n",
    "# Assignment Operators\n",
    "# Identity Operators\n",
    "# Membership Operators"
   ]
  },
  {
   "cell_type": "code",
   "execution_count": 8,
   "id": "99bd0bcf-43bc-40d6-aed9-0294accaf56e",
   "metadata": {},
   "outputs": [
    {
     "name": "stdout",
     "output_type": "stream",
     "text": [
      "1000\n",
      "177\n",
      "69\n",
      "7.666666666666667\n",
      "7\n",
      "529\n",
      "1\n"
     ]
    }
   ],
   "source": [
    "# Arithmetic Operators\n",
    "print(100+900)\n",
    "print(200-23)\n",
    "print(23*3)\n",
    "print(23/3)\n",
    "print(23//3)\n",
    "print(23**2)\n",
    "print(23%2)"
   ]
  },
  {
   "cell_type": "code",
   "execution_count": 16,
   "id": "c0a31235-373f-411a-96d3-c00c053af53e",
   "metadata": {},
   "outputs": [
    {
     "name": "stdout",
     "output_type": "stream",
     "text": [
      "True\n",
      "False\n",
      "False\n",
      "True\n",
      "True\n",
      "False\n"
     ]
    }
   ],
   "source": [
    "# Comparison Operators\n",
    "print(23<34)\n",
    "print(23>34)\n",
    "print(23==34)\n",
    "print(23!=34)\n",
    "\n",
    "print(85<=90)\n",
    "print(85>=90)"
   ]
  },
  {
   "cell_type": "code",
   "execution_count": 19,
   "id": "668712fd-b9e6-4df3-9b49-c8c42b593902",
   "metadata": {},
   "outputs": [
    {
     "name": "stdout",
     "output_type": "stream",
     "text": [
      "False\n",
      "True\n",
      "True\n"
     ]
    }
   ],
   "source": [
    "# Logical Operators\n",
    "#and\n",
    "print(23 > 45 and 56 == 56)\n",
    "# or \n",
    "print(23 > 45 or 56 == 56)\n",
    "\n",
    "# not \n",
    "print(not 45 == 45)"
   ]
  }
 ],
 "metadata": {
  "kernelspec": {
   "display_name": "Python 3 (ipykernel)",
   "language": "python",
   "name": "python3"
  },
  "language_info": {
   "codemirror_mode": {
    "name": "ipython",
    "version": 3
   },
   "file_extension": ".py",
   "mimetype": "text/x-python",
   "name": "python",
   "nbconvert_exporter": "python",
   "pygments_lexer": "ipython3",
   "version": "3.12.7"
  }
 },
 "nbformat": 4,
 "nbformat_minor": 5
}
