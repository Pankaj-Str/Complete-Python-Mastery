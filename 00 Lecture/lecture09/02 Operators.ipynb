{
 "cells": [
  {
   "cell_type": "code",
   "execution_count": null,
   "id": "9ac4f4ff-4abd-4e77-b976-e7b2735f3768",
   "metadata": {},
   "outputs": [],
   "source": [
    "# Introduction to Operators\n",
    "# Arithmetic Operators\n",
    "# Comparison Operators\n",
    "# Logical Operators\n",
    "# Assignment Operators\n",
    "# Identity Operators\n",
    "# Membership Operators"
   ]
  },
  {
   "cell_type": "code",
   "execution_count": 8,
   "id": "99bd0bcf-43bc-40d6-aed9-0294accaf56e",
   "metadata": {},
   "outputs": [
    {
     "name": "stdout",
     "output_type": "stream",
     "text": [
      "1000\n",
      "177\n",
      "69\n",
      "7.666666666666667\n",
      "7\n",
      "529\n",
      "1\n"
     ]
    }
   ],
   "source": [
    "# Arithmetic Operators\n",
    "print(100+900)\n",
    "print(200-23)\n",
    "print(23*3)\n",
    "print(23/3)\n",
    "print(23//3)\n",
    "print(23**2)\n",
    "print(23%2)"
   ]
  },
  {
   "cell_type": "code",
   "execution_count": 16,
   "id": "c0a31235-373f-411a-96d3-c00c053af53e",
   "metadata": {},
   "outputs": [
    {
     "name": "stdout",
     "output_type": "stream",
     "text": [
      "True\n",
      "False\n",
      "False\n",
      "True\n",
      "True\n",
      "False\n"
     ]
    }
   ],
   "source": [
    "# Comparison Operators\n",
    "print(23<34)\n",
    "print(23>34)\n",
    "print(23==34)\n",
    "print(23!=34)\n",
    "\n",
    "print(85<=90)\n",
    "print(85>=90)"
   ]
  },
  {
   "cell_type": "code",
   "execution_count": 21,
   "id": "668712fd-b9e6-4df3-9b49-c8c42b593902",
   "metadata": {},
   "outputs": [
    {
     "name": "stdout",
     "output_type": "stream",
     "text": [
      "False\n",
      "True\n",
      "False\n",
      "False\n"
     ]
    }
   ],
   "source": [
    "# Logical Operators\n",
    "#and\n",
    "print(23 > 45 and 56 == 56)\n",
    "# or \n",
    "print(23 > 45 or 56 == 56)\n",
    "\n",
    "# not \n",
    "print(not 45 == 45)\n",
    "print(45 != 45)"
   ]
  },
  {
   "cell_type": "code",
   "execution_count": 27,
   "id": "4047834b-6fe0-4377-9365-97e883138467",
   "metadata": {},
   "outputs": [
    {
     "name": "stdout",
     "output_type": "stream",
     "text": [
      "10\n",
      "20\n",
      "10\n",
      "100\n",
      "10.0\n"
     ]
    }
   ],
   "source": [
    "# Assignment Operators\n",
    "\n",
    "x = 10\n",
    "print(x)\n",
    "\n",
    "#x = x + 10\n",
    "x +=10\n",
    "print(x)\n",
    "\n",
    "x -=10\n",
    "print(x)\n",
    "\n",
    "x *=10\n",
    "print(x)\n",
    "\n",
    "x /=10\n",
    "print(x)"
   ]
  },
  {
   "cell_type": "code",
   "execution_count": 33,
   "id": "515bc93d-5958-4173-91b5-310a37948fa4",
   "metadata": {},
   "outputs": [
    {
     "name": "stdout",
     "output_type": "stream",
     "text": [
      "True\n",
      "False\n"
     ]
    }
   ],
   "source": [
    "# Identity Operators\n",
    "# is \n",
    "# is not\n",
    "x = 10\n",
    "y = 10\n",
    "print(x is y)\n",
    "print(x is not y)"
   ]
  },
  {
   "cell_type": "code",
   "execution_count": 35,
   "id": "7a3f6260-1044-429e-8cfe-77ade4c630c1",
   "metadata": {},
   "outputs": [
    {
     "name": "stdout",
     "output_type": "stream",
     "text": [
      "True\n",
      "False\n"
     ]
    }
   ],
   "source": [
    "# Membership Operators\n",
    "\n",
    "data = \"codeswithpankaj.com\"\n",
    "\n",
    "print(\"m\" in data)\n",
    "print(\"m\" not in data)\n"
   ]
  }
 ],
 "metadata": {
  "kernelspec": {
   "display_name": "Python 3 (ipykernel)",
   "language": "python",
   "name": "python3"
  },
  "language_info": {
   "codemirror_mode": {
    "name": "ipython",
    "version": 3
   },
   "file_extension": ".py",
   "mimetype": "text/x-python",
   "name": "python",
   "nbconvert_exporter": "python",
   "pygments_lexer": "ipython3",
   "version": "3.12.7"
  }
 },
 "nbformat": 4,
 "nbformat_minor": 5
}
