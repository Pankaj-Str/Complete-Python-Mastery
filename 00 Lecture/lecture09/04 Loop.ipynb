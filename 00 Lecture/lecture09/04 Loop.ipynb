{
 "cells": [
  {
   "cell_type": "code",
   "execution_count": 5,
   "id": "71952932-c31a-4c96-9d85-1bb841b57dfc",
   "metadata": {},
   "outputs": [],
   "source": [
    "# Date 22 july 2025"
   ]
  },
  {
   "cell_type": "code",
   "execution_count": 4,
   "id": "42365ad5-8e08-4c88-9052-f59e47a85541",
   "metadata": {},
   "outputs": [
    {
     "name": "stdout",
     "output_type": "stream",
     "text": [
      "0\n",
      "1\n",
      "2\n",
      "3\n",
      "4\n",
      "5\n",
      "6\n",
      "7\n",
      "8\n",
      "9\n",
      "10\n"
     ]
    }
   ],
   "source": [
    "# for variable in range(start,end,steps):\n",
    "    # print output\n",
    "\n",
    "# print 0 to 10\n",
    "\n",
    "for i in range(11):\n",
    "    print(i)"
   ]
  },
  {
   "cell_type": "code",
   "execution_count": 6,
   "id": "2bcff2d4-e15a-4a55-a84d-66aceea2bc50",
   "metadata": {},
   "outputs": [
    {
     "name": "stdout",
     "output_type": "stream",
     "text": [
      "12\n",
      "13\n",
      "14\n",
      "15\n",
      "16\n",
      "17\n",
      "18\n",
      "19\n",
      "20\n",
      "21\n",
      "22\n"
     ]
    }
   ],
   "source": [
    "# range(start,end)\n",
    "\n",
    "for i in range(12,23):\n",
    "    print(i)"
   ]
  },
  {
   "cell_type": "code",
   "execution_count": 7,
   "id": "2ea2a7db-67a8-4e39-b6c9-ec2c498ffee2",
   "metadata": {},
   "outputs": [
    {
     "name": "stdout",
     "output_type": "stream",
     "text": [
      "1\n",
      "3\n",
      "5\n",
      "7\n",
      "9\n",
      "11\n",
      "13\n",
      "15\n",
      "17\n"
     ]
    }
   ],
   "source": [
    "# range(start,end,step)\n",
    "\n",
    "for i in range(1,19,2):\n",
    "    print(i)"
   ]
  },
  {
   "cell_type": "code",
   "execution_count": 11,
   "id": "6ee36a57-7fdc-43c3-9203-a732dc3aa4fe",
   "metadata": {},
   "outputs": [
    {
     "name": "stdin",
     "output_type": "stream",
     "text": [
      "Enter start number  45\n",
      "Enter End Number  55\n"
     ]
    },
    {
     "name": "stdout",
     "output_type": "stream",
     "text": [
      "45 | 46 | 47 | 48 | 49 | 50 | 51 | 52 | 53 | 54 | 55 | "
     ]
    }
   ],
   "source": [
    "# how to take use input\n",
    "start = int(input(\"Enter start number \"))\n",
    "end = int(input(\"Enter End Number \"))\n",
    "for i in range(start,end+1):\n",
    "    print(i,end=\" | \")"
   ]
  },
  {
   "cell_type": "code",
   "execution_count": 14,
   "id": "91011686-b0dc-4bb7-ba4e-e425e46ade66",
   "metadata": {},
   "outputs": [
    {
     "name": "stdout",
     "output_type": "stream",
     "text": [
      "a\n",
      "116\n"
     ]
    }
   ],
   "source": [
    "# https://theasciicode.com.ar/ascii-table-characters.pdf\n",
    "# chr() ascii code to char\n",
    "print(chr(97))\n",
    "# ord() char to ascii code \n",
    "print(ord(\"t\"))"
   ]
  },
  {
   "cell_type": "code",
   "execution_count": 17,
   "id": "e011d6a4-a3f2-4509-8962-54e52a1ee13e",
   "metadata": {},
   "outputs": [
    {
     "name": "stdin",
     "output_type": "stream",
     "text": [
      "Enter Start char -  A\n",
      "Enter Start char -  R\n"
     ]
    },
    {
     "name": "stdout",
     "output_type": "stream",
     "text": [
      "A | B | C | D | E | F | G | H | I | J | K | L | M | N | O | P | Q | R | "
     ]
    }
   ],
   "source": [
    "start_char = input('Enter Start char - ')\n",
    "end_char = input('Enter Start char - ')\n",
    "\n",
    "start = ord(start_char)\n",
    "end = ord(end_char)\n",
    "\n",
    "for i in range(start,end+1):\n",
    "    print(chr(i),end=' | ')"
   ]
  },
  {
   "cell_type": "code",
   "execution_count": null,
   "id": "30a46a26-5818-4b3a-a711-6306347b44ef",
   "metadata": {},
   "outputs": [],
   "source": []
  }
 ],
 "metadata": {
  "kernelspec": {
   "display_name": "Python 3 (ipykernel)",
   "language": "python",
   "name": "python3"
  },
  "language_info": {
   "codemirror_mode": {
    "name": "ipython",
    "version": 3
   },
   "file_extension": ".py",
   "mimetype": "text/x-python",
   "name": "python",
   "nbconvert_exporter": "python",
   "pygments_lexer": "ipython3",
   "version": "3.12.7"
  }
 },
 "nbformat": 4,
 "nbformat_minor": 5
}
