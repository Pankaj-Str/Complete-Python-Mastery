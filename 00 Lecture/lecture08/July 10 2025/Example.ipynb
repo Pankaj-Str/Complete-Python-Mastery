{
 "cells": [
  {
   "cell_type": "code",
   "execution_count": 4,
   "id": "dc7f48af",
   "metadata": {},
   "outputs": [],
   "source": [
    "class Customers1:\n",
    "    def info():\n",
    "        print(\"Customer Name : Joy\")\n",
    "        print(\"Customer City : Mumbai\")\n",
    "    def CreditCard():\n",
    "        print(\"Credit Card Limit 450000/-\")\n",
    "        print(\"Card Name HDFC Bank\")\n",
    "    def CreditAmount():\n",
    "        print(\"Amount : 5000/-\")    "
   ]
  },
  {
   "cell_type": "code",
   "execution_count": 3,
   "id": "992f1f2e",
   "metadata": {},
   "outputs": [],
   "source": [
    "class Bank(Customers1):\n",
    "    def bank_info():\n",
    "        print(\"Bank - HDFC Bank\")\n",
    "    def bank_account():\n",
    "        print(\"Account Number : 67645654444\")"
   ]
  },
  {
   "cell_type": "code",
   "execution_count": 5,
   "id": "4b9f8676",
   "metadata": {},
   "outputs": [
    {
     "name": "stdout",
     "output_type": "stream",
     "text": [
      "Customer Name : Joy\n",
      "Customer City : Mumbai\n",
      "Account Number : 67645654444\n",
      "Amount : 5000/-\n",
      "Bank - HDFC Bank\n",
      "Credit Card Limit 450000/-\n",
      "Card Name HDFC Bank\n"
     ]
    }
   ],
   "source": [
    "bank_obj = Bank\n",
    "bank_obj.info()\n",
    "bank_obj.bank_account()\n",
    "bank_obj.CreditAmount()\n",
    "bank_obj.bank_info()\n",
    "bank_obj.CreditCard()"
   ]
  }
 ],
 "metadata": {
  "kernelspec": {
   "display_name": "Python 3",
   "language": "python",
   "name": "python3"
  },
  "language_info": {
   "codemirror_mode": {
    "name": "ipython",
    "version": 3
   },
   "file_extension": ".py",
   "mimetype": "text/x-python",
   "name": "python",
   "nbconvert_exporter": "python",
   "pygments_lexer": "ipython3",
   "version": "3.11.4"
  }
 },
 "nbformat": 4,
 "nbformat_minor": 5
}
