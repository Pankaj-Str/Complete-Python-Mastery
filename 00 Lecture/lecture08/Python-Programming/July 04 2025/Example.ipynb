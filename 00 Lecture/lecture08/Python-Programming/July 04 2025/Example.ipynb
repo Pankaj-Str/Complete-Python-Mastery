{
 "cells": [
  {
   "cell_type": "code",
   "execution_count": null,
   "id": "ebb74ef9",
   "metadata": {},
   "outputs": [],
   "source": []
  },
  {
   "cell_type": "code",
   "execution_count": 3,
   "id": "30b49f08",
   "metadata": {},
   "outputs": [
    {
     "name": "stdout",
     "output_type": "stream",
     "text": [
      "<class 'dict'>\n"
     ]
    }
   ],
   "source": [
    "data = {}\n",
    "print(type(data))"
   ]
  },
  {
   "cell_type": "code",
   "execution_count": 27,
   "id": "b108d188",
   "metadata": {},
   "outputs": [
    {
     "name": "stdout",
     "output_type": "stream",
     "text": [
      "{'name': 'Joy', 'age': 23, 'height': 5.6}\n"
     ]
    }
   ],
   "source": [
    "data = {\"name\":\"Joy\",\"age\":23,\"height\":5.6}\n",
    "print(data)"
   ]
  },
  {
   "cell_type": "code",
   "execution_count": 29,
   "id": "172250c4",
   "metadata": {},
   "outputs": [
    {
     "name": "stdout",
     "output_type": "stream",
     "text": [
      "Joy\n",
      "Joy\n",
      "{'name': 'Joy', 'age': 30, 'height': 5.6}\n"
     ]
    }
   ],
   "source": [
    "print(data[\"name\"])\n",
    "print(data.get(\"name\"))\n",
    "\n",
    "data[\"age\"] = 30\n",
    "print(data)"
   ]
  },
  {
   "cell_type": "code",
   "execution_count": 9,
   "id": "5a6dbfc8",
   "metadata": {},
   "outputs": [
    {
     "name": "stdout",
     "output_type": "stream",
     "text": [
      "{'name': ['Rohan', 'Nishant', 'Riya'], 'age': 23, 'height': 5.6}\n"
     ]
    }
   ],
   "source": [
    "data = {\"name\":[\"Rohan\",\"Nishant\",\"Riya\"],\"age\":23,\"height\":5.6}\n",
    "print(data)"
   ]
  },
  {
   "cell_type": "code",
   "execution_count": 11,
   "id": "2cdeeed8",
   "metadata": {},
   "outputs": [
    {
     "name": "stdout",
     "output_type": "stream",
     "text": [
      "Nishant\n"
     ]
    }
   ],
   "source": [
    "print(data[\"name\"][1])"
   ]
  },
  {
   "cell_type": "code",
   "execution_count": 15,
   "id": "735a5046",
   "metadata": {},
   "outputs": [],
   "source": [
    "data  = {\n",
    "        \"Name\": \"Charkop\",\n",
    "        \"Description\": \"null\",\n",
    "        \"BranchType\": \"Sub Post Office\",\n",
    "        \"DeliveryStatus\": \"Non-Delivery\",\n",
    "        \"Circle\": \"Maharashtra\",\n",
    "        \"District\": \"Mumbai\",\n",
    "        \"Division\": \"Mumbai  North West\",\n",
    "        \"Region\": \"Mumbai\",\n",
    "        \"Block\": \"Kandivlai West\",\n",
    "        \"State\": \"Maharashtra\",\n",
    "        \"Country\": \"India\",\n",
    "        \"Pincode\": \"400067\"\n",
    "      }"
   ]
  },
  {
   "cell_type": "code",
   "execution_count": 16,
   "id": "a6eef1d2",
   "metadata": {},
   "outputs": [
    {
     "name": "stdout",
     "output_type": "stream",
     "text": [
      "Maharashtra\n"
     ]
    }
   ],
   "source": [
    "print(data[\"Circle\"])"
   ]
  },
  {
   "cell_type": "code",
   "execution_count": 18,
   "id": "617c7432",
   "metadata": {},
   "outputs": [
    {
     "name": "stdout",
     "output_type": "stream",
     "text": [
      "Name = Charkop\n",
      "Description = null\n",
      "BranchType = Sub Post Office\n",
      "DeliveryStatus = Non-Delivery\n",
      "Circle = Maharashtra\n",
      "District = Mumbai\n",
      "Division = Mumbai  North West\n",
      "Region = Mumbai\n",
      "Block = Kandivlai West\n",
      "State = Maharashtra\n",
      "Country = India\n",
      "Pincode = 400067\n"
     ]
    }
   ],
   "source": [
    "for i in data:\n",
    "    print(f'{i} = {data[i]}')"
   ]
  },
  {
   "cell_type": "code",
   "execution_count": 24,
   "id": "ff9b73db",
   "metadata": {},
   "outputs": [
    {
     "name": "stdout",
     "output_type": "stream",
     "text": [
      "dict_keys(['Name', 'Description', 'BranchType', 'DeliveryStatus', 'Circle', 'District', 'Division', 'Region', 'Block', 'State', 'Country', 'Pincode'])\n",
      "dict_values(['Charkop', 'null', 'Sub Post Office', 'Non-Delivery', 'Maharashtra', 'Mumbai', 'Mumbai  North West', 'Mumbai', 'Kandivlai West', 'Maharashtra', 'India', '400067'])\n",
      "dict_items([('Name', 'Charkop'), ('Description', 'null'), ('BranchType', 'Sub Post Office'), ('DeliveryStatus', 'Non-Delivery'), ('Circle', 'Maharashtra'), ('District', 'Mumbai'), ('Division', 'Mumbai  North West'), ('Region', 'Mumbai'), ('Block', 'Kandivlai West'), ('State', 'Maharashtra'), ('Country', 'India'), ('Pincode', '400067')])\n",
      "Sub Post Office\n"
     ]
    },
    {
     "data": {
      "text/plain": [
       "'Sub Post Office'"
      ]
     },
     "execution_count": 24,
     "metadata": {},
     "output_type": "execute_result"
    }
   ],
   "source": [
    "# keys(): Returns a list of all keys in the dictionary.\n",
    "print(data.keys())\n",
    "# values(): Returns a list of all values in the dictionary.\n",
    "print(data.values())\n",
    "# items(): Returns a list of key-value pairs as tuples.\n",
    "print(data.items())\n",
    "# get(key, default): Returns the value for a key if it exists, else returns a default value.\n",
    "print(data.get(\"BranchType\"))\n",
    "# pop(key, default): Removes and returns the value associated with the key.\n",
    "data.pop(\"BranchType\")"
   ]
  },
  {
   "cell_type": "code",
   "execution_count": 25,
   "id": "684b9590",
   "metadata": {},
   "outputs": [
    {
     "name": "stdout",
     "output_type": "stream",
     "text": [
      "{'Name': 'Charkop', 'Description': 'null', 'DeliveryStatus': 'Non-Delivery', 'Circle': 'Maharashtra', 'District': 'Mumbai', 'Division': 'Mumbai  North West', 'Region': 'Mumbai', 'Block': 'Kandivlai West', 'State': 'Maharashtra', 'Country': 'India', 'Pincode': '400067'}\n"
     ]
    }
   ],
   "source": [
    "print(data)"
   ]
  }
 ],
 "metadata": {
  "kernelspec": {
   "display_name": "Python 3",
   "language": "python",
   "name": "python3"
  },
  "language_info": {
   "codemirror_mode": {
    "name": "ipython",
    "version": 3
   },
   "file_extension": ".py",
   "mimetype": "text/x-python",
   "name": "python",
   "nbconvert_exporter": "python",
   "pygments_lexer": "ipython3",
   "version": "3.11.4"
  }
 },
 "nbformat": 4,
 "nbformat_minor": 5
}
