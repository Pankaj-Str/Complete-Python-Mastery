{
 "cells": [
  {
   "cell_type": "code",
   "execution_count": null,
   "id": "937ad379",
   "metadata": {},
   "outputs": [
    {
     "name": "stdout",
     "output_type": "stream",
     "text": [
      "[2, 4, 56, 4, 2, 4, 6]\n",
      "2 4 56 4 2 4 6 "
     ]
    }
   ],
   "source": [
    "data = [1,2,4,3,45,3,56,89,7,4,1,2,3,4,5,6]\n",
    "\n",
    "# even_numbers = list(filter(lambda x: x % 2 == 0, data))\n",
    "\n",
    "result = list(filter(lambda x : x % 2 == 0, data))\n",
    "print(result)\n",
    "\n",
    "\n",
    "for i in data:\n",
    "    if i % 2 == 0:\n",
    "        print(i,end=\" \")\n"
   ]
  }
 ],
 "metadata": {
  "kernelspec": {
   "display_name": "Python 3",
   "language": "python",
   "name": "python3"
  },
  "language_info": {
   "codemirror_mode": {
    "name": "ipython",
    "version": 3
   },
   "file_extension": ".py",
   "mimetype": "text/x-python",
   "name": "python",
   "nbconvert_exporter": "python",
   "pygments_lexer": "ipython3",
   "version": "3.11.4"
  }
 },
 "nbformat": 4,
 "nbformat_minor": 5
}
