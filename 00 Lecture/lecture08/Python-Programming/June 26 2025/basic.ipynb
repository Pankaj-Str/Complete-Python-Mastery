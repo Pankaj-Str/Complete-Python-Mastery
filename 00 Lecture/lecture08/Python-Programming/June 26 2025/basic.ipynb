{
 "cells": [
  {
   "cell_type": "code",
   "execution_count": 1,
   "id": "fa6dc7b2",
   "metadata": {},
   "outputs": [
    {
     "name": "stdout",
     "output_type": "stream",
     "text": [
      "welcome\n",
      "welcome\n",
      "\"welcome\"\n",
      "'welcome'\n",
      "7456\n",
      "my number is :  97576\n"
     ]
    }
   ],
   "source": [
    "# print()\n",
    "print('welcome')\n",
    "print(\"welcome\")\n",
    "\n",
    "print('\"welcome\"')\n",
    "print(\"'welcome'\")\n",
    "\n",
    "print(7456)\n",
    "\n",
    "print('my number is : ',97576)"
   ]
  },
  {
   "cell_type": "code",
   "execution_count": 2,
   "id": "55e969db",
   "metadata": {},
   "outputs": [
    {
     "name": "stdout",
     "output_type": "stream",
     "text": [
      "10\n",
      "20\n",
      "45\n",
      "56\n"
     ]
    }
   ],
   "source": [
    "# variable \n",
    "\n",
    "x = 10\n",
    "print(x)\n",
    "x = 20\n",
    "print(x)\n",
    "\n",
    "a , b = 45 , 56\n",
    "\n",
    "print(a)\n",
    "print(b)"
   ]
  },
  {
   "cell_type": "code",
   "execution_count": 3,
   "id": "7457d899",
   "metadata": {},
   "outputs": [
    {
     "name": "stdout",
     "output_type": "stream",
     "text": [
      "your name is :  joy\n",
      "your age is :  45\n",
      "your height is :  4.5\n"
     ]
    }
   ],
   "source": [
    "name = \"joy\"\n",
    "height = 4.5\n",
    "age = 45\n",
    "\n",
    "print('your name is : ',name)\n",
    "print('your age is : ',age)\n",
    "print('your height is : ',height)"
   ]
  },
  {
   "cell_type": "code",
   "execution_count": 4,
   "id": "74f99d4f",
   "metadata": {},
   "outputs": [
    {
     "name": "stdout",
     "output_type": "stream",
     "text": [
      "<class 'str'>\n",
      "<class 'int'>\n",
      "<class 'float'>\n"
     ]
    }
   ],
   "source": [
    "# type()\n",
    "print(type(name))\n",
    "print(type(age))\n",
    "print(type(height))"
   ]
  },
  {
   "cell_type": "code",
   "execution_count": 5,
   "id": "eff90e79",
   "metadata": {},
   "outputs": [
    {
     "name": "stdout",
     "output_type": "stream",
     "text": [
      "<class 'int'>\n",
      "<class 'float'>\n",
      "<class 'str'>\n",
      "<class 'list'>\n",
      "<class 'tuple'>\n",
      "<class 'tuple'>\n",
      "<class 'tuple'>\n",
      "<class 'int'>\n",
      "<class 'tuple'>\n",
      "<class 'set'>\n",
      "<class 'dict'>\n"
     ]
    }
   ],
   "source": [
    "data = 23\n",
    "print(type(data))\n",
    "data = 2.3\n",
    "print(type(data))\n",
    "data = \"joy\"\n",
    "print(type(data))\n",
    "\n",
    "data = [23,4,4,4]\n",
    "print(type(data))\n",
    "\n",
    "data = 23,56\n",
    "print(type(data))\n",
    "\n",
    "data = 23,\n",
    "print(type(data))\n",
    "\n",
    "data = (23,56)\n",
    "print(type(data))\n",
    "\n",
    "data = (23)\n",
    "print(type(data))\n",
    "\n",
    "data = (23,)\n",
    "print(type(data))\n",
    "\n",
    "data = {23,56}\n",
    "print(type(data))\n",
    "\n",
    "data = {'name':'joy'}\n",
    "print(type(data))"
   ]
  },
  {
   "cell_type": "code",
   "execution_count": 6,
   "id": "9b15fd3a",
   "metadata": {},
   "outputs": [
    {
     "name": "stdout",
     "output_type": "stream",
     "text": [
      "your name is :  joy\n",
      "your age is :  23\n",
      "your height is :  5.6\n"
     ]
    }
   ],
   "source": [
    "# input()\n",
    "name = input('Enter Your Name')\n",
    "height = input('Enter Your Height')\n",
    "age = input('Enter Your age')\n",
    "\n",
    "print('your name is : ',name)\n",
    "print('your age is : ',age)\n",
    "print('your height is : ',height)"
   ]
  },
  {
   "cell_type": "code",
   "execution_count": 7,
   "id": "c8945240",
   "metadata": {},
   "outputs": [
    {
     "name": "stdout",
     "output_type": "stream",
     "text": [
      "<class 'str'>\n",
      "<class 'str'>\n",
      "<class 'str'>\n"
     ]
    }
   ],
   "source": [
    "print(type(age))\n",
    "print(type(height))\n",
    "print(type(name))"
   ]
  },
  {
   "cell_type": "code",
   "execution_count": 14,
   "id": "a0944d93",
   "metadata": {},
   "outputs": [
    {
     "name": "stdout",
     "output_type": "stream",
     "text": [
      "your name is :  joy\n",
      "your age is :  13\n",
      "your height is :  3.4\n"
     ]
    }
   ],
   "source": [
    "# int()\n",
    "# float()\n",
    "# str()\n",
    "name = str(input('Enter Your Name'))\n",
    "height = float(input('Enter Your Height'))\n",
    "age = int(input('Enter Your age'))\n",
    "main_age = age - 10\n",
    "print('your name is : ',name)\n",
    "print('your age is : ',main_age)\n",
    "print('your height is : ',height)"
   ]
  },
  {
   "cell_type": "code",
   "execution_count": 15,
   "id": "88c95ffb",
   "metadata": {},
   "outputs": [
    {
     "name": "stdout",
     "output_type": "stream",
     "text": [
      "<class 'int'>\n",
      "<class 'float'>\n",
      "<class 'str'>\n"
     ]
    }
   ],
   "source": [
    "print(type(age))\n",
    "print(type(height))\n",
    "print(type(name))"
   ]
  },
  {
   "cell_type": "code",
   "execution_count": 11,
   "id": "a3cb3f58",
   "metadata": {},
   "outputs": [
    {
     "name": "stdout",
     "output_type": "stream",
     "text": [
      "50\n"
     ]
    }
   ],
   "source": [
    "x = 10 \n",
    "y = 20\n",
    "x = y\n",
    "y = 30\n",
    "z = 2\n",
    "z = a\n",
    "z = y\n",
    "a = z\n",
    "print(z + x)"
   ]
  },
  {
   "cell_type": "code",
   "execution_count": 12,
   "id": "84d3cfbd",
   "metadata": {},
   "outputs": [
    {
     "name": "stdout",
     "output_type": "stream",
     "text": [
      "8\n"
     ]
    }
   ],
   "source": [
    "a = 10 \n",
    "b = 30\n",
    "c = a = b = 0\n",
    "d = 10\n",
    "c = 2\n",
    "c = a = b = d = 1\n",
    "a = 5 \n",
    "print(a+b+c+d)"
   ]
  },
  {
   "cell_type": "code",
   "execution_count": 13,
   "id": "df5c9352",
   "metadata": {},
   "outputs": [
    {
     "name": "stdout",
     "output_type": "stream",
     "text": [
      "160\n"
     ]
    }
   ],
   "source": [
    "a , b , c , d = 10,20,10,40\n",
    "a = b = c = d\n",
    "d = a + b + c\n",
    "a , b , c = b , d , c\n",
    "print(a+b)"
   ]
  }
 ],
 "metadata": {
  "kernelspec": {
   "display_name": "Python 3",
   "language": "python",
   "name": "python3"
  },
  "language_info": {
   "codemirror_mode": {
    "name": "ipython",
    "version": 3
   },
   "file_extension": ".py",
   "mimetype": "text/x-python",
   "name": "python",
   "nbconvert_exporter": "python",
   "pygments_lexer": "ipython3",
   "version": "3.11.4"
  }
 },
 "nbformat": 4,
 "nbformat_minor": 5
}
