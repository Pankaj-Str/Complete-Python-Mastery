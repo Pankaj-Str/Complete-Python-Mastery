{
 "cells": [
  {
   "cell_type": "code",
   "execution_count": null,
   "id": "912123c4",
   "metadata": {},
   "outputs": [],
   "source": [
    "# basic (without agr. and with return type)\n",
    "def info():\n",
    "    print(\"Welcome to CWPC\")\n",
    "    print(\"this is demo...\")"
   ]
  },
  {
   "cell_type": "code",
   "execution_count": 3,
   "id": "b2b111f2",
   "metadata": {},
   "outputs": [
    {
     "name": "stdout",
     "output_type": "stream",
     "text": [
      "Welcome to CWPC\n",
      "this is demo...\n",
      "Welcome to CWPC\n",
      "this is demo...\n"
     ]
    }
   ],
   "source": [
    "# call the function\n",
    "info()\n",
    "info()"
   ]
  },
  {
   "cell_type": "code",
   "execution_count": null,
   "id": "f9532fc3",
   "metadata": {},
   "outputs": [],
   "source": [
    "# with argu/ example(variable)\n",
    "\n",
    "def add(number1,number2):\n",
    "    result = number1 + number2\n",
    "    print(result)"
   ]
  },
  {
   "cell_type": "code",
   "execution_count": 6,
   "id": "277d8ce8",
   "metadata": {},
   "outputs": [
    {
     "name": "stdout",
     "output_type": "stream",
     "text": [
      "180\n",
      "424\n"
     ]
    }
   ],
   "source": [
    "add(124,56)\n",
    "add(124,300)"
   ]
  },
  {
   "cell_type": "code",
   "execution_count": 10,
   "id": "608f162d",
   "metadata": {},
   "outputs": [],
   "source": [
    "def bill(price,tax):\n",
    "    gst_amount = price*tax/100\n",
    "    total_amount = gst_amount+price\n",
    "    print(f'---------bill-----------')\n",
    "    print(f'Amount = ₹{price}')\n",
    "    print(f'GST = {tax}%')\n",
    "    print(f'GST Amount = ₹{gst_amount}')\n",
    "    print(f'Total Amount + GST = ₹{total_amount}')"
   ]
  },
  {
   "cell_type": "code",
   "execution_count": 9,
   "id": "a5d834b9",
   "metadata": {},
   "outputs": [
    {
     "name": "stdout",
     "output_type": "stream",
     "text": [
      "---------bill-----------\n",
      "Amount = ₹1200\n",
      "GST = 18%\n",
      "GST Amount = ₹216.0\n",
      "Total Amount + GST = ₹1416.0\n",
      "---------bill-----------\n",
      "Amount = ₹4500\n",
      "GST = 2%\n",
      "GST Amount = ₹90.0\n",
      "Total Amount + GST = ₹4590.0\n",
      "---------bill-----------\n",
      "Amount = ₹7800\n",
      "GST = 9%\n",
      "GST Amount = ₹702.0\n",
      "Total Amount + GST = ₹8502.0\n"
     ]
    }
   ],
   "source": [
    "bill(1200,18)\n",
    "bill(4500,2)\n",
    "bill(7800,9)"
   ]
  },
  {
   "cell_type": "code",
   "execution_count": 12,
   "id": "df1ecce6",
   "metadata": {},
   "outputs": [
    {
     "name": "stdout",
     "output_type": "stream",
     "text": [
      "---------bill-----------\n",
      "Amount = ₹1200\n",
      "GST = 2%\n",
      "GST Amount = ₹24.0\n",
      "Total Amount + GST = ₹1224.0\n",
      "---------bill-----------\n",
      "Amount = ₹4500\n",
      "GST = 8%\n",
      "GST Amount = ₹360.0\n",
      "Total Amount + GST = ₹4860.0\n",
      "---------bill-----------\n",
      "Amount = ₹8900\n",
      "GST = 18%\n",
      "GST Amount = ₹1602.0\n",
      "Total Amount + GST = ₹10502.0\n",
      "---------bill-----------\n",
      "Amount = ₹4555\n",
      "GST = 23%\n",
      "GST Amount = ₹1047.65\n",
      "Total Amount + GST = ₹5602.65\n",
      "---------bill-----------\n",
      "Amount = ₹450\n",
      "GST = 9%\n",
      "GST Amount = ₹40.5\n",
      "Total Amount + GST = ₹490.5\n",
      "---------bill-----------\n",
      "Amount = ₹700\n",
      "GST = 12%\n",
      "GST Amount = ₹84.0\n",
      "Total Amount + GST = ₹784.0\n",
      "---------bill-----------\n",
      "Amount = ₹78000\n",
      "GST = 2%\n",
      "GST Amount = ₹1560.0\n",
      "Total Amount + GST = ₹79560.0\n"
     ]
    }
   ],
   "source": [
    "price = [1200,4500,8900,4555,450,700,78000]\n",
    "tax = [2,8,18,23,9,12,2]\n",
    "\n",
    "size = len(price)\n",
    "\n",
    "for i in range(size):\n",
    "    bill(price[i],tax[i])\n"
   ]
  },
  {
   "cell_type": "code",
   "execution_count": 13,
   "id": "912c8ab2",
   "metadata": {},
   "outputs": [],
   "source": [
    "# with return type \n",
    "def print_number():\n",
    "    return 200"
   ]
  },
  {
   "cell_type": "code",
   "execution_count": 14,
   "id": "3aa28cd6",
   "metadata": {},
   "outputs": [
    {
     "name": "stdout",
     "output_type": "stream",
     "text": [
      "200\n"
     ]
    }
   ],
   "source": [
    "print(print_number())"
   ]
  },
  {
   "cell_type": "code",
   "execution_count": 15,
   "id": "0905abb9",
   "metadata": {},
   "outputs": [],
   "source": [
    "# with arg/ with return type\n",
    "\n",
    "def add_1(n1,n2):\n",
    "    result = n1+n2\n",
    "    return result"
   ]
  },
  {
   "cell_type": "code",
   "execution_count": 16,
   "id": "d70e2836",
   "metadata": {},
   "outputs": [
    {
     "name": "stdout",
     "output_type": "stream",
     "text": [
      "78\n"
     ]
    }
   ],
   "source": [
    "total = add_1(12,14)\n",
    "print(total*3)"
   ]
  },
  {
   "cell_type": "code",
   "execution_count": 17,
   "id": "11881106",
   "metadata": {},
   "outputs": [
    {
     "name": "stdout",
     "output_type": "stream",
     "text": [
      "Collecting numpy\n",
      "  Downloading numpy-2.3.1-cp311-cp311-win_amd64.whl (13.0 MB)\n",
      "                                              0.0/13.0 MB ? eta -:--:--\n",
      "     -                                        0.4/13.0 MB 8.3 MB/s eta 0:00:02\n",
      "     --                                       0.9/13.0 MB 9.9 MB/s eta 0:00:02\n",
      "     ----                                     1.5/13.0 MB 10.5 MB/s eta 0:00:02\n",
      "     ------                                   2.0/13.0 MB 10.7 MB/s eta 0:00:02\n",
      "     -------                                  2.6/13.0 MB 10.9 MB/s eta 0:00:01\n",
      "     ---------                                3.1/13.0 MB 11.0 MB/s eta 0:00:01\n",
      "     -----------                              3.6/13.0 MB 11.1 MB/s eta 0:00:01\n",
      "     ------------                             4.2/13.0 MB 11.6 MB/s eta 0:00:01\n",
      "     --------------                           4.8/13.0 MB 11.3 MB/s eta 0:00:01\n",
      "     ----------------                         5.3/13.0 MB 11.7 MB/s eta 0:00:01\n",
      "     -----------------                        5.8/13.0 MB 11.3 MB/s eta 0:00:01\n",
      "     -------------------                      6.4/13.0 MB 11.6 MB/s eta 0:00:01\n",
      "     ---------------------                    6.9/13.0 MB 11.7 MB/s eta 0:00:01\n",
      "     ----------------------                   7.5/13.0 MB 11.7 MB/s eta 0:00:01\n",
      "     ------------------------                 8.0/13.0 MB 11.7 MB/s eta 0:00:01\n",
      "     --------------------------               8.6/13.0 MB 11.7 MB/s eta 0:00:01\n",
      "     ---------------------------              9.1/13.0 MB 11.7 MB/s eta 0:00:01\n",
      "     -----------------------------            9.7/13.0 MB 11.7 MB/s eta 0:00:01\n",
      "     ------------------------------          10.2/13.0 MB 11.7 MB/s eta 0:00:01\n",
      "     --------------------------------        10.8/13.0 MB 11.9 MB/s eta 0:00:01\n",
      "     ---------------------------------       11.3/13.0 MB 11.9 MB/s eta 0:00:01\n",
      "     -----------------------------------     11.9/13.0 MB 11.9 MB/s eta 0:00:01\n",
      "     -------------------------------------   12.5/13.0 MB 11.9 MB/s eta 0:00:01\n",
      "     --------------------------------------  13.0/13.0 MB 11.9 MB/s eta 0:00:01\n",
      "     --------------------------------------  13.0/13.0 MB 11.9 MB/s eta 0:00:01\n",
      "     --------------------------------------- 13.0/13.0 MB 10.7 MB/s eta 0:00:00\n",
      "Installing collected packages: numpy\n",
      "Successfully installed numpy-2.3.1\n",
      "Note: you may need to restart the kernel to use updated packages.\n"
     ]
    },
    {
     "name": "stderr",
     "output_type": "stream",
     "text": [
      "  WARNING: The scripts f2py.exe and numpy-config.exe are installed in 'c:\\Users\\Admin\\AppData\\Local\\Programs\\Python\\Python311\\Scripts' which is not on PATH.\n",
      "  Consider adding this directory to PATH or, if you prefer to suppress this warning, use --no-warn-script-location.\n",
      "\n",
      "[notice] A new release of pip is available: 23.1.2 -> 25.1.1\n",
      "[notice] To update, run: python.exe -m pip install --upgrade pip\n"
     ]
    }
   ],
   "source": [
    "%pip install numpy"
   ]
  },
  {
   "cell_type": "code",
   "execution_count": 21,
   "id": "13fbb80c",
   "metadata": {},
   "outputs": [
    {
     "name": "stdout",
     "output_type": "stream",
     "text": [
      "2.3.1\n"
     ]
    }
   ],
   "source": [
    "import numpy as np\n",
    "\n",
    "print(np.__version__)"
   ]
  }
 ],
 "metadata": {
  "kernelspec": {
   "display_name": "Python 3",
   "language": "python",
   "name": "python3"
  },
  "language_info": {
   "codemirror_mode": {
    "name": "ipython",
    "version": 3
   },
   "file_extension": ".py",
   "mimetype": "text/x-python",
   "name": "python",
   "nbconvert_exporter": "python",
   "pygments_lexer": "ipython3",
   "version": "3.11.4"
  }
 },
 "nbformat": 4,
 "nbformat_minor": 5
}
