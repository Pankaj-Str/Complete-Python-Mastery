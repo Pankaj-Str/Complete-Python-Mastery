{
 "cells": [
  {
   "cell_type": "code",
   "execution_count": 1,
   "id": "bc4c7cdb",
   "metadata": {},
   "outputs": [
    {
     "name": "stdout",
     "output_type": "stream",
     "text": [
      "a is smallest \n"
     ]
    }
   ],
   "source": [
    "a = 10 \n",
    "b = 20\n",
    "if a < b:\n",
    "    print(\"a is smallest \")\n",
    "else:\n",
    "    print(\"a is not smallest \")"
   ]
  },
  {
   "cell_type": "code",
   "execution_count": null,
   "id": "a5f215d5",
   "metadata": {},
   "outputs": [
    {
     "name": "stdout",
     "output_type": "stream",
     "text": [
      "number 3 is smallest \n"
     ]
    }
   ],
   "source": [
    "num1 = 20\n",
    "num2 = 38\n",
    "num3 = 3\n",
    "\n",
    "if num1 < num2 and num1 < num3:\n",
    "    print(\"number 1 is smallest \")\n",
    "elif num2 < num1 and num2 < num3:\n",
    "    print(\"number 2 is smallest \")\n",
    "else:\n",
    "    print(\"number 3 is smallest \")"
   ]
  },
  {
   "cell_type": "code",
   "execution_count": null,
   "id": "94678dca",
   "metadata": {},
   "outputs": [],
   "source": [
    "# a = 20\n",
    "\n",
    "# 10 to 20 - fail \n",
    "# 21 to 50 - c\n",
    "# 51 to 70 - b\n",
    "# 71 to 85 - a\n",
    "# 86 to 100 - a+"
   ]
  },
  {
   "cell_type": "code",
   "execution_count": null,
   "id": "f8243499",
   "metadata": {},
   "outputs": [],
   "source": []
  }
 ],
 "metadata": {
  "kernelspec": {
   "display_name": "Python 3",
   "language": "python",
   "name": "python3"
  },
  "language_info": {
   "codemirror_mode": {
    "name": "ipython",
    "version": 3
   },
   "file_extension": ".py",
   "mimetype": "text/x-python",
   "name": "python",
   "nbconvert_exporter": "python",
   "pygments_lexer": "ipython3",
   "version": "3.11.4"
  }
 },
 "nbformat": 4,
 "nbformat_minor": 5
}
