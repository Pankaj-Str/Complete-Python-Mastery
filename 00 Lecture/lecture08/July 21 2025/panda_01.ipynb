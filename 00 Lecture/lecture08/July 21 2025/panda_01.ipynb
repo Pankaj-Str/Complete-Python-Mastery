{
 "cells": [
  {
   "cell_type": "code",
   "execution_count": 1,
   "id": "a6e80810",
   "metadata": {},
   "outputs": [
    {
     "name": "stdout",
     "output_type": "stream",
     "text": [
      "Requirement already satisfied: pandas in c:\\users\\admin\\appdata\\local\\programs\\python\\python311\\lib\\site-packages (2.3.1)\n",
      "Requirement already satisfied: numpy>=1.23.2 in c:\\users\\admin\\appdata\\local\\programs\\python\\python311\\lib\\site-packages (from pandas) (2.3.1)\n",
      "Requirement already satisfied: python-dateutil>=2.8.2 in c:\\users\\admin\\appdata\\roaming\\python\\python311\\site-packages (from pandas) (2.9.0.post0)\n",
      "Requirement already satisfied: pytz>=2020.1 in c:\\users\\admin\\appdata\\local\\programs\\python\\python311\\lib\\site-packages (from pandas) (2025.2)\n",
      "Requirement already satisfied: tzdata>=2022.7 in c:\\users\\admin\\appdata\\local\\programs\\python\\python311\\lib\\site-packages (from pandas) (2023.3)\n",
      "Requirement already satisfied: six>=1.5 in c:\\users\\admin\\appdata\\roaming\\python\\python311\\site-packages (from python-dateutil>=2.8.2->pandas) (1.17.0)\n",
      "Note: you may need to restart the kernel to use updated packages.\n"
     ]
    },
    {
     "name": "stderr",
     "output_type": "stream",
     "text": [
      "\n",
      "[notice] A new release of pip is available: 23.1.2 -> 25.1.1\n",
      "[notice] To update, run: python.exe -m pip install --upgrade pip\n"
     ]
    }
   ],
   "source": [
    "%pip install pandas"
   ]
  },
  {
   "cell_type": "code",
   "execution_count": 2,
   "id": "e25a1b23",
   "metadata": {},
   "outputs": [
    {
     "name": "stdout",
     "output_type": "stream",
     "text": [
      "A      java\n",
      "B       c++\n",
      "C    python\n",
      "D        go\n",
      "E         r\n",
      "dtype: object\n"
     ]
    }
   ],
   "source": [
    "import pandas as pd\n",
    "\n",
    "data = ['java','c++','python','go','r']\n",
    "indexx = ['A','B','C','D','E'] \n",
    "s = pd.Series(data,index=indexx)\n",
    "print(s)"
   ]
  },
  {
   "cell_type": "code",
   "execution_count": 3,
   "id": "4a899e2f",
   "metadata": {},
   "outputs": [
    {
     "name": "stdout",
     "output_type": "stream",
     "text": [
      "      name  age    city\n",
      "a      joy   23  mumbai\n",
      "b    rahul   14  jaipur\n",
      "c  nishant   15   surat\n",
      "d     riya   67    pune\n"
     ]
    }
   ],
   "source": [
    "data = {\n",
    "    \"name\" : [\"joy\",\"rahul\",\"nishant\",\"riya\"],\n",
    "    \"age\" : [23,14,15,67],\n",
    "    \"city\":[\"mumbai\",\"jaipur\",\"surat\",\"pune\"]\n",
    "}\n",
    "indexx = ['a','b','c','d']\n",
    "df = pd.DataFrame(data,index=indexx)\n",
    "print(df)"
   ]
  },
  {
   "cell_type": "code",
   "execution_count": 7,
   "id": "a5cf54d0",
   "metadata": {},
   "outputs": [
    {
     "name": "stdout",
     "output_type": "stream",
     "text": [
      "   id          name                     email       contact   salary  \\\n",
      "0   1  Aarav Sharma  aarav.sharma@example.com           NaN  50000.0   \n",
      "1   2  Ananya Verma  ananya.verma@example.com  1.000000e+10  45000.0   \n",
      "2   3  Ishaan Gupta  ishaan.gupta@example.com  9.123457e+09  60000.0   \n",
      "3   4    Meera Nair    meera.nair@example.com  9.001235e+09  48000.0   \n",
      "4   5  Vivaan Singh  vivaan.singh@example.com           NaN  55000.0   \n",
      "\n",
      "          dob         doj  gender       city  \n",
      "0  1990-01-15  2015-03-01    male     Mumbai  \n",
      "1  1992-06-23  2016-08-15  female      Delhi  \n",
      "2  1988-03-12  2014-05-20    male  Bangalore  \n",
      "3  1991-12-01  2017-01-11  female    Chennai  \n",
      "4  1989-08-18  2015-09-05    male    Kolkata  \n"
     ]
    }
   ],
   "source": [
    "df = pd.read_csv(\"mydatabase.csv\")\n",
    "# print(df)\n",
    "print(df.head())"
   ]
  }
 ],
 "metadata": {
  "kernelspec": {
   "display_name": "Python 3",
   "language": "python",
   "name": "python3"
  },
  "language_info": {
   "codemirror_mode": {
    "name": "ipython",
    "version": 3
   },
   "file_extension": ".py",
   "mimetype": "text/x-python",
   "name": "python",
   "nbconvert_exporter": "python",
   "pygments_lexer": "ipython3",
   "version": "3.11.4"
  }
 },
 "nbformat": 4,
 "nbformat_minor": 5
}
