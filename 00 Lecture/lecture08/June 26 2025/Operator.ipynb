{
 "cells": [
  {
   "cell_type": "code",
   "execution_count": 10,
   "id": "243a57d4",
   "metadata": {},
   "outputs": [
    {
     "name": "stdout",
     "output_type": "stream",
     "text": [
      "469\n",
      "431\n",
      "8550\n",
      "23.68421052631579\n",
      "23\n",
      "257654517683599870491027832031250000000000000000000\n",
      "13\n"
     ]
    }
   ],
   "source": [
    "# operator\n",
    "x = 450\n",
    "y = 19\n",
    "\n",
    "print(x+y)\n",
    "print(x-y)\n",
    "print(x*y)\n",
    "print(x/y)\n",
    "print(x//y)\n",
    "print(x**y)\n",
    "print(x%y)"
   ]
  },
  {
   "cell_type": "code",
   "execution_count": 16,
   "id": "d57e2228",
   "metadata": {},
   "outputs": [
    {
     "name": "stdout",
     "output_type": "stream",
     "text": [
      "True\n",
      "False\n",
      "False\n",
      "True\n",
      "True\n",
      "False\n"
     ]
    }
   ],
   "source": [
    "print(10<90)\n",
    "print(10>90)\n",
    "print(10==90)\n",
    "print(10!=90)\n",
    "print(10<=90)\n",
    "print(10>=90)"
   ]
  },
  {
   "cell_type": "code",
   "execution_count": 29,
   "id": "b01cc044",
   "metadata": {},
   "outputs": [
    {
     "name": "stdout",
     "output_type": "stream",
     "text": [
      "False\n",
      "True\n",
      "True\n"
     ]
    }
   ],
   "source": [
    "# and \n",
    "# or \n",
    "# not = !\n",
    "print(23!=23 and 45 < 34 and 78 != 78 and 45 <= 34 or 89 < 80)\n",
    "\n",
    "print(not 23 == 34)\n",
    "\n",
    "print(23 != 34)\n"
   ]
  },
  {
   "cell_type": "code",
   "execution_count": 33,
   "id": "cb65f138",
   "metadata": {},
   "outputs": [
    {
     "name": "stdout",
     "output_type": "stream",
     "text": [
      "12\n",
      "22\n",
      "12\n",
      "120\n",
      "12.0\n"
     ]
    }
   ],
   "source": [
    "x = 12\n",
    "print(x)\n",
    "\n",
    "# x = x + 10\n",
    "x +=10\n",
    "print(x)\n",
    "\n",
    "x -=10\n",
    "print(x)\n",
    "\n",
    "x *=10\n",
    "print(x)\n",
    "\n",
    "x /=10\n",
    "print(x)"
   ]
  },
  {
   "cell_type": "code",
   "execution_count": null,
   "id": "ddd25838",
   "metadata": {},
   "outputs": [
    {
     "name": "stdout",
     "output_type": "stream",
     "text": [
      "False\n",
      "True\n"
     ]
    }
   ],
   "source": [
    "# is ==\n",
    "# is not !=\n",
    "a = 67\n",
    "b = 56\n",
    "print( a is b) \n",
    "\n",
    "print( a is not b) "
   ]
  },
  {
   "cell_type": "code",
   "execution_count": 38,
   "id": "1b8dfc07",
   "metadata": {},
   "outputs": [
    {
     "name": "stdout",
     "output_type": "stream",
     "text": [
      "True\n",
      "False\n"
     ]
    }
   ],
   "source": [
    "# in \n",
    "# not in \n",
    "data1 = \"cwpc\"\n",
    "data2 = \"c\"\n",
    "\n",
    "print(data2 in data1)\n",
    "print(data2 not in  data1)"
   ]
  }
 ],
 "metadata": {
  "kernelspec": {
   "display_name": "Python 3",
   "language": "python",
   "name": "python3"
  },
  "language_info": {
   "codemirror_mode": {
    "name": "ipython",
    "version": 3
   },
   "file_extension": ".py",
   "mimetype": "text/x-python",
   "name": "python",
   "nbconvert_exporter": "python",
   "pygments_lexer": "ipython3",
   "version": "3.11.4"
  }
 },
 "nbformat": 4,
 "nbformat_minor": 5
}
