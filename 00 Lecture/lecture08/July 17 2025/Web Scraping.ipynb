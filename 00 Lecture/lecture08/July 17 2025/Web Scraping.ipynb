{
 "cells": [
  {
   "cell_type": "code",
   "execution_count": 1,
   "id": "0b3b7194",
   "metadata": {},
   "outputs": [
    {
     "name": "stdout",
     "output_type": "stream",
     "text": [
      "Requirement already satisfied: requests in c:\\users\\admin\\appdata\\local\\programs\\python\\python311\\lib\\site-packages (2.32.4)\n",
      "Requirement already satisfied: beautifulsoup4 in c:\\users\\admin\\appdata\\local\\programs\\python\\python311\\lib\\site-packages (4.13.4)\n",
      "Requirement already satisfied: charset_normalizer<4,>=2 in c:\\users\\admin\\appdata\\local\\programs\\python\\python311\\lib\\site-packages (from requests) (3.4.2)\n",
      "Requirement already satisfied: idna<4,>=2.5 in c:\\users\\admin\\appdata\\local\\programs\\python\\python311\\lib\\site-packages (from requests) (3.10)\n",
      "Requirement already satisfied: urllib3<3,>=1.21.1 in c:\\users\\admin\\appdata\\local\\programs\\python\\python311\\lib\\site-packages (from requests) (2.5.0)\n",
      "Requirement already satisfied: certifi>=2017.4.17 in c:\\users\\admin\\appdata\\local\\programs\\python\\python311\\lib\\site-packages (from requests) (2025.7.14)\n",
      "Requirement already satisfied: soupsieve>1.2 in c:\\users\\admin\\appdata\\local\\programs\\python\\python311\\lib\\site-packages (from beautifulsoup4) (2.7)\n",
      "Requirement already satisfied: typing-extensions>=4.0.0 in c:\\users\\admin\\appdata\\roaming\\python\\python311\\site-packages (from beautifulsoup4) (4.14.0)\n",
      "Note: you may need to restart the kernel to use updated packages.\n"
     ]
    },
    {
     "name": "stderr",
     "output_type": "stream",
     "text": [
      "\n",
      "[notice] A new release of pip is available: 23.1.2 -> 25.1.1\n",
      "[notice] To update, run: python.exe -m pip install --upgrade pip\n"
     ]
    }
   ],
   "source": [
    "%pip install requests beautifulsoup4"
   ]
  },
  {
   "cell_type": "code",
   "execution_count": 2,
   "id": "ecea36d1",
   "metadata": {},
   "outputs": [],
   "source": [
    "# steps no. 1\n",
    "# import lib \n",
    "import requests\n",
    "from bs4 import BeautifulSoup\n",
    "import re\n",
    "import csv"
   ]
  },
  {
   "cell_type": "code",
   "execution_count": 3,
   "id": "4ab6c8dc",
   "metadata": {},
   "outputs": [],
   "source": [
    "# Step no 2\n",
    "# https://books.toscrape.com/\n",
    "\n",
    "url = \"https://books.toscrape.com/\"\n",
    "response = requests.get(url)\n",
    "\n",
    "# check request \n",
    "if response.status_code != 200:\n",
    "    print(\"failed to fetch page..\")\n",
    "    exit()"
   ]
  },
  {
   "cell_type": "code",
   "execution_count": 4,
   "id": "6a66a986",
   "metadata": {},
   "outputs": [],
   "source": [
    "# step 3 : Parse the html\n",
    "soup = BeautifulSoup(response.text,\"html.parser\")"
   ]
  },
  {
   "cell_type": "code",
   "execution_count": 5,
   "id": "e27dc1f5",
   "metadata": {},
   "outputs": [
    {
     "name": "stdout",
     "output_type": "stream",
     "text": [
      "[['A Light in the Attic', '51.77'], ['Tipping the Velvet', '53.74'], ['Soumission', '50.10'], ['Sharp Objects', '47.82'], ['Sapiens: A Brief History of Humankind', '54.23'], ['The Requiem Red', '22.65'], ['The Dirty Little Secrets of Getting Your Dream Job', '33.34'], ['The Coming Woman: A Novel Based on the Life of the Infamous Feminist, Victoria Woodhull', '17.93'], ['The Boys in the Boat: Nine Americans and Their Epic Quest for Gold at the 1936 Berlin Olympics', '22.60'], ['The Black Maria', '52.15'], ['Starving Hearts (Triangular Trade Trilogy, #1)', '13.99'], [\"Shakespeare's Sonnets\", '20.66'], ['Set Me Free', '17.46'], [\"Scott Pilgrim's Precious Little Life (Scott Pilgrim #1)\", '52.29'], ['Rip it Up and Start Again', '35.02'], ['Our Band Could Be Your Life: Scenes from the American Indie Underground, 1981-1991', '57.25'], ['Olio', '23.88'], ['Mesaerion: The Best Science Fiction Stories 1800-1849', '37.59'], ['Libertarianism for Beginners', '51.33'], [\"It's Only the Himalayas\", '45.17']]\n",
      "['A Light in the Attic', '51.77']\n",
      "['Tipping the Velvet', '53.74']\n",
      "['Soumission', '50.10']\n",
      "['Sharp Objects', '47.82']\n",
      "['Sapiens: A Brief History of Humankind', '54.23']\n",
      "['The Requiem Red', '22.65']\n",
      "['The Dirty Little Secrets of Getting Your Dream Job', '33.34']\n",
      "['The Coming Woman: A Novel Based on the Life of the Infamous Feminist, Victoria Woodhull', '17.93']\n",
      "['The Boys in the Boat: Nine Americans and Their Epic Quest for Gold at the 1936 Berlin Olympics', '22.60']\n",
      "['The Black Maria', '52.15']\n",
      "['Starving Hearts (Triangular Trade Trilogy, #1)', '13.99']\n",
      "[\"Shakespeare's Sonnets\", '20.66']\n",
      "['Set Me Free', '17.46']\n",
      "[\"Scott Pilgrim's Precious Little Life (Scott Pilgrim #1)\", '52.29']\n",
      "['Rip it Up and Start Again', '35.02']\n",
      "['Our Band Could Be Your Life: Scenes from the American Indie Underground, 1981-1991', '57.25']\n",
      "['Olio', '23.88']\n",
      "['Mesaerion: The Best Science Fiction Stories 1800-1849', '37.59']\n",
      "['Libertarianism for Beginners', '51.33']\n",
      "[\"It's Only the Himalayas\", '45.17']\n"
     ]
    }
   ],
   "source": [
    "# step 4 Extract book title and price \n",
    "\n",
    "books = soup.find_all(\"article\",class_=\"product_pod\")\n",
    "data = []\n",
    "for book in books:\n",
    "    # get book title\n",
    "    title = book.find(\"h3\").find(\"a\")[\"title\"]\n",
    "    price_text = book.find(\"p\",class_=\"price_color\").text\n",
    "    price_match = re.search(r\"£(\\d+\\.\\d{2})\",price_text)\n",
    "    price = price_match.group(1) if price_match else \"N/A\"\n",
    "    \n",
    "    data.append([title,price])\n",
    "    \n",
    "print(data) \n",
    "\n",
    "for i in data:\n",
    "    print(i) \n",
    "    "
   ]
  },
  {
   "cell_type": "code",
   "execution_count": 7,
   "id": "ca67d465",
   "metadata": {},
   "outputs": [
    {
     "name": "stdout",
     "output_type": "stream",
     "text": [
      "data save done ... (y)\n"
     ]
    }
   ],
   "source": [
    "# step 4 save to csv\n",
    "\n",
    "with open(\"data_books.csv\",\"w\", newline=\"\",encoding=\"utf-8\" ) as file:\n",
    "    writer = csv.writer(file)\n",
    "    writer.writerow([\"Title\",\"Price ($)\"]) # header\n",
    "    writer.writerows(data)\n",
    "    \n",
    "print(\"data save done ... (y)\")    \n",
    "    "
   ]
  }
 ],
 "metadata": {
  "kernelspec": {
   "display_name": "Python 3",
   "language": "python",
   "name": "python3"
  },
  "language_info": {
   "codemirror_mode": {
    "name": "ipython",
    "version": 3
   },
   "file_extension": ".py",
   "mimetype": "text/x-python",
   "name": "python",
   "nbconvert_exporter": "python",
   "pygments_lexer": "ipython3",
   "version": "3.11.4"
  }
 },
 "nbformat": 4,
 "nbformat_minor": 5
}
