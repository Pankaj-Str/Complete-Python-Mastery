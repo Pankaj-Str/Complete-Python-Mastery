{
 "cells": [
  {
   "cell_type": "code",
   "execution_count": 24,
   "id": "9edbe5bf",
   "metadata": {},
   "outputs": [
    {
     "name": "stdout",
     "output_type": "stream",
     "text": [
      "Found : Joy\n"
     ]
    }
   ],
   "source": [
    "import re\n",
    "\n",
    "text = \"Hello , My name is Joy and my age 34\"\n",
    "pattern = r\"Joy\"\n",
    "\n",
    "match = re.search(pattern,text)\n",
    "\n",
    "# print(match)\n",
    "\n",
    "if match:\n",
    "    print(\"Found :\",match.group())\n",
    "else:\n",
    "    print(\"not found\")"
   ]
  },
  {
   "cell_type": "code",
   "execution_count": 25,
   "id": "41a0abf0",
   "metadata": {},
   "outputs": [
    {
     "name": "stdout",
     "output_type": "stream",
     "text": [
      "number found  34\n"
     ]
    }
   ],
   "source": [
    "match = re.search(r'\\d+', text)\n",
    "\n",
    "if match:\n",
    "    print(\"number found \",match.group())"
   ]
  },
  {
   "cell_type": "code",
   "execution_count": 27,
   "id": "765ff702",
   "metadata": {},
   "outputs": [
    {
     "name": "stdout",
     "output_type": "stream",
     "text": [
      "['123', '456', '7890']\n"
     ]
    }
   ],
   "source": [
    "# matching digit\n",
    "\n",
    "text = \"My phone number is 123-456-7890\"\n",
    "pattern = r\"\\d+\"\n",
    "\n",
    "numbers = re.findall(pattern,text)\n",
    "print(numbers) "
   ]
  },
  {
   "cell_type": "code",
   "execution_count": 43,
   "id": "89094ea6",
   "metadata": {},
   "outputs": [
    {
     "name": "stdout",
     "output_type": "stream",
     "text": [
      "Valid email\n"
     ]
    }
   ],
   "source": [
    "email = \"codeswithpankaj@gmail.com\"\n",
    "\n",
    "pattern = r\"^[a-zA-Z0-9._%]+@[a-zA-Z0-9.-]+\\.[a-zA-Z]{2,}$\"\n",
    "\n",
    "if re.match(pattern,email):\n",
    "    print(\"Valid email\")\n",
    "else:\n",
    "    print(\"Invalid email\")"
   ]
  },
  {
   "cell_type": "code",
   "execution_count": 46,
   "id": "b6583890",
   "metadata": {},
   "outputs": [
    {
     "name": "stdout",
     "output_type": "stream",
     "text": [
      "my number is  XXX-XXX-XXX.\n"
     ]
    }
   ],
   "source": [
    "text = \"my number is  123-456-7890.\"\n",
    "pattern = r\"\\d+\"\n",
    "result = re.sub(pattern, \"XXX\",text)\n",
    "print(result)"
   ]
  },
  {
   "cell_type": "code",
   "execution_count": 51,
   "id": "7eb2cc34",
   "metadata": {},
   "outputs": [
    {
     "name": "stdout",
     "output_type": "stream",
     "text": [
      "User Name : info , Domain : codeswithpanakj.com\n"
     ]
    }
   ],
   "source": [
    "text = \"this is my contact email id : info@codeswithpanakj.com\"\n",
    "\n",
    "pattern = r\"(\\w+)@([\\w.]+)\"\n",
    "\n",
    "match = re.search(pattern,text)\n",
    "if match:\n",
    "    username = match.group(1)\n",
    "    domain = match.group(2)\n",
    "    print(f'User Name : {username} , Domain : {domain}')\n",
    "    # print(username,'@',domain)\n"
   ]
  },
  {
   "cell_type": "code",
   "execution_count": null,
   "id": "79ad0713",
   "metadata": {},
   "outputs": [
    {
     "name": "stdout",
     "output_type": "stream",
     "text": [
      "['info@cwpc.in', 'sales@hr.com', 'hr@gmail.com']\n",
      "info@cwpc.in\n",
      "sales@hr.com\n",
      "hr@gmail.com\n"
     ]
    }
   ],
   "source": [
    "text = \"Others who use this device wont see your activity, so you can browse more privately. info@cwpc.in This wont change how data is collected by websites you visit and the services they use, sales@hr.com including Google. Downloads, bookmarks hr@gmail.com and reading list items will be saved.\"\n",
    "\n",
    "emails = re.findall(r'[\\w.-]+@[\\w.-]+', text)\n",
    "print(emails)\n",
    "\n",
    "for i in emails:\n",
    "    print(i)"
   ]
  }
 ],
 "metadata": {
  "kernelspec": {
   "display_name": "Python 3",
   "language": "python",
   "name": "python3"
  },
  "language_info": {
   "codemirror_mode": {
    "name": "ipython",
    "version": 3
   },
   "file_extension": ".py",
   "mimetype": "text/x-python",
   "name": "python",
   "nbconvert_exporter": "python",
   "pygments_lexer": "ipython3",
   "version": "3.11.4"
  }
 },
 "nbformat": 4,
 "nbformat_minor": 5
}
