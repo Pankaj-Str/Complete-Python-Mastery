{
 "cells": [
  {
   "cell_type": "code",
   "execution_count": 4,
   "id": "ff08a779",
   "metadata": {},
   "outputs": [
    {
     "name": "stdout",
     "output_type": "stream",
     "text": [
      "welcome\n",
      "<class 'str'>\n",
      "l\n",
      "o\n"
     ]
    }
   ],
   "source": [
    "# string \n",
    "\n",
    "data = \"welcome\"\n",
    "print(data)\n",
    "\n",
    "print(type(data))\n",
    "\n",
    "print(data[2])\n",
    "print(data[-3])\n"
   ]
  },
  {
   "cell_type": "code",
   "execution_count": 11,
   "id": "1e8e5624",
   "metadata": {},
   "outputs": [
    {
     "name": "stdout",
     "output_type": "stream",
     "text": [
      "Welcome to 'Python'\n",
      "e\n",
      "y\n",
      "to\n"
     ]
    }
   ],
   "source": [
    "data = \"Welcome to 'Python'\"\n",
    "print(data)\n",
    "\n",
    "print(data[6])\n",
    "print(data[13])\n",
    "\n",
    "print(data[8:10])"
   ]
  },
  {
   "cell_type": "code",
   "execution_count": 10,
   "id": "a72f7f7f",
   "metadata": {},
   "outputs": [
    {
     "name": "stdout",
     "output_type": "stream",
     "text": [
      "'\n"
     ]
    }
   ],
   "source": [
    "data = \"'python'\"\n",
    "print(data[0])"
   ]
  },
  {
   "cell_type": "code",
   "execution_count": 12,
   "id": "7b183a9b",
   "metadata": {},
   "outputs": [
    {
     "name": "stdout",
     "output_type": "stream",
     "text": [
      "19\n"
     ]
    }
   ],
   "source": [
    "print(len(data))"
   ]
  },
  {
   "cell_type": "code",
   "execution_count": 13,
   "id": "6f02b13b",
   "metadata": {},
   "outputs": [
    {
     "name": "stdout",
     "output_type": "stream",
     "text": [
      "p\n",
      "r\n",
      "o\n",
      "g\n",
      "r\n",
      "a\n",
      "m\n",
      "m\n",
      "i\n",
      "n\n",
      "g\n"
     ]
    }
   ],
   "source": [
    "data = \"programming\"\n",
    "for i in data:\n",
    "    print(i)"
   ]
  },
  {
   "cell_type": "code",
   "execution_count": 14,
   "id": "33e5d10e",
   "metadata": {},
   "outputs": [
    {
     "name": "stdout",
     "output_type": "stream",
     "text": [
      "True\n"
     ]
    }
   ],
   "source": [
    "data = \"programming\"\n",
    "\n",
    "print('g' in data)"
   ]
  },
  {
   "cell_type": "code",
   "execution_count": null,
   "id": "f13b844e",
   "metadata": {},
   "outputs": [
    {
     "name": "stdout",
     "output_type": "stream",
     "text": [
      "my name is joy and age 23 \n",
      "my age is 23 and name joy \n",
      "my name is joy and age 23\n"
     ]
    }
   ],
   "source": [
    "# format()\n",
    "\n",
    "name = \"joy\"\n",
    "age = 23\n",
    "\n",
    "print(\"my name is {0} and age {1} \".format(name,age))\n",
    "\n",
    "print(\"my age is {1} and name {0} \".format(name,age))\n",
    "\n",
    "print(f'my name is {name} and age {age}')"
   ]
  },
  {
   "cell_type": "code",
   "execution_count": 62,
   "id": "8591ac93",
   "metadata": {},
   "outputs": [
    {
     "name": "stdout",
     "output_type": "stream",
     "text": [
      "PYTHON PROGRAMMING\n",
      "python programming\n",
      "('Python', ' ', 'Programming')\n",
      "Go Programming\n",
      "0\n",
      "python     this is Programming\n",
      "python this is Programming\n",
      "['java', 'python', 'go', 'ruby', 'ios']\n",
      "('java', ',', 'python,go,ruby,ios')\n",
      "True\n",
      "<class 'str'>\n",
      "True\n",
      "2\n"
     ]
    }
   ],
   "source": [
    "# 1. upper() converts the string to uppercase\n",
    "data = \"Python Programming\"\n",
    "print(data.upper())\n",
    "# 2. lower() converts the string to lowercase\n",
    "print(data.lower())\n",
    "# 3. partition() returns a tuple\n",
    "print(data.partition(\" \"))\n",
    "# 4. replace() replaces substring inside\n",
    "print(data.replace(\"Python\",\"Go\"))\n",
    "# 5. find() returns the index of first occurrence of substring\n",
    "print(data.find(\"P\"))\n",
    "# 6. rstrip() removes trailing characters\n",
    "data = \"python    \"\n",
    "print(data,\"this is Programming\")\n",
    "print(data.rstrip(),\"this is Programming\")\n",
    "# 7. split() splits string from left\n",
    "data = \"java,python,go,ruby,ios\"\n",
    "print(data.split(\",\"))\n",
    "print(data.partition(\",\"))\n",
    "# 8. startswith() checks if string starts with the specified string\n",
    "data = \"python\"\n",
    "print(data.startswith(\"p\"))\n",
    "# 9. isnumeric() checks numeric characters\n",
    "data = \"123\"\n",
    "print(type(data))\n",
    "print(data.isnumeric())\n",
    "# 10. index() returns index of substring\n",
    "data = \"python\"\n",
    "print(data.index(\"t\"))\t\t\t"
   ]
  },
  {
   "cell_type": "code",
   "execution_count": 60,
   "id": "19b0b829",
   "metadata": {},
   "outputs": [
    {
     "name": "stdout",
     "output_type": "stream",
     "text": [
      "n\n",
      "py\n"
     ]
    }
   ],
   "source": [
    "Data = \"python\"\n",
    "print(Data[5:])\n",
    "print(Data[:2])"
   ]
  },
  {
   "cell_type": "code",
   "execution_count": 69,
   "id": "a3c04da7",
   "metadata": {},
   "outputs": [
    {
     "name": "stdout",
     "output_type": "stream",
     "text": [
      "p is find \n"
     ]
    }
   ],
   "source": [
    "word = str(input(\"enter char ... \"))\n",
    "for i in data:\n",
    "    if i == word:\n",
    "        print(f\"{word} is find \")\n",
    "        break\n",
    "    else:\n",
    "        print(f\"{word} is not find\")\n",
    "        break\n",
    "        "
   ]
  },
  {
   "cell_type": "code",
   "execution_count": null,
   "id": "7b249009",
   "metadata": {},
   "outputs": [],
   "source": [
    "# --- input section \n",
    "# Enter Your Name : - Joy\n",
    "# Enter Your Roll Number : AT009\n",
    "# Enter Java Marks / 100 = 76 \n",
    "# Enter C++ Marks / 100 = 70 \n",
    "# Enter Python Marks / 100 = 12 \n",
    "# Enter ML Marks / 100 = 46 \n",
    "# Enter DSA Marks / 100 = 8\n",
    "\n",
    "# java = 76/100 P\n",
    "# C++ = 70/100 P\n",
    "# Python = 12/100 F\n",
    "# ML = 46/100 P\n",
    "# DSA = 8/100 F\n",
    "\n",
    "# Result = Fail | B\n",
    "# per = 56"
   ]
  }
 ],
 "metadata": {
  "kernelspec": {
   "display_name": "Python 3",
   "language": "python",
   "name": "python3"
  },
  "language_info": {
   "codemirror_mode": {
    "name": "ipython",
    "version": 3
   },
   "file_extension": ".py",
   "mimetype": "text/x-python",
   "name": "python",
   "nbconvert_exporter": "python",
   "pygments_lexer": "ipython3",
   "version": "3.11.4"
  }
 },
 "nbformat": 4,
 "nbformat_minor": 5
}
