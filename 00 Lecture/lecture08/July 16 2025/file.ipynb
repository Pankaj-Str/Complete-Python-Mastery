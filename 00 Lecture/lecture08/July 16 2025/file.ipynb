{
 "cells": [
  {
   "cell_type": "code",
   "execution_count": null,
   "id": "3772cc95",
   "metadata": {},
   "outputs": [],
   "source": [
    "# Read = r\n",
    "# write = w\n",
    "# append = a"
   ]
  },
  {
   "cell_type": "code",
   "execution_count": 1,
   "id": "714be80b",
   "metadata": {},
   "outputs": [],
   "source": [
    "with open(\"cwpc.txt\",\"w\") as file:\n",
    "    file.write(\"welcome to python programming....\")\n",
    "    "
   ]
  },
  {
   "cell_type": "code",
   "execution_count": 2,
   "id": "c3233d59",
   "metadata": {},
   "outputs": [
    {
     "name": "stdout",
     "output_type": "stream",
     "text": [
      "welcome to python programming....\n"
     ]
    }
   ],
   "source": [
    "with open(\"cwpc.txt\",\"r\") as file:\n",
    "    data = file.read()\n",
    "    print(data)"
   ]
  },
  {
   "cell_type": "code",
   "execution_count": 3,
   "id": "e3ff46b0",
   "metadata": {},
   "outputs": [],
   "source": [
    "with open(\"cwpc.txt\",\"a\") as file:\n",
    "    file.write(\"this is best Python\")"
   ]
  },
  {
   "cell_type": "code",
   "execution_count": 21,
   "id": "230632c6",
   "metadata": {},
   "outputs": [
    {
     "name": "stdout",
     "output_type": "stream",
     "text": [
      "python programming....this is best Python\n"
     ]
    }
   ],
   "source": [
    "with open('cwpc.txt', 'r') as file:\n",
    "    size = file.seek(11) \n",
    "    print(f\"{file.read()}\")"
   ]
  }
 ],
 "metadata": {
  "kernelspec": {
   "display_name": "Python 3",
   "language": "python",
   "name": "python3"
  },
  "language_info": {
   "codemirror_mode": {
    "name": "ipython",
    "version": 3
   },
   "file_extension": ".py",
   "mimetype": "text/x-python",
   "name": "python",
   "nbconvert_exporter": "python",
   "pygments_lexer": "ipython3",
   "version": "3.11.4"
  }
 },
 "nbformat": 4,
 "nbformat_minor": 5
}
