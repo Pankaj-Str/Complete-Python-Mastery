{
 "cells": [
  {
   "cell_type": "code",
   "execution_count": 1,
   "id": "ac38d19d",
   "metadata": {},
   "outputs": [],
   "source": [
    "class bank:\n",
    "    def __init__(self,creditcard,creditlimit):\n",
    "        self.creditcard = creditcard\n",
    "        self.creditlimit = creditlimit    \n",
    "    def set_creditcard(self,creditcard):\n",
    "        self.creditcard = creditcard   \n",
    "    def set_creditlimit(self,creditlimit):\n",
    "        self.creditlimit = creditlimit\n",
    "    def get_creditcard(self):\n",
    "        return self.creditcard\n",
    "    def get_creditlimit(self):\n",
    "        return self.creditlimit       "
   ]
  },
  {
   "cell_type": "code",
   "execution_count": 4,
   "id": "ec0411f8",
   "metadata": {},
   "outputs": [
    {
     "name": "stdout",
     "output_type": "stream",
     "text": [
      "Your Card Number :  0001-1452-5630\n",
      "Your Card Limit :  75000\n",
      "Your Card Number :  0001-1452-5630\n",
      "Your Card Limit :  120000\n"
     ]
    }
   ],
   "source": [
    "b = bank(\"0001-1452-5630\",75000)\n",
    "print(\"Your Card Number : \",b.get_creditcard())\n",
    "print(\"Your Card Limit : \",b.get_creditlimit())\n",
    "b.set_creditlimit(120000)\n",
    "print(\"Your Card Number : \",b.get_creditcard())\n",
    "print(\"Your Card Limit : \",b.get_creditlimit())\n"
   ]
  },
  {
   "cell_type": "code",
   "execution_count": null,
   "id": "11530c73",
   "metadata": {},
   "outputs": [],
   "source": []
  }
 ],
 "metadata": {
  "kernelspec": {
   "display_name": "Python 3",
   "language": "python",
   "name": "python3"
  },
  "language_info": {
   "codemirror_mode": {
    "name": "ipython",
    "version": 3
   },
   "file_extension": ".py",
   "mimetype": "text/x-python",
   "name": "python",
   "nbconvert_exporter": "python",
   "pygments_lexer": "ipython3",
   "version": "3.11.4"
  }
 },
 "nbformat": 4,
 "nbformat_minor": 5
}
