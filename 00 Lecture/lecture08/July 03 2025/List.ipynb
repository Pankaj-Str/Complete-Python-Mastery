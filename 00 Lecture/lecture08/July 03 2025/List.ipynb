{
 "cells": [
  {
   "cell_type": "code",
   "execution_count": 2,
   "id": "29fc169b",
   "metadata": {},
   "outputs": [
    {
     "name": "stdout",
     "output_type": "stream",
     "text": [
      "[22, 34, 56, 78, 90]\n",
      "56\n"
     ]
    }
   ],
   "source": [
    "data = [22,34,56,78,90]\n",
    "print(data)\n",
    "print(data[2])"
   ]
  },
  {
   "cell_type": "code",
   "execution_count": 3,
   "id": "2a97e0d8",
   "metadata": {},
   "outputs": [
    {
     "name": "stdout",
     "output_type": "stream",
     "text": [
      "3\n"
     ]
    }
   ],
   "source": [
    "data = [22,34,56,78,[1,2,3,4],90]\n",
    "print(data[4][2])"
   ]
  },
  {
   "cell_type": "code",
   "execution_count": 5,
   "id": "8065f623",
   "metadata": {},
   "outputs": [],
   "source": [
    "data = [22,34,[56,78],7,[1,2,[55,['a','b','f'],67],3,['p','n'],4],90]"
   ]
  },
  {
   "cell_type": "code",
   "execution_count": 21,
   "id": "3cb62495",
   "metadata": {},
   "outputs": [
    {
     "name": "stdout",
     "output_type": "stream",
     "text": [
      "56\n",
      "a\n",
      "3\n",
      "n\n",
      "4\n"
     ]
    }
   ],
   "source": [
    "print(data[2][0])\n",
    "print(data[4][2][1][0])\n",
    "print(data[4][3])\n",
    "print(data[4][4][1])\n",
    "print(data[4][5])\n"
   ]
  },
  {
   "cell_type": "code",
   "execution_count": null,
   "id": "397ca65a",
   "metadata": {},
   "outputs": [
    {
     "name": "stdout",
     "output_type": "stream",
     "text": [
      "[22, 33, 44, 55, 66]\n",
      "[22, 33, 44, 55, 66, 10]\n"
     ]
    }
   ],
   "source": [
    "data = [22,33,44,55,66]\n",
    "print(data)\n",
    "\n",
    "# append()\n",
    "data.append(10)\n",
    "print(data)\n"
   ]
  },
  {
   "cell_type": "code",
   "execution_count": null,
   "id": "d41762f1",
   "metadata": {},
   "outputs": [
    {
     "name": "stdout",
     "output_type": "stream",
     "text": [
      "[22, 33, 99, 44, 55, 66, 10]\n"
     ]
    }
   ],
   "source": [
    "# insert()\n",
    "data.insert(2,99)\n",
    "print(data)"
   ]
  },
  {
   "cell_type": "code",
   "execution_count": 25,
   "id": "50dea9d1",
   "metadata": {},
   "outputs": [
    {
     "name": "stdout",
     "output_type": "stream",
     "text": [
      "[22, 33, 99, 44, 55, 66, 10, 30, 70, 90]\n"
     ]
    }
   ],
   "source": [
    "new_data = [30,70,90]\n",
    "# extend()\n",
    "data.extend(new_data)\n",
    "print(data)"
   ]
  },
  {
   "cell_type": "code",
   "execution_count": null,
   "id": "012c3a22",
   "metadata": {},
   "outputs": [
    {
     "name": "stdout",
     "output_type": "stream",
     "text": [
      "[22, 333, 99, 44, 55, 66, 10, 30, 70, 90]\n",
      "[99, 44, 55]\n"
     ]
    }
   ],
   "source": [
    "# update \n",
    "data[1] = 333\n",
    "print(data)\n",
    "\n"
   ]
  },
  {
   "cell_type": "code",
   "execution_count": 28,
   "id": "6740602c",
   "metadata": {},
   "outputs": [
    {
     "name": "stdout",
     "output_type": "stream",
     "text": [
      "[22, 333, 23, 24, 25, 66, 10, 30, 70, 90]\n"
     ]
    }
   ],
   "source": [
    "data[2:5] = 23,24,25\n",
    "print(data)"
   ]
  },
  {
   "cell_type": "code",
   "execution_count": 37,
   "id": "5f073bcc",
   "metadata": {},
   "outputs": [
    {
     "name": "stdout",
     "output_type": "stream",
     "text": [
      "[22, 333, 23]\n",
      "[22, 333]\n"
     ]
    }
   ],
   "source": [
    "print(data)\n",
    "data.pop()\n",
    "print(data)"
   ]
  },
  {
   "cell_type": "code",
   "execution_count": 38,
   "id": "557b3a33",
   "metadata": {},
   "outputs": [],
   "source": [
    "data.clear()"
   ]
  },
  {
   "cell_type": "code",
   "execution_count": 39,
   "id": "2054cb49",
   "metadata": {},
   "outputs": [
    {
     "name": "stdout",
     "output_type": "stream",
     "text": [
      "[]\n"
     ]
    }
   ],
   "source": [
    "print(data)"
   ]
  },
  {
   "cell_type": "code",
   "execution_count": 49,
   "id": "4d0b9418",
   "metadata": {},
   "outputs": [
    {
     "name": "stdout",
     "output_type": "stream",
     "text": [
      "1\n",
      "3\n",
      "[1, 2, 3, 23, 24, 25, 25, 25, 50]\n",
      "[50, 25, 25, 25, 24, 23, 3, 2, 1]\n",
      "[50, 25, 25, 25, 24, 23, 3, 2, 1]\n",
      "9\n"
     ]
    }
   ],
   "source": [
    "# append()\n",
    "# extend()\n",
    "# insert()\n",
    "# remove()\n",
    "# pop()\n",
    "# clear()\n",
    "# index()\n",
    "data = [23,24,25,25,25,1,2,3,50]\n",
    "print(data.index(24))\n",
    "# count()\n",
    "print(data.count(25))\n",
    "# sort()\n",
    "data.sort()\n",
    "print(data)\n",
    "# reverse()\n",
    "data.reverse()\n",
    "print(data)\n",
    "# copy()\n",
    "d=data.copy()\n",
    "print(d)\n",
    "# len\n",
    "print(len(data))"
   ]
  },
  {
   "cell_type": "code",
   "execution_count": 50,
   "id": "65bd352a",
   "metadata": {},
   "outputs": [
    {
     "name": "stdout",
     "output_type": "stream",
     "text": [
      "apple\n",
      "blueberry\n",
      "cherry\n",
      "orange\n",
      "mango\n",
      "grape\n"
     ]
    }
   ],
   "source": [
    "data = ['apple', 'blueberry', 'cherry', 'orange', 'mango', 'grape']\n",
    "for i in data:\n",
    "    print(i)"
   ]
  },
  {
   "cell_type": "code",
   "execution_count": 53,
   "id": "98bbb67f",
   "metadata": {},
   "outputs": [
    {
     "name": "stdout",
     "output_type": "stream",
     "text": [
      "3\n",
      "5\n"
     ]
    }
   ],
   "source": [
    "data = [2,3,41,5,1,2,3]\n",
    "print(data.index(5))\n",
    "data.sort()\n",
    "print(data.index(5))"
   ]
  },
  {
   "cell_type": "code",
   "execution_count": 57,
   "id": "223cb555",
   "metadata": {},
   "outputs": [
    {
     "name": "stdout",
     "output_type": "stream",
     "text": [
      "['pav', 'vada', 'jalebi']\n"
     ]
    }
   ],
   "source": [
    "# how to take user input \n",
    "size = int(input('Enter List Size '))\n",
    "food_list = []\n",
    "for i in range(size):\n",
    "    i = input(f\"enter Product Name {i+1}\")\n",
    "    food_list.append(i)\n",
    "\n",
    "print(food_list)\n"
   ]
  }
 ],
 "metadata": {
  "kernelspec": {
   "display_name": "Python 3",
   "language": "python",
   "name": "python3"
  },
  "language_info": {
   "codemirror_mode": {
    "name": "ipython",
    "version": 3
   },
   "file_extension": ".py",
   "mimetype": "text/x-python",
   "name": "python",
   "nbconvert_exporter": "python",
   "pygments_lexer": "ipython3",
   "version": "3.11.4"
  }
 },
 "nbformat": 4,
 "nbformat_minor": 5
}
