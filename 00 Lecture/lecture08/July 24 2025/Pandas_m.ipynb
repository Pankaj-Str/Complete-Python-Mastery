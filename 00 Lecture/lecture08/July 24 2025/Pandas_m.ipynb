{
 "cells": [
  {
   "cell_type": "code",
   "execution_count": 2,
   "id": "97177ccf",
   "metadata": {},
   "outputs": [],
   "source": [
    "import pandas as pd\n",
    "import numpy as np"
   ]
  },
  {
   "cell_type": "code",
   "execution_count": 8,
   "id": "8cf560c1",
   "metadata": {},
   "outputs": [
    {
     "name": "stdout",
     "output_type": "stream",
     "text": [
      "DataFrame from dictionary:\n",
      "    Product  Price\n",
      "P1   Apple   1.00\n",
      "P2  Banana   0.50\n",
      "P3  Orange   0.75\n"
     ]
    }
   ],
   "source": [
    "# From a dictionary\n",
    "data = {\n",
    "    'Product': ['Apple', 'Banana', 'Orange'], \n",
    "    'Price': [1.0, 0.5, 0.75]\n",
    "    }\n",
    "indexx = ['P1', 'P2', 'P3']\n",
    "df = pd.DataFrame(data, index=indexx)\n",
    "print(\"DataFrame from dictionary:\\n\", df)"
   ]
  },
  {
   "cell_type": "code",
   "execution_count": 14,
   "id": "d80bd1cf",
   "metadata": {},
   "outputs": [
    {
     "name": "stdout",
     "output_type": "stream",
     "text": [
      "Merged DataFrame:\n",
      "   Product  Price Region\n",
      "0   Apple   1.00  North\n",
      "1  Banana   0.50  South\n",
      "2   Books    NaN  North\n",
      "3  Orange   0.75    NaN\n"
     ]
    }
   ],
   "source": [
    "# Creating another DataFrame\n",
    "data2 = {\n",
    "    'Product': ['Apple', 'Banana','Books'], \n",
    "    'Region': ['North', 'South','North']\n",
    "    }\n",
    "df2 = pd.DataFrame(data2)\n",
    "\n",
    "# Merging DataFrames\n",
    "merged = pd.merge(df, df2, on='Product', how='outer')\n",
    "print(\"Merged DataFrame:\\n\", merged)\n",
    "# how{‘left’, ‘right’, ‘outer’, ‘inner’, ‘cross’}, default ‘inner’"
   ]
  }
 ],
 "metadata": {
  "kernelspec": {
   "display_name": "Python 3",
   "language": "python",
   "name": "python3"
  },
  "language_info": {
   "codemirror_mode": {
    "name": "ipython",
    "version": 3
   },
   "file_extension": ".py",
   "mimetype": "text/x-python",
   "name": "python",
   "nbconvert_exporter": "python",
   "pygments_lexer": "ipython3",
   "version": "3.11.4"
  }
 },
 "nbformat": 4,
 "nbformat_minor": 5
}
