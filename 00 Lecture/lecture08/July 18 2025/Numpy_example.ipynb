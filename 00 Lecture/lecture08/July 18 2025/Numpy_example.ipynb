{
 "cells": [
  {
   "cell_type": "code",
   "execution_count": 2,
   "id": "2976d4e0",
   "metadata": {},
   "outputs": [
    {
     "name": "stdout",
     "output_type": "stream",
     "text": [
      "Requirement already satisfied: numpy in c:\\users\\admin\\appdata\\local\\programs\\python\\python311\\lib\\site-packages (2.3.1)\n",
      "Note: you may need to restart the kernel to use updated packages.\n"
     ]
    },
    {
     "name": "stderr",
     "output_type": "stream",
     "text": [
      "\n",
      "[notice] A new release of pip is available: 23.1.2 -> 25.1.1\n",
      "[notice] To update, run: python.exe -m pip install --upgrade pip\n"
     ]
    }
   ],
   "source": [
    "# install numpy in python\n",
    "\n",
    "%pip install numpy"
   ]
  },
  {
   "cell_type": "code",
   "execution_count": 3,
   "id": "5f7fa4e9",
   "metadata": {},
   "outputs": [
    {
     "name": "stdout",
     "output_type": "stream",
     "text": [
      "2.3.1\n"
     ]
    }
   ],
   "source": [
    "import numpy as np\n",
    "\n",
    "print(np.__version__)"
   ]
  },
  {
   "cell_type": "code",
   "execution_count": 6,
   "id": "5408d929",
   "metadata": {},
   "outputs": [
    {
     "name": "stdout",
     "output_type": "stream",
     "text": [
      "[12 13 14 15 16]\n",
      "<class 'numpy.ndarray'>\n",
      "1\n"
     ]
    }
   ],
   "source": [
    "#  create a array\n",
    "my_list = [12,13,14,15,16] \n",
    "data = np.array(my_list)\n",
    "print(data)\n",
    "\n",
    "# check type\n",
    "print(type(data))\n",
    "\n",
    "print(data.ndim)"
   ]
  },
  {
   "cell_type": "code",
   "execution_count": 9,
   "id": "62c8b93c",
   "metadata": {},
   "outputs": [
    {
     "name": "stdout",
     "output_type": "stream",
     "text": [
      "[[21 22 23]\n",
      " [24 25 26]\n",
      " [27 28 29]]\n",
      "2\n"
     ]
    }
   ],
   "source": [
    "# 3x3 = 9\n",
    "arr2 = np.array([[21,22,23],[24,25,26],[27,28,29]])\n",
    "print(arr2)\n",
    "print(arr2.ndim)"
   ]
  },
  {
   "cell_type": "code",
   "execution_count": 13,
   "id": "0fdad712",
   "metadata": {},
   "outputs": [
    {
     "name": "stdout",
     "output_type": "stream",
     "text": [
      "[[[21 22 23]\n",
      "  [24 25 26]\n",
      "  [27 28 29]]\n",
      "\n",
      " [[21 22 23]\n",
      "  [24 25 26]\n",
      "  [27 28 29]]]\n",
      "3\n"
     ]
    }
   ],
   "source": [
    "#3d array\n",
    "arr2 = np.array(\n",
    "    [\n",
    "    [[21,22,23],[24,25,26],[27,28,29]],\n",
    "    [[21,22,23],[24,25,26],[27,28,29]]\n",
    "    ]\n",
    "    )\n",
    "print(arr2)\n",
    "print(arr2.ndim)"
   ]
  },
  {
   "cell_type": "code",
   "execution_count": 14,
   "id": "5cd11ff8",
   "metadata": {},
   "outputs": [
    {
     "name": "stdout",
     "output_type": "stream",
     "text": [
      "[[[[21 22 23]\n",
      "   [24 25 26]\n",
      "   [27 28 29]]\n",
      "\n",
      "  [[21 22 23]\n",
      "   [24 25 26]\n",
      "   [27 28 29]]]\n",
      "\n",
      "\n",
      " [[[21 22 23]\n",
      "   [24 25 26]\n",
      "   [27 28 29]]\n",
      "\n",
      "  [[21 22 23]\n",
      "   [24 25 26]\n",
      "   [27 28 29]]]]\n",
      "4\n"
     ]
    }
   ],
   "source": [
    "#4d array\n",
    "arr2 = np.array(\n",
    "    [\n",
    "    [[[21,22,23],[24,25,26],[27,28,29]],\n",
    "    [[21,22,23],[24,25,26],[27,28,29]]],\n",
    "    [[[21,22,23],[24,25,26],[27,28,29]],\n",
    "    [[21,22,23],[24,25,26],[27,28,29]]]\n",
    "    ]\n",
    "    )\n",
    "print(arr2)\n",
    "print(arr2.ndim)"
   ]
  },
  {
   "cell_type": "code",
   "execution_count": 15,
   "id": "f6ca9117",
   "metadata": {},
   "outputs": [
    {
     "name": "stdout",
     "output_type": "stream",
     "text": [
      "[12 13 14 15 16]\n",
      "14\n"
     ]
    }
   ],
   "source": [
    "#  create a array\n",
    "my_list = [12,13,14,15,16] \n",
    "data = np.array(my_list)\n",
    "print(data)\n",
    "# access data \n",
    "print(data[2])"
   ]
  },
  {
   "cell_type": "code",
   "execution_count": null,
   "id": "3617ca01",
   "metadata": {},
   "outputs": [
    {
     "name": "stdout",
     "output_type": "stream",
     "text": [
      "[[21 22 23]\n",
      " [24 25 26]\n",
      " [27 28 29]]\n",
      "2\n",
      "26\n"
     ]
    }
   ],
   "source": [
    "# 3x3 = 9\n",
    "arr2 = np.array([[21,22,23],[24,25,26],[27,28,29]])\n",
    "print(arr2)\n",
    "print(arr2.ndim)\n",
    "print(arr2[1,2])"
   ]
  }
 ],
 "metadata": {
  "kernelspec": {
   "display_name": "Python 3",
   "language": "python",
   "name": "python3"
  },
  "language_info": {
   "codemirror_mode": {
    "name": "ipython",
    "version": 3
   },
   "file_extension": ".py",
   "mimetype": "text/x-python",
   "name": "python",
   "nbconvert_exporter": "python",
   "pygments_lexer": "ipython3",
   "version": "3.11.4"
  }
 },
 "nbformat": 4,
 "nbformat_minor": 5
}
