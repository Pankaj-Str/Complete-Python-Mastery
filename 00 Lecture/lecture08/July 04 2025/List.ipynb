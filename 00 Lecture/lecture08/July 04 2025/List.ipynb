{
 "cells": [
  {
   "cell_type": "code",
   "execution_count": 10,
   "id": "f5c2aff9",
   "metadata": {},
   "outputs": [
    {
     "name": "stdout",
     "output_type": "stream",
     "text": [
      "-------- Now Enter Price -----------\n",
      "1. books = 500\n",
      "2. pen = 600\n",
      "3. cloth = 700\n",
      "4. apple = 800\n",
      "5. orange = 96\n"
     ]
    }
   ],
   "source": [
    "size = int(input('Enter list size '))\n",
    "data = []\n",
    "price = []\n",
    "for i in range(size):\n",
    "    i = input(\"Enter Item into List \")\n",
    "    data.append(i)\n",
    "\n",
    "print(\"-------- Now Enter Price -----------\")\n",
    " \n",
    "for i in range(size):\n",
    "    i = int(input(f\"Enter {data[i]} price =  \"))\n",
    "    price.append(i) \n",
    "    \n",
    "for i in range(size):\n",
    "    print(f'{i+1}. {data[i]} = {price[i]}')"
   ]
  },
  {
   "cell_type": "code",
   "execution_count": null,
   "id": "750ad813",
   "metadata": {},
   "outputs": [
    {
     "name": "stdout",
     "output_type": "stream",
     "text": [
      "['cloth', 'books', 'pen', 'apple', 'orange']\n",
      "[200, 300, 400, 600, 800]\n"
     ]
    }
   ],
   "source": []
  }
 ],
 "metadata": {
  "kernelspec": {
   "display_name": "Python 3",
   "language": "python",
   "name": "python3"
  },
  "language_info": {
   "codemirror_mode": {
    "name": "ipython",
    "version": 3
   },
   "file_extension": ".py",
   "mimetype": "text/x-python",
   "name": "python",
   "nbconvert_exporter": "python",
   "pygments_lexer": "ipython3",
   "version": "3.11.4"
  }
 },
 "nbformat": 4,
 "nbformat_minor": 5
}
