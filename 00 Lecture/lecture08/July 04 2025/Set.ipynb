{
 "cells": [
  {
   "cell_type": "code",
   "execution_count": 8,
   "id": "35854e4e",
   "metadata": {},
   "outputs": [
    {
     "name": "stdout",
     "output_type": "stream",
     "text": [
      "{1, 2, 3, 5}\n"
     ]
    }
   ],
   "source": [
    "data = {1,2,3,5,5,1,1,1,1,3,3,3,2,2,2,3}\n",
    "print(data)"
   ]
  },
  {
   "cell_type": "code",
   "execution_count": 5,
   "id": "4dfccce6",
   "metadata": {},
   "outputs": [
    {
     "name": "stdout",
     "output_type": "stream",
     "text": [
      "{(1, 2, 1, 2), 9, 98, 78}\n"
     ]
    }
   ],
   "source": [
    "my_list = [78,78,98,9,78,(1,2,1,2)]\n",
    "set_data = set(my_list)\n",
    "print(set_data)"
   ]
  },
  {
   "cell_type": "code",
   "execution_count": 10,
   "id": "7d4a2da0",
   "metadata": {},
   "outputs": [
    {
     "name": "stdout",
     "output_type": "stream",
     "text": [
      "[1, 2, 3, 5, 5, (1, 1, 1, 1), 3, 3, 3, 2, 2, 2, 3]\n",
      "{1, 2, 3, 5, (1, 1, 1, 1)}\n"
     ]
    }
   ],
   "source": [
    "my_data = [1,2,3,5,5,(1,1,1,1),3,3,3,2,2,2,3]\n",
    "print(my_data)\n",
    "d = set(my_data)\n",
    "print(d)"
   ]
  }
 ],
 "metadata": {
  "kernelspec": {
   "display_name": "Python 3",
   "language": "python",
   "name": "python3"
  },
  "language_info": {
   "codemirror_mode": {
    "name": "ipython",
    "version": 3
   },
   "file_extension": ".py",
   "mimetype": "text/x-python",
   "name": "python",
   "nbconvert_exporter": "python",
   "pygments_lexer": "ipython3",
   "version": "3.11.4"
  }
 },
 "nbformat": 4,
 "nbformat_minor": 5
}
