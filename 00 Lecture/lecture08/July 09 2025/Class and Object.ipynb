{
 "cells": [
  {
   "cell_type": "code",
   "execution_count": 7,
   "id": "f63f2490",
   "metadata": {},
   "outputs": [],
   "source": [
    "# class Customers:\n",
    "#     def info():\n",
    "#         print(\"Customer Name : Joy\")\n",
    "#         print(\"Customer City : Mumbai\")\n",
    "#     def CreditCard():\n",
    "#         print(\"Credit Card Limit 450000/-\")\n",
    "#         print(\"Card Name HDFC Bank\")\n",
    "#     def CreditAmount():\n",
    "#         print(\"Amount : 5000/-\")        \n",
    "                "
   ]
  },
  {
   "cell_type": "code",
   "execution_count": 8,
   "id": "0e30c1a6",
   "metadata": {},
   "outputs": [],
   "source": [
    "# Create a Object \n",
    "# customers_obj = Customers\n",
    "# customers_obj.info()\n",
    "# customers_obj.CreditCard()\n",
    "# customers_obj.CreditAmount()"
   ]
  },
  {
   "cell_type": "code",
   "execution_count": null,
   "id": "5c13c6b1",
   "metadata": {},
   "outputs": [
    {
     "name": "stdout",
     "output_type": "stream",
     "text": [
      "Customer Name :  Nishant\n",
      "Customer City :  Mumbai\n",
      "Credit Card Limit  450000\n",
      "Card Name Bank Name HDFC\n",
      "Amount :  5000\n"
     ]
    }
   ],
   "source": [
    "# class Customers:\n",
    "#     def info(name,city):\n",
    "#         print(\"Customer Name : \",name)\n",
    "#         print(\"Customer City : \",city)\n",
    "#     def CreditCard(creditlimit,bank):\n",
    "#         print(\"Credit Card Limit \",creditlimit)\n",
    "#         print(\"Card Name Bank Name\",bank)\n",
    "#     def CreditAmount(amount):\n",
    "#         print(\"Amount : \",amount) \n",
    "\n",
    "# # Create a Object \n",
    "# customers_obj = Customers\n",
    "# customers_obj.info(\"Nishant\",\"Mumbai\")\n",
    "# customers_obj.CreditCard(450000,\"HDFC\")\n",
    "# customers_obj.CreditAmount(5000)          "
   ]
  },
  {
   "cell_type": "code",
   "execution_count": null,
   "id": "6b0d8282",
   "metadata": {},
   "outputs": [
    {
     "name": "stdout",
     "output_type": "stream",
     "text": [
      "Customer Name :  Nishant\n",
      "Customer City :  Mumbai\n",
      "Credit Card Limit  450000\n",
      "Card Name Bank Name HDFC\n",
      "Amount :  5000\n",
      "Credit Limit (Final) 445000\n"
     ]
    }
   ],
   "source": [
    "# class Customers:\n",
    "#     def info(a,name,city):\n",
    "#         print(\"Customer Name : \",name)\n",
    "#         print(\"Customer City : \",city)\n",
    "#     def CreditCard(a,creditlimit,bank):\n",
    "#         a.creditlimit = creditlimit\n",
    "#         print(\"Credit Card Limit \",creditlimit)\n",
    "#         print(\"Card Name Bank Name\",bank)\n",
    "#     def CreditAmount(a,amount):\n",
    "#         a.amount = amount\n",
    "#         print(\"Amount : \",amount) \n",
    "#     def FinalCreditLimit(a):\n",
    "#         f_limit = a.creditlimit-a.amount\n",
    "#         print(f\"Credit Limit (Final)\",f_limit)    \n",
    "\n",
    "# # Create a Object \n",
    "# customers_obj = Customers()\n",
    "# customers_obj.info(\"Nishant\",\"Mumbai\")\n",
    "# customers_obj.CreditCard(450000,\"HDFC\")\n",
    "# customers_obj.CreditAmount(5000) \n",
    "# customers_obj.FinalCreditLimit()         "
   ]
  },
  {
   "cell_type": "code",
   "execution_count": null,
   "id": "1e51955b",
   "metadata": {},
   "outputs": [
    {
     "name": "stdout",
     "output_type": "stream",
     "text": [
      "Customer Name :  Nishant\n",
      "Customer City :  Mumbai\n",
      "Credit Card Limit  450000\n",
      "Card Name Bank Name HDFC\n",
      "Amount :  5000\n",
      "Credit Limit (Final) 445000\n"
     ]
    }
   ],
   "source": [
    "# class Customers:\n",
    "#     def info(name,city):\n",
    "#         print(\"Customer Name : \",name)\n",
    "#         print(\"Customer City : \",city)\n",
    "#     def CreditCard(creditlimit,bank):\n",
    "#         global CreditLimit\n",
    "#         CreditLimit = creditlimit\n",
    "#         print(\"Credit Card Limit \",creditlimit)\n",
    "#         print(\"Card Name Bank Name\",bank)\n",
    "#     def CreditAmount(amount):\n",
    "#         global Amount\n",
    "#         Amount = amount\n",
    "#         print(\"Amount : \",amount) \n",
    "#     def FinalCreditLimit():\n",
    "#         f_limit = CreditLimit-Amount\n",
    "#         print(f\"Credit Limit (Final)\",f_limit)    \n",
    "\n",
    "# # Create a Object \n",
    "# customers_obj = Customers\n",
    "# customers_obj.info(\"Nishant\",\"Mumbai\")\n",
    "# customers_obj.CreditCard(450000,\"HDFC\")\n",
    "# customers_obj.CreditAmount(5000) \n",
    "# customers_obj.FinalCreditLimit()         "
   ]
  },
  {
   "cell_type": "code",
   "execution_count": null,
   "id": "225cd284",
   "metadata": {},
   "outputs": [
    {
     "name": "stdout",
     "output_type": "stream",
     "text": [
      "Address : Borivali West \n",
      "Customer Name :  Nishant\n",
      "Customer City :  Mumbai\n",
      "Credit Card Limit  450000\n",
      "Card Name Bank Name HDFC\n",
      "Amount :  5000\n",
      "Credit Limit (Final) 445000\n"
     ]
    }
   ],
   "source": [
    "class Customers:\n",
    "    def __init__(self):\n",
    "       print(\"Address : Borivali West \")\n",
    "    def info(self,name,city):\n",
    "        print(\"Customer Name : \",name)\n",
    "        print(\"Customer City : \",city)\n",
    "    def CreditCard(self,creditlimit,bank):\n",
    "        global CreditLimit\n",
    "        CreditLimit = creditlimit\n",
    "        print(\"Credit Card Limit \",creditlimit)\n",
    "        print(\"Card Name Bank Name\",bank)\n",
    "    def CreditAmount(self,amount):\n",
    "        global Amount\n",
    "        Amount = amount\n",
    "        print(\"Amount : \",amount) \n",
    "    def FinalCreditLimit(self):\n",
    "        f_limit = CreditLimit-Amount\n",
    "        print(f\"Credit Limit (Final)\",f_limit)    \n",
    "\n",
    "# Create a Object \n",
    "customers_obj = Customers()\n",
    "customers_obj.info(\"Nishant\",\"Mumbai\")\n",
    "customers_obj.CreditCard(450000,\"HDFC\")\n",
    "customers_obj.CreditAmount(5000) \n",
    "customers_obj.FinalCreditLimit()    "
   ]
  }
 ],
 "metadata": {
  "kernelspec": {
   "display_name": "Python 3",
   "language": "python",
   "name": "python3"
  },
  "language_info": {
   "codemirror_mode": {
    "name": "ipython",
    "version": 3
   },
   "file_extension": ".py",
   "mimetype": "text/x-python",
   "name": "python",
   "nbconvert_exporter": "python",
   "pygments_lexer": "ipython3",
   "version": "3.11.4"
  }
 },
 "nbformat": 4,
 "nbformat_minor": 5
}
