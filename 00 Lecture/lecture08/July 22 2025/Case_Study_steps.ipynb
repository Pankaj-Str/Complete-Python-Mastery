{
 "cells": [
  {
   "cell_type": "code",
   "execution_count": 2,
   "id": "e537072d",
   "metadata": {},
   "outputs": [],
   "source": [
    "import pandas as pd\n",
    "import numpy as np"
   ]
  },
  {
   "cell_type": "code",
   "execution_count": 5,
   "id": "31af5d6d",
   "metadata": {},
   "outputs": [],
   "source": [
    "# step no 1 create a sales data\n",
    "data = {\n",
    "    \"order_id\":[1,2,3,4,5,6,7,8],\n",
    "    \"customer\":['john','joy','rahul','rohan','riya','tiya','heena','nishant'],\n",
    "    \"product\":['laptop','phone','mouse','tablet','phone','tablet','laptop','laptop'],\n",
    "    \"quantity\":[4,5,2,1,2,1,1,3],\n",
    "    \"price\": [1000,300,4500,500,760,980,780,7000],\n",
    "   \"date\":['2023-01-03','2023-01-04','2023-01-01','2023-01-04','2023-01-05','2023-01-8','2023-01-23','2023-01-12']    \n",
    "}"
   ]
  },
  {
   "cell_type": "code",
   "execution_count": 8,
   "id": "03332933",
   "metadata": {},
   "outputs": [],
   "source": [
    "# step no 2 create a dataframe\n",
    "df = pd.DataFrame(data)"
   ]
  },
  {
   "cell_type": "code",
   "execution_count": 9,
   "id": "8f1ce269",
   "metadata": {},
   "outputs": [
    {
     "name": "stdout",
     "output_type": "stream",
     "text": [
      "   order_id customer product  quantity  price        date\n",
      "0         1     john  laptop         4   1000  2023-01-03\n",
      "1         2      joy   phone         5    300  2023-01-04\n",
      "2         3    rahul   mouse         2   4500  2023-01-01\n",
      "3         4    rohan  tablet         1    500  2023-01-04\n",
      "4         5     riya   phone         2    760  2023-01-05\n"
     ]
    }
   ],
   "source": [
    "# step no 3 print first 5 row\n",
    "print(df.head())"
   ]
  },
  {
   "cell_type": "code",
   "execution_count": 11,
   "id": "a3c4e939",
   "metadata": {},
   "outputs": [
    {
     "name": "stdout",
     "output_type": "stream",
     "text": [
      "       order_id  quantity        price\n",
      "count   8.00000  8.000000     8.000000\n",
      "mean    4.50000  2.375000  1977.500000\n",
      "std     2.44949  1.505941  2433.467544\n",
      "min     1.00000  1.000000   300.000000\n",
      "25%     2.75000  1.000000   695.000000\n",
      "50%     4.50000  2.000000   880.000000\n",
      "75%     6.25000  3.250000  1875.000000\n",
      "max     8.00000  5.000000  7000.000000\n"
     ]
    }
   ],
   "source": [
    "# step no 4 data cleaning\n",
    "print(df.describe())"
   ]
  },
  {
   "cell_type": "code",
   "execution_count": 13,
   "id": "c55d74ee",
   "metadata": {},
   "outputs": [
    {
     "name": "stdout",
     "output_type": "stream",
     "text": [
      "order_id     int64\n",
      "customer    object\n",
      "product     object\n",
      "quantity     int64\n",
      "price        int64\n",
      "date        object\n",
      "dtype: object\n"
     ]
    }
   ],
   "source": [
    "print(df.dtypes)"
   ]
  },
  {
   "cell_type": "code",
   "execution_count": 16,
   "id": "8fb82fa7",
   "metadata": {},
   "outputs": [
    {
     "name": "stdout",
     "output_type": "stream",
     "text": [
      "order_id             int64\n",
      "customer            object\n",
      "product             object\n",
      "quantity             int64\n",
      "price                int64\n",
      "date        datetime64[ns]\n",
      "dtype: object\n"
     ]
    }
   ],
   "source": [
    "# convert date column to datetime\n",
    "# print(df['date'])\n",
    "\n",
    "df['date'] = pd.to_datetime(df['date'])\n",
    "print(df.dtypes)"
   ]
  },
  {
   "cell_type": "code",
   "execution_count": 18,
   "id": "d7cef0c7",
   "metadata": {},
   "outputs": [
    {
     "name": "stdout",
     "output_type": "stream",
     "text": [
      "order_id    0\n",
      "customer    0\n",
      "product     0\n",
      "quantity    0\n",
      "price       0\n",
      "date        0\n",
      "dtype: int64\n"
     ]
    }
   ],
   "source": [
    "# check for missing values\n",
    "print(df.isnull().sum())"
   ]
  },
  {
   "cell_type": "code",
   "execution_count": 22,
   "id": "663ad189",
   "metadata": {},
   "outputs": [
    {
     "name": "stdout",
     "output_type": "stream",
     "text": [
      "   order_id customer product  quantity  price       date  total_revenue\n",
      "0         1     john  laptop         4   1000 2023-01-03           4000\n",
      "1         2      joy   phone         5    300 2023-01-04           1500\n",
      "2         3    rahul   mouse         2   4500 2023-01-01           9000\n",
      "3         4    rohan  tablet         1    500 2023-01-04            500\n",
      "4         5     riya   phone         2    760 2023-01-05           1520\n"
     ]
    }
   ],
   "source": [
    "# step no. 5 Basic data analysis\n",
    "# calculate total revenue per order\n",
    "\n",
    "df['total_revenue'] = df['quantity'] * df['price']\n",
    "print(df.head())\n",
    "\n"
   ]
  },
  {
   "cell_type": "code",
   "execution_count": 27,
   "id": "5a897f16",
   "metadata": {},
   "outputs": [
    {
     "name": "stdout",
     "output_type": "stream",
     "text": [
      "  customer  total_revenue\n",
      "0    heena            780\n",
      "1     john           4000\n",
      "2      joy           1500\n",
      "3  nishant          21000\n",
      "4    rahul           9000\n",
      "5     riya           1520\n",
      "6    rohan            500\n",
      "7     tiya            980\n"
     ]
    }
   ],
   "source": [
    "#step no. 6  total revenue by customer (grouping and aggregation)\n",
    "customer_revenue =  df.groupby('customer')['total_revenue'].sum().reset_index()\n",
    "print(customer_revenue)"
   ]
  },
  {
   "cell_type": "code",
   "execution_count": 28,
   "id": "1d97a64d",
   "metadata": {},
   "outputs": [
    {
     "name": "stdout",
     "output_type": "stream",
     "text": [
      "\n",
      " product sales = \n",
      "    product  quantity\n",
      "0  laptop         8\n",
      "1   mouse         2\n",
      "2   phone         7\n",
      "3  tablet         2\n"
     ]
    }
   ],
   "source": [
    "# step no. 7 Product analysis\n",
    "# most popular product by quantity sold \n",
    "product_sales = df.groupby('product')['quantity'].sum().reset_index()\n",
    "print('\\n product sales = \\n ',product_sales)"
   ]
  }
 ],
 "metadata": {
  "kernelspec": {
   "display_name": "Python 3",
   "language": "python",
   "name": "python3"
  },
  "language_info": {
   "codemirror_mode": {
    "name": "ipython",
    "version": 3
   },
   "file_extension": ".py",
   "mimetype": "text/x-python",
   "name": "python",
   "nbconvert_exporter": "python",
   "pygments_lexer": "ipython3",
   "version": "3.11.4"
  }
 },
 "nbformat": 4,
 "nbformat_minor": 5
}
