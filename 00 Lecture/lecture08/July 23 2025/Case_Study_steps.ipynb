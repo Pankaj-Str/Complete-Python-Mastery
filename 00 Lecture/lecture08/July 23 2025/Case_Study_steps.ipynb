{
 "cells": [
  {
   "cell_type": "code",
   "execution_count": 1,
   "id": "e537072d",
   "metadata": {},
   "outputs": [],
   "source": [
    "import pandas as pd\n",
    "import numpy as np"
   ]
  },
  {
   "cell_type": "code",
   "execution_count": 2,
   "id": "31af5d6d",
   "metadata": {},
   "outputs": [],
   "source": [
    "# step no 1 create a sales data\n",
    "data = {\n",
    "    \"order_id\":[1,2,3,4,5,6,7,8],\n",
    "    \"customer\":['john','joy','rahul','rohan','riya','tiya','heena','nishant'],\n",
    "    \"product\":['laptop','phone','mouse','tablet','phone','tablet','laptop','laptop'],\n",
    "    \"quantity\":[4,5,2,1,2,1,1,3],\n",
    "    \"price\": [1000,300,4500,500,760,980,780,7000],\n",
    "   \"date\":['2023-01-03','2023-01-04','2023-01-01','2023-01-04','2023-01-05','2023-01-8','2023-01-23','2023-01-12']    \n",
    "}"
   ]
  },
  {
   "cell_type": "code",
   "execution_count": 28,
   "id": "03332933",
   "metadata": {},
   "outputs": [],
   "source": [
    "# step no 2 create a dataframe\n",
    "df = pd.DataFrame(data)\n",
    "\n",
    "df.to_csv(\"dataset.csv\")"
   ]
  },
  {
   "cell_type": "code",
   "execution_count": 4,
   "id": "8f1ce269",
   "metadata": {},
   "outputs": [
    {
     "name": "stdout",
     "output_type": "stream",
     "text": [
      "   order_id customer product  quantity  price        date\n",
      "0         1     john  laptop         4   1000  2023-01-03\n",
      "1         2      joy   phone         5    300  2023-01-04\n",
      "2         3    rahul   mouse         2   4500  2023-01-01\n",
      "3         4    rohan  tablet         1    500  2023-01-04\n",
      "4         5     riya   phone         2    760  2023-01-05\n"
     ]
    }
   ],
   "source": [
    "# step no 3 print first 5 row\n",
    "print(df.head())"
   ]
  },
  {
   "cell_type": "code",
   "execution_count": 5,
   "id": "a3c4e939",
   "metadata": {},
   "outputs": [
    {
     "name": "stdout",
     "output_type": "stream",
     "text": [
      "       order_id  quantity        price\n",
      "count   8.00000  8.000000     8.000000\n",
      "mean    4.50000  2.375000  1977.500000\n",
      "std     2.44949  1.505941  2433.467544\n",
      "min     1.00000  1.000000   300.000000\n",
      "25%     2.75000  1.000000   695.000000\n",
      "50%     4.50000  2.000000   880.000000\n",
      "75%     6.25000  3.250000  1875.000000\n",
      "max     8.00000  5.000000  7000.000000\n"
     ]
    }
   ],
   "source": [
    "# step no 4 data cleaning\n",
    "print(df.describe())"
   ]
  },
  {
   "cell_type": "code",
   "execution_count": 6,
   "id": "c55d74ee",
   "metadata": {},
   "outputs": [
    {
     "name": "stdout",
     "output_type": "stream",
     "text": [
      "order_id     int64\n",
      "customer    object\n",
      "product     object\n",
      "quantity     int64\n",
      "price        int64\n",
      "date        object\n",
      "dtype: object\n"
     ]
    }
   ],
   "source": [
    "print(df.dtypes)"
   ]
  },
  {
   "cell_type": "code",
   "execution_count": 7,
   "id": "8fb82fa7",
   "metadata": {},
   "outputs": [
    {
     "name": "stdout",
     "output_type": "stream",
     "text": [
      "order_id             int64\n",
      "customer            object\n",
      "product             object\n",
      "quantity             int64\n",
      "price                int64\n",
      "date        datetime64[ns]\n",
      "dtype: object\n"
     ]
    }
   ],
   "source": [
    "# convert date column to datetime\n",
    "# print(df['date'])\n",
    "\n",
    "df['date'] = pd.to_datetime(df['date'])\n",
    "print(df.dtypes)"
   ]
  },
  {
   "cell_type": "code",
   "execution_count": 8,
   "id": "d7cef0c7",
   "metadata": {},
   "outputs": [
    {
     "name": "stdout",
     "output_type": "stream",
     "text": [
      "order_id    0\n",
      "customer    0\n",
      "product     0\n",
      "quantity    0\n",
      "price       0\n",
      "date        0\n",
      "dtype: int64\n"
     ]
    }
   ],
   "source": [
    "# check for missing values\n",
    "print(df.isnull().sum())"
   ]
  },
  {
   "cell_type": "code",
   "execution_count": 9,
   "id": "663ad189",
   "metadata": {},
   "outputs": [
    {
     "name": "stdout",
     "output_type": "stream",
     "text": [
      "   order_id customer product  quantity  price       date  total_revenue\n",
      "0         1     john  laptop         4   1000 2023-01-03           4000\n",
      "1         2      joy   phone         5    300 2023-01-04           1500\n",
      "2         3    rahul   mouse         2   4500 2023-01-01           9000\n",
      "3         4    rohan  tablet         1    500 2023-01-04            500\n",
      "4         5     riya   phone         2    760 2023-01-05           1520\n"
     ]
    }
   ],
   "source": [
    "# step no. 5 Basic data analysis\n",
    "# calculate total revenue per order\n",
    "\n",
    "df['total_revenue'] = df['quantity'] * df['price']\n",
    "print(df.head())\n",
    "\n"
   ]
  },
  {
   "cell_type": "code",
   "execution_count": 10,
   "id": "5a897f16",
   "metadata": {},
   "outputs": [
    {
     "name": "stdout",
     "output_type": "stream",
     "text": [
      "  customer  total_revenue\n",
      "0    heena            780\n",
      "1     john           4000\n",
      "2      joy           1500\n",
      "3  nishant          21000\n",
      "4    rahul           9000\n",
      "5     riya           1520\n",
      "6    rohan            500\n",
      "7     tiya            980\n"
     ]
    }
   ],
   "source": [
    "#step no. 6  total revenue by customer (grouping and aggregation)\n",
    "customer_revenue =  df.groupby('customer')['total_revenue'].sum().reset_index()\n",
    "print(customer_revenue)"
   ]
  },
  {
   "cell_type": "code",
   "execution_count": 12,
   "id": "1d97a64d",
   "metadata": {},
   "outputs": [
    {
     "name": "stdout",
     "output_type": "stream",
     "text": [
      "\n",
      " product sales = \n",
      "    product  quantity\n",
      "0  laptop         8\n",
      "1   mouse         2\n",
      "2   phone         7\n",
      "3  tablet         2\n"
     ]
    }
   ],
   "source": [
    "# step no. 7 Product analysis\n",
    "# most popular product by quantity sold \n",
    "product_sales = df.groupby('product')['quantity'].sum().reset_index()\n",
    "print('\\n product sales = \\n ',product_sales)"
   ]
  },
  {
   "cell_type": "code",
   "execution_count": null,
   "id": "9528a376",
   "metadata": {},
   "outputs": [
    {
     "name": "stdout",
     "output_type": "stream",
     "text": [
      "        date  total_revenue\n",
      "0 2023-01-01           9000\n",
      "1 2023-01-03           4000\n",
      "2 2023-01-04           2000\n",
      "3 2023-01-05           1520\n",
      "4 2023-01-08            980\n",
      "5 2023-01-12          21000\n",
      "6 2023-01-23            780\n"
     ]
    }
   ],
   "source": [
    "# step no. 8 time based analysis\n",
    "daily_sales = df.groupby('date')['total_revenue'].sum().reset_index()\n",
    "print(daily_sales)"
   ]
  },
  {
   "cell_type": "code",
   "execution_count": 15,
   "id": "2eff1e2b",
   "metadata": {},
   "outputs": [
    {
     "name": "stdout",
     "output_type": "stream",
     "text": [
      "Average Order Values \n",
      "  customer  avg_order_value\n",
      "0    heena            780.0\n",
      "1     john           4000.0\n",
      "2      joy           1500.0\n",
      "3  nishant          21000.0\n",
      "4    rahul           9000.0\n",
      "5     riya           1520.0\n",
      "6    rohan            500.0\n",
      "7     tiya            980.0\n"
     ]
    }
   ],
   "source": [
    "# step no. 9 Customer behavior analysis\n",
    "# avg order value per customers\n",
    "avg_order_value = df.groupby('customer')['total_revenue'].mean().reset_index()\n",
    "avg_order_value.columns = ['customer' , 'avg_order_value']\n",
    "print(f'Average Order Values \\n{avg_order_value}')"
   ]
  },
  {
   "cell_type": "code",
   "execution_count": 17,
   "id": "abd16132",
   "metadata": {},
   "outputs": [
    {
     "name": "stdout",
     "output_type": "stream",
     "text": [
      "   order_id customer product  quantity  price       date  total_revenue\n",
      "7         8  nishant  laptop         3   7000 2023-01-12          21000\n"
     ]
    }
   ],
   "source": [
    "# step no . 10 filtering \n",
    "# high value orders (total_revenue > 1000)\n",
    "\n",
    "high_value_order = df[df['total_revenue']> 20000]\n",
    "print(high_value_order)"
   ]
  },
  {
   "cell_type": "code",
   "execution_count": 24,
   "id": "781874bd",
   "metadata": {},
   "outputs": [
    {
     "name": "stdout",
     "output_type": "stream",
     "text": [
      "21000\n"
     ]
    }
   ],
   "source": [
    "h = df['total_revenue']\n",
    "print(max(h))"
   ]
  },
  {
   "cell_type": "code",
   "execution_count": 25,
   "id": "9dce5122",
   "metadata": {},
   "outputs": [
    {
     "name": "stdout",
     "output_type": "stream",
     "text": [
      "       order_id  quantity        price                 date  total_revenue\n",
      "count   8.00000  8.000000     8.000000                    8        8.00000\n",
      "mean    4.50000  2.375000  1977.500000  2023-01-07 12:00:00     4910.00000\n",
      "min     1.00000  1.000000   300.000000  2023-01-01 00:00:00      500.00000\n",
      "25%     2.75000  1.000000   695.000000  2023-01-03 18:00:00      930.00000\n",
      "50%     4.50000  2.000000   880.000000  2023-01-04 12:00:00     1510.00000\n",
      "75%     6.25000  3.250000  1875.000000  2023-01-09 00:00:00     5250.00000\n",
      "max     8.00000  5.000000  7000.000000  2023-01-23 00:00:00    21000.00000\n",
      "std     2.44949  1.505941  2433.467544                  NaN     7086.34905\n"
     ]
    }
   ],
   "source": [
    "print(df.describe())"
   ]
  },
  {
   "cell_type": "code",
   "execution_count": 26,
   "id": "a60fd902",
   "metadata": {},
   "outputs": [
    {
     "name": "stdout",
     "output_type": "stream",
     "text": [
      "   order_id customer product  quantity  price       date  total_revenue\n",
      "0         1     john  laptop         4   1000 2023-01-03           4000\n",
      "1         2      joy   phone         5    300 2023-01-04           1500\n",
      "2         3    rahul   mouse         2   4500 2023-01-01           9000\n",
      "3         4    rohan  tablet         1    500 2023-01-04            500\n",
      "4         5     riya   phone         2    760 2023-01-05           1520\n",
      "5         6     tiya  tablet         1    980 2023-01-08            980\n",
      "6         7    heena  laptop         1    780 2023-01-23            780\n",
      "7         8  nishant  laptop         3   7000 2023-01-12          21000\n"
     ]
    }
   ],
   "source": [
    "print(df)"
   ]
  },
  {
   "cell_type": "code",
   "execution_count": 27,
   "id": "55a82b44",
   "metadata": {},
   "outputs": [],
   "source": [
    "# Step no . 11 Data Export \n",
    "customer_revenue.to_csv('customer.csv',index=False)\n",
    "product_sales.to_csv('product_sales.csv',index=False)"
   ]
  },
  {
   "cell_type": "code",
   "execution_count": 29,
   "id": "526109d0",
   "metadata": {},
   "outputs": [
    {
     "name": "stdout",
     "output_type": "stream",
     "text": [
      "   order_id customer product  quantity   price        date\n",
      "0         1     john  laptop       4.0  1000.0  03-01-2023\n",
      "1         2      joy   phone       5.0   300.0  04-01-2023\n",
      "2         3    rahul   mouse       2.0  4500.0  01-01-2023\n",
      "3         4    rohan  tablet       1.0   500.0  04-01-2023\n",
      "4         5     riya   phone       2.0   760.0  05-01-2023\n"
     ]
    }
   ],
   "source": [
    "data = pd.read_csv('update_dataset.csv')\n",
    "print(data.head())"
   ]
  },
  {
   "cell_type": "code",
   "execution_count": 30,
   "id": "1d5bef5d",
   "metadata": {},
   "outputs": [
    {
     "name": "stdout",
     "output_type": "stream",
     "text": [
      "         order_id    quantity         price\n",
      "count  199.000000  197.000000    196.000000\n",
      "mean   100.000000   24.395939  24502.142857\n",
      "std     57.590508   15.648094  13874.917010\n",
      "min      1.000000    1.000000    300.000000\n",
      "25%     50.500000   10.000000  13718.000000\n",
      "50%    100.000000   25.000000  23761.500000\n",
      "75%    149.500000   37.000000  35575.750000\n",
      "max    199.000000   50.000000  49942.000000\n"
     ]
    }
   ],
   "source": [
    "print(data.describe())"
   ]
  },
  {
   "cell_type": "code",
   "execution_count": 31,
   "id": "a4b850fc",
   "metadata": {},
   "outputs": [
    {
     "name": "stdout",
     "output_type": "stream",
     "text": [
      "order_id    0\n",
      "customer    2\n",
      "product     3\n",
      "quantity    2\n",
      "price       3\n",
      "date        6\n",
      "dtype: int64\n"
     ]
    }
   ],
   "source": [
    "print(data.isnull().sum())"
   ]
  },
  {
   "cell_type": "code",
   "execution_count": 32,
   "id": "08d2d8e8",
   "metadata": {},
   "outputs": [
    {
     "name": "stdout",
     "output_type": "stream",
     "text": [
      "order_id      int64\n",
      "customer     object\n",
      "product      object\n",
      "quantity    float64\n",
      "price       float64\n",
      "date         object\n",
      "dtype: object\n"
     ]
    }
   ],
   "source": [
    "print(data.dtypes)"
   ]
  },
  {
   "cell_type": "code",
   "execution_count": 33,
   "id": "d65e3065",
   "metadata": {},
   "outputs": [
    {
     "name": "stdout",
     "output_type": "stream",
     "text": [
      "   order_id customer product  quantity   price        date\n",
      "0         1     john  laptop       4.0  1000.0  03-01-2023\n",
      "1         2      joy   phone       5.0   300.0  04-01-2023\n",
      "2         3    rahul   mouse       2.0  4500.0  01-01-2023\n",
      "3         4    rohan  tablet       1.0   500.0  04-01-2023\n",
      "4         5     riya   phone       2.0   760.0  05-01-2023\n"
     ]
    }
   ],
   "source": [
    "df = pd.DataFrame(data)\n",
    "print(df.head())"
   ]
  },
  {
   "cell_type": "code",
   "execution_count": 34,
   "id": "9ff8e3fe",
   "metadata": {},
   "outputs": [
    {
     "name": "stdout",
     "output_type": "stream",
     "text": [
      "order_id      int64\n",
      "customer     object\n",
      "product      object\n",
      "quantity    float64\n",
      "price       float64\n",
      "date         object\n",
      "dtype: object\n"
     ]
    }
   ],
   "source": [
    "print(df.dtypes)"
   ]
  },
  {
   "cell_type": "code",
   "execution_count": null,
   "id": "39e56cc5",
   "metadata": {},
   "outputs": [
    {
     "name": "stdout",
     "output_type": "stream",
     "text": [
      "          order_id customer product  quantity    price        date\n",
      "0              1.0     john  laptop       4.0   1000.0  03-01-2023\n",
      "1              2.0      joy   phone       5.0    300.0  04-01-2023\n",
      "2              3.0    rahul   mouse       2.0   4500.0  01-01-2023\n",
      "3              4.0    rohan  tablet       1.0    500.0  04-01-2023\n",
      "4              5.0     riya   phone       2.0    760.0  05-01-2023\n",
      "...            ...      ...     ...       ...      ...         ...\n",
      "195          196.0     tiya  tablet      36.0  34994.0  08-01-2023\n",
      "196          197.0    heena  laptop      24.0  41464.0  23-01-2023\n",
      "197          198.0  nishant  laptop      10.0  32911.0  12-01-2023\n",
      "198          199.0     john  laptop      23.0  17602.0  01-01-2023\n",
      "quantity       NaN      NaN     NaN       NaN      NaN         NaN\n",
      "\n",
      "[200 rows x 6 columns]\n"
     ]
    }
   ],
   "source": [
    "# missing value clear \n",
    "df_with_na = df.copy()\n",
    "df_with_na.loc['quantity','price'] = np.nan\n",
    "print(df_with_na)"
   ]
  },
  {
   "cell_type": "code",
   "execution_count": 36,
   "id": "2c58d0cd",
   "metadata": {},
   "outputs": [
    {
     "name": "stdout",
     "output_type": "stream",
     "text": [
      "order_id    0\n",
      "customer    2\n",
      "product     3\n",
      "quantity    2\n",
      "price       3\n",
      "date        6\n",
      "dtype: int64\n"
     ]
    }
   ],
   "source": [
    "print(data.isnull().sum())"
   ]
  },
  {
   "cell_type": "code",
   "execution_count": 38,
   "id": "27fe3ebc",
   "metadata": {},
   "outputs": [
    {
     "name": "stdout",
     "output_type": "stream",
     "text": [
      "3\n"
     ]
    }
   ],
   "source": [
    "#filling missing value \n",
    "price = df['price']\n",
    "print(price.isnull().sum())"
   ]
  },
  {
   "cell_type": "code",
   "execution_count": 43,
   "id": "350145bf",
   "metadata": {},
   "outputs": [
    {
     "name": "stdout",
     "output_type": "stream",
     "text": [
      "     order_id customer product  quantity    price        date  1000.0  300.0  \\\n",
      "0           1     john  laptop       4.0   1000.0  03-01-2023  1000.0  300.0   \n",
      "1           2      joy   phone       5.0    300.0  04-01-2023  1000.0  300.0   \n",
      "2           3    rahul   mouse       2.0   4500.0  01-01-2023  1000.0  300.0   \n",
      "3           4    rohan  tablet       1.0    500.0  04-01-2023  1000.0  300.0   \n",
      "4           5     riya   phone       2.0    760.0  05-01-2023  1000.0  300.0   \n",
      "..        ...      ...     ...       ...      ...         ...     ...    ...   \n",
      "194       195     riya   phone       1.0  46435.0  05-01-2023  1000.0  300.0   \n",
      "195       196     tiya  tablet      36.0  34994.0  08-01-2023  1000.0  300.0   \n",
      "196       197    heena  laptop      24.0  41464.0  23-01-2023  1000.0  300.0   \n",
      "197       198  nishant  laptop      10.0  32911.0  12-01-2023  1000.0  300.0   \n",
      "198       199     john  laptop      23.0  17602.0  01-01-2023  1000.0  300.0   \n",
      "\n",
      "     4500.0  500.0  ...  19613.0  13616.0  38539.0  8931.0  18647.0  46435.0  \\\n",
      "0    4500.0  500.0  ...  19613.0  13616.0  38539.0  8931.0  18647.0  46435.0   \n",
      "1    4500.0  500.0  ...  19613.0  13616.0  38539.0  8931.0  18647.0  46435.0   \n",
      "2    4500.0  500.0  ...  19613.0  13616.0  38539.0  8931.0  18647.0  46435.0   \n",
      "3    4500.0  500.0  ...  19613.0  13616.0  38539.0  8931.0  18647.0  46435.0   \n",
      "4    4500.0  500.0  ...  19613.0  13616.0  38539.0  8931.0  18647.0  46435.0   \n",
      "..      ...    ...  ...      ...      ...      ...     ...      ...      ...   \n",
      "194  4500.0  500.0  ...  19613.0  13616.0  38539.0  8931.0  18647.0  46435.0   \n",
      "195  4500.0  500.0  ...  19613.0  13616.0  38539.0  8931.0  18647.0  46435.0   \n",
      "196  4500.0  500.0  ...  19613.0  13616.0  38539.0  8931.0  18647.0  46435.0   \n",
      "197  4500.0  500.0  ...  19613.0  13616.0  38539.0  8931.0  18647.0  46435.0   \n",
      "198  4500.0  500.0  ...  19613.0  13616.0  38539.0  8931.0  18647.0  46435.0   \n",
      "\n",
      "     34994.0  41464.0  32911.0  17602.0  \n",
      "0    34994.0  41464.0  32911.0  17602.0  \n",
      "1    34994.0  41464.0  32911.0  17602.0  \n",
      "2    34994.0  41464.0  32911.0  17602.0  \n",
      "3    34994.0  41464.0  32911.0  17602.0  \n",
      "4    34994.0  41464.0  32911.0  17602.0  \n",
      "..       ...      ...      ...      ...  \n",
      "194  34994.0  41464.0  32911.0  17602.0  \n",
      "195  34994.0  41464.0  32911.0  17602.0  \n",
      "196  34994.0  41464.0  32911.0  17602.0  \n",
      "197  34994.0  41464.0  32911.0  17602.0  \n",
      "198  34994.0  41464.0  32911.0  17602.0  \n",
      "\n",
      "[199 rows x 203 columns]\n"
     ]
    }
   ],
   "source": [
    "df['price'] = df['price'].fillna(df['price'].mean())\n",
    "print(df)"
   ]
  },
  {
   "cell_type": "code",
   "execution_count": 44,
   "id": "db62979d",
   "metadata": {},
   "outputs": [
    {
     "name": "stdout",
     "output_type": "stream",
     "text": [
      "0\n"
     ]
    }
   ],
   "source": [
    "print(df['price'].isnull().sum())"
   ]
  },
  {
   "cell_type": "code",
   "execution_count": 45,
   "id": "f1c0ebc8",
   "metadata": {},
   "outputs": [
    {
     "name": "stdout",
     "output_type": "stream",
     "text": [
      "2\n"
     ]
    }
   ],
   "source": [
    "print(df['quantity'].isnull().sum())"
   ]
  },
  {
   "cell_type": "code",
   "execution_count": 60,
   "id": "1778fe04",
   "metadata": {},
   "outputs": [],
   "source": [
    "df = df.dropna()"
   ]
  },
  {
   "cell_type": "code",
   "execution_count": 63,
   "id": "a4164806",
   "metadata": {},
   "outputs": [
    {
     "name": "stdout",
     "output_type": "stream",
     "text": [
      "order_id    0\n",
      "customer    0\n",
      "product     0\n",
      "quantity    0\n",
      "price       0\n",
      "           ..\n",
      "46435.0     0\n",
      "34994.0     0\n",
      "41464.0     0\n",
      "32911.0     0\n",
      "17602.0     0\n",
      "Length: 203, dtype: int64\n"
     ]
    }
   ],
   "source": [
    "print(df.isnull().sum())"
   ]
  },
  {
   "cell_type": "code",
   "execution_count": 65,
   "id": "29545b37",
   "metadata": {},
   "outputs": [],
   "source": [
    "df.to_csv(\"data.csv\")"
   ]
  },
  {
   "cell_type": "code",
   "execution_count": 64,
   "id": "86b848a1",
   "metadata": {},
   "outputs": [
    {
     "name": "stdout",
     "output_type": "stream",
     "text": [
      "   Transaction_ID  Customer_ID Transaction_Date Transaction_Type Merchant  \\\n",
      "0          100000         4452       2023-01-01           Online  Walmart   \n",
      "1          100001         2775       2023-01-01              ATM  BestBuy   \n",
      "2          100002         2259       2023-01-01   Mobile Payment     Uber   \n",
      "3          100003         4545       2023-01-01           Online  BestBuy   \n",
      "4          100004         2137       2023-01-01              ATM   Amazon   \n",
      "\n",
      "   Category   Amount Payment_Mode Transaction_Status       Location  \n",
      "0    Travel  4520.70   Debit Card           Approved      Jonesport  \n",
      "1    Travel  1437.85   Debit Card           Approved  Port Jennifer  \n",
      "2  Clothing  3320.52       PayPal           Approved     Port James  \n",
      "3    Travel  2659.96   Debit Card           Approved     Hawkinston  \n",
      "4    Travel  2517.07   Debit Card           Approved    Matthewland  \n"
     ]
    }
   ],
   "source": [
    "# read csv \n",
    "\n",
    "data = pd.read_csv('https://raw.githubusercontent.com/Pankaj-Str/Complete-Python-Mastery/refs/heads/main/53%20DataSet/credit_card_transactions.csv')\n",
    "\n",
    "print(data.head())"
   ]
  },
  {
   "cell_type": "code",
   "execution_count": 66,
   "id": "cd3bc481",
   "metadata": {},
   "outputs": [
    {
     "data": {
      "text/plain": [
       "(5500, 10)"
      ]
     },
     "execution_count": 66,
     "metadata": {},
     "output_type": "execute_result"
    }
   ],
   "source": [
    "data.shape"
   ]
  },
  {
   "cell_type": "code",
   "execution_count": 70,
   "id": "994f029a",
   "metadata": {},
   "outputs": [
    {
     "data": {
      "text/html": [
       "<div>\n",
       "<style scoped>\n",
       "    .dataframe tbody tr th:only-of-type {\n",
       "        vertical-align: middle;\n",
       "    }\n",
       "\n",
       "    .dataframe tbody tr th {\n",
       "        vertical-align: top;\n",
       "    }\n",
       "\n",
       "    .dataframe thead th {\n",
       "        text-align: right;\n",
       "    }\n",
       "</style>\n",
       "<table border=\"1\" class=\"dataframe\">\n",
       "  <thead>\n",
       "    <tr style=\"text-align: right;\">\n",
       "      <th></th>\n",
       "      <th>Transaction_ID</th>\n",
       "      <th>Customer_ID</th>\n",
       "      <th>Amount</th>\n",
       "    </tr>\n",
       "  </thead>\n",
       "  <tbody>\n",
       "    <tr>\n",
       "      <th>count</th>\n",
       "      <td>5500.000000</td>\n",
       "      <td>5500.000000</td>\n",
       "      <td>5500.000000</td>\n",
       "    </tr>\n",
       "    <tr>\n",
       "      <th>mean</th>\n",
       "      <td>102749.500000</td>\n",
       "      <td>2989.954182</td>\n",
       "      <td>2492.109224</td>\n",
       "    </tr>\n",
       "    <tr>\n",
       "      <th>std</th>\n",
       "      <td>1587.857571</td>\n",
       "      <td>1153.928878</td>\n",
       "      <td>1444.493842</td>\n",
       "    </tr>\n",
       "    <tr>\n",
       "      <th>min</th>\n",
       "      <td>100000.000000</td>\n",
       "      <td>1000.000000</td>\n",
       "      <td>6.550000</td>\n",
       "    </tr>\n",
       "    <tr>\n",
       "      <th>25%</th>\n",
       "      <td>101374.750000</td>\n",
       "      <td>1988.000000</td>\n",
       "      <td>1236.935000</td>\n",
       "    </tr>\n",
       "    <tr>\n",
       "      <th>50%</th>\n",
       "      <td>102749.500000</td>\n",
       "      <td>3000.000000</td>\n",
       "      <td>2502.405000</td>\n",
       "    </tr>\n",
       "    <tr>\n",
       "      <th>75%</th>\n",
       "      <td>104124.250000</td>\n",
       "      <td>3990.000000</td>\n",
       "      <td>3767.957500</td>\n",
       "    </tr>\n",
       "    <tr>\n",
       "      <th>max</th>\n",
       "      <td>105499.000000</td>\n",
       "      <td>4998.000000</td>\n",
       "      <td>4997.490000</td>\n",
       "    </tr>\n",
       "  </tbody>\n",
       "</table>\n",
       "</div>"
      ],
      "text/plain": [
       "       Transaction_ID  Customer_ID       Amount\n",
       "count     5500.000000  5500.000000  5500.000000\n",
       "mean    102749.500000  2989.954182  2492.109224\n",
       "std       1587.857571  1153.928878  1444.493842\n",
       "min     100000.000000  1000.000000     6.550000\n",
       "25%     101374.750000  1988.000000  1236.935000\n",
       "50%     102749.500000  3000.000000  2502.405000\n",
       "75%     104124.250000  3990.000000  3767.957500\n",
       "max     105499.000000  4998.000000  4997.490000"
      ]
     },
     "execution_count": 70,
     "metadata": {},
     "output_type": "execute_result"
    }
   ],
   "source": [
    "data.describe()"
   ]
  }
 ],
 "metadata": {
  "kernelspec": {
   "display_name": "Python 3",
   "language": "python",
   "name": "python3"
  },
  "language_info": {
   "codemirror_mode": {
    "name": "ipython",
    "version": 3
   },
   "file_extension": ".py",
   "mimetype": "text/x-python",
   "name": "python",
   "nbconvert_exporter": "python",
   "pygments_lexer": "ipython3",
   "version": "3.11.4"
  }
 },
 "nbformat": 4,
 "nbformat_minor": 5
}
