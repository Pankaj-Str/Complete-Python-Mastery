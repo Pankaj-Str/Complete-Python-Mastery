{
 "cells": [
  {
   "cell_type": "code",
   "execution_count": null,
   "id": "0b8cb092",
   "metadata": {},
   "outputs": [
    {
     "ename": "ValueError",
     "evalue": "invalid literal for int() with base 10: 'joy'",
     "output_type": "error",
     "traceback": [
      "\u001b[31m---------------------------------------------------------------------------\u001b[39m",
      "\u001b[31mValueError\u001b[39m                                Traceback (most recent call last)",
      "\u001b[36mCell\u001b[39m\u001b[36m \u001b[39m\u001b[32mIn[2]\u001b[39m\u001b[32m, line 2\u001b[39m\n\u001b[32m      1\u001b[39m name = \u001b[38;5;28mstr\u001b[39m(\u001b[38;5;28minput\u001b[39m(\u001b[33m'\u001b[39m\u001b[33mEnter Your Name - \u001b[39m\u001b[33m'\u001b[39m))\n\u001b[32m----> \u001b[39m\u001b[32m2\u001b[39m age = \u001b[38;5;28;43mint\u001b[39;49m\u001b[43m(\u001b[49m\u001b[38;5;28;43minput\u001b[39;49m\u001b[43m(\u001b[49m\u001b[33;43m'\u001b[39;49m\u001b[33;43mEnter Your Age - \u001b[39;49m\u001b[33;43m'\u001b[39;49m\u001b[43m)\u001b[49m\u001b[43m)\u001b[49m\n\u001b[32m      4\u001b[39m \u001b[38;5;28mprint\u001b[39m(\u001b[33mf\u001b[39m\u001b[33m'\u001b[39m\u001b[33mMy name is \u001b[39m\u001b[38;5;132;01m{\u001b[39;00mname\u001b[38;5;132;01m}\u001b[39;00m\u001b[33m and age \u001b[39m\u001b[38;5;132;01m{\u001b[39;00mage\u001b[38;5;132;01m}\u001b[39;00m\u001b[33m'\u001b[39m)\n",
      "\u001b[31mValueError\u001b[39m: invalid literal for int() with base 10: 'joy'"
     ]
    }
   ],
   "source": [
    "name = str(input('Enter Your Name - '))\n",
    "age = int(input('Enter Your Age - '))\n",
    "\n",
    "print(f'My name is {name} and age {age}')"
   ]
  },
  {
   "cell_type": "code",
   "execution_count": 3,
   "id": "2324a2f8",
   "metadata": {},
   "outputs": [
    {
     "name": "stdout",
     "output_type": "stream",
     "text": [
      "Enter Only Number into age - \n"
     ]
    }
   ],
   "source": [
    "try:\n",
    "    name = str(input('Enter Your Name - '))\n",
    "    age = int(input('Enter Your Age - '))\n",
    "\n",
    "    print(f'My name is {name} and age {age}')\n",
    "except ValueError:\n",
    "    print(\"Enter Only Number into age - \")"
   ]
  },
  {
   "cell_type": "code",
   "execution_count": 7,
   "id": "7e156e68",
   "metadata": {},
   "outputs": [
    {
     "name": "stdout",
     "output_type": "stream",
     "text": [
      "My name is joy and age 45\n"
     ]
    }
   ],
   "source": [
    "try:\n",
    "    name = str(input('Enter Your Name - '))\n",
    "    age = int(input('Enter Your Age - '))\n",
    "    height = int(input('Enter Your height '))\n",
    "    bmi = age / height\n",
    "    print(f'My name is {name} and age {age}')\n",
    "except ValueError:\n",
    "    print(\"Enter Only Number into age - \")\n",
    "except ZeroDivisionError:\n",
    "    print('Do not enter ZERO ')    "
   ]
  },
  {
   "cell_type": "code",
   "execution_count": null,
   "id": "1fb7d983",
   "metadata": {},
   "outputs": [
    {
     "ename": "SyntaxError",
     "evalue": "expected ':' (1003139341.py, line 1)",
     "output_type": "error",
     "traceback": [
      "  \u001b[36mCell\u001b[39m\u001b[36m \u001b[39m\u001b[32mIn[10]\u001b[39m\u001b[32m, line 1\u001b[39m\n\u001b[31m    \u001b[39m\u001b[31mtry\u001b[39m\n       ^\n\u001b[31mSyntaxError\u001b[39m\u001b[31m:\u001b[39m expected ':'\n"
     ]
    }
   ],
   "source": [
    "try:\n",
    "    name = str(input('Enter Your Name - '))\n",
    "    age = int(input('Enter Your Age - '))\n",
    "    height = int(input('Enter Your height '))\n",
    "    bmi = age / height\n",
    "    print(f'My name is {name} and age {age}')\n",
    "except Exception :\n",
    "    print(\"Code Stop - \")"
   ]
  }
 ],
 "metadata": {
  "kernelspec": {
   "display_name": "Python 3",
   "language": "python",
   "name": "python3"
  },
  "language_info": {
   "codemirror_mode": {
    "name": "ipython",
    "version": 3
   },
   "file_extension": ".py",
   "mimetype": "text/x-python",
   "name": "python",
   "nbconvert_exporter": "python",
   "pygments_lexer": "ipython3",
   "version": "3.11.4"
  }
 },
 "nbformat": 4,
 "nbformat_minor": 5
}
