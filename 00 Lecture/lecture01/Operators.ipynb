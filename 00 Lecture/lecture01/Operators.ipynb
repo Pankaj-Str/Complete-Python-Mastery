{
 "cells": [
  {
   "cell_type": "code",
   "execution_count": 1,
   "metadata": {},
   "outputs": [
    {
     "name": "stdout",
     "output_type": "stream",
     "text": [
      " +  347\n",
      " -  343\n",
      " *  690\n",
      " /  172.5\n",
      " %  1\n",
      " **  119025\n",
      " //  172\n"
     ]
    }
   ],
   "source": [
    "# operator in python \n",
    "\n",
    "# Arithmetic Operators\n",
    "\n",
    "\n",
    "a = 345\n",
    "b = 2\n",
    "\n",
    "print(\" + \",a+b)\n",
    "print(\" - \",a-b)\n",
    "print(\" * \",a*b)\n",
    "print(\" / \",a/b)\n",
    "print(\" % \",a%b)\n",
    "print(\" ** \",a**b)\n",
    "print(\" // \",a//b)"
   ]
  },
  {
   "cell_type": "code",
   "execution_count": 2,
   "metadata": {},
   "outputs": [
    {
     "name": "stdout",
     "output_type": "stream",
     "text": [
      " ==  False\n",
      " !=  True\n",
      " <  False\n",
      " >  True\n",
      " >=  True\n",
      " <=  False\n"
     ]
    }
   ],
   "source": [
    "# Comparison Operators\n",
    "\n",
    "n1 = 23\n",
    "n2 = 19\n",
    "\n",
    "print(\" == \",n1 == n2)\n",
    "print(\" != \",n1 != n2)\n",
    "print(\" < \",n1 < n2)\n",
    "print(\" > \",n1 > n2)\n",
    "print(\" >= \",n1 >= n2)\n",
    "print(\" <= \",n1 <= n2)"
   ]
  },
  {
   "cell_type": "code",
   "execution_count": 6,
   "metadata": {},
   "outputs": [
    {
     "name": "stdout",
     "output_type": "stream",
     "text": [
      "False\n",
      "True\n",
      "True\n"
     ]
    }
   ],
   "source": [
    "# and \n",
    "\n",
    "print(78 == 67 and 99 > 76)\n",
    "\n",
    "# or\n",
    "\n",
    "print(78 == 67 or 99 > 76)\n",
    "\n",
    "print(not 23 == 45)"
   ]
  },
  {
   "cell_type": "code",
   "execution_count": 4,
   "metadata": {},
   "outputs": [
    {
     "name": "stdout",
     "output_type": "stream",
     "text": [
      "90\n",
      "100\n",
      "90\n",
      "900\n",
      "90.0\n"
     ]
    }
   ],
   "source": [
    "# Assignment Operators\n",
    "\n",
    "a = 90\n",
    "print(a)\n",
    "\n",
    "# a = a + 10\n",
    "a += 10\n",
    "print(a)\n",
    "\n",
    "# a = a - 10\n",
    "a -= 10\n",
    "print(a)\n",
    "\n",
    "# a = a * 10\n",
    "a *= 10\n",
    "print(a)\n",
    "\n",
    "# a = a / 10\n",
    "a /= 10\n",
    "print(a)"
   ]
  },
  {
   "cell_type": "code",
   "execution_count": 8,
   "metadata": {},
   "outputs": [
    {
     "name": "stdout",
     "output_type": "stream",
     "text": [
      "True\n",
      "False\n",
      "True\n",
      "True\n"
     ]
    }
   ],
   "source": [
    "# Identity Operators\n",
    "\n",
    "a = \"p4n\"\n",
    "b = \"p4n\"\n",
    "\n",
    "print(a is b)\n",
    "print(a is not b)\n",
    "\n",
    "\n",
    "# Membership Operations\n",
    "\n",
    "web = \"codeswithpankaj\"\n",
    "print(\"p\" in web)\n",
    "\n",
    "print(\"z\" not in web)"
   ]
  }
 ],
 "metadata": {
  "kernelspec": {
   "display_name": "Python 3",
   "language": "python",
   "name": "python3"
  },
  "language_info": {
   "codemirror_mode": {
    "name": "ipython",
    "version": 3
   },
   "file_extension": ".py",
   "mimetype": "text/x-python",
   "name": "python",
   "nbconvert_exporter": "python",
   "pygments_lexer": "ipython3",
   "version": "3.13.0"
  }
 },
 "nbformat": 4,
 "nbformat_minor": 2
}
