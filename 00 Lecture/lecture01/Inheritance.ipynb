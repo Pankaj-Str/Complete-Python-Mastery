{
 "cells": [
  {
   "cell_type": "code",
   "execution_count": 1,
   "metadata": {},
   "outputs": [],
   "source": [
    "# Single Inheritance\n",
    "\n",
    "class Bank:\n",
    "    def bankInfo():\n",
    "        print(\"Bank Information\")\n",
    "        print(\"Bank Name: XYZ Bank\")\n",
    "        print(\"Bank Address: 123 Main St\")\n",
    "class Customers(Bank):\n",
    "    def customerInfo():\n",
    "        print(\"Customer Information\")\n",
    "        print(\"Customer Name: John Doe\")\n",
    "        print(\"Customer Address: 456 Elm St\")"
   ]
  },
  {
   "cell_type": "code",
   "execution_count": 2,
   "metadata": {},
   "outputs": [
    {
     "name": "stdout",
     "output_type": "stream",
     "text": [
      "Bank Information\n",
      "Bank Name: XYZ Bank\n",
      "Bank Address: 123 Main St\n",
      "Customer Information\n",
      "Customer Name: John Doe\n",
      "Customer Address: 456 Elm St\n"
     ]
    }
   ],
   "source": [
    "# Create Object \n",
    "mybank = Customers\n",
    "mybank.bankInfo()\n",
    "mybank.customerInfo()"
   ]
  }
 ],
 "metadata": {
  "kernelspec": {
   "display_name": "Python 3",
   "language": "python",
   "name": "python3"
  },
  "language_info": {
   "codemirror_mode": {
    "name": "ipython",
    "version": 3
   },
   "file_extension": ".py",
   "mimetype": "text/x-python",
   "name": "python",
   "nbconvert_exporter": "python",
   "pygments_lexer": "ipython3",
   "version": "3.13.0"
  }
 },
 "nbformat": 4,
 "nbformat_minor": 2
}
