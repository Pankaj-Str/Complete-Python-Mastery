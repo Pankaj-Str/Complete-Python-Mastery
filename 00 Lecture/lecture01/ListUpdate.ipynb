{
 "cells": [
  {
   "cell_type": "code",
   "execution_count": 1,
   "metadata": {},
   "outputs": [
    {
     "name": "stdout",
     "output_type": "stream",
     "text": [
      "['Python', 'Java', 'C++', 'C#', 'Ruby', 'JavaScript']\n"
     ]
    }
   ],
   "source": [
    "# list in python\n",
    "\n",
    "# list is a collection of items in a particular order \n",
    "# list is mutable\n",
    "# list is defined by square brackets []\n",
    "\n",
    "# creating a list\n",
    "\n",
    "Programming_languages = ['Python', 'Java', 'C++', 'C#', 'Ruby', 'JavaScript']\n",
    "print(Programming_languages)"
   ]
  },
  {
   "cell_type": "code",
   "execution_count": 2,
   "metadata": {},
   "outputs": [],
   "source": [
    "# indexing in list\n",
    "# index starts from 0      0         1       2      3      4        5\n",
    "Programming_languages = ['Python', 'Java', 'C++', 'C#', 'Ruby', 'JavaScript']\n",
    "# nagative indexing        -6        -5      -4     -3     -2       -1"
   ]
  },
  {
   "cell_type": "code",
   "execution_count": 5,
   "metadata": {},
   "outputs": [
    {
     "name": "stdout",
     "output_type": "stream",
     "text": [
      "Python\n",
      "JavaScript\n"
     ]
    }
   ],
   "source": [
    "# accessing elements in a list\n",
    "print(Programming_languages[0])\n",
    "print(Programming_languages[-1])"
   ]
  },
  {
   "cell_type": "code",
   "execution_count": 8,
   "metadata": {},
   "outputs": [
    {
     "name": "stdout",
     "output_type": "stream",
     "text": [
      "['Python', 'Java', 'C++']\n",
      "['Python', 'Java', 'C++']\n",
      "['C++', 'C#', 'Ruby', 'JavaScript']\n"
     ]
    }
   ],
   "source": [
    "# slicing a list\n",
    "\n",
    "print(Programming_languages[0:3])\n",
    "print(Programming_languages[:3])\n",
    "print(Programming_languages[2:])"
   ]
  },
  {
   "cell_type": "code",
   "execution_count": 9,
   "metadata": {},
   "outputs": [
    {
     "name": "stdout",
     "output_type": "stream",
     "text": [
      "['Python', 'Java', 'C++', 'C#', 'Ruby', 'JavaScript', 'PHP']\n"
     ]
    }
   ],
   "source": [
    "# add new elements to a list\n",
    "\n",
    "# append() method\n",
    "Programming_languages.append('PHP')\n",
    "print(Programming_languages)"
   ]
  },
  {
   "cell_type": "code",
   "execution_count": 10,
   "metadata": {},
   "outputs": [],
   "source": [
    "# insert() method\n",
    "Programming_languages.insert(2, 'Go')"
   ]
  },
  {
   "cell_type": "code",
   "execution_count": 11,
   "metadata": {},
   "outputs": [
    {
     "name": "stdout",
     "output_type": "stream",
     "text": [
      "['Python', 'Java', 'Go', 'C++', 'C#', 'Ruby', 'JavaScript', 'PHP']\n"
     ]
    }
   ],
   "source": [
    "print(Programming_languages)"
   ]
  },
  {
   "cell_type": "code",
   "execution_count": 12,
   "metadata": {},
   "outputs": [
    {
     "name": "stdout",
     "output_type": "stream",
     "text": [
      "['Python', 'Java', 'Go', 'C++', 'C#', 'Ruby', 'JavaScript', 'PHP', 'R', 'Swift']\n"
     ]
    }
   ],
   "source": [
    "# extend() method\n",
    "Programming_languages.extend(['R', 'Swift'])\n",
    "print(Programming_languages)"
   ]
  },
  {
   "cell_type": "code",
   "execution_count": 13,
   "metadata": {},
   "outputs": [
    {
     "name": "stdout",
     "output_type": "stream",
     "text": [
      "Swift\n"
     ]
    }
   ],
   "source": [
    "# remove elements from a list\n",
    "removed = Programming_languages.pop()\n",
    "print(removed)"
   ]
  },
  {
   "cell_type": "code",
   "execution_count": 14,
   "metadata": {},
   "outputs": [
    {
     "name": "stdout",
     "output_type": "stream",
     "text": [
      "['Python', 'Java', 'Go', 'C++', 'C#', 'Ruby', 'JavaScript', 'PHP', 'R']\n"
     ]
    }
   ],
   "source": [
    "print(Programming_languages)"
   ]
  },
  {
   "cell_type": "code",
   "execution_count": 15,
   "metadata": {},
   "outputs": [
    {
     "name": "stdout",
     "output_type": "stream",
     "text": [
      "['Python', 'Java', 'Go', 'C#', 'Ruby', 'JavaScript', 'PHP', 'R']\n"
     ]
    }
   ],
   "source": [
    "# using remove() method\n",
    "\n",
    "Programming_languages.remove('C++')\n",
    "print(Programming_languages)"
   ]
  },
  {
   "cell_type": "code",
   "execution_count": 19,
   "metadata": {},
   "outputs": [
    {
     "name": "stdout",
     "output_type": "stream",
     "text": [
      "['C#', 'Go', 'Java', 'JavaScript', 'PHP', 'Python', 'R', 'Ruby']\n"
     ]
    }
   ],
   "source": [
    "# sorting a list\n",
    "Programming_languages.sort()\n",
    "print(Programming_languages)"
   ]
  },
  {
   "cell_type": "code",
   "execution_count": 20,
   "metadata": {},
   "outputs": [
    {
     "name": "stdout",
     "output_type": "stream",
     "text": [
      "['Ruby', 'R', 'Python', 'PHP', 'JavaScript', 'Java', 'Go', 'C#']\n"
     ]
    }
   ],
   "source": [
    "# reverse a list\n",
    "Programming_languages.reverse()\n",
    "print(Programming_languages)"
   ]
  },
  {
   "cell_type": "code",
   "execution_count": 21,
   "metadata": {},
   "outputs": [
    {
     "name": "stdout",
     "output_type": "stream",
     "text": [
      "8\n"
     ]
    }
   ],
   "source": [
    "# length of a list\n",
    "print(len(Programming_languages))\n",
    "# output: 5"
   ]
  },
  {
   "cell_type": "code",
   "execution_count": 22,
   "metadata": {},
   "outputs": [
    {
     "name": "stdout",
     "output_type": "stream",
     "text": [
      "Ruby\n",
      "R\n",
      "Python\n",
      "PHP\n",
      "JavaScript\n",
      "Java\n",
      "Go\n",
      "C#\n"
     ]
    }
   ],
   "source": [
    "# looping through a list\n",
    "for language in Programming_languages:\n",
    "    print(language)"
   ]
  },
  {
   "cell_type": "code",
   "execution_count": 23,
   "metadata": {},
   "outputs": [
    {
     "name": "stdout",
     "output_type": "stream",
     "text": [
      "['smaosa', 'kachori', 'fafada', 'pav', 'vada']\n"
     ]
    }
   ],
   "source": [
    "# user input in a list\n",
    "size = int(input('Enter the size of the list: '))\n",
    "my_list = []\n",
    "\n",
    "for i in range(size):\n",
    "    element = input('Enter the element: ')\n",
    "    my_list.append(element)\n",
    "    \n",
    "print(my_list)    "
   ]
  }
 ],
 "metadata": {
  "kernelspec": {
   "display_name": "Python 3",
   "language": "python",
   "name": "python3"
  },
  "language_info": {
   "codemirror_mode": {
    "name": "ipython",
    "version": 3
   },
   "file_extension": ".py",
   "mimetype": "text/x-python",
   "name": "python",
   "nbconvert_exporter": "python",
   "pygments_lexer": "ipython3",
   "version": "3.13.0"
  }
 },
 "nbformat": 4,
 "nbformat_minor": 2
}
