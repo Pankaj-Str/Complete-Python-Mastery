{
 "cells": [
  {
   "cell_type": "code",
   "execution_count": 6,
   "metadata": {},
   "outputs": [
    {
     "name": "stdout",
     "output_type": "stream",
     "text": [
      "Invalid input\n"
     ]
    }
   ],
   "source": [
    "try:\n",
    "    name = str(input(\"Enter your name \"))\n",
    "    age = int(input(\"Enter Your Age \"))\n",
    "\n",
    "\n",
    "    print(f'My name is {name} and age {age}')\n",
    "except ValueError:\n",
    "    print(\"Invalid input\")\n"
   ]
  },
  {
   "cell_type": "code",
   "execution_count": 10,
   "metadata": {},
   "outputs": [
    {
     "name": "stdout",
     "output_type": "stream",
     "text": [
      "Height cannot be zero\n"
     ]
    }
   ],
   "source": [
    "try:\n",
    "    name = str(input(\"Enter your name \"))\n",
    "    age = int(input(\"Enter Your Age \"))\n",
    "    height = int(input(\"Enter Your Height \"))\n",
    "\n",
    "    BMI = age/height;\n",
    "\n",
    "    print(f'My name is {name} and age {age}')\n",
    "    print(f'BMI = {BMI}')\n",
    "except ValueError:\n",
    "    print(\"Invalid input\")\n",
    "except ZeroDivisionError:\n",
    "    print(\"Height cannot be zero\")"
   ]
  }
 ],
 "metadata": {
  "kernelspec": {
   "display_name": "Python 3",
   "language": "python",
   "name": "python3"
  },
  "language_info": {
   "codemirror_mode": {
    "name": "ipython",
    "version": 3
   },
   "file_extension": ".py",
   "mimetype": "text/x-python",
   "name": "python",
   "nbconvert_exporter": "python",
   "pygments_lexer": "ipython3",
   "version": "3.13.0"
  }
 },
 "nbformat": 4,
 "nbformat_minor": 2
}
