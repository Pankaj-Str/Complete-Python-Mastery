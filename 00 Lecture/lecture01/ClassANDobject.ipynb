{
 "cells": [
  {
   "cell_type": "code",
   "execution_count": 1,
   "metadata": {},
   "outputs": [],
   "source": [
    "# create a class \n",
    "\n",
    "class Bank:\n",
    "    def info():\n",
    "        print(\"Bank Information\")\n",
    "        print(\"Bank Name: ABC Bank\")\n",
    "        print(\"Bank Address: 123 Main St\")\n",
    "    def CreditCard():\n",
    "        print(\"Credit Card Information\")\n",
    "        print(\"Card Type: Visa\")\n",
    "        print(\"Card Number: 1234-5678-9012-3456\")\n",
    "    def CardLimit():\n",
    "        print(\"Card Limit: $1000\")\n",
    "      "
   ]
  },
  {
   "cell_type": "code",
   "execution_count": 3,
   "metadata": {},
   "outputs": [
    {
     "name": "stdout",
     "output_type": "stream",
     "text": [
      "Bank Information\n",
      "Bank Name: ABC Bank\n",
      "Bank Address: 123 Main St\n",
      "Card Limit: $1000\n",
      "Credit Card Information\n",
      "Card Type: Visa\n",
      "Card Number: 1234-5678-9012-3456\n"
     ]
    }
   ],
   "source": [
    "# create a object \n",
    "mybank = Bank\n",
    "mybank.info()\n",
    "mybank.CardLimit()\n",
    "mybank.CreditCard()"
   ]
  },
  {
   "cell_type": "code",
   "execution_count": 11,
   "metadata": {},
   "outputs": [],
   "source": [
    "# Constructor\n",
    "\n",
    "class creditcard:\n",
    "    def __init__(a):\n",
    "        print(\"Bank Name ICICI\")\n",
    "    def CardInfo(a):\n",
    "        print(\"Credit Card Information\")\n",
    "        print(\"Card Type: Visa\")\n",
    "        print(\"Card Number: 1234-5678-9012-3456\") \n",
    "    def CardLimit(a):\n",
    "        print(1000000)       "
   ]
  },
  {
   "cell_type": "code",
   "execution_count": 12,
   "metadata": {},
   "outputs": [
    {
     "name": "stdout",
     "output_type": "stream",
     "text": [
      "Bank Name ICICI\n",
      "Credit Card Information\n",
      "Card Type: Visa\n",
      "Card Number: 1234-5678-9012-3456\n",
      "1000000\n"
     ]
    }
   ],
   "source": [
    "cd=creditcard()\n",
    "cd.CardInfo()\n",
    "cd.CardLimit()"
   ]
  }
 ],
 "metadata": {
  "kernelspec": {
   "display_name": "Python 3",
   "language": "python",
   "name": "python3"
  },
  "language_info": {
   "codemirror_mode": {
    "name": "ipython",
    "version": 3
   },
   "file_extension": ".py",
   "mimetype": "text/x-python",
   "name": "python",
   "nbconvert_exporter": "python",
   "pygments_lexer": "ipython3",
   "version": "3.13.0"
  }
 },
 "nbformat": 4,
 "nbformat_minor": 2
}
