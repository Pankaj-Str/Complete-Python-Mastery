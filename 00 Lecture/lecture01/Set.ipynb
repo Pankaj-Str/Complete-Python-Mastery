{
 "cells": [
  {
   "cell_type": "code",
   "execution_count": 2,
   "metadata": {},
   "outputs": [
    {
     "name": "stdout",
     "output_type": "stream",
     "text": [
      "<class 'dict'>\n",
      "<class 'set'>\n"
     ]
    }
   ],
   "source": [
    "# set in python\n",
    "# create a empty set\n",
    "\n",
    "data = {}\n",
    "# check data type \n",
    "print(type(data))  # <class 'dict'>\n",
    "\n",
    "data = set()\n",
    "# check data type\n",
    "print(type(data))  # <class 'set'>"
   ]
  },
  {
   "cell_type": "code",
   "execution_count": 3,
   "metadata": {},
   "outputs": [
    {
     "name": "stdout",
     "output_type": "stream",
     "text": [
      "{1, 2, 67, 4, 5, 6, 7}\n"
     ]
    }
   ],
   "source": [
    "# cerate a set \n",
    "data = {2,2,1,4,5,6,6,6,67,7,4,6,7,7,7}\n",
    "\n",
    "print(data)"
   ]
  },
  {
   "cell_type": "code",
   "execution_count": 5,
   "metadata": {},
   "outputs": [
    {
     "name": "stdout",
     "output_type": "stream",
     "text": [
      "{1, 2, 67, 4, 5, 6, 7}\n"
     ]
    }
   ],
   "source": [
    "listData = [2,2,1,4,5,6,6,6,67,7,4,6,7,7,7]\n",
    "mySet = set(listData)\n",
    "print(mySet)"
   ]
  },
  {
   "cell_type": "code",
   "execution_count": 6,
   "metadata": {},
   "outputs": [
    {
     "name": "stdout",
     "output_type": "stream",
     "text": [
      "{12, 45, 78, 89, 444}\n"
     ]
    }
   ],
   "source": [
    "data = {12,45,78,89,89,12}\n",
    "\n",
    "# add()\n",
    "data.add(444)\n",
    "print(data)"
   ]
  },
  {
   "cell_type": "code",
   "execution_count": 8,
   "metadata": {},
   "outputs": [
    {
     "name": "stdout",
     "output_type": "stream",
     "text": [
      "{66, 99, 12, 45, 78, 77, 88, 89, 444}\n"
     ]
    }
   ],
   "source": [
    "update_data = [99,88,66]\n",
    "\n",
    "# using update() method\n",
    "\n",
    "data.update(update_data)\n",
    "print(data)"
   ]
  },
  {
   "cell_type": "code",
   "execution_count": 9,
   "metadata": {},
   "outputs": [
    {
     "name": "stdout",
     "output_type": "stream",
     "text": [
      "{66, 99, 12, 45, 78, 77, 88, 89, 444}\n"
     ]
    }
   ],
   "source": [
    "data.discard(777)\n",
    "print(data)"
   ]
  },
  {
   "cell_type": "code",
   "execution_count": 12,
   "metadata": {},
   "outputs": [
    {
     "name": "stdout",
     "output_type": "stream",
     "text": [
      "{66, 12, 45, 78, 77, 88, 89, 444}\n"
     ]
    }
   ],
   "source": [
    "#data.remove(999)\n",
    "print(data)"
   ]
  },
  {
   "cell_type": "code",
   "execution_count": 14,
   "metadata": {},
   "outputs": [
    {
     "name": "stdout",
     "output_type": "stream",
     "text": [
      "{45, 78, 77, 88, 89, 444}\n"
     ]
    }
   ],
   "source": [
    "data.pop()\n",
    "print(data)"
   ]
  },
  {
   "cell_type": "code",
   "execution_count": 15,
   "metadata": {},
   "outputs": [
    {
     "name": "stdout",
     "output_type": "stream",
     "text": [
      "set()\n"
     ]
    }
   ],
   "source": [
    "data.clear()\n",
    "print(data)"
   ]
  }
 ],
 "metadata": {
  "kernelspec": {
   "display_name": "Python 3",
   "language": "python",
   "name": "python3"
  },
  "language_info": {
   "codemirror_mode": {
    "name": "ipython",
    "version": 3
   },
   "file_extension": ".py",
   "mimetype": "text/x-python",
   "name": "python",
   "nbconvert_exporter": "python",
   "pygments_lexer": "ipython3",
   "version": "3.13.0"
  }
 },
 "nbformat": 4,
 "nbformat_minor": 2
}
