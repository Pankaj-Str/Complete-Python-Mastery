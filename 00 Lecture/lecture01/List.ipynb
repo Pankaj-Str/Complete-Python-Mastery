{
 "cells": [
  {
   "cell_type": "code",
   "execution_count": 3,
   "metadata": {},
   "outputs": [
    {
     "name": "stdout",
     "output_type": "stream",
     "text": [
      "[]\n",
      "[1, 2, 3, 4, 5]\n",
      "[1.1, 2.2, 3.3, 4.4, 5.5]\n",
      "['apple', 'banana', 'cherry']\n",
      "[1, 2.2, 'apple']\n"
     ]
    }
   ],
   "source": [
    "# List in python \n",
    "\n",
    "# what is list \n",
    "# list is a collection of items which can be of any data type including strings, integers, floats, etc.\n",
    "# list is mutable, which means that you can change the value of elements in a list.\n",
    "\n",
    "# creating a list\n",
    "# empty list\n",
    "my_list = []\n",
    "print(my_list)\n",
    "\n",
    "# integer list\n",
    "my_list = [1, 2, 3, 4, 5]\n",
    "print(my_list)\n",
    "\n",
    "# float list\n",
    "my_list = [1.1, 2.2, 3.3, 4.4, 5.5]\n",
    "print(my_list)\n",
    "\n",
    "# string list\n",
    "my_list = ['apple', 'banana', 'cherry']\n",
    "print(my_list)\n",
    "\n",
    "# mixed list\n",
    "my_list = [1, 2.2, 'apple']\n",
    "print(my_list)"
   ]
  },
  {
   "cell_type": "code",
   "execution_count": 4,
   "metadata": {},
   "outputs": [
    {
     "name": "stdout",
     "output_type": "stream",
     "text": [
      "[[1, 2, 3], [4, 5, 6]]\n"
     ]
    }
   ],
   "source": [
    "# nested list\n",
    "my_list = [[1, 2, 3], [4, 5, 6]]\n",
    "print(my_list)"
   ]
  },
  {
   "cell_type": "code",
   "execution_count": 6,
   "metadata": {},
   "outputs": [
    {
     "name": "stdout",
     "output_type": "stream",
     "text": [
      "apple\n",
      "elderberry\n",
      "dates\n"
     ]
    }
   ],
   "source": [
    "# accessing elements in a list\n",
    "\n",
    "# create a fruit list\n",
    "# -ve indexing  -5       -4        -3        -2        -1   \n",
    "fruit_list = ['apple', 'banana', 'cherry', 'dates', 'elderberry']\n",
    "# index          0        1         2         3         4\n",
    "\n",
    "\n",
    "# access the first element\n",
    "\n",
    "print(fruit_list[0])\n",
    "\n",
    "# access the last element\n",
    "print(fruit_list[-1])\n",
    "\n",
    "print(fruit_list[-2])"
   ]
  },
  {
   "cell_type": "code",
   "execution_count": 10,
   "metadata": {},
   "outputs": [
    {
     "name": "stdout",
     "output_type": "stream",
     "text": [
      "['banana', 'cherry', 'dates']\n",
      "['apple', 'banana', 'cherry']\n",
      "['cherry', 'dates', 'elderberry']\n",
      "['apple', 'banana', 'cherry', 'dates', 'elderberry']\n"
     ]
    }
   ],
   "source": [
    "# slicing a list\n",
    "\n",
    "print(fruit_list[1:4])\n",
    "\n",
    "print(fruit_list[:3])\n",
    "\n",
    "print(fruit_list[2:])\n",
    "\n",
    "print(fruit_list[:])"
   ]
  },
  {
   "cell_type": "code",
   "execution_count": 12,
   "metadata": {},
   "outputs": [
    {
     "name": "stdout",
     "output_type": "stream",
     "text": [
      "['apple', 'banana', 'cherry', 'dates', 'elderberry', 'fig', 'fig']\n",
      "['apple', 'banana', 'grapes', 'cherry', 'dates', 'elderberry', 'fig', 'fig']\n"
     ]
    }
   ],
   "source": [
    "# add new elements to a list\n",
    "\n",
    "# append() method\n",
    "# add an element to the end of the list\n",
    "\n",
    "fruit_list.append('fig')\n",
    "print(fruit_list)\n",
    "\n",
    "# use insert() method to add an element at a specific index\n",
    "\n",
    "fruit_list.insert(2, 'grapes')\n",
    "print(fruit_list)"
   ]
  },
  {
   "cell_type": "code",
   "execution_count": 13,
   "metadata": {},
   "outputs": [
    {
     "name": "stdout",
     "output_type": "stream",
     "text": [
      "['apple', 'banana', 'grapes', 'cherry', 'dates', 'elderberry', 'fig', 'fig', 'honeydew', 'jackfruit']\n"
     ]
    }
   ],
   "source": [
    "# extend() method\n",
    "\n",
    "fruit_list.extend(['honeydew', 'jackfruit'])\n",
    "print(fruit_list)"
   ]
  },
  {
   "cell_type": "code",
   "execution_count": 14,
   "metadata": {},
   "outputs": [],
   "source": [
    "# remove elements from a list\n",
    "fruit_list.remove('fig')"
   ]
  },
  {
   "cell_type": "code",
   "execution_count": 15,
   "metadata": {},
   "outputs": [
    {
     "name": "stdout",
     "output_type": "stream",
     "text": [
      "['apple', 'banana', 'grapes', 'cherry', 'dates', 'elderberry', 'fig', 'honeydew', 'jackfruit']\n"
     ]
    }
   ],
   "source": [
    "print(fruit_list)"
   ]
  },
  {
   "cell_type": "code",
   "execution_count": 17,
   "metadata": {},
   "outputs": [
    {
     "name": "stdout",
     "output_type": "stream",
     "text": [
      "['apple', 'banana', 'grapes', 'cherry', 'dates', 'elderberry', 'fig']\n"
     ]
    }
   ],
   "source": [
    "# remove the last element from the list\n",
    "fruit_list.pop()\n",
    "print(fruit_list)"
   ]
  },
  {
   "cell_type": "code",
   "execution_count": 18,
   "metadata": {},
   "outputs": [
    {
     "name": "stdout",
     "output_type": "stream",
     "text": [
      "['apple', 'banana', 'cherry', 'dates', 'elderberry', 'fig']\n"
     ]
    }
   ],
   "source": [
    "# remove an element at a specific index\n",
    "fruit_list.pop(2)\n",
    "print(fruit_list)"
   ]
  },
  {
   "cell_type": "code",
   "execution_count": 19,
   "metadata": {},
   "outputs": [
    {
     "name": "stdout",
     "output_type": "stream",
     "text": [
      "[]\n"
     ]
    }
   ],
   "source": [
    "# remove all elements from the list\n",
    "fruit_list.clear()\n",
    "print(fruit_list)"
   ]
  },
  {
   "cell_type": "code",
   "execution_count": 20,
   "metadata": {},
   "outputs": [
    {
     "name": "stdout",
     "output_type": "stream",
     "text": [
      "apple\n",
      "banana\n",
      "cherry\n",
      "dates\n",
      "elderberry\n"
     ]
    }
   ],
   "source": [
    "# print using loop \n",
    "\n",
    "fruit_list = ['apple', 'banana', 'cherry', 'dates', 'elderberry']\n",
    "for fruit in fruit_list:\n",
    "    print(fruit)"
   ]
  },
  {
   "cell_type": "code",
   "execution_count": 21,
   "metadata": {},
   "outputs": [
    {
     "name": "stdout",
     "output_type": "stream",
     "text": [
      "samosa\n",
      "kachori\n",
      "fafada\n",
      "jalebi\n"
     ]
    }
   ],
   "source": [
    "# take user input and store in a list\n",
    "\n",
    "# create an empty list\n",
    "\n",
    "my_list = []\n",
    "\n",
    "size = int(input('Enter the size of the list: '))\n",
    "\n",
    "for i in range(size):\n",
    "    element = input('Enter the element: ')\n",
    "    my_list.append(element)\n",
    "    \n",
    "    \n",
    "for element in my_list:\n",
    "    print(element)    "
   ]
  }
 ],
 "metadata": {
  "kernelspec": {
   "display_name": "Python 3",
   "language": "python",
   "name": "python3"
  },
  "language_info": {
   "codemirror_mode": {
    "name": "ipython",
    "version": 3
   },
   "file_extension": ".py",
   "mimetype": "text/x-python",
   "name": "python",
   "nbconvert_exporter": "python",
   "pygments_lexer": "ipython3",
   "version": "3.13.0"
  }
 },
 "nbformat": 4,
 "nbformat_minor": 2
}
