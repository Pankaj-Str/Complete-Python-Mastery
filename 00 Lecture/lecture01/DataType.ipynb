{
 "cells": [
  {
   "cell_type": "code",
   "execution_count": 9,
   "metadata": {},
   "outputs": [
    {
     "name": "stdout",
     "output_type": "stream",
     "text": [
      "<class 'int'>\n",
      "<class 'float'>\n",
      "<class 'str'>\n",
      "<class 'list'>\n",
      "<class 'dict'>\n",
      "<class 'tuple'>\n",
      "<class 'tuple'>\n",
      "<class 'set'>\n",
      "<class 'bool'>\n"
     ]
    }
   ],
   "source": [
    "# datatype\n",
    "\n",
    "data = 10 \n",
    "\n",
    "# use type() method\n",
    "print(type(data))\n",
    "\n",
    "data = 3.4\n",
    "print(type(data))\n",
    "\n",
    "data = \"joy\"\n",
    "print(type(data))\n",
    "\n",
    "data = [34,44,22,21,11]\n",
    "print(type(data))\n",
    "\n",
    "data = {\"name\": \"joy\", \"age\": 21}\n",
    "print(type(data))\n",
    "\n",
    "data = (3,2,2,1)\n",
    "print(type(data))\n",
    "\n",
    "data = 33,44,33\n",
    "print(type(data))\n",
    "\n",
    "data = {232,343,232,23}\n",
    "\n",
    "print(type(data))\n",
    "\n",
    "data = True\n",
    "print(type(data))\n",
    "\n"
   ]
  }
 ],
 "metadata": {
  "kernelspec": {
   "display_name": "Python 3",
   "language": "python",
   "name": "python3"
  },
  "language_info": {
   "codemirror_mode": {
    "name": "ipython",
    "version": 3
   },
   "file_extension": ".py",
   "mimetype": "text/x-python",
   "name": "python",
   "nbconvert_exporter": "python",
   "pygments_lexer": "ipython3",
   "version": "3.13.0"
  }
 },
 "nbformat": 4,
 "nbformat_minor": 2
}
