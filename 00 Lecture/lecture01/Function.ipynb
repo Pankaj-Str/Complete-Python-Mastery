{
 "cells": [
  {
   "cell_type": "code",
   "execution_count": null,
   "metadata": {},
   "outputs": [],
   "source": [
    "# function\n",
    "\n",
    "# basic function \n",
    "\n",
    "# def functionName():\n",
    "#     output\n",
    "\n",
    "\n",
    "# calling a function\n",
    "# functionName()"
   ]
  },
  {
   "cell_type": "code",
   "execution_count": 2,
   "metadata": {},
   "outputs": [
    {
     "name": "stdout",
     "output_type": "stream",
     "text": [
      "welcome to codes with pankaj\n",
      "welcome to codes with pankaj\n"
     ]
    }
   ],
   "source": [
    "# example \n",
    "def greet():\n",
    "    print(\"welcome to codes with pankaj\")\n",
    "\n",
    "greet()\n",
    "greet()"
   ]
  },
  {
   "cell_type": "code",
   "execution_count": null,
   "metadata": {},
   "outputs": [],
   "source": [
    "# function with arguments\n",
    "\n",
    "# what is arguments in function\n",
    "# arguments are the values that we pass to the function\n",
    "\n",
    "\n",
    "# def functionName(arg1, arg2):\n",
    "#     output"
   ]
  },
  {
   "cell_type": "code",
   "execution_count": 4,
   "metadata": {},
   "outputs": [
    {
     "name": "stdout",
     "output_type": "stream",
     "text": [
      "name:  pankaj\n",
      "marks:  90\n",
      "name:  rahul\n",
      "marks:  80\n"
     ]
    }
   ],
   "source": [
    "# example \n",
    "\n",
    "def result(name, marks):\n",
    "    print(\"name: \", name)\n",
    "    print(\"marks: \", marks)\n",
    "    \n",
    "    \n",
    "# calling a function\n",
    "result(\"pankaj\", 90)\n",
    "result(\"rahul\", 80)    "
   ]
  },
  {
   "cell_type": "code",
   "execution_count": null,
   "metadata": {},
   "outputs": [],
   "source": [
    "# function with return statement\n",
    "\n",
    "# what is return statement in function\n",
    "# return statement is used to return the value from the function\n",
    "# return statement is optional in function"
   ]
  },
  {
   "cell_type": "code",
   "execution_count": 5,
   "metadata": {},
   "outputs": [
    {
     "name": "stdout",
     "output_type": "stream",
     "text": [
      "10\n"
     ]
    }
   ],
   "source": [
    "# example \n",
    "\n",
    "def get_number():\n",
    "    return 10\n",
    "\n",
    "\n",
    "# calling a function\n",
    "\n",
    "print(get_number())"
   ]
  },
  {
   "cell_type": "code",
   "execution_count": 6,
   "metadata": {},
   "outputs": [
    {
     "name": "stdout",
     "output_type": "stream",
     "text": [
      "10\n"
     ]
    }
   ],
   "source": [
    "number = get_number()\n",
    "print(number)"
   ]
  },
  {
   "cell_type": "code",
   "execution_count": 7,
   "metadata": {},
   "outputs": [
    {
     "name": "stdout",
     "output_type": "stream",
     "text": [
      "30\n"
     ]
    }
   ],
   "source": [
    "# function with arguments and return statement\n",
    "\n",
    "# example\n",
    "\n",
    "def add(a, b):\n",
    "    return a+b\n",
    "\n",
    "\n",
    "# calling a function\n",
    "\n",
    "print(add(10, 20))"
   ]
  }
 ],
 "metadata": {
  "kernelspec": {
   "display_name": "Python 3",
   "language": "python",
   "name": "python3"
  },
  "language_info": {
   "codemirror_mode": {
    "name": "ipython",
    "version": 3
   },
   "file_extension": ".py",
   "mimetype": "text/x-python",
   "name": "python",
   "nbconvert_exporter": "python",
   "pygments_lexer": "ipython3",
   "version": "3.13.0"
  }
 },
 "nbformat": 4,
 "nbformat_minor": 2
}
