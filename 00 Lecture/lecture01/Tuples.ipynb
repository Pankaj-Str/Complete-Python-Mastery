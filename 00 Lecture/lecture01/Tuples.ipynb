{
 "cells": [
  {
   "cell_type": "code",
   "execution_count": 2,
   "metadata": {},
   "outputs": [
    {
     "name": "stdout",
     "output_type": "stream",
     "text": [
      "()\n",
      "<class 'tuple'>\n"
     ]
    }
   ],
   "source": [
    "# tuples in python \n",
    "\n",
    "#tuples are immutable, meaning they cannot be changed after creation\n",
    "# tuples are defined by enclosing elements in parentheses ( ) instead of square brackets [ ] like lists\n",
    "\n",
    "# creating a tuple\n",
    "\n",
    "# empty tuple\n",
    "\n",
    "data = ()\n",
    "print(data)\n",
    "\n",
    "# check type \n",
    "print(type(data))"
   ]
  },
  {
   "cell_type": "code",
   "execution_count": 3,
   "metadata": {},
   "outputs": [
    {
     "name": "stdout",
     "output_type": "stream",
     "text": [
      "(21, 21, 45, 78, 336, 56)\n"
     ]
    }
   ],
   "source": [
    "# create a tuples \n",
    "\n",
    "data = (21,21,45,78,336,56)\n",
    "print(data)"
   ]
  },
  {
   "cell_type": "code",
   "execution_count": 5,
   "metadata": {},
   "outputs": [
    {
     "name": "stdout",
     "output_type": "stream",
     "text": [
      "45\n",
      "(45, 78)\n"
     ]
    }
   ],
   "source": [
    "# access data from tuples\n",
    "\n",
    "print(data[2])\n",
    "\n",
    "#slicing data from tuples\n",
    "\n",
    "print(data[2:4])"
   ]
  },
  {
   "cell_type": "code",
   "execution_count": 8,
   "metadata": {},
   "outputs": [
    {
     "name": "stdout",
     "output_type": "stream",
     "text": [
      "5\n"
     ]
    }
   ],
   "source": [
    "# count()\n",
    "data = (21,56,47,58,2,2,2,2,2,5)\n",
    "print(data.count(2))"
   ]
  },
  {
   "cell_type": "code",
   "execution_count": 9,
   "metadata": {},
   "outputs": [
    {
     "name": "stdout",
     "output_type": "stream",
     "text": [
      "1\n"
     ]
    }
   ],
   "source": [
    "# index()\n",
    "\n",
    "print(data.index(56))"
   ]
  }
 ],
 "metadata": {
  "kernelspec": {
   "display_name": "Python 3",
   "language": "python",
   "name": "python3"
  },
  "language_info": {
   "codemirror_mode": {
    "name": "ipython",
    "version": 3
   },
   "file_extension": ".py",
   "mimetype": "text/x-python",
   "name": "python",
   "nbconvert_exporter": "python",
   "pygments_lexer": "ipython3",
   "version": "3.13.0"
  }
 },
 "nbformat": 4,
 "nbformat_minor": 2
}
