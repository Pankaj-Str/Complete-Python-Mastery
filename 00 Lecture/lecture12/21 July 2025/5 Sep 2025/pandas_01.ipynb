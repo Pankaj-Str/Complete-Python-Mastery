{
 "cells": [
  {
   "cell_type": "code",
   "execution_count": null,
   "id": "f3d49f13",
   "metadata": {},
   "outputs": [],
   "source": [
    "# %pip install pandas\n",
    "import pandas as pd\n",
    "\n",
    "data = [21,22,34,56,79,80,90]\n",
    "\n",
    "s = pd.Series(data)\n",
    "print(s)\n",
    "# update index \n",
    "indexx = ['a','b','c','d','e','f','g']\n",
    "s = pd.Series(data,index=indexx , dtype='float')\n",
    "print(s)\n",
    "# dataframe\n",
    "\n",
    "df=pd.DataFrame(data)\n",
    "print(df)"
   ]
  },
  {
   "cell_type": "code",
   "execution_count": null,
   "id": "c5644275",
   "metadata": {},
   "outputs": [],
   "source": [
    "# example \n",
    "\n",
    "data = {\n",
    "    'name':['Rahul','Tiya','Nishant','Joy','Rohan','Heena'],\n",
    "    'age':[20,34,56,23,45,50],\n",
    "    'city':['goa','jaipur','mumbai','pune','bhuj','surat']\n",
    "}\n",
    "\n",
    "df = pd.DataFrame(data)\n",
    "print(df)\n",
    "\n",
    "# change index \n",
    "ind = [101,102,103,104,105,106]\n",
    "\n",
    "df = pd.DataFrame(data,index=ind)\n",
    "print('updated data---------')\n",
    "print(df)\n",
    "\n",
    "df.to_csv('new_data.csv',index=False)"
   ]
  }
 ],
 "metadata": {
  "kernelspec": {
   "display_name": "Python 3",
   "language": "python",
   "name": "python3"
  },
  "language_info": {
   "codemirror_mode": {
    "name": "ipython",
    "version": 3
   },
   "file_extension": ".py",
   "mimetype": "text/x-python",
   "name": "python",
   "nbconvert_exporter": "python",
   "pygments_lexer": "ipython3",
   "version": "3.13.5"
  }
 },
 "nbformat": 4,
 "nbformat_minor": 5
}
