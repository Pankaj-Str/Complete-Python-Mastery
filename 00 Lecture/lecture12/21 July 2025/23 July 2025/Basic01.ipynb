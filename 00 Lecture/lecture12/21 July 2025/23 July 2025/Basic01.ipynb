{
 "cells": [
  {
   "cell_type": "code",
   "execution_count": 2,
   "id": "4de3ff61",
   "metadata": {},
   "outputs": [
    {
     "name": "stdout",
     "output_type": "stream",
     "text": [
      "My name is :  joy\n",
      "My age is :  23\n",
      "My height is :  4.5\n"
     ]
    }
   ],
   "source": [
    "name = \"joy\"\n",
    "age = 23\n",
    "height = 4.5\n",
    "\n",
    "print(\"My name is : \",name)\n",
    "print(\"My age is : \",age)\n",
    "print(\"My height is : \",height)"
   ]
  },
  {
   "cell_type": "code",
   "execution_count": 3,
   "id": "3388cf25",
   "metadata": {},
   "outputs": [
    {
     "name": "stdout",
     "output_type": "stream",
     "text": [
      "My name is :  joy\n",
      "My age is :  45\n",
      "My height is :  5.6\n"
     ]
    }
   ],
   "source": [
    "# how to take user input\n",
    "\n",
    "# input('msg...')\n",
    "name = input('Enter Your Name - ')\n",
    "age = input('Enter `your Age - ')\n",
    "height = input('Enter Your height - ')\n",
    "\n",
    "print(\"My name is : \",name)\n",
    "print(\"My age is : \",age)\n",
    "print(\"My height is : \",height)"
   ]
  },
  {
   "cell_type": "code",
   "execution_count": 4,
   "id": "ba2ca29f",
   "metadata": {},
   "outputs": [
    {
     "name": "stdout",
     "output_type": "stream",
     "text": [
      "this is result :  4560\n"
     ]
    }
   ],
   "source": [
    "a = input('Enter number 1 ')\n",
    "b = input('Enter number 2 ')\n",
    "\n",
    "result = a+b\n",
    "print(\"this is result : \",result)"
   ]
  },
  {
   "cell_type": "code",
   "execution_count": 5,
   "id": "8186b7ee",
   "metadata": {},
   "outputs": [
    {
     "name": "stdout",
     "output_type": "stream",
     "text": [
      "<class 'str'>\n"
     ]
    }
   ],
   "source": [
    "# check type\n",
    "# type(data)\n",
    "\n",
    "print(type(a))"
   ]
  },
  {
   "cell_type": "code",
   "execution_count": 17,
   "id": "f08bb475",
   "metadata": {},
   "outputs": [
    {
     "name": "stdout",
     "output_type": "stream",
     "text": [
      "<class 'int'>\n",
      "<class 'str'>\n",
      "<class 'float'>\n",
      "<class 'bool'>\n",
      "<class 'tuple'>\n",
      "<class 'int'>\n",
      "<class 'tuple'>\n",
      "<class 'tuple'>\n",
      "<class 'tuple'>\n",
      "<class 'list'>\n",
      "<class 'set'>\n",
      "<class 'dict'>\n"
     ]
    }
   ],
   "source": [
    "data = 12\n",
    "print(type(data))\n",
    "\n",
    "data = \"cwpc\"\n",
    "print(type(data))\n",
    "\n",
    "data = 3.4\n",
    "print(type(data))\n",
    "\n",
    "data = True\n",
    "print(type(data))\n",
    "\n",
    "data = 12,\n",
    "print(type(data))\n",
    "\n",
    "data = (12)\n",
    "print(type(data))\n",
    "\n",
    "data = (12,)\n",
    "print(type(data))\n",
    "\n",
    "data = (12,34,23,22)\n",
    "print(type(data))\n",
    "\n",
    "data = 12,34,22\n",
    "print(type(data))\n",
    "\n",
    "data = [12,45,67,22]\n",
    "print(type(data))\n",
    "\n",
    "data = {12,45,67,22}\n",
    "print(type(data))\n",
    "\n",
    "data = {\"name\":\"joy\"}\n",
    "print(type(data))\n"
   ]
  },
  {
   "cell_type": "code",
   "execution_count": null,
   "id": "cdecc95e",
   "metadata": {},
   "outputs": [
    {
     "name": "stdout",
     "output_type": "stream",
     "text": [
      "this is result :  116\n"
     ]
    }
   ],
   "source": [
    "# int()\n",
    "# float()\n",
    "# str()\n",
    "\n",
    "a = int(input('Enter number 1 '))\n",
    "b = int(input('Enter number 2 '))\n",
    "\n",
    "\n",
    "\n",
    "result = a+b\n",
    "print(\"this is result : \",result)"
   ]
  }
 ],
 "metadata": {
  "kernelspec": {
   "display_name": "Python 3",
   "language": "python",
   "name": "python3"
  },
  "language_info": {
   "codemirror_mode": {
    "name": "ipython",
    "version": 3
   },
   "file_extension": ".py",
   "mimetype": "text/x-python",
   "name": "python",
   "nbconvert_exporter": "python",
   "pygments_lexer": "ipython3",
   "version": "3.13.5"
  }
 },
 "nbformat": 4,
 "nbformat_minor": 5
}
