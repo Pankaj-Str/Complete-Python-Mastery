{
 "cells": [
  {
   "cell_type": "code",
   "execution_count": 4,
   "id": "6926769a-a7b2-4dc2-b827-cf4da1910ec1",
   "metadata": {},
   "outputs": [
    {
     "name": "stdout",
     "output_type": "stream",
     "text": [
      "welcome\n",
      "welcome\n",
      "\"welcome\"\n",
      "'welcome'\n"
     ]
    }
   ],
   "source": [
    "# print() function\n",
    "print(\"welcome\")\n",
    "print('welcome')\n",
    "\n",
    "print('\"welcome\"')\n",
    "print(\"'welcome'\")"
   ]
  },
  {
   "cell_type": "code",
   "execution_count": 7,
   "id": "b94b8ad1",
   "metadata": {},
   "outputs": [
    {
     "name": "stdout",
     "output_type": "stream",
     "text": [
      "34343\n",
      "my number is :  6754545\n"
     ]
    }
   ],
   "source": [
    "print(34343)\n",
    "print(\"my number is : \",6754545)"
   ]
  },
  {
   "cell_type": "code",
   "execution_count": null,
   "id": "723daa23",
   "metadata": {},
   "outputs": [
    {
     "name": "stdout",
     "output_type": "stream",
     "text": [
      "10\n",
      "30\n"
     ]
    }
   ],
   "source": [
    "# variable \n",
    "x = 10\n",
    "print(x)\n",
    "x = 30\n",
    "print(x)"
   ]
  },
  {
   "cell_type": "code",
   "execution_count": 10,
   "id": "10a9c6a6",
   "metadata": {},
   "outputs": [
    {
     "name": "stdout",
     "output_type": "stream",
     "text": [
      "60\n"
     ]
    }
   ],
   "source": [
    "x = 10\n",
    "y = 30\n",
    "x = y\n",
    "z = y\n",
    "x = z\n",
    "print(x+z)"
   ]
  },
  {
   "cell_type": "code",
   "execution_count": null,
   "id": "c6e5a98a",
   "metadata": {},
   "outputs": [
    {
     "name": "stdout",
     "output_type": "stream",
     "text": [
      "8\n"
     ]
    }
   ],
   "source": [
    "a = 10\n",
    "b = 4\n",
    "c = 2\n",
    "d = 1\n",
    "a = b\n",
    "b = c \n",
    "c = d\n",
    "d = a + b\n",
    "a = c\n",
    "print(a+c+d)"
   ]
  },
  {
   "cell_type": "code",
   "execution_count": 12,
   "id": "6b36ac74",
   "metadata": {},
   "outputs": [
    {
     "name": "stdout",
     "output_type": "stream",
     "text": [
      "my name is :  joy\n",
      "my age is :  17\n",
      "my height is :  4.5\n"
     ]
    }
   ],
   "source": [
    "name = \"joy\"\n",
    "age = 17\n",
    "height = 4.5\n",
    "\n",
    "print(\"my name is : \",name)\n",
    "print(\"my age is : \",age)\n",
    "print(\"my height is : \",height)\n"
   ]
  },
  {
   "cell_type": "code",
   "execution_count": 13,
   "id": "cf59cd85",
   "metadata": {},
   "outputs": [
    {
     "name": "stdout",
     "output_type": "stream",
     "text": [
      "this is my result :  77\n"
     ]
    }
   ],
   "source": [
    "x = 10\n",
    "y = 67\n",
    "z = x + y\n",
    "print(\"this is my result : \",z)"
   ]
  }
 ],
 "metadata": {
  "kernelspec": {
   "display_name": "Python 3",
   "language": "python",
   "name": "python3"
  },
  "language_info": {
   "codemirror_mode": {
    "name": "ipython",
    "version": 3
   },
   "file_extension": ".py",
   "mimetype": "text/x-python",
   "name": "python",
   "nbconvert_exporter": "python",
   "pygments_lexer": "ipython3",
   "version": "3.13.5"
  }
 },
 "nbformat": 4,
 "nbformat_minor": 5
}
