{
 "cells": [
  {
   "cell_type": "code",
   "execution_count": null,
   "id": "1aff6001",
   "metadata": {},
   "outputs": [],
   "source": [
    "import numpy as np\n",
    "\n",
    "print(np.__version__)"
   ]
  },
  {
   "cell_type": "code",
   "execution_count": null,
   "id": "db31f3f0",
   "metadata": {},
   "outputs": [],
   "source": [
    "# create a array\n",
    "arr1 = np.array([11,22,33,44,55])\n",
    "print(arr1)\n",
    "# check type \n",
    "print(type(arr1))"
   ]
  },
  {
   "cell_type": "code",
   "execution_count": null,
   "id": "4eb8aec9",
   "metadata": {},
   "outputs": [],
   "source": [
    "# create a 2d array \n",
    "arr2 = np.array([[11,22,33],[44,55,66],[77,88,99]])\n",
    "print(arr2)"
   ]
  },
  {
   "cell_type": "code",
   "execution_count": null,
   "id": "246aea12",
   "metadata": {},
   "outputs": [],
   "source": [
    "# create a zero array \n",
    "arr3 = np.zeros([3,3])\n",
    "print(arr3)"
   ]
  },
  {
   "cell_type": "code",
   "execution_count": null,
   "id": "e5f5dbd1",
   "metadata": {},
   "outputs": [],
   "source": [
    "# ones array \n",
    "data = np.ones((5,3))\n",
    "print(data)"
   ]
  },
  {
   "cell_type": "code",
   "execution_count": null,
   "id": "4150af4a",
   "metadata": {},
   "outputs": [],
   "source": [
    "# range \n",
    "arr_range = np.arange(0,10,2)\n",
    "print(arr_range)"
   ]
  },
  {
   "cell_type": "code",
   "execution_count": null,
   "id": "df4d9ab8",
   "metadata": {},
   "outputs": [],
   "source": [
    "arr2 = np.array([[11,22,33],[44,55,66],[77,88,99]])\n",
    "print(arr2)\n",
    "# shape\n",
    "print(arr2.shape)\n",
    "# size \n",
    "print(arr2.size)\n",
    "# check datatype\n",
    "print(arr2.dtype)\n",
    "# dimensions\n",
    "print(arr2.ndim)"
   ]
  },
  {
   "cell_type": "code",
   "execution_count": null,
   "id": "9537d8f5",
   "metadata": {},
   "outputs": [],
   "source": [
    "# operations \n",
    "data = np.array([12,13,14,15,16,17])\n",
    "print(data)\n",
    "print(data+10)\n",
    "print(data*4)\n",
    "print(data**3)\n",
    "\n",
    "# mathematical operations \n",
    "# sum()\n",
    "print(np.sum(data))\n",
    "# mean()\n",
    "print(np.mean(data))\n",
    "# max\n",
    "print(np.max(data))\n",
    "# min\n",
    "print(np.min(data))\n",
    "# square\n",
    "print(np.sqrt(data))"
   ]
  },
  {
   "cell_type": "code",
   "execution_count": null,
   "id": "a0491bd1",
   "metadata": {},
   "outputs": [],
   "source": [
    "# random numbers \n",
    "data = np.random.rand(2,3)\n",
    "print(data)\n",
    "\n",
    "# int random number \n",
    "data = np.random.randint(1,10,size=(3,3))\n",
    "print(data)"
   ]
  },
  {
   "cell_type": "code",
   "execution_count": null,
   "id": "4615c928",
   "metadata": {},
   "outputs": [],
   "source": [
    "np.random.seed(42)\n",
    "random_data = np.random.rand(3)\n",
    "print(random_data)"
   ]
  },
  {
   "cell_type": "code",
   "execution_count": null,
   "id": "ed62aa08",
   "metadata": {},
   "outputs": [],
   "source": [
    "rand_ints = np.random.randint(low=10,high=50,size=5)\n",
    "print(rand_ints)"
   ]
  },
  {
   "cell_type": "code",
   "execution_count": null,
   "id": "6b9c22cc",
   "metadata": {},
   "outputs": [],
   "source": [
    "# random choice\n",
    "\n",
    "data = np.array([10,20,30,40,50,60,70,80])\n",
    "print(data)\n",
    "choices = np.random.choice(data,size=4,replace=True)\n",
    "print(choices)\n",
    "\n",
    "choices2 = np.random.choice(data,size=4,replace=False)\n",
    "print(choices2)"
   ]
  }
 ],
 "metadata": {
  "kernelspec": {
   "display_name": "Python 3",
   "language": "python",
   "name": "python3"
  },
  "language_info": {
   "codemirror_mode": {
    "name": "ipython",
    "version": 3
   },
   "file_extension": ".py",
   "mimetype": "text/x-python",
   "name": "python",
   "nbconvert_exporter": "python",
   "pygments_lexer": "ipython3",
   "version": "3.13.5"
  }
 },
 "nbformat": 4,
 "nbformat_minor": 5
}
