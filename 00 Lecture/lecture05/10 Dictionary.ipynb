{
 "cells": [
  {
   "cell_type": "code",
   "execution_count": 1,
   "id": "fa956276",
   "metadata": {},
   "outputs": [],
   "source": [
    "# Dictionary"
   ]
  },
  {
   "cell_type": "code",
   "execution_count": 2,
   "id": "a7052295",
   "metadata": {},
   "outputs": [
    {
     "name": "stdout",
     "output_type": "stream",
     "text": [
      "{'name': 'joy'}\n"
     ]
    }
   ],
   "source": [
    "data = {\"name\":\"joy\"}\n",
    "print(data)"
   ]
  },
  {
   "cell_type": "code",
   "execution_count": 3,
   "id": "e4373565",
   "metadata": {},
   "outputs": [
    {
     "name": "stdout",
     "output_type": "stream",
     "text": [
      "{'name': 'joy', 'age': 56, 'height': 4.5}\n"
     ]
    }
   ],
   "source": [
    "data = {\"name\":\"joy\",\"age\":56,\"height\":4.5}\n",
    "print(data)"
   ]
  },
  {
   "cell_type": "code",
   "execution_count": 4,
   "id": "6390309e",
   "metadata": {},
   "outputs": [
    {
     "name": "stdout",
     "output_type": "stream",
     "text": [
      "joy\n"
     ]
    }
   ],
   "source": [
    "# access data\n",
    "print(data['name'])"
   ]
  },
  {
   "cell_type": "code",
   "execution_count": 5,
   "id": "9b16e479",
   "metadata": {},
   "outputs": [
    {
     "name": "stdout",
     "output_type": "stream",
     "text": [
      "{'name': 'joy', 'age': 56, 'height': 4.5, 'city': 'mumbai'}\n"
     ]
    }
   ],
   "source": [
    "data['city'] = \"mumbai\"\n",
    "print(data)"
   ]
  },
  {
   "cell_type": "code",
   "execution_count": 7,
   "id": "a1b3a769",
   "metadata": {},
   "outputs": [
    {
     "name": "stdout",
     "output_type": "stream",
     "text": [
      "name = joy\n",
      "age = 56\n",
      "height = 4.5\n",
      "city = mumbai\n"
     ]
    }
   ],
   "source": [
    "for i in data:\n",
    "    print(i,'=',data[i])"
   ]
  },
  {
   "cell_type": "code",
   "execution_count": 15,
   "id": "977d4986",
   "metadata": {},
   "outputs": [
    {
     "name": "stdout",
     "output_type": "stream",
     "text": [
      "dict_keys(['name', 'age', 'height', 'city'])\n",
      "dict_values(['joy', 56, 4.5, 'mumbai'])\n",
      "dict_items([('name', 'joy'), ('age', 56), ('height', 4.5), ('city', 'mumbai')])\n",
      "mumbai\n",
      "{'name': 'joy', 'age': 56, 'height': 4.5}\n"
     ]
    }
   ],
   "source": [
    "# keys(): Returns a list of all keys in the dictionary.\n",
    "print(data.keys())\n",
    "# values(): Returns a list of all values in the dictionary.\n",
    "print(data.values())\n",
    "# items(): Returns a list of key-value pairs as tuples.\n",
    "print(data.items())\n",
    "# get(key, default): Returns the value for a key if it exists, else returns a default value.\n",
    "print(data.get('city'))\n",
    "# pop(key, default): Removes and returns the value associated with the key.\n",
    "data.pop('city')\n",
    "print(data)"
   ]
  }
 ],
 "metadata": {
  "kernelspec": {
   "display_name": "Python 3",
   "language": "python",
   "name": "python3"
  },
  "language_info": {
   "codemirror_mode": {
    "name": "ipython",
    "version": 3
   },
   "file_extension": ".py",
   "mimetype": "text/x-python",
   "name": "python",
   "nbconvert_exporter": "python",
   "pygments_lexer": "ipython3",
   "version": "3.13.3"
  }
 },
 "nbformat": 4,
 "nbformat_minor": 5
}
