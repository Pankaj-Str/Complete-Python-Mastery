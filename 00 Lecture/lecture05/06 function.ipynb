{
 "cells": [
  {
   "cell_type": "code",
   "execution_count": 6,
   "id": "7b2c7e7b",
   "metadata": {},
   "outputs": [
    {
     "name": "stdout",
     "output_type": "stream",
     "text": [
      "welcome to codeswithpankaj.com\n",
      "this is a basic function\n",
      "welcome to codeswithpankaj.com\n",
      "this is a basic function\n"
     ]
    }
   ],
   "source": [
    "#function in python\n",
    "\n",
    "# basic function\n",
    "\n",
    "def greet():\n",
    "    print(\"welcome to codeswithpankaj.com\")\n",
    "    print(\"this is a basic function\")\n",
    "# calling the function\n",
    "\n",
    "greet()\n",
    "greet()"
   ]
  },
  {
   "cell_type": "code",
   "execution_count": 9,
   "id": "3ac15607",
   "metadata": {},
   "outputs": [
    {
     "name": "stdout",
     "output_type": "stream",
     "text": [
      "Result :  30\n",
      "Result :  300\n"
     ]
    }
   ],
   "source": [
    "# function with parameters(arguments)\n",
    "\n",
    "def addition(number1, number2):\n",
    "    result = number1 + number2\n",
    "    print(\"Result : \", result)\n",
    "    \n",
    "# calling the function with arguments\n",
    "\n",
    "addition(10, 20)\n",
    "addition(100, 200)    "
   ]
  },
  {
   "cell_type": "code",
   "execution_count": 10,
   "id": "9f50db6f",
   "metadata": {},
   "outputs": [],
   "source": [
    "# example :\n",
    "\n",
    "def bill(price,tax):\n",
    "    tax_amount = price*tax/100\n",
    "    total = price + tax_amount\n",
    "    print(\"-----bill-----\")\n",
    "    print(\"Price : \", price)\n",
    "    print(\"Tax : \", tax)\n",
    "    print(\"Tax Amount: \", tax_amount)\n",
    "    print(\"Total : \", total)\n",
    "    "
   ]
  },
  {
   "cell_type": "code",
   "execution_count": 11,
   "id": "3f6e08ef",
   "metadata": {},
   "outputs": [
    {
     "name": "stdout",
     "output_type": "stream",
     "text": [
      "-----bill-----\n",
      "Price :  1200\n",
      "Tax :  18\n",
      "Tax Amount:  216.0\n",
      "Total :  1416.0\n",
      "-----bill-----\n",
      "Price :  1500\n",
      "Tax :  12\n",
      "Tax Amount:  180.0\n",
      "Total :  1680.0\n",
      "-----bill-----\n",
      "Price :  2000\n",
      "Tax :  2\n",
      "Tax Amount:  40.0\n",
      "Total :  2040.0\n"
     ]
    }
   ],
   "source": [
    "bill(1200,18)\n",
    "bill(1500, 12)\n",
    "bill(2000, 2)"
   ]
  },
  {
   "cell_type": "code",
   "execution_count": 14,
   "id": "5f1693d4",
   "metadata": {},
   "outputs": [
    {
     "name": "stdout",
     "output_type": "stream",
     "text": [
      "Number is :  20\n"
     ]
    }
   ],
   "source": [
    "# function with return\n",
    "\n",
    "def get_number():\n",
    "    return 10*2\n",
    "\n",
    "\n",
    "number = get_number()\n",
    "print(\"Number is : \", number)"
   ]
  },
  {
   "cell_type": "code",
   "execution_count": 15,
   "id": "092bb4b0",
   "metadata": {},
   "outputs": [
    {
     "name": "stdout",
     "output_type": "stream",
     "text": [
      "Result of multiplication is :  200\n"
     ]
    }
   ],
   "source": [
    "# function with return type and parameters\n",
    "\n",
    "def multiply(number1, number2):\n",
    "    return number1 * number2\n",
    "\n",
    "\n",
    "result = multiply(10, 20)\n",
    "print(\"Result of multiplication is : \", result)"
   ]
  },
  {
   "cell_type": "code",
   "execution_count": 17,
   "id": "92b00f88",
   "metadata": {},
   "outputs": [
    {
     "name": "stdout",
     "output_type": "stream",
     "text": [
      "Total price before tax is :  1180.0\n",
      "Total price after tax is :  1156.4\n"
     ]
    }
   ],
   "source": [
    "# example : \n",
    "\n",
    "def MRP(price, tax):\n",
    "    tax_amount = price * tax / 100\n",
    "    total = price + tax_amount\n",
    "    return total\n",
    "\n",
    "\n",
    "total_price = MRP(1000, 18)\n",
    "#before discount\n",
    "print(\"Total price before tax is : \", total_price)\n",
    "# add 2% discount\n",
    "total_price -= total_price * 0.02\n",
    "print(\"Total price after tax is : \", total_price)"
   ]
  }
 ],
 "metadata": {
  "kernelspec": {
   "display_name": "Python 3",
   "language": "python",
   "name": "python3"
  },
  "language_info": {
   "codemirror_mode": {
    "name": "ipython",
    "version": 3
   },
   "file_extension": ".py",
   "mimetype": "text/x-python",
   "name": "python",
   "nbconvert_exporter": "python",
   "pygments_lexer": "ipython3",
   "version": "3.13.3"
  }
 },
 "nbformat": 4,
 "nbformat_minor": 5
}
