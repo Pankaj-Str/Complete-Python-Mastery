{
 "cells": [
  {
   "cell_type": "code",
   "execution_count": 2,
   "id": "67432fd0",
   "metadata": {},
   "outputs": [],
   "source": [
    "# list in python\n",
    "\n",
    "#int type list\n",
    "int_list = [1, 2, 3, 4, 5]\n",
    "#float type list\n",
    "float_list = [1.1, 2.2, 3.3, 4.4, 5.5]\n",
    "#string type list\n",
    "string_list = [\"apple\", \"banana\", \"cherry\", \"date\", \"elderberry\"]\n",
    "#mixed type list\n",
    "mixed_list = [1, 2.2, \"three\", \"four\", 5]"
   ]
  },
  {
   "cell_type": "code",
   "execution_count": 4,
   "id": "2fd41674",
   "metadata": {},
   "outputs": [
    {
     "name": "stdout",
     "output_type": "stream",
     "text": [
      "88\n",
      "55\n"
     ]
    }
   ],
   "source": [
    "# List :\n",
    "# accessing elements\n",
    "data = [22,33, 44, 55, 66, 77, 88, 99]\n",
    "\n",
    "print(data[6])\n",
    "\n",
    "print(data[3])"
   ]
  },
  {
   "cell_type": "code",
   "execution_count": 8,
   "id": "a0a29ff7",
   "metadata": {},
   "outputs": [
    {
     "name": "stdout",
     "output_type": "stream",
     "text": [
      "[55, 66, 77]\n",
      "[55, 66, 77, 88, 99]\n",
      "[22, 33, 44, 55, 66, 77]\n",
      "[22, 33, 44, 55, 66, 77, 88, 99]\n"
     ]
    }
   ],
   "source": [
    "# slicing\n",
    "\n",
    "print(data[3:6])\n",
    "print(data[3:])\n",
    "print(data[:6])\n",
    "print(data[:])\n",
    "\n"
   ]
  },
  {
   "cell_type": "code",
   "execution_count": 9,
   "id": "3e0cbeeb",
   "metadata": {},
   "outputs": [],
   "source": [
    "# methods\n",
    "# adding elements\n",
    "data = [22,33, 44, 55, 66, 77, 88, 99]\n",
    "data.insert(5, 999)"
   ]
  },
  {
   "cell_type": "code",
   "execution_count": 10,
   "id": "9d1f66f6",
   "metadata": {},
   "outputs": [
    {
     "name": "stdout",
     "output_type": "stream",
     "text": [
      "[22, 33, 44, 55, 66, 999, 77, 88, 99]\n"
     ]
    }
   ],
   "source": [
    "print(data)"
   ]
  },
  {
   "cell_type": "code",
   "execution_count": 11,
   "id": "b14aa9be",
   "metadata": {},
   "outputs": [
    {
     "name": "stdout",
     "output_type": "stream",
     "text": [
      "[22, 33, 44, 55, 66, 999, 77, 88, 99, 11, 12, 13]\n"
     ]
    }
   ],
   "source": [
    "new_data = [11, 12, 13]\n",
    "# extending the list\n",
    "data.extend(new_data)\n",
    "print(data)"
   ]
  },
  {
   "cell_type": "code",
   "execution_count": 12,
   "id": "ff70d806",
   "metadata": {},
   "outputs": [
    {
     "name": "stdout",
     "output_type": "stream",
     "text": [
      "[22, 33, 44, 55, 66, 999, 77, 88, 99, 11, 12, 13, 1000]\n"
     ]
    }
   ],
   "source": [
    "# appending an element\n",
    "data.append(1000)\n",
    "print(data)"
   ]
  },
  {
   "cell_type": "code",
   "execution_count": 14,
   "id": "1a4c6dc1",
   "metadata": {},
   "outputs": [],
   "source": [
    "d = [990,888,777]\n",
    "data.insert(1, d)"
   ]
  },
  {
   "cell_type": "code",
   "execution_count": 16,
   "id": "ad74b453",
   "metadata": {},
   "outputs": [
    {
     "name": "stdout",
     "output_type": "stream",
     "text": [
      "[22, [990, 888, 777], 33, 44, 55, 66, 999, 77, 88, 99, 11, 12, 13, 1000]\n",
      "888\n"
     ]
    }
   ],
   "source": [
    "print(data)\n",
    "\n",
    "print(data[1][1])  # Accessing an element from the nested list"
   ]
  },
  {
   "cell_type": "code",
   "execution_count": 17,
   "id": "c904e352",
   "metadata": {},
   "outputs": [
    {
     "name": "stdout",
     "output_type": "stream",
     "text": [
      "[22, 33, 44, 66, 77, 88, 99]\n"
     ]
    }
   ],
   "source": [
    "# removing elements\n",
    "data = [22,33, 44, 55, 66, 77, 88, 99]\n",
    "data.remove(55)  # Remove the first occurrence of 55\n",
    "print(data)"
   ]
  },
  {
   "cell_type": "code",
   "execution_count": 19,
   "id": "038151d9",
   "metadata": {},
   "outputs": [
    {
     "name": "stdout",
     "output_type": "stream",
     "text": [
      "Popped element: 88\n"
     ]
    }
   ],
   "source": [
    "# popping elements\n",
    "popped_element = data.pop()  # Remove and return the last element\n",
    "print(\"Popped element:\", popped_element)"
   ]
  },
  {
   "cell_type": "code",
   "execution_count": 20,
   "id": "62629936",
   "metadata": {},
   "outputs": [
    {
     "name": "stdout",
     "output_type": "stream",
     "text": [
      "[22, 33, 44, 66, 77]\n"
     ]
    }
   ],
   "source": [
    "print(data)"
   ]
  },
  {
   "cell_type": "code",
   "execution_count": null,
   "id": "00a19a3a",
   "metadata": {},
   "outputs": [
    {
     "name": "stdout",
     "output_type": "stream",
     "text": [
      "Sum of elements: 242\n",
      "Minimum value: 22\n",
      "Maximum value: 77\n",
      "Length of the list: 5\n",
      "Sorted list: [22, 33, 44, 66, 77]\n",
      "Reversed list: [77, 66, 44, 33, 22]\n"
     ]
    }
   ],
   "source": [
    "# sum()\n",
    "total_sum = sum(data)\n",
    "print(\"Sum of elements:\", total_sum)\n",
    "# min() and max()\n",
    "min_value = min(data)\n",
    "max_value = max(data)\n",
    "print(\"Minimum value:\", min_value)\n",
    "print(\"Maximum value:\", max_value)\n",
    "# length of the list\n",
    "length_of_data = len(data)\n",
    "print(\"Length of the list:\", length_of_data)\n",
    "# sorting the list\n",
    "data.sort()\n",
    "print(\"Sorted list:\", data)\n",
    "# reversing the list\n",
    "data.reverse()\n",
    "print(\"Reversed list:\", data)\n"
   ]
  },
  {
   "cell_type": "code",
   "execution_count": 27,
   "id": "4342be4b",
   "metadata": {},
   "outputs": [
    {
     "name": "stdout",
     "output_type": "stream",
     "text": [
      "77\n",
      "66\n",
      "44\n",
      "33\n",
      "22\n"
     ]
    }
   ],
   "source": [
    "# for loop\n",
    "for i in data:\n",
    "    print(i)"
   ]
  },
  {
   "cell_type": "code",
   "execution_count": 29,
   "id": "0840be39",
   "metadata": {},
   "outputs": [
    {
     "name": "stdout",
     "output_type": "stream",
     "text": [
      "jalebi\n",
      "fafafa\n",
      "kkachori\n"
     ]
    }
   ],
   "source": [
    "# how to take user input in a list\n",
    "size = int(input(\"Enter the size of the list: \"))\n",
    "food = []\n",
    "for i in range(size):\n",
    "    item = input(\"Enter food item: \")\n",
    "    food.append(item)\n",
    "    \n",
    "for item in food:\n",
    "    print(item)    "
   ]
  },
  {
   "cell_type": "code",
   "execution_count": null,
   "id": "d8bb7d9a",
   "metadata": {},
   "outputs": [],
   "source": []
  }
 ],
 "metadata": {
  "kernelspec": {
   "display_name": "Python 3",
   "language": "python",
   "name": "python3"
  },
  "language_info": {
   "codemirror_mode": {
    "name": "ipython",
    "version": 3
   },
   "file_extension": ".py",
   "mimetype": "text/x-python",
   "name": "python",
   "nbconvert_exporter": "python",
   "pygments_lexer": "ipython3",
   "version": "3.13.3"
  }
 },
 "nbformat": 4,
 "nbformat_minor": 5
}
