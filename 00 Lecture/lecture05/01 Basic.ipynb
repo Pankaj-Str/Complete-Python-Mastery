{
 "cells": [
  {
   "cell_type": "code",
   "execution_count": 4,
   "id": "e10cb33d-7e82-48b3-bcf0-b2afefc059a8",
   "metadata": {},
   "outputs": [
    {
     "name": "stdout",
     "output_type": "stream",
     "text": [
      "welcome\n"
     ]
    },
    {
     "data": {
      "text/plain": [
       "'codeswithpankaj.com'"
      ]
     },
     "execution_count": 4,
     "metadata": {},
     "output_type": "execute_result"
    }
   ],
   "source": [
    "print(\"welcome\")\n",
    "\"p4n.in\""
   ]
  },
  {
   "cell_type": "code",
   "execution_count": 3,
   "id": "6756226c-6343-4e7d-910f-0b5d6f42e23f",
   "metadata": {},
   "outputs": [
    {
     "data": {
      "text/plain": [
       "'codeswithpankaj.com'"
      ]
     },
     "execution_count": 3,
     "metadata": {},
     "output_type": "execute_result"
    }
   ],
   "source": [
    "'codeswithpankaj.com'"
   ]
  },
  {
   "cell_type": "code",
   "execution_count": 8,
   "id": "44622c6c-4c77-4ad6-81dd-7b77c48e2ac7",
   "metadata": {},
   "outputs": [
    {
     "name": "stdout",
     "output_type": "stream",
     "text": [
      "\"welcome p4n\"\n",
      "'welcome cwp'\n"
     ]
    }
   ],
   "source": [
    "print('\"welcome p4n\"')\n",
    "print(\"'welcome cwp'\")"
   ]
  },
  {
   "cell_type": "code",
   "execution_count": 9,
   "id": "28dc963e-4d6f-4c03-bc0c-556227afe8ec",
   "metadata": {},
   "outputs": [
    {
     "name": "stdout",
     "output_type": "stream",
     "text": [
      "2345\n"
     ]
    }
   ],
   "source": [
    "# print number \n",
    "print(2345)"
   ]
  },
  {
   "cell_type": "code",
   "execution_count": 10,
   "id": "ccc02565-f697-4c5f-b0e7-9f10749e2aae",
   "metadata": {},
   "outputs": [
    {
     "name": "stdout",
     "output_type": "stream",
     "text": [
      "my number is  9767445345\n"
     ]
    }
   ],
   "source": [
    "print(\"my number is \",9767445345) "
   ]
  },
  {
   "cell_type": "code",
   "execution_count": 21,
   "id": "dd9d7122-bb9f-4af3-9561-02f7e6866b7a",
   "metadata": {},
   "outputs": [
    {
     "name": "stdout",
     "output_type": "stream",
     "text": [
      "<class 'int'>\n",
      "<class 'float'>\n",
      "<class 'str'>\n",
      "<class 'tuple'>\n",
      "<class 'int'>\n",
      "<class 'int'>\n",
      "<class 'tuple'>\n",
      "<class 'tuple'>\n",
      "<class 'tuple'>\n",
      "<class 'list'>\n",
      "<class 'set'>\n",
      "<class 'dict'>\n"
     ]
    }
   ],
   "source": [
    "# Data type\n",
    "a = 10\n",
    "print(type(a))\n",
    "a = 1.0\n",
    "print(type(a))\n",
    "a = \"p4n.in\"\n",
    "print(type(a))\n",
    "a = 10,\n",
    "print(type(a))\n",
    "a = 10\n",
    "print(type(a))\n",
    "a = (10)\n",
    "print(type(a))\n",
    "a = (10,)\n",
    "print(type(a))\n",
    "a = 10,44,33,22,11,11\n",
    "print(type(a))\n",
    "a = (10,44,33,22,11,11)\n",
    "print(type(a))\n",
    "a = [10,44,33,22,11,11]\n",
    "print(type(a))\n",
    "a = {10,44,33,22,11,11}\n",
    "print(type(a))\n",
    "a = {'website':'p4n.in','course':'python'}\n",
    "print(type(a))"
   ]
  },
  {
   "cell_type": "code",
   "execution_count": 22,
   "id": "ae8fd0cd-d7eb-4e9c-b305-96718edc89b5",
   "metadata": {},
   "outputs": [
    {
     "name": "stdout",
     "output_type": "stream",
     "text": [
      "my name is :  joy\n",
      "my age is :  12\n",
      "my height is :  3.4\n"
     ]
    }
   ],
   "source": [
    "# variable print\n",
    "name = \"joy\"\n",
    "age = 12\n",
    "height = 3.4\n",
    "\n",
    "print('my name is : ',name)\n",
    "print('my age is : ',age)\n",
    "print('my height is : ', height)"
   ]
  },
  {
   "cell_type": "code",
   "execution_count": 23,
   "id": "112c6f29-36ac-4dd0-9eda-abe079d4def2",
   "metadata": {},
   "outputs": [
    {
     "name": "stdout",
     "output_type": "stream",
     "text": [
      "result is  300\n"
     ]
    }
   ],
   "source": [
    "# other example \n",
    "\n",
    "number1 = 100\n",
    "number2 = 200\n",
    "\n",
    "result = number1 + number2\n",
    "print('result is ',result)"
   ]
  }
 ],
 "metadata": {
  "kernelspec": {
   "display_name": "Python 3 (ipykernel)",
   "language": "python",
   "name": "python3"
  },
  "language_info": {
   "codemirror_mode": {
    "name": "ipython",
    "version": 3
   },
   "file_extension": ".py",
   "mimetype": "text/x-python",
   "name": "python",
   "nbconvert_exporter": "python",
   "pygments_lexer": "ipython3",
   "version": "3.10.8"
  }
 },
 "nbformat": 4,
 "nbformat_minor": 5
}
