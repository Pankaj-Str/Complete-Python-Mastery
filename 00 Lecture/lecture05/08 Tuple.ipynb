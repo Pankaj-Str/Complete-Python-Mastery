{
 "cells": [
  {
   "cell_type": "code",
   "execution_count": 3,
   "id": "3e1fd508",
   "metadata": {},
   "outputs": [
    {
     "name": "stdout",
     "output_type": "stream",
     "text": [
      "(23, 34, 56, 17, 89)\n",
      "<class 'tuple'>\n"
     ]
    }
   ],
   "source": [
    "# tuple in python \n",
    "\n",
    "data = (23,34,56,17,89)\n",
    "print(data)\n",
    "# check type \n",
    "print(type(data))"
   ]
  },
  {
   "cell_type": "code",
   "execution_count": 8,
   "id": "1728c463",
   "metadata": {},
   "outputs": [
    {
     "name": "stdout",
     "output_type": "stream",
     "text": [
      "56\n",
      "(17, 89)\n",
      "(23, 34, 56, 17)\n",
      "(17, 89)\n",
      "(23, 34, 56, 17, 89)\n"
     ]
    }
   ],
   "source": [
    "print(data[2])\n",
    "print(data[3:5])\n",
    "print(data[:4])\n",
    "print(data[3:])\n",
    "print(data[:])"
   ]
  },
  {
   "cell_type": "code",
   "execution_count": 9,
   "id": "688a8768",
   "metadata": {},
   "outputs": [
    {
     "name": "stdout",
     "output_type": "stream",
     "text": [
      "3\n"
     ]
    }
   ],
   "source": [
    "# count()\n",
    "data = (11,11,11,22,33,44,55,55)\n",
    "print(data.count(11))"
   ]
  },
  {
   "cell_type": "code",
   "execution_count": 10,
   "id": "12f0c4a3",
   "metadata": {},
   "outputs": [
    {
     "name": "stdout",
     "output_type": "stream",
     "text": [
      "3\n"
     ]
    }
   ],
   "source": [
    "#index()\n",
    "\n",
    "print(data.index(22))"
   ]
  }
 ],
 "metadata": {
  "kernelspec": {
   "display_name": "Python 3",
   "language": "python",
   "name": "python3"
  },
  "language_info": {
   "codemirror_mode": {
    "name": "ipython",
    "version": 3
   },
   "file_extension": ".py",
   "mimetype": "text/x-python",
   "name": "python",
   "nbconvert_exporter": "python",
   "pygments_lexer": "ipython3",
   "version": "3.13.3"
  }
 },
 "nbformat": 4,
 "nbformat_minor": 5
}
