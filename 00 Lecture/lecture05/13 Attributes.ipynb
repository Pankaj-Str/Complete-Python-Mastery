{
 "cells": [
  {
   "cell_type": "code",
   "execution_count": 9,
   "id": "2fdf0add",
   "metadata": {},
   "outputs": [],
   "source": [
    "class bank:\n",
    "    def amount_info(self,amount):\n",
    "        self.amount = amount\n",
    "        print(\"bank amount : \",amount)\n",
    "    def info(self):\n",
    "        print('Bank name - HDFC')\n",
    "    def deposit(self,deposit_amount):\n",
    "        update_amount = self.amount + deposit_amount\n",
    "        print('Update Amount - ',update_amount)\n",
    "                "
   ]
  },
  {
   "cell_type": "code",
   "execution_count": 10,
   "id": "759319cc",
   "metadata": {},
   "outputs": [
    {
     "name": "stdout",
     "output_type": "stream",
     "text": [
      "bank amount :  1200\n",
      "Bank name - HDFC\n",
      "Update Amount -  1500\n"
     ]
    }
   ],
   "source": [
    "b = bank()\n",
    "b.amount_info(1200)\n",
    "b.info()\n",
    "b.deposit(300)\n"
   ]
  },
  {
   "cell_type": "code",
   "execution_count": 11,
   "id": "73e0f7a3",
   "metadata": {},
   "outputs": [],
   "source": [
    "class School:\n",
    "    def School_info():\n",
    "        print('this is my school name')"
   ]
  },
  {
   "cell_type": "code",
   "execution_count": 13,
   "id": "c7b9290c",
   "metadata": {},
   "outputs": [
    {
     "ename": "TypeError",
     "evalue": "School.School_info() takes 0 positional arguments but 1 was given",
     "output_type": "error",
     "traceback": [
      "\u001b[31m---------------------------------------------------------------------------\u001b[39m",
      "\u001b[31mTypeError\u001b[39m                                 Traceback (most recent call last)",
      "\u001b[36mCell\u001b[39m\u001b[36m \u001b[39m\u001b[32mIn[13]\u001b[39m\u001b[32m, line 3\u001b[39m\n\u001b[32m      1\u001b[39m \u001b[38;5;66;03m# objectname = classname\u001b[39;00m\n\u001b[32m      2\u001b[39m obj = School()\n\u001b[32m----> \u001b[39m\u001b[32m3\u001b[39m \u001b[43mobj\u001b[49m\u001b[43m.\u001b[49m\u001b[43mSchool_info\u001b[49m\u001b[43m(\u001b[49m\u001b[43m)\u001b[49m\n",
      "\u001b[31mTypeError\u001b[39m: School.School_info() takes 0 positional arguments but 1 was given"
     ]
    }
   ],
   "source": [
    "# objectname = classname\n",
    "obj = School()\n",
    "obj.School_info()"
   ]
  }
 ],
 "metadata": {
  "kernelspec": {
   "display_name": "Python 3",
   "language": "python",
   "name": "python3"
  },
  "language_info": {
   "codemirror_mode": {
    "name": "ipython",
    "version": 3
   },
   "file_extension": ".py",
   "mimetype": "text/x-python",
   "name": "python",
   "nbconvert_exporter": "python",
   "pygments_lexer": "ipython3",
   "version": "3.13.3"
  }
 },
 "nbformat": 4,
 "nbformat_minor": 5
}
