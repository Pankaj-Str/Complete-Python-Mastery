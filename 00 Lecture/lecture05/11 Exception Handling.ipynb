{
 "cells": [
  {
   "cell_type": "code",
   "execution_count": 3,
   "id": "5910b6d5",
   "metadata": {},
   "outputs": [
    {
     "name": "stdout",
     "output_type": "stream",
     "text": [
      "My name is joy , age 34 and height 4.5\n"
     ]
    }
   ],
   "source": [
    "# Exception Handling in python \n",
    "\n",
    "name = input('Enter your Name ... ')\n",
    "age = input('Enter your age ...')\n",
    "height = input('enter your height ...')\n",
    "\n",
    "print(f'My name is {name} , age {age} and height {height}')\n"
   ]
  },
  {
   "cell_type": "code",
   "execution_count": 4,
   "id": "e16bad67",
   "metadata": {},
   "outputs": [
    {
     "ename": "ValueError",
     "evalue": "invalid literal for int() with base 10: 'joy'",
     "output_type": "error",
     "traceback": [
      "\u001b[31m---------------------------------------------------------------------------\u001b[39m",
      "\u001b[31mValueError\u001b[39m                                Traceback (most recent call last)",
      "\u001b[36mCell\u001b[39m\u001b[36m \u001b[39m\u001b[32mIn[4]\u001b[39m\u001b[32m, line 2\u001b[39m\n\u001b[32m      1\u001b[39m name = \u001b[38;5;28mstr\u001b[39m(\u001b[38;5;28minput\u001b[39m(\u001b[33m'\u001b[39m\u001b[33mEnter your Name ... \u001b[39m\u001b[33m'\u001b[39m))\n\u001b[32m----> \u001b[39m\u001b[32m2\u001b[39m age = \u001b[38;5;28;43mint\u001b[39;49m\u001b[43m(\u001b[49m\u001b[38;5;28;43minput\u001b[39;49m\u001b[43m(\u001b[49m\u001b[33;43m'\u001b[39;49m\u001b[33;43mEnter your age ...\u001b[39;49m\u001b[33;43m'\u001b[39;49m\u001b[43m)\u001b[49m\u001b[43m)\u001b[49m\n\u001b[32m      3\u001b[39m height = \u001b[38;5;28mfloat\u001b[39m(\u001b[38;5;28minput\u001b[39m(\u001b[33m'\u001b[39m\u001b[33menter your height ...\u001b[39m\u001b[33m'\u001b[39m))\n\u001b[32m      5\u001b[39m \u001b[38;5;28mprint\u001b[39m(\u001b[33mf\u001b[39m\u001b[33m'\u001b[39m\u001b[33mMy name is \u001b[39m\u001b[38;5;132;01m{\u001b[39;00mname\u001b[38;5;132;01m}\u001b[39;00m\u001b[33m , age \u001b[39m\u001b[38;5;132;01m{\u001b[39;00mage\u001b[38;5;132;01m}\u001b[39;00m\u001b[33m and height \u001b[39m\u001b[38;5;132;01m{\u001b[39;00mheight\u001b[38;5;132;01m}\u001b[39;00m\u001b[33m'\u001b[39m)\n",
      "\u001b[31mValueError\u001b[39m: invalid literal for int() with base 10: 'joy'"
     ]
    }
   ],
   "source": [
    "name = str(input('Enter your Name ... '))\n",
    "age = int(input('Enter your age ...'))\n",
    "height = float(input('enter your height ...'))\n",
    "\n",
    "print(f'My name is {name} , age {age} and height {height}')"
   ]
  },
  {
   "cell_type": "code",
   "execution_count": 5,
   "id": "64fb2d3e",
   "metadata": {},
   "outputs": [
    {
     "name": "stdout",
     "output_type": "stream",
     "text": [
      "Enter only Number \n"
     ]
    }
   ],
   "source": [
    "try:\n",
    "    name = str(input('Enter your Name ... '))\n",
    "    age = int(input('Enter your age ...'))\n",
    "    height = float(input('enter your height ...'))\n",
    "\n",
    "    print(f'My name is {name} , age {age} and height {height}')\n",
    "except ValueError:\n",
    "    print('Enter only Number ')    "
   ]
  },
  {
   "cell_type": "code",
   "execution_count": 8,
   "id": "f7dc8f98",
   "metadata": {},
   "outputs": [
    {
     "name": "stdout",
     "output_type": "stream",
     "text": [
      "My name is joy , age 90 and height 0\n",
      "Enter Number more then zero (don not enter zero)\n"
     ]
    }
   ],
   "source": [
    "try:\n",
    "    name = str(input('Enter your Name ... '))\n",
    "    age = int(input('Enter your age ...'))\n",
    "    height = int(input('enter your height ...'))\n",
    "\n",
    "    print(f'My name is {name} , age {age} and height {height}')\n",
    "    BMI = age/height\n",
    "    print(f'BMI is {BMI}')\n",
    "except ValueError:\n",
    "    print('Enter only Number ') \n",
    "except ZeroDivisionError:\n",
    "    print('Enter Number more then zero (don not enter zero)')      "
   ]
  },
  {
   "cell_type": "code",
   "execution_count": 9,
   "id": "08d695af",
   "metadata": {},
   "outputs": [
    {
     "name": "stdout",
     "output_type": "stream",
     "text": [
      "this is err.. \n"
     ]
    }
   ],
   "source": [
    "try:\n",
    "    name = str(input('Enter your Name ... '))\n",
    "    age = int(input('Enter your age ...'))\n",
    "    height = int(input('enter your height ...'))\n",
    "\n",
    "    print(f'My name is {name} , age {age} and height {height}')\n",
    "    BMI = age/height\n",
    "    print(f'BMI is {BMI}')\n",
    "except Exception:\n",
    "    print('this is err.. ') \n",
    " "
   ]
  }
 ],
 "metadata": {
  "kernelspec": {
   "display_name": "Python 3",
   "language": "python",
   "name": "python3"
  },
  "language_info": {
   "codemirror_mode": {
    "name": "ipython",
    "version": 3
   },
   "file_extension": ".py",
   "mimetype": "text/x-python",
   "name": "python",
   "nbconvert_exporter": "python",
   "pygments_lexer": "ipython3",
   "version": "3.13.3"
  }
 },
 "nbformat": 4,
 "nbformat_minor": 5
}
