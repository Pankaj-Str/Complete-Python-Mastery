{
 "cells": [
  {
   "cell_type": "code",
   "execution_count": 2,
   "id": "9e184e0e",
   "metadata": {},
   "outputs": [
    {
     "name": "stdout",
     "output_type": "stream",
     "text": [
      "{1, 2, 3, 4, 5, 6, 7, 8, 9}\n"
     ]
    }
   ],
   "source": [
    "# set\n",
    "\n",
    "data = {1,2,2,2,3,4,5,6,7,8,9,1,1,1,1,1}\n",
    "print(data)"
   ]
  },
  {
   "cell_type": "code",
   "execution_count": 3,
   "id": "e6249635",
   "metadata": {},
   "outputs": [
    {
     "name": "stdout",
     "output_type": "stream",
     "text": [
      "set()\n"
     ]
    }
   ],
   "source": [
    "data = set()\n",
    "print(data)"
   ]
  },
  {
   "cell_type": "code",
   "execution_count": 4,
   "id": "54e82f28",
   "metadata": {},
   "outputs": [
    {
     "name": "stdout",
     "output_type": "stream",
     "text": [
      "{1, 2, 3, 4, 5, 6, 7, 8, 9}\n"
     ]
    }
   ],
   "source": [
    "list_data = [1,2,2,2,3,4,5,6,7,8,9,1,1,1,1,1]\n",
    "set_data = set(list_data)\n",
    "print(set_data)"
   ]
  },
  {
   "cell_type": "code",
   "execution_count": 6,
   "id": "02773513",
   "metadata": {},
   "outputs": [
    {
     "name": "stdout",
     "output_type": "stream",
     "text": [
      "{33, 22, 55, 11, 44}\n",
      "{33, 999, 22, 55, 11, 44}\n"
     ]
    }
   ],
   "source": [
    "# add()\n",
    "\n",
    "data = {11,11,22,33,44,55,55,55}\n",
    "\n",
    "print(data)\n",
    "\n",
    "data.add(999)\n",
    "print(data)"
   ]
  },
  {
   "cell_type": "code",
   "execution_count": null,
   "id": "68a8dc9c",
   "metadata": {},
   "outputs": [
    {
     "name": "stdout",
     "output_type": "stream",
     "text": [
      "{2, 3, 4, 5, 11, 22, 33, 999, 44, 55}\n"
     ]
    }
   ],
   "source": [
    "data.update([5,4,3,2]) # add()\n",
    "print(data)"
   ]
  }
 ],
 "metadata": {
  "kernelspec": {
   "display_name": "Python 3",
   "language": "python",
   "name": "python3"
  },
  "language_info": {
   "codemirror_mode": {
    "name": "ipython",
    "version": 3
   },
   "file_extension": ".py",
   "mimetype": "text/x-python",
   "name": "python",
   "nbconvert_exporter": "python",
   "pygments_lexer": "ipython3",
   "version": "3.13.3"
  }
 },
 "nbformat": 4,
 "nbformat_minor": 5
}
