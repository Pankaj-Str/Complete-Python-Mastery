{
 "cells": [
  {
   "cell_type": "code",
   "execution_count": 2,
   "id": "5070e186",
   "metadata": {},
   "outputs": [],
   "source": [
    "class Creditcard:\n",
    "    def __init__(self,cardname,creditlimit,customername):\n",
    "        self.cardname = cardname\n",
    "        self.creditlimit = creditlimit\n",
    "        self.customername = customername\n",
    "        \n",
    "    def get_CardName(self):\n",
    "        return self.cardname\n",
    "    def get_CreditLimit(self):\n",
    "        return self.creditlimit\n",
    "    def get_CustomerName(self):\n",
    "        return self.customername\n",
    "    \n",
    "\n",
    "        "
   ]
  },
  {
   "cell_type": "code",
   "execution_count": null,
   "id": "80716e60",
   "metadata": {},
   "outputs": [
    {
     "name": "stdout",
     "output_type": "stream",
     "text": [
      "customer name joy\n",
      "customer crad name HDFC\n",
      "customer creditlimit 450000\n"
     ]
    }
   ],
   "source": [
    "cd = Creditcard(\"HDFC\",450000,\"joy\")\n",
    "print(f'customer name {cd.get_CustomerName()}')\n",
    "print(f'customer crad name {cd.get_CardName()}')\n",
    "print(f'customer creditlimit {cd.get_CreditLimit()\n",
    "      \n",
    "      \n",
    "      \n",
    "      \n",
    "      \n",
    "      \n",
    "      \n",
    "      \n",
    "      \n",
    "      \n",
    "      \n",
    "      \n",
    "      \n",
    "      \n",
    "      \n",
    "      \n",
    "      \n",
    "      \n",
    "      \n",
    "      \n",
    "      \n",
    "      \n",
    "      \n",
    "      \n",
    "      \n",
    "      \n",
    "      \n",
    "      \n",
    "      \n",
    "      \n",
    "      \n",
    "      \n",
    "      \n",
    "      \n",
    "      \n",
    "      \n",
    "      \n",
    "      \n",
    "      \n",
    "      \n",
    "      \n",
    "      \n",
    "      \n",
    "      \n",
    "      \n",
    "      \n",
    "      \n",
    "      \n",
    "      \n",
    "      \n",
    "      \n",
    "      \n",
    "      \n",
    "      \n",
    "      \n",
    "      \n",
    "      \n",
    "      \n",
    "      }')"
   ]
  }
 ],
 "metadata": {
  "kernelspec": {
   "display_name": "Python 3",
   "language": "python",
   "name": "python3"
  },
  "language_info": {
   "codemirror_mode": {
    "name": "ipython",
    "version": 3
   },
   "file_extension": ".py",
   "mimetype": "text/x-python",
   "name": "python",
   "nbconvert_exporter": "python",
   "pygments_lexer": "ipython3",
   "version": "3.13.4"
  }
 },
 "nbformat": 4,
 "nbformat_minor": 5
}
