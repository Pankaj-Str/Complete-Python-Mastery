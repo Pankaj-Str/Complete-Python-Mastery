{
 "cells": [
  {
   "cell_type": "code",
   "execution_count": 3,
   "id": "d419e22b",
   "metadata": {},
   "outputs": [
    {
     "name": "stdout",
     "output_type": "stream",
     "text": [
      "a is not smallest...\n"
     ]
    }
   ],
   "source": [
    "a = 100\n",
    "b = 20\n",
    "\n",
    "if a < b:\n",
    "    print(\"a is smallest...\")\n",
    "else :\n",
    "    print(\"a is not smallest...\")    "
   ]
  },
  {
   "cell_type": "code",
   "execution_count": 8,
   "id": "8901361d",
   "metadata": {},
   "outputs": [
    {
     "name": "stdout",
     "output_type": "stream",
     "text": [
      "n3 is smallest\n"
     ]
    }
   ],
   "source": [
    "n1 = 20\n",
    "n2 = 33\n",
    "n3 = 4\n",
    "\n",
    "if n1 < n2 and n1 < n3:\n",
    "    print(\"n1 is smallest\")\n",
    "elif n2 < n1 and n2 < n3:\n",
    "    print(\"n2 is smallest\")\n",
    "elif n3 < n1 and n3 < n2:\n",
    "    print(\"n3 is smallest\")        "
   ]
  }
 ],
 "metadata": {
  "kernelspec": {
   "display_name": "Python 3",
   "language": "python",
   "name": "python3"
  },
  "language_info": {
   "codemirror_mode": {
    "name": "ipython",
    "version": 3
   },
   "file_extension": ".py",
   "mimetype": "text/x-python",
   "name": "python",
   "nbconvert_exporter": "python",
   "pygments_lexer": "ipython3",
   "version": "3.13.3"
  }
 },
 "nbformat": 4,
 "nbformat_minor": 5
}
