{
 "cells": [
  {
   "cell_type": "code",
   "execution_count": 13,
   "id": "63c54dcc",
   "metadata": {},
   "outputs": [],
   "source": [
    "class Client:\n",
    "    def client_info():\n",
    "        print(\"Clinet Name : Rahul\")"
   ]
  },
  {
   "cell_type": "code",
   "execution_count": 16,
   "id": "21893385",
   "metadata": {},
   "outputs": [],
   "source": [
    "class product(Client):\n",
    "    def product_info():\n",
    "        print(\"Product info - books\")"
   ]
  },
  {
   "cell_type": "code",
   "execution_count": 17,
   "id": "2085f1cb",
   "metadata": {},
   "outputs": [
    {
     "name": "stdout",
     "output_type": "stream",
     "text": [
      "Clinet Name : Rahul\n",
      "Product info - books\n"
     ]
    }
   ],
   "source": [
    "object = product\n",
    "object.client_info()\n",
    "object.product_info()\n"
   ]
  }
 ],
 "metadata": {
  "kernelspec": {
   "display_name": "Python 3",
   "language": "python",
   "name": "python3"
  },
  "language_info": {
   "codemirror_mode": {
    "name": "ipython",
    "version": 3
   },
   "file_extension": ".py",
   "mimetype": "text/x-python",
   "name": "python",
   "nbconvert_exporter": "python",
   "pygments_lexer": "ipython3",
   "version": "3.13.3"
  }
 },
 "nbformat": 4,
 "nbformat_minor": 5
}
