{
 "cells": [
  {
   "cell_type": "code",
   "execution_count": 1,
   "id": "86ae8ac0",
   "metadata": {},
   "outputs": [],
   "source": [
    "def info():\n",
    "    print('welcome to codeswithpankaj')"
   ]
  },
  {
   "cell_type": "code",
   "execution_count": 2,
   "id": "dd1ffc74",
   "metadata": {},
   "outputs": [
    {
     "name": "stdout",
     "output_type": "stream",
     "text": [
      "welcome to codeswithpankaj\n"
     ]
    }
   ],
   "source": [
    "info()"
   ]
  },
  {
   "cell_type": "code",
   "execution_count": 5,
   "id": "a3fd4458",
   "metadata": {},
   "outputs": [],
   "source": [
    "# class \n",
    "\n",
    "class School:\n",
    "    def School_info():\n",
    "        print('this is my school name')"
   ]
  },
  {
   "cell_type": "code",
   "execution_count": 8,
   "id": "2a98e1e5",
   "metadata": {},
   "outputs": [
    {
     "name": "stdout",
     "output_type": "stream",
     "text": [
      "this is my school name\n"
     ]
    }
   ],
   "source": [
    "# objectname = classname\n",
    "obj = School\n",
    "obj.School_info()"
   ]
  }
 ],
 "metadata": {
  "kernelspec": {
   "display_name": "Python 3",
   "language": "python",
   "name": "python3"
  },
  "language_info": {
   "codemirror_mode": {
    "name": "ipython",
    "version": 3
   },
   "file_extension": ".py",
   "mimetype": "text/x-python",
   "name": "python",
   "nbconvert_exporter": "python",
   "pygments_lexer": "ipython3",
   "version": "3.13.3"
  }
 },
 "nbformat": 4,
 "nbformat_minor": 5
}
