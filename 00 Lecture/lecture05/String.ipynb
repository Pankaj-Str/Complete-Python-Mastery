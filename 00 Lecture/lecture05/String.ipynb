{
 "cells": [
  {
   "cell_type": "code",
   "execution_count": 2,
   "id": "087c12a4",
   "metadata": {},
   "outputs": [
    {
     "name": "stdout",
     "output_type": "stream",
     "text": [
      "codeswithpankaj.com\n",
      "<class 'str'>\n"
     ]
    }
   ],
   "source": [
    "data = \"codeswithpankaj.com\"\n",
    "print(data)\n",
    "print(type(data))"
   ]
  },
  {
   "cell_type": "code",
   "execution_count": 6,
   "id": "88e19ac4",
   "metadata": {},
   "outputs": [
    {
     "name": "stdout",
     "output_type": "stream",
     "text": [
      "your name is :  joy your age  23\n",
      "your name is joy and age 23\n",
      "your name is joy and age 23\n"
     ]
    }
   ],
   "source": [
    "# format()\n",
    "\n",
    "name = \"joy\"\n",
    "age = 23\n",
    "\n",
    "print(\"your name is : \",name,'your age ',age)\n",
    "print('your name is {0} and age {1}'.format(name,age))\n",
    "print(f'your name is {name} and age {age}')"
   ]
  },
  {
   "cell_type": "code",
   "execution_count": 7,
   "id": "a1020932",
   "metadata": {},
   "outputs": [
    {
     "name": "stdout",
     "output_type": "stream",
     "text": [
      "WWW.CODESWITHPANKAJ.COM\n",
      "www.codeswithpankaj.com\n",
      "('www', '.', 'codeswithpankaj.com')\n",
      "@codeswithpankaj.com\n",
      "18\n",
      "p4n.in this is website -\n",
      "['www', 'codeswithpankaj', 'com']\n",
      "True\n",
      "True\n",
      "False\n",
      "13\n"
     ]
    }
   ],
   "source": [
    "\n",
    "website = 'www.codeswithpankaj.com'\n",
    "\n",
    "# 1. upper() converts the string to uppercase\n",
    "print(website.upper())\n",
    "\n",
    "# 2. lower() converts the string to lowercase\n",
    "print(website.lower())\n",
    "\n",
    "# 3. partition() returns a tuple\n",
    "print(website.partition('.'))\n",
    "\n",
    "# 4. replace() replaces substring inside\n",
    "print(website.replace('www.','@'))\n",
    "\n",
    "# 5. find() returns the index of first occurrence of substring\n",
    "print(website.find('j'))\n",
    "\n",
    "# 6. rstrip() removes trailing characters\n",
    "data = 'p4n.in   '\n",
    "print(data.rstrip(),'this is website -')\n",
    "\n",
    "# 7. split() splits string from left\n",
    "print(website.split('.'))\n",
    "\n",
    "# 8. startswith() checks if string starts with the specified string\n",
    "print(website.startswith('w'))\n",
    "\n",
    "# 9. isnumeric() checks numeric characters\n",
    "data = '90'\n",
    "print(data.isnumeric())\n",
    "print(website.isnumeric())\n",
    "\n",
    "# 10. index() returns index of substring\n",
    "print(website.index('p'))\n"
   ]
  }
 ],
 "metadata": {
  "kernelspec": {
   "display_name": "Python 3",
   "language": "python",
   "name": "python3"
  },
  "language_info": {
   "codemirror_mode": {
    "name": "ipython",
    "version": 3
   },
   "file_extension": ".py",
   "mimetype": "text/x-python",
   "name": "python",
   "nbconvert_exporter": "python",
   "pygments_lexer": "ipython3",
   "version": "3.13.3"
  }
 },
 "nbformat": 4,
 "nbformat_minor": 5
}
