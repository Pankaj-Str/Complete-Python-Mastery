{
 "cells": [
  {
   "cell_type": "code",
   "execution_count": 9,
   "id": "a42b7647",
   "metadata": {},
   "outputs": [
    {
     "name": "stdout",
     "output_type": "stream",
     "text": [
      "10\n",
      "<class 'int'>\n",
      "<class 'float'>\n",
      "<class 'str'>\n",
      "<class 'list'>\n",
      "<class 'tuple'>\n",
      "<class 'tuple'>\n",
      "<class 'set'>\n",
      "<class 'dict'>\n"
     ]
    }
   ],
   "source": [
    "data = 10\n",
    "print(data)\n",
    "\n",
    "# check DataType\n",
    "#type()\n",
    "print(type(data))\n",
    "\n",
    "data = 2.3\n",
    "print(type(data))\n",
    "data = \"codeswithpankaj\"\n",
    "print(type(data))\n",
    "data = [23,45,67,89]\n",
    "print(type(data))\n",
    "data = (23,55,66,22,22)\n",
    "print(type(data))\n",
    "data = 23,55,66,22,22\n",
    "print(type(data))\n",
    "\n",
    "data = {23,55,66,22,22}\n",
    "print(type(data))\n",
    "\n",
    "data = {\"Name\":\"Joy\"}\n",
    "print(type(data))"
   ]
  },
  {
   "cell_type": "code",
   "execution_count": 11,
   "id": "8f31ea08",
   "metadata": {},
   "outputs": [
    {
     "name": "stdout",
     "output_type": "stream",
     "text": [
      "Your Name is  Joy\n",
      "Your age is  23\n",
      "Your height is  4.5\n"
     ]
    }
   ],
   "source": [
    "# how to take user input \n",
    "# input()\n",
    "\n",
    "name = input(\"Enter Your Name - \")\n",
    "height = input(\"Enter Your Height - \")\n",
    "age = input(\"Enter Your Age \")\n",
    "\n",
    "print(\"Your Name is \",name)\n",
    "print(\"Your age is \",age)\n",
    "print(\"Your height is \",height)\n"
   ]
  },
  {
   "cell_type": "code",
   "execution_count": null,
   "id": "d4c598d4",
   "metadata": {},
   "outputs": [],
   "source": [
    "# type Conversion\n",
    "# int()\n",
    "# float()\n",
    "# str()"
   ]
  },
  {
   "cell_type": "code",
   "execution_count": 14,
   "id": "6ef95664",
   "metadata": {},
   "outputs": [
    {
     "name": "stdout",
     "output_type": "stream",
     "text": [
      "this is result :  174\n",
      "<class 'int'>\n"
     ]
    }
   ],
   "source": [
    "number1 = int(input(\"Enter Number 1\"))\n",
    "number2 = int(input(\"Enter Number 2\"))\n",
    "\n",
    "result = number1 + number2\n",
    "print(\"this is result : \",result)\n",
    "\n",
    "print(type(number1))"
   ]
  }
 ],
 "metadata": {
  "kernelspec": {
   "display_name": "Python 3",
   "language": "python",
   "name": "python3"
  },
  "language_info": {
   "codemirror_mode": {
    "name": "ipython",
    "version": 3
   },
   "file_extension": ".py",
   "mimetype": "text/x-python",
   "name": "python",
   "nbconvert_exporter": "python",
   "pygments_lexer": "ipython3",
   "version": "3.13.3"
  }
 },
 "nbformat": 4,
 "nbformat_minor": 5
}
