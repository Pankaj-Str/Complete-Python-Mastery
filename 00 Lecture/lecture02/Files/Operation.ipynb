{
 "cells": [
  {
   "cell_type": "code",
   "execution_count": 2,
   "metadata": {},
   "outputs": [
    {
     "name": "stdout",
     "output_type": "stream",
     "text": [
      "   ID  Experience_Years  Age  Gender  Salary\n",
      "0   1                 5   28  Female  250000\n",
      "1   2                 1   21    Male   50000\n",
      "2   3                 3   23  Female  170000\n",
      "3   4                 2   22    Male   25000\n",
      "4   5                 1   17    Male   10000\n"
     ]
    }
   ],
   "source": [
    "# read csv file \n",
    "\n",
    "\n",
    "import pandas as pd\n",
    "\n",
    "df = pd.read_csv(\"Employee_Salary_Dataset.csv\")\n",
    "\n",
    "# display the content\n",
    "# print(df)\n",
    "print(df.head())"
   ]
  },
  {
   "cell_type": "code",
   "execution_count": 3,
   "metadata": {},
   "outputs": [
    {
     "name": "stdout",
     "output_type": "stream",
     "text": [
      "Content has been written to the file.\n"
     ]
    }
   ],
   "source": [
    "# Open the file in write mode\n",
    "with open(\"p4n.txt\",\"w\") as file:\n",
    "    # Write content to the file\n",
    "    file.write(\"www.codeswithpankaj.com\\n\")\n",
    "    file.write(\"learning python with @p4n.\\n\")\n",
    "    file.write(\"www.p4n.in.\\n\")\n",
    "\n",
    "print(\"Content has been written to the file.\")"
   ]
  },
  {
   "cell_type": "code",
   "execution_count": 4,
   "metadata": {},
   "outputs": [
    {
     "name": "stdout",
     "output_type": "stream",
     "text": [
      "Content has been appended to the file.\n"
     ]
    }
   ],
   "source": [
    "# Appending to a File\n",
    "# Open the file in append mode\n",
    "with open(\"p4n.txt\",\"a\") as file:\n",
    "    # Append content to the file\n",
    "    file.write(\"python is best programming...\")\n",
    "print(\"Content has been appended to the file.\")    "
   ]
  },
  {
   "cell_type": "code",
   "execution_count": 5,
   "metadata": {},
   "outputs": [
    {
     "name": "stdout",
     "output_type": "stream",
     "text": [
      "www.codeswithpankaj.com\n",
      "learning python with @p4n.\n",
      "www.p4n.in.\n",
      "python is best programming...\n"
     ]
    }
   ],
   "source": [
    "# File Operation\n",
    "# Read File From System\n",
    "# Open the file in read mode\n",
    "with open(\"p4n.txt\",\"r\") as file:\n",
    "    # Read the entire content of the file\n",
    "    content = file.read()\n",
    "# print the content of file \n",
    "print(content)  "
   ]
  }
 ],
 "metadata": {
  "kernelspec": {
   "display_name": "Python 3",
   "language": "python",
   "name": "python3"
  },
  "language_info": {
   "codemirror_mode": {
    "name": "ipython",
    "version": 3
   },
   "file_extension": ".py",
   "mimetype": "text/x-python",
   "name": "python",
   "nbconvert_exporter": "python",
   "pygments_lexer": "ipython3",
   "version": "3.13.0"
  }
 },
 "nbformat": 4,
 "nbformat_minor": 2
}
