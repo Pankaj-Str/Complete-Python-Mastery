{
 "cells": [
  {
   "cell_type": "code",
   "execution_count": 2,
   "id": "f0aef6b1",
   "metadata": {},
   "outputs": [
    {
     "name": "stdout",
     "output_type": "stream",
     "text": [
      "number 1 is smallest ..\n"
     ]
    }
   ],
   "source": [
    "number1 = 100\n",
    "number2 = 200\n",
    "\n",
    "if number1 < number2:\n",
    "    print('number 1 is smallest ..')\n",
    "else:\n",
    "    print('number 1 i not smallest..')\n",
    "        "
   ]
  },
  {
   "cell_type": "code",
   "execution_count": 4,
   "id": "1eef84dd",
   "metadata": {},
   "outputs": [
    {
     "name": "stdout",
     "output_type": "stream",
     "text": [
      "b is smallest\n"
     ]
    }
   ],
   "source": [
    "a = 10 \n",
    "b = 2\n",
    "c = 90\n",
    "\n",
    "if a < b and a < c:\n",
    "    print(\"a is smallest\")\n",
    "elif b < a and b < c:\n",
    "    print(\"b is smallest\") \n",
    "else:\n",
    "    print(\"c is smallest..\")"
   ]
  }
 ],
 "metadata": {
  "kernelspec": {
   "display_name": "Python 3 (ipykernel)",
   "language": "python",
   "name": "python3"
  },
  "language_info": {
   "codemirror_mode": {
    "name": "ipython",
    "version": 3
   },
   "file_extension": ".py",
   "mimetype": "text/x-python",
   "name": "python",
   "nbconvert_exporter": "python",
   "pygments_lexer": "ipython3",
   "version": "3.9.12"
  }
 },
 "nbformat": 4,
 "nbformat_minor": 5
}
