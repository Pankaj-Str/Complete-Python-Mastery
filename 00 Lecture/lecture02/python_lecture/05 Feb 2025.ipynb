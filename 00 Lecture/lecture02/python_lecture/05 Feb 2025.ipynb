{
 "cells": [
  {
   "cell_type": "code",
   "execution_count": 1,
   "id": "9dd61d7a",
   "metadata": {},
   "outputs": [
    {
     "name": "stdout",
     "output_type": "stream",
     "text": [
      "<class 'dict'>\n"
     ]
    }
   ],
   "source": [
    "# Dictionary\n",
    "\n",
    "data = {}\n",
    "print(type(data))"
   ]
  },
  {
   "cell_type": "code",
   "execution_count": 2,
   "id": "4556747c",
   "metadata": {},
   "outputs": [
    {
     "name": "stdout",
     "output_type": "stream",
     "text": [
      "{'name': 'joy', 'age': 23, 'height': 4.5}\n"
     ]
    }
   ],
   "source": [
    "data = {'name':'joy','age':23,'height':4.5}\n",
    "print(data)"
   ]
  },
  {
   "cell_type": "code",
   "execution_count": 3,
   "id": "584dee41",
   "metadata": {},
   "outputs": [
    {
     "name": "stdout",
     "output_type": "stream",
     "text": [
      "joy\n"
     ]
    }
   ],
   "source": [
    "# get data \n",
    "print(data['name'])"
   ]
  },
  {
   "cell_type": "code",
   "execution_count": 4,
   "id": "b4400d7e",
   "metadata": {},
   "outputs": [
    {
     "name": "stdout",
     "output_type": "stream",
     "text": [
      "{'name': 'joy', 'age': 35, 'height': 4.5}\n"
     ]
    }
   ],
   "source": [
    "# update data\n",
    "data['age'] = 35\n",
    "print(data)"
   ]
  },
  {
   "cell_type": "code",
   "execution_count": 5,
   "id": "8228ac88",
   "metadata": {},
   "outputs": [
    {
     "name": "stdout",
     "output_type": "stream",
     "text": [
      "{'name': 'joy', 'age': 35, 'height': 4.5, 'city': 'mumbai'}\n"
     ]
    }
   ],
   "source": [
    "# add new record \n",
    "data['city'] = 'mumbai'\n",
    "print(data)"
   ]
  },
  {
   "cell_type": "code",
   "execution_count": 6,
   "id": "680c3218",
   "metadata": {},
   "outputs": [
    {
     "name": "stdout",
     "output_type": "stream",
     "text": [
      "{'name': 'joy', 'age': 35, 'height': 4.5}\n"
     ]
    }
   ],
   "source": [
    "# pop(key)\n",
    "data.pop('city')\n",
    "print(data)"
   ]
  },
  {
   "cell_type": "code",
   "execution_count": 8,
   "id": "1ad42dac",
   "metadata": {},
   "outputs": [
    {
     "name": "stdout",
     "output_type": "stream",
     "text": [
      "dict_keys(['name', 'age', 'height'])\n"
     ]
    }
   ],
   "source": [
    "# get all keys\n",
    "print(data.keys())"
   ]
  },
  {
   "cell_type": "code",
   "execution_count": 9,
   "id": "5a1d06a2",
   "metadata": {},
   "outputs": [
    {
     "name": "stdout",
     "output_type": "stream",
     "text": [
      "dict_values(['joy', 35, 4.5])\n"
     ]
    }
   ],
   "source": [
    "# get all values \n",
    "print(data.values())"
   ]
  },
  {
   "cell_type": "code",
   "execution_count": 10,
   "id": "2ca972a9",
   "metadata": {},
   "outputs": [
    {
     "name": "stdout",
     "output_type": "stream",
     "text": [
      "dict_items([('name', 'joy'), ('age', 35), ('height', 4.5)])\n"
     ]
    }
   ],
   "source": [
    "# get all\n",
    "print(data.items())"
   ]
  },
  {
   "cell_type": "code",
   "execution_count": 12,
   "id": "669713a9",
   "metadata": {},
   "outputs": [
    {
     "name": "stdout",
     "output_type": "stream",
     "text": [
      "name = joy\n",
      "age = 35\n",
      "height = 4.5\n"
     ]
    }
   ],
   "source": [
    "for i in data:\n",
    "    print(i,'=',data[i])"
   ]
  },
  {
   "cell_type": "code",
   "execution_count": 14,
   "id": "3606b363",
   "metadata": {},
   "outputs": [
    {
     "name": "stdout",
     "output_type": "stream",
     "text": [
      "Name = Andheri\n",
      "Description = null\n",
      "BranchType = Head Post Office\n",
      "DeliveryStatus = Non-Delivery\n",
      "Circle = Maharashtra\n",
      "District = Mumbai\n",
      "Division = Mumbai  North\n",
      "Region = Mumbai\n",
      "Block = Mumbai\n",
      "State = Maharashtra\n",
      "Country = India\n",
      "Pincode = 400053\n"
     ]
    }
   ],
   "source": [
    "data = {\n",
    "        \"Name\": \"Andheri\",\n",
    "        \"Description\": \"null\",\n",
    "        \"BranchType\": \"Head Post Office\",\n",
    "        \"DeliveryStatus\": \"Non-Delivery\",\n",
    "        \"Circle\": \"Maharashtra\",\n",
    "        \"District\": \"Mumbai\",\n",
    "        \"Division\": \"Mumbai  North\",\n",
    "        \"Region\": \"Mumbai\",\n",
    "        \"Block\": \"Mumbai\",\n",
    "        \"State\": \"Maharashtra\",\n",
    "        \"Country\": \"India\",\n",
    "        \"Pincode\": \"400053\"\n",
    "      }\n",
    "\n",
    "for i in data:\n",
    "    print(i,'=',data[i])"
   ]
  }
 ],
 "metadata": {
  "kernelspec": {
   "display_name": "Python 3 (ipykernel)",
   "language": "python",
   "name": "python3"
  },
  "language_info": {
   "codemirror_mode": {
    "name": "ipython",
    "version": 3
   },
   "file_extension": ".py",
   "mimetype": "text/x-python",
   "name": "python",
   "nbconvert_exporter": "python",
   "pygments_lexer": "ipython3",
   "version": "3.9.12"
  }
 },
 "nbformat": 4,
 "nbformat_minor": 5
}
