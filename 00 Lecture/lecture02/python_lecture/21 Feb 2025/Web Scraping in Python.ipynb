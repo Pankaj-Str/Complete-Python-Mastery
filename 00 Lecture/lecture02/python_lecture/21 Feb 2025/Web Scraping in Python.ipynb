{
 "cells": [
  {
   "cell_type": "code",
   "execution_count": 1,
   "metadata": {},
   "outputs": [
    {
     "name": "stdout",
     "output_type": "stream",
     "text": [
      "Requirement already satisfied: requests in c:\\users\\admin\\appdata\\local\\programs\\python\\python312\\lib\\site-packages (2.31.0)Note: you may need to restart the kernel to use updated packages.\n",
      "\n",
      "Requirement already satisfied: beautifulsoup4 in c:\\users\\admin\\appdata\\local\\programs\\python\\python312\\lib\\site-packages (4.12.3)\n",
      "Collecting lxml\n",
      "  Obtaining dependency information for lxml from https://files.pythonhosted.org/packages/2b/9c/8abe21585d20ef70ad9cec7562da4332b764ed69ec29b7389d23dfabcea0/lxml-5.3.1-cp312-cp312-win_amd64.whl.metadata\n",
      "  Downloading lxml-5.3.1-cp312-cp312-win_amd64.whl.metadata (3.8 kB)\n",
      "Requirement already satisfied: pandas in c:\\users\\admin\\appdata\\local\\programs\\python\\python312\\lib\\site-packages (2.2.0)\n",
      "Requirement already satisfied: charset-normalizer<4,>=2 in c:\\users\\admin\\appdata\\local\\programs\\python\\python312\\lib\\site-packages (from requests) (3.3.2)\n",
      "Requirement already satisfied: idna<4,>=2.5 in c:\\users\\admin\\appdata\\local\\programs\\python\\python312\\lib\\site-packages (from requests) (3.6)\n",
      "Requirement already satisfied: urllib3<3,>=1.21.1 in c:\\users\\admin\\appdata\\local\\programs\\python\\python312\\lib\\site-packages (from requests) (2.1.0)\n",
      "Requirement already satisfied: certifi>=2017.4.17 in c:\\users\\admin\\appdata\\local\\programs\\python\\python312\\lib\\site-packages (from requests) (2023.11.17)\n",
      "Requirement already satisfied: soupsieve>1.2 in c:\\users\\admin\\appdata\\local\\programs\\python\\python312\\lib\\site-packages (from beautifulsoup4) (2.5)\n",
      "Requirement already satisfied: numpy<2,>=1.26.0 in c:\\users\\admin\\appdata\\local\\programs\\python\\python312\\lib\\site-packages (from pandas) (1.26.3)\n",
      "Requirement already satisfied: python-dateutil>=2.8.2 in c:\\users\\admin\\appdata\\local\\programs\\python\\python312\\lib\\site-packages (from pandas) (2.8.2)\n",
      "Requirement already satisfied: pytz>=2020.1 in c:\\users\\admin\\appdata\\local\\programs\\python\\python312\\lib\\site-packages (from pandas) (2023.4)\n",
      "Requirement already satisfied: tzdata>=2022.7 in c:\\users\\admin\\appdata\\local\\programs\\python\\python312\\lib\\site-packages (from pandas) (2023.4)\n",
      "Requirement already satisfied: six>=1.5 in c:\\users\\admin\\appdata\\local\\programs\\python\\python312\\lib\\site-packages (from python-dateutil>=2.8.2->pandas) (1.16.0)\n",
      "Downloading lxml-5.3.1-cp312-cp312-win_amd64.whl (3.8 MB)\n",
      "   ---------------------------------------- 0.0/3.8 MB ? eta -:--:--\n",
      "   ---------------------------------------- 0.0/3.8 MB ? eta -:--:--\n",
      "    --------------------------------------- 0.1/3.8 MB 656.4 kB/s eta 0:00:06\n",
      "   - -------------------------------------- 0.1/3.8 MB 1.1 MB/s eta 0:00:04\n",
      "   --- ------------------------------------ 0.3/3.8 MB 1.9 MB/s eta 0:00:02\n",
      "   ---- ----------------------------------- 0.4/3.8 MB 2.0 MB/s eta 0:00:02\n",
      "   ------ --------------------------------- 0.6/3.8 MB 2.2 MB/s eta 0:00:02\n",
      "   ------ --------------------------------- 0.6/3.8 MB 2.0 MB/s eta 0:00:02\n",
      "   -------- ------------------------------- 0.8/3.8 MB 2.3 MB/s eta 0:00:02\n",
      "   ---------- ----------------------------- 1.0/3.8 MB 2.4 MB/s eta 0:00:02\n",
      "   ------------- -------------------------- 1.3/3.8 MB 2.9 MB/s eta 0:00:01\n",
      "   ------------------ --------------------- 1.7/3.8 MB 3.4 MB/s eta 0:00:01\n",
      "   --------------------- ------------------ 2.1/3.8 MB 3.8 MB/s eta 0:00:01\n",
      "   ------------------------- -------------- 2.5/3.8 MB 4.1 MB/s eta 0:00:01\n",
      "   ----------------------------- ---------- 2.8/3.8 MB 4.3 MB/s eta 0:00:01\n",
      "   -------------------------------- ------- 3.1/3.8 MB 4.5 MB/s eta 0:00:01\n",
      "   ------------------------------------ --- 3.5/3.8 MB 4.6 MB/s eta 0:00:01\n",
      "   ------------------------------------ --- 3.5/3.8 MB 4.6 MB/s eta 0:00:01\n",
      "   ------------------------------------ --- 3.5/3.8 MB 4.6 MB/s eta 0:00:01\n",
      "   ---------------------------------------  3.8/3.8 MB 4.3 MB/s eta 0:00:01\n",
      "   ---------------------------------------- 3.8/3.8 MB 4.2 MB/s eta 0:00:00\n",
      "Installing collected packages: lxml\n",
      "Successfully installed lxml-5.3.1\n"
     ]
    },
    {
     "name": "stderr",
     "output_type": "stream",
     "text": [
      "\n",
      "[notice] A new release of pip is available: 23.2.1 -> 25.0.1\n",
      "[notice] To update, run: python.exe -m pip install --upgrade pip\n"
     ]
    }
   ],
   "source": [
    "%pip install requests beautifulsoup4 lxml pandas"
   ]
  },
  {
   "cell_type": "code",
   "execution_count": 2,
   "metadata": {},
   "outputs": [
    {
     "name": "stdout",
     "output_type": "stream",
     "text": [
      "Done ...\n"
     ]
    }
   ],
   "source": [
    "import requests\n",
    "\n",
    "url = \"https://quotes.toscrape.com/\"\n",
    "\n",
    "response = requests.get(url)\n",
    "\n",
    "if response.status_code == 200:\n",
    "    print(\"Done ...\")\n",
    "else:\n",
    "    print(\"Page not found ...\")    "
   ]
  },
  {
   "cell_type": "code",
   "execution_count": 6,
   "metadata": {},
   "outputs": [
    {
     "name": "stdout",
     "output_type": "stream",
     "text": [
      "<!DOCTYPE html>\n",
      "<html lang=\"en\">\n",
      " <head>\n",
      "  <meta charset=\"utf-8\"/>\n",
      "  <title>\n",
      "   Quotes to Scrape\n",
      "  </title>\n",
      "  <link href=\"/static/bootstrap.min.css\" rel=\"stylesheet\"/>\n",
      "  <link href=\"/static/main.css\" rel=\"stylesheet\"/>\n",
      " </head>\n",
      " <body>\n",
      "  <div class=\"container\">\n",
      "   <div class=\"row header-box\">\n",
      "    <div class=\"col-md-8\">\n",
      "     <h1>\n",
      "      <a href=\"/\" style=\"text-decoration: none\">\n",
      "       Quotes to Scrape\n",
      "      </a>\n",
      "     </h1>\n",
      "    </div>\n",
      "    <div class=\"col-md-4\">\n",
      "     <p>\n",
      "      <a href=\"/login\">\n",
      "   \n"
     ]
    }
   ],
   "source": [
    "from bs4 import BeautifulSoup\n",
    "\n",
    "soup = BeautifulSoup(response.text , \"html.parser\")\n",
    "\n",
    "# print data \n",
    "\n",
    "print(soup.prettify()[:500])"
   ]
  },
  {
   "cell_type": "code",
   "execution_count": 11,
   "metadata": {},
   "outputs": [
    {
     "name": "stdout",
     "output_type": "stream",
     "text": [
      "Quotes : “The world as we have created it is a process of our thinking. It cannot be changed without changing our thinking.”\n",
      "authors : Albert Einstein\n",
      "--------------------------------------------------\n",
      "Quotes : “It is our choices, Harry, that show what we truly are, far more than our abilities.”\n",
      "authors : J.K. Rowling\n",
      "--------------------------------------------------\n",
      "Quotes : “There are only two ways to live your life. One is as though nothing is a miracle. The other is as though everything is a miracle.”\n",
      "authors : Albert Einstein\n",
      "--------------------------------------------------\n",
      "Quotes : “The person, be it gentleman or lady, who has not pleasure in a good novel, must be intolerably stupid.”\n",
      "authors : Jane Austen\n",
      "--------------------------------------------------\n",
      "Quotes : “Imperfection is beauty, madness is genius and it's better to be absolutely ridiculous than absolutely boring.”\n",
      "authors : Marilyn Monroe\n",
      "--------------------------------------------------\n",
      "Quotes : “Try not to become a man of success. Rather become a man of value.”\n",
      "authors : Albert Einstein\n",
      "--------------------------------------------------\n",
      "Quotes : “It is better to be hated for what you are than to be loved for what you are not.”\n",
      "authors : André Gide\n",
      "--------------------------------------------------\n",
      "Quotes : “I have not failed. I've just found 10,000 ways that won't work.”\n",
      "authors : Thomas A. Edison\n",
      "--------------------------------------------------\n",
      "Quotes : “A woman is like a tea bag; you never know how strong it is until it's in hot water.”\n",
      "authors : Eleanor Roosevelt\n",
      "--------------------------------------------------\n",
      "Quotes : “A day without sunshine is like, you know, night.”\n",
      "authors : Steve Martin\n",
      "--------------------------------------------------\n"
     ]
    }
   ],
   "source": [
    "quotes = soup.find_all(\"span\",class_=\"text\")\n",
    "authors= soup.find_all(\"small\",class_=\"author\")\n",
    "\n",
    "# print(quotes)\n",
    "\n",
    "for i in range(len(quotes)):\n",
    "    print(f'Quotes : {quotes[i].text}')\n",
    "    print(f'authors : {authors[i].text}')\n",
    "    print(\"-\"*50)"
   ]
  },
  {
   "cell_type": "code",
   "execution_count": 14,
   "metadata": {},
   "outputs": [
    {
     "name": "stdout",
     "output_type": "stream",
     "text": [
      "done....\n"
     ]
    }
   ],
   "source": [
    "import pandas as pd\n",
    "\n",
    "data = {\"Quotes\":[a.text for a in quotes],\"Authors\":[a.text for a in authors]}\n",
    "df = pd.DataFrame(data)\n",
    "# print(df)\n",
    "df.to_csv(\"data1.csv\",index=False)\n",
    "print(\"done....\")"
   ]
  }
 ],
 "metadata": {
  "kernelspec": {
   "display_name": "Python 3",
   "language": "python",
   "name": "python3"
  },
  "language_info": {
   "codemirror_mode": {
    "name": "ipython",
    "version": 3
   },
   "file_extension": ".py",
   "mimetype": "text/x-python",
   "name": "python",
   "nbconvert_exporter": "python",
   "pygments_lexer": "ipython3",
   "version": "3.12.1"
  }
 },
 "nbformat": 4,
 "nbformat_minor": 2
}
