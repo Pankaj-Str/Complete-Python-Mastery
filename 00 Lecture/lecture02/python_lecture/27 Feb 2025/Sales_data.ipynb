{
 "cells": [
  {
   "cell_type": "code",
   "execution_count": 3,
   "metadata": {},
   "outputs": [
    {
     "name": "stdout",
     "output_type": "stream",
     "text": [
      "         Date     Store         City  Revenue Product Category  Quantity  \\\n",
      "0  2023-04-13   Store_2      Phoenix      321             Toys         2   \n",
      "1  2024-03-11  Store_10      Houston     1513        Groceries         8   \n",
      "2  2023-12-15   Store_2  Los Angeles     1821        Furniture         9   \n",
      "3  2023-09-28  Store_10  Los Angeles     1312         Clothing         7   \n",
      "4  2023-04-17   Store_1      Chicago      426         Clothing         3   \n",
      "\n",
      "   Employees  Transactions  Payment Method  Discount  Customer_Age  \\\n",
      "0         28            17  Online Payment     13.82            27   \n",
      "1          6            36  Online Payment     21.60            56   \n",
      "2         26            19      Debit Card     49.02            45   \n",
      "3          7            64     Credit Card      3.38            66   \n",
      "4         16            91  Online Payment     25.94            53   \n",
      "\n",
      "  Customer_Gender  \n",
      "0      Non-binary  \n",
      "1      Non-binary  \n",
      "2      Non-binary  \n",
      "3          Female  \n",
      "4            Male  \n"
     ]
    }
   ],
   "source": [
    "import pandas as pd\n",
    "\n",
    "data = pd.read_csv(\"https://raw.githubusercontent.com/Pankaj-Str/Complete-Python-Mastery/refs/heads/main/54%20Day%20Case%20Study/02/sales_data.csv\")\n",
    "\n",
    "print(data.head())"
   ]
  },
  {
   "cell_type": "code",
   "execution_count": 4,
   "metadata": {},
   "outputs": [
    {
     "name": "stdout",
     "output_type": "stream",
     "text": [
      "Date                0\n",
      "Store               0\n",
      "City                0\n",
      "Revenue             0\n",
      "Product Category    0\n",
      "Quantity            0\n",
      "Employees           0\n",
      "Transactions        0\n",
      "Payment Method      0\n",
      "Discount            0\n",
      "Customer_Age        0\n",
      "Customer_Gender     0\n",
      "dtype: int64\n"
     ]
    }
   ],
   "source": [
    "# Data cleaning \n",
    "\n",
    "# check for missing values \n",
    "print(data.isnull().sum())"
   ]
  },
  {
   "cell_type": "code",
   "execution_count": 5,
   "metadata": {},
   "outputs": [
    {
     "name": "stdout",
     "output_type": "stream",
     "text": [
      "           Date     Store         City  Revenue Product Category  Quantity  \\\n",
      "0    2023-04-13   Store_2      Phoenix      321             Toys         2   \n",
      "1    2024-03-11  Store_10      Houston     1513        Groceries         8   \n",
      "2    2023-12-15   Store_2  Los Angeles     1821        Furniture         9   \n",
      "3    2023-09-28  Store_10  Los Angeles     1312         Clothing         7   \n",
      "4    2023-04-17   Store_1      Chicago      426         Clothing         3   \n",
      "..          ...       ...          ...      ...              ...       ...   \n",
      "495  2023-04-24   Store_8     New York     1429         Clothing         3   \n",
      "496  2023-10-15   Store_1      Phoenix      734         Clothing         9   \n",
      "497  2024-03-06   Store_3      Phoenix     1977      Electronics         2   \n",
      "498  2023-12-08  Store_10      Houston     1806         Clothing         9   \n",
      "499  2023-05-31   Store_9     New York     1704        Groceries         5   \n",
      "\n",
      "     Employees  Transactions  Payment Method  Discount  Customer_Age  \\\n",
      "0           28            17  Online Payment     13.82            27   \n",
      "1            6            36  Online Payment     21.60            56   \n",
      "2           26            19      Debit Card     49.02            45   \n",
      "3            7            64     Credit Card      3.38            66   \n",
      "4           16            91  Online Payment     25.94            53   \n",
      "..         ...           ...             ...       ...           ...   \n",
      "495          9            75     Credit Card     13.92            60   \n",
      "496         11            77  Online Payment     39.91            64   \n",
      "497         25            50  Online Payment     16.31            61   \n",
      "498         12            11     Credit Card     14.97            52   \n",
      "499          9            95  Online Payment     11.63            34   \n",
      "\n",
      "    Customer_Gender  \n",
      "0        Non-binary  \n",
      "1        Non-binary  \n",
      "2        Non-binary  \n",
      "3            Female  \n",
      "4              Male  \n",
      "..              ...  \n",
      "495            Male  \n",
      "496          Female  \n",
      "497      Non-binary  \n",
      "498            Male  \n",
      "499            Male  \n",
      "\n",
      "[500 rows x 12 columns]\n"
     ]
    }
   ],
   "source": [
    "sales_df = data.dropna()\n",
    "print(sales_df)"
   ]
  },
  {
   "cell_type": "code",
   "execution_count": 7,
   "metadata": {},
   "outputs": [
    {
     "name": "stdout",
     "output_type": "stream",
     "text": [
      "Date                 object\n",
      "Store                object\n",
      "City                 object\n",
      "Revenue               int64\n",
      "Product Category     object\n",
      "Quantity              int64\n",
      "Employees             int64\n",
      "Transactions          int64\n",
      "Payment Method       object\n",
      "Discount            float64\n",
      "Customer_Age          int64\n",
      "Customer_Gender      object\n",
      "dtype: object\n"
     ]
    }
   ],
   "source": [
    "print(data.dtypes)"
   ]
  },
  {
   "cell_type": "code",
   "execution_count": 9,
   "metadata": {},
   "outputs": [
    {
     "name": "stdout",
     "output_type": "stream",
     "text": [
      "Date                datetime64[ns]\n",
      "Store                       object\n",
      "City                        object\n",
      "Revenue                      int64\n",
      "Product Category            object\n",
      "Quantity                     int64\n",
      "Employees                    int64\n",
      "Transactions                 int64\n",
      "Payment Method              object\n",
      "Discount                   float64\n",
      "Customer_Age                 int64\n",
      "Customer_Gender             object\n",
      "dtype: object\n"
     ]
    }
   ],
   "source": [
    "# convert date col to date and time \n",
    "data['Date'] = pd.to_datetime(data['Date'])\n",
    "\n",
    "print(data.dtypes)"
   ]
  },
  {
   "cell_type": "code",
   "execution_count": 10,
   "metadata": {},
   "outputs": [
    {
     "name": "stdout",
     "output_type": "stream",
     "text": [
      "        Date     Store         City  Revenue Product Category  Quantity  \\\n",
      "0 2023-04-13   Store_2      Phoenix      321             Toys         2   \n",
      "1 2024-03-11  Store_10      Houston     1513        Groceries         8   \n",
      "2 2023-12-15   Store_2  Los Angeles     1821        Furniture         9   \n",
      "3 2023-09-28  Store_10  Los Angeles     1312         Clothing         7   \n",
      "4 2023-04-17   Store_1      Chicago      426         Clothing         3   \n",
      "\n",
      "   Employees  Transactions  Payment Method  Discount  Customer_Age  \\\n",
      "0         28            17  Online Payment     13.82            27   \n",
      "1          6            36  Online Payment     21.60            56   \n",
      "2         26            19      Debit Card     49.02            45   \n",
      "3          7            64     Credit Card      3.38            66   \n",
      "4         16            91  Online Payment     25.94            53   \n",
      "\n",
      "  Customer_Gender  \n",
      "0      Non-binary  \n",
      "1      Non-binary  \n",
      "2      Non-binary  \n",
      "3          Female  \n",
      "4            Male  \n"
     ]
    }
   ],
   "source": [
    "# remove duplicates \n",
    "\n",
    "data = data.drop_duplicates()\n",
    "print(data.head())"
   ]
  },
  {
   "cell_type": "code",
   "execution_count": 11,
   "metadata": {},
   "outputs": [
    {
     "name": "stdout",
     "output_type": "stream",
     "text": [
      "500\n"
     ]
    }
   ],
   "source": [
    "# Calculate the total number of transactions recorded in the dataset.\n",
    "print(data.shape[0])"
   ]
  },
  {
   "cell_type": "code",
   "execution_count": 15,
   "metadata": {},
   "outputs": [
    {
     "name": "stdout",
     "output_type": "stream",
     "text": [
      "Store\n",
      "Store_1     61734\n",
      "Store_10    78093\n",
      "Store_2     46645\n",
      "Store_3     48520\n",
      "Store_4     39991\n",
      "Store_5     64218\n",
      "Store_6     51657\n",
      "Store_7     45679\n",
      "Store_8     35540\n",
      "Store_9     38449\n",
      "Name: Revenue, dtype: int64\n"
     ]
    }
   ],
   "source": [
    "# store location with highest sales \n",
    "\n",
    "print(data.groupby('Store')['Revenue'].sum())"
   ]
  },
  {
   "cell_type": "code",
   "execution_count": 14,
   "metadata": {},
   "outputs": [
    {
     "name": "stdout",
     "output_type": "stream",
     "text": [
      "Store_10\n"
     ]
    }
   ],
   "source": [
    "# highest sales \n",
    "print(data.groupby('Store')['Revenue'].sum().idxmax())"
   ]
  },
  {
   "cell_type": "code",
   "execution_count": 20,
   "metadata": {},
   "outputs": [
    {
     "name": "stdout",
     "output_type": "stream",
     "text": [
      "City\n",
      "Chicago        107678\n",
      "New York       106089\n",
      "Los Angeles    104965\n",
      "Phoenix         98623\n",
      "Houston         93171\n",
      "Name: Revenue, dtype: int64\n"
     ]
    }
   ],
   "source": [
    "# Top 5 City (Sales)\n",
    "print(data.groupby('City')['Revenue'].sum().sort_values(ascending=False).head()) "
   ]
  },
  {
   "cell_type": "code",
   "execution_count": 21,
   "metadata": {},
   "outputs": [
    {
     "name": "stdout",
     "output_type": "stream",
     "text": [
      "Clothing\n"
     ]
    }
   ],
   "source": [
    "# Determine the most sold product category.\n",
    "print(data.groupby('Product Category')['Quantity'].sum().idxmax())"
   ]
  },
  {
   "cell_type": "code",
   "execution_count": 23,
   "metadata": {},
   "outputs": [
    {
     "name": "stdout",
     "output_type": "stream",
     "text": [
      "Product Category\n",
      "Clothing       576\n",
      "Electronics    484\n",
      "Furniture      531\n",
      "Groceries      437\n",
      "Toys           516\n",
      "Name: Quantity, dtype: int64\n"
     ]
    }
   ],
   "source": [
    "print(data.groupby('Product Category')['Quantity'].sum())"
   ]
  },
  {
   "cell_type": "code",
   "execution_count": 26,
   "metadata": {},
   "outputs": [
    {
     "name": "stdout",
     "output_type": "stream",
     "text": [
      "Store_8\n"
     ]
    }
   ],
   "source": [
    "# Find the store with the highest average transaction value.\n",
    "print(data.groupby('Store')['Transactions'].mean().idxmax())"
   ]
  },
  {
   "cell_type": "code",
   "execution_count": 31,
   "metadata": {},
   "outputs": [
    {
     "name": "stdout",
     "output_type": "stream",
     "text": [
      "Store\n",
      "Store_1     61734\n",
      "Store_10    78093\n",
      "Store_2     46645\n",
      "Store_3     48520\n",
      "Store_4     39991\n",
      "Store_5     64218\n",
      "Store_6     51657\n",
      "Store_7     45679\n",
      "Store_8     35540\n",
      "Store_9     38449\n",
      "Name: Revenue, dtype: int64\n"
     ]
    }
   ],
   "source": [
    "# Calculate the total revenue generated by each store.\n",
    "print(data.groupby('Store')['Revenue'].sum())"
   ]
  },
  {
   "cell_type": "code",
   "execution_count": 33,
   "metadata": {},
   "outputs": [
    {
     "name": "stdout",
     "output_type": "stream",
     "text": [
      "Store\n",
      "Store_8    35540\n",
      "Store_9    38449\n",
      "Store_4    39991\n",
      "Store_7    45679\n",
      "Store_2    46645\n",
      "Name: Revenue, dtype: int64\n"
     ]
    }
   ],
   "source": [
    "# top 5 Lowest Revenue\n",
    "\n",
    "print(data.groupby('Store')['Revenue'].sum().sort_values().head())"
   ]
  },
  {
   "cell_type": "code",
   "execution_count": 35,
   "metadata": {},
   "outputs": [
    {
     "name": "stdout",
     "output_type": "stream",
     "text": [
      "0     11.464286\n",
      "1    252.166667\n",
      "2     70.038462\n",
      "3    187.428571\n",
      "4     26.625000\n",
      "Name: Revenue_employee, dtype: float64\n"
     ]
    }
   ],
   "source": [
    "# Revenue per employee\n",
    "data['Revenue_employee'] = data['Revenue']/data['Employees']\n",
    "print(data['Revenue_employee'].head())"
   ]
  },
  {
   "cell_type": "code",
   "execution_count": 41,
   "metadata": {},
   "outputs": [
    {
     "name": "stdout",
     "output_type": "stream",
     "text": [
      "Month\n",
      "1     49762\n",
      "2     61056\n",
      "3     47679\n",
      "4     66539\n",
      "5     45342\n",
      "6     36034\n",
      "7     34038\n",
      "8     35510\n",
      "9     30224\n",
      "10    36176\n",
      "11    30232\n",
      "12    37934\n",
      "Name: Revenue, dtype: int64\n"
     ]
    }
   ],
   "source": [
    "# Analyze how revenue trends over time\n",
    "# Convert the 'Date' column to datetime\n",
    "sales_df['Date'] = pd.to_datetime(sales_df['Date'])\n",
    "\n",
    "# Extract the month from the 'Date' column\n",
    "sales_df['Month'] = sales_df['Date'].dt.month\n",
    "\n",
    "# Group by month and calculate the total sales for each group\n",
    "monthly_sales = sales_df.groupby('Month')['Revenue'].sum()\n",
    "\n",
    "# Print the monthly sales\n",
    "print(monthly_sales)\n",
    "\n"
   ]
  }
 ],
 "metadata": {
  "kernelspec": {
   "display_name": "Python 3",
   "language": "python",
   "name": "python3"
  },
  "language_info": {
   "codemirror_mode": {
    "name": "ipython",
    "version": 3
   },
   "file_extension": ".py",
   "mimetype": "text/x-python",
   "name": "python",
   "nbconvert_exporter": "python",
   "pygments_lexer": "ipython3",
   "version": "3.12.1"
  }
 },
 "nbformat": 4,
 "nbformat_minor": 2
}
