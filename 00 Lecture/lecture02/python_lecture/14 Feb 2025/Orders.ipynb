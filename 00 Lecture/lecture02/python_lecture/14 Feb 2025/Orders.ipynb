{
 "cells": [
  {
   "cell_type": "code",
   "execution_count": 9,
   "metadata": {},
   "outputs": [],
   "source": [
    "# class Orders:\n",
    "#     def Product_Name():\n",
    "#         print(\"Samosa\")\n",
    "\n",
    "#     def Product_Price():\n",
    "#         print(800)    "
   ]
  },
  {
   "cell_type": "code",
   "execution_count": 10,
   "metadata": {},
   "outputs": [],
   "source": [
    "# objectname = classname\n",
    "# customer = Orders\n",
    "# customer.Product_Name()\n",
    "# customer.Product_Price()"
   ]
  },
  {
   "cell_type": "code",
   "execution_count": 16,
   "metadata": {},
   "outputs": [],
   "source": [
    "class Orders:\n",
    "    def __init__(a):\n",
    "        print(18)\n",
    "    def Product_Name(a):\n",
    "        print(\"Samosa\")\n",
    "    def Product_Price(a):\n",
    "        print(800)  "
   ]
  },
  {
   "cell_type": "code",
   "execution_count": 17,
   "metadata": {},
   "outputs": [
    {
     "name": "stdout",
     "output_type": "stream",
     "text": [
      "18\n",
      "Samosa\n",
      "800\n"
     ]
    }
   ],
   "source": [
    "# objectname = classname\n",
    "customer = Orders()\n",
    "customer.Product_Name()\n",
    "customer.Product_Price()"
   ]
  },
  {
   "cell_type": "code",
   "execution_count": 20,
   "metadata": {},
   "outputs": [],
   "source": [
    "class creditcard:\n",
    "    def __init__(a):\n",
    "        print(\"BANK HDFC \")\n",
    "        print(\"City Name : Mumbai\")\n",
    "    def CreditLimit(a,cl):\n",
    "        a.cl = cl\n",
    "        print(cl)\n",
    "    def UseAmount(a,amount):\n",
    "        final_amount = a.cl-amount\n",
    "        print(amount)\n",
    "        print(final_amount)"
   ]
  },
  {
   "cell_type": "code",
   "execution_count": 21,
   "metadata": {},
   "outputs": [
    {
     "name": "stdout",
     "output_type": "stream",
     "text": [
      "BANK HDFC \n",
      "City Name : Mumbai\n",
      "100000\n",
      "85000\n",
      "15000\n"
     ]
    }
   ],
   "source": [
    "cd = creditcard()\n",
    "cd.CreditLimit(100000)\n",
    "cd.UseAmount(85000)"
   ]
  }
 ],
 "metadata": {
  "kernelspec": {
   "display_name": "Python 3",
   "language": "python",
   "name": "python3"
  },
  "language_info": {
   "codemirror_mode": {
    "name": "ipython",
    "version": 3
   },
   "file_extension": ".py",
   "mimetype": "text/x-python",
   "name": "python",
   "nbconvert_exporter": "python",
   "pygments_lexer": "ipython3",
   "version": "3.12.1"
  }
 },
 "nbformat": 4,
 "nbformat_minor": 2
}
