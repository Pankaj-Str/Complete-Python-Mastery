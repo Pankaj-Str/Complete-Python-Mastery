{
 "cells": [
  {
   "cell_type": "code",
   "execution_count": 5,
   "metadata": {},
   "outputs": [],
   "source": [
    "class bank:\n",
    "    def __init__(self,amount,tds):\n",
    "        self.amount = amount\n",
    "        self.tds = tds\n",
    "    def get_amount(self,credit):\n",
    "        self.credit = credit\n",
    "        self.final_amount = credit + self.amount\n",
    "        print(f'Credit  Amount  {credit}')\n",
    "\n",
    "    def Final_Amount(self):\n",
    "        tds_amount = self.final_amount*self.tds/100\n",
    "        F_amount = self.final_amount - tds_amount\n",
    "        print(f'Bank final amount {F_amount}')\n",
    "        print(f'TDS Amount  {tds_amount}')"
   ]
  },
  {
   "cell_type": "code",
   "execution_count": null,
   "metadata": {},
   "outputs": [
    {
     "name": "stdout",
     "output_type": "stream",
     "text": [
      "Credit  Amount  45000\n",
      "Bank final amount 90900.0\n",
      "TDS Amount  10100.0\n"
     ]
    }
   ],
   "source": [
    "# hdfc = bank(56000,10)\n",
    "# hdfc.get_amount(45000)\n",
    "# hdfc.Final_Amount()"
   ]
  }
 ],
 "metadata": {
  "kernelspec": {
   "display_name": "Python 3",
   "language": "python",
   "name": "python3"
  },
  "language_info": {
   "codemirror_mode": {
    "name": "ipython",
    "version": 3
   },
   "file_extension": ".py",
   "mimetype": "text/x-python",
   "name": "python",
   "nbconvert_exporter": "python",
   "pygments_lexer": "ipython3",
   "version": "3.12.1"
  }
 },
 "nbformat": 4,
 "nbformat_minor": 2
}
