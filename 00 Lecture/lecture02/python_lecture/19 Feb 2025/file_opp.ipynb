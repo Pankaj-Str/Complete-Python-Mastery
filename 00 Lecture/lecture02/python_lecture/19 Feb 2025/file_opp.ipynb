{
 "cells": [
  {
   "cell_type": "code",
   "execution_count": 1,
   "metadata": {},
   "outputs": [],
   "source": [
    "data = open(\"p4n.txt\",\"w\")\n",
    "data.write(\"welcome to python point\")\n",
    "data.close()"
   ]
  },
  {
   "cell_type": "code",
   "execution_count": 2,
   "metadata": {},
   "outputs": [],
   "source": [
    "data = open(\"new_file.txt\",\"w\")\n",
    "data.writelines(\"welcome to \\n python point \\n Welcome to cwpc\")\n",
    "data.close()"
   ]
  },
  {
   "cell_type": "code",
   "execution_count": 3,
   "metadata": {},
   "outputs": [
    {
     "name": "stdout",
     "output_type": "stream",
     "text": [
      "Downloads Latest Update\n",
      "Complete R Programming PPT\n",
      "Python Inheritance PPT\n",
      "Python Data abstraction PPT\n",
      "Python Polymorphism PPT\n",
      "Python Recursive Functions PPT\n",
      "Python Lambda() Function PPT\n",
      "Python Exception handling PPT\n",
      "Python Filter() Functions PPT\n",
      "Python Map() Functions PPT\n",
      "Python Reduce() Functions PPT\n",
      "Python File handling PPT\n"
     ]
    }
   ],
   "source": [
    "read_data = open(\"p4n.txt\",\"r\")\n",
    "file_data =read_data.read() \n",
    "print(file_data)\n",
    "read_data.close()"
   ]
  },
  {
   "cell_type": "code",
   "execution_count": 4,
   "metadata": {},
   "outputs": [
    {
     "name": "stdout",
     "output_type": "stream",
     "text": [
      "Downloads Latest Update\n",
      "\n"
     ]
    }
   ],
   "source": [
    "read_data = open(\"p4n.txt\",\"r\")\n",
    "file_data =read_data.readline() \n",
    "print(file_data)\n",
    "read_data.close()"
   ]
  },
  {
   "cell_type": "code",
   "execution_count": 5,
   "metadata": {},
   "outputs": [
    {
     "name": "stdout",
     "output_type": "stream",
     "text": [
      "['Downloads Latest Update\\n', 'Complete R Programming PPT\\n', 'Python Inheritance PPT\\n', 'Python Data abstraction PPT\\n', 'Python Polymorphism PPT\\n', 'Python Recursive Functions PPT\\n', 'Python Lambda() Function PPT\\n', 'Python Exception handling PPT\\n', 'Python Filter() Functions PPT\\n', 'Python Map() Functions PPT\\n', 'Python Reduce() Functions PPT\\n', 'Python File handling PPT']\n"
     ]
    }
   ],
   "source": [
    "read_data = open(\"p4n.txt\",\"r\")\n",
    "file_data =read_data.readlines() \n",
    "print(file_data)\n",
    "read_data.close()"
   ]
  },
  {
   "cell_type": "code",
   "execution_count": 6,
   "metadata": {},
   "outputs": [],
   "source": [
    "new_data = open(\"p4n.txt\",\"a\")\n",
    "new_data.write(\"9798664354\")\n",
    "new_data.close()"
   ]
  },
  {
   "cell_type": "code",
   "execution_count": 10,
   "metadata": {},
   "outputs": [
    {
     "name": "stdout",
     "output_type": "stream",
     "text": [
      "0\n",
      "103\n",
      "Downloads Latest Update\n",
      "Complete R Programming PPT\n",
      "Python Inheritance PPT\n",
      "Python Data abstraction PP\n"
     ]
    }
   ],
   "source": [
    "file = open(\"p4n.txt\",\"r\")\n",
    "print(file.tell()) # Shows position\n",
    "data = file.read(100)\n",
    "print(file.tell()) # Updated position\n",
    "print(data)\n",
    "file.close()\n"
   ]
  },
  {
   "cell_type": "code",
   "execution_count": 16,
   "metadata": {},
   "outputs": [
    {
     "name": "stdout",
     "output_type": "stream",
     "text": [
      "10\n",
      "Latest Update\n",
      "Complete R Programming PPT\n",
      "Python Inheritance PPT\n",
      "Python Data abstraction PPT\n",
      "Python Polymorphism PPT\n",
      "Python Recursive Functions PPT\n",
      "Python Lambda() Function PPT\n",
      "Python Exception handling PPT\n",
      "Python Filter() Functions PPT\n",
      "Python Map() Functions PPT\n",
      "Python Reduce() Functions PPT\n",
      "Python File handling PPT9798664354\n"
     ]
    }
   ],
   "source": [
    "file = open(\"p4n.txt\",\"r\")\n",
    "print(file.seek(10)) # Shows position\n",
    "data = file.read()\n",
    "print(data)\n",
    "file.close()"
   ]
  },
  {
   "cell_type": "code",
   "execution_count": 17,
   "metadata": {},
   "outputs": [],
   "source": [
    "import pickle\n",
    "data = {\"name\": \"Alice\",\"age\": 25}\n",
    "with open(\"data.pkl\",\"wb\") as file:\n",
    "    pickle.dump(data, file)"
   ]
  },
  {
   "cell_type": "code",
   "execution_count": 18,
   "metadata": {},
   "outputs": [
    {
     "name": "stdout",
     "output_type": "stream",
     "text": [
      "{'name': 'Alice', 'age': 25}\n"
     ]
    }
   ],
   "source": [
    "with open(\"data.pkl\",\"rb\") as file:\n",
    "    data = pickle.load(file)\n",
    "    print(data)"
   ]
  }
 ],
 "metadata": {
  "kernelspec": {
   "display_name": "Python 3",
   "language": "python",
   "name": "python3"
  },
  "language_info": {
   "codemirror_mode": {
    "name": "ipython",
    "version": 3
   },
   "file_extension": ".py",
   "mimetype": "text/x-python",
   "name": "python",
   "nbconvert_exporter": "python",
   "pygments_lexer": "ipython3",
   "version": "3.12.1"
  }
 },
 "nbformat": 4,
 "nbformat_minor": 2
}
