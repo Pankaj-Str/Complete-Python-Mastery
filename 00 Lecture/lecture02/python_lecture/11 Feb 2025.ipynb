{
 "cells": [
  {
   "cell_type": "code",
   "execution_count": 1,
   "id": "e4f620ad",
   "metadata": {},
   "outputs": [
    {
     "name": "stdout",
     "output_type": "stream",
     "text": [
      "<class 'dict'>\n"
     ]
    }
   ],
   "source": [
    "data = {}\n",
    "print(type(data))"
   ]
  },
  {
   "cell_type": "code",
   "execution_count": 2,
   "id": "9d9a94b4",
   "metadata": {},
   "outputs": [
    {
     "name": "stdout",
     "output_type": "stream",
     "text": [
      "set()\n"
     ]
    }
   ],
   "source": [
    "data = set()\n",
    "print(data)"
   ]
  },
  {
   "cell_type": "code",
   "execution_count": 4,
   "id": "de3d1ded",
   "metadata": {},
   "outputs": [
    {
     "name": "stdout",
     "output_type": "stream",
     "text": [
      "{45, 78, 22, 56, 63}\n"
     ]
    }
   ],
   "source": [
    "data = [56,45,78,22,22,22,45,63,63,56]\n",
    "new_data = set(data)\n",
    "print(new_data)"
   ]
  },
  {
   "cell_type": "code",
   "execution_count": 20,
   "id": "41ca520f",
   "metadata": {},
   "outputs": [
    {
     "name": "stdout",
     "output_type": "stream",
     "text": [
      "{45, 78, 22, 56, 63}\n",
      "[45, 78, 22, 56, 63]\n"
     ]
    }
   ],
   "source": [
    "data = [56,45,78,22,22,22,45,63,63,56]\n",
    "new_data = set(data)\n",
    "print(new_data)\n",
    "list_data = list(new_data)\n",
    "print(list_data)"
   ]
  },
  {
   "cell_type": "code",
   "execution_count": 11,
   "id": "b6596df6",
   "metadata": {},
   "outputs": [
    {
     "name": "stdout",
     "output_type": "stream",
     "text": [
      "{45, 78, 22, 56, (22, 22), 63}\n"
     ]
    }
   ],
   "source": [
    "data = [56,45,78,22,(22,22),45,63,63,56]\n",
    "new_data = set(data)\n",
    "print(new_data)"
   ]
  },
  {
   "cell_type": "code",
   "execution_count": 15,
   "id": "8381430c",
   "metadata": {},
   "outputs": [
    {
     "name": "stdout",
     "output_type": "stream",
     "text": [
      "{63, 22, 56, 45, 78, (22, 22)}\n"
     ]
    }
   ],
   "source": [
    "data_1 = {56,45,78,22,(22,22),45,63,63,56}\n",
    "new_data_1 = set(data_1)\n",
    "print(new_data_1)"
   ]
  },
  {
   "cell_type": "code",
   "execution_count": 18,
   "id": "eb3b5d08",
   "metadata": {},
   "outputs": [
    {
     "name": "stdout",
     "output_type": "stream",
     "text": [
      "{45, 78, 22, 56, (22, 22), 63}\n"
     ]
    }
   ],
   "source": [
    "data_2 = (56,45,78,22,(22,22),45,63,63,56)\n",
    "new_data_2 = set(data_2)\n",
    "print(new_data_2)"
   ]
  },
  {
   "cell_type": "code",
   "execution_count": 22,
   "id": "1dc10972",
   "metadata": {},
   "outputs": [
    {
     "name": "stdout",
     "output_type": "stream",
     "text": [
      "{33, 11, 44, 22}\n",
      "{33, 11, 44, 22, 55}\n"
     ]
    }
   ],
   "source": [
    "data = {11,11,22,33,44,33}\n",
    "print(data)\n",
    "\n",
    "data.add(55)\n",
    "print(data)"
   ]
  },
  {
   "cell_type": "code",
   "execution_count": 23,
   "id": "e70097bc",
   "metadata": {},
   "outputs": [
    {
     "name": "stdout",
     "output_type": "stream",
     "text": [
      "{33, 66, 99, 11, 44, 77, 22, 55, 88}\n"
     ]
    }
   ],
   "source": [
    "my_list = [99,88,77,66,66]\n",
    "data.update(my_list)\n",
    "print(data)"
   ]
  },
  {
   "cell_type": "code",
   "execution_count": 27,
   "id": "2e2f1344",
   "metadata": {},
   "outputs": [
    {
     "name": "stdout",
     "output_type": "stream",
     "text": [
      "{33, 66, 99, 77, 22, 55, 88}\n"
     ]
    }
   ],
   "source": [
    "data.remove(44)\n",
    "print(data)"
   ]
  },
  {
   "cell_type": "code",
   "execution_count": 28,
   "id": "48a88bb7",
   "metadata": {},
   "outputs": [
    {
     "name": "stdout",
     "output_type": "stream",
     "text": [
      "{33, 66, 99, 77, 22, 55, 88}\n"
     ]
    }
   ],
   "source": [
    "data.discard(44)\n",
    "print(data)"
   ]
  },
  {
   "cell_type": "code",
   "execution_count": 31,
   "id": "e1293bac",
   "metadata": {},
   "outputs": [
    {
     "name": "stdout",
     "output_type": "stream",
     "text": [
      "{99, 77, 22, 55, 88}\n"
     ]
    }
   ],
   "source": [
    "data.pop()\n",
    "print(data)"
   ]
  }
 ],
 "metadata": {
  "kernelspec": {
   "display_name": "Python 3 (ipykernel)",
   "language": "python",
   "name": "python3"
  },
  "language_info": {
   "codemirror_mode": {
    "name": "ipython",
    "version": 3
   },
   "file_extension": ".py",
   "mimetype": "text/x-python",
   "name": "python",
   "nbconvert_exporter": "python",
   "pygments_lexer": "ipython3",
   "version": "3.9.12"
  }
 },
 "nbformat": 4,
 "nbformat_minor": 5
}
