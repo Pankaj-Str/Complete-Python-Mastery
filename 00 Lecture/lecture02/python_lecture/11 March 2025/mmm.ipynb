{
 "cells": [
  {
   "cell_type": "code",
   "execution_count": 3,
   "metadata": {},
   "outputs": [
    {
     "name": "stdout",
     "output_type": "stream",
     "text": [
      "56.0\n",
      "63.333333333333336\n"
     ]
    }
   ],
   "source": [
    "import numpy as np\n",
    "\n",
    "data = [12,45,56,78,89]\n",
    "mean = np.mean(data)\n",
    "print(mean)\n",
    "\n",
    "\n",
    "data = [12,45,56,78,89,100]\n",
    "mean = np.mean(data)\n",
    "print(mean)"
   ]
  },
  {
   "cell_type": "code",
   "execution_count": 5,
   "metadata": {},
   "outputs": [
    {
     "name": "stdout",
     "output_type": "stream",
     "text": [
      "14.0\n",
      "14.5\n"
     ]
    }
   ],
   "source": [
    "data = [12,13,14,15,16]\n",
    "m = np.median(data)\n",
    "print(m)\n",
    "\n",
    "data = [12,13,14,15,16,56]\n",
    "m = np.median(data)\n",
    "print(m)"
   ]
  },
  {
   "cell_type": "code",
   "execution_count": 7,
   "metadata": {},
   "outputs": [
    {
     "name": "stdout",
     "output_type": "stream",
     "text": [
      "Requirement already satisfied: scipy in c:\\users\\admin\\appdata\\local\\programs\\python\\python312\\lib\\site-packages (1.11.4)\n",
      "Requirement already satisfied: numpy<1.28.0,>=1.21.6 in c:\\users\\admin\\appdata\\local\\programs\\python\\python312\\lib\\site-packages (from scipy) (1.26.3)\n",
      "Note: you may need to restart the kernel to use updated packages.\n"
     ]
    },
    {
     "name": "stderr",
     "output_type": "stream",
     "text": [
      "\n",
      "[notice] A new release of pip is available: 23.2.1 -> 25.0.1\n",
      "[notice] To update, run: python.exe -m pip install --upgrade pip\n"
     ]
    }
   ],
   "source": [
    "%pip install scipy"
   ]
  },
  {
   "cell_type": "code",
   "execution_count": 6,
   "metadata": {},
   "outputs": [
    {
     "name": "stdout",
     "output_type": "stream",
     "text": [
      "ModeResult(mode=12, count=3)\n"
     ]
    }
   ],
   "source": [
    "from scipy import stats\n",
    "\n",
    "data = [12,13,14,15,15,22,12,13,22,16,15,12,13,16,17,11]\n",
    "mode = stats.mode(data)\n",
    "print(mode)\n"
   ]
  },
  {
   "cell_type": "code",
   "execution_count": 8,
   "metadata": {},
   "outputs": [
    {
     "name": "stdout",
     "output_type": "stream",
     "text": [
      "Range: 20\n"
     ]
    }
   ],
   "source": [
    "import numpy as np\n",
    "data = [5, 10, 15, 20, 25]\n",
    "range_value = np.max(data) - np.min(data)\n",
    "print(\"Range:\", range_value)"
   ]
  },
  {
   "cell_type": "code",
   "execution_count": 9,
   "metadata": {},
   "outputs": [
    {
     "name": "stdout",
     "output_type": "stream",
     "text": [
      "50.0\n"
     ]
    }
   ],
   "source": [
    "data = [5, 10, 15, 20, 25]\n",
    "\n",
    "Variance = np.var(data)\n",
    "print(Variance)"
   ]
  },
  {
   "cell_type": "code",
   "execution_count": 13,
   "metadata": {},
   "outputs": [
    {
     "name": "stdout",
     "output_type": "stream",
     "text": [
      "7.0710678118654755\n"
     ]
    }
   ],
   "source": [
    "s = np.std(data)\n",
    "print(s)"
   ]
  },
  {
   "cell_type": "code",
   "execution_count": 45,
   "metadata": {},
   "outputs": [
    {
     "name": "stdout",
     "output_type": "stream",
     "text": [
      "20.0\n",
      "11.0\n",
      "11.0\n",
      "Interquartile Range (IQR): 0.0\n"
     ]
    }
   ],
   "source": [
    "import numpy as np\n",
    "data = [5, 10, 15, 20, 25, 30,56]\n",
    "\n",
    "m = np.median(data)\n",
    "print(m)\n",
    "\n",
    "# data = [5,10,15]\n",
    "# sum1 = np.sum(data)\n",
    "# print(sum1)\n",
    "\n",
    "Q1 = np.percentile(data,20)\n",
    "Q3 = np.percentile(data, 20)\n",
    "\n",
    "print(Q1)\n",
    "print(Q3)\n",
    "\n",
    "IQR = Q3 - Q1\n",
    "\n",
    "print(\"Interquartile Range (IQR):\", IQR)"
   ]
  }
 ],
 "metadata": {
  "kernelspec": {
   "display_name": "Python 3",
   "language": "python",
   "name": "python3"
  },
  "language_info": {
   "codemirror_mode": {
    "name": "ipython",
    "version": 3
   },
   "file_extension": ".py",
   "mimetype": "text/x-python",
   "name": "python",
   "nbconvert_exporter": "python",
   "pygments_lexer": "ipython3",
   "version": "3.12.1"
  }
 },
 "nbformat": 4,
 "nbformat_minor": 2
}
