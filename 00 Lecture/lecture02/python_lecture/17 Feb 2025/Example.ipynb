{
 "cells": [
  {
   "cell_type": "code",
   "execution_count": null,
   "metadata": {},
   "outputs": [],
   "source": [
    "# Example Single \n",
    "\n",
    "\n",
    "class Bank:\n",
    "    def bank_info():\n",
    "        print(\"the Bank name is : HDFC\")\n",
    "    def Bank_Address():\n",
    "        print(\"Borivali West\")\n",
    "\n",
    "\n",
    "class Customer(Bank):\n",
    "    def C_info():\n",
    "        print('Rohan...')   \n",
    "                     "
   ]
  },
  {
   "cell_type": "code",
   "execution_count": null,
   "metadata": {},
   "outputs": [
    {
     "name": "stdout",
     "output_type": "stream",
     "text": [
      "the Bank name is : HDFC\n",
      "Borivali West\n",
      "Rohan...\n"
     ]
    }
   ],
   "source": [
    "myinfo = Customer\n",
    "myinfo.bank_info()\n",
    "myinfo.Bank_Address()\n",
    "myinfo.C_info()"
   ]
  },
  {
   "cell_type": "code",
   "execution_count": 8,
   "metadata": {},
   "outputs": [],
   "source": [
    "class Employee:\n",
    "    def emp_info():\n",
    "        print(\"Employee Name : Rohan\")\n",
    "        print(\"Employee City : Mumbai\")\n",
    "\n",
    "class Job:\n",
    "    def Job_info():\n",
    "        print(\"Software Development\")  \n",
    "\n",
    "class Company(Employee,Job):\n",
    "    def Company_Info():\n",
    "        print(\"CWPC\")              "
   ]
  },
  {
   "cell_type": "code",
   "execution_count": 9,
   "metadata": {},
   "outputs": [
    {
     "name": "stdout",
     "output_type": "stream",
     "text": [
      "Employee Name : Rohan\n",
      "Employee City : Mumbai\n",
      "Software Development\n",
      "CWPC\n"
     ]
    }
   ],
   "source": [
    "cp = Company\n",
    "cp.emp_info()\n",
    "cp.Job_info()\n",
    "cp.Company_Info()"
   ]
  }
 ],
 "metadata": {
  "kernelspec": {
   "display_name": "Python 3",
   "language": "python",
   "name": "python3"
  },
  "language_info": {
   "codemirror_mode": {
    "name": "ipython",
    "version": 3
   },
   "file_extension": ".py",
   "mimetype": "text/x-python",
   "name": "python",
   "nbconvert_exporter": "python",
   "pygments_lexer": "ipython3",
   "version": "3.12.1"
  }
 },
 "nbformat": 4,
 "nbformat_minor": 2
}
