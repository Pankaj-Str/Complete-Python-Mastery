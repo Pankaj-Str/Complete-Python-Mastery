{
 "cells": [
  {
   "cell_type": "code",
   "execution_count": 3,
   "id": "a04cbd45",
   "metadata": {},
   "outputs": [],
   "source": [
    "# basic function \n",
    "\n",
    "\n",
    "#def functionName():\n",
    "#    output ,Body\n",
    "\n",
    "\n",
    "def info():\n",
    "    print(\"welcome to python function...\")\n",
    "    print(\"python programming ...\")"
   ]
  },
  {
   "cell_type": "code",
   "execution_count": 5,
   "id": "417674b5",
   "metadata": {},
   "outputs": [
    {
     "name": "stdout",
     "output_type": "stream",
     "text": [
      "welcome to python function...\n",
      "python programming ...\n",
      "welcome to python function...\n",
      "python programming ...\n"
     ]
    }
   ],
   "source": [
    "# call the functon \n",
    "\n",
    "info()\n",
    "info()"
   ]
  },
  {
   "cell_type": "code",
   "execution_count": 8,
   "id": "c18d57e1",
   "metadata": {},
   "outputs": [
    {
     "name": "stdout",
     "output_type": "stream",
     "text": [
      "result is :  123\n",
      "result is :  170\n"
     ]
    }
   ],
   "source": [
    "def result(a,b):\n",
    "    add = a + b\n",
    "    print('result is : ',add)\n",
    "    \n",
    "    \n",
    "result(100,23)\n",
    "result(90,80)"
   ]
  },
  {
   "cell_type": "code",
   "execution_count": 10,
   "id": "04d88c64",
   "metadata": {},
   "outputs": [],
   "source": [
    "def bill(price,gst):\n",
    "    gst_amount = price*gst/100\n",
    "    total_amount = price + gst_amount\n",
    "    print('--------------------------')\n",
    "    print('Price = ',price,'₹')\n",
    "    print('gst = ',gst,'%')\n",
    "    print('gst amount = ',gst_amount,'₹')\n",
    "    print('MRP : ',total_amount,'₹')"
   ]
  },
  {
   "cell_type": "code",
   "execution_count": null,
   "id": "8598469d",
   "metadata": {},
   "outputs": [],
   "source": []
  },
  {
   "cell_type": "code",
   "execution_count": null,
   "id": "21eca746",
   "metadata": {},
   "outputs": [],
   "source": []
  },
  {
   "cell_type": "code",
   "execution_count": 11,
   "id": "4189a864",
   "metadata": {},
   "outputs": [
    {
     "name": "stdout",
     "output_type": "stream",
     "text": [
      "--------------------------\n",
      "Price =  1200 ₹\n",
      "gst =  18 %\n",
      "gst amount =  216.0 ₹\n",
      "MRP :  1416.0 ₹\n",
      "--------------------------\n",
      "Price =  4500 ₹\n",
      "gst =  9 %\n",
      "gst amount =  405.0 ₹\n",
      "MRP :  4905.0 ₹\n",
      "--------------------------\n",
      "Price =  9800 ₹\n",
      "gst =  2 %\n",
      "gst amount =  196.0 ₹\n",
      "MRP :  9996.0 ₹\n"
     ]
    }
   ],
   "source": [
    "bill(1200,18)\n",
    "bill(4500,9)\n",
    "bill(9800,2)"
   ]
  },
  {
   "cell_type": "code",
   "execution_count": 14,
   "id": "181da2fa",
   "metadata": {},
   "outputs": [
    {
     "name": "stdout",
     "output_type": "stream",
     "text": [
      "1300\n"
     ]
    }
   ],
   "source": [
    "# return type \n",
    "\n",
    "def get_number():\n",
    "    return 400;\n",
    "\n",
    "print(get_number()+900)"
   ]
  },
  {
   "cell_type": "code",
   "execution_count": 15,
   "id": "11460031",
   "metadata": {},
   "outputs": [],
   "source": [
    "# return type , arg...\n",
    "def numbers(a,b):\n",
    "    result = a + b;\n",
    "    return result"
   ]
  },
  {
   "cell_type": "code",
   "execution_count": 17,
   "id": "2045dc02",
   "metadata": {},
   "outputs": [
    {
     "name": "stdout",
     "output_type": "stream",
     "text": [
      "134\n"
     ]
    }
   ],
   "source": [
    "print(numbers(78,56))"
   ]
  },
  {
   "cell_type": "code",
   "execution_count": 18,
   "id": "1231a24f",
   "metadata": {},
   "outputs": [],
   "source": [
    "def bill(price,gst):\n",
    "    gst_amount = price*gst/100\n",
    "    total_amount = price + gst_amount\n",
    "    return total_amount"
   ]
  },
  {
   "cell_type": "code",
   "execution_count": 19,
   "id": "663befa2",
   "metadata": {},
   "outputs": [
    {
     "name": "stdout",
     "output_type": "stream",
     "text": [
      "1387.68\n"
     ]
    }
   ],
   "source": [
    "mrp = bill(1200,18)\n",
    "dis = mrp*2/100\n",
    "\n",
    "print(mrp-dis)"
   ]
  }
 ],
 "metadata": {
  "kernelspec": {
   "display_name": "Python 3 (ipykernel)",
   "language": "python",
   "name": "python3"
  },
  "language_info": {
   "codemirror_mode": {
    "name": "ipython",
    "version": 3
   },
   "file_extension": ".py",
   "mimetype": "text/x-python",
   "name": "python",
   "nbconvert_exporter": "python",
   "pygments_lexer": "ipython3",
   "version": "3.9.12"
  }
 },
 "nbformat": 4,
 "nbformat_minor": 5
}
