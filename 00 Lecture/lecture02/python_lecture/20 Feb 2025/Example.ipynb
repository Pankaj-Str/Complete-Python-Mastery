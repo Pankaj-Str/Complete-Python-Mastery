{
 "cells": [
  {
   "cell_type": "code",
   "execution_count": 8,
   "metadata": {},
   "outputs": [
    {
     "name": "stdout",
     "output_type": "stream",
     "text": [
      "1 ****\n",
      "2 ****\n",
      "3 ****\n",
      "4 ****\n",
      "5 ****\n",
      "6 ****\n",
      "7 ####\n"
     ]
    }
   ],
   "source": [
    "for i in range(1,11):\n",
    "    if i == 7:\n",
    "       print(i,'####')\n",
    "       break\n",
    "    else:\n",
    "        print(i,'****')"
   ]
  },
  {
   "cell_type": "code",
   "execution_count": 16,
   "metadata": {},
   "outputs": [
    {
     "name": "stdout",
     "output_type": "stream",
     "text": [
      "1 ****\n",
      "2 ****\n",
      "3 ****\n",
      "4 ****\n",
      "5 ****\n",
      "6 ****\n",
      "8 ****\n",
      "9 ****\n",
      "10 ****\n"
     ]
    }
   ],
   "source": [
    "for i in range(1,11):\n",
    "    if i == 7:\n",
    "       # print(i,'####')\n",
    "       pass\n",
    "       # continue\n",
    "    else:\n",
    "        print(i,'****')"
   ]
  },
  {
   "cell_type": "code",
   "execution_count": 20,
   "metadata": {},
   "outputs": [
    {
     "name": "stdout",
     "output_type": "stream",
     "text": [
      "Enter only age in number formats \n"
     ]
    }
   ],
   "source": [
    "try:    \n",
    "    name = str(input('Enter Your name '))\n",
    "    age = int(input('Enter Your Age '))\n",
    "    Height = int(input('Enter Your Age '))\n",
    "\n",
    "    print(f'my name is {name} , age {age} and {Height}')\n",
    "except ValueError :\n",
    "    print(\"Enter only age in number formats \")    "
   ]
  },
  {
   "cell_type": "code",
   "execution_count": 24,
   "metadata": {},
   "outputs": [
    {
     "name": "stdout",
     "output_type": "stream",
     "text": [
      "Enter only age in number formats \n"
     ]
    }
   ],
   "source": [
    "try:    \n",
    "    name = str(input('Enter Your name '))\n",
    "    age = int(input('Enter Your Age '))\n",
    "    Height = int(input('Enter Your Age '))\n",
    "    BMI = age/Height\n",
    "    print(f'my name is {name} , age {age} and {Height}')\n",
    "    print(f'BMI is {BMI}')\n",
    "except ValueError :\n",
    "    print(\"Enter only age in number formats \")\n",
    "except ZeroDivisionError:\n",
    "    print(\" do not enter zero value \")     "
   ]
  },
  {
   "cell_type": "code",
   "execution_count": 25,
   "metadata": {},
   "outputs": [
    {
     "name": "stdout",
     "output_type": "stream",
     "text": [
      "try Again ....\n"
     ]
    }
   ],
   "source": [
    "try:    \n",
    "    name = str(input('Enter Your name '))\n",
    "    age = int(input('Enter Your Age '))\n",
    "    Height = int(input('Enter Your Age '))\n",
    "    BMI = age/Height\n",
    "    print(f'my name is {name} , age {age} and {Height}')\n",
    "    print(f'BMI is {BMI}')\n",
    "except Exception :\n",
    "    print(\"try Again ....\")\n",
    "    "
   ]
  }
 ],
 "metadata": {
  "kernelspec": {
   "display_name": "Python 3",
   "language": "python",
   "name": "python3"
  },
  "language_info": {
   "codemirror_mode": {
    "name": "ipython",
    "version": 3
   },
   "file_extension": ".py",
   "mimetype": "text/x-python",
   "name": "python",
   "nbconvert_exporter": "python",
   "pygments_lexer": "ipython3",
   "version": "3.12.1"
  }
 },
 "nbformat": 4,
 "nbformat_minor": 2
}
