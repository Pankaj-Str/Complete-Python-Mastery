{
 "cells": [
  {
   "cell_type": "code",
   "execution_count": 3,
   "id": "2e3286e7",
   "metadata": {},
   "outputs": [
    {
     "name": "stdout",
     "output_type": "stream",
     "text": [
      "Enter Value... hello\n"
     ]
    }
   ],
   "source": [
    "# user input \n",
    "\n",
    "# print()\n",
    "# type()\n",
    "\n",
    "# input()\n",
    "\n",
    "a = input('Enter Value... ')"
   ]
  },
  {
   "cell_type": "code",
   "execution_count": 4,
   "id": "1f0fb39f",
   "metadata": {},
   "outputs": [
    {
     "name": "stdout",
     "output_type": "stream",
     "text": [
      "Enter Your Name ... joy\n",
      "Enter Your Age ... 21\n",
      "Enter Your Height ... 4.5\n",
      "\n",
      "-----------------------------\n",
      "\n",
      "your name is :  joy\n",
      "Your age is :  21\n",
      "your height is :  4.5\n"
     ]
    }
   ],
   "source": [
    "name = input('Enter Your Name ... ')\n",
    "age = input('Enter Your Age ... ')\n",
    "height = input('Enter Your Height ... ')\n",
    "print('\\n-----------------------------\\n')\n",
    "print(\"your name is : \",name)\n",
    "print(\"Your age is : \",age)\n",
    "print(\"your height is : \",height)"
   ]
  },
  {
   "cell_type": "code",
   "execution_count": 6,
   "id": "b1047b4a",
   "metadata": {},
   "outputs": [
    {
     "name": "stdout",
     "output_type": "stream",
     "text": [
      "<class 'str'>\n",
      "<class 'str'>\n",
      "<class 'str'>\n"
     ]
    }
   ],
   "source": [
    "print(type(name))\n",
    "print(type(age))\n",
    "print(type(height))"
   ]
  },
  {
   "cell_type": "code",
   "execution_count": null,
   "id": "65b657f3",
   "metadata": {},
   "outputs": [],
   "source": [
    "#int()\n",
    "#str()\n",
    "#float()"
   ]
  },
  {
   "cell_type": "code",
   "execution_count": 8,
   "id": "1b8ee1e0",
   "metadata": {},
   "outputs": [
    {
     "name": "stdout",
     "output_type": "stream",
     "text": [
      "Enter Your Name ... joy\n",
      "Enter Your Age ... 34\n",
      "Enter Your Height ... 4.5\n",
      "\n",
      "-----------------------------\n",
      "\n",
      "your name is :  joy\n",
      "Your age is :  32\n",
      "your height is :  4.5\n"
     ]
    }
   ],
   "source": [
    "name = input('Enter Your Name ... ')\n",
    "age = int(input('Enter Your Age ... '))\n",
    "height = float(input('Enter Your Height ... '))\n",
    "print('\\n-----------------------------\\n')\n",
    "print(\"your name is : \",name)\n",
    "print(\"Your age is : \",(age-2))\n",
    "print(\"your height is : \",height)"
   ]
  },
  {
   "cell_type": "code",
   "execution_count": 17,
   "id": "9da235a3",
   "metadata": {},
   "outputs": [
    {
     "name": "stdout",
     "output_type": "stream",
     "text": [
      "347\n",
      "343\n",
      "172.5\n",
      "172\n",
      "1\n",
      "119025\n",
      "690\n"
     ]
    }
   ],
   "source": [
    "# Arithmetic Operators\n",
    "\n",
    "\n",
    "a = 345\n",
    "b = 2\n",
    "\n",
    "print(a + b)\n",
    "print(a - b)\n",
    "print(a / b)\n",
    "print(a // b)\n",
    "print(a % b)\n",
    "print(a ** b)\n",
    "print(a * b)"
   ]
  },
  {
   "cell_type": "code",
   "execution_count": 21,
   "id": "8dcb00f7",
   "metadata": {},
   "outputs": [
    {
     "name": "stdout",
     "output_type": "stream",
     "text": [
      "10\n",
      "20\n",
      "10\n",
      "100\n",
      "10.0\n",
      "0.0\n"
     ]
    }
   ],
   "source": [
    "# Assignment Operators\n",
    "\n",
    "a = 10\n",
    "print(a)\n",
    "\n",
    "# a = a + 10\n",
    "a += 10\n",
    "print(a)\n",
    "\n",
    "a -= 10\n",
    "print(a)\n",
    "\n",
    "a *= 10\n",
    "print(a)\n",
    "\n",
    "a /= 10\n",
    "print(a)\n",
    "\n",
    "a %= 10\n",
    "print(a)"
   ]
  },
  {
   "cell_type": "code",
   "execution_count": 27,
   "id": "99becd3d",
   "metadata": {},
   "outputs": [
    {
     "name": "stdout",
     "output_type": "stream",
     "text": [
      "True\n",
      "False\n",
      "False\n",
      "True\n",
      "True\n",
      "False\n"
     ]
    }
   ],
   "source": [
    "# Comparison Operators\n",
    "\n",
    "\n",
    "a = 10\n",
    "b = 90\n",
    "\n",
    "print(a < b)\n",
    "print(a > b)\n",
    "print(a == b)\n",
    "print(a != b)\n",
    "\n",
    "print(a <= b)\n",
    "print(a >= b)"
   ]
  },
  {
   "cell_type": "code",
   "execution_count": 34,
   "id": "9fb0c7dd",
   "metadata": {},
   "outputs": [
    {
     "name": "stdout",
     "output_type": "stream",
     "text": [
      "False\n",
      "True\n",
      "False\n"
     ]
    }
   ],
   "source": [
    "# Logical Operators\n",
    "# and \n",
    "\n",
    "\n",
    "print(90 < 9 and 45 != 56)\n",
    "\n",
    "# or \n",
    "\n",
    "print(90 < 9 or 45 != 56)\n",
    "# not\n",
    "\n",
    "print(not 34 == 34)\n",
    "\n",
    "\n",
    "\n"
   ]
  },
  {
   "cell_type": "code",
   "execution_count": null,
   "id": "11938717",
   "metadata": {},
   "outputs": [],
   "source": []
  },
  {
   "cell_type": "code",
   "execution_count": 33,
   "id": "5dda4be5",
   "metadata": {},
   "outputs": [
    {
     "name": "stdout",
     "output_type": "stream",
     "text": [
      "False\n"
     ]
    }
   ],
   "source": [
    "print(23 == 23 and 454 < 90 or 56 > 67 and 23 > 10 or 90 != 90)"
   ]
  },
  {
   "cell_type": "code",
   "execution_count": 37,
   "id": "2ce1dd0e",
   "metadata": {},
   "outputs": [
    {
     "name": "stdout",
     "output_type": "stream",
     "text": [
      "False\n",
      "True\n",
      "True\n"
     ]
    }
   ],
   "source": [
    "# Identity Operators\n",
    "# Membership Operators\n",
    "\n",
    "# is \n",
    "# is not\n",
    "\n",
    "a = \"welcome\"\n",
    "b = \"p4n\"\n",
    "\n",
    "print(a is b)\n",
    "print(a is not b)\n",
    "\n",
    "\n",
    "# in\n",
    "# not in \n",
    "\n",
    "\n",
    "\n"
   ]
  },
  {
   "cell_type": "code",
   "execution_count": 43,
   "id": "27ddf30a",
   "metadata": {},
   "outputs": [
    {
     "name": "stdout",
     "output_type": "stream",
     "text": [
      "True\n",
      "True\n",
      "False\n",
      "True\n",
      "False\n"
     ]
    }
   ],
   "source": [
    "data = \"welcome to python\"\n",
    "print(\"python\" in data)\n",
    "\n",
    "print('w' in data)\n",
    "\n",
    "print('z' in data)\n",
    "\n",
    "\n",
    "print('g' not in  data)\n",
    "\n",
    "print('w' not in  data)\n"
   ]
  },
  {
   "cell_type": "code",
   "execution_count": 44,
   "id": "9914f298",
   "metadata": {},
   "outputs": [
    {
     "name": "stdout",
     "output_type": "stream",
     "text": [
      "True\n"
     ]
    }
   ],
   "source": [
    "data = [3,22,11,22,33,44]\n",
    "\n",
    "print(44 in data)"
   ]
  },
  {
   "cell_type": "code",
   "execution_count": null,
   "id": "4d616b39",
   "metadata": {},
   "outputs": [],
   "source": []
  },
  {
   "cell_type": "code",
   "execution_count": null,
   "id": "4776f406",
   "metadata": {},
   "outputs": [],
   "source": []
  },
  {
   "cell_type": "code",
   "execution_count": null,
   "id": "8540b040",
   "metadata": {},
   "outputs": [],
   "source": []
  },
  {
   "cell_type": "code",
   "execution_count": null,
   "id": "76218ee0",
   "metadata": {},
   "outputs": [],
   "source": []
  }
 ],
 "metadata": {
  "kernelspec": {
   "display_name": "Python 3 (ipykernel)",
   "language": "python",
   "name": "python3"
  },
  "language_info": {
   "codemirror_mode": {
    "name": "ipython",
    "version": 3
   },
   "file_extension": ".py",
   "mimetype": "text/x-python",
   "name": "python",
   "nbconvert_exporter": "python",
   "pygments_lexer": "ipython3",
   "version": "3.9.12"
  }
 },
 "nbformat": 4,
 "nbformat_minor": 5
}
