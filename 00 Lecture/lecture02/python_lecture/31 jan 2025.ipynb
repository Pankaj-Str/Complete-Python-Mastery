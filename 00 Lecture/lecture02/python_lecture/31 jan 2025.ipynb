{
 "cells": [
  {
   "cell_type": "code",
   "execution_count": 14,
   "id": "8aadfbc2",
   "metadata": {},
   "outputs": [
    {
     "name": "stdout",
     "output_type": "stream",
     "text": [
      "Enter Start Value .. 45\n",
      "Enter End value .. 100\n",
      "2016\n"
     ]
    }
   ],
   "source": [
    "start = int(input('Enter Start Value .. '))\n",
    "end = int(input('Enter End value .. '))\n",
    "total = 0\n",
    "for i in range(start,end+1):\n",
    "    if i%2==1:\n",
    "        total = total + i\n",
    "print(total)\n",
    "        "
   ]
  },
  {
   "cell_type": "code",
   "execution_count": 13,
   "id": "2a030359",
   "metadata": {},
   "outputs": [
    {
     "name": "stdout",
     "output_type": "stream",
     "text": [
      "Enter Start Value .. 45\n",
      "Enter End value .. 100\n",
      "total =  2016\n"
     ]
    }
   ],
   "source": [
    "# While loop \n",
    "start = int(input('Enter Start Value .. '))\n",
    "end = int(input('Enter End value .. '))\n",
    "a = start \n",
    "total = 0\n",
    "while a <=end:\n",
    "    if a%2==1:\n",
    "        total = total + a\n",
    "    a = a +1 \n",
    "print(\"total = \",total)\n",
    "    \n",
    "    "
   ]
  }
 ],
 "metadata": {
  "kernelspec": {
   "display_name": "Python 3 (ipykernel)",
   "language": "python",
   "name": "python3"
  },
  "language_info": {
   "codemirror_mode": {
    "name": "ipython",
    "version": 3
   },
   "file_extension": ".py",
   "mimetype": "text/x-python",
   "name": "python",
   "nbconvert_exporter": "python",
   "pygments_lexer": "ipython3",
   "version": "3.9.12"
  }
 },
 "nbformat": 4,
 "nbformat_minor": 5
}
