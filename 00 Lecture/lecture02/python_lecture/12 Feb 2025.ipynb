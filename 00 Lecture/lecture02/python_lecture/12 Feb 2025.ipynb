{
 "cells": [
  {
   "cell_type": "code",
   "execution_count": 1,
   "id": "4634b0c7",
   "metadata": {},
   "outputs": [
    {
     "name": "stdout",
     "output_type": "stream",
     "text": [
      "<class 'tuple'>\n"
     ]
    }
   ],
   "source": [
    "# tuple \n",
    "\n",
    "data = 12,13,14,15\n",
    "print(type(data))"
   ]
  },
  {
   "cell_type": "code",
   "execution_count": 2,
   "id": "7cb3ea91",
   "metadata": {},
   "outputs": [
    {
     "name": "stdout",
     "output_type": "stream",
     "text": [
      "<class 'int'>\n"
     ]
    }
   ],
   "source": [
    "data = 12\n",
    "print(type(data))"
   ]
  },
  {
   "cell_type": "code",
   "execution_count": 3,
   "id": "95caff5d",
   "metadata": {},
   "outputs": [
    {
     "name": "stdout",
     "output_type": "stream",
     "text": [
      "<class 'tuple'>\n"
     ]
    }
   ],
   "source": [
    "data = 12,\n",
    "print(type(data))"
   ]
  },
  {
   "cell_type": "code",
   "execution_count": 4,
   "id": "2bfe20ff",
   "metadata": {},
   "outputs": [
    {
     "name": "stdout",
     "output_type": "stream",
     "text": [
      "<class 'int'>\n"
     ]
    }
   ],
   "source": [
    "data = (12)\n",
    "print(type(data))"
   ]
  },
  {
   "cell_type": "code",
   "execution_count": 5,
   "id": "ecc68cdd",
   "metadata": {},
   "outputs": [
    {
     "name": "stdout",
     "output_type": "stream",
     "text": [
      "<class 'tuple'>\n"
     ]
    }
   ],
   "source": [
    "data = (12,)\n",
    "print(type(data))"
   ]
  },
  {
   "cell_type": "code",
   "execution_count": 7,
   "id": "1af388ef",
   "metadata": {},
   "outputs": [
    {
     "ename": "TypeError",
     "evalue": "'tuple' object doesn't support item deletion",
     "output_type": "error",
     "traceback": [
      "\u001b[1;31m---------------------------------------------------------------------------\u001b[0m",
      "\u001b[1;31mTypeError\u001b[0m                                 Traceback (most recent call last)",
      "Input \u001b[1;32mIn [7]\u001b[0m, in \u001b[0;36m<cell line: 4>\u001b[1;34m()\u001b[0m\n\u001b[0;32m      1\u001b[0m \u001b[38;5;66;03m# data[0] = 90\u001b[39;00m\n\u001b[0;32m      2\u001b[0m \u001b[38;5;66;03m# print(data)\u001b[39;00m\n\u001b[1;32m----> 4\u001b[0m \u001b[38;5;28;01mdel\u001b[39;00m data[\u001b[38;5;241m0\u001b[39m]\n\u001b[0;32m      5\u001b[0m \u001b[38;5;28mprint\u001b[39m(data)\n",
      "\u001b[1;31mTypeError\u001b[0m: 'tuple' object doesn't support item deletion"
     ]
    }
   ],
   "source": [
    "# data[0] = 90\n",
    "# print(data)\n",
    "\n",
    "del data[0]\n",
    "print(data)"
   ]
  },
  {
   "cell_type": "code",
   "execution_count": 10,
   "id": "db1f19c9",
   "metadata": {},
   "outputs": [
    {
     "name": "stdout",
     "output_type": "stream",
     "text": [
      "3\n",
      "6\n",
      "204\n"
     ]
    }
   ],
   "source": [
    "# count()\n",
    "\n",
    "data = 12,12,12,34,56,78\n",
    "print(data.count(12))\n",
    "\n",
    "# len\n",
    "print(len(data))\n",
    "\n",
    "# sum()\n",
    "print(sum(data))"
   ]
  },
  {
   "cell_type": "code",
   "execution_count": 11,
   "id": "6d6133ef",
   "metadata": {},
   "outputs": [
    {
     "name": "stdout",
     "output_type": "stream",
     "text": [
      "(12, 12, 12, 34, 56, 78, 12, 12, 12, 34, 56, 78)\n"
     ]
    }
   ],
   "source": [
    "print(data*2)"
   ]
  },
  {
   "cell_type": "code",
   "execution_count": 17,
   "id": "e989bb2f",
   "metadata": {},
   "outputs": [],
   "source": [
    "#  Module\n",
    "#  Global vs Local\n",
    "\n",
    "Number_2 = 900\n",
    "def info():\n",
    "    global Number\n",
    "    Number = 100\n",
    "    print('Number : ',Number+Number_2)\n",
    "def data_info():\n",
    "    print('2 Number : ',Number_2+Number)"
   ]
  },
  {
   "cell_type": "code",
   "execution_count": 19,
   "id": "1099c39c",
   "metadata": {},
   "outputs": [
    {
     "name": "stdout",
     "output_type": "stream",
     "text": [
      "Number :  1000\n",
      "2 Number :  1000\n"
     ]
    }
   ],
   "source": [
    "info()\n",
    "data_info()"
   ]
  },
  {
   "cell_type": "code",
   "execution_count": 26,
   "id": "3a7dccb0",
   "metadata": {},
   "outputs": [
    {
     "name": "stdout",
     "output_type": "stream",
     "text": [
      "codes with pankaj\n"
     ]
    }
   ],
   "source": [
    "# class object \n",
    "\n",
    "class Employee:\n",
    "    def info1():\n",
    "        print(\"codes with pankaj\")\n",
    "    def msg():\n",
    "        print(\"welcome to Python Hub\")\n",
    "\n",
    "\n",
    "# objectname = classname\n",
    "# emp = Employee\n",
    "# emp.info1()\n",
    "# emp.msg()\n",
    "\n",
    "Employee.info1()"
   ]
  }
 ],
 "metadata": {
  "kernelspec": {
   "display_name": "Python 3 (ipykernel)",
   "language": "python",
   "name": "python3"
  },
  "language_info": {
   "codemirror_mode": {
    "name": "ipython",
    "version": 3
   },
   "file_extension": ".py",
   "mimetype": "text/x-python",
   "name": "python",
   "nbconvert_exporter": "python",
   "pygments_lexer": "ipython3",
   "version": "3.9.12"
  }
 },
 "nbformat": 4,
 "nbformat_minor": 5
}
