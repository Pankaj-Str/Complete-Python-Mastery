{
 "cells": [
  {
   "cell_type": "code",
   "execution_count": 1,
   "id": "04118d26",
   "metadata": {},
   "outputs": [
    {
     "name": "stdout",
     "output_type": "stream",
     "text": [
      "<class 'list'>\n"
     ]
    }
   ],
   "source": [
    "# empty list \n",
    "\n",
    "data = []\n",
    "print(type(data))\n",
    "\n",
    "data = [12,13,14,15]\n",
    "data = ['books','cloth','pen','mouse']\n",
    "data = [2.3,4.5,6.7]\n",
    "data = ['joy',78,4.5] # mixed \n",
    "\n",
    "data = ['name',['joy','toy'],[2.3,4.5]]"
   ]
  },
  {
   "cell_type": "code",
   "execution_count": 5,
   "id": "6c543391",
   "metadata": {},
   "outputs": [
    {
     "name": "stdout",
     "output_type": "stream",
     "text": [
      "[21, 22, 34, 45, 56]\n",
      "45\n",
      "[34, 45]\n"
     ]
    }
   ],
   "source": [
    "data = [21,22,34,45,56]\n",
    "print(data)\n",
    "\n",
    "print(data[3])\n",
    "print(data[2:4])"
   ]
  },
  {
   "cell_type": "code",
   "execution_count": 6,
   "id": "da9ef9c2",
   "metadata": {},
   "outputs": [
    {
     "name": "stdout",
     "output_type": "stream",
     "text": [
      "[21, 22, 999, 45, 56]\n"
     ]
    }
   ],
   "source": [
    "data[2] = 999\n",
    "print(data)"
   ]
  },
  {
   "cell_type": "code",
   "execution_count": 8,
   "id": "7d7ba090",
   "metadata": {},
   "outputs": [
    {
     "name": "stdout",
     "output_type": "stream",
     "text": [
      "[21, 22, 999, 45, 56, 88, 88]\n"
     ]
    }
   ],
   "source": [
    "# add new data \n",
    "\n",
    "# append()\n",
    "\n",
    "data.append(88)\n",
    "print(data)\n",
    "\n",
    "newlist = [1,2,3,4]\n",
    "data.append(newlist)\n"
   ]
  },
  {
   "cell_type": "code",
   "execution_count": 9,
   "id": "3e6f1029",
   "metadata": {},
   "outputs": [
    {
     "name": "stdout",
     "output_type": "stream",
     "text": [
      "[21, 22, 999, 45, 56, 88, 88, [1, 2, 3, 4]]\n"
     ]
    }
   ],
   "source": [
    "print(data)"
   ]
  },
  {
   "cell_type": "code",
   "execution_count": 10,
   "id": "a64a4a30",
   "metadata": {},
   "outputs": [
    {
     "name": "stdout",
     "output_type": "stream",
     "text": [
      "[21, 22, 999, 45, 56, 88, 88, [1, 2, 3, 4], 12, 13, 14]\n"
     ]
    }
   ],
   "source": [
    "# extend()\n",
    "\n",
    "update_data = [12,13,14]\n",
    "data.extend(update_data)\n",
    "print(data)"
   ]
  },
  {
   "cell_type": "code",
   "execution_count": 11,
   "id": "ff09b509",
   "metadata": {},
   "outputs": [
    {
     "name": "stdout",
     "output_type": "stream",
     "text": [
      "[21, 22, 999, 45, 777, 56, 88, 88, [1, 2, 3, 4], 12, 13, 14]\n"
     ]
    }
   ],
   "source": [
    "# insert(index,value)\n",
    "\n",
    "data.insert(4,777)\n",
    "print(data)"
   ]
  },
  {
   "cell_type": "code",
   "execution_count": 12,
   "id": "729c2438",
   "metadata": {},
   "outputs": [
    {
     "name": "stdout",
     "output_type": "stream",
     "text": [
      "[21, 22, 45, 777, 56, 88, 88, [1, 2, 3, 4], 12, 13, 14]\n"
     ]
    }
   ],
   "source": [
    "data.remove(999)\n",
    "print(data)"
   ]
  },
  {
   "cell_type": "code",
   "execution_count": 16,
   "id": "b07d9680",
   "metadata": {},
   "outputs": [
    {
     "name": "stdout",
     "output_type": "stream",
     "text": [
      "[21, 22, 45, 777, 56, 88, 88]\n"
     ]
    }
   ],
   "source": [
    "data.pop()\n",
    "print(data)"
   ]
  },
  {
   "cell_type": "code",
   "execution_count": 18,
   "id": "93a9de40",
   "metadata": {},
   "outputs": [
    {
     "name": "stdout",
     "output_type": "stream",
     "text": [
      "[21, 22, 45, 56, 88, 88]\n"
     ]
    }
   ],
   "source": [
    "data.pop(3)\n",
    "print(data)"
   ]
  },
  {
   "cell_type": "code",
   "execution_count": null,
   "id": "8821d526",
   "metadata": {},
   "outputs": [],
   "source": []
  },
  {
   "cell_type": "code",
   "execution_count": null,
   "id": "dd66bdb1",
   "metadata": {},
   "outputs": [],
   "source": []
  },
  {
   "cell_type": "code",
   "execution_count": 19,
   "id": "5f588c1b",
   "metadata": {},
   "outputs": [
    {
     "data": {
      "text/plain": [
       "2"
      ]
     },
     "execution_count": 19,
     "metadata": {},
     "output_type": "execute_result"
    }
   ],
   "source": [
    "data.count(88)"
   ]
  },
  {
   "cell_type": "code",
   "execution_count": 20,
   "id": "61529213",
   "metadata": {},
   "outputs": [
    {
     "data": {
      "text/plain": [
       "2"
      ]
     },
     "execution_count": 20,
     "metadata": {},
     "output_type": "execute_result"
    }
   ],
   "source": [
    "data.index(45)"
   ]
  },
  {
   "cell_type": "code",
   "execution_count": 21,
   "id": "8b7a36fd",
   "metadata": {},
   "outputs": [
    {
     "name": "stdout",
     "output_type": "stream",
     "text": [
      "[]\n"
     ]
    }
   ],
   "source": [
    "data.clear()\n",
    "print(data)"
   ]
  },
  {
   "cell_type": "code",
   "execution_count": 22,
   "id": "275bb16c",
   "metadata": {},
   "outputs": [
    {
     "name": "stdout",
     "output_type": "stream",
     "text": [
      "320\n"
     ]
    }
   ],
   "source": [
    "data = [21, 22, 45, 56, 88, 88]\n",
    "print(sum(data))"
   ]
  },
  {
   "cell_type": "code",
   "execution_count": 24,
   "id": "b350a855",
   "metadata": {},
   "outputs": [
    {
     "data": {
      "text/plain": [
       "21"
      ]
     },
     "execution_count": 24,
     "metadata": {},
     "output_type": "execute_result"
    }
   ],
   "source": [
    "min(data)"
   ]
  },
  {
   "cell_type": "code",
   "execution_count": 25,
   "id": "a135ffd6",
   "metadata": {},
   "outputs": [
    {
     "data": {
      "text/plain": [
       "88"
      ]
     },
     "execution_count": 25,
     "metadata": {},
     "output_type": "execute_result"
    }
   ],
   "source": [
    "max(data)"
   ]
  },
  {
   "cell_type": "code",
   "execution_count": 26,
   "id": "7a7f8bb3",
   "metadata": {},
   "outputs": [
    {
     "data": {
      "text/plain": [
       "6"
      ]
     },
     "execution_count": 26,
     "metadata": {},
     "output_type": "execute_result"
    }
   ],
   "source": [
    "len(data)"
   ]
  },
  {
   "cell_type": "code",
   "execution_count": 28,
   "id": "0f151e12",
   "metadata": {},
   "outputs": [
    {
     "name": "stdout",
     "output_type": "stream",
     "text": [
      "21\n",
      "22\n",
      "45\n",
      "56\n",
      "88\n",
      "88\n"
     ]
    }
   ],
   "source": [
    "for i in data:\n",
    "    print(i)"
   ]
  },
  {
   "cell_type": "code",
   "execution_count": 30,
   "id": "aac535da",
   "metadata": {},
   "outputs": [
    {
     "name": "stdout",
     "output_type": "stream",
     "text": [
      "4\n"
     ]
    }
   ],
   "source": [
    "# nested list\n",
    "\n",
    "data = [11,22,33,44,[3,4,5]]\n",
    "print(data[4][1])"
   ]
  },
  {
   "cell_type": "code",
   "execution_count": 34,
   "id": "72592583",
   "metadata": {},
   "outputs": [
    {
     "name": "stdout",
     "output_type": "stream",
     "text": [
      "toy\n",
      "4\n",
      "b\n",
      "77\n"
     ]
    }
   ],
   "source": [
    "data = [11,22,[\"toy\",\"books\"],33,44,[3,4,[88,99,['a','b','c'],77],5]]\n",
    "print(data[2][0])\n",
    "print(data[5][1])\n",
    "print(data[5][2][2][1])\n",
    "print(data[5][2][3])"
   ]
  },
  {
   "cell_type": "code",
   "execution_count": 36,
   "id": "7ac056ae",
   "metadata": {},
   "outputs": [
    {
     "name": "stdout",
     "output_type": "stream",
     "text": [
      "enter list size .. 4\n",
      "Enter Your Product ... samosa\n",
      "Enter Your Product ... vada\n",
      "Enter Your Product ... pav\n",
      "Enter Your Product ... bhaji\n",
      "samosa\n",
      "vada\n",
      "pav\n",
      "bhaji\n"
     ]
    }
   ],
   "source": [
    "# take user input into list using loop\n",
    "# create a empty list\n",
    "data = []\n",
    "size = int(input('enter list size .. '))\n",
    "\n",
    "for i in range(size):\n",
    "    i = input('Enter Your Product ... ')\n",
    "    data.append(i)\n",
    "    \n",
    "for i in range(size):\n",
    "    print(data[i])"
   ]
  }
 ],
 "metadata": {
  "kernelspec": {
   "display_name": "Python 3 (ipykernel)",
   "language": "python",
   "name": "python3"
  },
  "language_info": {
   "codemirror_mode": {
    "name": "ipython",
    "version": 3
   },
   "file_extension": ".py",
   "mimetype": "text/x-python",
   "name": "python",
   "nbconvert_exporter": "python",
   "pygments_lexer": "ipython3",
   "version": "3.9.12"
  }
 },
 "nbformat": 4,
 "nbformat_minor": 5
}
