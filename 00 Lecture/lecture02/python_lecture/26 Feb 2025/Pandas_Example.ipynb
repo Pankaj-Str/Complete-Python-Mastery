{
 "cells": [
  {
   "cell_type": "code",
   "execution_count": 2,
   "metadata": {},
   "outputs": [
    {
     "name": "stdout",
     "output_type": "stream",
     "text": [
      "Requirement already satisfied: pandas in c:\\users\\admin\\appdata\\local\\programs\\python\\python312\\lib\\site-packages (2.2.0)Note: you may need to restart the kernel to use updated packages.\n"
     ]
    },
    {
     "name": "stderr",
     "output_type": "stream",
     "text": [
      "\n",
      "[notice] A new release of pip is available: 23.2.1 -> 25.0.1\n",
      "[notice] To update, run: python.exe -m pip install --upgrade pip\n"
     ]
    },
    {
     "name": "stdout",
     "output_type": "stream",
     "text": [
      "\n",
      "Requirement already satisfied: numpy<2,>=1.26.0 in c:\\users\\admin\\appdata\\local\\programs\\python\\python312\\lib\\site-packages (from pandas) (1.26.3)\n",
      "Requirement already satisfied: python-dateutil>=2.8.2 in c:\\users\\admin\\appdata\\local\\programs\\python\\python312\\lib\\site-packages (from pandas) (2.8.2)\n",
      "Requirement already satisfied: pytz>=2020.1 in c:\\users\\admin\\appdata\\local\\programs\\python\\python312\\lib\\site-packages (from pandas) (2023.4)\n",
      "Requirement already satisfied: tzdata>=2022.7 in c:\\users\\admin\\appdata\\local\\programs\\python\\python312\\lib\\site-packages (from pandas) (2023.4)\n",
      "Requirement already satisfied: six>=1.5 in c:\\users\\admin\\appdata\\local\\programs\\python\\python312\\lib\\site-packages (from python-dateutil>=2.8.2->pandas) (1.16.0)\n"
     ]
    }
   ],
   "source": [
    "%pip install pandas"
   ]
  },
  {
   "cell_type": "code",
   "execution_count": 3,
   "metadata": {},
   "outputs": [
    {
     "name": "stdout",
     "output_type": "stream",
     "text": [
      "0 - data 23\n",
      "1 - data 24\n",
      "2 - data 25\n",
      "3 - data 26\n",
      "4 - data 27\n",
      "5 - data 28\n"
     ]
    },
    {
     "name": "stderr",
     "output_type": "stream",
     "text": [
      "C:\\Users\\Admin\\AppData\\Local\\Temp\\ipykernel_12204\\1553328201.py:1: DeprecationWarning: \n",
      "Pyarrow will become a required dependency of pandas in the next major release of pandas (pandas 3.0),\n",
      "(to allow more performant data types, such as the Arrow string type, and better interoperability with other libraries)\n",
      "but was not found to be installed on your system.\n",
      "If this would cause problems for you,\n",
      "please provide us feedback at https://github.com/pandas-dev/pandas/issues/54466\n",
      "        \n",
      "  import pandas as pd\n"
     ]
    }
   ],
   "source": [
    "import pandas as pd\n",
    "\n",
    "data = [23,24,25,26,27,28]\n",
    "\n",
    "for i in range(len(data)):\n",
    "    print(f'{i} - data {data[i]}')"
   ]
  },
  {
   "cell_type": "code",
   "execution_count": 4,
   "metadata": {},
   "outputs": [
    {
     "name": "stdout",
     "output_type": "stream",
     "text": [
      "0    23\n",
      "1    24\n",
      "2    25\n",
      "3    26\n",
      "4    27\n",
      "5    28\n",
      "dtype: int64\n",
      "a    23\n",
      "b    24\n",
      "c    25\n",
      "d    26\n",
      "e    27\n",
      "f    28\n",
      "dtype: int64\n"
     ]
    }
   ],
   "source": [
    "# using pandas \n",
    "s = pd.Series(data)\n",
    "print(s)\n",
    "\n",
    "indexx = ['a','b','c','d','e','f']\n",
    "\n",
    "s = pd.Series(data,index=indexx)\n",
    "print(s)"
   ]
  },
  {
   "cell_type": "code",
   "execution_count": 8,
   "metadata": {},
   "outputs": [
    {
     "name": "stdout",
     "output_type": "stream",
     "text": [
      "    name  age    city\n",
      "a    Joy   23  mumbai\n",
      "b  Rohan   34     goa\n",
      "c   Riya   56    pune\n",
      "d    Toy   78   surat\n"
     ]
    }
   ],
   "source": [
    "# 2 data , row , column\n",
    "\n",
    "data = {\n",
    "    'name':['Joy','Rohan','Riya','Toy'],\n",
    "    'age':[23,34,56,78],\n",
    "    'city':['mumbai','goa','pune','surat']\n",
    "}\n",
    "\n",
    "i = ['a','b','c','d']\n",
    "columns=['Name','Age','City']\n",
    "df = pd.DataFrame(data,index=i)\n",
    "print(df)\n",
    "\n",
    "df.to_csv('output.csv')"
   ]
  },
  {
   "cell_type": "code",
   "execution_count": 11,
   "metadata": {},
   "outputs": [
    {
     "name": "stdout",
     "output_type": "stream",
     "text": [
      "    Name\n",
      "0    Joy\n",
      "1  Rohan\n",
      "2   Riya\n",
      "3    Toy\n"
     ]
    }
   ],
   "source": [
    "name = ['Joy','Rohan','Riya','Toy']\n",
    "df = pd.DataFrame(name,columns=['Name'])\n",
    "print(df)"
   ]
  },
  {
   "cell_type": "code",
   "execution_count": 17,
   "metadata": {},
   "outputs": [
    {
     "name": "stdout",
     "output_type": "stream",
     "text": [
      "      col1  col2  col3\n",
      "row1    21    22    23\n",
      "row2    34    35    36\n"
     ]
    }
   ],
   "source": [
    "import numpy as np\n",
    "\n",
    "data = np.array([[21,22,23],[34,35,36]])\n",
    "\n",
    "# print(data)\n",
    "\n",
    "df = pd.DataFrame(data,columns=['col1','col2','col3'],index=['row1','row2'])\n",
    "print(df)\n"
   ]
  },
  {
   "cell_type": "code",
   "execution_count": 22,
   "metadata": {},
   "outputs": [
    {
     "name": "stdout",
     "output_type": "stream",
     "text": [
      "  Province/State Country/Region       Lat       Long\n",
      "0            NaN    Afghanistan  33.93911  67.709953\n",
      "1            NaN        Albania  41.15330  20.168300\n",
      "2            NaN        Algeria  28.03390   1.659600\n",
      "3            NaN        Andorra  42.50630   1.521800\n",
      "4            NaN         Angola -11.20270  17.873900\n",
      "------------------------\n",
      "    Province/State        Country/Region        Lat        Long\n",
      "0              NaN           Afghanistan  33.939110   67.709953\n",
      "1              NaN               Albania  41.153300   20.168300\n",
      "2              NaN               Algeria  28.033900    1.659600\n",
      "3              NaN               Andorra  42.506300    1.521800\n",
      "4              NaN                Angola -11.202700   17.873900\n",
      "..             ...                   ...        ...         ...\n",
      "284            NaN    West Bank and Gaza  31.952200   35.233200\n",
      "285            NaN  Winter Olympics 2022  39.904200  116.407400\n",
      "286            NaN                 Yemen  15.552727   48.516388\n",
      "287            NaN                Zambia -13.133897   27.849332\n",
      "288            NaN              Zimbabwe -19.015438   29.154857\n",
      "\n",
      "[289 rows x 4 columns]\n"
     ]
    }
   ],
   "source": [
    "data = pd.read_csv('c_data.csv')\n",
    "print(data.head())\n",
    "\n",
    "print('------------------------')\n",
    "\n",
    "df = pd.DataFrame(data)\n",
    "print(df)\n"
   ]
  },
  {
   "cell_type": "code",
   "execution_count": 23,
   "metadata": {},
   "outputs": [
    {
     "name": "stdout",
     "output_type": "stream",
     "text": [
      "    Province/State        Country/Region        Lat        Long  1/22/20  \\\n",
      "0              NaN           Afghanistan  33.939110   67.709953        0   \n",
      "1              NaN               Albania  41.153300   20.168300        0   \n",
      "2              NaN               Algeria  28.033900    1.659600        0   \n",
      "3              NaN               Andorra  42.506300    1.521800        0   \n",
      "4              NaN                Angola -11.202700   17.873900        0   \n",
      "..             ...                   ...        ...         ...      ...   \n",
      "284            NaN    West Bank and Gaza  31.952200   35.233200        0   \n",
      "285            NaN  Winter Olympics 2022  39.904200  116.407400        0   \n",
      "286            NaN                 Yemen  15.552727   48.516388        0   \n",
      "287            NaN                Zambia -13.133897   27.849332        0   \n",
      "288            NaN              Zimbabwe -19.015438   29.154857        0   \n",
      "\n",
      "     1/23/20  1/24/20  1/25/20  1/26/20  1/27/20  ...  2/28/23  \\\n",
      "0          0        0        0        0        0  ...   209322   \n",
      "1          0        0        0        0        0  ...   334391   \n",
      "2          0        0        0        0        0  ...   271441   \n",
      "3          0        0        0        0        0  ...    47866   \n",
      "4          0        0        0        0        0  ...   105255   \n",
      "..       ...      ...      ...      ...      ...  ...      ...   \n",
      "284        0        0        0        0        0  ...   703228   \n",
      "285        0        0        0        0        0  ...      535   \n",
      "286        0        0        0        0        0  ...    11945   \n",
      "287        0        0        0        0        0  ...   343012   \n",
      "288        0        0        0        0        0  ...   263921   \n",
      "\n",
      "     2023-01-03 00:00:00  2023-02-03 00:00:00  2023-03-03 00:00:00  \\\n",
      "0                 209340               209358               209362   \n",
      "1                 334408               334408               334427   \n",
      "2                 271448               271463               271469   \n",
      "3                  47875                47875                47875   \n",
      "4                 105277               105277               105277   \n",
      "..                   ...                  ...                  ...   \n",
      "284               703228               703228               703228   \n",
      "285                  535                  535                  535   \n",
      "286                11945                11945                11945   \n",
      "287               343012               343079               343079   \n",
      "288               264127               264127               264127   \n",
      "\n",
      "     2023-04-03 00:00:00  2023-05-03 00:00:00  2023-06-03 00:00:00  \\\n",
      "0                 209369               209390               209406   \n",
      "1                 334427               334427               334427   \n",
      "2                 271469               271477               271477   \n",
      "3                  47875                47875                47875   \n",
      "4                 105277               105277               105277   \n",
      "..                   ...                  ...                  ...   \n",
      "284               703228               703228               703228   \n",
      "285                  535                  535                  535   \n",
      "286                11945                11945                11945   \n",
      "287               343079               343135               343135   \n",
      "288               264127               264127               264127   \n",
      "\n",
      "     2023-07-03 00:00:00  2023-08-03 00:00:00  2023-09-03 00:00:00  \n",
      "0                 209436               209451               209451  \n",
      "1                 334427               334443               334457  \n",
      "2                 271490               271494               271496  \n",
      "3                  47875                47890                47890  \n",
      "4                 105277               105288               105288  \n",
      "..                   ...                  ...                  ...  \n",
      "284               703228               703228               703228  \n",
      "285                  535                  535                  535  \n",
      "286                11945                11945                11945  \n",
      "287               343135               343135               343135  \n",
      "288               264127               264276               264276  \n",
      "\n",
      "[289 rows x 1147 columns]\n"
     ]
    }
   ],
   "source": [
    "# df = pd.read_excel('ts_data.xlsx' sheet_name='')\n",
    "df = pd.read_excel('ts_data.xlsx')\n",
    "print(df)"
   ]
  },
  {
   "cell_type": "code",
   "execution_count": 25,
   "metadata": {},
   "outputs": [
    {
     "name": "stdout",
     "output_type": "stream",
     "text": [
      "  Province/State Country/Region       Lat       Long\n",
      "0            NaN    Afghanistan  33.93911  67.709953\n",
      "1            NaN        Albania  41.15330  20.168300\n",
      "2            NaN        Algeria  28.03390   1.659600\n",
      "3            NaN        Andorra  42.50630   1.521800\n",
      "4            NaN         Angola -11.20270  17.873900\n",
      "------------------------\n",
      "    Province/State        Country/Region        Lat        Long\n",
      "0              NaN           Afghanistan  33.939110   67.709953\n",
      "1              NaN               Albania  41.153300   20.168300\n",
      "2              NaN               Algeria  28.033900    1.659600\n",
      "3              NaN               Andorra  42.506300    1.521800\n",
      "4              NaN                Angola -11.202700   17.873900\n",
      "..             ...                   ...        ...         ...\n",
      "284            NaN    West Bank and Gaza  31.952200   35.233200\n",
      "285            NaN  Winter Olympics 2022  39.904200  116.407400\n",
      "286            NaN                 Yemen  15.552727   48.516388\n",
      "287            NaN                Zambia -13.133897   27.849332\n",
      "288            NaN              Zimbabwe -19.015438   29.154857\n",
      "\n",
      "[289 rows x 4 columns]\n"
     ]
    }
   ],
   "source": [
    "data = pd.read_csv('c_data.csv')\n",
    "print(data.head())\n",
    "\n",
    "print('------------------------')\n",
    "\n",
    "df = pd.DataFrame(data)\n",
    "print(df)\n",
    "\n",
    "df.to_excel('new_update.xlsx',index= False)"
   ]
  },
  {
   "cell_type": "code",
   "execution_count": 26,
   "metadata": {},
   "outputs": [
    {
     "name": "stdout",
     "output_type": "stream",
     "text": [
      "Province/State     object\n",
      "Country/Region     object\n",
      "Lat               float64\n",
      "Long              float64\n",
      "dtype: object\n"
     ]
    }
   ],
   "source": [
    "print(df.dtypes)"
   ]
  },
  {
   "cell_type": "code",
   "execution_count": 28,
   "metadata": {},
   "outputs": [
    {
     "name": "stdout",
     "output_type": "stream",
     "text": [
      "  Province/State Country/Region       Lat       Long\n",
      "0              0    Afghanistan  33.93911  67.709953\n",
      "1              0        Albania  41.15330  20.168300\n",
      "2              0        Algeria  28.03390   1.659600\n",
      "3              0        Andorra  42.50630   1.521800\n",
      "4              0         Angola -11.20270  17.873900\n"
     ]
    }
   ],
   "source": [
    "df.fillna(0,inplace=True)\n",
    "\n",
    "print(df.head())"
   ]
  },
  {
   "cell_type": "code",
   "execution_count": 29,
   "metadata": {},
   "outputs": [
    {
     "name": "stdout",
     "output_type": "stream",
     "text": [
      "  Province/State Country/Region       Lat       Long\n",
      "0              0    Afghanistan  33.93911  67.709953\n",
      "1              0        Albania  41.15330  20.168300\n",
      "2              0        Algeria  28.03390   1.659600\n",
      "3              0        Andorra  42.50630   1.521800\n",
      "4              0         Angola -11.20270  17.873900\n"
     ]
    }
   ],
   "source": [
    "df.dropna(inplace=True)\n",
    "print(df.head())"
   ]
  },
  {
   "cell_type": "code",
   "execution_count": 36,
   "metadata": {},
   "outputs": [
    {
     "name": "stdout",
     "output_type": "stream",
     "text": [
      "    name  age    city\n",
      "a    Joy   23  mumbai\n",
      "b  Rohan   34     goa\n",
      "c   Riya   56    pune\n",
      "d    Toy   78   surat\n",
      "Joy\n",
      "pune\n"
     ]
    }
   ],
   "source": [
    "data = {\n",
    "    'name':['Joy','Rohan','Riya','Toy'],\n",
    "    'age':[23,34,56,78],\n",
    "    'city':['mumbai','goa','pune','surat']\n",
    "}\n",
    "\n",
    "i = ['a','b','c','d']\n",
    "df = pd.DataFrame(data,index=i)\n",
    "print(df)\n",
    "\n",
    "# loc = labels \n",
    "\n",
    "print(df.loc['a','name'])\n",
    "\n",
    "# iloc = index\n",
    "\n",
    "print(df.iloc[2,2])"
   ]
  },
  {
   "cell_type": "code",
   "execution_count": 39,
   "metadata": {},
   "outputs": [
    {
     "name": "stdout",
     "output_type": "stream",
     "text": [
      "    name  age\n",
      "a    Joy   23\n",
      "b  Rohan   34\n",
      "c   Riya   56\n",
      "d    Toy   78\n"
     ]
    }
   ],
   "source": [
    "print(df[['name','age']])"
   ]
  },
  {
   "cell_type": "code",
   "execution_count": 40,
   "metadata": {},
   "outputs": [
    {
     "name": "stdout",
     "output_type": "stream",
     "text": [
      "   name  age   city\n",
      "c  Riya   56   pune\n",
      "d   Toy   78  surat\n"
     ]
    }
   ],
   "source": [
    "print(df[df['age']>40])"
   ]
  },
  {
   "cell_type": "code",
   "execution_count": 41,
   "metadata": {},
   "outputs": [
    {
     "name": "stdout",
     "output_type": "stream",
     "text": [
      "    name  age city\n",
      "b  Rohan   34  goa\n"
     ]
    }
   ],
   "source": [
    "print(df[df['name'] == \"Rohan\"])"
   ]
  },
  {
   "cell_type": "code",
   "execution_count": 42,
   "metadata": {},
   "outputs": [
    {
     "name": "stdout",
     "output_type": "stream",
     "text": [
      "    name  age    city  Salary\n",
      "a    Joy   23  mumbai    5000\n",
      "b  Rohan   34     goa    5000\n",
      "c   Riya   56    pune    4500\n",
      "d    Toy   78   surat    6500\n"
     ]
    }
   ],
   "source": [
    "df['Salary'] = [5000,5000,4500,6500]\n",
    "\n",
    "print(df)"
   ]
  },
  {
   "cell_type": "code",
   "execution_count": 74,
   "metadata": {},
   "outputs": [
    {
     "name": "stdout",
     "output_type": "stream",
     "text": [
      "  name  age    city  Salary\n",
      "a  Joy   23  mumbai    5000\n"
     ]
    }
   ],
   "source": [
    "data1 = df[df['Salary'] == 5000]\n",
    "data2 = df[df['Salary'] > 5000]\n",
    "\n",
    "\n",
    "print(df[(df['Salary'] == 5000) & (df['city'] == \"mumbai\")])\n"
   ]
  }
 ],
 "metadata": {
  "kernelspec": {
   "display_name": "Python 3",
   "language": "python",
   "name": "python3"
  },
  "language_info": {
   "codemirror_mode": {
    "name": "ipython",
    "version": 3
   },
   "file_extension": ".py",
   "mimetype": "text/x-python",
   "name": "python",
   "nbconvert_exporter": "python",
   "pygments_lexer": "ipython3",
   "version": "3.12.1"
  }
 },
 "nbformat": 4,
 "nbformat_minor": 2
}
