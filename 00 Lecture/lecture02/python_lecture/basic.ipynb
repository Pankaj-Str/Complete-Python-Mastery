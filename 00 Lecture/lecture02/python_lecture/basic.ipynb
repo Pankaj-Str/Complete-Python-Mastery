{
  "metadata": {
    "kernelspec": {
      "name": "python",
      "display_name": "Python (Pyodide)",
      "language": "python"
    },
    "language_info": {
      "codemirror_mode": {
        "name": "python",
        "version": 3
      },
      "file_extension": ".py",
      "mimetype": "text/x-python",
      "name": "python",
      "nbconvert_exporter": "python",
      "pygments_lexer": "ipython3",
      "version": "3.8"
    }
  },
  "nbformat_minor": 5,
  "nbformat": 4,
  "cells": [
    {
      "id": "f41dbb64-6f75-4080-854c-62df1f238c89",
      "cell_type": "code",
      "source": "print(\"welcome\")",
      "metadata": {
        "trusted": true
      },
      "outputs": [
        {
          "name": "stdout",
          "output_type": "stream",
          "text": "welcome\n"
        }
      ],
      "execution_count": 1
    },
    {
      "id": "f87bf6c9-cc85-46be-9d99-a97b318652a4",
      "cell_type": "code",
      "source": "",
      "metadata": {
        "trusted": true
      },
      "outputs": [],
      "execution_count": null
    }
  ]
}