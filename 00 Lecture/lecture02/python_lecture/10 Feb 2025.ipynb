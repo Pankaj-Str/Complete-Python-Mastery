{
 "cells": [
  {
   "cell_type": "code",
   "execution_count": 3,
   "id": "d2649a21",
   "metadata": {},
   "outputs": [
    {
     "name": "stdout",
     "output_type": "stream",
     "text": [
      "c\n",
      "com\n"
     ]
    }
   ],
   "source": [
    "data = \"welcome\"\n",
    "\n",
    "print(data[3])\n",
    "print(data[3:6])"
   ]
  },
  {
   "cell_type": "code",
   "execution_count": null,
   "id": "13c22a03",
   "metadata": {},
   "outputs": [],
   "source": []
  },
  {
   "cell_type": "code",
   "execution_count": 4,
   "id": "7ecc3550",
   "metadata": {},
   "outputs": [
    {
     "name": "stdout",
     "output_type": "stream",
     "text": [
      "w\n",
      "e\n",
      "l\n",
      "c\n",
      "o\n",
      "m\n",
      "e\n"
     ]
    }
   ],
   "source": [
    "for i in data:\n",
    "    print(i)"
   ]
  },
  {
   "cell_type": "code",
   "execution_count": 5,
   "id": "a953d1d5",
   "metadata": {},
   "outputs": [
    {
     "ename": "TypeError",
     "evalue": "'str' object does not support item assignment",
     "output_type": "error",
     "traceback": [
      "\u001b[1;31m---------------------------------------------------------------------------\u001b[0m",
      "\u001b[1;31mTypeError\u001b[0m                                 Traceback (most recent call last)",
      "Input \u001b[1;32mIn [5]\u001b[0m, in \u001b[0;36m<cell line: 1>\u001b[1;34m()\u001b[0m\n\u001b[1;32m----> 1\u001b[0m data[\u001b[38;5;241m3\u001b[39m] \u001b[38;5;241m=\u001b[39m \u001b[38;5;124m\"\u001b[39m\u001b[38;5;124mp\u001b[39m\u001b[38;5;124m\"\u001b[39m\n\u001b[0;32m      2\u001b[0m \u001b[38;5;28mprint\u001b[39m(data)\n",
      "\u001b[1;31mTypeError\u001b[0m: 'str' object does not support item assignment"
     ]
    }
   ],
   "source": [
    "data[3] = \"p\"\n",
    "print(data)"
   ]
  },
  {
   "cell_type": "code",
   "execution_count": 8,
   "id": "515f6b87",
   "metadata": {},
   "outputs": [
    {
     "name": "stdout",
     "output_type": "stream",
     "text": [
      "my name is joy and age 23\n"
     ]
    }
   ],
   "source": [
    "# format\n",
    "\n",
    "name = \"joy\"\n",
    "age = 23\n",
    "\n",
    "print(\"my name is {0} and age {1}\".format(name,age))"
   ]
  },
  {
   "cell_type": "code",
   "execution_count": 9,
   "id": "837b11fa",
   "metadata": {},
   "outputs": [
    {
     "name": "stdout",
     "output_type": "stream",
     "text": [
      "my name is joy and age 23\n"
     ]
    }
   ],
   "source": [
    "print(f\"my name is {name} and age {age}\")"
   ]
  },
  {
   "cell_type": "code",
   "execution_count": 10,
   "id": "8a4a1166",
   "metadata": {},
   "outputs": [
    {
     "name": "stdout",
     "output_type": "stream",
     "text": [
      "welpome\n"
     ]
    }
   ],
   "source": [
    "# replace()\n",
    "print(data.replace('c','p'))"
   ]
  },
  {
   "cell_type": "code",
   "execution_count": 14,
   "id": "616a5d65",
   "metadata": {},
   "outputs": [
    {
     "name": "stdout",
     "output_type": "stream",
     "text": [
      "['w', 'e', 'l', 'c', 'o', 'm', 'e']\n",
      "['w', 'e', 'l', 'P', 'o', 'm', 'e']\n",
      "welPome"
     ]
    }
   ],
   "source": [
    "data = \"w e l c o m e\"\n",
    "print(data.split(' '))\n",
    "new_data = data.split(' ')\n",
    "new_data[3] = 'P'\n",
    "print(new_data)\n",
    "\n",
    "for i in new_data:\n",
    "    print(i,end='')"
   ]
  }
 ],
 "metadata": {
  "kernelspec": {
   "display_name": "Python 3 (ipykernel)",
   "language": "python",
   "name": "python3"
  },
  "language_info": {
   "codemirror_mode": {
    "name": "ipython",
    "version": 3
   },
   "file_extension": ".py",
   "mimetype": "text/x-python",
   "name": "python",
   "nbconvert_exporter": "python",
   "pygments_lexer": "ipython3",
   "version": "3.9.12"
  }
 },
 "nbformat": 4,
 "nbformat_minor": 5
}
