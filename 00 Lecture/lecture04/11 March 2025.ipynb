{
 "cells": [
  {
   "cell_type": "code",
   "execution_count": 2,
   "metadata": {},
   "outputs": [
    {
     "name": "stdout",
     "output_type": "stream",
     "text": [
      "My name is :  Nishant\n",
      "My Age is :  45\n",
      "My height is  4.5\n"
     ]
    }
   ],
   "source": [
    "# input function \n",
    "\n",
    "name = input(\"Enter Your name \")\n",
    "age = input(\"Enter your age \")\n",
    "height = input(\"Enter Your Height \")\n",
    "\n",
    "print(\"My name is : \",name)\n",
    "print(\"My Age is : \",age)\n",
    "print(\"My height is \",height)"
   ]
  },
  {
   "cell_type": "code",
   "execution_count": null,
   "metadata": {},
   "outputs": [],
   "source": [
    "#int()\n",
    "#float()\n",
    "#str()"
   ]
  },
  {
   "cell_type": "code",
   "execution_count": 7,
   "metadata": {},
   "outputs": [
    {
     "name": "stdout",
     "output_type": "stream",
     "text": [
      "this is result :  6942\n",
      "<class 'int'>\n"
     ]
    }
   ],
   "source": [
    "n1 = int(input('Enter number 1 '))\n",
    "n2 = int(input('enter number 2 '))\n",
    "result = n1 * n2\n",
    "print(\"this is result : \",result)\n",
    "\n",
    "# check type\n",
    "print(type(n1))"
   ]
  },
  {
   "cell_type": "code",
   "execution_count": null,
   "metadata": {},
   "outputs": [
    {
     "name": "stdout",
     "output_type": "stream",
     "text": [
      "4672\n",
      "4492\n",
      "412380\n",
      "50.91111111111111\n",
      "50\n",
      "9834496\n",
      "82\n"
     ]
    }
   ],
   "source": [
    "\n",
    "# Arithmetic Operators\n",
    "\n",
    "x = 4582\n",
    "y = 90\n",
    "\n",
    "print(x + y)\n",
    "print(x - y)\n",
    "print(x * y)\n",
    "print(x / y)\n",
    "print(x // y)\n",
    "print(56 ** 4)\n",
    "print(x % y)"
   ]
  },
  {
   "cell_type": "code",
   "execution_count": 23,
   "metadata": {},
   "outputs": [
    {
     "name": "stdout",
     "output_type": "stream",
     "text": [
      "True\n",
      "False\n",
      "False\n",
      "True\n",
      "True\n",
      "False\n"
     ]
    }
   ],
   "source": [
    "# Comparison Operators\n",
    "\n",
    "print(34 < 78)\n",
    "print(34 > 78)\n",
    "print(34 == 78)\n",
    "print(34 != 78)\n",
    "print(34 <= 36)\n",
    "print(34 >= 78)"
   ]
  },
  {
   "cell_type": "code",
   "execution_count": 29,
   "metadata": {},
   "outputs": [
    {
     "name": "stdout",
     "output_type": "stream",
     "text": [
      "False\n",
      "True\n",
      "True\n",
      "False\n"
     ]
    }
   ],
   "source": [
    "# Logical Operators\n",
    "print(89 < 88 and 45 != 90)\n",
    "print(89 < 88 or 45 != 90)\n",
    "\n",
    "\n",
    "print(67 != 78)\n",
    "\n",
    "print(not 23 == 23 )\n",
    "\n"
   ]
  },
  {
   "cell_type": "code",
   "execution_count": 33,
   "metadata": {},
   "outputs": [
    {
     "name": "stdout",
     "output_type": "stream",
     "text": [
      "100\n",
      "200\n",
      "20000\n",
      "200.0\n",
      "100.0\n"
     ]
    }
   ],
   "source": [
    "# Assignment Operators\n",
    "\n",
    "data = 100\n",
    "print(data)\n",
    "\n",
    "#data = data + 100\n",
    "data += 100\n",
    "print(data)\n",
    "\n",
    "data *= 100\n",
    "print(data)\n",
    "\n",
    "data /= 100\n",
    "print(data)\n",
    "\n",
    "data -= 100\n",
    "print(data)"
   ]
  },
  {
   "cell_type": "code",
   "execution_count": null,
   "metadata": {},
   "outputs": [
    {
     "name": "stdout",
     "output_type": "stream",
     "text": [
      "True\n",
      "False\n"
     ]
    }
   ],
   "source": [
    "# Identity Operators\n",
    "\n",
    "web = \"www.codeswithpankaj.com\"\n",
    "print('w' in web)\n",
    "print('w' not in web)"
   ]
  },
  {
   "cell_type": "code",
   "execution_count": 38,
   "metadata": {},
   "outputs": [
    {
     "name": "stdout",
     "output_type": "stream",
     "text": [
      "False\n",
      "True\n"
     ]
    }
   ],
   "source": [
    "\n",
    "# Membership Operators\n",
    "data1 = \"p4n\"\n",
    "data2 = \"cwpc\"\n",
    "\n",
    "print(data1 is data2)\n",
    "print(data1 is not data2)"
   ]
  },
  {
   "cell_type": "code",
   "execution_count": 2,
   "metadata": {},
   "outputs": [
    {
     "name": "stdout",
     "output_type": "stream",
     "text": [
      "Number a is not smallest...\n"
     ]
    }
   ],
   "source": [
    "# Date : 12 March 2025\n",
    "\n",
    "a = 10\n",
    "b = 2\n",
    "\n",
    "if a < b:\n",
    "    print(\"Number a is smallest...\")\n",
    "else:\n",
    "    print(\"Number a is not smallest...\")    "
   ]
  },
  {
   "cell_type": "code",
   "execution_count": 4,
   "metadata": {},
   "outputs": [
    {
     "name": "stdout",
     "output_type": "stream",
     "text": [
      "Number 3 is smallest \n"
     ]
    }
   ],
   "source": [
    "n1 = 10\n",
    "n2 = 20\n",
    "n3 = 4\n",
    "\n",
    "if n1 < n2 and n1 < n3:\n",
    "    print(\"Number 1 is smallest\")\n",
    "elif n2 < n1 and n2 < n3:\n",
    "    print(\"Number 2 is smallest ..\")\n",
    "else:\n",
    "    print(\"Number 3 is smallest \")        "
   ]
  }
 ],
 "metadata": {
  "kernelspec": {
   "display_name": "Python 3",
   "language": "python",
   "name": "python3"
  },
  "language_info": {
   "codemirror_mode": {
    "name": "ipython",
    "version": 3
   },
   "file_extension": ".py",
   "mimetype": "text/x-python",
   "name": "python",
   "nbconvert_exporter": "python",
   "pygments_lexer": "ipython3",
   "version": "3.13.2"
  }
 },
 "nbformat": 4,
 "nbformat_minor": 2
}
