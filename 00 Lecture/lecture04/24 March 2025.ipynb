{
 "cells": [
  {
   "cell_type": "markdown",
   "id": "7f0b6497",
   "metadata": {},
   "source": [
    "# Python List Tutorial\n",
    "\n",
    "Welcome to this comprehensive tutorial on Python lists, brought to you by codeswithpankaj.com. In this tutorial, we will explore various aspects of lists in Python, covering their syntax, usage, and practical examples. By the end of this tutorial, you will have a thorough understanding of how to use lists effectively in your Python programs.\n",
    "\n",
    "## Table of Contents\n",
    "\n",
    "1. Introduction to Lists\n",
    "2. Creating Lists\n",
    "3. Accessing List Elements\n",
    "   - Indexing\n",
    "   - Negative Indexing\n",
    "   - Slicing\n",
    "4. Modifying Lists\n",
    "   - Changing Elements\n",
    "   - Adding Elements\n",
    "   - Removing Elements\n",
    "5. List Operations\n",
    "   - Concatenation\n",
    "   - Repetition\n",
    "   - Membership\n",
    "   - Iteration\n",
    "6. List Methods\n",
    "   - append()\n",
    "   - extend()\n",
    "   - insert()\n",
    "   - remove()\n",
    "   - pop()\n",
    "   - clear()\n",
    "   - index()\n",
    "   - count()\n",
    "   - sort()\n",
    "   - reverse()\n",
    "   - copy()\n",
    "7. List Comprehensions\n",
    "8. Nested Lists\n",
    "9. Practical Examples\n",
    "10. Common Pitfalls and Best Practices\n",
    "\n",
    "---\n",
    "\n",
    "## 1. Introduction to Lists\n",
    "\n",
    "Lists are one of the most versatile and commonly used data structures in Python. They are ordered collections of items, which can be of different types, including integers, strings, and even other lists.\n",
    "\n",
    "### Why Lists are Important\n",
    "\n",
    "Lists are essential for storing, organizing, and manipulating collections of data. They provide a wide range of functionalities that make it easy to perform various operations on data.\n",
    "\n",
    "---\n",
    "\n",
    "## 2. Creating Lists\n",
    "\n",
    "A list is created by placing all the items (elements) inside square brackets `[]`, separated by commas.\n",
    "\n",
    "### Syntax\n"
   ]
  },
  {
   "cell_type": "code",
   "execution_count": null,
   "id": "fd0b2995",
   "metadata": {},
   "outputs": [],
   "source": [
    "list_name = [item1, item2, item3, ...]"
   ]
  },
  {
   "cell_type": "markdown",
   "id": "6e8f0886",
   "metadata": {},
   "source": [
    "\n",
    "### Examples\n"
   ]
  },
  {
   "cell_type": "code",
   "execution_count": null,
   "id": "70fa15b0",
   "metadata": {},
   "outputs": [],
   "source": [
    "# Creating a list of integers\n",
    "numbers = [1, 2, 3, 4, 5]\n",
    "\n",
    "# Creating a list of strings\n",
    "fruits = [\"apple\", \"banana\", \"cherry\"]\n",
    "\n",
    "# Creating a mixed list\n",
    "mixed_list = [1, \"apple\", 3.5, True]"
   ]
  },
  {
   "cell_type": "markdown",
   "id": "6d42f677",
   "metadata": {},
   "source": [
    "\n",
    "---\n",
    "\n",
    "## 3. Accessing List Elements\n",
    "\n",
    "You can access elements of a list using indexing and slicing.\n",
    "\n",
    "### Indexing\n",
    "\n",
    "Indexing allows you to access individual elements in a list. The index starts from 0.\n"
   ]
  },
  {
   "cell_type": "code",
   "execution_count": null,
   "id": "4b9a16b5",
   "metadata": {},
   "outputs": [
    {
     "name": "stdout",
     "output_type": "stream",
     "text": [
      "banana\n",
      "cherry\n"
     ]
    }
   ],
   "source": [
    "# Accessing elements by index\n",
    "#index       0        1          2\n",
    "fruits = [\"apple\", \"banana\", \"cherry\"]\n",
    "# -ve        -3       -2        -1\n",
    "\n",
    "print(fruits[1])\n",
    "print(fruits[-1])\n"
   ]
  },
  {
   "cell_type": "markdown",
   "id": "1f7285d2",
   "metadata": {},
   "source": [
    "\n",
    "### Negative Indexing\n",
    "\n",
    "Negative indexing allows you to access elements from the end of the list. The index `-1` refers to the last item.\n"
   ]
  },
  {
   "cell_type": "code",
   "execution_count": null,
   "id": "11f679a3",
   "metadata": {},
   "outputs": [],
   "source": [
    "# Accessing elements using negative indexing\n",
    "print(fruits[-1])  # Output: cherry\n",
    "print(fruits[-2])  # Output: banana"
   ]
  },
  {
   "cell_type": "markdown",
   "id": "67e94c0f",
   "metadata": {},
   "source": [
    "\n",
    "### Slicing\n",
    "\n",
    "Slicing allows you to access a range of elements in a list. The syntax is `list[start:end]`, where `start` is the starting index and `end` is the ending index (exclusive).\n"
   ]
  },
  {
   "cell_type": "code",
   "execution_count": 9,
   "id": "cd92787e",
   "metadata": {},
   "outputs": [
    {
     "name": "stdout",
     "output_type": "stream",
     "text": [
      "['apple', 'banana']\n",
      "['banana', 'cherry']\n",
      "['apple', 'banana']\n",
      "[44, 55, 66]\n",
      "[22, 33, 44, 55, 66]\n",
      "[77, 88, 10, 89]\n",
      "[22, 33, 44, 55, 66, 77, 88, 10, 89]\n",
      "[22, 33, 44, 55, 66, 77, 88, 10, 89]\n"
     ]
    }
   ],
   "source": [
    "# Accessing a range of elements using slicing\n",
    "print(fruits[0:2])  # Output: ['apple', 'banana']\n",
    "print(fruits[1:])   # Output: ['banana', 'cherry']\n",
    "print(fruits[:2])   # Output: ['apple', 'banana']\n",
    "\n",
    "\n",
    "# example \n",
    "\n",
    "data = [22,33,44,55,66,77,88,10,89]\n",
    "\n",
    "print(data[2:5])  # data[start:end]\n",
    "\n",
    "print(data[:5])\n",
    "print(data[5:])\n",
    "\n",
    "print(data[:])\n",
    "print(data)\n"
   ]
  },
  {
   "cell_type": "markdown",
   "id": "45bcbc35",
   "metadata": {},
   "source": [
    "\n",
    "---\n",
    "\n",
    "## 4. Modifying Lists\n",
    "\n",
    "You can modify lists by changing, adding, or removing elements.\n",
    "\n",
    "### Changing Elements\n",
    "\n",
    "You can change the value of a specific element by accessing its index.\n"
   ]
  },
  {
   "cell_type": "code",
   "execution_count": null,
   "id": "8d0e1c43",
   "metadata": {},
   "outputs": [],
   "source": [
    "# Changing elements in a list\n",
    "fruits = [\"apple\", \"banana\", \"cherry\"]\n",
    "fruits[1] = \"blueberry\"\n",
    "print(fruits)  # Output: ['apple', 'blueberry', 'cherry']"
   ]
  },
  {
   "cell_type": "markdown",
   "id": "4d43be0c",
   "metadata": {},
   "source": [
    "\n",
    "### Adding Elements\n",
    "\n",
    "#### append()\n",
    "\n",
    "The `append()` method adds an element to the end of the list.\n"
   ]
  },
  {
   "cell_type": "code",
   "execution_count": null,
   "id": "942019ca",
   "metadata": {},
   "outputs": [],
   "source": [
    "# Adding elements using append()\n",
    "fruits.append(\"orange\")\n",
    "print(fruits)  # Output: ['apple', 'blueberry', 'cherry', 'orange']"
   ]
  },
  {
   "cell_type": "markdown",
   "id": "c91d6553",
   "metadata": {},
   "source": [
    "\n",
    "#### insert()\n",
    "\n",
    "The `insert()` method adds an element at a specified position.\n"
   ]
  },
  {
   "cell_type": "code",
   "execution_count": 10,
   "id": "3cddfa67",
   "metadata": {},
   "outputs": [
    {
     "name": "stdout",
     "output_type": "stream",
     "text": [
      "['apple', 'banana', 'banana', 'cherry']\n"
     ]
    }
   ],
   "source": [
    "# Adding elements using insert()\n",
    "fruits.insert(1, \"banana\")\n",
    "print(fruits)  # Output: ['apple', 'banana', 'blueberry', 'cherry', 'orange']"
   ]
  },
  {
   "cell_type": "markdown",
   "id": "36222f4b",
   "metadata": {},
   "source": [
    "\n",
    "### Removing Elements\n",
    "\n",
    "#### remove()\n",
    "\n",
    "The `remove()` method removes the first occurrence of a specified value.\n"
   ]
  },
  {
   "cell_type": "code",
   "execution_count": 11,
   "id": "45d12453",
   "metadata": {},
   "outputs": [
    {
     "name": "stdout",
     "output_type": "stream",
     "text": [
      "['apple', 'banana', 'cherry']\n"
     ]
    }
   ],
   "source": [
    "# Removing elements using remove()\n",
    "fruits.remove(\"banana\")\n",
    "print(fruits)  # Output: ['apple', 'blueberry', 'cherry', 'orange']"
   ]
  },
  {
   "cell_type": "markdown",
   "id": "c6c9e226",
   "metadata": {},
   "source": [
    "\n",
    "#### pop()\n",
    "\n",
    "The `pop()` method removes the element at a specified position and returns it. If no index is specified, it removes the last item.\n"
   ]
  },
  {
   "cell_type": "code",
   "execution_count": 14,
   "id": "6462a585",
   "metadata": {},
   "outputs": [
    {
     "name": "stdout",
     "output_type": "stream",
     "text": [
      "apple\n",
      "[]\n"
     ]
    }
   ],
   "source": [
    "# Removing elements using pop()\n",
    "last_fruit = fruits.pop()\n",
    "print(last_fruit)  # Output: orange\n",
    "print(fruits)  # Output: ['apple', 'blueberry', 'cherry']"
   ]
  },
  {
   "cell_type": "markdown",
   "id": "899d2e0a",
   "metadata": {},
   "source": [
    "\n",
    "#### clear()\n",
    "\n",
    "The `clear()` method removes all elements from the list.\n"
   ]
  },
  {
   "cell_type": "code",
   "execution_count": null,
   "id": "82729b98",
   "metadata": {},
   "outputs": [],
   "source": [
    "# Clearing the list\n",
    "fruits.clear()\n",
    "print(fruits)  # Output: []"
   ]
  },
  {
   "cell_type": "markdown",
   "id": "ff09b5c2",
   "metadata": {},
   "source": [
    "\n",
    "---\n",
    "\n",
    "## 5. List Operations\n",
    "\n",
    "### Concatenation\n",
    "\n",
    "You can concatenate lists using the `+` operator.\n"
   ]
  },
  {
   "cell_type": "code",
   "execution_count": null,
   "id": "5dab8423",
   "metadata": {},
   "outputs": [],
   "source": [
    "# Concatenating lists\n",
    "list1 = [1, 2, 3]\n",
    "list2 = [4, 5, 6]\n",
    "result = list1 + list2\n",
    "print(result)  # Output: [1, 2, 3, 4, 5, 6]"
   ]
  },
  {
   "cell_type": "markdown",
   "id": "068b025a",
   "metadata": {},
   "source": [
    "\n",
    "### Repetition\n",
    "\n",
    "You can repeat lists using the `*` operator.\n"
   ]
  },
  {
   "cell_type": "code",
   "execution_count": null,
   "id": "71b862f6",
   "metadata": {},
   "outputs": [],
   "source": [
    "# Repeating lists\n",
    "list1 = [1, 2, 3]\n",
    "result = list1 * 2\n",
    "print(result)  # Output: [1, 2, 3, 1, 2, 3]"
   ]
  },
  {
   "cell_type": "markdown",
   "id": "f44d2514",
   "metadata": {},
   "source": [
    "\n",
    "### Membership\n",
    "\n",
    "You can check if an element is in a list using the `in` keyword.\n"
   ]
  },
  {
   "cell_type": "code",
   "execution_count": 16,
   "id": "551d51e0",
   "metadata": {},
   "outputs": [
    {
     "name": "stdout",
     "output_type": "stream",
     "text": [
      "True\n",
      "False\n"
     ]
    }
   ],
   "source": [
    "# Checking membership\n",
    "fruits = [\"apple\", \"banana\", \"cherry\"]\n",
    "print(\"apple\" in fruits)  # Output: True\n",
    "print(\"orange\" in fruits)  # Output: False"
   ]
  },
  {
   "cell_type": "markdown",
   "id": "320b22a8",
   "metadata": {},
   "source": [
    "\n",
    "### Iteration\n",
    "\n",
    "You can iterate over the elements of a list using a `for` loop.\n"
   ]
  },
  {
   "cell_type": "code",
   "execution_count": 17,
   "id": "e664f2c4",
   "metadata": {},
   "outputs": [
    {
     "name": "stdout",
     "output_type": "stream",
     "text": [
      "apple\n",
      "banana\n",
      "cherry\n"
     ]
    }
   ],
   "source": [
    "# Iterating over a list\n",
    "for i in fruits:\n",
    "    print(i)"
   ]
  },
  {
   "cell_type": "markdown",
   "id": "8b9680df",
   "metadata": {},
   "source": [
    "\n",
    "---\n",
    "\n",
    "## 6. List Methods\n",
    "\n",
    "Python provides several built-in methods for performing operations on lists.\n",
    "\n",
    "### append()\n",
    "\n",
    "Adds an element to the end of the list.\n"
   ]
  },
  {
   "cell_type": "code",
   "execution_count": null,
   "id": "68dd38a9",
   "metadata": {},
   "outputs": [],
   "source": [
    "fruits.append(\"orange\")\n",
    "print(fruits)  # Output: ['apple', 'banana', 'cherry', 'orange']"
   ]
  },
  {
   "cell_type": "markdown",
   "id": "50d615d0",
   "metadata": {},
   "source": [
    "\n",
    "### extend()\n",
    "\n",
    "Extends the list by appending all the elements from another list.\n"
   ]
  },
  {
   "cell_type": "code",
   "execution_count": null,
   "id": "e8086a76",
   "metadata": {},
   "outputs": [],
   "source": [
    "fruits.extend([\"mango\", \"grape\"])\n",
    "print(fruits)  # Output: ['apple', 'banana', 'cherry', 'orange', 'mango', 'grape']"
   ]
  },
  {
   "cell_type": "markdown",
   "id": "ec5e8438",
   "metadata": {},
   "source": [
    "\n",
    "### insert()\n",
    "\n",
    "Inserts an element at a specified position.\n"
   ]
  },
  {
   "cell_type": "code",
   "execution_count": null,
   "id": "e9bf5966",
   "metadata": {},
   "outputs": [],
   "source": [
    "fruits.insert(1, \"blueberry\")\n",
    "print(fruits)  # Output: ['apple', 'blueberry', 'banana', 'cherry', 'orange', 'mango', 'grape']"
   ]
  },
  {
   "cell_type": "markdown",
   "id": "7ff257a9",
   "metadata": {},
   "source": [
    "\n",
    "### remove()\n",
    "\n",
    "Removes the first occurrence of a specified value.\n"
   ]
  },
  {
   "cell_type": "code",
   "execution_count": null,
   "id": "232870fb",
   "metadata": {},
   "outputs": [],
   "source": [
    "fruits.remove(\"banana\")\n",
    "print(fruits)  # Output: ['apple', 'blueberry', 'cherry', 'orange', 'mango', 'grape']"
   ]
  },
  {
   "cell_type": "markdown",
   "id": "04af9753",
   "metadata": {},
   "source": [
    "\n",
    "### pop()\n",
    "\n",
    "Removes the element at a specified position and returns it.\n"
   ]
  },
  {
   "cell_type": "code",
   "execution_count": null,
   "id": "fbf6a6af",
   "metadata": {},
   "outputs": [],
   "source": [
    "last_fruit = fruits.pop()\n",
    "print(last_fruit)  # Output: grape\n",
    "print(fruits)  # Output: ['apple', 'blueberry', 'cherry', 'orange', 'mango']"
   ]
  },
  {
   "cell_type": "markdown",
   "id": "ae66c1d3",
   "metadata": {},
   "source": [
    "\n",
    "### clear()\n",
    "\n",
    "Removes all elements from the list.\n"
   ]
  },
  {
   "cell_type": "code",
   "execution_count": null,
   "id": "b953e6bc",
   "metadata": {},
   "outputs": [],
   "source": [
    "fruits.clear()\n",
    "print(fruits)  # Output: []"
   ]
  },
  {
   "cell_type": "markdown",
   "id": "f0cbb7d1",
   "metadata": {},
   "source": [
    "\n",
    "### index()\n",
    "\n",
    "Returns the index of the first occurrence of a specified value.\n"
   ]
  },
  {
   "cell_type": "code",
   "execution_count": null,
   "id": "2d058774",
   "metadata": {},
   "outputs": [],
   "source": [
    "fruits = [\"apple\", \"banana\", \"cherry\"]\n",
    "index = fruits.index(\"banana\")\n",
    "print(index)  # Output: 1"
   ]
  },
  {
   "cell_type": "markdown",
   "id": "c95a287a",
   "metadata": {},
   "source": [
    "\n",
    "### count()\n",
    "\n",
    "Returns the number of times a specified value occurs in the list.\n"
   ]
  },
  {
   "cell_type": "code",
   "execution_count": null,
   "id": "673a9c57",
   "metadata": {},
   "outputs": [],
   "source": [
    "count = fruits.count(\"apple\")\n",
    "print(count)  # Output: 1"
   ]
  },
  {
   "cell_type": "markdown",
   "id": "8830f20c",
   "metadata": {},
   "source": [
    "\n",
    "### sort()\n",
    "\n",
    "Sorts the list in ascending order by default.\n"
   ]
  },
  {
   "cell_type": "code",
   "execution_count": null,
   "id": "70a21f45",
   "metadata": {},
   "outputs": [],
   "source": [
    "numbers = [3, 1, 4, 1, 5, 9]\n",
    "numbers.sort()\n",
    "print(numbers)  # Output: [1, 1, 3, 4, 5, 9]"
   ]
  },
  {
   "cell_type": "markdown",
   "id": "a72d8471",
   "metadata": {},
   "source": [
    "\n",
    "### reverse()\n",
    "\n",
    "Reverses the order of the list.\n"
   ]
  },
  {
   "cell_type": "code",
   "execution_count": null,
   "id": "02d9a9cb",
   "metadata": {},
   "outputs": [],
   "source": [
    "numbers.reverse()\n",
    "print(numbers)  # Output: [9, 5, 4, 3, 1, 1]"
   ]
  },
  {
   "cell_type": "markdown",
   "id": "3ed0efed",
   "metadata": {},
   "source": [
    "\n",
    "### copy()\n",
    "\n",
    "Returns a shallow copy of the list.\n"
   ]
  },
  {
   "cell_type": "code",
   "execution_count": null,
   "id": "f0b03784",
   "metadata": {},
   "outputs": [],
   "source": [
    "fruits_copy = fruits.copy()\n",
    "print(fruits_copy)  # Output: ['apple', 'banana', 'cherry']"
   ]
  },
  {
   "cell_type": "markdown",
   "id": "341baa1e",
   "metadata": {},
   "source": [
    "\n",
    "---\n",
    "\n",
    "## 7. List Comprehensions\n",
    "\n",
    "List comprehensions provide a concise way to create lists. They consist of brackets containing an expression followed by a `for` clause.\n",
    "\n",
    "### Syntax\n"
   ]
  },
  {
   "cell_type": "code",
   "execution_count": null,
   "id": "a9cef9a3",
   "metadata": {},
   "outputs": [],
   "source": [
    "[expression for item in iterable if condition]"
   ]
  },
  {
   "cell_type": "markdown",
   "id": "bdc50613",
   "metadata": {},
   "source": [
    "\n",
    "### Examples\n"
   ]
  },
  {
   "cell_type": "code",
   "execution_count": 18,
   "id": "828ed67c",
   "metadata": {},
   "outputs": [
    {
     "name": "stdout",
     "output_type": "stream",
     "text": [
      "[0, 1, 4, 9, 16, 25, 36, 49, 64, 81]\n",
      "[0, 2, 4, 6, 8, 10, 12, 14, 16, 18]\n"
     ]
    }
   ],
   "source": [
    "# Creating a list of squares\n",
    "squares = [x ** 2 for x in range(10)]\n",
    "print(squares) \n",
    "\n",
    " # Output: [0, 1, 4, 9, 16, 25, 36, 49, 64, 81]\n",
    "\n",
    "# Creating a list of even numbers\n",
    "evens = [x for x in range(20) if x % 2 == 0]\n",
    "print(evens)  # Output: [0, 2, 4, 6, 8, 10, 12, 14, 16, 18]"
   ]
  },
  {
   "cell_type": "markdown",
   "id": "69ae59a7",
   "metadata": {},
   "source": [
    "\n",
    "---\n",
    "\n",
    "## 8. Nested Lists\n",
    "\n",
    "Nested lists are lists within lists. They allow you to create complex data structures.\n",
    "\n",
    "### Example\n"
   ]
  },
  {
   "cell_type": "code",
   "execution_count": null,
   "id": "92035925",
   "metadata": {},
   "outputs": [],
   "source": [
    "# Creating a nested list\n",
    "nested_list = [\n",
    "    [1, 2, 3],\n",
    "    [4, 5, 6],\n",
    "    [7, 8, 9]\n",
    "]\n",
    "\n",
    "# Accessing elements in a nested list\n",
    "print(nested_list[0])       # Output: [1, 2, 3]\n",
    "print(nested_list[0][1])    # Output: 2\n",
    "\n",
    "# Iterating through a nested list\n",
    "for sublist in nested_list:\n",
    "    for item in sublist:\n",
    "        print(item, end=' ')  # Output: 1 2 3 4 5 6 7 8 9"
   ]
  },
  {
   "cell_type": "markdown",
   "id": "2ea7740d",
   "metadata": {},
   "source": [
    "\n",
    "---\n",
    "\n",
    "## 9. Practical Examples\n",
    "\n",
    "### Example 1: Removing Duplicates\n"
   ]
  },
  {
   "cell_type": "code",
   "execution_count": null,
   "id": "06c7b3cb",
   "metadata": {},
   "outputs": [],
   "source": [
    "# Function to remove duplicates from a list\n",
    "def remove_duplicates(input_list):\n",
    "    return list(set(input_list))\n",
    "\n",
    "numbers = [1, 2, 2, 3, 4, 4, 5]\n",
    "unique_numbers = remove_duplicates(numbers)\n",
    "print(unique_numbers)  # Output: [1, 2, 3, 4, 5]"
   ]
  },
  {
   "cell_type": "markdown",
   "id": "ed2ea3d0",
   "metadata": {},
   "source": [
    "\n",
    "### Example 2: Flattening a Nested List\n"
   ]
  },
  {
   "cell_type": "code",
   "execution_count": null,
   "id": "76f37ef3",
   "metadata": {},
   "outputs": [],
   "source": [
    "# Function to flatten a nested list\n",
    "def flatten(nested_list):\n",
    "    flat_list = []\n",
    "    for sublist in nested_list:\n",
    "        for item in sublist:\n",
    "            flat_list.append(item)\n",
    "    return flat_list\n",
    "\n",
    "nested_list = [[1, 2, 3], [4, 5, 6], [7, 8, 9]]\n",
    "flat_list = flatten(nested_list)\n",
    "print(flat_list)  # Output: [1, 2, 3, 4, 5, 6, 7, 8, 9]"
   ]
  },
  {
   "cell_type": "markdown",
   "id": "9a136f19",
   "metadata": {},
   "source": [
    "\n",
    "### Example 3: List Comprehension with Condition\n"
   ]
  },
  {
   "cell_type": "code",
   "execution_count": null,
   "id": "0c18ebc8",
   "metadata": {},
   "outputs": [],
   "source": [
    "# Using list comprehension to filter a list\n",
    "numbers = [1, 2, 3, 4, 5, 6, 7, 8, 9, 10]\n",
    "squared_evens = [x ** 2 for x in numbers if x % 2 == 0]\n",
    "print(squared_evens)  # Output: [4, 16, 36, 64, 100]"
   ]
  },
  {
   "cell_type": "markdown",
   "id": "9abd0c58",
   "metadata": {},
   "source": [
    "\n",
    "---\n",
    "\n",
    "## 10. Common Pitfalls and Best Practices\n",
    "\n",
    "### Pitfalls\n",
    "\n",
    "1. **Index Errors:** Accessing an index that is out of range will raise an IndexError.\n",
    "2. **Mutability:** Lists are mutable, meaning their contents can change. Be cautious when passing lists to functions to avoid unintended side effects.\n",
    "3. **Copying Lists:** Using `=` to copy a list creates a reference to the original list. Use the `copy()` method or `list()` to create a copy.\n",
    "\n",
    "### Best Practices\n",
    "\n",
    "1. **Use Descriptive Names:** Use meaningful names for lists and their elements to improve code readability.\n",
    "2. **List Comprehensions:** Use list comprehensions for concise and readable code when creating new lists.\n",
    "3. **Avoid Deep Nesting:** Minimize the use of deeply nested lists for better readability and maintainability.\n"
   ]
  },
  {
   "cell_type": "code",
   "execution_count": null,
   "id": "21869491",
   "metadata": {},
   "outputs": [],
   "source": [
    "# Using list comprehensions effectively\n",
    "squares = [x ** 2 for x in range(10) if x % 2 == 0]\n",
    "print(squares)  # Output: [0, 4, 16, 36, 64]"
   ]
  },
  {
   "cell_type": "markdown",
   "id": "882ee993",
   "metadata": {},
   "source": [
    "\n",
    "---\n",
    "\n",
    "This concludes our detailed tutorial on Python lists. We hope you found this tutorial helpful and informative. For more tutorials and resources, visit codeswithpankaj.com. Happy coding!\n",
    "\n",
    "# Question \n",
    "----------\n",
    "1.1 Question \n",
    "\n",
    "```yaml\n",
    "\n",
    "-- User input section\n",
    "Enter Product List Size : 4\n",
    "Enter Product 1 -\n",
    "Samosa\n",
    "Enter Product 2 -\n",
    "Kachori\n",
    "Enter Product 3 -\n",
    "Fafda\n",
    "Enter Product 4 -\n",
    "Jalebi\n",
    "\n",
    "Enter Samosa Price :\n",
    "300/-\n",
    "Enter Kachori Price :\n",
    "100/-\n",
    "Enter Fafda Price :\n",
    "100/-\n",
    "Enter Jalebi Price :\n",
    "200/-\n",
    "\n",
    "--- output\n",
    "\n",
    "samosa = 300\n",
    "kachori = 100\n",
    "fafda = 100\n",
    "jalebi = 200\n",
    "\n",
    "```\n",
    "\n",
    "----------\n",
    "\n",
    "\n",
    "1. Billing System (Basic)\n",
    "\n",
    "```yml\n",
    "-- User input section\n",
    "Enter Product List Size : 4\n",
    "Enter Product 1 -\n",
    "Samosa\n",
    "Enter Product 2 -\n",
    "Kachori\n",
    "Enter Product 3 -\n",
    "Fafda\n",
    "Enter Product 4 -\n",
    "Jalebi\n",
    "\n",
    "Enter Samosa Price :\n",
    "300/-\n",
    "Enter Kachori Price :\n",
    "100/-\n",
    "Enter Fafda Price :\n",
    "100/-\n",
    "Enter Jalebi Price :\n",
    "200/-\n",
    "\n",
    "Do You Want to add GST [Y/N]\n",
    "[note : if user select `N` Print bill without GST]\n",
    "[Note User select yes `Y`]\n",
    "Enter GST % = 18\n",
    "-------Out put -------\n",
    "\n",
    "1. Samosa = 300/-\n",
    "2. Kachori = 100/-\n",
    "3. Fafda = 100/-\n",
    "4. Jalebi = 200/-\n",
    "-------------------\n",
    "Total = 700\n",
    "GST = 18%\n",
    "-------------------\n",
    "Final Total = 826/-\n",
    "-------------------\n",
    "```\n"
   ]
  }
 ],
 "metadata": {
  "kernelspec": {
   "display_name": "Python 3",
   "language": "python",
   "name": "python3"
  },
  "language_info": {
   "codemirror_mode": {
    "name": "ipython",
    "version": 3
   },
   "file_extension": ".py",
   "mimetype": "text/x-python",
   "name": "python",
   "nbconvert_exporter": "python",
   "pygments_lexer": "ipython3",
   "version": "3.13.2"
  }
 },
 "nbformat": 4,
 "nbformat_minor": 5
}
