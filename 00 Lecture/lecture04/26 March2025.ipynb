{
 "cells": [
  {
   "cell_type": "code",
   "execution_count": null,
   "metadata": {},
   "outputs": [],
   "source": [
    "# pandas in python is a data manipulation library\n",
    "# it is used to read and write data between in-memory data structures and files\n",
    "# it is used to clean, transform, and analyze data\n",
    "# it is used to visualize data\n",
    "# it is used to create data structures"
   ]
  },
  {
   "cell_type": "code",
   "execution_count": 1,
   "metadata": {},
   "outputs": [
    {
     "name": "stdout",
     "output_type": "stream",
     "text": [
      "Collecting pandas\n",
      "  Downloading pandas-2.2.3-cp313-cp313-win_amd64.whl.metadata (19 kB)\n",
      "Collecting numpy>=1.26.0 (from pandas)\n",
      "  Downloading numpy-2.2.4-cp313-cp313-win_amd64.whl.metadata (60 kB)\n",
      "Requirement already satisfied: python-dateutil>=2.8.2 in c:\\users\\admin\\appdata\\roaming\\python\\python313\\site-packages (from pandas) (2.9.0.post0)\n",
      "Collecting pytz>=2020.1 (from pandas)\n",
      "  Downloading pytz-2025.2-py2.py3-none-any.whl.metadata (22 kB)\n",
      "Requirement already satisfied: tzdata>=2022.7 in c:\\users\\admin\\appdata\\roaming\\python\\python313\\site-packages (from pandas) (2025.1)\n",
      "Requirement already satisfied: six>=1.5 in c:\\users\\admin\\appdata\\roaming\\python\\python313\\site-packages (from python-dateutil>=2.8.2->pandas) (1.17.0)\n",
      "Downloading pandas-2.2.3-cp313-cp313-win_amd64.whl (11.5 MB)\n",
      "   ---------------------------------------- 0.0/11.5 MB ? eta -:--:--\n",
      "   - -------------------------------------- 0.5/11.5 MB 17.6 MB/s eta 0:00:01\n",
      "   ------ --------------------------------- 1.8/11.5 MB 4.4 MB/s eta 0:00:03\n",
      "   --------------- ------------------------ 4.5/11.5 MB 7.1 MB/s eta 0:00:01\n",
      "   --------------------- ------------------ 6.3/11.5 MB 7.6 MB/s eta 0:00:01\n",
      "   ----------------------------- ---------- 8.4/11.5 MB 8.0 MB/s eta 0:00:01\n",
      "   ------------------------------------- -- 10.7/11.5 MB 8.6 MB/s eta 0:00:01\n",
      "   ---------------------------------------- 11.5/11.5 MB 7.9 MB/s eta 0:00:00\n",
      "Downloading numpy-2.2.4-cp313-cp313-win_amd64.whl (12.6 MB)\n",
      "   ---------------------------------------- 0.0/12.6 MB ? eta -:--:--\n",
      "   ------ --------------------------------- 2.1/12.6 MB 10.4 MB/s eta 0:00:02\n",
      "   -------------- ------------------------- 4.5/12.6 MB 10.8 MB/s eta 0:00:01\n",
      "   ---------------------- ----------------- 7.1/12.6 MB 11.2 MB/s eta 0:00:01\n",
      "   ----------------------------- ---------- 9.4/12.6 MB 11.5 MB/s eta 0:00:01\n",
      "   -------------------------------------- - 12.1/12.6 MB 11.6 MB/s eta 0:00:01\n",
      "   ---------------------------------------- 12.6/12.6 MB 10.0 MB/s eta 0:00:00\n",
      "Downloading pytz-2025.2-py2.py3-none-any.whl (509 kB)\n",
      "Installing collected packages: pytz, numpy, pandas\n",
      "Successfully installed numpy-2.2.4 pandas-2.2.3 pytz-2025.2\n",
      "Note: you may need to restart the kernel to use updated packages.\n"
     ]
    }
   ],
   "source": [
    "# install pandas using pip\n",
    "%pip install pandas"
   ]
  },
  {
   "cell_type": "code",
   "execution_count": 3,
   "metadata": {},
   "outputs": [
    {
     "name": "stdout",
     "output_type": "stream",
     "text": [
      "0    1\n",
      "1    2\n",
      "2    3\n",
      "3    4\n",
      "4    5\n",
      "dtype: int64\n"
     ]
    }
   ],
   "source": [
    "# import pandas\n",
    "import pandas as pd\n",
    "\n",
    "# series \n",
    "# a series is a one-dimensional labeled array capable of holding any data type\n",
    "# a series is similar to a list or a column in a table\n",
    "\n",
    "# example\n",
    "\n",
    "# step 1 - create a data\n",
    "\n",
    "# create a list of data\n",
    "data = [1, 2, 3, 4, 5]\n",
    "\n",
    "# create a series\n",
    "\n",
    "s = pd.Series(data)\n",
    "print(s)"
   ]
  },
  {
   "cell_type": "code",
   "execution_count": 4,
   "metadata": {},
   "outputs": [
    {
     "name": "stdout",
     "output_type": "stream",
     "text": [
      "a    1\n",
      "b    2\n",
      "c    3\n",
      "d    4\n",
      "e    5\n",
      "dtype: int64\n"
     ]
    }
   ],
   "source": [
    "# modify the index of the series\n",
    "s = pd.Series(data, index=['a', 'b', 'c', 'd', 'e'])\n",
    "print(s)"
   ]
  },
  {
   "cell_type": "code",
   "execution_count": 5,
   "metadata": {},
   "outputs": [
    {
     "name": "stdout",
     "output_type": "stream",
     "text": [
      "name        john\n",
      "age           25\n",
      "city    new york\n",
      "dtype: object\n"
     ]
    }
   ],
   "source": [
    "# create a series from a dictionary\n",
    "data = {'name': 'john', 'age': 25, 'city': 'new york'}\n",
    "s = pd.Series(data)\n",
    "print(s)"
   ]
  },
  {
   "cell_type": "code",
   "execution_count": 6,
   "metadata": {},
   "outputs": [
    {
     "name": "stdout",
     "output_type": "stream",
     "text": [
      "name        john\n",
      "age           25\n",
      "city    new york\n",
      "Name: person, dtype: object\n"
     ]
    }
   ],
   "source": [
    "# add column name to the series\n",
    "s = pd.Series(data, name='person')\n",
    "print(s)"
   ]
  },
  {
   "cell_type": "code",
   "execution_count": 9,
   "metadata": {},
   "outputs": [
    {
     "name": "stdout",
     "output_type": "stream",
     "text": [
      "      Name  Age      City\n",
      "0  Nishant   25  New York\n"
     ]
    }
   ],
   "source": [
    "# data frame\n",
    "# a data frame is a two-dimensional labeled data structure with columns of potentially different types\n",
    "# a data frame is similar to a table in a database\n",
    "\n",
    "\n",
    "# example\n",
    "\n",
    "# step 1 - create a data\n",
    "\n",
    "data = {'Name':\"Nishant\", 'Age': 25, 'City': 'New York'}\n",
    "\n",
    "df = pd.DataFrame(data , index=[0])\n",
    "print(df)"
   ]
  },
  {
   "cell_type": "code",
   "execution_count": 10,
   "metadata": {},
   "outputs": [
    {
     "name": "stdout",
     "output_type": "stream",
     "text": [
      "      Name  Age      City\n",
      "0  Nishant   25  New York\n",
      "1     John   30   Chicago\n"
     ]
    }
   ],
   "source": [
    "# create a data frame from a list of dictionaries\n",
    "\n",
    "data = [{'Name': 'Nishant', 'Age': 25, 'City': 'New York'}, {'Name': 'John', 'Age': 30, 'City': 'Chicago'}]\n",
    "\n",
    "df = pd.DataFrame(data)\n",
    "print(df)"
   ]
  },
  {
   "cell_type": "code",
   "execution_count": 13,
   "metadata": {},
   "outputs": [
    {
     "name": "stdout",
     "output_type": "stream",
     "text": [
      "             Name  Salary               City   Department  Age Date of Join\n",
      "0  Kristina Brown  102161       Johnsonhaven        Sales   38   2023-11-07\n",
      "1     Kelly Moran  107822  North Michaelside  Engineering   39   2018-07-18\n",
      "2   Miranda Silva   90319           Deanbury           HR   32   2024-11-22\n",
      "3    Paul Bennett   85464          Barryfort    Marketing   47   2018-11-28\n",
      "4  Jessica Powers  115027         Meyerburgh      Finance   48   2018-10-30\n"
     ]
    }
   ],
   "source": [
    "# read csv file \n",
    "\n",
    "d_file = pd.read_csv('dataset/employee_data.csv')\n",
    "\n",
    "print(d_file.head())"
   ]
  },
  {
   "cell_type": "code",
   "execution_count": 14,
   "metadata": {},
   "outputs": [
    {
     "name": "stdout",
     "output_type": "stream",
     "text": [
      "                  Name  Salary                 City   Department  Age  \\\n",
      "0       Kristina Brown  102161         Johnsonhaven        Sales   38   \n",
      "1          Kelly Moran  107822    North Michaelside  Engineering   39   \n",
      "2        Miranda Silva   90319             Deanbury           HR   32   \n",
      "3         Paul Bennett   85464            Barryfort    Marketing   47   \n",
      "4       Jessica Powers  115027           Meyerburgh      Finance   48   \n",
      "5      William Leonard   57891          Lake Ashley           HR   22   \n",
      "6     Jennifer Jenkins   47585         Hernandezton  Engineering   25   \n",
      "7          Jason Lyons   73351            Jonesbury        Sales   39   \n",
      "8       Nancy Gonzalez  114752        South Vincent        Sales   56   \n",
      "9          George Hunt   32606           Williebury           HR   43   \n",
      "10        Jenna Thomas  107020     Schneiderborough  Engineering   59   \n",
      "11     Brandon Wheeler   70970      North Jamiefurt        Sales   57   \n",
      "12  Dr. Robert Roberts   51320            Lopeztown    Marketing   28   \n",
      "13    Jessica Franklin  112205           Thomasfurt    Marketing   24   \n",
      "14    Lawrence Marquez   45680             Coleside    Marketing   44   \n",
      "15     Elizabeth Smith   36654  South Josephchester  Engineering   32   \n",
      "16        Julia Church   75282         Lake Brandon      Finance   59   \n",
      "17       Destiny Lewis  107413            Clarkberg  Engineering   41   \n",
      "18           Pam Smith   45034           Fullerberg    Marketing   49   \n",
      "19       Steven Barron   53285       South Erictown      Finance   42   \n",
      "20      Tyler Morrison   91565      East Barbaraton      Finance   27   \n",
      "21      Adriana Patton   47107       Johnsonborough    Marketing   39   \n",
      "22         Susan Lewis   91636        Romeroborough      Finance   30   \n",
      "23          Megan Meza   67385         Smithchester           HR   30   \n",
      "24       Donald Conley   43910           Fieldsfort    Marketing   23   \n",
      "25    Tony Fitzpatrick   39705         Santiagofurt        Sales   27   \n",
      "26      William Krause   36702      North Deannaton  Engineering   44   \n",
      "27        Nancy Taylor  102625          East Philip        Sales   37   \n",
      "28        Haley Little   62728           Garciafurt           HR   42   \n",
      "29      Michael Carney   71724         Lake Russell    Marketing   27   \n",
      "30      Crystal Zamora   34574            Davidfurt      Finance   43   \n",
      "31        Lauren Jones   58827  Port Christinaburgh        Sales   42   \n",
      "32         Paul Molina   72208        Angelicamouth      Finance   25   \n",
      "33       Sean Brown MD  112177         Aguirremouth           HR   44   \n",
      "34        Howard Miles   69084    North Martinmouth        Sales   47   \n",
      "35        Jacob Farmer   89439           New Amanda           HR   60   \n",
      "36       Mathew Melton   99255   North Waynechester      Finance   52   \n",
      "37          Susan Nash   90408        Stephanieview    Marketing   23   \n",
      "38         Dave Cooper   88606     Port Nicolemouth    Marketing   23   \n",
      "39  Elizabeth Mcdaniel   53924        South Richard      Finance   51   \n",
      "40       Harold Nguyen   88916           Louisburgh      Finance   44   \n",
      "41        Kevin Rivera  106794       Alvarezchester    Marketing   43   \n",
      "42    Elizabeth Graham   43515           Brewerview      Finance   55   \n",
      "43       Jennifer Tran   79856             East Kim      Finance   42   \n",
      "44       Pamela Jordan   46769  North Jenniferhaven           HR   45   \n",
      "45           Lisa Vega   72107          Nicolemouth  Engineering   60   \n",
      "46        Louis Taylor   42523       Port Dawnmouth  Engineering   37   \n",
      "47       Tyler Simpson   63359          Hintonmouth        Sales   50   \n",
      "48   Christian Roberts   42055           Reillystad           HR   23   \n",
      "49    Jeremiah Garrett   30957         New Danielle    Marketing   54   \n",
      "\n",
      "   Date of Join  \n",
      "0    2023-11-07  \n",
      "1    2018-07-18  \n",
      "2    2024-11-22  \n",
      "3    2018-11-28  \n",
      "4    2018-10-30  \n",
      "5    2024-12-22  \n",
      "6    2017-06-14  \n",
      "7    2021-06-19  \n",
      "8    2016-03-29  \n",
      "9    2025-03-05  \n",
      "10   2016-03-02  \n",
      "11   2018-11-18  \n",
      "12   2020-08-22  \n",
      "13   2024-06-21  \n",
      "14   2020-01-06  \n",
      "15   2020-08-03  \n",
      "16   2017-11-28  \n",
      "17   2021-07-29  \n",
      "18   2021-11-24  \n",
      "19   2015-06-05  \n",
      "20   2020-10-14  \n",
      "21   2024-11-01  \n",
      "22   2016-05-08  \n",
      "23   2018-10-02  \n",
      "24   2020-02-10  \n",
      "25   2015-05-17  \n",
      "26   2018-09-16  \n",
      "27   2017-02-21  \n",
      "28   2021-09-25  \n",
      "29   2015-04-10  \n",
      "30   2018-03-10  \n",
      "31   2017-10-23  \n",
      "32   2018-02-12  \n",
      "33   2020-10-22  \n",
      "34   2020-11-17  \n",
      "35   2017-10-23  \n",
      "36   2015-04-20  \n",
      "37   2022-01-16  \n",
      "38   2018-10-22  \n",
      "39   2022-11-07  \n",
      "40   2018-10-08  \n",
      "41   2016-07-11  \n",
      "42   2021-01-30  \n",
      "43   2021-09-14  \n",
      "44   2024-07-02  \n",
      "45   2016-07-12  \n",
      "46   2017-03-03  \n",
      "47   2019-01-08  \n",
      "48   2016-04-24  \n",
      "49   2023-01-09  \n"
     ]
    }
   ],
   "source": [
    "# convert into data frame\n",
    "\n",
    "df = pd.DataFrame(d_file)\n",
    "print(df)"
   ]
  },
  {
   "cell_type": "code",
   "execution_count": null,
   "metadata": {},
   "outputs": [
    {
     "name": "stdout",
     "output_type": "stream",
     "text": [
      "(50, 6)\n"
     ]
    }
   ],
   "source": [
    "# get the shape of the data frame\n",
    "print(df.shape)"
   ]
  },
  {
   "cell_type": "code",
   "execution_count": 17,
   "metadata": {},
   "outputs": [
    {
     "name": "stdout",
     "output_type": "stream",
     "text": [
      "Name            object\n",
      "Salary           int64\n",
      "City            object\n",
      "Department      object\n",
      "Age              int64\n",
      "Date of Join    object\n",
      "dtype: object\n",
      "Index(['Name', 'Salary', 'City', 'Department', 'Age', 'Date of Join'], dtype='object')\n"
     ]
    }
   ],
   "source": [
    "# get the data type of each column\n",
    "print(df.dtypes)\n",
    "print(df.columns)\n"
   ]
  },
  {
   "cell_type": "code",
   "execution_count": 18,
   "metadata": {},
   "outputs": [
    {
     "name": "stdout",
     "output_type": "stream",
     "text": [
      "<class 'pandas.core.frame.DataFrame'>\n",
      "RangeIndex: 50 entries, 0 to 49\n",
      "Data columns (total 6 columns):\n",
      " #   Column        Non-Null Count  Dtype \n",
      "---  ------        --------------  ----- \n",
      " 0   Name          50 non-null     object\n",
      " 1   Salary        50 non-null     int64 \n",
      " 2   City          50 non-null     object\n",
      " 3   Department    50 non-null     object\n",
      " 4   Age           50 non-null     int64 \n",
      " 5   Date of Join  50 non-null     object\n",
      "dtypes: int64(2), object(4)\n",
      "memory usage: 2.5+ KB\n",
      "None\n"
     ]
    }
   ],
   "source": [
    "# get data summary\n",
    "print(df.info())"
   ]
  },
  {
   "cell_type": "code",
   "execution_count": 19,
   "metadata": {},
   "outputs": [
    {
     "name": "stdout",
     "output_type": "stream",
     "text": [
      "             Name  Salary               City   Department  Age Date of Join\n",
      "0  Kristina Brown  102161       Johnsonhaven        Sales   38   2023-11-07\n",
      "1     Kelly Moran  107822  North Michaelside  Engineering   39   2018-07-18\n"
     ]
    }
   ],
   "source": [
    "# get the first n rows of the data frame\n",
    "print(df.head(2))"
   ]
  },
  {
   "cell_type": "code",
   "execution_count": 20,
   "metadata": {},
   "outputs": [
    {
     "name": "stdout",
     "output_type": "stream",
     "text": [
      "                 Name  Salary          City Department  Age Date of Join\n",
      "48  Christian Roberts   42055    Reillystad         HR   23   2016-04-24\n",
      "49   Jeremiah Garrett   30957  New Danielle  Marketing   54   2023-01-09\n"
     ]
    }
   ],
   "source": [
    "# get the last n rows of the data frame\n",
    "print(df.tail(2))"
   ]
  },
  {
   "cell_type": "code",
   "execution_count": 21,
   "metadata": {},
   "outputs": [
    {
     "name": "stdout",
     "output_type": "stream",
     "text": [
      "0         Kristina Brown\n",
      "1            Kelly Moran\n",
      "2          Miranda Silva\n",
      "3           Paul Bennett\n",
      "4         Jessica Powers\n",
      "5        William Leonard\n",
      "6       Jennifer Jenkins\n",
      "7            Jason Lyons\n",
      "8         Nancy Gonzalez\n",
      "9            George Hunt\n",
      "10          Jenna Thomas\n",
      "11       Brandon Wheeler\n",
      "12    Dr. Robert Roberts\n",
      "13      Jessica Franklin\n",
      "14      Lawrence Marquez\n",
      "15       Elizabeth Smith\n",
      "16          Julia Church\n",
      "17         Destiny Lewis\n",
      "18             Pam Smith\n",
      "19         Steven Barron\n",
      "20        Tyler Morrison\n",
      "21        Adriana Patton\n",
      "22           Susan Lewis\n",
      "23            Megan Meza\n",
      "24         Donald Conley\n",
      "25      Tony Fitzpatrick\n",
      "26        William Krause\n",
      "27          Nancy Taylor\n",
      "28          Haley Little\n",
      "29        Michael Carney\n",
      "30        Crystal Zamora\n",
      "31          Lauren Jones\n",
      "32           Paul Molina\n",
      "33         Sean Brown MD\n",
      "34          Howard Miles\n",
      "35          Jacob Farmer\n",
      "36         Mathew Melton\n",
      "37            Susan Nash\n",
      "38           Dave Cooper\n",
      "39    Elizabeth Mcdaniel\n",
      "40         Harold Nguyen\n",
      "41          Kevin Rivera\n",
      "42      Elizabeth Graham\n",
      "43         Jennifer Tran\n",
      "44         Pamela Jordan\n",
      "45             Lisa Vega\n",
      "46          Louis Taylor\n",
      "47         Tyler Simpson\n",
      "48     Christian Roberts\n",
      "49      Jeremiah Garrett\n",
      "Name: Name, dtype: object\n",
      "0         Kristina Brown\n",
      "1            Kelly Moran\n",
      "2          Miranda Silva\n",
      "3           Paul Bennett\n",
      "4         Jessica Powers\n",
      "5        William Leonard\n",
      "6       Jennifer Jenkins\n",
      "7            Jason Lyons\n",
      "8         Nancy Gonzalez\n",
      "9            George Hunt\n",
      "10          Jenna Thomas\n",
      "11       Brandon Wheeler\n",
      "12    Dr. Robert Roberts\n",
      "13      Jessica Franklin\n",
      "14      Lawrence Marquez\n",
      "15       Elizabeth Smith\n",
      "16          Julia Church\n",
      "17         Destiny Lewis\n",
      "18             Pam Smith\n",
      "19         Steven Barron\n",
      "20        Tyler Morrison\n",
      "21        Adriana Patton\n",
      "22           Susan Lewis\n",
      "23            Megan Meza\n",
      "24         Donald Conley\n",
      "25      Tony Fitzpatrick\n",
      "26        William Krause\n",
      "27          Nancy Taylor\n",
      "28          Haley Little\n",
      "29        Michael Carney\n",
      "30        Crystal Zamora\n",
      "31          Lauren Jones\n",
      "32           Paul Molina\n",
      "33         Sean Brown MD\n",
      "34          Howard Miles\n",
      "35          Jacob Farmer\n",
      "36         Mathew Melton\n",
      "37            Susan Nash\n",
      "38           Dave Cooper\n",
      "39    Elizabeth Mcdaniel\n",
      "40         Harold Nguyen\n",
      "41          Kevin Rivera\n",
      "42      Elizabeth Graham\n",
      "43         Jennifer Tran\n",
      "44         Pamela Jordan\n",
      "45             Lisa Vega\n",
      "46          Louis Taylor\n",
      "47         Tyler Simpson\n",
      "48     Christian Roberts\n",
      "49      Jeremiah Garrett\n",
      "Name: Name, dtype: object\n"
     ]
    }
   ],
   "source": [
    "# get the specific column from the data frame\n",
    "print(df['Name'])\n",
    "print(df.Name)"
   ]
  },
  {
   "cell_type": "code",
   "execution_count": 22,
   "metadata": {},
   "outputs": [
    {
     "name": "stdout",
     "output_type": "stream",
     "text": [
      "                  Name  Salary             City Department  Age Date of Join\n",
      "12  Dr. Robert Roberts   51320        Lopeztown  Marketing   28   2020-08-22\n",
      "20      Tyler Morrison   91565  East Barbaraton    Finance   27   2020-10-14\n",
      "25    Tony Fitzpatrick   39705     Santiagofurt      Sales   27   2015-05-17\n",
      "29      Michael Carney   71724     Lake Russell  Marketing   27   2015-04-10\n"
     ]
    }
   ],
   "source": [
    "# find data age between 25 and 30\n",
    "fliter_age = df[(df['Age'] > 25) & (df['Age'] < 30)]\n",
    "print(fliter_age)\n"
   ]
  },
  {
   "cell_type": "code",
   "execution_count": 25,
   "metadata": {},
   "outputs": [
    {
     "name": "stdout",
     "output_type": "stream",
     "text": [
      "Aguirremouth\n",
      "Alvarezchester\n",
      "Angelicamouth\n",
      "Barryfort\n",
      "Brewerview\n",
      "Clarkberg\n",
      "Coleside\n",
      "Davidfurt\n",
      "Deanbury\n",
      "East Barbaraton\n",
      "East Kim\n",
      "East Philip\n",
      "Fieldsfort\n",
      "Fullerberg\n",
      "Garciafurt\n",
      "Hernandezton\n",
      "Hintonmouth\n",
      "Johnsonborough\n",
      "Johnsonhaven\n",
      "Jonesbury\n",
      "Lake Ashley\n",
      "Lake Brandon\n",
      "Lake Russell\n",
      "Lopeztown\n",
      "Louisburgh\n",
      "Meyerburgh\n",
      "New Amanda\n",
      "New Danielle\n",
      "Nicolemouth\n",
      "North Deannaton\n",
      "North Jamiefurt\n",
      "North Jenniferhaven\n",
      "North Martinmouth\n",
      "North Michaelside\n",
      "North Waynechester\n",
      "Port Christinaburgh\n",
      "Port Dawnmouth\n",
      "Port Nicolemouth\n",
      "Reillystad\n",
      "Romeroborough\n",
      "Santiagofurt\n",
      "Schneiderborough\n",
      "Smithchester\n",
      "South Erictown\n",
      "South Josephchester\n",
      "South Richard\n",
      "South Vincent\n",
      "Stephanieview\n",
      "Thomasfurt\n",
      "Williebury\n"
     ]
    }
   ],
   "source": [
    "# create a group by city\n",
    "group_city = df.groupby('City')\n",
    "\n",
    "# get the data of the group\n",
    "\n",
    "for city, data in group_city:\n",
    "    print(city)\n"
   ]
  },
  {
   "cell_type": "code",
   "execution_count": 26,
   "metadata": {},
   "outputs": [
    {
     "name": "stdout",
     "output_type": "stream",
     "text": [
      "City\n",
      "Aguirremouth           1\n",
      "Alvarezchester         1\n",
      "Angelicamouth          1\n",
      "Barryfort              1\n",
      "Brewerview             1\n",
      "Clarkberg              1\n",
      "Coleside               1\n",
      "Davidfurt              1\n",
      "Deanbury               1\n",
      "East Barbaraton        1\n",
      "East Kim               1\n",
      "East Philip            1\n",
      "Fieldsfort             1\n",
      "Fullerberg             1\n",
      "Garciafurt             1\n",
      "Hernandezton           1\n",
      "Hintonmouth            1\n",
      "Johnsonborough         1\n",
      "Johnsonhaven           1\n",
      "Jonesbury              1\n",
      "Lake Ashley            1\n",
      "Lake Brandon           1\n",
      "Lake Russell           1\n",
      "Lopeztown              1\n",
      "Louisburgh             1\n",
      "Meyerburgh             1\n",
      "New Amanda             1\n",
      "New Danielle           1\n",
      "Nicolemouth            1\n",
      "North Deannaton        1\n",
      "North Jamiefurt        1\n",
      "North Jenniferhaven    1\n",
      "North Martinmouth      1\n",
      "North Michaelside      1\n",
      "North Waynechester     1\n",
      "Port Christinaburgh    1\n",
      "Port Dawnmouth         1\n",
      "Port Nicolemouth       1\n",
      "Reillystad             1\n",
      "Romeroborough          1\n",
      "Santiagofurt           1\n",
      "Schneiderborough       1\n",
      "Smithchester           1\n",
      "South Erictown         1\n",
      "South Josephchester    1\n",
      "South Richard          1\n",
      "South Vincent          1\n",
      "Stephanieview          1\n",
      "Thomasfurt             1\n",
      "Williebury             1\n",
      "dtype: int64\n"
     ]
    }
   ],
   "source": [
    "# count the number of data in each group\n",
    "print(group_city.size())"
   ]
  },
  {
   "cell_type": "code",
   "execution_count": 28,
   "metadata": {},
   "outputs": [
    {
     "name": "stdout",
     "output_type": "stream",
     "text": [
      "                  Name    Salary                 City   Department  Age  \\\n",
      "0       Kristina Brown  112377.1         Johnsonhaven        Sales   38   \n",
      "1          Kelly Moran  118604.2    North Michaelside  Engineering   39   \n",
      "2        Miranda Silva   99350.9             Deanbury           HR   32   \n",
      "3         Paul Bennett   94010.4            Barryfort    Marketing   47   \n",
      "4       Jessica Powers  126529.7           Meyerburgh      Finance   48   \n",
      "5      William Leonard   63680.1          Lake Ashley           HR   22   \n",
      "6     Jennifer Jenkins   52343.5         Hernandezton  Engineering   25   \n",
      "7          Jason Lyons   80686.1            Jonesbury        Sales   39   \n",
      "8       Nancy Gonzalez  126227.2        South Vincent        Sales   56   \n",
      "9          George Hunt   35866.6           Williebury           HR   43   \n",
      "10        Jenna Thomas  117722.0     Schneiderborough  Engineering   59   \n",
      "11     Brandon Wheeler   78067.0      North Jamiefurt        Sales   57   \n",
      "12  Dr. Robert Roberts   56452.0            Lopeztown    Marketing   28   \n",
      "13    Jessica Franklin  123425.5           Thomasfurt    Marketing   24   \n",
      "14    Lawrence Marquez   50248.0             Coleside    Marketing   44   \n",
      "15     Elizabeth Smith   40319.4  South Josephchester  Engineering   32   \n",
      "16        Julia Church   82810.2         Lake Brandon      Finance   59   \n",
      "17       Destiny Lewis  118154.3            Clarkberg  Engineering   41   \n",
      "18           Pam Smith   49537.4           Fullerberg    Marketing   49   \n",
      "19       Steven Barron   58613.5       South Erictown      Finance   42   \n",
      "20      Tyler Morrison  100721.5      East Barbaraton      Finance   27   \n",
      "21      Adriana Patton   51817.7       Johnsonborough    Marketing   39   \n",
      "22         Susan Lewis  100799.6        Romeroborough      Finance   30   \n",
      "23          Megan Meza   74123.5         Smithchester           HR   30   \n",
      "24       Donald Conley   48301.0           Fieldsfort    Marketing   23   \n",
      "25    Tony Fitzpatrick   43675.5         Santiagofurt        Sales   27   \n",
      "26      William Krause   40372.2      North Deannaton  Engineering   44   \n",
      "27        Nancy Taylor  112887.5          East Philip        Sales   37   \n",
      "28        Haley Little   69000.8           Garciafurt           HR   42   \n",
      "29      Michael Carney   78896.4         Lake Russell    Marketing   27   \n",
      "30      Crystal Zamora   38031.4            Davidfurt      Finance   43   \n",
      "31        Lauren Jones   64709.7  Port Christinaburgh        Sales   42   \n",
      "32         Paul Molina   79428.8        Angelicamouth      Finance   25   \n",
      "33       Sean Brown MD  123394.7         Aguirremouth           HR   44   \n",
      "34        Howard Miles   75992.4    North Martinmouth        Sales   47   \n",
      "35        Jacob Farmer   98382.9           New Amanda           HR   60   \n",
      "36       Mathew Melton  109180.5   North Waynechester      Finance   52   \n",
      "37          Susan Nash   99448.8        Stephanieview    Marketing   23   \n",
      "38         Dave Cooper   97466.6     Port Nicolemouth    Marketing   23   \n",
      "39  Elizabeth Mcdaniel   59316.4        South Richard      Finance   51   \n",
      "40       Harold Nguyen   97807.6           Louisburgh      Finance   44   \n",
      "41        Kevin Rivera  117473.4       Alvarezchester    Marketing   43   \n",
      "42    Elizabeth Graham   47866.5           Brewerview      Finance   55   \n",
      "43       Jennifer Tran   87841.6             East Kim      Finance   42   \n",
      "44       Pamela Jordan   51445.9  North Jenniferhaven           HR   45   \n",
      "45           Lisa Vega   79317.7          Nicolemouth  Engineering   60   \n",
      "46        Louis Taylor   46775.3       Port Dawnmouth  Engineering   37   \n",
      "47       Tyler Simpson   69694.9          Hintonmouth        Sales   50   \n",
      "48   Christian Roberts   46260.5           Reillystad           HR   23   \n",
      "49    Jeremiah Garrett   34052.7         New Danielle    Marketing   54   \n",
      "\n",
      "   Date of Join  \n",
      "0    2023-11-07  \n",
      "1    2018-07-18  \n",
      "2    2024-11-22  \n",
      "3    2018-11-28  \n",
      "4    2018-10-30  \n",
      "5    2024-12-22  \n",
      "6    2017-06-14  \n",
      "7    2021-06-19  \n",
      "8    2016-03-29  \n",
      "9    2025-03-05  \n",
      "10   2016-03-02  \n",
      "11   2018-11-18  \n",
      "12   2020-08-22  \n",
      "13   2024-06-21  \n",
      "14   2020-01-06  \n",
      "15   2020-08-03  \n",
      "16   2017-11-28  \n",
      "17   2021-07-29  \n",
      "18   2021-11-24  \n",
      "19   2015-06-05  \n",
      "20   2020-10-14  \n",
      "21   2024-11-01  \n",
      "22   2016-05-08  \n",
      "23   2018-10-02  \n",
      "24   2020-02-10  \n",
      "25   2015-05-17  \n",
      "26   2018-09-16  \n",
      "27   2017-02-21  \n",
      "28   2021-09-25  \n",
      "29   2015-04-10  \n",
      "30   2018-03-10  \n",
      "31   2017-10-23  \n",
      "32   2018-02-12  \n",
      "33   2020-10-22  \n",
      "34   2020-11-17  \n",
      "35   2017-10-23  \n",
      "36   2015-04-20  \n",
      "37   2022-01-16  \n",
      "38   2018-10-22  \n",
      "39   2022-11-07  \n",
      "40   2018-10-08  \n",
      "41   2016-07-11  \n",
      "42   2021-01-30  \n",
      "43   2021-09-14  \n",
      "44   2024-07-02  \n",
      "45   2016-07-12  \n",
      "46   2017-03-03  \n",
      "47   2019-01-08  \n",
      "48   2016-04-24  \n",
      "49   2023-01-09  \n"
     ]
    }
   ],
   "source": [
    "# increase the salary with 10% for only age greater than 25\n",
    "\n",
    "df['Salary'] = df['Salary'].apply(lambda x: x*1.1 if x > 25 else x)\n",
    "\n",
    "print(df)"
   ]
  },
  {
   "cell_type": "code",
   "execution_count": 29,
   "metadata": {},
   "outputs": [],
   "source": [
    "# write the data frame to a csv file\n",
    "\n",
    "df.to_csv('dataset/employee_data_updated.csv', index=False)"
   ]
  }
 ],
 "metadata": {
  "kernelspec": {
   "display_name": "Python 3",
   "language": "python",
   "name": "python3"
  },
  "language_info": {
   "codemirror_mode": {
    "name": "ipython",
    "version": 3
   },
   "file_extension": ".py",
   "mimetype": "text/x-python",
   "name": "python",
   "nbconvert_exporter": "python",
   "pygments_lexer": "ipython3",
   "version": "3.13.2"
  }
 },
 "nbformat": 4,
 "nbformat_minor": 2
}
