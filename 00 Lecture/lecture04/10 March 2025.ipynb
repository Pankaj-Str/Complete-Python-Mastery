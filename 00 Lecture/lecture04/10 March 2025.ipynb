{
 "cells": [
  {
   "cell_type": "code",
   "execution_count": 5,
   "id": "5834cfb5-b0ba-4973-9c26-105fea750f50",
   "metadata": {},
   "outputs": [
    {
     "name": "stdout",
     "output_type": "stream",
     "text": [
      "welcome\n",
      "welcome\n"
     ]
    }
   ],
   "source": [
    "print(\"welcome\")\n",
    "print('welcome')"
   ]
  },
  {
   "cell_type": "code",
   "execution_count": 9,
   "id": "1bdb0025-dd59-4511-97a8-facfd534215d",
   "metadata": {},
   "outputs": [
    {
     "name": "stdout",
     "output_type": "stream",
     "text": [
      "\"welcome to codeswithpankaj.com\"\n",
      "'welcome to codeswithpankaj.com'\n"
     ]
    }
   ],
   "source": [
    "print('\"welcome to codeswithpankaj.com\"')\n",
    "print(\"'welcome to codeswithpankaj.com'\")"
   ]
  },
  {
   "cell_type": "code",
   "execution_count": 11,
   "id": "fd00d787-f8b2-40e2-8966-e3adbdeb7f2b",
   "metadata": {},
   "outputs": [
    {
     "name": "stdout",
     "output_type": "stream",
     "text": [
      "7986875\n"
     ]
    }
   ],
   "source": [
    "print(7986875)"
   ]
  },
  {
   "cell_type": "code",
   "execution_count": 15,
   "id": "50c88469-b607-4ca5-a25b-92c553bc5b70",
   "metadata": {},
   "outputs": [
    {
     "name": "stdout",
     "output_type": "stream",
     "text": [
      "my number is  56576\n"
     ]
    }
   ],
   "source": [
    "# join string + int\n",
    "print('my number is ',56576)"
   ]
  },
  {
   "cell_type": "code",
   "execution_count": 17,
   "id": "66d524ba-ec7e-4564-a100-d926bddfcbba",
   "metadata": {},
   "outputs": [
    {
     "name": "stdout",
     "output_type": "stream",
     "text": [
      "10\n"
     ]
    }
   ],
   "source": [
    "# variable \n",
    "x = 10\n",
    "print(x)"
   ]
  },
  {
   "cell_type": "code",
   "execution_count": 19,
   "id": "254af077-14a8-4fd2-857b-d44dcadd4cac",
   "metadata": {},
   "outputs": [
    {
     "name": "stdout",
     "output_type": "stream",
     "text": [
      "My name is :  Nishant\n",
      "My age is :  23\n",
      "My height is :  4.5\n"
     ]
    }
   ],
   "source": [
    "name = \"Nishant\"\n",
    "age = 23\n",
    "height = 4.5\n",
    "\n",
    "print(\"My name is : \",name)\n",
    "print(\"My age is : \",age)\n",
    "print(\"My height is : \",height)"
   ]
  },
  {
   "cell_type": "code",
   "execution_count": 21,
   "id": "c8578ae1-f68a-48c2-ab41-eb024604c7f5",
   "metadata": {},
   "outputs": [
    {
     "name": "stdout",
     "output_type": "stream",
     "text": [
      "300\n"
     ]
    }
   ],
   "source": [
    "number1 = 100\n",
    "number2 = 200\n",
    "result = number1 + number2\n",
    "print(result)"
   ]
  },
  {
   "cell_type": "code",
   "execution_count": 35,
   "id": "f51fe0fa-218f-4443-8f51-6632ef7124d6",
   "metadata": {},
   "outputs": [
    {
     "name": "stdout",
     "output_type": "stream",
     "text": [
      "<class 'int'>\n",
      "<class 'float'>\n",
      "<class 'str'>\n",
      "<class 'bool'>\n",
      "<class 'list'>\n",
      "<class 'tuple'>\n",
      "<class 'set'>\n"
     ]
    }
   ],
   "source": [
    "# type()\n",
    "data = 10\n",
    "print(type(data))\n",
    "data = 1.0\n",
    "print(type(data))\n",
    "data = \"Joy\"\n",
    "print(type(data))\n",
    "\n",
    "data = True\n",
    "print(type(data))\n",
    "\n",
    "data = [10,45,33,22]\n",
    "print(type(data))\n",
    "\n",
    "data = (10,45,33,22)\n",
    "print(type(data))\n",
    "\n",
    "data = {10,45,33,22}\n",
    "print(type(data))"
   ]
  }
 ],
 "metadata": {
  "kernelspec": {
   "display_name": "Python [conda env:base] *",
   "language": "python",
   "name": "conda-base-py"
  },
  "language_info": {
   "codemirror_mode": {
    "name": "ipython",
    "version": 3
   },
   "file_extension": ".py",
   "mimetype": "text/x-python",
   "name": "python",
   "nbconvert_exporter": "python",
   "pygments_lexer": "ipython3",
   "version": "3.12.7"
  }
 },
 "nbformat": 4,
 "nbformat_minor": 5
}
